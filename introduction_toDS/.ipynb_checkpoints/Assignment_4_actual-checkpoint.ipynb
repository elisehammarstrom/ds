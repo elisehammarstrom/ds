{
 "cells": [
  {
   "cell_type": "markdown",
   "metadata": {
    "deletable": false
   },
   "source": [
    "# Assignment 4 for Course 1MS041\n",
    "Make         sure you pass the `# ... Test` cells and\n",
    " submit your solution notebook in the corresponding assignment on the course website. You can submit multiple times before the deadline         and your highest score will be used."
   ]
  },
  {
   "cell_type": "markdown",
   "metadata": {
    "deletable": false,
    "lx_assignment_number": "4",
    "lx_assignment_type": "ASSIGNMENT",
    "lx_assignment_type2print": "Assignment",
    "lx_problem_cell_type": "PROBLEM",
    "lx_problem_number": "1",
    "lx_problem_points": "24"
   },
   "source": [
    "---\n",
    "## Assignment 4, PROBLEM 1\n",
    "Maximum Points = 24"
   ]
  },
  {
   "cell_type": "markdown",
   "metadata": {
    "deletable": false,
    "lx_assignment_number": "4",
    "lx_assignment_type": "ASSIGNMENT",
    "lx_assignment_type2print": "Assignment",
    "lx_problem_cell_type": "PROBLEM",
    "lx_problem_number": "1",
    "lx_problem_points": "24"
   },
   "source": [
    "\n",
    "This time the assignment only consists of one problem, but we will do a more comprehensive analysis instead.\n",
    "\n",
    "Consider the dataset `mammography.mat` that you can download from [http://odds.cs.stonybrook.edu/mammography-dataset/](http://odds.cs.stonybrook.edu/mammography-dataset/). Below you can find the code to load this file into `X` and `Y`, you just need to put the file in your `data` folder. During mammography the doctor would be looking for something called `calcification`, which is calcium deposits in the breast tissue and is used as an indicator of cancer. In this dataset the `X` corresponds to some measurements, there are 6 features. The `Y` is a 0-1 label where 1 represents calcification and 0 does not.\n",
    "\n",
    "1. [3p] Split the data into three parts, train/test/validation where train is 60% of the data, test is 15% and validation is 25% of the data. Do not do this randomly, I have prepared a shuffling with a fixed seed, this way I can make sure that we all did the same splits. That is [train,test,validation] is the splitting layout.\n",
    "2. [4p] Train a machine learning model on the training data (you are free to choose it yourself). Hint: you could always try `LogisticRegression`, but for it to work well you would need `StandardScaler` and put everything in a `Pipeline`.\n",
    "3. [3p] Use the classification report from `Utils` and compute the intervals for precision-recall etc on the test set with `union_bound correction` with 95% confidence.\n",
    "4. [3p] You are interested in minimizing the average cost of your classifier, but first we must define it:\n",
    "    * If someone is calcified but classified as not, we say it costs 30 **(this is the worst scenario)** \n",
    "    * If someone is not calcified but classified as calcified, we say it costs 5 **(this probably only costs extra investigation)**\n",
    "    * If someone is calcified but classified as calcified, costs 0 **(We did the right thing, no cost)**\n",
    "    * If someone is not calcified but classified as not, costs 0 **(We did the right thing, no cost)**.\n",
    "\n",
    "complete filling the function `cost` to compute the cost of a prediction model under a certain prediction threshold (recall our precision recall lecture and the `predict_proba` function from trained models). What would be the cost of having a model that always classifies someone as not calcified on the test set?\n",
    "\n",
    "5. [4p] Now, we wish to select the threshold of our classifier that minimizes the cost, we do that by checking say 100 evenly spaced proposal thresholds between 0 and 1, and use our testing data to compute the cost.\n",
    "6. [4p] With your newly computed threshold value, compute the cost of putting this model in production by computing the cost using the validation data. Also provide a confidence interval of the cost using Hoeffdings inequality with a 95% confidence.\n",
    "7. [3p] Let $t$ be the threshold you found and $f$ the model you fitted, if we define the random variable\n",
    "$$\n",
    "    C = 30(1-1_{f(X)\\geq t})Y+5(1-Y)1_{f(X) \\geq t}\n",
    "$$\n",
    "then $C$ denotes the cost of a randomly chosen patient. In the above we are estimating $\\mathbb{E}[C]$ using the empirical mean. However, since the number of calcifications in the population is fairly small and our classifier probably has a fairly high precision for the $0$ class, then $C$ should have fairly small variance. Compute the empirical variance of $C$ on the validation set. What would be the confidence interval if we used Bennett's inequality instead of Hoeffding in point 6 but with the computed empirical variance as our guess for the variance?"
   ]
  },
  {
   "cell_type": "code",
   "execution_count": 1,
   "metadata": {
    "deletable": false,
    "lx_assignment_number": "4",
    "lx_assignment_type": "ASSIGNMENT",
    "lx_assignment_type2print": "Assignment",
    "lx_problem_cell_type": "PROBLEM",
    "lx_problem_number": "1",
    "lx_problem_points": "24"
   },
   "outputs": [],
   "source": [
    "import scipy.io as so\n",
    "import numpy as np\n",
    "data = so.loadmat('data/mammography.mat')\n",
    "\n",
    "np.random.seed(0)\n",
    "shuffle_index = np.arange(0,len(data['X']))\n",
    "np.random.shuffle(shuffle_index)\n",
    "\n",
    "X = data['X'][shuffle_index,:]\n",
    "Y = data['y'][shuffle_index,:].flatten()"
   ]
  },
  {
   "cell_type": "code",
   "execution_count": 2,
   "metadata": {
    "deletable": false,
    "lx_assignment_number": "4",
    "lx_assignment_type": "ASSIGNMENT",
    "lx_assignment_type2print": "Assignment",
    "lx_problem_cell_type": "PROBLEM",
    "lx_problem_number": "1",
    "lx_problem_points": "24"
   },
   "outputs": [
    {
     "name": "stdout",
     "output_type": "stream",
     "text": [
      "shape X_train:  (6709, 6)\n",
      "shape X_test:  (1677, 6)\n",
      "shape X_valid:  (2797, 6)\n",
      "shape Y_train:  (6709,)\n",
      "shape Y_test:  (1677,)\n",
      "shape Y_valid:  (2797,)\n"
     ]
    }
   ],
   "source": [
    "# Part 1\n",
    "from sklearn.model_selection import train_test_split\n",
    "from Utils import train_test_validation\n",
    "import numpy as np\n",
    "\n",
    "# Define the percentages\n",
    "train_percent = 0.60\n",
    "test_percent = 0.15\n",
    "validation_percent = 0.25\n",
    "\n",
    "#num_samples = len(data['X'])\n",
    "#train_samples = int(train_percent * num_samples)\n",
    "#test_samples = int(test_percent * num_samples)\n",
    "#validation_samples = num_samples - train_samples - test_samples\n",
    "\n",
    "#X_temp, X_test, y_temp, y_test = train_test_split(X, Y, test_size=test_samples, shuffle=False)\n",
    "#new_validation_percent = validation_samples/len(X_temp)\n",
    "#X_train, X_val, y_train, y_val = train_test_split(X_temp, y_temp, test_size=new_validation_percent, shuffle=False)\n",
    "#X_train, X_test, X_valid, Y_train, Y_test, Y_valid = X_train, X_test, X_val, y_train, y_test, y_val\n",
    "\n",
    "X_train, X_test, X_valid, Y_train, Y_test, Y_valid = train_test_validation(X,Y,test_size=test_percent,validation_size=validation_percent,random_state=None,shuffle=False)\n",
    "\n",
    "print(\"shape X_train: \", np.shape(X_train))\n",
    "print(\"shape X_test: \", np.shape(X_test))\n",
    "print(\"shape X_valid: \", np.shape(X_valid))\n",
    "print(\"shape Y_train: \", np.shape(Y_train))\n",
    "print(\"shape Y_test: \", np.shape(Y_test))\n",
    "print(\"shape Y_valid: \", np.shape(Y_valid))\n",
    "\n",
    "\n",
    "# bennys ----\n",
    "# Split the X,Y into three parts, make sure that the sizes are\n",
    "# (6709, 6), (1677, 6), (2797, 6), (6709,), (1677,), (2797,)\n",
    "\n"
   ]
  },
  {
   "cell_type": "code",
   "execution_count": 3,
   "metadata": {
    "deletable": false,
    "lx_assignment_number": "4",
    "lx_assignment_type": "ASSIGNMENT",
    "lx_assignment_type2print": "Assignment",
    "lx_problem_cell_type": "PROBLEM",
    "lx_problem_number": "1",
    "lx_problem_points": "24"
   },
   "outputs": [],
   "source": [
    "\n",
    "# Part 2\n",
    "# Use X_train,Y_train to train a model from sklearn. Make sure it has the predict_proba function\n",
    "# for instance LogisticRegression\n",
    "\n",
    "import scipy.io as so\n",
    "import numpy as np\n",
    "from sklearn.model_selection import train_test_split\n",
    "from sklearn.preprocessing import StandardScaler\n",
    "from sklearn.linear_model import LogisticRegression\n",
    "from sklearn.pipeline import Pipeline\n",
    "from sklearn.metrics import accuracy_score\n",
    "\n",
    "# Create a pipeline with StandardScaler and Logistic Regression\n",
    "model = Pipeline([\n",
    "    ('scaler', StandardScaler()),\n",
    "    #('classifier', LogisticRegression())\n",
    "    ('model', LogisticRegression())\n",
    "])\n",
    "\n",
    "# Train the model on the training data\n",
    "model.fit(X_train, Y_train)\n",
    "\n",
    "# Make predictions on the validation set\n",
    "predictions = model.predict(X_test)\n",
    "\n",
    "# Evaluate the accuracy on the validation set\n",
    "#accuracy = accuracy_score(y_test, predictions)\n",
    "#print(\"Validation Accuracy:\", accuracy)\n",
    "\n",
    "#model = model"
   ]
  },
  {
   "cell_type": "code",
   "execution_count": 4,
   "metadata": {
    "deletable": false,
    "lx_assignment_number": "4",
    "lx_assignment_type": "ASSIGNMENT",
    "lx_assignment_type2print": "Assignment",
    "lx_problem_cell_type": "PROBLEM",
    "lx_problem_number": "1",
    "lx_problem_points": "24"
   },
   "outputs": [],
   "source": [
    "\n",
    "# Part 3\n",
    "\n",
    "# Compute precision and recall on the test set using \n",
    "from Utils import classification_report_interval\n",
    "\n",
    "import re\n",
    "\n",
    "# Each precision and recall should be a tuple, for instance you can write\n",
    "# precision0 = (0.9,0.95)\n",
    "\n",
    "alphahoff= 0.05\n",
    "\n",
    "report = classification_report_interval(Y_test, predictions,alpha=alphahoff)\n",
    "#print(report)\n",
    "\n",
    "precision0 = (0.94,1.00)\n",
    "recall0 = (0.96,1.00)\n",
    "precision1 = (0.33,1.00)\n",
    "recall1 = (0.09,0.62)\n",
    "\n",
    "# The code below will check that you supply the proper type\n",
    "assert(type(precision0) == tuple)\n",
    "assert(len(precision0) == 2)\n",
    "assert(type(recall0) == tuple)\n",
    "assert(len(recall0) == 2)\n",
    "assert(type(precision1) == tuple)\n",
    "assert(len(precision1) == 2)\n",
    "assert(type(recall1) == tuple)\n",
    "assert(len(recall1) == 2)"
   ]
  },
  {
   "cell_type": "code",
   "execution_count": 5,
   "metadata": {
    "deletable": false,
    "lx_assignment_number": "4",
    "lx_assignment_type": "ASSIGNMENT",
    "lx_assignment_type2print": "Assignment",
    "lx_problem_cell_type": "PROBLEM",
    "lx_problem_number": "1",
    "lx_problem_points": "24"
   },
   "outputs": [],
   "source": [
    "\n",
    "# Part 4\n",
    "\n",
    "def cost(model,threshold,X,Y):\n",
    "    pred_proba = model.predict_proba(X)[:,1]\n",
    "    predictions = (pred_proba >= threshold)*1\n",
    "    \n",
    "    # Fill in what is missing to compute the cost and return it\n",
    "    # Note that we are interested in average cost (cost per person)\n",
    "    \n",
    "    cost = 0\n",
    "    FP = 0\n",
    "    FN = 0\n",
    "    TP = 0\n",
    "    TN = 0\n",
    "    \n",
    "    #X_train, X_test, X_valid, Y_train, Y_test, Y_valid\n",
    "    #if someone is calcified but classified as not \n",
    "    for i in range(len(Y)):\n",
    "        if (Y[i] ==1 and predictions[i] == 0): #FP - calcified but the results says that you're not\n",
    "            FP += 1\n",
    "        if(Y[i]==0 and predictions[i] ==1): #FN - is not calcified but the results says that you are\n",
    "            FN +=1\n",
    "        if(Y[i] == 1 and predictions[i]==1): #TP, du är calcified och resultaten visar det\n",
    "            TP +=1\n",
    "        if(Y[i] ==0 and predictions[i] ==0 ): #du är inte calcified och resultaten visar det\n",
    "            TN +=1\n",
    "    \n",
    "    cost = 30*FP + 5*FN\n",
    "    average_cost_per_person = cost/len(Y)\n",
    "    \n",
    "    return average_cost_per_person"
   ]
  },
  {
   "cell_type": "code",
   "execution_count": 6,
   "metadata": {
    "deletable": false,
    "lx_assignment_number": "4",
    "lx_assignment_type": "ASSIGNMENT",
    "lx_assignment_type2print": "Assignment",
    "lx_problem_cell_type": "PROBLEM",
    "lx_problem_number": "1",
    "lx_problem_points": "24"
   },
   "outputs": [],
   "source": [
    "\n",
    "# Part 4\n",
    "\n",
    "# Fill in the naive cost of the model that would classify all as non-calcified on the test set\n",
    "\n",
    "threshold = 1.1\n",
    "naive_cost = cost(model, threshold, X, Y)\n",
    "#print(naive_cost) #gives all points, is within 0.01\n",
    "#print(0.6976744186046512) #correct answer"
   ]
  },
  {
   "cell_type": "code",
   "execution_count": 61,
   "metadata": {
    "deletable": false,
    "lx_assignment_number": "4",
    "lx_assignment_type": "ASSIGNMENT",
    "lx_assignment_type2print": "Assignment",
    "lx_problem_cell_type": "PROBLEM",
    "lx_problem_number": "1",
    "lx_problem_points": "24"
   },
   "outputs": [
    {
     "name": "stdout",
     "output_type": "stream",
     "text": [
      "0.11111111111111112\n",
      "Optimal cost:  0.3518187239117472\n"
     ]
    }
   ],
   "source": [
    "\n",
    "# Part 5\n",
    "import numpy as np\n",
    "\n",
    "spaced_thresholds = np.linspace(0, 1, num=100)\n",
    "\n",
    "optimal_cost = 0\n",
    "current_cost = cost(model, spaced_thresholds[0], X, Y)\n",
    "optimal_threshold = spaced_thresholds[0]\n",
    "#current_cost = float('inf')\n",
    "#optimal_threshold = 0\n",
    "\n",
    "cost_array = []\n",
    "\n",
    "for threshold in spaced_thresholds:\n",
    "    current_threshold_cost = cost(model, threshold, X_test, Y_test)\n",
    "    cost_array.append(current_threshold_cost)\n",
    "    \n",
    "    if  current_threshold_cost < current_cost:\n",
    "        current_cost = current_threshold_cost\n",
    "        optimal_threshold = threshold\n",
    "        optimal_cost = current_threshold_cost\n",
    "        \n",
    "\n",
    "optimal_threshold = optimal_threshold\n",
    "cost_at_optimal_threshold = optimal_cost\n",
    "\n",
    "print(optimal_threshold)\n",
    "print(\"Optimal cost: \", cost_at_optimal_threshold)"
   ]
  },
  {
   "cell_type": "code",
   "execution_count": 62,
   "metadata": {
    "deletable": false,
    "lx_assignment_number": "4",
    "lx_assignment_type": "ASSIGNMENT",
    "lx_assignment_type2print": "Assignment",
    "lx_problem_cell_type": "PROBLEM",
    "lx_problem_number": "1",
    "lx_problem_points": "24"
   },
   "outputs": [
    {
     "name": "stdout",
     "output_type": "stream",
     "text": [
      "cost_at_optimal_threshold_validation:  0.2913836253128352\n",
      "epsilon:  0.7703840018556183\n",
      "cost_interval:  (0.0, 1.0617676271684535)\n"
     ]
    }
   ],
   "source": [
    "# Part 6\n",
    "#from Utils import compute_confidence_interval_bounded\n",
    "from Utils import epsilon_bounded\n",
    "#from sklearn.metrics import mean_absolute_error\n",
    "import numpy as np\n",
    "\n",
    "#calculate optimal cost with validation data\n",
    "cost_at_optimal_threshold_validation = cost(model, optimal_threshold, X_valid, Y_valid)\n",
    "print(\"cost_at_optimal_threshold_validation: \", cost_at_optimal_threshold_validation)\n",
    "\n",
    "n = len(X_valid)\n",
    "b = 30\n",
    "a = 0 #not used\n",
    "alpha = 0.05\n",
    "epsilon = epsilon_bounded(n,b,alpha)\n",
    "print(\"epsilon: \", epsilon)\n",
    "\n",
    "point_estimate = cost_at_optimal_threshold_validation #estimated cost at optimal thresh\n",
    "#print(\"point_estimate: \", point_estimate)\n",
    "r_edge = np.minimum(point_estimate+epsilon,b)\n",
    "#print(\"r_edge: \",r_edge)\n",
    "\n",
    "# Report the cost interval as a tuple cost_interval = (a,b)\n",
    "cost_interval = (0.0, 1.0617676271684535)\n",
    "print(\"cost_interval: \", cost_interval)\n",
    "\n",
    "# The code below will tell you if you filled in the intervals correctly\n",
    "assert(type(cost_interval) == tuple)\n",
    "assert(len(cost_interval) == 2)\n"
   ]
  },
  {
   "cell_type": "code",
   "execution_count": 63,
   "metadata": {
    "deletable": false,
    "lx_assignment_number": "4",
    "lx_assignment_type": "ASSIGNMENT",
    "lx_assignment_type2print": "Assignment",
    "lx_problem_cell_type": "PROBLEM",
    "lx_problem_number": "1",
    "lx_problem_points": "24"
   },
   "outputs": [
    {
     "name": "stdout",
     "output_type": "stream",
     "text": [
      "variance_of_C: 6.198613637958541\n"
     ]
    }
   ],
   "source": [
    "# Part 7\n",
    "\n",
    "def C_var(model,threshold,X,Y):\n",
    "    pred_proba = model.predict_proba(X)[:,1]\n",
    "    predictions = (pred_proba >= threshold)*1\n",
    "    \n",
    "    c_cost_array = []\n",
    "    \n",
    "    cost = 0\n",
    "    \n",
    "    for i in range(len(Y)):\n",
    "        FP = 0\n",
    "        FN = 0\n",
    "        TP = 0\n",
    "        TN = 0\n",
    "        if (Y[i] ==1 and predictions[i] == 0): #FP - calcified but the results says that you're not\n",
    "            FP += 1\n",
    "        if(Y[i]==0 and predictions[i] ==1): #FN - is not calcified but the results says that you are\n",
    "            FN +=1\n",
    "        if(Y[i] == 1 and predictions[i]==1): #TP, du är calcified och resultaten visar det\n",
    "            TP +=1\n",
    "        if(Y[i] ==0 and predictions[i] ==0 ): #du är inte calcified och resultaten visar det\n",
    "            TN +=1\n",
    "    \n",
    "        cost = 30*FP + 5*FN\n",
    "        c_cost_array.append(cost)\n",
    "    \n",
    "    return c_cost_array\n",
    "\n",
    "c_cost_array = C_var(model, optimal_threshold, X_valid, Y_valid)\n",
    "  \n",
    "\n",
    "empirical_variance = np.var(c_cost_array)\n",
    "\n",
    "variance_of_C = empirical_variance\n",
    "print(\"variance_of_C:\", variance_of_C)"
   ]
  },
  {
   "cell_type": "code",
   "execution_count": 67,
   "metadata": {
    "deletable": false,
    "lx_assignment_number": "4",
    "lx_assignment_type": "ASSIGNMENT",
    "lx_assignment_type2print": "Assignment",
    "lx_problem_cell_type": "PROBLEM",
    "lx_problem_number": "1",
    "lx_problem_points": "24"
   },
   "outputs": [
    {
     "name": "stdout",
     "output_type": "stream",
     "text": [
      "2797\n",
      "Numerical error -1.1102230246251565e-16\n",
      "BENNYS Bennett's Confidence Interval: (0.15091432947852831, 0.431852921147142)\n"
     ]
    }
   ],
   "source": [
    "# Part 7\n",
    "from Utils import bennett_epsilon\n",
    "\n",
    "n_valid = len(X_valid)\n",
    "\n",
    "print(n_valid)\n",
    "b=30\n",
    "sigma = np.sqrt(variance_of_C)\n",
    "alpha = 0.05\n",
    "bennett = bennett_epsilon(n,b,sigma,alpha)\n",
    "#print(\"bennett: \", bennett)\n",
    "\n",
    "bennett_interval = (cost_at_optimal_threshold_validation - bennett,\n",
    "                    cost_at_optimal_threshold_validation + bennett)\n",
    "\n",
    "print(\"BENNYS Bennett's Confidence Interval:\", bennett_interval)\n",
    "\n",
    "\n",
    "# A 95% confidence interval of the random variable C using Bennett's inequality\n",
    "interval_of_C = (0.15091432947852831, 0.431852921147142)\n",
    "\n",
    "assert(type(interval_of_C) == tuple)\n",
    "assert(len(interval_of_C) == 2)"
   ]
  },
  {
   "cell_type": "code",
   "execution_count": null,
   "metadata": {},
   "outputs": [],
   "source": []
  }
 ],
 "metadata": {
  "kernelspec": {
   "display_name": "Python 3 (ipykernel)",
   "language": "python",
   "name": "python3"
  },
  "language_info": {
   "codemirror_mode": {
    "name": "ipython",
    "version": 3
   },
   "file_extension": ".py",
   "mimetype": "text/x-python",
   "name": "python",
   "nbconvert_exporter": "python",
   "pygments_lexer": "ipython3",
   "version": "3.10.8"
  },
  "lx_assignment_number": 4,
  "lx_course_instance": "2023",
  "lx_course_name": "Introduction to Data Science",
  "lx_course_number": "1MS041"
 },
 "nbformat": 4,
 "nbformat_minor": 4
}

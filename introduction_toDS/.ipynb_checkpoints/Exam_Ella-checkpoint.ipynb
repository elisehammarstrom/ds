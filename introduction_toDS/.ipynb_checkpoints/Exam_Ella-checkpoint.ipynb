{
 "cells": [
  {
   "cell_type": "markdown",
   "metadata": {
    "deletable": false
   },
   "source": [
    "# Exam 15th of August 2023, 8.00-13.00 for the course 1MS041 (Introduction to Data Science / Introduktion till dataanalys)\n",
    "\n",
    "## Instructions:\n",
    "1. Complete the problems by following instructions.\n",
    "2. When done, submit this file with your solutions saved, following the instruction sheet.\n",
    "\n",
    "This exam has 3 problems for a total of 40 points, to pass you need\n",
    "20 points.\n",
    "\n",
    "## Some general hints and information:\n",
    "* Try to answer all questions even if you are uncertain.\n",
    "* Comment your code, so that if you get the wrong answer I can understand how you thought\n",
    "this can give you some points even though the code does not run.\n",
    "* Follow the instruction sheet rigorously.\n",
    "* This exam is partially autograded, but your code and your free text answers are manually graded anonymously.\n",
    "* If there are any questions, please ask the exam guards, they will escalate it to me if necessary.\n",
    "\n",
    "## Tips for free text answers\n",
    "* Be VERY clear with your reasoning, there should be zero ambiguity in what you are referring to.\n",
    "* If you want to include math, you can write LaTeX in the Markdown cells, for instance `$f(x)=x^2$` will be rendered as $f(x)=x^2$ and `$$f(x) = x^2$$` will become an equation line, as follows\n",
    "$$f(x) = x^2$$\n",
    "Another example is `$$f_{Y \\mid X}(y,x) = P(Y = y \\mid X = x) = \\exp(\\alpha \\cdot x + \\beta)$$` which renders as\n",
    "$$f_{Y \\mid X}(y,x) = P(Y = y \\mid X = x) = \\exp(\\alpha \\cdot x + \\beta)$$\n",
    "\n",
    "## Finally some rules:\n",
    "* You may not communicate with others during the exam, for example:\n",
    "    * You cannot ask for help in Stack-Overflow or other such help forums during the Exam.\n",
    "    * You may not communicate with AI's, for instance ChatGPT.\n",
    "    * Your on-line and off-line activity is being monitored according to the examination rules.\n",
    "\n",
    "## Good luck!"
   ]
  },
  {
   "cell_type": "code",
   "execution_count": null,
   "metadata": {
    "deletable": false
   },
   "outputs": [],
   "source": [
    "# Insert your anonymous exam ID as a string in the variable below\n",
    "examID=\"XXX\"\n"
   ]
  },
  {
   "cell_type": "markdown",
   "metadata": {
    "deletable": false,
    "lx_assignment_number": "vB",
    "lx_assignment_type": "EXAM",
    "lx_assignment_type2print": "Exam",
    "lx_problem_cell_type": "PROBLEM",
    "lx_problem_number": "1",
    "lx_problem_points": "14"
   },
   "source": [
    "---\n",
    "## Exam vB, PROBLEM 1\n",
    "Maximum Points = 14"
   ]
  },
  {
   "cell_type": "markdown",
   "metadata": {
    "deletable": false,
    "lx_assignment_number": "vB",
    "lx_assignment_type": "EXAM",
    "lx_assignment_type2print": "Exam",
    "lx_problem_cell_type": "PROBLEM",
    "lx_problem_number": "1",
    "lx_problem_points": "14"
   },
   "source": [
    "A courier company operates a fleet of delivery trucks that make deliveries to different parts of the city. The trucks are equipped with GPS tracking devices that record the location of each truck at regular intervals. The locations are divided into three regions: downtown, the suburbs, and the countryside, however there is always the possibility the truck breaks down and it goes to the workshop. The following table shows the probabilities of a truck transitioning between these regions at each time step:\n",
    "\n",
    "| Current region | Probability of transitioning to downtown | Probability of transitioning to the suburbs | Probability of transitioning to the countryside | Probability of transitioning to the Workshop |\n",
    "|-|-|-|-|-|\n",
    "| Downtown       | 0.3 | 0.7 | 0 | 0 |\n",
    "| Suburbs        | 0.2 | 0.5 | 0.3 | 0 |\n",
    "| Countryside    | 0 | 0 | 0.5 | 0.5 |\n",
    "| Workshop    | 0 | 0 | 0 | 1 |\n",
    "\n",
    "1. If a truck is currently in the downtown, what is the probability that it will be in the countryside region after 10 time steps? [2p]\n",
    "2. If a truck is currently in the downtown, what is the probability that it will be in the countryside region **the first time** after three time steps or more? [2p]\n",
    "3. Is this Markov chain irreducible? Explain your answer. [3p]\n",
    "4. What is the stationary distribution? Furthermore it it reversible? (Explain your answer) [3p]\n",
    "5. Advanced question: What is the expected number of steps it takes starting from the Downtown region to first reach the Workshop? Hint: to get within 1 decimal point, it is enough to compute the probabilities for hitting times below 50. Motivate your answer in detail [4p]. You could also solve this question by simulation, but this gives you a maximum of [2p].\n",
    "\n"
   ]
  },
  {
   "cell_type": "code",
   "execution_count": 17,
   "metadata": {
    "deletable": false,
    "lx_assignment_number": "vB",
    "lx_assignment_type": "EXAM",
    "lx_assignment_type2print": "Exam",
    "lx_problem_cell_type": "PROBLEM",
    "lx_problem_number": "1",
    "lx_problem_points": "14"
   },
   "outputs": [
    {
     "name": "stdout",
     "output_type": "stream",
     "text": [
      "0.08487353489999999\n"
     ]
    }
   ],
   "source": [
    "# Part 1\n",
    "#initialize transition matrix as given\n",
    "import numpy as np\n",
    "P = np.matrix([[0.3,0.7,0,0],[0.2,0.5,0.3,0],[0,0,0.5,0.5],[0,0,0,1]])\n",
    "# Fill in the answer to part 1 below\n",
    "n = 10                     # assign some specific time-step\n",
    "p0 = np.matrix([1,0,0,0])    # initial probability vector for initial state (e.g. dry day zero)\n",
    "pn = p0 * P**n         # probability vector for day n\n",
    "pn[0,2]                       # probability of \"countryside\"\n",
    "\n",
    "problem1_p1 = pn[0,2]\n",
    "print(problem1_p1)"
   ]
  },
  {
   "cell_type": "code",
   "execution_count": 18,
   "metadata": {
    "deletable": false,
    "lx_assignment_number": "vB",
    "lx_assignment_type": "EXAM",
    "lx_assignment_type2print": "Exam",
    "lx_problem_cell_type": "PROBLEM",
    "lx_problem_number": "1",
    "lx_problem_points": "14"
   },
   "outputs": [
    {
     "name": "stdout",
     "output_type": "stream",
     "text": [
      "0.79\n"
     ]
    }
   ],
   "source": [
    "# Part 2\n",
    "# Fill in the answer to part 2 below\n",
    "# only possible way to reach countryside too early is to go downtown -> suburbs-> countryside\n",
    "# in all other combinations, you reach the countryside after 3 time steps\n",
    "# prob. of reaching countryside already after two time steps = 0.7*0.3\n",
    "problem1_p2 = 1- 0.7*0.3\n",
    "print(problem1_p2)"
   ]
  },
  {
   "cell_type": "markdown",
   "metadata": {
    "deletable": false,
    "lx_assignment_number": "vB",
    "lx_assignment_type": "EXAM",
    "lx_assignment_type2print": "Exam",
    "lx_problem_cell_type": "PROBLEM",
    "lx_problem_number": "1",
    "lx_problem_points": "14"
   },
   "source": [
    "\n",
    "## Part 3\n",
    "\n",
    "Double click this cell to enter edit mode and write your answer for part 3 below this line.\n"
   ]
  },
  {
   "cell_type": "code",
   "execution_count": null,
   "metadata": {
    "deletable": false,
    "lx_assignment_number": "vB",
    "lx_assignment_type": "EXAM",
    "lx_assignment_type2print": "Exam",
    "lx_problem_cell_type": "PROBLEM",
    "lx_problem_number": "1",
    "lx_problem_points": "14"
   },
   "outputs": [],
   "source": [
    "# Part 3\n",
    "\n",
    "# Fill in the answer to part 3 below as a boolean\n",
    "problem1_irreducible = False\n",
    "# When the truck moves to the workshop, it can never move out again / is stuck.\n",
    "# Therefore, no other state can be reached after the truck reached the workshop\n",
    "# -> not irreducable"
   ]
  },
  {
   "cell_type": "code",
   "execution_count": 20,
   "metadata": {
    "deletable": false,
    "lx_assignment_number": "vB",
    "lx_assignment_type": "EXAM",
    "lx_assignment_type2print": "Exam",
    "lx_problem_cell_type": "PROBLEM",
    "lx_problem_number": "1",
    "lx_problem_points": "14"
   },
   "outputs": [
    {
     "name": "stdout",
     "output_type": "stream",
     "text": [
      "[[3.55866532e-105 8.67065843e-105 9.05399445e-105 1.00000000e+000]]\n"
     ]
    }
   ],
   "source": [
    "# Part 4\n",
    "import numpy as np\n",
    "# Fill in the answer to part 4 below\n",
    "# the answer should be a numpy array of length 3\n",
    "# make sure that the entries sums to 1!\n",
    "import numpy as np\n",
    "res = np.linalg.matrix_power(P,1000)\n",
    "print(res[1,:])\n",
    "problem1_stationary = [0,0,0,1]\n",
    "problem1_reversible = False\n",
    "# the markov chain is reducable and therefore also not reversible.\n",
    "# From state \"workshop\" you can never go back to any other state."
   ]
  },
  {
   "cell_type": "markdown",
   "metadata": {
    "deletable": false,
    "lx_assignment_number": "vB",
    "lx_assignment_type": "EXAM",
    "lx_assignment_type2print": "Exam",
    "lx_problem_cell_type": "PROBLEM",
    "lx_problem_number": "1",
    "lx_problem_points": "14"
   },
   "source": [
    "# Part 4\n",
    "\n",
    "Double click this cell and write your motivation below this line\n",
    "\n"
   ]
  },
  {
   "cell_type": "markdown",
   "metadata": {
    "deletable": false,
    "lx_assignment_number": "vB",
    "lx_assignment_type": "EXAM",
    "lx_assignment_type2print": "Exam",
    "lx_problem_cell_type": "PROBLEM",
    "lx_problem_number": "1",
    "lx_problem_points": "14"
   },
   "source": [
    "\n",
    "## Part 5\n",
    "\n",
    "Double click this cell to enter edit mode and write your answer for part 5 below this line.\n"
   ]
  },
  {
   "cell_type": "code",
   "execution_count": 30,
   "metadata": {
    "deletable": false,
    "lx_assignment_number": "vB",
    "lx_assignment_type": "EXAM",
    "lx_assignment_type2print": "Exam",
    "lx_problem_cell_type": "PROBLEM",
    "lx_problem_number": "1",
    "lx_problem_points": "14"
   },
   "outputs": [
    {
     "name": "stdout",
     "output_type": "stream",
     "text": [
      "7.713315600321836\n"
     ]
    }
   ],
   "source": [
    "# Part 5\n",
    "\n",
    "# Fill in the answer to part 5 below\n",
    "# That is, the expected number of steps\n",
    "\n",
    "P1 = np.matrix([[0.3,0.7,0],[0.2,0.5,0.3],[0,0,0.5]])\n",
    "p0 = np.matrix((1,0,0)) \n",
    "solution = np.sum([t*p0@np.linalg.matrix_power(P1,t-1)@np.array([P[0,3],P[1,3],P[2,3]])for t in range(1,50)])\n",
    "print(solution)\n",
    "problem1_ET = solution"
   ]
  },
  {
   "cell_type": "markdown",
   "metadata": {
    "deletable": false,
    "lx_assignment_number": "vB",
    "lx_assignment_type": "EXAM",
    "lx_assignment_type2print": "Exam",
    "lx_problem_cell_type": "PROBLEM",
    "lx_problem_number": "2",
    "lx_problem_points": "13"
   },
   "source": [
    "---\n",
    "## Exam vB, PROBLEM 2\n",
    "Maximum Points = 13"
   ]
  },
  {
   "cell_type": "markdown",
   "metadata": {
    "deletable": false,
    "lx_assignment_number": "vB",
    "lx_assignment_type": "EXAM",
    "lx_assignment_type2print": "Exam",
    "lx_problem_cell_type": "PROBLEM",
    "lx_problem_number": "2",
    "lx_problem_points": "13"
   },
   "source": [
    "\n",
    "You are given a \"Data Science Salaries\" dataset found in `data/salaries.csv`, which contains employment information of data scientists up to 2023 and the salary obtained. Your task is to train a `linear regression` model to predict the salary of a data scientist based on the employment information.\n",
    "\n",
    "To evaluate your model, you will split the dataset into a training set and a testing set. You will use the training set to train your model, and the testing set to evaluate its performance.\n",
    "\n",
    "`Experience level`: 0 = Entry Level, 1 = Mid Level, 2 = Senior Level, 3 = Executive Level.\n",
    "\n",
    "`Employment type`: 0 = Part Time, 1 = Full Time, 2 = Contractor, 3 = Freelancer\n",
    "\n",
    "1. Load the data into a pandas dataframe `problem2_df`. Based on the column names, figure out what are the features and the target and fill in the answer in the correct cell below. [1p]\n",
    "2. Split the data into train and test. [1p]\n",
    "3. Train the model. [1p]\n",
    "4. Come up with a reasonable metric and compute it. Provide plots that show the performance of the model. Reason about the performance. [4p]\n",
    "5. Predict the 2023 salary of a data scientist that works full time (1) at mid employment level (1) with 0 remote ratio. Then, looking at the output of `problem2_model.coef_`, which are the coefficients of the linear model, would a higher remote ratio result in a higher predicted salary or vice versa? [3p]\n",
    "6. Advanced question: On the test set, plot the empirical distribution function of the residual with confidence bands (i.e. using the DKW inequality and 95% confidence). What does the confidence band tell us? What can the confidence band be used for? [3p]\n"
   ]
  },
  {
   "cell_type": "code",
   "execution_count": 33,
   "metadata": {
    "deletable": false,
    "lx_assignment_number": "vB",
    "lx_assignment_type": "EXAM",
    "lx_assignment_type2print": "Exam",
    "lx_problem_cell_type": "PROBLEM",
    "lx_problem_number": "2",
    "lx_problem_points": "13"
   },
   "outputs": [],
   "source": [
    "# Part 1\n",
    "# Let problem2_df be the pandas dataframe that contains the data from the file\n",
    "# data/abalone.csv\n",
    "import pandas as pd\n",
    "problem2_df = pd.read_csv(\"salaries.csv.xls\")\n"
   ]
  },
  {
   "cell_type": "code",
   "execution_count": 37,
   "metadata": {},
   "outputs": [
    {
     "data": {
      "text/html": [
       "<div>\n",
       "<style scoped>\n",
       "    .dataframe tbody tr th:only-of-type {\n",
       "        vertical-align: middle;\n",
       "    }\n",
       "\n",
       "    .dataframe tbody tr th {\n",
       "        vertical-align: top;\n",
       "    }\n",
       "\n",
       "    .dataframe thead th {\n",
       "        text-align: right;\n",
       "    }\n",
       "</style>\n",
       "<table border=\"1\" class=\"dataframe\">\n",
       "  <thead>\n",
       "    <tr style=\"text-align: right;\">\n",
       "      <th></th>\n",
       "      <th>work_year</th>\n",
       "      <th>experience_level</th>\n",
       "      <th>employment_type</th>\n",
       "      <th>salary_in_usd</th>\n",
       "      <th>remote_ratio</th>\n",
       "    </tr>\n",
       "  </thead>\n",
       "  <tbody>\n",
       "    <tr>\n",
       "      <th>0</th>\n",
       "      <td>2023</td>\n",
       "      <td>2</td>\n",
       "      <td>1</td>\n",
       "      <td>85847</td>\n",
       "      <td>100</td>\n",
       "    </tr>\n",
       "    <tr>\n",
       "      <th>1</th>\n",
       "      <td>2023</td>\n",
       "      <td>1</td>\n",
       "      <td>2</td>\n",
       "      <td>30000</td>\n",
       "      <td>100</td>\n",
       "    </tr>\n",
       "    <tr>\n",
       "      <th>2</th>\n",
       "      <td>2023</td>\n",
       "      <td>1</td>\n",
       "      <td>2</td>\n",
       "      <td>25500</td>\n",
       "      <td>100</td>\n",
       "    </tr>\n",
       "    <tr>\n",
       "      <th>3</th>\n",
       "      <td>2023</td>\n",
       "      <td>2</td>\n",
       "      <td>1</td>\n",
       "      <td>175000</td>\n",
       "      <td>100</td>\n",
       "    </tr>\n",
       "    <tr>\n",
       "      <th>4</th>\n",
       "      <td>2023</td>\n",
       "      <td>2</td>\n",
       "      <td>1</td>\n",
       "      <td>120000</td>\n",
       "      <td>100</td>\n",
       "    </tr>\n",
       "    <tr>\n",
       "      <th>...</th>\n",
       "      <td>...</td>\n",
       "      <td>...</td>\n",
       "      <td>...</td>\n",
       "      <td>...</td>\n",
       "      <td>...</td>\n",
       "    </tr>\n",
       "    <tr>\n",
       "      <th>3750</th>\n",
       "      <td>2020</td>\n",
       "      <td>2</td>\n",
       "      <td>1</td>\n",
       "      <td>412000</td>\n",
       "      <td>100</td>\n",
       "    </tr>\n",
       "    <tr>\n",
       "      <th>3751</th>\n",
       "      <td>2021</td>\n",
       "      <td>1</td>\n",
       "      <td>1</td>\n",
       "      <td>151000</td>\n",
       "      <td>100</td>\n",
       "    </tr>\n",
       "    <tr>\n",
       "      <th>3752</th>\n",
       "      <td>2020</td>\n",
       "      <td>0</td>\n",
       "      <td>1</td>\n",
       "      <td>105000</td>\n",
       "      <td>100</td>\n",
       "    </tr>\n",
       "    <tr>\n",
       "      <th>3753</th>\n",
       "      <td>2020</td>\n",
       "      <td>0</td>\n",
       "      <td>2</td>\n",
       "      <td>100000</td>\n",
       "      <td>100</td>\n",
       "    </tr>\n",
       "    <tr>\n",
       "      <th>3754</th>\n",
       "      <td>2021</td>\n",
       "      <td>2</td>\n",
       "      <td>1</td>\n",
       "      <td>94665</td>\n",
       "      <td>50</td>\n",
       "    </tr>\n",
       "  </tbody>\n",
       "</table>\n",
       "<p>3755 rows × 5 columns</p>\n",
       "</div>"
      ],
      "text/plain": [
       "      work_year  experience_level  employment_type  salary_in_usd  \\\n",
       "0          2023                 2                1          85847   \n",
       "1          2023                 1                2          30000   \n",
       "2          2023                 1                2          25500   \n",
       "3          2023                 2                1         175000   \n",
       "4          2023                 2                1         120000   \n",
       "...         ...               ...              ...            ...   \n",
       "3750       2020                 2                1         412000   \n",
       "3751       2021                 1                1         151000   \n",
       "3752       2020                 0                1         105000   \n",
       "3753       2020                 0                2         100000   \n",
       "3754       2021                 2                1          94665   \n",
       "\n",
       "      remote_ratio  \n",
       "0              100  \n",
       "1              100  \n",
       "2              100  \n",
       "3              100  \n",
       "4              100  \n",
       "...            ...  \n",
       "3750           100  \n",
       "3751           100  \n",
       "3752           100  \n",
       "3753           100  \n",
       "3754            50  \n",
       "\n",
       "[3755 rows x 5 columns]"
      ]
     },
     "execution_count": 37,
     "metadata": {},
     "output_type": "execute_result"
    }
   ],
   "source": [
    "problem2_df"
   ]
  },
  {
   "cell_type": "code",
   "execution_count": 38,
   "metadata": {
    "deletable": false,
    "lx_assignment_number": "vB",
    "lx_assignment_type": "EXAM",
    "lx_assignment_type2print": "Exam",
    "lx_problem_cell_type": "PROBLEM",
    "lx_problem_number": "2",
    "lx_problem_points": "13"
   },
   "outputs": [],
   "source": [
    "# Part 1\n",
    "\n",
    "# Fill in the features as a list of strings of the names of the columns\n",
    "\n",
    "problem2_features = [\"work_year\",\"experience_level\",\"employment_type\",\"remote_ratio\"]\n",
    "\n",
    "# Fill in the target as a string with the correct column name\n",
    "\n",
    "problem2_target = \"salary_in_usd\""
   ]
  },
  {
   "cell_type": "code",
   "execution_count": 39,
   "metadata": {
    "deletable": false,
    "lx_assignment_number": "vB",
    "lx_assignment_type": "EXAM",
    "lx_assignment_type2print": "Exam",
    "lx_problem_cell_type": "PROBLEM",
    "lx_problem_number": "2",
    "lx_problem_points": "13"
   },
   "outputs": [],
   "source": [
    "# Part 2\n",
    "\n",
    "\n",
    "# Split the data into train and test using train_test_split\n",
    "# keep the train size as 0.8 and use random_state=42\n",
    "from sklearn.model_selection import train_test_split\n",
    "problem2_X_train,problem2_X_test,problem2_y_train,problem2_y_test = train_test_split(problem2_df[problem2_features],problem2_df[problem2_target],train_size=0.8,random_state=42)"
   ]
  },
  {
   "cell_type": "code",
   "execution_count": 40,
   "metadata": {
    "deletable": false,
    "lx_assignment_number": "vB",
    "lx_assignment_type": "EXAM",
    "lx_assignment_type2print": "Exam",
    "lx_problem_cell_type": "PROBLEM",
    "lx_problem_number": "2",
    "lx_problem_points": "13"
   },
   "outputs": [
    {
     "name": "stderr",
     "output_type": "stream",
     "text": [
      "c:\\Users\\Ellaa\\anaconda3\\envs\\ds\\Lib\\site-packages\\sklearn\\utils\\validation.py:767: FutureWarning: is_sparse is deprecated and will be removed in a future version. Check `isinstance(dtype, pd.SparseDtype)` instead.\n",
      "  if not hasattr(array, \"sparse\") and array.dtypes.apply(is_sparse).any():\n",
      "c:\\Users\\Ellaa\\anaconda3\\envs\\ds\\Lib\\site-packages\\sklearn\\utils\\validation.py:605: FutureWarning: is_sparse is deprecated and will be removed in a future version. Check `isinstance(dtype, pd.SparseDtype)` instead.\n",
      "  if is_sparse(pd_dtype):\n",
      "c:\\Users\\Ellaa\\anaconda3\\envs\\ds\\Lib\\site-packages\\sklearn\\utils\\validation.py:614: FutureWarning: is_sparse is deprecated and will be removed in a future version. Check `isinstance(dtype, pd.SparseDtype)` instead.\n",
      "  if is_sparse(pd_dtype) or not is_extension_array_dtype(pd_dtype):\n",
      "c:\\Users\\Ellaa\\anaconda3\\envs\\ds\\Lib\\site-packages\\sklearn\\utils\\validation.py:605: FutureWarning: is_sparse is deprecated and will be removed in a future version. Check `isinstance(dtype, pd.SparseDtype)` instead.\n",
      "  if is_sparse(pd_dtype):\n",
      "c:\\Users\\Ellaa\\anaconda3\\envs\\ds\\Lib\\site-packages\\sklearn\\utils\\validation.py:614: FutureWarning: is_sparse is deprecated and will be removed in a future version. Check `isinstance(dtype, pd.SparseDtype)` instead.\n",
      "  if is_sparse(pd_dtype) or not is_extension_array_dtype(pd_dtype):\n"
     ]
    },
    {
     "data": {
      "text/html": [
       "<style>#sk-container-id-1 {color: black;background-color: white;}#sk-container-id-1 pre{padding: 0;}#sk-container-id-1 div.sk-toggleable {background-color: white;}#sk-container-id-1 label.sk-toggleable__label {cursor: pointer;display: block;width: 100%;margin-bottom: 0;padding: 0.3em;box-sizing: border-box;text-align: center;}#sk-container-id-1 label.sk-toggleable__label-arrow:before {content: \"▸\";float: left;margin-right: 0.25em;color: #696969;}#sk-container-id-1 label.sk-toggleable__label-arrow:hover:before {color: black;}#sk-container-id-1 div.sk-estimator:hover label.sk-toggleable__label-arrow:before {color: black;}#sk-container-id-1 div.sk-toggleable__content {max-height: 0;max-width: 0;overflow: hidden;text-align: left;background-color: #f0f8ff;}#sk-container-id-1 div.sk-toggleable__content pre {margin: 0.2em;color: black;border-radius: 0.25em;background-color: #f0f8ff;}#sk-container-id-1 input.sk-toggleable__control:checked~div.sk-toggleable__content {max-height: 200px;max-width: 100%;overflow: auto;}#sk-container-id-1 input.sk-toggleable__control:checked~label.sk-toggleable__label-arrow:before {content: \"▾\";}#sk-container-id-1 div.sk-estimator input.sk-toggleable__control:checked~label.sk-toggleable__label {background-color: #d4ebff;}#sk-container-id-1 div.sk-label input.sk-toggleable__control:checked~label.sk-toggleable__label {background-color: #d4ebff;}#sk-container-id-1 input.sk-hidden--visually {border: 0;clip: rect(1px 1px 1px 1px);clip: rect(1px, 1px, 1px, 1px);height: 1px;margin: -1px;overflow: hidden;padding: 0;position: absolute;width: 1px;}#sk-container-id-1 div.sk-estimator {font-family: monospace;background-color: #f0f8ff;border: 1px dotted black;border-radius: 0.25em;box-sizing: border-box;margin-bottom: 0.5em;}#sk-container-id-1 div.sk-estimator:hover {background-color: #d4ebff;}#sk-container-id-1 div.sk-parallel-item::after {content: \"\";width: 100%;border-bottom: 1px solid gray;flex-grow: 1;}#sk-container-id-1 div.sk-label:hover label.sk-toggleable__label {background-color: #d4ebff;}#sk-container-id-1 div.sk-serial::before {content: \"\";position: absolute;border-left: 1px solid gray;box-sizing: border-box;top: 0;bottom: 0;left: 50%;z-index: 0;}#sk-container-id-1 div.sk-serial {display: flex;flex-direction: column;align-items: center;background-color: white;padding-right: 0.2em;padding-left: 0.2em;position: relative;}#sk-container-id-1 div.sk-item {position: relative;z-index: 1;}#sk-container-id-1 div.sk-parallel {display: flex;align-items: stretch;justify-content: center;background-color: white;position: relative;}#sk-container-id-1 div.sk-item::before, #sk-container-id-1 div.sk-parallel-item::before {content: \"\";position: absolute;border-left: 1px solid gray;box-sizing: border-box;top: 0;bottom: 0;left: 50%;z-index: -1;}#sk-container-id-1 div.sk-parallel-item {display: flex;flex-direction: column;z-index: 1;position: relative;background-color: white;}#sk-container-id-1 div.sk-parallel-item:first-child::after {align-self: flex-end;width: 50%;}#sk-container-id-1 div.sk-parallel-item:last-child::after {align-self: flex-start;width: 50%;}#sk-container-id-1 div.sk-parallel-item:only-child::after {width: 0;}#sk-container-id-1 div.sk-dashed-wrapped {border: 1px dashed gray;margin: 0 0.4em 0.5em 0.4em;box-sizing: border-box;padding-bottom: 0.4em;background-color: white;}#sk-container-id-1 div.sk-label label {font-family: monospace;font-weight: bold;display: inline-block;line-height: 1.2em;}#sk-container-id-1 div.sk-label-container {text-align: center;}#sk-container-id-1 div.sk-container {/* jupyter's `normalize.less` sets `[hidden] { display: none; }` but bootstrap.min.css set `[hidden] { display: none !important; }` so we also need the `!important` here to be able to override the default hidden behavior on the sphinx rendered scikit-learn.org. See: https://github.com/scikit-learn/scikit-learn/issues/21755 */display: inline-block !important;position: relative;}#sk-container-id-1 div.sk-text-repr-fallback {display: none;}</style><div id=\"sk-container-id-1\" class=\"sk-top-container\"><div class=\"sk-text-repr-fallback\"><pre>LinearRegression()</pre><b>In a Jupyter environment, please rerun this cell to show the HTML representation or trust the notebook. <br />On GitHub, the HTML representation is unable to render, please try loading this page with nbviewer.org.</b></div><div class=\"sk-container\" hidden><div class=\"sk-item\"><div class=\"sk-estimator sk-toggleable\"><input class=\"sk-toggleable__control sk-hidden--visually\" id=\"sk-estimator-id-1\" type=\"checkbox\" checked><label for=\"sk-estimator-id-1\" class=\"sk-toggleable__label sk-toggleable__label-arrow\">LinearRegression</label><div class=\"sk-toggleable__content\"><pre>LinearRegression()</pre></div></div></div></div></div>"
      ],
      "text/plain": [
       "LinearRegression()"
      ]
     },
     "execution_count": 40,
     "metadata": {},
     "output_type": "execute_result"
    }
   ],
   "source": [
    "# Part 3\n",
    "\n",
    "# Include the necessary imports\n",
    "from sklearn.linear_model import LinearRegression\n",
    "# Initialize your linear regression model\n",
    "problem2_model = LinearRegression()\n",
    "\n",
    "# Train your model on the training data\n",
    "problem2_model.fit(problem2_X_train,problem2_y_train)"
   ]
  },
  {
   "cell_type": "markdown",
   "metadata": {
    "deletable": false,
    "lx_assignment_number": "vB",
    "lx_assignment_type": "EXAM",
    "lx_assignment_type2print": "Exam",
    "lx_problem_cell_type": "PROBLEM",
    "lx_problem_number": "2",
    "lx_problem_points": "13"
   },
   "source": [
    "## Part 4\n",
    "\n",
    "Double click this cell to enter edit mode and write your answer for part 4 below this line.\n"
   ]
  },
  {
   "cell_type": "code",
   "execution_count": 78,
   "metadata": {},
   "outputs": [
    {
     "data": {
      "text/plain": [
       "(751,)"
      ]
     },
     "execution_count": 78,
     "metadata": {},
     "output_type": "execute_result"
    }
   ],
   "source": [
    "problem2_y_test.shape"
   ]
  },
  {
   "cell_type": "code",
   "execution_count": 156,
   "metadata": {
    "deletable": false,
    "lx_assignment_number": "vB",
    "lx_assignment_type": "EXAM",
    "lx_assignment_type2print": "Exam",
    "lx_problem_cell_type": "PROBLEM",
    "lx_problem_number": "2",
    "lx_problem_points": "13"
   },
   "outputs": [
    {
     "name": "stdout",
     "output_type": "stream",
     "text": [
      "44488.118607673474 3161126689.5785685 0.19926672357276087\n"
     ]
    },
    {
     "name": "stderr",
     "output_type": "stream",
     "text": [
      "c:\\Users\\Ellaa\\anaconda3\\envs\\ds\\Lib\\site-packages\\sklearn\\utils\\validation.py:767: FutureWarning: is_sparse is deprecated and will be removed in a future version. Check `isinstance(dtype, pd.SparseDtype)` instead.\n",
      "  if not hasattr(array, \"sparse\") and array.dtypes.apply(is_sparse).any():\n",
      "c:\\Users\\Ellaa\\anaconda3\\envs\\ds\\Lib\\site-packages\\sklearn\\utils\\validation.py:605: FutureWarning: is_sparse is deprecated and will be removed in a future version. Check `isinstance(dtype, pd.SparseDtype)` instead.\n",
      "  if is_sparse(pd_dtype):\n",
      "c:\\Users\\Ellaa\\anaconda3\\envs\\ds\\Lib\\site-packages\\sklearn\\utils\\validation.py:614: FutureWarning: is_sparse is deprecated and will be removed in a future version. Check `isinstance(dtype, pd.SparseDtype)` instead.\n",
      "  if is_sparse(pd_dtype) or not is_extension_array_dtype(pd_dtype):\n",
      "c:\\Users\\Ellaa\\anaconda3\\envs\\ds\\Lib\\site-packages\\sklearn\\utils\\validation.py:605: FutureWarning: is_sparse is deprecated and will be removed in a future version. Check `isinstance(dtype, pd.SparseDtype)` instead.\n",
      "  if is_sparse(pd_dtype):\n",
      "c:\\Users\\Ellaa\\anaconda3\\envs\\ds\\Lib\\site-packages\\sklearn\\utils\\validation.py:614: FutureWarning: is_sparse is deprecated and will be removed in a future version. Check `isinstance(dtype, pd.SparseDtype)` instead.\n",
      "  if is_sparse(pd_dtype) or not is_extension_array_dtype(pd_dtype):\n",
      "c:\\Users\\Ellaa\\anaconda3\\envs\\ds\\Lib\\site-packages\\sklearn\\utils\\validation.py:767: FutureWarning: is_sparse is deprecated and will be removed in a future version. Check `isinstance(dtype, pd.SparseDtype)` instead.\n",
      "  if not hasattr(array, \"sparse\") and array.dtypes.apply(is_sparse).any():\n",
      "c:\\Users\\Ellaa\\anaconda3\\envs\\ds\\Lib\\site-packages\\sklearn\\utils\\validation.py:605: FutureWarning: is_sparse is deprecated and will be removed in a future version. Check `isinstance(dtype, pd.SparseDtype)` instead.\n",
      "  if is_sparse(pd_dtype):\n",
      "c:\\Users\\Ellaa\\anaconda3\\envs\\ds\\Lib\\site-packages\\sklearn\\utils\\validation.py:614: FutureWarning: is_sparse is deprecated and will be removed in a future version. Check `isinstance(dtype, pd.SparseDtype)` instead.\n",
      "  if is_sparse(pd_dtype) or not is_extension_array_dtype(pd_dtype):\n",
      "c:\\Users\\Ellaa\\anaconda3\\envs\\ds\\Lib\\site-packages\\sklearn\\utils\\validation.py:605: FutureWarning: is_sparse is deprecated and will be removed in a future version. Check `isinstance(dtype, pd.SparseDtype)` instead.\n",
      "  if is_sparse(pd_dtype):\n",
      "c:\\Users\\Ellaa\\anaconda3\\envs\\ds\\Lib\\site-packages\\sklearn\\utils\\validation.py:614: FutureWarning: is_sparse is deprecated and will be removed in a future version. Check `isinstance(dtype, pd.SparseDtype)` instead.\n",
      "  if is_sparse(pd_dtype) or not is_extension_array_dtype(pd_dtype):\n",
      "c:\\Users\\Ellaa\\anaconda3\\envs\\ds\\Lib\\site-packages\\sklearn\\utils\\validation.py:767: FutureWarning: is_sparse is deprecated and will be removed in a future version. Check `isinstance(dtype, pd.SparseDtype)` instead.\n",
      "  if not hasattr(array, \"sparse\") and array.dtypes.apply(is_sparse).any():\n",
      "c:\\Users\\Ellaa\\anaconda3\\envs\\ds\\Lib\\site-packages\\sklearn\\utils\\validation.py:605: FutureWarning: is_sparse is deprecated and will be removed in a future version. Check `isinstance(dtype, pd.SparseDtype)` instead.\n",
      "  if is_sparse(pd_dtype):\n",
      "c:\\Users\\Ellaa\\anaconda3\\envs\\ds\\Lib\\site-packages\\sklearn\\utils\\validation.py:614: FutureWarning: is_sparse is deprecated and will be removed in a future version. Check `isinstance(dtype, pd.SparseDtype)` instead.\n",
      "  if is_sparse(pd_dtype) or not is_extension_array_dtype(pd_dtype):\n",
      "c:\\Users\\Ellaa\\anaconda3\\envs\\ds\\Lib\\site-packages\\sklearn\\utils\\validation.py:605: FutureWarning: is_sparse is deprecated and will be removed in a future version. Check `isinstance(dtype, pd.SparseDtype)` instead.\n",
      "  if is_sparse(pd_dtype):\n",
      "c:\\Users\\Ellaa\\anaconda3\\envs\\ds\\Lib\\site-packages\\sklearn\\utils\\validation.py:614: FutureWarning: is_sparse is deprecated and will be removed in a future version. Check `isinstance(dtype, pd.SparseDtype)` instead.\n",
      "  if is_sparse(pd_dtype) or not is_extension_array_dtype(pd_dtype):\n",
      "c:\\Users\\Ellaa\\anaconda3\\envs\\ds\\Lib\\site-packages\\sklearn\\utils\\validation.py:767: FutureWarning: is_sparse is deprecated and will be removed in a future version. Check `isinstance(dtype, pd.SparseDtype)` instead.\n",
      "  if not hasattr(array, \"sparse\") and array.dtypes.apply(is_sparse).any():\n",
      "c:\\Users\\Ellaa\\anaconda3\\envs\\ds\\Lib\\site-packages\\sklearn\\utils\\validation.py:605: FutureWarning: is_sparse is deprecated and will be removed in a future version. Check `isinstance(dtype, pd.SparseDtype)` instead.\n",
      "  if is_sparse(pd_dtype):\n",
      "c:\\Users\\Ellaa\\anaconda3\\envs\\ds\\Lib\\site-packages\\sklearn\\utils\\validation.py:614: FutureWarning: is_sparse is deprecated and will be removed in a future version. Check `isinstance(dtype, pd.SparseDtype)` instead.\n",
      "  if is_sparse(pd_dtype) or not is_extension_array_dtype(pd_dtype):\n"
     ]
    },
    {
     "data": {
      "text/plain": [
       "<matplotlib.collections.PathCollection at 0x19a0bfd63d0>"
      ]
     },
     "execution_count": 156,
     "metadata": {},
     "output_type": "execute_result"
    },
    {
     "data": {
      "image/png": "[encoded data removed]",
      "text/plain": [
       "<Figure size 640x480 with 1 Axes>"
      ]
     },
     "metadata": {},
     "output_type": "display_data"
    }
   ],
   "source": [
    "# Part 4\n",
    "# Come up with a reasonable metric and compute it.\n",
    "# Provide plots that show the performance of the model. Reason about the performance. [4p]\n",
    "# Write the code to diagnose your model\n",
    "from sklearn.metrics import mean_absolute_error, mean_squared_error, r2_score\n",
    "\n",
    "MAE = mean_absolute_error(problem2_y_test,problem2_model.predict(problem2_X_test))\n",
    "MSE = mean_squared_error(problem2_y_test,problem2_model.predict(problem2_X_test))\n",
    "R2 = r2_score(problem2_y_test,problem2_model.predict(problem2_X_test))\n",
    "\n",
    "print(MAE,MSE,R2)\n",
    "\n",
    "# use MAE, since that is the \"true error\" summed, therefore easy to interpret\n",
    "\n",
    "import matplotlib.pyplot as plt\n",
    "ind = np.array(range(751))\n",
    "plt.scatter(ind,problem2_y_test,c='blue')\n",
    "plt.scatter(ind,problem2_model.predict(problem2_X_test),c=\"orange\")"
   ]
  },
  {
   "cell_type": "markdown",
   "metadata": {
    "deletable": false,
    "lx_assignment_number": "vB",
    "lx_assignment_type": "EXAM",
    "lx_assignment_type2print": "Exam",
    "lx_problem_cell_type": "PROBLEM",
    "lx_problem_number": "2",
    "lx_problem_points": "13"
   },
   "source": [
    "## Part 5\n",
    "\n",
    "Double click this cell to enter edit mode and write your answer for part 5 below this line.\n"
   ]
  },
  {
   "cell_type": "code",
   "execution_count": 60,
   "metadata": {
    "deletable": false,
    "lx_assignment_number": "vB",
    "lx_assignment_type": "EXAM",
    "lx_assignment_type2print": "Exam",
    "lx_problem_cell_type": "PROBLEM",
    "lx_problem_number": "2",
    "lx_problem_points": "13"
   },
   "outputs": [
    {
     "name": "stdout",
     "output_type": "stream",
     "text": [
      "121940.38437091932\n"
     ]
    },
    {
     "name": "stderr",
     "output_type": "stream",
     "text": [
      "c:\\Users\\Ellaa\\anaconda3\\envs\\ds\\Lib\\site-packages\\sklearn\\base.py:439: UserWarning: X does not have valid feature names, but LinearRegression was fitted with feature names\n",
      "  warnings.warn(\n",
      "c:\\Users\\Ellaa\\anaconda3\\envs\\ds\\Lib\\site-packages\\sklearn\\utils\\validation.py:767: FutureWarning: is_sparse is deprecated and will be removed in a future version. Check `isinstance(dtype, pd.SparseDtype)` instead.\n",
      "  if not hasattr(array, \"sparse\") and array.dtypes.apply(is_sparse).any():\n",
      "c:\\Users\\Ellaa\\anaconda3\\envs\\ds\\Lib\\site-packages\\sklearn\\utils\\validation.py:605: FutureWarning: is_sparse is deprecated and will be removed in a future version. Check `isinstance(dtype, pd.SparseDtype)` instead.\n",
      "  if is_sparse(pd_dtype):\n",
      "c:\\Users\\Ellaa\\anaconda3\\envs\\ds\\Lib\\site-packages\\sklearn\\utils\\validation.py:614: FutureWarning: is_sparse is deprecated and will be removed in a future version. Check `isinstance(dtype, pd.SparseDtype)` instead.\n",
      "  if is_sparse(pd_dtype) or not is_extension_array_dtype(pd_dtype):\n"
     ]
    },
    {
     "data": {
      "text/plain": [
       "array([ 1.32911910e+04,  3.89237923e+04, -3.47903893e+03, -1.30294752e+01])"
      ]
     },
     "execution_count": 60,
     "metadata": {},
     "output_type": "execute_result"
    }
   ],
   "source": [
    "# Part 5\n",
    "\n",
    "#Predict the 2023 salary of a data scientist that works full time (1) at mid employment level (1)\n",
    "# with 0 remote ratio. Then, looking at the output of `problem2_model.coef_`, which are the coefficients\n",
    "# of the linear model, would a higher remote ratio result in a higher predicted salary or vice versa?\n",
    "\n",
    "# Put the code for part 5 below this line\n",
    "data = [[2023,1,1,0]]\n",
    "X_test = pd.DataFrame(data)\n",
    "y_predict = problem2_model.predict(X_test)\n",
    "problem2_model.coef_"
   ]
  },
  {
   "cell_type": "code",
   "execution_count": 64,
   "metadata": {
    "deletable": false,
    "lx_assignment_number": "vB",
    "lx_assignment_type": "EXAM",
    "lx_assignment_type2print": "Exam",
    "lx_problem_cell_type": "PROBLEM",
    "lx_problem_number": "2",
    "lx_problem_points": "13"
   },
   "outputs": [
    {
     "name": "stdout",
     "output_type": "stream",
     "text": [
      "121940.0\n"
     ]
    }
   ],
   "source": [
    "# Part 5\n",
    "\n",
    "# since all data in the salary column is given in int, the result is rounded to the nearest integer\n",
    "problem2_predicted_salary = np.round(y_predict[0])\n",
    "print(problem2_predicted_salary)"
   ]
  },
  {
   "cell_type": "markdown",
   "metadata": {
    "deletable": false,
    "lx_assignment_number": "vB",
    "lx_assignment_type": "EXAM",
    "lx_assignment_type2print": "Exam",
    "lx_problem_cell_type": "PROBLEM",
    "lx_problem_number": "2",
    "lx_problem_points": "13"
   },
   "source": [
    "\n",
    "## Part 6\n",
    "\n",
    "Double click this cell to enter edit mode and write your answer for part 6 below this line.\n",
    "\n"
   ]
  },
  {
   "cell_type": "code",
   "execution_count": 157,
   "metadata": {
    "deletable": false,
    "lx_assignment_number": "vB",
    "lx_assignment_type": "EXAM",
    "lx_assignment_type2print": "Exam",
    "lx_problem_cell_type": "PROBLEM",
    "lx_problem_number": "2",
    "lx_problem_points": "13"
   },
   "outputs": [
    {
     "name": "stderr",
     "output_type": "stream",
     "text": [
      "c:\\Users\\Ellaa\\anaconda3\\envs\\ds\\Lib\\site-packages\\sklearn\\utils\\validation.py:767: FutureWarning: is_sparse is deprecated and will be removed in a future version. Check `isinstance(dtype, pd.SparseDtype)` instead.\n",
      "  if not hasattr(array, \"sparse\") and array.dtypes.apply(is_sparse).any():\n",
      "c:\\Users\\Ellaa\\anaconda3\\envs\\ds\\Lib\\site-packages\\sklearn\\utils\\validation.py:605: FutureWarning: is_sparse is deprecated and will be removed in a future version. Check `isinstance(dtype, pd.SparseDtype)` instead.\n",
      "  if is_sparse(pd_dtype):\n",
      "c:\\Users\\Ellaa\\anaconda3\\envs\\ds\\Lib\\site-packages\\sklearn\\utils\\validation.py:614: FutureWarning: is_sparse is deprecated and will be removed in a future version. Check `isinstance(dtype, pd.SparseDtype)` instead.\n",
      "  if is_sparse(pd_dtype) or not is_extension_array_dtype(pd_dtype):\n"
     ]
    },
    {
     "data": {
      "image/png": "[encoded data removed]",
      "text/plain": [
       "<Figure size 640x480 with 1 Axes>"
      ]
     },
     "metadata": {},
     "output_type": "display_data"
    }
   ],
   "source": [
    "# Part 6\n",
    "\n",
    "# Put the code for part 6 below this line\n",
    "\n",
    "# On the test set, plot the empirical distribution function of the residual with confidence bands\n",
    "# (i.e. using the DKW inequality and 95% confidence). What does the confidence band tell us?\n",
    "# What can the confidence band be used for?\n",
    "\n",
    "# what should be the residual? error??\n",
    "error = np.abs(problem2_y_test -problem2_model.predict(problem2_X_test))\n",
    "from Utils import makeEDF, plotEDF\n",
    "\n",
    "edf = makeEDF(error)\n",
    "plotEDF(edf,confidence_band=True)\n",
    "       \n"
   ]
  },
  {
   "cell_type": "markdown",
   "metadata": {
    "deletable": false,
    "lx_assignment_number": "vB",
    "lx_assignment_type": "EXAM",
    "lx_assignment_type2print": "Exam",
    "lx_problem_cell_type": "PROBLEM",
    "lx_problem_number": "3",
    "lx_problem_points": "13"
   },
   "source": [
    "---\n",
    "## Exam vB, PROBLEM 3\n",
    "Maximum Points = 13"
   ]
  },
  {
   "cell_type": "markdown",
   "metadata": {
    "deletable": false,
    "lx_assignment_number": "vB",
    "lx_assignment_type": "EXAM",
    "lx_assignment_type2print": "Exam",
    "lx_problem_cell_type": "PROBLEM",
    "lx_problem_number": "3",
    "lx_problem_points": "13"
   },
   "source": [
    "\n",
    "## Random variable generation\n",
    "\n",
    "1. [4p] Using inversion sampling, construct 1000 samples from the below distribution\n",
    "$$\n",
    "    F[x] = \n",
    "    \\begin{cases}\n",
    "        0, & x \\leq 0 \\\\\n",
    "        e^x-1, & 0 < x < \\ln(2) \\\\\n",
    "        1, & x \\geq \\ln(2)\n",
    "    \\end{cases}\n",
    "$$\n",
    "2. [2p] Use the above 1000 samples to estimate the mean and variance\n",
    "3. [4p] Using the **Accept-Reject** sampler (**Algorithm 1** in TFDS notes) construct 1000 samples from the same distribution, what proposal distribution did you choose and why? What proportion of samples where accepted?\n",
    "4. [3p] Explain if it is possible to sample from the density\n",
    "$$\n",
    "    f(x) = C e^{-(x^2-2)^2}\n",
    "$$\n",
    "using the **Accept-Reject** sampler (**Algorithm 1** in TFDS notes) with sampling density given the Gaussian. Here $C$ is a constant to make sure that $f$ is a density, it between roughly $1.34$ and $1.35$."
   ]
  },
  {
   "cell_type": "code",
   "execution_count": 130,
   "metadata": {
    "deletable": false,
    "lx_assignment_number": "vB",
    "lx_assignment_type": "EXAM",
    "lx_assignment_type2print": "Exam",
    "lx_problem_cell_type": "PROBLEM",
    "lx_problem_number": "3",
    "lx_problem_points": "13"
   },
   "outputs": [
    {
     "name": "stdout",
     "output_type": "stream",
     "text": [
      "0.0010958898311687832\n"
     ]
    }
   ],
   "source": [
    "# Part 1\n",
    "import math\n",
    "# Write your code below\n",
    "n=1000\n",
    "numb = []\n",
    "for i in range(1000):\n",
    "    numb.append(np.random.uniform())\n",
    "x = [math.log(x+1) for x in numb]"
   ]
  },
  {
   "cell_type": "code",
   "execution_count": 135,
   "metadata": {
    "deletable": false,
    "lx_assignment_number": "vB",
    "lx_assignment_type": "EXAM",
    "lx_assignment_type2print": "Exam",
    "lx_problem_cell_type": "PROBLEM",
    "lx_problem_number": "3",
    "lx_problem_points": "13"
   },
   "outputs": [],
   "source": [
    "# Part 1\n",
    "\n",
    "# Put the resulting samples into the following variable\n",
    "\n",
    "problem3_samples = x"
   ]
  },
  {
   "cell_type": "code",
   "execution_count": 136,
   "metadata": {
    "deletable": false,
    "lx_assignment_number": "vB",
    "lx_assignment_type": "EXAM",
    "lx_assignment_type2print": "Exam",
    "lx_problem_cell_type": "PROBLEM",
    "lx_problem_number": "3",
    "lx_problem_points": "13"
   },
   "outputs": [
    {
     "name": "stdout",
     "output_type": "stream",
     "text": [
      "0.3920656779322649\n",
      "0.038851374976018385\n"
     ]
    }
   ],
   "source": [
    "# Part 2\n",
    "\n",
    "problem3_mean = np.mean(problem3_samples)\n",
    "print(problem3_mean)\n",
    "problem3_variance = np.var(problem3_samples)\n",
    "print(problem3_variance)"
   ]
  },
  {
   "cell_type": "code",
   "execution_count": 149,
   "metadata": {
    "deletable": false,
    "lx_assignment_number": "vB",
    "lx_assignment_type": "EXAM",
    "lx_assignment_type2print": "Exam",
    "lx_problem_cell_type": "PROBLEM",
    "lx_problem_number": "3",
    "lx_problem_points": "13"
   },
   "outputs": [
    {
     "name": "stdout",
     "output_type": "stream",
     "text": [
      "608\n"
     ]
    }
   ],
   "source": [
    "# Part 3\n",
    "\n",
    "# Write your code to solve the problem below\n",
    "\n",
    "import math\n",
    "# uniform distribution on [-1,1], since this covers points where F(x) is not continuous but it is still a uniform distribution\n",
    "# length of interval = 2\n",
    "u = np.random.uniform(size = 1000)\n",
    "samples = np.random.uniform(size = 1000)\n",
    "\n",
    "#define function F\n",
    "def F(x):\n",
    "    if x<= 0:\n",
    "        return 0\n",
    "    elif x>=math.log(2):\n",
    "        return 1\n",
    "    else:\n",
    "        return math.exp(x)-1\n",
    "    \n",
    "samp_accepted = []\n",
    "for i in range(n):\n",
    "    if u[i]<= F(samples[i]): \n",
    "        samp_accepted.append(samples[i])\n",
    "print(len(samp_accepted))"
   ]
  },
  {
   "cell_type": "code",
   "execution_count": 150,
   "metadata": {
    "deletable": false,
    "lx_assignment_number": "vB",
    "lx_assignment_type": "EXAM",
    "lx_assignment_type2print": "Exam",
    "lx_problem_cell_type": "PROBLEM",
    "lx_problem_number": "3",
    "lx_problem_points": "13"
   },
   "outputs": [
    {
     "name": "stdout",
     "output_type": "stream",
     "text": [
      "[0.40769424220021255, 0.6935687436305298, 0.10387585358874663, 0.7459640766162734, 0.931155044362544, 0.7540472140331911, 0.7652106702015142, 0.6054530494180028, 0.10102777662579199, 0.8316382253746422, 0.5012313518975152, 0.6679709591970102, 0.06376156218776607, 0.7148895055764819, 0.8069264463794601, 0.8533272707167421, 0.7329271118801063, 0.6678633233048857, 0.81030443952773, 0.352509410631323, 0.8088751579110438, 0.9307831637814659, 0.2024986041525918, 0.6631590249090397, 0.702118367883988, 0.23900481727777234, 0.9471347211047669, 0.44413259008135053, 0.9390243146173203, 0.7521699767861706, 0.39702646986861245, 0.9832472829925482, 0.7406727781948851, 0.8719375025566026, 0.49469871895891393, 0.7956502158405588, 0.834685882009008, 0.9664024633230061, 0.9214710699577482, 0.5096682719001495, 0.5192792359539514, 0.8524200605857416, 0.8014284814575463, 0.7927237497716302, 0.8080682131059338, 0.5892879100416617, 0.6163422942448599, 0.19095677978116388, 0.05010476963655275, 0.7583424669038036, 0.7311133232577622, 0.5934208388146878, 0.3748273647252509, 0.8220784135828773, 0.7292017123042686, 0.3727349797888513, 0.777839151227869, 0.5350285317973563, 0.6091291681557003, 0.6638932180710878, 0.9285264278301599, 0.5718291901132103, 0.7790928254548118, 0.6696510940565081, 0.8478579942496495, 0.4299402595900711, 0.8731354412872615, 0.562738778708189, 0.3754528831268945, 0.7274757524536537, 0.8018421870890572, 0.9125139948405302, 0.9886348468150807, 0.4624928236584174, 0.4241571559988643, 0.2601104961277637, 0.433893045181324, 0.5562734477282809, 0.9336772492921559, 0.5152722845590623, 0.43502349584062006, 0.6749194533658465, 0.6231129860369227, 0.22599709577800375, 0.602668342378561, 0.5665345610394534, 0.6301175066562421, 0.7000197332184527, 0.6512511073104937, 0.6242867235777082, 0.5151554726850797, 0.9761258232092235, 0.23737880237568887, 0.5150123356694963, 0.972457062449176, 0.7624368909183963, 0.9876727746213237, 0.29087583161370334, 0.7513581218304103, 0.4553605816115176, 0.8661546523154573, 0.6631258186790778, 0.5575240070201217, 0.7970808911061746, 0.5969281754488772, 0.7350258401125669, 0.4100009858944289, 0.983294314669638, 0.6651134183874415, 0.9319067186277271, 0.8371976440501074, 0.9755254640388684, 0.07679164976864561, 0.11836891228079838, 0.8320872640319941, 0.6458043128500391, 0.5928536417588194, 0.706753171312482, 0.8475059795737612, 0.19941394176913796, 0.9239356883555023, 0.7895692280789836, 0.652289787654278, 0.8316747421071158, 0.5499722887575842, 0.8256783252958315, 0.7949015828363862, 0.872077855225886, 0.6221254158592853, 0.9888891011756922, 0.4875601712211022, 0.8618710408968917, 0.8242821770233888, 0.6445838166928924, 0.8524365175020484, 0.9150185494736341, 0.9191125637925582, 0.6286858644501309, 0.5451611106016215, 0.8973635889555602, 0.9986980902636315, 0.5623775588345113, 0.7013225730423098, 0.6185868059379027, 0.9219987981214431, 0.8728723926699384, 0.8700287680476778, 0.5530923602121287, 0.9452487980834376, 0.1781191328721906, 0.47815272834098455, 0.8260852846241583, 0.4831822098204134, 0.9206807950101826, 0.2836749264838665, 0.6365864135734377, 0.8884988409395355, 0.6175585745551893, 0.8582376637644353, 0.5714480224123126, 0.33303162678346476, 0.8692599150331796, 0.8504868248375692, 0.9288302249093948, 0.7582963088377259, 0.6029862598084325, 0.46680834073178734, 0.7498551635133588, 0.4272657246733249, 0.8931475459175504, 0.8795439844762747, 0.3169765246834806, 0.9435856937642851, 0.7509756135295091, 0.5124196855224923, 0.6873575216924589, 0.7605593715143806, 0.968987130154221, 0.9282008571056539, 0.8629420661696724, 0.36588775023720044, 0.5843981905077998, 0.8864200519518916, 0.9036586325476346, 0.7728577697077416, 0.9346192796543656, 0.20237293412500834, 0.6350569220775909, 0.8345865237059908, 0.18179725995975204, 0.54114809135807, 0.8515144311821377, 0.8503876124775123, 0.6879529250840642, 0.9532936914478863, 0.7678477110773422, 0.38566391898723207, 0.6607290425949857, 0.47229771512005714, 0.5552840730891085, 0.5631883625668158, 0.9077571715720013, 0.8026488980586037, 0.2895375680575576, 0.8007614278153676, 0.7163190147685496, 0.7557903903900928, 0.8077889621431282, 0.9821799813095444, 0.8146247241207752, 0.7960264441122219, 0.29251520739423653, 0.8460629031253579, 0.3012720341970535, 0.47712324839644404, 0.8653094324980063, 0.14408557564845248, 0.48607050393844875, 0.7751580664835108, 0.9944042131400851, 0.4430742633590843, 0.8284274928427795, 0.49119380664641543, 0.5080992654282296, 0.559963435149186, 0.3681411442520873, 0.5523805765418507, 0.36210264870036624, 0.7803006856292306, 0.9434140292901632, 0.5316148849495405, 0.45849147011572966, 0.7951720830251725, 0.43317247290015726, 0.39225144185206007, 0.84696124666498, 0.09747678987107833, 0.6122815376871066, 0.25620547238111757, 0.9133065372760075, 0.5307416025694448, 0.42403499193842276, 0.9642429545843016, 0.9424927559098335, 0.7031352121788095, 0.5975558061984179, 0.9859250925234175, 0.5996731421857301, 0.641944817847794, 0.8085220269324039, 0.704312575384532, 0.9605375148218372, 0.9044504356228376, 0.6735256130246148, 0.7754531711700301, 0.9446932162343684, 0.9018622053332473, 0.9780073089179122, 0.5488006171258448, 0.7844267298192306, 0.7371336501598866, 0.9532312331724913, 0.6596395536506707, 0.3847165956721501, 0.8312886016971044, 0.6856326477982768, 0.3072515066369631, 0.6204948286694795, 0.6785232890054709, 0.829023793127499, 0.6346019336928808, 0.5114340914107919, 0.5561685145803794, 0.7259175136734622, 0.6847132450863559, 0.6974353723387628, 0.6229094632652802, 0.5939595652052025, 0.8478121304714973, 0.8168503580941368, 0.6333496827916144, 0.7087910487433977, 0.6859559172800824, 0.2794952545865119, 0.6390443781497565, 0.9510645117011632, 0.8998760397344859, 0.37972463460745076, 0.702858757322581, 0.6849163064047241, 0.29941268839868695, 0.9183006701255023, 0.3708163798489319, 0.43520024130914026, 0.5307151054048365, 0.1591206428530395, 0.7922354466832648, 0.255468575505008, 0.258792357634695, 0.8947284468382728, 0.9017066182565913, 0.7603651779215074, 0.9568533990563795, 0.7392570762985757, 0.6217072828569613, 0.4635034126713268, 0.5785801150488005, 0.7455875380963521, 0.4711334948189285, 0.5120058299384168, 0.7932132805053224, 0.21739252663566455, 0.45054140750139837, 0.7837279030095599, 0.8661803362273658, 0.08077892523184405, 0.7391560072717147, 0.5200409396634603, 0.5327635098656569, 0.4936987951423394, 0.15972609151678852, 0.3674043305884045, 0.9309407207894993, 0.7562914138238666, 0.9245228187917235, 0.7897798263015928, 0.8883574175947754, 0.4295790139982165, 0.9418600444882439, 0.876466708331302, 0.268937582557196, 0.4586580543365951, 0.5091825057937838, 0.4013689040031677, 0.9649263452142592, 0.2798195339959405, 0.35111521581968563, 0.44698526007666095, 0.910679875486936, 0.7053937571975455, 0.8401928965848158, 0.48099423218897885, 0.43941690464672556, 0.9508211139491549, 0.7792514216638674, 0.877576233794885, 0.6315439942485868, 0.9903652995262567, 0.8835592345827236, 0.604628589442806, 0.8131804043333142, 0.9555939279982241, 0.714759580449653, 0.5339006946305191, 0.39932311988671565, 0.9467230397836879, 0.6305731257771198, 0.9199581527457095, 0.6865850912701265, 0.6734470628637039, 0.9171269982182577, 0.7300197128548608, 0.8431528228102009, 0.8094334607154331, 0.6911436183659015, 0.3521125134462134, 0.7234798156798079, 0.7866298467821042, 0.663874207168005, 0.8968930297202579, 0.35720358959056153, 0.8642541822936595, 0.44591149740715685, 0.734703751300972, 0.5482666095408085, 0.8135779951821839, 0.6834709765363575, 0.39841075330954223, 0.8713217455937378, 0.9505810262272858, 0.7540128402432187, 0.12689362553835337, 0.8802205859536892, 0.27364324362323256, 0.16736720258716153, 0.7120688024248129, 0.7765274029987402, 0.6580840208641024, 0.9447778096781984, 0.8845653983881286, 0.2559427750504023, 0.5420241612918671, 0.9646013834702151, 0.8951164954926373, 0.6389263316811004, 0.7964368130835042, 0.7437280140089937, 0.9675674978095344, 0.3990756159605958, 0.9304539475960689, 0.1976931408455942, 0.26835714231604846, 0.785252344729167, 0.9240256052016751, 0.96559157735972, 0.7090503910576195, 0.3482467945711668, 0.39553436808345754, 0.5830620008280653, 0.8323535540890556, 0.832918898949497, 0.9171677724429288, 0.6520445417882917, 0.9819073449706248, 0.7247740161463053, 0.8813931498877712, 0.56295965684887, 0.7010417826988695, 0.8982489246536339, 0.9533404206979005, 0.9677444178084659, 0.29635958525184636, 0.856119676777, 0.9986065363210429, 0.1555336463404885, 0.3769377519032343, 0.6232202837671532, 0.5662327523027352, 0.8887715347640017, 0.7516087198648139, 0.7816431374883257, 0.9857155276448994, 0.884096286202993, 0.573886760772538, 0.9331198130247464, 0.9690536816342172, 0.40643017797521164, 0.8537683227384858, 0.47684811275709904, 0.9944716670949355, 0.9933166928740752, 0.9183783363487821, 0.5059159517489039, 0.6087796075437509, 0.2367324685846277, 0.45932958828793335, 0.6824564726271315, 0.6754031562489898, 0.944406828223687, 0.49704127391706165, 0.7206112106759868, 0.954789681558867, 0.6245574552727385, 0.7997205947953944, 0.8535449005079264, 0.9407490534971356, 0.6979268692425162, 0.5080238841099081, 0.43240790113078387, 0.9561666120385177, 0.5117832136514163, 0.5533993748614126, 0.9154930419808199, 0.681819569611233, 0.9305164253562881, 0.602060598401433, 0.6988268893103072, 0.5824809356187256, 0.18953491549747425, 0.6470997122015056, 0.6527796428827579, 0.7922163423924404, 0.7493626318626996, 0.5047932881794837, 0.48811921736477615, 0.893460003697616, 0.9177230554409233, 0.5742651896044868, 0.8121809744226616, 0.9365395235079204, 0.4937602062252501, 0.804714794382366, 0.9192351788977491, 0.6533599291703581, 0.6326834774754811, 0.5882899233288706, 0.5518520009148253, 0.46327275255771694, 0.4885621115755704, 0.8918726642130945, 0.699060884819508, 0.28201606605483476, 0.9955037657165151, 0.20529300216793733, 0.41405240678766164, 0.599834571590647, 0.8262806917531031, 0.946906198895729, 0.6734520189759801, 0.5818981317831552, 0.7680273545871703, 0.22915329235012238, 0.7241330652958468, 0.6899989617962538, 0.9919398005970023, 0.6843859819081504, 0.6901706213201805, 0.42284719923323943, 0.48233892603125406, 0.7247928973773686, 0.6873679029498013, 0.8314089990943441, 0.4965682338336145, 0.6220481380538351, 0.5227985700398915, 0.7119360621004037, 0.766793470589382, 0.9516252310828136, 0.9803201704904383, 0.9570907288060077, 0.5299378328728231, 0.9373107105295974, 0.24628610987108135, 0.979846917933826, 0.9116456535921842, 0.3888410513934545, 0.4655557865783826, 0.9438460464856661, 0.25319290994298094, 0.6383484671839545, 0.7638171093293414, 0.6237627045233711, 0.3533635253730062, 0.3323553689260962, 0.9488206140054146, 0.8859532767189773, 0.7942813958565412, 0.5803838734442303, 0.5629764618713103, 0.8504802934025502, 0.8665895563430812, 0.5771103123347057, 0.9749417534263531, 0.7258342241076634, 0.7152958869850717, 0.38196951027783066, 0.937191915612144, 0.41566735985389713, 0.8406726487971451, 0.8208329498673284, 0.4892014476581168, 0.8471160440072634, 0.8876540093866828, 0.9485884340241837, 0.27269521633814475, 0.8275941156050867, 0.8873163731966193, 0.8341608287519606, 0.7654402978609745, 0.8646396251423836, 0.9618457519568177, 0.8729850304024733, 0.8127308840245917, 0.989220022537335, 0.0756721459248022, 0.9784793884114172, 0.9221472054344466, 0.8846358667187504, 0.748935419054731, 0.7093041300898033, 0.47875523496512074, 0.5215840016001385, 0.8993503791961885, 0.8446072079168353, 0.32001662924701557, 0.5256018775664475, 0.6322833883468681, 0.7092513084947352, 0.35058188752798647, 0.1550453093779114, 0.3737768687789209, 0.1379870322360448, 0.5666753283165644, 0.9199877619483537, 0.9086254064861877, 0.8684839685730715, 0.531957182163646, 0.9260073717427365, 0.835765603350207, 0.7424722150601688, 0.3600408800386329, 0.8600000671414146, 0.6359290518773895, 0.9356196397581187, 0.8993918046126803, 0.9148737258553659, 0.4164669757135633, 0.9253778437897094, 0.8630412344762071, 0.748530154561091, 0.43069530406028633, 0.6102512948453677, 0.602373123837235, 0.9624480317991367, 0.9780214821985811, 0.17879762236924468, 0.7328803008400308, 0.6794076382910503]\n",
      "0.608\n"
     ]
    }
   ],
   "source": [
    "# Part 3\n",
    "\n",
    "# Write your answer in this cell below\n",
    "\n",
    "problem3_samples_accept_reject = samp_accepted\n",
    "print(problem3_samples_accept_reject)\n",
    "# Put your answer for the proportion of samples accepted below\n",
    "\n",
    "problem3_acceptance_rate = len(samp_accepted)/len(samples)\n",
    "print(problem3_acceptance_rate)"
   ]
  },
  {
   "cell_type": "markdown",
   "metadata": {
    "deletable": false,
    "lx_assignment_number": "vB",
    "lx_assignment_type": "EXAM",
    "lx_assignment_type2print": "Exam",
    "lx_problem_cell_type": "PROBLEM",
    "lx_problem_number": "3",
    "lx_problem_points": "13"
   },
   "source": [
    "# Part 3\n",
    "\n",
    "Double click this cell and write you answer for part 3 below, explain what proposal distibution you chose and why you can choose it.\n"
   ]
  },
  {
   "cell_type": "markdown",
   "metadata": {
    "deletable": false,
    "lx_assignment_number": "vB",
    "lx_assignment_type": "EXAM",
    "lx_assignment_type2print": "Exam",
    "lx_problem_cell_type": "PROBLEM",
    "lx_problem_number": "3",
    "lx_problem_points": "13"
   },
   "source": [
    "# Part 4\n",
    "\n",
    "Double click this cell and write you answer for part 4 below, explain if the Gaussian works as a proposal distribution for this density.\n",
    "\n",
    "Answer: Yes it is possible, by graphically plotting the Gaussian $\\mathcal{N}(0,1)*10$ it can be seen, that this distribution is always greater than $f(x)$. Therefore, $\\mathcal{N}(0,1)$ can be used for sampling and $M=10$. "
   ]
  },
  {
   "cell_type": "markdown",
   "metadata": {},
   "source": []
  }
 ],
 "metadata": {
  "kernelspec": {
   "display_name": "Python 3 (ipykernel)",
   "language": "python",
   "name": "python3"
  },
  "language_info": {
   "codemirror_mode": {
    "name": "ipython",
    "version": 3
   },
   "file_extension": ".py",
   "mimetype": "text/x-python",
   "name": "python",
   "nbconvert_exporter": "python",
   "pygments_lexer": "ipython3",
   "version": "3.10.8"
  },
  "lx_assignment_number": "vB",
  "lx_course_instance": "2022",
  "lx_course_name": "Introduction to Data Science",
  "lx_course_number": "1MS041"
 },
 "nbformat": 4,
 "nbformat_minor": 5
}

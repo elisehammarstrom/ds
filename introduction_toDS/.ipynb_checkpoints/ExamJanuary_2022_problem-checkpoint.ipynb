{
 "cells": [
  {
   "cell_type": "markdown",
   "metadata": {
    "deletable": false
   },
   "source": [
    "# Exam 2021, 8.00-13.00 for the course 1MS041 (Introduction to Data Science / Introduktion till dataanalys)\n",
    "\n",
    "## Instructions:\n",
    "1. Complete the problems by following instructions.\n",
    "2. When done, submit this file with your solutions saved, following the instruction sheet.\n",
    "\n",
    "This exam has 3 problems for a total of 40 points, to pass you need\n",
    "20 points.\n",
    "\n",
    "## Some general hints and information:\n",
    "* Try to answer all questions even if you are uncertain.\n",
    "* Comment your code, so that if you get the wrong answer I can understand how you thought\n",
    "this can give you some points even though the code does not run.\n",
    "* Follow the instruction sheet rigorously.\n",
    "* This exam is partially autograded, but your code and your free text answers are manually graded anonymously.\n",
    "* If there are any questions, please ask the exam guards, they will escalate it to me if necessary.\n",
    "* I (Benny) will visit the exam room at around 10:30 to see if there are any questions.\n",
    "\n",
    "## Tips for free text answers\n",
    "* Be VERY clear with your reasoning, there should be zero ambiguity in what you are referring to.\n",
    "* If you want to include math, you can write LaTeX in the Markdown cells, for instance `$f(x)=x^2$` will be rendered as $f(x)=x^2$ and `$$f(x) = x^2$$` will become an equation line, as follows\n",
    "$$f(x) = x^2$$\n",
    "Another example is `$$f_{Y \\mid X}(y,x) = P(Y = y \\mid X = x) = \\exp(\\alpha \\cdot x + \\beta)$$` which renders as\n",
    "$$f_{Y \\mid X}(y,x) = P(Y = y \\mid X = x) = \\exp(\\alpha \\cdot x + \\beta)$$\n",
    "\n",
    "## Finally some rules:\n",
    "* You may not communicate with others during the exam, for example:\n",
    "    * You cannot ask for help in Stack-Overflow or other such help forums during the Exam.\n",
    "    * You may not communicate with AI's, for instance ChatGPT.\n",
    "    * Your on-line and off-line activity is being monitored according to the examination rules.\n",
    "\n",
    "## Good luck!"
   ]
  },
  {
   "cell_type": "code",
   "execution_count": null,
   "metadata": {
    "deletable": false
   },
   "outputs": [],
   "source": [
    "# Insert your anonymous exam ID as a string in the variable below\n",
    "examID=\"XXX\"\n"
   ]
  },
  {
   "cell_type": "markdown",
   "metadata": {
    "deletable": false,
    "lx_assignment_number": "vB",
    "lx_assignment_type": "EXAM",
    "lx_assignment_type2print": "Exam",
    "lx_problem_cell_type": "PROBLEM",
    "lx_problem_number": "1",
    "lx_problem_points": "8"
   },
   "source": [
    "---\n",
    "## Exam vB, PROBLEM 1\n",
    "Maximum Points = 8"
   ]
  },
  {
   "cell_type": "markdown",
   "metadata": {
    "deletable": false,
    "lx_assignment_number": "vB",
    "lx_assignment_type": "EXAM",
    "lx_assignment_type2print": "Exam",
    "lx_problem_cell_type": "PROBLEM",
    "lx_problem_number": "1",
    "lx_problem_points": "8"
   },
   "source": [
    "\n",
    "## Probability warmup\n",
    "Let's say we have an exam question which consists of $20$ yes/no questions. \n",
    "From past performance of similar students, a randomly chosen student will know the correct answer to $N \\sim \\text{binom}(20,11/20)$ questions. Furthermore, we assume that the student will guess the answer with equal probability to each question they don't know the answer to, i.e. given $N$ we define $Z \\sim \\text{binom}(20-N,1/2)$ as the number of correctly guessed answers. Define $Y = N + Z$, i.e., $Y$ represents the number of total correct answers.\n",
    "\n",
    "We are interested in setting a deterministic threshold $T$, i.e., we would pass a student at threshold $T$ if $Y \\geq T$. Here $T \\in \\{0,1,2,\\ldots,20\\}$.\n",
    "\n",
    "1. [5p] For each threshold $T$, compute the probability that the student *knows* less than $10$ correct answers given that the student passed, i.e., $N < 10$. Put the answer in `problem11_probabilities` as a list.\n",
    "2. [3p] What is the smallest value of $T$ such that if $Y \\geq T$ then we are 90\\% certain that $N \\geq 10$?"
   ]
  },
  {
   "cell_type": "code",
   "execution_count": 75,
   "metadata": {
    "deletable": false,
    "lx_assignment_number": "vB",
    "lx_assignment_type": "EXAM",
    "lx_assignment_type2print": "Exam",
    "lx_problem_cell_type": "PROBLEM",
    "lx_problem_number": "1",
    "lx_problem_points": "8"
   },
   "outputs": [],
   "source": [
    "\n",
    "import numpy as np\n",
    "\n",
    "# Hint the PMF of N is p_N(k) where p_N is\n",
    "p = 11/20\n",
    "p_N = lambda k: binomial(20,k)*(1-p)**(20-k)*(p)**k"
   ]
  },
  {
   "cell_type": "code",
   "execution_count": 98,
   "metadata": {
    "deletable": false,
    "lx_assignment_number": "vB",
    "lx_assignment_type": "EXAM",
    "lx_assignment_type2print": "Exam",
    "lx_problem_cell_type": "PROBLEM",
    "lx_problem_number": "1",
    "lx_problem_points": "8"
   },
   "outputs": [
    {
     "name": "stdout",
     "output_type": "stream",
     "text": [
      "[1.105733232093999e-13, 4.914369920417774e-12, 1.0645071288727169e-10, 1.4974267161213718e-09, 1.5378374485226275e-08, 1.2290072241630684e-07, 7.955565374266974e-07, 4.286866803329419e-06, 1.9612826581433804e-05, 7.732359295250238e-05, 0.00026572117118016923, 0.0008031472669983553, 0.0021505045791588876, 0.005130638554170063, 0.010957498475910684, 0.021027403464428086, 0.03636517298995323, 0.056808822169372435, 0.0803020678982099, 0.102834589033799, 0.11938773451134871]\n",
      "result_array:  [1.7619798846239028e-14, 7.831021709439568e-13, 1.696286313616938e-11, 2.386141318650346e-10, 2.4505356006952936e-09, 1.9584163197590295e-08, 1.2677150105837823e-07, 6.831098909113995e-07, 3.12529323656663e-06, 1.2321472434281843e-05, 4.2342523942371784e-05, 0.00012798107968246938, 0.00034268173373914063, 0.0008175644599741045, 0.0017460714157780154, 0.0033507052926346, 0.00579477051511092, 0.009052454880283587, 0.012796090795100612, 0.016386635769098087, 0.019024370487757267]\n"
     ]
    }
   ],
   "source": [
    "T = range(0, 21)\n",
    "\n",
    "pZ = 1/2\n",
    "p_Z = lambda k: binomial(20,k)*(1-pZ)**(20-k)*(pZ)**(k)\n",
    "prob_array = []\n",
    "\n",
    "p_ten = p_N(10)\n",
    "\n",
    "for t in range(0, 21):\n",
    "    #print(\"t: \", t)\n",
    "    prob = 0\n",
    "    for n in range(0, 21):\n",
    "        #print(\"n: \", n)\n",
    "        #print(\"---z---: \", t-n)\n",
    "        if t-n >=0:\n",
    "            prob += p_N(n) * p_Z(t-n) \n",
    "    prob_array.append(prob)\n",
    "        \n",
    "print(prob_array)\n",
    "result_array = []\n",
    "\n",
    "for data in prob_array:\n",
    "    result_array.append(data * p_ten)\n",
    "print(\"result_array: \", result_array)    \n",
    "\n",
    "#X = prob_array\n",
    "#Y = p_ten\n",
    "#X_and_Y = [x*y for x,y in zip(X,Y)]\n",
    "#N_X_and_Y = sum(X_and_Y)/len(X_and_Y)\n",
    "#N_X_and_Y\n",
    "\n",
    "    \n",
    "#vi vill räkna ut N+Z >= T\n",
    "\n",
    "# Part 1: \n",
    "# replace XXX to represent P(N < 10) for T = [0,1,2,...,20], i.e. your answer should be a list\n",
    "# of length 21.\n",
    "#problem11_probabilities = [XXX,XXX,...,XXX]"
   ]
  },
  {
   "cell_type": "code",
   "execution_count": 136,
   "metadata": {},
   "outputs": [
    {
     "name": "stdout",
     "output_type": "stream",
     "text": [
      "nominator:  [0.24928935982841186, 0.24928935982830128, 0.249289359820684, 0.2492893595714299, 0.24928935442017824, 0.24928927901157769, 0.24928844784122484, 0.24928129054096412, 0.24923198469472366, 0.2489560089164611, 0.2476885646014776, 0.24304197362178775, 0.22990672138612286, 0.201809537792864, 0.15661754853942772, 0.10212910577623395, 0.05319941023435141, 0.020956459337417143, 0.005809484678961569, 0.001004366792802224, 8.118505848136362e-05]\n",
      "denominator:  [1.0, 0.9977324263038548, 0.9931972789115646, 0.9863945578231292, 0.9773242630385488, 0.9659863945578231, 0.9523809523809523, 0.9365079365079365, 0.9183673469387755, 0.8979591836734694, 0.8752834467120182, 0.8503401360544217, 0.8231292517006803, 0.7936507936507936, 0.7619047619047619, 0.7278911564625851, 0.691609977324263, 0.6530612244897959, 0.6122448979591837, 0.5691609977324263, 0.5238095238095238]\n",
      "P(N < 10 | Y >= 0) = 0.2493\n",
      "P(N < 10 | Y >= 1) = 0.2499\n",
      "P(N < 10 | Y >= 2) = 0.2510\n",
      "P(N < 10 | Y >= 3) = 0.2527\n",
      "P(N < 10 | Y >= 4) = 0.2551\n",
      "P(N < 10 | Y >= 5) = 0.2581\n",
      "P(N < 10 | Y >= 6) = 0.2618\n",
      "P(N < 10 | Y >= 7) = 0.2662\n",
      "P(N < 10 | Y >= 8) = 0.2714\n",
      "P(N < 10 | Y >= 9) = 0.2772\n",
      "P(N < 10 | Y >= 10) = 0.2830\n",
      "P(N < 10 | Y >= 11) = 0.2858\n",
      "P(N < 10 | Y >= 12) = 0.2793\n",
      "P(N < 10 | Y >= 13) = 0.2543\n",
      "P(N < 10 | Y >= 14) = 0.2056\n",
      "P(N < 10 | Y >= 15) = 0.1403\n",
      "P(N < 10 | Y >= 16) = 0.0769\n",
      "P(N < 10 | Y >= 17) = 0.0321\n",
      "P(N < 10 | Y >= 18) = 0.0095\n",
      "P(N < 10 | Y >= 19) = 0.0018\n",
      "P(N < 10 | Y >= 20) = 0.0002\n",
      "T_result: [0.24928935982841186, 0.2498559265551838, 0.2509968211893188, 0.2527278334965531, 0.2550733301607856, 0.25806707052606986, 0.2617528702332861, 0.2661817170183176, 0.2713859388898102, 0.2772464644751499, 0.28298097665609223, 0.28581736097922245, 0.2793081656509096, 0.25428001761900865, 0.2055605324579989, 0.14030821073931204, 0.07692111446999664, 0.03208957836042, 0.009488824975637229, 0.0017646444447242263, 0.0001549896571007851]\n"
     ]
    }
   ],
   "source": [
    "#jämför svaret med förra\n",
    "\n",
    "p_guess = 1/2\n",
    "p_Z = lambda k, n: binomial(n,k)*((1-p_guess)**(n-k))*((p_guess)**k)\n",
    "nominator = [] #nominator = P(N<5 !U Y>= T)\n",
    "prob_T = 0 \n",
    "joint_prob_y_ge_t = []\n",
    "y = 0\n",
    "p_y = 0\n",
    "\n",
    "for t in range(21):\n",
    "    joint_prob_n_z = 0\n",
    "    pn_sum = 0 \n",
    "    \n",
    "    for n in range(10): \n",
    "        #pn_sum += p_N(n)\n",
    "        #print(\"n: \", n)\n",
    "        #p_Z_sum = 0\n",
    "        \n",
    "        for z in range(t-n, 21-n):\n",
    "            \n",
    "            if z >= 0:\n",
    "                #print(\"T: \", t, \"n: \", n, \"z: \", z, \"y: \", n+z)\n",
    "                #print(\"p_N(n)*p_Z(z, 20-n): \", p_N(n)*p_Z(z, 20-n))\n",
    "                joint_prob_n_z += p_N(n)*p_Z(z, 20-n)   \n",
    "                   \n",
    "    nominator.append(joint_prob_n_z)\n",
    "\n",
    "print(\"nominator: \", nominator)\n",
    "\n",
    "denominator = []\n",
    "count_y_ge_t = 0 #counter for when Y >= T\n",
    "total_combinations_of_z_and_n = 21*21 #total combinations of n and z. n, z = 21\n",
    "T_result = [] #result\n",
    "\n",
    "for t in range(21):\n",
    "    count_y_ge_t = 0\n",
    "    \n",
    "    for n in range(21):\n",
    "        for z in range(21):   \n",
    "            if z + n >= t:\n",
    "                count_y_ge_t += 1\n",
    "    denominator.append(count_y_ge_t/total_combinations_of_z_and_n)\n",
    "\n",
    "print(\"denominator: \", denominator)\n",
    "\n",
    "for iterator in range(21):\n",
    "    T_result.append(nominator[iterator]/denominator[iterator])\n",
    "    print(f\"P(N < 10 | Y >= {iterator}) = {nominator[iterator]/denominator[iterator]:.4f}\")\n",
    "    \n",
    "print(\"T_result:\", T_result)\n",
    "\n"
   ]
  },
  {
   "cell_type": "code",
   "execution_count": null,
   "metadata": {
    "deletable": false,
    "lx_assignment_number": "vB",
    "lx_assignment_type": "EXAM",
    "lx_assignment_type2print": "Exam",
    "lx_problem_cell_type": "PROBLEM",
    "lx_problem_number": "1",
    "lx_problem_points": "8"
   },
   "outputs": [],
   "source": [
    "\n",
    "# Part 2: Give an integer between 0 and 20 which is the answer to 2.\n",
    "problem12_T = XXX"
   ]
  },
  {
   "cell_type": "markdown",
   "metadata": {
    "deletable": false,
    "lx_assignment_number": "vB",
    "lx_assignment_type": "EXAM",
    "lx_assignment_type2print": "Exam",
    "lx_problem_cell_type": "PROBLEM",
    "lx_problem_number": "2",
    "lx_problem_points": "8"
   },
   "source": [
    "---\n",
    "## Exam vB, PROBLEM 2\n",
    "Maximum Points = 8"
   ]
  },
  {
   "cell_type": "markdown",
   "metadata": {
    "deletable": false,
    "lx_assignment_number": "vB",
    "lx_assignment_type": "EXAM",
    "lx_assignment_type2print": "Exam",
    "lx_problem_cell_type": "PROBLEM",
    "lx_problem_number": "2",
    "lx_problem_points": "8"
   },
   "source": [
    "\n",
    "## Random variable generation and transformation\n",
    "\n",
    "The purpose of this problem is to show that you can implement your own sampler, this will be built in the following three steps:\n",
    "\n",
    "1. [2p] Implement a Linear Congruential Generator where you tested out a good combination (a large $M$ with $a,b$ satisfying the Hull-Dobell (Thm 6.8)) of parameters. Follow the instructions in the code block.\n",
    "2. [2p] Using a generator construct random numbers from the uniform $[0,1]$ distribution.\n",
    "3. [4p] Using a uniform $[0,1]$ random generator, generate samples from \n",
    "\n",
    "$$p_0(x) = \\frac{\\pi}{2}|\\sin(2\\pi x)|, \\quad x \\in [0,1] \\enspace .$$\n",
    "\n",
    "Using the **Accept-Reject** sampler (**Algorithm 1** in TFDS notes) with sampling density given by the uniform $[0,1]$ distribution."
   ]
  },
  {
   "cell_type": "code",
   "execution_count": 137,
   "metadata": {},
   "outputs": [
    {
     "name": "stdout",
     "output_type": "stream",
     "text": [
      "Requirement already satisfied: sympy in /Users/Elise/opt/anaconda3/envs/homl3/lib/python3.10/site-packages (1.12)\n",
      "Requirement already satisfied: mpmath>=0.19 in /Users/Elise/opt/anaconda3/envs/homl3/lib/python3.10/site-packages (from sympy) (1.3.0)\n",
      "Note: you may need to restart the kernel to use updated packages.\n"
     ]
    }
   ],
   "source": [
    "pip install sympy"
   ]
  },
  {
   "cell_type": "code",
   "execution_count": 138,
   "metadata": {
    "deletable": false,
    "lx_assignment_number": "vB",
    "lx_assignment_type": "EXAM",
    "lx_assignment_type2print": "Exam",
    "lx_problem_cell_type": "PROBLEM",
    "lx_problem_number": "2",
    "lx_problem_points": "8"
   },
   "outputs": [],
   "source": [
    "import math\n",
    "from sympy.ntheory import primefactors as prime_factors\n",
    "\n",
    "def hulldobell(a, b, M):\n",
    "        sequence = range(0,M-1, 1)\n",
    "        if gcd_cond1(b,M):\n",
    "            #check the other conditions\n",
    "            #print(\"check the other conditions\")\n",
    "            prime_arr = return_primes_in_M(M)\n",
    "            divide_a_minus_1_with_primes(prime_arr, a)\n",
    "            condition_3(a)\n",
    "        else:\n",
    "            print(\"Change b or M\")\n",
    "        #return print(sequence)\n",
    "    \n",
    "def gcd_cond1(b,M):\n",
    "    b_div_M = math.gcd(b, M)\n",
    "    #print(\"b_div_M: \", b_div_M)\n",
    "    if b_div_M != 1:\n",
    "        print(\"Not good sequence, doesnt fulfill condition 1\")\n",
    "        return False\n",
    "    return True\n",
    "\n",
    "        \n",
    "def return_primes_in_M(M):\n",
    "    prime_arr = []\n",
    "    prime_arr = prime_factors(M)\n",
    "    return prime_arr\n",
    "    \n",
    "def divide_a_minus_1_with_primes(prime_array, a):\n",
    "    for prime in prime_array:\n",
    "        #print(\"prime:\", prime)\n",
    "        if (a-1) % prime != 0:\n",
    "            print(\"Change a, doesnt fulfill condition 2\")\n",
    "        break;\n",
    "                \n",
    "def condition_3(a):\n",
    "    if (a-1) % 4 != 0: \n",
    "        print(\"Change a, doesn't fulfill condition 3\")\n",
    "\n",
    "def problem2_LCG(size=None, seed = 0):\n",
    "    \"\"\"\n",
    "    A linear congruential generator that generates pseudo random numbers according to size.\n",
    "    \n",
    "    Parameters\n",
    "    -------------\n",
    "    size : an integer denoting how many samples should be produced\n",
    "    seed : the starting point of the LCG, i.e. u0 in the notes.\n",
    "    \n",
    "    Returns\n",
    "    -------------\n",
    "    out : a list of the pseudo random numbers\n",
    "    \"\"\"\n",
    "    \n",
    "    a = 1103515245\n",
    "    b=12345\n",
    "    M = 2**32 #later test with 2**64\n",
    "    \n",
    "    hulldobell(a,b,M)\n",
    "    \n",
    "    #generate pseudorandom numbers\n",
    "    random_variables = []\n",
    "    random_var = seed\n",
    "    \n",
    "    for _ in range(size):\n",
    "        random_var = (a*random_var + b) % M\n",
    "        random_variables.append(random_var)\n",
    "    \n",
    "    #print(random_variables)\n",
    "    return random_variables"
   ]
  },
  {
   "cell_type": "code",
   "execution_count": 139,
   "metadata": {
    "deletable": false,
    "lx_assignment_number": "vB",
    "lx_assignment_type": "EXAM",
    "lx_assignment_type2print": "Exam",
    "lx_problem_cell_type": "PROBLEM",
    "lx_problem_number": "2",
    "lx_problem_points": "8"
   },
   "outputs": [],
   "source": [
    "\n",
    "def problem2_uniform(generator=None, period = 1, size=None, seed=0):\n",
    "    \"\"\"\n",
    "    Takes a generator and produces samples from the uniform [0,1] distribution according\n",
    "    to size.\n",
    "    \n",
    "    Parameters\n",
    "    -------------\n",
    "    generator : a function of type generator(size,seed) and produces the same result as problem2_LCG, i.e. pseudo random numbers in the range {0,1,...,period-1}\n",
    "    period : the period of the generator\n",
    "    seed : the seed to be used in the generator provided\n",
    "    size : an integer denoting how many samples should be produced\n",
    "    \n",
    "    Returns\n",
    "    --------------\n",
    "    out : a list of the uniform pseudo random numbers\n",
    "    \"\"\"\n",
    "    \n",
    "    random_num = generator(size, seed)\n",
    "    uniform_num_arr = []\n",
    "    \n",
    "    for num in random_num:\n",
    "        uniform_num = num/period\n",
    "        uniform_num_arr.append(uniform_num)\n",
    "        \n",
    "        \n",
    "    \n",
    "    return uniform_num_arr"
   ]
  },
  {
   "cell_type": "code",
   "execution_count": 7,
   "metadata": {
    "deletable": false,
    "lx_assignment_number": "vB",
    "lx_assignment_type": "EXAM",
    "lx_assignment_type2print": "Exam",
    "lx_problem_cell_type": "PROBLEM",
    "lx_problem_number": "2",
    "lx_problem_points": "8"
   },
   "outputs": [],
   "source": [
    "\n",
    "def problem2_accept_reject(uniformGenerator=None, size=None, seed=0):\n",
    "    \"\"\"\n",
    "    Takes a generator that produces uniform pseudo random [0,1] numbers \n",
    "    and produces samples from (pi/2)*abs(sin(x*2*pi)) using an Accept-Reject\n",
    "    sampler with the uniform distribution as the proposal distribution\n",
    "    \n",
    "    Parameters\n",
    "    -------------\n",
    "    generator : a function of the type generator(size,seed) that produces uniform pseudo random\n",
    "    numbers from [0,1]\n",
    "    seed : the seed to be used in the generator provided\n",
    "    size : an integer denoting how many samples should be produced\n",
    "    \n",
    "    Returns\n",
    "    --------------\n",
    "    out : a list of the pseudo random numbers with the specified distribution\n",
    "    \"\"\"\n",
    "    \n",
    "    XXX\n",
    "    \n",
    "    return XXX"
   ]
  },
  {
   "cell_type": "markdown",
   "metadata": {
    "deletable": false,
    "lx_assignment_number": "vB",
    "lx_assignment_type": "EXAM",
    "lx_assignment_type2print": "Exam",
    "lx_problem_cell_type": "Test",
    "lx_problem_number": "2",
    "lx_problem_points": "8"
   },
   "source": [
    "---\n",
    "#### Local Test for Exam vB, PROBLEM 2\n",
    "Evaluate cell below to make sure your answer is valid.                             You **should not** modify anything in the cell below when evaluating it to do a local test of                             your solution.\n",
    "You may need to include and evaluate code snippets from lecture notebooks in cells above to make the local test work correctly sometimes (see error messages for clues). This is meant to help you become efficient at recalling materials covered in lectures that relate to this problem. Such local tests will generally not be available in the exam."
   ]
  },
  {
   "cell_type": "code",
   "execution_count": 140,
   "metadata": {
    "deletable": false,
    "lx_assignment_number": "vB",
    "lx_assignment_type": "EXAM",
    "lx_assignment_type2print": "Exam",
    "lx_problem_cell_type": "Test",
    "lx_problem_number": "2",
    "lx_problem_points": "8"
   },
   "outputs": [
    {
     "name": "stdout",
     "output_type": "stream",
     "text": [
      "LCG output: [1103527590, 2524885223, 662824084, 3295386429, 4182499122, 2516284547, 3655513600, 2633739833, 3210001534, 267834847]\n",
      "Uniform sampler [0.25693503906950355, 0.5878706516232342, 0.15432575810700655, 0.767266943352297, 0.9738139626570046, 0.5858681506942958, 0.8511155843734741, 0.6132153405342251, 0.7473867232911289, 0.06236015981994569]\n"
     ]
    }
   ],
   "source": [
    "\n",
    "# If you managed to solve all three parts you can test the following code to see if it runs\n",
    "# you have to change the period to match your LCG though, this is marked as XXX.\n",
    "# It is a very good idea to check these things using the histogram function in sagemath\n",
    "# try with a larger number of samples, up to 10000 should run\n",
    "\n",
    "print(\"LCG output: %s\" % problem2_LCG(size=10, seed = 1))\n",
    "\n",
    "period = 2**32\n",
    "\n",
    "print(\"Uniform sampler %s\" % problem2_uniform(generator=problem2_LCG, period = period, size=10, seed=1))\n",
    "\n",
    "uniform_sampler = lambda size,seed: problem2_uniform(generator=problem2_LCG, period = period, size=size, seed=seed)\n",
    "\n",
    "#print(\"Accept-Reject sampler %s\" % problem2_accept_reject(uniformGenerator = uniform_sampler,n_iterations=20,seed=1))"
   ]
  },
  {
   "cell_type": "code",
   "execution_count": null,
   "metadata": {
    "deletable": false,
    "lx_assignment_number": "vB",
    "lx_assignment_type": "EXAM",
    "lx_assignment_type2print": "Exam",
    "lx_problem_cell_type": "Test",
    "lx_problem_number": "2",
    "lx_problem_points": "8"
   },
   "outputs": [],
   "source": [
    "\n",
    "# If however you did not manage to implement either part 1 or part 2 but still want to check part 3, you can run the code below\n",
    "\n",
    "def testUniformGenerator(size,seed):\n",
    "    set_random_seed(seed)\n",
    "    \n",
    "    return [random() for s in range(size)]\n",
    "\n",
    "print(\"Accept-Reject sampler %s\" % problem2_accept_reject(uniformGenerator=testUniformGenerator, n_iterations=20, seed=1))"
   ]
  },
  {
   "cell_type": "markdown",
   "metadata": {
    "deletable": false,
    "lx_assignment_number": "vB",
    "lx_assignment_type": "EXAM",
    "lx_assignment_type2print": "Exam",
    "lx_problem_cell_type": "PROBLEM",
    "lx_problem_number": "3",
    "lx_problem_points": "8"
   },
   "source": [
    "---\n",
    "## Exam vB, PROBLEM 3\n",
    "Maximum Points = 8"
   ]
  },
  {
   "cell_type": "markdown",
   "metadata": {
    "deletable": false,
    "lx_assignment_number": "vB",
    "lx_assignment_type": "EXAM",
    "lx_assignment_type2print": "Exam",
    "lx_problem_cell_type": "PROBLEM",
    "lx_problem_number": "3",
    "lx_problem_points": "8"
   },
   "source": [
    "\n",
    "## Concentration of measure\n",
    "\n",
    "As you recall, we said that concentration of measure was simply the phenomenon where we expect that the probability of a large deviation of some quantity becoming smaller as we observe more samples: [0.4 points per correct answer]\n",
    "\n",
    "1. Which of the following will exponentially concentrate, i.e. for some $C_1,C_2,C_3,C_4 $ \n",
    "$$\n",
    "    P(Z - \\mathbb{E}[Z] \\geq \\epsilon) \\leq C_1 e^{-C_2 n \\epsilon^2} \\wedge C_3 e^{-C_4 n (\\epsilon+1)} \\enspace .\n",
    "$$\n",
    "\n",
    "    1. The empirical mean of i.i.d. sub-Gaussian random variables?\n",
    "    2. The empirical mean of i.i.d. sub-Exponential random variables?\n",
    "    3. The empirical mean of i.i.d. random variables with finite variance?\n",
    "    4. The empirical variance of i.i.d. random variables with finite variance?\n",
    "    5. The empirical variance of i.i.d. sub-Gaussian random variables?\n",
    "    6. The empirical variance of i.i.d. sub-Exponential random variables?\n",
    "    7. The empirical third moment of i.i.d. sub-Gaussian random variables?\n",
    "    8. The empirical fourth moment of i.i.d. sub-Gaussian random variables?\n",
    "    9. The empirical mean of i.i.d. deterministic random variables?\n",
    "    10. The empirical tenth moment of i.i.d. Bernoulli random variables?\n",
    "\n",
    "2. Which of the above will concentrate in the weaker sense, that for some $C_1$\n",
    "$$\n",
    "    P(Z - \\mathbb{E}[Z] \\geq \\epsilon) \\leq \\frac{C_1}{n \\epsilon^2}?\n",
    "$$"
   ]
  },
  {
   "cell_type": "code",
   "execution_count": null,
   "metadata": {
    "deletable": false,
    "lx_assignment_number": "vB",
    "lx_assignment_type": "EXAM",
    "lx_assignment_type2print": "Exam",
    "lx_problem_cell_type": "PROBLEM",
    "lx_problem_number": "3",
    "lx_problem_points": "8"
   },
   "outputs": [],
   "source": [
    "\n",
    "# Answers to part 1, which of the alternatives exponentially concentrate, answer as a list\n",
    "# i.e. [1,4,5] that is example 1, 4, and 5 concentrate\n",
    "problem3_answer_1 = [XXX]"
   ]
  },
  {
   "cell_type": "code",
   "execution_count": null,
   "metadata": {
    "deletable": false,
    "lx_assignment_number": "vB",
    "lx_assignment_type": "EXAM",
    "lx_assignment_type2print": "Exam",
    "lx_problem_cell_type": "PROBLEM",
    "lx_problem_number": "3",
    "lx_problem_points": "8"
   },
   "outputs": [],
   "source": [
    "\n",
    "# Answers to part 2, which of the alternatives concentrate in the weaker sense, answer as a list\n",
    "# i.e. [1,4,5] that is example 1, 4, and 5 concentrate\n",
    "problem3_answer_2 = [XXX]"
   ]
  },
  {
   "cell_type": "markdown",
   "metadata": {
    "deletable": false,
    "lx_assignment_number": "vB",
    "lx_assignment_type": "EXAM",
    "lx_assignment_type2print": "Exam",
    "lx_problem_cell_type": "PROBLEM",
    "lx_problem_number": "4",
    "lx_problem_points": "8"
   },
   "source": [
    "---\n",
    "## Exam vB, PROBLEM 4\n",
    "Maximum Points = 8"
   ]
  },
  {
   "cell_type": "markdown",
   "metadata": {
    "deletable": false,
    "lx_assignment_number": "vB",
    "lx_assignment_type": "EXAM",
    "lx_assignment_type2print": "Exam",
    "lx_problem_cell_type": "PROBLEM",
    "lx_problem_number": "4",
    "lx_problem_points": "8"
   },
   "source": [
    "\n",
    "## SMS spam filtering [8p]\n",
    "\n",
    "In the following problem we will explore SMS spam texts. The dataset is the `SMS Spam Collection Dataset` and we have provided for you a way to load the data. If you run the appropriate cell below, the result will be in the `spam_no_spam` variable. The result is a `list` of `tuples` with the first position in the tuple being the SMS text and the second being a flag `0 = not spam` and `1 = spam`.\n",
    "\n",
    "1. [3p] Let $X$ be the random variable that represents each SMS text (an entry in the list), and let $Y$ represent whether text is spam or not i.e. $Y \\in \\{0,1\\}$. Thus $\\mathbb{P}(Y = 1)$ is the probability that we get a spam. The goal is to estimate:\n",
    "$$\n",
    "    \\mathbb{P}(Y = 1 | \\text{\"free\" or \"prize\" is in } X) \\enspace .\n",
    "$$\n",
    "That is, the probability that the SMS is spam given that \"free\" or \"prize\" occurs in the SMS. \n",
    "Hint: it is good to remove the upper/lower case of words so that we can also find \"Free\" and \"Prize\"; this can be done with `text.lower()` if `text` a string.\n",
    "2. [3p] Provide a \"90\\%\" interval of confidence around the true probability. I.e. use the Hoeffding inequality to obtain for your estimate $\\hat P$ of the above quantity. Find $l > 0$ such that the following holds:\n",
    "$$\n",
    "    \\mathbb{P}(\\hat P - l \\leq \\mathbb{E}[\\hat P] \\leq \\hat P + l) \\geq 0.9 \\enspace .\n",
    "$$\n",
    "3. [2p] Repeat the two exercises above for \"free\" appearing twice in the SMS."
   ]
  },
  {
   "cell_type": "code",
   "execution_count": 227,
   "metadata": {
    "deletable": false,
    "lx_assignment_number": "vB",
    "lx_assignment_type": "EXAM",
    "lx_assignment_type2print": "Exam",
    "lx_problem_cell_type": "PROBLEM",
    "lx_problem_number": "4",
    "lx_problem_points": "8"
   },
   "outputs": [
    {
     "name": "stdout",
     "output_type": "stream",
     "text": [
      "probability:  0.8096774193548387\n"
     ]
    }
   ],
   "source": [
    "\n",
    "# Run this cell to get the SMS text data\n",
    "#from exam_extras import load_sms\n",
    "#spam_no_spam = load_sms()\n",
    "\n",
    "#ignored the above as I didnt find that file\n",
    "import pandas as pd\n",
    "import re\n",
    "\n",
    "df = pd.read_csv('data/spam.csv', encoding='latin-1', delimiter=\",\")\n",
    "df = df.loc[:, df.columns.intersection(['v1','v2'])]\n",
    "\n",
    "df['v2'] = df['v2'].str.lower()\n",
    "\n",
    "free_prize_counter = 0\n",
    "free_prize_and_is_spam_counter = 0\n",
    "total_spam_count = 0\n",
    "\n",
    "def contains_whole_word(word, text):\n",
    "    pattern = re.compile(r'\\b{}\\b'.format(re.escape(word)))\n",
    "    return bool(pattern.search(text))\n",
    "\n",
    "#check instances of free or prize\n",
    "for i in range(len(df)):\n",
    "    label = df[\"v1\"].loc[i]\n",
    "    text = df[\"v2\"].loc[i]\n",
    "    \n",
    "    #check if free or prize in in text\n",
    "    \n",
    "    #if (\"free\" in text) or (\"prize\" in text):\n",
    "    if contains_whole_word(\"free\", text) or contains_whole_word(\"prize\", text):\n",
    "        free_prize_counter+=1\n",
    "        if label==\"spam\":\n",
    "            free_prize_and_is_spam_counter += 1\n",
    "    if label == \"spam\":\n",
    "        total_spam_count += 1\n",
    "        \n",
    "    \n",
    "\n",
    "#P(Y=spam | \"free\" or \"prize\" is in X)\n",
    "#probability = (total_spam_count/len(df))*(free_prize_and_is_spam_counter/free_prize_counter)\n",
    "#probability = (total_spam_count/len(df))*(free_prize_counter/len(df))\n",
    "#probability = free_prize_and_is_spam_counter/len(df)\n",
    "\n",
    "#P(Y=1 | free or prize is in X) = P(Y=1 !U free or prize is in X) / P(free or prize is in X)\n",
    "\n",
    "#what I think the right probability is\n",
    "probability = free_prize_and_is_spam_counter/free_prize_counter\n",
    "print(\"probability: \", probability)"
   ]
  },
  {
   "cell_type": "code",
   "execution_count": 228,
   "metadata": {
    "deletable": false,
    "lx_assignment_number": "vB",
    "lx_assignment_type": "EXAM",
    "lx_assignment_type2print": "Exam",
    "lx_problem_cell_type": "PROBLEM",
    "lx_problem_number": "4",
    "lx_problem_points": "8"
   },
   "outputs": [],
   "source": [
    "# fill in the estimate for part 1 here (should be a number between 0 and 1) \n",
    "problem4_hatP = 0.8096774193548387"
   ]
  },
  {
   "cell_type": "code",
   "execution_count": null,
   "metadata": {
    "deletable": false,
    "lx_assignment_number": "vB",
    "lx_assignment_type": "EXAM",
    "lx_assignment_type2print": "Exam",
    "lx_problem_cell_type": "PROBLEM",
    "lx_problem_number": "4",
    "lx_problem_points": "8"
   },
   "outputs": [],
   "source": [
    "import math\n",
    "\n",
    "#calculate if it has prize or free and is spam, and if it has prize or free and is not spam\n",
    "has_free_prize_is_spam = []\n",
    "has_free_prize_no_spam = []\n",
    "\n",
    "for i in range(len(df)):\n",
    "    label = df[\"v1\"].loc[i]\n",
    "    text = df[\"v2\"].loc[i]\n",
    "    \n",
    "    #check if free or prize in in text\n",
    "    \n",
    "    #if (\"free\" in text) or (\"prize\" in text):\n",
    "    if contains_whole_word(\"free\", text) or contains_whole_word(\"prize\", text):\n",
    "        #free_prize_counter+=1\n",
    "        if label==\"spam\":\n",
    "            has_free_prize_is_spam.append(1)\n",
    "        else: \n",
    "            has_free_prize_no_spam.append(1)\n",
    "\n",
    "\n",
    "#epsilon = l\n",
    "b=1\n",
    "a=0\n",
    "n = len(has_free_prize_is_spam)+len(has_free_prize_no_spam)\n",
    "alpha = 0.1 #eftersom epsilon ska vara 10% felmarginal\n",
    "\n",
    "epsilon = math.sqrt(-( math.log(alpha/2)*(b-a)**2 )/(2*n))\n",
    "print(\"epsilon: \", epsilon)\n",
    "\n",
    "\n",
    "# fill in the calculated l from part 2 here\n",
    "problem4_l = 0.0695113389862958"
   ]
  },
  {
   "cell_type": "code",
   "execution_count": 252,
   "metadata": {
    "deletable": false,
    "lx_assignment_number": "vB",
    "lx_assignment_type": "EXAM",
    "lx_assignment_type2print": "Exam",
    "lx_problem_cell_type": "PROBLEM",
    "lx_problem_number": "4",
    "lx_problem_points": "8"
   },
   "outputs": [],
   "source": [
    "#free apprearing twice\n",
    "\n",
    "import re\n",
    "\n",
    "#ett sätt: splitta strängen i två\n",
    "#ett annat sätt, splitta strängen på mellanrum och kolla om free finns två gånger\n",
    "number_of_texts_with_free_twice = 0\n",
    "free_twice_and_is_spam_counter = 0\n",
    "\n",
    "for i in range(len(df)):\n",
    "    label = df[\"v1\"].loc[i]\n",
    "    text = df[\"v2\"].loc[i]\n",
    "    clean_str = re.sub(r\"[^a-zA-Z0-9]+\", ' ', text)\n",
    "    text_array = clean_str.split(\" \")\n",
    "    free_twice_counter = 0\n",
    "    #print(\"----new text----\")\n",
    "\n",
    "    for word in text_array:\n",
    "        #print(\"word: \", word)\n",
    "        if (word == \"free\") and (free_twice_counter != 2):\n",
    "            free_twice_counter +=1\n",
    "    #print(\"free_twice_counter: \", free_twice_counter)\n",
    "            \n",
    "    if free_twice_counter == 2:\n",
    "        number_of_texts_with_free_twice+=1\n",
    "        if (free_twice_counter==2) and (label==\"spam\"):\n",
    "            free_twice_and_is_spam_counter += 1\n",
    "            \n",
    "            \n",
    "probability = free_twice_and_is_spam_counter/number_of_texts_with_free_twice\n",
    "#print(probability)\n",
    "\n",
    "# fill in the estimate for hatP for the double free question in part 3 here (should be a number between 0 and 1)\n",
    "problem4_hatP2 = 0.9767441860465116"
   ]
  },
  {
   "cell_type": "code",
   "execution_count": 256,
   "metadata": {
    "deletable": false,
    "lx_assignment_number": "vB",
    "lx_assignment_type": "EXAM",
    "lx_assignment_type2print": "Exam",
    "lx_problem_cell_type": "PROBLEM",
    "lx_problem_number": "4",
    "lx_problem_points": "8"
   },
   "outputs": [
    {
     "name": "stdout",
     "output_type": "stream",
     "text": [
      "epsilon:  0.18663894610749432\n"
     ]
    }
   ],
   "source": [
    "n = number_of_texts_with_free_twice\n",
    "alpha = 0.1 #eftersom epsilon ska vara 10% felmarginal\n",
    "\n",
    "epsilon = math.sqrt(-( math.log(alpha/2)*(b-a)**2 )/(2*n))\n",
    "print(\"epsilon: \", epsilon)\n",
    "\n",
    "\n",
    "# fill in the estimate for l for the double free question in part 3 here\n",
    "problem4_l2 = 0.18663894610749432"
   ]
  },
  {
   "cell_type": "markdown",
   "metadata": {
    "deletable": false,
    "lx_assignment_number": "vB",
    "lx_assignment_type": "EXAM",
    "lx_assignment_type2print": "Exam",
    "lx_problem_cell_type": "PROBLEM",
    "lx_problem_number": "5",
    "lx_problem_points": "8"
   },
   "source": [
    "---\n",
    "## Exam vB, PROBLEM 5\n",
    "Maximum Points = 8"
   ]
  },
  {
   "cell_type": "markdown",
   "metadata": {
    "deletable": false,
    "lx_assignment_number": "vB",
    "lx_assignment_type": "EXAM",
    "lx_assignment_type2print": "Exam",
    "lx_problem_cell_type": "PROBLEM",
    "lx_problem_number": "5",
    "lx_problem_points": "8"
   },
   "source": [
    "\n",
    "## Markovian travel\n",
    "\n",
    "The dataset `Travel Dataset - Datathon 2019` is a simulated dataset designed to mimic real corporate travel systems -- focusing on flights and hotels. The file is at `data/flights.csv` in the same folder as `Exam.ipynb`, i.e. you can use the path `data/flights.csv` from the notebook to access the file.\n",
    "\n",
    "1. [2p] In the first code-box \n",
    "    1. Load the csv from file `data/flights.csv`\n",
    "    2. Fill in the value of the variables as specified by their names.\n",
    "2. [2p] In the second code-box your goal is to estimate a Markov chain transition matrix for the travels of these users. For example, if we enumerate the cities according to alphabetical order, the first city `'Aracaju (SE)'` would correspond to $0$. Each row of the file corresponds to one flight, i.e. it has a starting city and an ending city. We model this as a stationary Markov chain, i.e. each user's travel trajectory is a realization of the Markov chain, $X_t$. Here, $X_t$ is the current city the user is at, at step $t$, and $X_{t+1}$ is the city the user travels to at the next time step. This means that to each row in the file there is a corresponding pair $(X_{t},X_{t+1})$. The stationarity assumption gives that for all $t$ there is a transition density $p$ such that $P(X_{t+1} = y | X_t = x) = p(x,y)$ (for all $x,y$). The transition matrix should be `n_cities` x `n_citites` in size.\n",
    "3. [2p] Use the transition matrix to compute out the stationary distribution.\n",
    "4. [2p] Given that we start in 'Aracaju (SE)' what is the probability that after 3 steps we will be back in 'Aracaju (SE)'?"
   ]
  },
  {
   "cell_type": "code",
   "execution_count": 276,
   "metadata": {
    "deletable": false,
    "lx_assignment_number": "vB",
    "lx_assignment_type": "EXAM",
    "lx_assignment_type2print": "Exam",
    "lx_problem_cell_type": "PROBLEM",
    "lx_problem_number": "5",
    "lx_problem_points": "8"
   },
   "outputs": [
    {
     "data": {
      "text/html": [
       "<div>\n",
       "<style scoped>\n",
       "    .dataframe tbody tr th:only-of-type {\n",
       "        vertical-align: middle;\n",
       "    }\n",
       "\n",
       "    .dataframe tbody tr th {\n",
       "        vertical-align: top;\n",
       "    }\n",
       "\n",
       "    .dataframe thead th {\n",
       "        text-align: right;\n",
       "    }\n",
       "</style>\n",
       "<table border=\"1\" class=\"dataframe\">\n",
       "  <thead>\n",
       "    <tr style=\"text-align: right;\">\n",
       "      <th></th>\n",
       "      <th>travelCode</th>\n",
       "      <th>userCode</th>\n",
       "      <th>from</th>\n",
       "      <th>to</th>\n",
       "      <th>flightType</th>\n",
       "      <th>price</th>\n",
       "      <th>time</th>\n",
       "      <th>distance</th>\n",
       "      <th>agency</th>\n",
       "      <th>date</th>\n",
       "    </tr>\n",
       "  </thead>\n",
       "  <tbody>\n",
       "    <tr>\n",
       "      <th>0</th>\n",
       "      <td>0</td>\n",
       "      <td>0</td>\n",
       "      <td>Recife (PE)</td>\n",
       "      <td>Florianopolis (SC)</td>\n",
       "      <td>firstClass</td>\n",
       "      <td>1434.38</td>\n",
       "      <td>1.76</td>\n",
       "      <td>676.53</td>\n",
       "      <td>FlyingDrops</td>\n",
       "      <td>09/26/2019</td>\n",
       "    </tr>\n",
       "    <tr>\n",
       "      <th>1</th>\n",
       "      <td>0</td>\n",
       "      <td>0</td>\n",
       "      <td>Florianopolis (SC)</td>\n",
       "      <td>Recife (PE)</td>\n",
       "      <td>firstClass</td>\n",
       "      <td>1292.29</td>\n",
       "      <td>1.76</td>\n",
       "      <td>676.53</td>\n",
       "      <td>FlyingDrops</td>\n",
       "      <td>09/30/2019</td>\n",
       "    </tr>\n",
       "    <tr>\n",
       "      <th>2</th>\n",
       "      <td>1</td>\n",
       "      <td>0</td>\n",
       "      <td>Brasilia (DF)</td>\n",
       "      <td>Florianopolis (SC)</td>\n",
       "      <td>firstClass</td>\n",
       "      <td>1487.52</td>\n",
       "      <td>1.66</td>\n",
       "      <td>637.56</td>\n",
       "      <td>CloudFy</td>\n",
       "      <td>10/03/2019</td>\n",
       "    </tr>\n",
       "    <tr>\n",
       "      <th>3</th>\n",
       "      <td>1</td>\n",
       "      <td>0</td>\n",
       "      <td>Florianopolis (SC)</td>\n",
       "      <td>Brasilia (DF)</td>\n",
       "      <td>firstClass</td>\n",
       "      <td>1127.36</td>\n",
       "      <td>1.66</td>\n",
       "      <td>637.56</td>\n",
       "      <td>CloudFy</td>\n",
       "      <td>10/04/2019</td>\n",
       "    </tr>\n",
       "    <tr>\n",
       "      <th>4</th>\n",
       "      <td>2</td>\n",
       "      <td>0</td>\n",
       "      <td>Aracaju (SE)</td>\n",
       "      <td>Salvador (BH)</td>\n",
       "      <td>firstClass</td>\n",
       "      <td>1684.05</td>\n",
       "      <td>2.16</td>\n",
       "      <td>830.86</td>\n",
       "      <td>CloudFy</td>\n",
       "      <td>10/10/2019</td>\n",
       "    </tr>\n",
       "    <tr>\n",
       "      <th>...</th>\n",
       "      <td>...</td>\n",
       "      <td>...</td>\n",
       "      <td>...</td>\n",
       "      <td>...</td>\n",
       "      <td>...</td>\n",
       "      <td>...</td>\n",
       "      <td>...</td>\n",
       "      <td>...</td>\n",
       "      <td>...</td>\n",
       "      <td>...</td>\n",
       "    </tr>\n",
       "    <tr>\n",
       "      <th>271883</th>\n",
       "      <td>135941</td>\n",
       "      <td>1339</td>\n",
       "      <td>Campo Grande (MS)</td>\n",
       "      <td>Florianopolis (SC)</td>\n",
       "      <td>firstClass</td>\n",
       "      <td>1446.34</td>\n",
       "      <td>1.49</td>\n",
       "      <td>573.81</td>\n",
       "      <td>CloudFy</td>\n",
       "      <td>07/12/2020</td>\n",
       "    </tr>\n",
       "    <tr>\n",
       "      <th>271884</th>\n",
       "      <td>135942</td>\n",
       "      <td>1339</td>\n",
       "      <td>Florianopolis (SC)</td>\n",
       "      <td>Natal (RN)</td>\n",
       "      <td>economic</td>\n",
       "      <td>726.95</td>\n",
       "      <td>1.84</td>\n",
       "      <td>709.37</td>\n",
       "      <td>CloudFy</td>\n",
       "      <td>07/16/2020</td>\n",
       "    </tr>\n",
       "    <tr>\n",
       "      <th>271885</th>\n",
       "      <td>135942</td>\n",
       "      <td>1339</td>\n",
       "      <td>Natal (RN)</td>\n",
       "      <td>Florianopolis (SC)</td>\n",
       "      <td>economic</td>\n",
       "      <td>873.07</td>\n",
       "      <td>1.84</td>\n",
       "      <td>709.37</td>\n",
       "      <td>CloudFy</td>\n",
       "      <td>07/20/2020</td>\n",
       "    </tr>\n",
       "    <tr>\n",
       "      <th>271886</th>\n",
       "      <td>135943</td>\n",
       "      <td>1339</td>\n",
       "      <td>Florianopolis (SC)</td>\n",
       "      <td>Rio de Janeiro (RJ)</td>\n",
       "      <td>economic</td>\n",
       "      <td>313.62</td>\n",
       "      <td>1.21</td>\n",
       "      <td>466.30</td>\n",
       "      <td>CloudFy</td>\n",
       "      <td>07/23/2020</td>\n",
       "    </tr>\n",
       "    <tr>\n",
       "      <th>271887</th>\n",
       "      <td>135943</td>\n",
       "      <td>1339</td>\n",
       "      <td>Rio de Janeiro (RJ)</td>\n",
       "      <td>Florianopolis (SC)</td>\n",
       "      <td>economic</td>\n",
       "      <td>533.69</td>\n",
       "      <td>1.21</td>\n",
       "      <td>466.30</td>\n",
       "      <td>CloudFy</td>\n",
       "      <td>07/26/2020</td>\n",
       "    </tr>\n",
       "  </tbody>\n",
       "</table>\n",
       "<p>271888 rows × 10 columns</p>\n",
       "</div>"
      ],
      "text/plain": [
       "        travelCode  userCode                 from                   to  \\\n",
       "0                0         0          Recife (PE)   Florianopolis (SC)   \n",
       "1                0         0   Florianopolis (SC)          Recife (PE)   \n",
       "2                1         0        Brasilia (DF)   Florianopolis (SC)   \n",
       "3                1         0   Florianopolis (SC)        Brasilia (DF)   \n",
       "4                2         0         Aracaju (SE)        Salvador (BH)   \n",
       "...            ...       ...                  ...                  ...   \n",
       "271883      135941      1339    Campo Grande (MS)   Florianopolis (SC)   \n",
       "271884      135942      1339   Florianopolis (SC)           Natal (RN)   \n",
       "271885      135942      1339           Natal (RN)   Florianopolis (SC)   \n",
       "271886      135943      1339   Florianopolis (SC)  Rio de Janeiro (RJ)   \n",
       "271887      135943      1339  Rio de Janeiro (RJ)   Florianopolis (SC)   \n",
       "\n",
       "        flightType    price  time  distance       agency        date  \n",
       "0       firstClass  1434.38  1.76    676.53  FlyingDrops  09/26/2019  \n",
       "1       firstClass  1292.29  1.76    676.53  FlyingDrops  09/30/2019  \n",
       "2       firstClass  1487.52  1.66    637.56      CloudFy  10/03/2019  \n",
       "3       firstClass  1127.36  1.66    637.56      CloudFy  10/04/2019  \n",
       "4       firstClass  1684.05  2.16    830.86      CloudFy  10/10/2019  \n",
       "...            ...      ...   ...       ...          ...         ...  \n",
       "271883  firstClass  1446.34  1.49    573.81      CloudFy  07/12/2020  \n",
       "271884    economic   726.95  1.84    709.37      CloudFy  07/16/2020  \n",
       "271885    economic   873.07  1.84    709.37      CloudFy  07/20/2020  \n",
       "271886    economic   313.62  1.21    466.30      CloudFy  07/23/2020  \n",
       "271887    economic   533.69  1.21    466.30      CloudFy  07/26/2020  \n",
       "\n",
       "[271888 rows x 10 columns]"
      ]
     },
     "execution_count": 276,
     "metadata": {},
     "output_type": "execute_result"
    }
   ],
   "source": [
    "import pandas as pd\n",
    "df = pd.read_csv(\"data/flights.csv\")\n",
    "\n",
    "number_unique_user_codes = len(df[\"userCode\"].unique())\n",
    "number_unique_cities = len(df[\"from\"].unique())\n",
    "\n",
    "#Answers\n",
    "number_of_cities = number_unique_cities\n",
    "number_of_userCodes = number_unique_user_codes\n",
    "number_of_observations = len(df)\n",
    "\n",
    "df"
   ]
  },
  {
   "cell_type": "code",
   "execution_count": 297,
   "metadata": {
    "deletable": false,
    "lx_assignment_number": "vB",
    "lx_assignment_type": "EXAM",
    "lx_assignment_type2print": "Exam",
    "lx_problem_cell_type": "PROBLEM",
    "lx_problem_number": "5",
    "lx_problem_points": "8"
   },
   "outputs": [],
   "source": [
    "\n",
    "\n",
    "\n",
    "# This is a very useful function that you can use for part 2. You have seen this before when parsing the\n",
    "# pride and prejudice book.\n",
    "\n",
    "def makeFreqDict(myDataList):\n",
    "    '''Make a frequency mapping out of a list of data.\n",
    "\n",
    "    Param myDataList, a list of data.\n",
    "    Return a dictionary mapping each unique data value to its frequency count.'''\n",
    "\n",
    "    freqDict = {} # start with an empty dictionary\n",
    "\n",
    "    for res in myDataList:\n",
    "        if res in freqDict: # the data value already exists as a key\n",
    "                freqDict[res] = freqDict[res] + 1 # add 1 to the count using sage integers\n",
    "        else: # the data value does not exist as a key value\n",
    "            freqDict[res] = 1 # add a new key-value pair for this new data value, frequency 1\n",
    "\n",
    "    return freqDict # return the dictionary created"
   ]
  },
  {
   "cell_type": "code",
   "execution_count": 304,
   "metadata": {},
   "outputs": [],
   "source": [
    "cities = df[\"from\"].unique()\n",
    "unique_cities = sorted(set(cities)) # The unique cities\n",
    "n_cities = len(unique_cities) # The number of unique citites\n",
    "\n",
    "#get all transitions\n",
    "i=0\n",
    "tuples_list = []\n",
    "for i in range(0,len(df)):\n",
    "    from_location =  df[\"from\"].loc[i]\n",
    "    to_location = df[\"to\"].loc[i]\n",
    "    tuples_list.append(tuple( (from_location, to_location) ))\n",
    "    \n",
    "#print(tuples_list[0:100])\n",
    "\n",
    "#create the transition_counts\n",
    "transition_dictionary = makeFreqDict(tuples_list)\n",
    "\n",
    "#create the indexToCity\n",
    " \n",
    "indexCity = {}\n",
    "cityIndex = {}\n",
    "for i in range(0, n_cities):\n",
    "    indexCity[i] = unique_cities[i]\n",
    "    cityIndex[unique_cities[i]] = i"
   ]
  },
  {
   "cell_type": "code",
   "execution_count": 374,
   "metadata": {
    "deletable": false,
    "lx_assignment_number": "vB",
    "lx_assignment_type": "EXAM",
    "lx_assignment_type2print": "Exam",
    "lx_problem_cell_type": "PROBLEM",
    "lx_problem_number": "5",
    "lx_problem_points": "8"
   },
   "outputs": [
    {
     "name": "stdout",
     "output_type": "stream",
     "text": [
      "[[0.         0.12983559 0.14487965 0.23218891 0.1057651  0.13120567\n",
      "  0.07570385 0.07839029 0.10203095]\n",
      " [0.15702265 0.         0.14675591 0.25273726 0.09704669 0.12417557\n",
      "  0.06478443 0.06527178 0.09220572]\n",
      " [0.15520318 0.12999309 0.         0.23751007 0.1019627  0.12979164\n",
      "  0.0695004  0.07252216 0.10351675]\n",
      " [0.15079296 0.1357189  0.14398869 0.         0.11705079 0.13275294\n",
      "  0.10131375 0.10119162 0.11719036]\n",
      " [0.16544797 0.1255253  0.14889057 0.28193814 0.         0.12161708\n",
      "  0.03992268 0.0389141  0.07774416]\n",
      " [0.16023622 0.1253937  0.14796588 0.24963911 0.09494751 0.\n",
      "  0.06223753 0.06404199 0.09553806]\n",
      " [0.16758846 0.1185846  0.14362177 0.34534642 0.05649718 0.11281594\n",
      "  0.         0.         0.05554564]\n",
      " [0.17060337 0.1174579  0.14733396 0.33910196 0.05413938 0.11412535\n",
      "  0.         0.         0.05723807]\n",
      " [0.1607619  0.12012698 0.15225397 0.28431746 0.07830688 0.12325926\n",
      "  0.03953439 0.04143915 0.        ]]\n"
     ]
    }
   ],
   "source": [
    "\n",
    "# Count the different transitions\n",
    "transitions = tuples_list # A list containing tuples ex: ('Aracaju (SE)','Rio de Janeiro (RJ)') of all transitions in the text\n",
    "transition_counts = transition_dictionary # A dictionary that counts the number of each transition \n",
    "#print(\"transition_counts: \", transition_counts)\n",
    "# ex: ('Aracaju (SE)','Rio de Janeiro (RJ)'):4\n",
    "indexToCity = indexCity # A dictionary that maps the n-1 number to the n:th unique_city,\n",
    "# ex: 0:'Aracaju (SE)'\n",
    "cityToIndex = cityIndex # The inverse function of indexToWord, \n",
    "# ex: 'Aracaju (SE)':0\n",
    "\n",
    "# Part 3, finding the maximum likelihood estimate of the transition matrix\n",
    "#initialize the transition matrix\n",
    "transition_matrix = np.zeros((n_cities, n_cities))\n",
    "\n",
    "#get total transitions for a city\n",
    "#varje rad i transition matrix ska bli ett\n",
    "#därför behövs total transitions för den staden\n",
    "totals = {}\n",
    "for i in range(0, n_cities): \n",
    "    city = indexToCity[i]\n",
    "    cityTotal = 0\n",
    "    \n",
    "    for key, value in transition_counts.items():\n",
    "        if city in key:\n",
    "            cityTotal += value\n",
    "    totals[city] = cityTotal/2 #we have to divide by 2 as the # of transition exists between both \n",
    "    #(destination1, destination2) = x and (destination2, destination1) = x. \n",
    "    #As such the number of transitions exists twice\n",
    "            \n",
    "    \n",
    "\n",
    "#populate transition_matrix\n",
    "#the transition matrix is created by checking the tuple, and for each city, add the value to each column\n",
    "for i in range(0, n_cities):\n",
    "    city = indexToCity[i]\n",
    "    \n",
    "    for flight, value in transition_counts.items():\n",
    "        cityFrom, cityTo = flight\n",
    "        \n",
    "        if city == cityFrom:\n",
    "            #add the transition value then after all that is done, divide entire row by total_transitions\n",
    "            transition_matrix[cityToIndex[city]][cityToIndex[cityTo]] += value/totals[city]\n",
    "            \n",
    "        \n",
    "print(transition_matrix)\n",
    "\n",
    "transition_matrix = transition_matrix # a numpy array of size (n_cities,n_cities)\n",
    "\n",
    "# The transition matrix should be ordered in such a way that\n",
    "# p_{'Aracaju (SE)','Rio de Janeiro (RJ)'} = transition_matrix[cityToIndex['Aracaju (SE)'],cityToIndex['Rio de Janeiro (RJ)']]\n",
    "# and represents the probability of travelling Aracaju (SE)->Rio de Janeiro (RJ)\n",
    "\n",
    "# Make sure that the transition_matrix does not contain np.nan from division by zero for instance"
   ]
  },
  {
   "cell_type": "code",
   "execution_count": 390,
   "metadata": {
    "deletable": false,
    "lx_assignment_number": "vB",
    "lx_assignment_type": "EXAM",
    "lx_assignment_type2print": "Exam",
    "lx_problem_cell_type": "PROBLEM",
    "lx_problem_number": "5",
    "lx_problem_points": "8"
   },
   "outputs": [
    {
     "name": "stdout",
     "output_type": "stream",
     "text": [
      "[0.13690932 0.1132047  0.12780262 0.21081107 0.08752133 0.11210498\n",
      " 0.06184532 0.06290826 0.0868924 ]\n",
      "0.11320470193609133\n",
      "stationary_dist2:  [0.13690932 0.1132047  0.12780262 0.21081107 0.08752133 0.11210498\n",
      " 0.06184532 0.06290826 0.0868924 ]\n"
     ]
    }
   ],
   "source": [
    "import math\n",
    "\n",
    "\n",
    "#different methods of getting stationary distribution: \n",
    "#method 1, raising the P to a high number\n",
    "stationary_matrix = np.linalg.matrix_power(transition_matrix, 40)\n",
    "stationary_dist1 = stationary_matrix[1] #the stationary distribution is found in the first row of the matrix\n",
    "print(stationary_dist1)\n",
    "\n",
    "\n",
    "#check row sums to 1\n",
    "print(stationary_dist1[1].sum())\n",
    "\n",
    "#method 2, using eigenvalues and eigenvectors\n",
    "#We have to transpose so that Markov transitions correspond to right multiplying by a column vector.  np.linalg.eig finds right eigenvectors.\n",
    "evals, evecs = np.linalg.eig(transition_matrix.T)\n",
    "evec1 = evecs[:,np.isclose(evals, 1)]\n",
    "\n",
    "#Since np.isclose will return an array, we've indexed with an array\n",
    "#so we still have our 2nd axis.  Get rid of it, since it's only size 1.\n",
    "evec1 = evec1[:,0]\n",
    "\n",
    "stationary = evec1 / evec1.sum()\n",
    "\n",
    "#eigs finds complex eigenvalues and eigenvectors, so you'll want the real part.\n",
    "stationary_dist2 = stationary.real\n",
    "print(\"stationary_dist2: \",stationary_dist2)\n",
    "\n",
    "\n",
    "# This should be a numpy array of length n_cities which sums to 1 and is all positive\n",
    "stationary_distribution_problem5 = stationary_dist1\n",
    "\n"
   ]
  },
  {
   "cell_type": "code",
   "execution_count": 396,
   "metadata": {
    "deletable": false,
    "lx_assignment_number": "vB",
    "lx_assignment_type": "EXAM",
    "lx_assignment_type2print": "Exam",
    "lx_problem_cell_type": "PROBLEM",
    "lx_problem_number": "5",
    "lx_problem_points": "8"
   },
   "outputs": [
    {
     "name": "stdout",
     "output_type": "stream",
     "text": [
      "The probability of being in Aracaju (SE) after 3 steps is: 0.13690931560054137\n"
     ]
    }
   ],
   "source": [
    "#Given that we start in 'Aracaju (SE)' what \n",
    "#is the probability that after 3 steps we will be back in 'Aracaju (SE)'?\n",
    "\n",
    "#start in Aracaju\n",
    "#check all possible routes to fly\n",
    "\n",
    "#Method 1\n",
    "#use stationary distribution\n",
    "# Define the state you are interested in\n",
    "desired_state = 'Aracaju (SE)'\n",
    "index_of_desiterd_state = cityToIndex[desired_state]\n",
    "\n",
    "# Look up the probability in the stationary distribution\n",
    "#as the stationary dist gives probability in the long run,\n",
    "#time steps doesn't matter\n",
    "probability_after_3_steps = stationary_distribution_problem5[index_of_desiterd_state]\n",
    "\n",
    "print(f\"The probability of being in {desired_state} after 3 steps is: {probability_after_3_steps}\")\n",
    "\n",
    "\n",
    "# Compute the return probability for part 3 of problem 5\n",
    "\n",
    "return_probability_problem5 = 0.13690931560054137"
   ]
  },
  {
   "cell_type": "markdown",
   "metadata": {
    "deletable": false,
    "lx_assignment_number": "vB",
    "lx_assignment_type": "EXAM",
    "lx_assignment_type2print": "Exam",
    "lx_problem_cell_type": "Test",
    "lx_problem_number": "5",
    "lx_problem_points": "8"
   },
   "source": [
    "---\n",
    "#### Local Test for Exam vB, PROBLEM 5\n",
    "Evaluate cell below to make sure your answer is valid.                             You **should not** modify anything in the cell below when evaluating it to do a local test of                             your solution.\n",
    "You may need to include and evaluate code snippets from lecture notebooks in cells above to make the local test work correctly sometimes (see error messages for clues). This is meant to help you become efficient at recalling materials covered in lectures that relate to this problem. Such local tests will generally not be available in the exam."
   ]
  },
  {
   "cell_type": "code",
   "execution_count": 397,
   "metadata": {
    "deletable": false,
    "lx_assignment_number": "vB",
    "lx_assignment_type": "EXAM",
    "lx_assignment_type2print": "Exam",
    "lx_problem_cell_type": "Test",
    "lx_problem_number": "5",
    "lx_problem_points": "8"
   },
   "outputs": [
    {
     "name": "stdout",
     "output_type": "stream",
     "text": [
      "Aracaju (SE)->Rio de Janeiro (RJ)->Recife (PE)->Sao Paulo (SP)->Aracaju (SE)->Recife (PE)->Salvador (BH)->Recife (PE)->Florianopolis (SC)->Brasilia (DF)->"
     ]
    }
   ],
   "source": [
    "# Once you have created all your functions, you can make a small test here to see\n",
    "# what would be generated from your model.\n",
    "import numpy as np\n",
    "\n",
    "start = np.zeros(shape=(n_cities,1))\n",
    "start[cityToIndex['Aracaju (SE)'],0] = 1\n",
    "\n",
    "current_pos = start\n",
    "for i in range(10):\n",
    "    random_word_index = np.random.choice(range(n_cities),p=current_pos.reshape(-1))\n",
    "    current_pos = np.zeros_like(start)\n",
    "    current_pos[random_word_index] = 1\n",
    "    print(indexToCity[random_word_index],end='->')\n",
    "    current_pos = (current_pos.T@transition_matrix).T"
   ]
  },
  {
   "cell_type": "markdown",
   "metadata": {
    "deletable": false,
    "lx_assignment_number": "vB",
    "lx_assignment_type": "EXAM",
    "lx_assignment_type2print": "Exam",
    "lx_problem_cell_type": "PROBLEM",
    "lx_problem_number": "6",
    "lx_problem_points": "8"
   },
   "source": [
    "---\n",
    "## Exam vB, PROBLEM 6\n",
    "Maximum Points = 8"
   ]
  },
  {
   "cell_type": "markdown",
   "metadata": {
    "deletable": false,
    "lx_assignment_number": "vB",
    "lx_assignment_type": "EXAM",
    "lx_assignment_type2print": "Exam",
    "lx_problem_cell_type": "PROBLEM",
    "lx_problem_number": "6",
    "lx_problem_points": "8"
   },
   "source": [
    "\n",
    "## Black box testing\n",
    "\n",
    "In the following problem we will continue with our SMS spam / nospam data. This time we will try to approach the problem as a pattern recognition problem. For this particular problem I have provided you with everything -- data is prepared, split into train-test sets and a black-box model has been fitted on the training data and predicted on the test data. Your goal is to calculate test metrics and provide guarantees for each metric.\n",
    "\n",
    "1. [2p] Compute precision for class 1 (see notes 8.3.2 for definition), then provide an interval using Hoeffding's inequality for a 95\\% confidence.\n",
    "2. [2p] Compute recall for class 1(see notes 8.3.2 for definition), then provide an interval using Hoeffding's inequality for a 95\\% interval.\n",
    "3. [2p] Compute accuracy (0-1 loss), then provide an interval using Hoeffding's inequality for a 95\\% interval.\n",
    "4. [2p] If we would have used a classifier with VC-dimension 3, would we have obtained a smaller interval for accuracy by using all data?"
   ]
  },
  {
   "cell_type": "code",
   "execution_count": 398,
   "metadata": {
    "deletable": false,
    "jupyter": {
     "source_hidden": false
    },
    "lx_assignment_number": "vB",
    "lx_assignment_type": "EXAM",
    "lx_assignment_type2print": "Exam",
    "lx_problem_cell_type": "PROBLEM",
    "lx_problem_number": "6",
    "lx_problem_points": "8"
   },
   "outputs": [
    {
     "ename": "ModuleNotFoundError",
     "evalue": "No module named 'exam_extras'",
     "output_type": "error",
     "traceback": [
      "\u001b[0;31m---------------------------------------------------------------------------\u001b[0m",
      "\u001b[0;31mModuleNotFoundError\u001b[0m                       Traceback (most recent call last)",
      "Cell \u001b[0;32mIn [398], line 4\u001b[0m\n\u001b[1;32m      1\u001b[0m \u001b[38;5;66;03m# The code below will load data, split the data into train and test and run a \"black box\" algorithm on it\u001b[39;00m\n\u001b[1;32m      2\u001b[0m \u001b[38;5;66;03m# the result of the \"black box\" is stored in predictions_problem6, the true values will be stored in\u001b[39;00m\n\u001b[1;32m      3\u001b[0m \u001b[38;5;66;03m# Y_test_problem6\u001b[39;00m\n\u001b[0;32m----> 4\u001b[0m \u001b[38;5;28;01mimport\u001b[39;00m \u001b[38;5;21;01mexam_extras\u001b[39;00m\n\u001b[1;32m      5\u001b[0m \u001b[38;5;28;01mfrom\u001b[39;00m \u001b[38;5;21;01mexam_extras\u001b[39;00m \u001b[38;5;28;01mimport\u001b[39;00m load_sms_problem6\n\u001b[1;32m      6\u001b[0m X_problem6, Y_problem6 \u001b[38;5;241m=\u001b[39m load_sms_problem6()\n",
      "\u001b[0;31mModuleNotFoundError\u001b[0m: No module named 'exam_extras'"
     ]
    }
   ],
   "source": [
    "\n",
    "# The code below will load data, split the data into train and test and run a \"black box\" algorithm on it\n",
    "# the result of the \"black box\" is stored in predictions_problem6, the true values will be stored in\n",
    "# Y_test_problem6\n",
    "#import exam_extras\n",
    "#from exam_extras import load_sms_problem6\n",
    "X_problem6, Y_problem6 = load_sms_problem6()\n",
    "\n",
    "X_train_problem6,X_test_problem6,Y_train_problem6,Y_test_problem6 = exam_extras.train_test_split(X_problem6,Y_problem6)\n",
    "predictions_problem6 = exam_extras.knn_predictions(X_train_problem6,Y_train_problem6,X_test_problem6,k=4)"
   ]
  },
  {
   "cell_type": "code",
   "execution_count": null,
   "metadata": {
    "deletable": false,
    "lx_assignment_number": "vB",
    "lx_assignment_type": "EXAM",
    "lx_assignment_type2print": "Exam",
    "lx_problem_cell_type": "PROBLEM",
    "lx_problem_number": "6",
    "lx_problem_points": "8"
   },
   "outputs": [],
   "source": [
    "\n",
    "# Compute the precision of predictions_problem6 with respect to Y_test_problem6\n",
    "problem6_precision = XXX"
   ]
  },
  {
   "cell_type": "code",
   "execution_count": null,
   "metadata": {
    "deletable": false,
    "lx_assignment_number": "vB",
    "lx_assignment_type": "EXAM",
    "lx_assignment_type2print": "Exam",
    "lx_problem_cell_type": "PROBLEM",
    "lx_problem_number": "6",
    "lx_problem_points": "8"
   },
   "outputs": [],
   "source": [
    "\n",
    "# Compute the interval length l of precision of predictions_problem6 with respect to Y_test_problem6, with the same definition of l as in problem 4\n",
    "problem6_precision_l = XXX"
   ]
  },
  {
   "cell_type": "code",
   "execution_count": null,
   "metadata": {
    "deletable": false,
    "lx_assignment_number": "vB",
    "lx_assignment_type": "EXAM",
    "lx_assignment_type2print": "Exam",
    "lx_problem_cell_type": "PROBLEM",
    "lx_problem_number": "6",
    "lx_problem_points": "8"
   },
   "outputs": [],
   "source": [
    "\n",
    "# Repeat the same procedure but for recall\n",
    "problem6_recall = XXX"
   ]
  },
  {
   "cell_type": "code",
   "execution_count": null,
   "metadata": {
    "deletable": false,
    "lx_assignment_number": "vB",
    "lx_assignment_type": "EXAM",
    "lx_assignment_type2print": "Exam",
    "lx_problem_cell_type": "PROBLEM",
    "lx_problem_number": "6",
    "lx_problem_points": "8"
   },
   "outputs": [],
   "source": [
    "\n",
    "problem6_recall_l = XXX"
   ]
  },
  {
   "cell_type": "code",
   "execution_count": null,
   "metadata": {
    "deletable": false,
    "lx_assignment_number": "vB",
    "lx_assignment_type": "EXAM",
    "lx_assignment_type2print": "Exam",
    "lx_problem_cell_type": "PROBLEM",
    "lx_problem_number": "6",
    "lx_problem_points": "8"
   },
   "outputs": [],
   "source": [
    "\n",
    "# Repeat the same procedure but for accuracy or 0-1 loss\n",
    "problem6_accuracy = XXX"
   ]
  },
  {
   "cell_type": "code",
   "execution_count": null,
   "metadata": {
    "deletable": false,
    "lx_assignment_number": "vB",
    "lx_assignment_type": "EXAM",
    "lx_assignment_type2print": "Exam",
    "lx_problem_cell_type": "PROBLEM",
    "lx_problem_number": "6",
    "lx_problem_points": "8"
   },
   "outputs": [],
   "source": [
    "\n",
    "problem6_accuracy_l = XXX"
   ]
  },
  {
   "cell_type": "code",
   "execution_count": null,
   "metadata": {
    "deletable": false,
    "lx_assignment_number": "vB",
    "lx_assignment_type": "EXAM",
    "lx_assignment_type2print": "Exam",
    "lx_problem_cell_type": "PROBLEM",
    "lx_problem_number": "6",
    "lx_problem_points": "8"
   },
   "outputs": [],
   "source": [
    "\n",
    "# Below you will calculate the interval parameter l for a classifier running on all data with a VC dimension of 3\n",
    "# put the value in problem6_VC_l and answer problem_VC_smaller as True if the interval is smaller than the test-accuracy above\n",
    "# if not answer False. Make sure you replace XXX with something even if you only answer one of them.\n",
    "problem6_VC_l = XXX # number\n",
    "problem6_VC_smaller = XXX #True / False"
   ]
  }
 ],
 "metadata": {
  "kernelspec": {
   "display_name": "Python 3 (ipykernel)",
   "language": "python",
   "name": "python3"
  },
  "language_info": {
   "codemirror_mode": {
    "name": "ipython",
    "version": 3
   },
   "file_extension": ".py",
   "mimetype": "text/x-python",
   "name": "python",
   "nbconvert_exporter": "python",
   "pygments_lexer": "ipython3",
   "version": "3.10.8"
  },
  "lx_assignment_number": "vB",
  "lx_course_instance": "2022",
  "lx_course_name": "Introduction to Data Science",
  "lx_course_number": "1MS041"
 },
 "nbformat": 4,
 "nbformat_minor": 5
}

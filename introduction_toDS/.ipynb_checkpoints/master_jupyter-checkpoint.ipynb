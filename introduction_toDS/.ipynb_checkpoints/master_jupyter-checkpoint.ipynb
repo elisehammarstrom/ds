{
 "cells": [
  {
   "cell_type": "code",
   "execution_count": 20,
   "metadata": {},
   "outputs": [
    {
     "name": "stdout",
     "output_type": "stream",
     "text": [
      "-6.302577091963008e-17\n"
     ]
    }
   ],
   "source": [
    "#variance\n",
    "\n",
    "import numpy as np\n",
    "import random\n",
    "\n",
    "n = 100000\n",
    "toss_result = []\n",
    "i = 0\n",
    "\n",
    "for i in range(n):\n",
    "    #toss = np.random.randint(0,1)\n",
    "    outcomes = [-1, 1]\n",
    "    #random_outcome = random.choices(outcomes, weights = [0.5, 0.5])\n",
    "    #toss_result.append(random_outcome)\n",
    "    random_outcome = np.random.choice(outcomes)\n",
    "    toss_result.append(random_outcome)\n",
    "    i+=1\n",
    "\n",
    "#print(toss_result)\n",
    "mean = np.mean(toss_result)\n",
    "toss_result -= mean\n",
    "toss_result=np.array(toss_result)\n",
    "toss_result = toss_result**2\n",
    "\n",
    "variance = (1/(n-1)) * np.sum(toss_result)\n",
    "print(variance)"
   ]
  },
  {
   "cell_type": "code",
   "execution_count": null,
   "metadata": {},
   "outputs": [],
   "source": []
  }
 ],
 "metadata": {
  "kernelspec": {
   "display_name": "Python 3 (ipykernel)",
   "language": "python",
   "name": "python3"
  },
  "language_info": {
   "codemirror_mode": {
    "name": "ipython",
    "version": 3
   },
   "file_extension": ".py",
   "mimetype": "text/x-python",
   "name": "python",
   "nbconvert_exporter": "python",
   "pygments_lexer": "ipython3",
   "version": "3.10.8"
  }
 },
 "nbformat": 4,
 "nbformat_minor": 4
}

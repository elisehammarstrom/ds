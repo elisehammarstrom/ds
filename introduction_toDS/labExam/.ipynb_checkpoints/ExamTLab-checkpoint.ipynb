{
 "cells": [
  {
   "cell_type": "markdown",
   "metadata": {
    "deletable": false
   },
   "source": [
    "# Exam 15th of August 2023, 8.00-13.00 for the course 1MS041 (Introduction to Data Science / Introduktion till dataanalys)\n",
    "\n",
    "## Instructions:\n",
    "1. Complete the problems by following instructions.\n",
    "2. When done, submit this file with your solutions saved, following the instruction sheet.\n",
    "\n",
    "This exam has 3 problems for a total of 40 points, to pass you need\n",
    "20 points.\n",
    "\n",
    "## Some general hints and information:\n",
    "* Try to answer all questions even if you are uncertain.\n",
    "* Comment your code, so that if you get the wrong answer I can understand how you thought\n",
    "this can give you some points even though the code does not run.\n",
    "* Follow the instruction sheet rigorously.\n",
    "* This exam is partially autograded, but your code and your free text answers are manually graded anonymously.\n",
    "* If there are any questions, please ask the exam guards, they will escalate it to me if necessary.\n",
    "\n",
    "## Tips for free text answers\n",
    "* Be VERY clear with your reasoning, there should be zero ambiguity in what you are referring to.\n",
    "* If you want to include math, you can write LaTeX in the Markdown cells, for instance `$f(x)=x^2$` will be rendered as $f(x)=x^2$ and `$$f(x) = x^2$$` will become an equation line, as follows\n",
    "$$f(x) = x^2$$\n",
    "Another example is `$$f_{Y \\mid X}(y,x) = P(Y = y \\mid X = x) = \\exp(\\alpha \\cdot x + \\beta)$$` which renders as\n",
    "$$f_{Y \\mid X}(y,x) = P(Y = y \\mid X = x) = \\exp(\\alpha \\cdot x + \\beta)$$\n",
    "\n",
    "## Finally some rules:\n",
    "* You may not communicate with others during the exam, for example:\n",
    "    * You cannot ask for help in Stack-Overflow or other such help forums during the Exam.\n",
    "    * You may not communicate with AI's, for instance ChatGPT.\n",
    "    * Your on-line and off-line activity is being monitored according to the examination rules.\n",
    "\n",
    "## Good luck!"
   ]
  },
  {
   "cell_type": "code",
   "execution_count": 1,
   "metadata": {
    "deletable": false
   },
   "outputs": [],
   "source": [
    "# Insert your anonymous exam ID as a string in the variable below\n",
    "examID=\"XXX\"\n"
   ]
  },
  {
   "cell_type": "markdown",
   "metadata": {
    "deletable": false,
    "lx_assignment_number": "vB",
    "lx_assignment_type": "EXAM",
    "lx_assignment_type2print": "Exam",
    "lx_problem_cell_type": "PROBLEM",
    "lx_problem_number": "1",
    "lx_problem_points": "14"
   },
   "source": [
    "---\n",
    "## Exam vB, PROBLEM 1\n",
    "Maximum Points = 14"
   ]
  },
  {
   "cell_type": "markdown",
   "metadata": {
    "deletable": false,
    "lx_assignment_number": "vB",
    "lx_assignment_type": "EXAM",
    "lx_assignment_type2print": "Exam",
    "lx_problem_cell_type": "PROBLEM",
    "lx_problem_number": "1",
    "lx_problem_points": "14"
   },
   "source": [
    "A courier company operates a fleet of delivery trucks that make deliveries to different parts of the city. The trucks are equipped with GPS tracking devices that record the location of each truck at regular intervals. The locations are divided into three regions: downtown, the suburbs, and the countryside, however there is always the possibility the truck breaks down and it goes to the workshop. The following table shows the probabilities of a truck transitioning between these regions at each time step:\n",
    "\n",
    "| Current region | Probability of transitioning to downtown | Probability of transitioning to the suburbs | Probability of transitioning to the countryside | Probability of transitioning to the Workshop |\n",
    "|-|-|-|-|-|\n",
    "| Downtown       | 0.3 | 0.7 | 0 | 0 |\n",
    "| Suburbs        | 0.2 | 0.5 | 0.3 | 0 |\n",
    "| Countryside    | 0 | 0 | 0.5 | 0.5 |\n",
    "| Workshop    | 0 | 0 | 0 | 1 |\n",
    "\n",
    "1. If a truck is currently in the downtown, what is the probability that it will be in the countryside region after 10 time steps? [2p]\n",
    "2. If a truck is currently in the downtown, what is the probability that it will be in the countryside region **the first time** after three time steps or more? [2p]\n",
    "3. Is this Markov chain irreducible? Explain your answer. [3p]\n",
    "4. What is the stationary distribution? Furthermore it it reversible? (Explain your answer) [3p]\n",
    "5. Advanced question: What is the expected number of steps it takes starting from the Downtown region to first reach the Workshop? Hint: to get within 1 decimal point, it is enough to compute the probabilities for hitting times below 50. Motivate your answer in detail [4p]. You could also solve this question by simulation, but this gives you a maximum of [2p].\n",
    "\n"
   ]
  },
  {
   "cell_type": "code",
   "execution_count": 2,
   "metadata": {
    "deletable": false,
    "lx_assignment_number": "vB",
    "lx_assignment_type": "EXAM",
    "lx_assignment_type2print": "Exam",
    "lx_problem_cell_type": "PROBLEM",
    "lx_problem_number": "1",
    "lx_problem_points": "14"
   },
   "outputs": [
    {
     "name": "stdout",
     "output_type": "stream",
     "text": [
      "[1 0 0 0]\n",
      "problem1_p1:  0.08487353489999999\n"
     ]
    }
   ],
   "source": [
    "# Part 1\n",
    "\n",
    "#starts in downtown, be in countryside after 10 time steps\n",
    "import numpy as np\n",
    "\n",
    "numberOfTimesteps = 10\n",
    "desired_state = 2\n",
    "initial_state = np.array([1, 0, 0, 0]) #set 1 to the initial state\n",
    "print(initial_state)\n",
    "\n",
    "import numpy as np\n",
    "# Fill in the answer to part 1 below\n",
    "P = np.array([[0.3, 0.7, 0, 0],\n",
    "              [0.2, 0.5, 0.3, 0],\n",
    "              [0, 0, 0.5, 0.5],\n",
    "              [0, 0, 0, 1]])\n",
    "\n",
    "problem1_p1 = (initial_state@np.linalg.matrix_power(P, numberOfTimesteps))[desired_state]\n",
    "print(\"problem1_p1: \",problem1_p1)\n",
    "\n",
    "# Fill in the answer to part 1 below\n",
    "problem1_p1 = 0.08487353489999999"
   ]
  },
  {
   "cell_type": "code",
   "execution_count": 3,
   "metadata": {
    "deletable": false,
    "lx_assignment_number": "vB",
    "lx_assignment_type": "EXAM",
    "lx_assignment_type2print": "Exam",
    "lx_problem_cell_type": "PROBLEM",
    "lx_problem_number": "1",
    "lx_problem_points": "14"
   },
   "outputs": [
    {
     "name": "stdout",
     "output_type": "stream",
     "text": [
      "Probability to not go to countryside in the first 3 timesteps:  0.79\n"
     ]
    }
   ],
   "source": [
    "# Part 2\n",
    "\n",
    "#we want the probability of not being in the countryside for the first three timesteps\n",
    "#that is equal to the probabilities of staying in Downtown and transitioning to the suburbs \n",
    "#for the first three steps\n",
    "#P(!Countriside_ThreeTimesteps) = P(Downtown to Downtown in 3 steps) + P(Downtown to Suburbs in 3 steps)\n",
    "#\n",
    "\n",
    "D_to_D = 0.7 #prob transitioning downtown to downtown\n",
    "D_to_S = 0.3 #probtransitioning downtown to suburbs\n",
    "#we do not have probability to transition to workshop from downtown nor suburbs\n",
    "\n",
    "problem1_p2 = 1 - (D_to_D*D_to_S) \n",
    "print(\"Probability to not go to countryside in the first 3 timesteps: \", problem1_p2)\n",
    "\n",
    "\n",
    "# Fill in the answer to part 2 below\n",
    "problem1_p2 = 0.79"
   ]
  },
  {
   "cell_type": "markdown",
   "metadata": {
    "deletable": false,
    "lx_assignment_number": "vB",
    "lx_assignment_type": "EXAM",
    "lx_assignment_type2print": "Exam",
    "lx_problem_cell_type": "PROBLEM",
    "lx_problem_number": "1",
    "lx_problem_points": "14"
   },
   "source": [
    "\n",
    "## Part 3\n",
    "\n",
    "Double click this cell to enter edit mode and write your answer for part 3 below this line.\n"
   ]
  },
  {
   "cell_type": "code",
   "execution_count": 4,
   "metadata": {
    "deletable": false,
    "lx_assignment_number": "vB",
    "lx_assignment_type": "EXAM",
    "lx_assignment_type2print": "Exam",
    "lx_problem_cell_type": "PROBLEM",
    "lx_problem_number": "1",
    "lx_problem_points": "14"
   },
   "outputs": [],
   "source": [
    "# Part 3\n",
    "\n",
    "# Fill in the answer to part 3 below as a boolean\n",
    "problem1_irreducible = False\n",
    "#it is not irreducible as not all stages are reachable from Workshop"
   ]
  },
  {
   "cell_type": "code",
   "execution_count": 5,
   "metadata": {
    "deletable": false,
    "lx_assignment_number": "vB",
    "lx_assignment_type": "EXAM",
    "lx_assignment_type2print": "Exam",
    "lx_problem_cell_type": "PROBLEM",
    "lx_problem_number": "1",
    "lx_problem_points": "14"
   },
   "outputs": [],
   "source": [
    "# Part 4\n",
    "\n",
    "import numpy as np\n",
    "\n",
    "transition_prob = [\n",
    "    [0.3, 0.7, 0, 0], #downtown -> downtown, suburb, countryside, workshop\n",
    "    [0.2, 0.5, 0.3, 0], #suburb -> downtown, suburb, countryside, workshop\n",
    "    [0, 0, 0.5, 0.5], #countryside -> downtown, suburb, countryside, workshop\n",
    "    [0,0,0,1], #workshop -> downtown, suburb, countryside, workshop\n",
    "]\n",
    "\n",
    "P = np.array(transition_prob)\n",
    "\n",
    "stationary = np.linalg.matrix_power(P, 100)[0]\n",
    "#print(stationary)\n",
    "\n",
    "#reversible stationary distribution\n",
    "#reversible pi(x)(=vår stationary dist)*P(x,y) (där x är rad, y är kolumn) = pi(y)*P(y,x) #då är den reversible\n",
    "#we use P here below instead of transition_prob as we need to have it as a numpy array\n",
    "\n",
    "reversible = True\n",
    "\n",
    "for row in range(P.shape[0]):\n",
    "    for column in range(P.shape[1]):\n",
    "        #as if is reversible if it applies to all combinations of x and y, we \n",
    "        #need to make sure that there are no instances where the rows and columns\n",
    "        #aren't reversible\n",
    "        if stationary[row]*P[row, column] != stationary[column]*P[column, row]:\n",
    "            reversible = False\n",
    "            \n",
    "\n",
    "#print(reversible)\n",
    "\n",
    "# Fill in the answer to part 4 below\n",
    "# the answer should be a numpy array of length 3\n",
    "# make sure that the entries sums to 1!\n",
    "problem1_stationary = [1.52472233e-11, 3.71497326e-11, 3.87921489e-11, 1.00000000e+00] #dvs [0,0,0,1]\n",
    "\n",
    "problem1_reversible = False # reversible = False\n",
    "#as there exists combinations of x and y where it isn't reversible, then it is false\n",
    "\n",
    "#and: # the markov chain is reducable (as irreducible = False) and therefore also not reversible. \n",
    "#reversability is a stronger condition than reversability. \n",
    "# From state \"workshop\" you can never go back to any other state."
   ]
  },
  {
   "cell_type": "code",
   "execution_count": null,
   "metadata": {},
   "outputs": [],
   "source": []
  },
  {
   "cell_type": "markdown",
   "metadata": {
    "deletable": false,
    "lx_assignment_number": "vB",
    "lx_assignment_type": "EXAM",
    "lx_assignment_type2print": "Exam",
    "lx_problem_cell_type": "PROBLEM",
    "lx_problem_number": "1",
    "lx_problem_points": "14"
   },
   "source": [
    "# Part 4\n",
    "\n",
    "Double click this cell and write your motivation below this line\n",
    "\n",
    "Answer: It is not reversible as there exists combinations of x and y where it isn't reversible, then it is false"
   ]
  },
  {
   "cell_type": "markdown",
   "metadata": {
    "deletable": false,
    "lx_assignment_number": "vB",
    "lx_assignment_type": "EXAM",
    "lx_assignment_type2print": "Exam",
    "lx_problem_cell_type": "PROBLEM",
    "lx_problem_number": "1",
    "lx_problem_points": "14"
   },
   "source": [
    "\n",
    "## Part 5\n",
    "\n",
    "Double click this cell to enter edit mode and write your answer for part 5 below this line.\n"
   ]
  },
  {
   "cell_type": "code",
   "execution_count": 6,
   "metadata": {
    "deletable": false,
    "lx_assignment_number": "vB",
    "lx_assignment_type": "EXAM",
    "lx_assignment_type2print": "Exam",
    "lx_problem_cell_type": "PROBLEM",
    "lx_problem_number": "1",
    "lx_problem_points": "14"
   },
   "outputs": [
    {
     "name": "stdout",
     "output_type": "stream",
     "text": [
      "expected_number_of_steps, wrong for this question:  3.894323\n"
     ]
    }
   ],
   "source": [
    "# Part 5\n",
    "#solution with simulation that works on whatever matrix\n",
    "\n",
    "import random\n",
    "import numpy as np\n",
    "\n",
    "#set values at start\n",
    "my_transition_matrix = transition_prob\n",
    "P = np.array(my_transition_matrix) #set P to a numpy array of transition matrix\n",
    "starting_state = 0 #downtown\n",
    "number_of_states = 4\n",
    "desired_state = 3 #index\n",
    "max_hitting_time = 50\n",
    "number_of_rw = 1000000 #number of random walks\n",
    "steps_per_rw = [] #steps for each rw before reaching downtown\n",
    "current_rw_number = 0\n",
    "\n",
    "def toss_probabilities(array_of_probabilities):\n",
    "    probabilities = array_of_probabilities #[0.5, 0.3, 0.4] suburbs, downtown, countryside\n",
    "    outcomes = range(number_of_states) #previously outcomes = [0, 1, 2], but it is the same\n",
    "    random_outcome = random.choices(outcomes, probabilities)[0] #this [0] take away the list that surrounds the number\n",
    "    return random_outcome\n",
    "\n",
    "def simulate_random_walk():\n",
    "    hitting_time = 0\n",
    "    i = 0\n",
    "    current_state = starting_state\n",
    "    for i in range(0, P.shape[0]): #loop through all different states, here all rows\n",
    "        if hitting_time < max_hitting_time :\n",
    "            if current_state == desired_state:\n",
    "                break;\n",
    "\n",
    "            if current_state != desired_state and current_state == i:\n",
    "                current_state=toss_probabilities(P[i])\n",
    "        i+=1\n",
    "        hitting_time += 1\n",
    "        \n",
    "    return hitting_time\n",
    "\n",
    "while current_rw_number < number_of_rw:\n",
    "    steps = simulate_random_walk()\n",
    "    steps_per_rw.append(steps)\n",
    "    current_rw_number += 1\n",
    "    \n",
    "expected_number_of_steps = sum(steps_per_rw)/len(steps_per_rw)\n",
    "print(\"expected_number_of_steps, wrong for this question: \", expected_number_of_steps)\n",
    "\n",
    "# Fill in the answer to part 5 below\n",
    "# That is, the expected number of steps\n",
    "problem1_ET = 3.895261\n",
    "\n"
   ]
  },
  {
   "cell_type": "code",
   "execution_count": 7,
   "metadata": {},
   "outputs": [
    {
     "name": "stdout",
     "output_type": "stream",
     "text": [
      "7.713315600321836\n"
     ]
    }
   ],
   "source": [
    "#Ellas svar på fråga 5\n",
    "\n",
    "P1 = np.matrix([[0.3,0.7,0],[0.2,0.5,0.3],[0,0,0.5]])\n",
    "p0 = np.matrix((1,0,0)) \n",
    "solution = np.sum([t*p0@np.linalg.matrix_power(P1,t-1)@np.array([P[0,3],P[1,3],P[2,3]]) for t in range(1,50)])\n",
    "print(solution)\n",
    "problem1_ET = solution"
   ]
  },
  {
   "cell_type": "markdown",
   "metadata": {
    "deletable": false,
    "lx_assignment_number": "vB",
    "lx_assignment_type": "EXAM",
    "lx_assignment_type2print": "Exam",
    "lx_problem_cell_type": "PROBLEM",
    "lx_problem_number": "2",
    "lx_problem_points": "13"
   },
   "source": [
    "---\n",
    "## Exam vB, PROBLEM 2\n",
    "Maximum Points = 13"
   ]
  },
  {
   "cell_type": "markdown",
   "metadata": {
    "deletable": false,
    "lx_assignment_number": "vB",
    "lx_assignment_type": "EXAM",
    "lx_assignment_type2print": "Exam",
    "lx_problem_cell_type": "PROBLEM",
    "lx_problem_number": "2",
    "lx_problem_points": "13"
   },
   "source": [
    "\n",
    "You are given a \"Data Science Salaries\" dataset found in `data/salaries.csv`, which contains employment information of data scientists up to 2023 and the salary obtained. Your task is to train a `linear regression` model to predict the salary of a data scientist based on the employment information.\n",
    "\n",
    "To evaluate your model, you will split the dataset into a training set and a testing set. You will use the training set to train your model, and the testing set to evaluate its performance.\n",
    "\n",
    "`Experience level`: 0 = Entry Level, 1 = Mid Level, 2 = Senior Level, 3 = Executive Level.\n",
    "\n",
    "`Employment type`: 0 = Part Time, 1 = Full Time, 2 = Contractor, 3 = Freelancer\n",
    "\n",
    "1. Load the data into a pandas dataframe `problem2_df`. Based on the column names, figure out what are the features and the target and fill in the answer in the correct cell below. [1p]\n",
    "2. Split the data into train and test. [1p]\n",
    "3. Train the model. [1p]\n",
    "4. Come up with a reasonable metric and compute it. Provide plots that show the performance of the model. Reason about the performance. [4p]\n",
    "5. Predict the 2023 salary of a data scientist that works full time (1) at mid employment level (1) with 0 remote ratio. Then, looking at the output of `problem2_model.coef_`, which are the coefficients of the linear model, would a higher remote ratio result in a higher predicted salary or vice versa? [3p]\n",
    "6. Advanced question: On the test set, plot the empirical distribution function of the residual with confidence bands (i.e. using the DKW inequality and 95% confidence). What does the confidence band tell us? What can the confidence band be used for? [3p]\n"
   ]
  },
  {
   "cell_type": "code",
   "execution_count": 8,
   "metadata": {
    "deletable": false,
    "lx_assignment_number": "vB",
    "lx_assignment_type": "EXAM",
    "lx_assignment_type2print": "Exam",
    "lx_problem_cell_type": "PROBLEM",
    "lx_problem_number": "2",
    "lx_problem_points": "13"
   },
   "outputs": [
    {
     "data": {
      "text/html": [
       "<div>\n",
       "<style scoped>\n",
       "    .dataframe tbody tr th:only-of-type {\n",
       "        vertical-align: middle;\n",
       "    }\n",
       "\n",
       "    .dataframe tbody tr th {\n",
       "        vertical-align: top;\n",
       "    }\n",
       "\n",
       "    .dataframe thead th {\n",
       "        text-align: right;\n",
       "    }\n",
       "</style>\n",
       "<table border=\"1\" class=\"dataframe\">\n",
       "  <thead>\n",
       "    <tr style=\"text-align: right;\">\n",
       "      <th></th>\n",
       "      <th>work_year</th>\n",
       "      <th>experience_level</th>\n",
       "      <th>employment_type</th>\n",
       "      <th>salary_in_usd</th>\n",
       "      <th>remote_ratio</th>\n",
       "    </tr>\n",
       "  </thead>\n",
       "  <tbody>\n",
       "    <tr>\n",
       "      <th>0</th>\n",
       "      <td>2023</td>\n",
       "      <td>2</td>\n",
       "      <td>1</td>\n",
       "      <td>85847</td>\n",
       "      <td>100</td>\n",
       "    </tr>\n",
       "    <tr>\n",
       "      <th>1</th>\n",
       "      <td>2023</td>\n",
       "      <td>1</td>\n",
       "      <td>2</td>\n",
       "      <td>30000</td>\n",
       "      <td>100</td>\n",
       "    </tr>\n",
       "    <tr>\n",
       "      <th>2</th>\n",
       "      <td>2023</td>\n",
       "      <td>1</td>\n",
       "      <td>2</td>\n",
       "      <td>25500</td>\n",
       "      <td>100</td>\n",
       "    </tr>\n",
       "    <tr>\n",
       "      <th>3</th>\n",
       "      <td>2023</td>\n",
       "      <td>2</td>\n",
       "      <td>1</td>\n",
       "      <td>175000</td>\n",
       "      <td>100</td>\n",
       "    </tr>\n",
       "    <tr>\n",
       "      <th>4</th>\n",
       "      <td>2023</td>\n",
       "      <td>2</td>\n",
       "      <td>1</td>\n",
       "      <td>120000</td>\n",
       "      <td>100</td>\n",
       "    </tr>\n",
       "    <tr>\n",
       "      <th>5</th>\n",
       "      <td>2023</td>\n",
       "      <td>2</td>\n",
       "      <td>1</td>\n",
       "      <td>222200</td>\n",
       "      <td>0</td>\n",
       "    </tr>\n",
       "    <tr>\n",
       "      <th>6</th>\n",
       "      <td>2023</td>\n",
       "      <td>2</td>\n",
       "      <td>1</td>\n",
       "      <td>136000</td>\n",
       "      <td>0</td>\n",
       "    </tr>\n",
       "    <tr>\n",
       "      <th>7</th>\n",
       "      <td>2023</td>\n",
       "      <td>2</td>\n",
       "      <td>1</td>\n",
       "      <td>219000</td>\n",
       "      <td>0</td>\n",
       "    </tr>\n",
       "    <tr>\n",
       "      <th>8</th>\n",
       "      <td>2023</td>\n",
       "      <td>2</td>\n",
       "      <td>1</td>\n",
       "      <td>141000</td>\n",
       "      <td>0</td>\n",
       "    </tr>\n",
       "    <tr>\n",
       "      <th>9</th>\n",
       "      <td>2023</td>\n",
       "      <td>2</td>\n",
       "      <td>1</td>\n",
       "      <td>147100</td>\n",
       "      <td>0</td>\n",
       "    </tr>\n",
       "    <tr>\n",
       "      <th>10</th>\n",
       "      <td>2023</td>\n",
       "      <td>2</td>\n",
       "      <td>1</td>\n",
       "      <td>90700</td>\n",
       "      <td>0</td>\n",
       "    </tr>\n",
       "    <tr>\n",
       "      <th>11</th>\n",
       "      <td>2023</td>\n",
       "      <td>2</td>\n",
       "      <td>1</td>\n",
       "      <td>130000</td>\n",
       "      <td>100</td>\n",
       "    </tr>\n",
       "    <tr>\n",
       "      <th>12</th>\n",
       "      <td>2023</td>\n",
       "      <td>2</td>\n",
       "      <td>1</td>\n",
       "      <td>100000</td>\n",
       "      <td>100</td>\n",
       "    </tr>\n",
       "    <tr>\n",
       "      <th>13</th>\n",
       "      <td>2023</td>\n",
       "      <td>0</td>\n",
       "      <td>1</td>\n",
       "      <td>213660</td>\n",
       "      <td>0</td>\n",
       "    </tr>\n",
       "    <tr>\n",
       "      <th>14</th>\n",
       "      <td>2023</td>\n",
       "      <td>0</td>\n",
       "      <td>1</td>\n",
       "      <td>130760</td>\n",
       "      <td>0</td>\n",
       "    </tr>\n",
       "    <tr>\n",
       "      <th>15</th>\n",
       "      <td>2023</td>\n",
       "      <td>2</td>\n",
       "      <td>1</td>\n",
       "      <td>147100</td>\n",
       "      <td>0</td>\n",
       "    </tr>\n",
       "    <tr>\n",
       "      <th>16</th>\n",
       "      <td>2023</td>\n",
       "      <td>2</td>\n",
       "      <td>1</td>\n",
       "      <td>90700</td>\n",
       "      <td>0</td>\n",
       "    </tr>\n",
       "    <tr>\n",
       "      <th>17</th>\n",
       "      <td>2023</td>\n",
       "      <td>2</td>\n",
       "      <td>1</td>\n",
       "      <td>170000</td>\n",
       "      <td>0</td>\n",
       "    </tr>\n",
       "    <tr>\n",
       "      <th>18</th>\n",
       "      <td>2023</td>\n",
       "      <td>2</td>\n",
       "      <td>1</td>\n",
       "      <td>150000</td>\n",
       "      <td>0</td>\n",
       "    </tr>\n",
       "    <tr>\n",
       "      <th>19</th>\n",
       "      <td>2023</td>\n",
       "      <td>1</td>\n",
       "      <td>1</td>\n",
       "      <td>150000</td>\n",
       "      <td>100</td>\n",
       "    </tr>\n",
       "  </tbody>\n",
       "</table>\n",
       "</div>"
      ],
      "text/plain": [
       "    work_year  experience_level  employment_type  salary_in_usd  remote_ratio\n",
       "0        2023                 2                1          85847           100\n",
       "1        2023                 1                2          30000           100\n",
       "2        2023                 1                2          25500           100\n",
       "3        2023                 2                1         175000           100\n",
       "4        2023                 2                1         120000           100\n",
       "5        2023                 2                1         222200             0\n",
       "6        2023                 2                1         136000             0\n",
       "7        2023                 2                1         219000             0\n",
       "8        2023                 2                1         141000             0\n",
       "9        2023                 2                1         147100             0\n",
       "10       2023                 2                1          90700             0\n",
       "11       2023                 2                1         130000           100\n",
       "12       2023                 2                1         100000           100\n",
       "13       2023                 0                1         213660             0\n",
       "14       2023                 0                1         130760             0\n",
       "15       2023                 2                1         147100             0\n",
       "16       2023                 2                1          90700             0\n",
       "17       2023                 2                1         170000             0\n",
       "18       2023                 2                1         150000             0\n",
       "19       2023                 1                1         150000           100"
      ]
     },
     "execution_count": 8,
     "metadata": {},
     "output_type": "execute_result"
    }
   ],
   "source": [
    "# Part 1\n",
    "# Let problem2_df be the pandas dataframe that contains the data from the file\n",
    "\n",
    "import pandas as pd\n",
    "problem2_df = pd.read_csv('data/salaries.csv')\n",
    "problem2_df.head(20)"
   ]
  },
  {
   "cell_type": "code",
   "execution_count": 9,
   "metadata": {
    "deletable": false,
    "lx_assignment_number": "vB",
    "lx_assignment_type": "EXAM",
    "lx_assignment_type2print": "Exam",
    "lx_problem_cell_type": "PROBLEM",
    "lx_problem_number": "2",
    "lx_problem_points": "13"
   },
   "outputs": [],
   "source": [
    "# Part 1\n",
    "\n",
    "# Fill in the features as a list of strings of the names of the columns\n",
    "\n",
    "problem2_features = ['work_year', 'experience_level', 'employment_type',\n",
    "       'remote_ratio']\n",
    "\n",
    "# Fill in the target as a string with the correct column name\n",
    "\n",
    "problem2_target = \"salary_in_usd\""
   ]
  },
  {
   "cell_type": "code",
   "execution_count": 10,
   "metadata": {
    "deletable": false,
    "lx_assignment_number": "vB",
    "lx_assignment_type": "EXAM",
    "lx_assignment_type2print": "Exam",
    "lx_problem_cell_type": "PROBLEM",
    "lx_problem_number": "2",
    "lx_problem_points": "13"
   },
   "outputs": [],
   "source": [
    "# Part 2\n",
    "\n",
    "from sklearn.model_selection import train_test_split\n",
    "X = problem2_df.loc[:, problem2_df.columns.isin(problem2_features)]\n",
    "y = problem2_df.loc[:, problem2_df.columns.isin([problem2_target])].values.flatten()\n",
    "#y\n",
    "\n",
    "\n",
    "# Split the data into train and test using train_test_split\n",
    "# keep the train size as 0.8 and use random_state=42\n",
    "problem2_X_train,problem2_X_test,problem2_y_train,problem2_y_test = train_test_split(X, y, train_size=0.8, random_state=42)\n",
    "\n"
   ]
  },
  {
   "cell_type": "code",
   "execution_count": 11,
   "metadata": {
    "deletable": false,
    "lx_assignment_number": "vB",
    "lx_assignment_type": "EXAM",
    "lx_assignment_type2print": "Exam",
    "lx_problem_cell_type": "PROBLEM",
    "lx_problem_number": "2",
    "lx_problem_points": "13"
   },
   "outputs": [
    {
     "data": {
      "text/html": [
       "<style>#sk-container-id-1 {color: black;background-color: white;}#sk-container-id-1 pre{padding: 0;}#sk-container-id-1 div.sk-toggleable {background-color: white;}#sk-container-id-1 label.sk-toggleable__label {cursor: pointer;display: block;width: 100%;margin-bottom: 0;padding: 0.3em;box-sizing: border-box;text-align: center;}#sk-container-id-1 label.sk-toggleable__label-arrow:before {content: \"▸\";float: left;margin-right: 0.25em;color: #696969;}#sk-container-id-1 label.sk-toggleable__label-arrow:hover:before {color: black;}#sk-container-id-1 div.sk-estimator:hover label.sk-toggleable__label-arrow:before {color: black;}#sk-container-id-1 div.sk-toggleable__content {max-height: 0;max-width: 0;overflow: hidden;text-align: left;background-color: #f0f8ff;}#sk-container-id-1 div.sk-toggleable__content pre {margin: 0.2em;color: black;border-radius: 0.25em;background-color: #f0f8ff;}#sk-container-id-1 input.sk-toggleable__control:checked~div.sk-toggleable__content {max-height: 200px;max-width: 100%;overflow: auto;}#sk-container-id-1 input.sk-toggleable__control:checked~label.sk-toggleable__label-arrow:before {content: \"▾\";}#sk-container-id-1 div.sk-estimator input.sk-toggleable__control:checked~label.sk-toggleable__label {background-color: #d4ebff;}#sk-container-id-1 div.sk-label input.sk-toggleable__control:checked~label.sk-toggleable__label {background-color: #d4ebff;}#sk-container-id-1 input.sk-hidden--visually {border: 0;clip: rect(1px 1px 1px 1px);clip: rect(1px, 1px, 1px, 1px);height: 1px;margin: -1px;overflow: hidden;padding: 0;position: absolute;width: 1px;}#sk-container-id-1 div.sk-estimator {font-family: monospace;background-color: #f0f8ff;border: 1px dotted black;border-radius: 0.25em;box-sizing: border-box;margin-bottom: 0.5em;}#sk-container-id-1 div.sk-estimator:hover {background-color: #d4ebff;}#sk-container-id-1 div.sk-parallel-item::after {content: \"\";width: 100%;border-bottom: 1px solid gray;flex-grow: 1;}#sk-container-id-1 div.sk-label:hover label.sk-toggleable__label {background-color: #d4ebff;}#sk-container-id-1 div.sk-serial::before {content: \"\";position: absolute;border-left: 1px solid gray;box-sizing: border-box;top: 0;bottom: 0;left: 50%;z-index: 0;}#sk-container-id-1 div.sk-serial {display: flex;flex-direction: column;align-items: center;background-color: white;padding-right: 0.2em;padding-left: 0.2em;position: relative;}#sk-container-id-1 div.sk-item {position: relative;z-index: 1;}#sk-container-id-1 div.sk-parallel {display: flex;align-items: stretch;justify-content: center;background-color: white;position: relative;}#sk-container-id-1 div.sk-item::before, #sk-container-id-1 div.sk-parallel-item::before {content: \"\";position: absolute;border-left: 1px solid gray;box-sizing: border-box;top: 0;bottom: 0;left: 50%;z-index: -1;}#sk-container-id-1 div.sk-parallel-item {display: flex;flex-direction: column;z-index: 1;position: relative;background-color: white;}#sk-container-id-1 div.sk-parallel-item:first-child::after {align-self: flex-end;width: 50%;}#sk-container-id-1 div.sk-parallel-item:last-child::after {align-self: flex-start;width: 50%;}#sk-container-id-1 div.sk-parallel-item:only-child::after {width: 0;}#sk-container-id-1 div.sk-dashed-wrapped {border: 1px dashed gray;margin: 0 0.4em 0.5em 0.4em;box-sizing: border-box;padding-bottom: 0.4em;background-color: white;}#sk-container-id-1 div.sk-label label {font-family: monospace;font-weight: bold;display: inline-block;line-height: 1.2em;}#sk-container-id-1 div.sk-label-container {text-align: center;}#sk-container-id-1 div.sk-container {/* jupyter's `normalize.less` sets `[hidden] { display: none; }` but bootstrap.min.css set `[hidden] { display: none !important; }` so we also need the `!important` here to be able to override the default hidden behavior on the sphinx rendered scikit-learn.org. See: https://github.com/scikit-learn/scikit-learn/issues/21755 */display: inline-block !important;position: relative;}#sk-container-id-1 div.sk-text-repr-fallback {display: none;}</style><div id=\"sk-container-id-1\" class=\"sk-top-container\"><div class=\"sk-text-repr-fallback\"><pre>LinearRegression()</pre><b>In a Jupyter environment, please rerun this cell to show the HTML representation or trust the notebook. <br />On GitHub, the HTML representation is unable to render, please try loading this page with nbviewer.org.</b></div><div class=\"sk-container\" hidden><div class=\"sk-item\"><div class=\"sk-estimator sk-toggleable\"><input class=\"sk-toggleable__control sk-hidden--visually\" id=\"sk-estimator-id-1\" type=\"checkbox\" checked><label for=\"sk-estimator-id-1\" class=\"sk-toggleable__label sk-toggleable__label-arrow\">LinearRegression</label><div class=\"sk-toggleable__content\"><pre>LinearRegression()</pre></div></div></div></div></div>"
      ],
      "text/plain": [
       "LinearRegression()"
      ]
     },
     "execution_count": 11,
     "metadata": {},
     "output_type": "execute_result"
    }
   ],
   "source": [
    "# Part 3\n",
    "\n",
    "# Include the necessary imports\n",
    "from sklearn.linear_model import LinearRegression\n",
    "\n",
    "\n",
    "# Initialize your linear regression model\n",
    "problem2_model = LinearRegression()\n",
    "\n",
    "# Train your model on the training data\n",
    "\n",
    "problem2_model.fit(problem2_X_train, problem2_y_train)\n"
   ]
  },
  {
   "cell_type": "markdown",
   "metadata": {
    "deletable": false,
    "lx_assignment_number": "vB",
    "lx_assignment_type": "EXAM",
    "lx_assignment_type2print": "Exam",
    "lx_problem_cell_type": "PROBLEM",
    "lx_problem_number": "2",
    "lx_problem_points": "13"
   },
   "source": [
    "## Part 4\n",
    "\n",
    "Double click this cell to enter edit mode and write your answer for part 4 below this line.\n"
   ]
  },
  {
   "cell_type": "code",
   "execution_count": 13,
   "metadata": {
    "deletable": false,
    "lx_assignment_number": "vB",
    "lx_assignment_type": "EXAM",
    "lx_assignment_type2print": "Exam",
    "lx_problem_cell_type": "PROBLEM",
    "lx_problem_number": "2",
    "lx_problem_points": "13"
   },
   "outputs": [
    {
     "name": "stdout",
     "output_type": "stream",
     "text": [
      "44488.11860767325\n"
     ]
    },
    {
     "ename": "ModuleNotFoundError",
     "evalue": "No module named 'introduction_toDS'",
     "output_type": "error",
     "traceback": [
      "\u001b[0;31m---------------------------------------------------------------------------\u001b[0m",
      "\u001b[0;31mModuleNotFoundError\u001b[0m                       Traceback (most recent call last)",
      "Cell \u001b[0;32mIn [13], line 15\u001b[0m\n\u001b[1;32m     13\u001b[0m sys\u001b[38;5;241m.\u001b[39mpath\u001b[38;5;241m.\u001b[39mappend(\u001b[38;5;124m'\u001b[39m\u001b[38;5;124m../introduction_toDS\u001b[39m\u001b[38;5;124m'\u001b[39m)\n\u001b[1;32m     14\u001b[0m \u001b[38;5;28;01mimport\u001b[39;00m \u001b[38;5;21;01mmatplotlib\u001b[39;00m\u001b[38;5;21;01m.\u001b[39;00m\u001b[38;5;21;01mpyplot\u001b[39;00m \u001b[38;5;28;01mas\u001b[39;00m \u001b[38;5;21;01mplt\u001b[39;00m\n\u001b[0;32m---> 15\u001b[0m \u001b[38;5;28;01mfrom\u001b[39;00m \u001b[38;5;21;01mintroduction_toDS\u001b[39;00m \u001b[38;5;28;01mimport\u001b[39;00m Utils\n\u001b[1;32m     17\u001b[0m residual \u001b[38;5;241m=\u001b[39m problem2_y_test \u001b[38;5;241m-\u001b[39m y_pred\n\u001b[1;32m     19\u001b[0m fig, ax \u001b[38;5;241m=\u001b[39m plt\u001b[38;5;241m.\u001b[39msubplots(figsize\u001b[38;5;241m=\u001b[39m(\u001b[38;5;241m8\u001b[39m, \u001b[38;5;241m6\u001b[39m))\n",
      "\u001b[0;31mModuleNotFoundError\u001b[0m: No module named 'introduction_toDS'"
     ]
    }
   ],
   "source": [
    "# Part 4\n",
    "\n",
    "# Write the code to diagnose your model\n",
    "from sklearn.metrics import mean_absolute_error\n",
    "\n",
    "y_pred = problem2_model.predict(problem2_X_test)\n",
    "problem2_mae = mean_absolute_error(problem2_y_test, y_pred)\n",
    "print(problem2_mae)\n",
    "\n",
    "\n",
    "#plots\n",
    "import sys\n",
    "sys.path.append('../introduction_toDS')\n",
    "import matplotlib.pyplot as plt\n",
    "from introduction_toDS import Utils\n",
    "\n",
    "residual = problem2_y_test - y_pred\n",
    "\n",
    "fig, ax = plt.subplots(figsize=(8, 6))\n",
    "Utils.plotEDF(Utils.makeEDF(residual), confidence_band=True, alpha=0.95)\n",
    "plt.scatter(y_pred, problem2_y_test)\n",
    "#plt.xticks(ticks=range(-150000, 300000, 50000))\n",
    "#plt.yticks(ticks=range(0,1))\n",
    "plt.show()\n"
   ]
  },
  {
   "cell_type": "markdown",
   "metadata": {
    "deletable": false,
    "lx_assignment_number": "vB",
    "lx_assignment_type": "EXAM",
    "lx_assignment_type2print": "Exam",
    "lx_problem_cell_type": "PROBLEM",
    "lx_problem_number": "2",
    "lx_problem_points": "13"
   },
   "source": [
    "## Part 5\n",
    "\n",
    "Double click this cell to enter edit mode and write your answer for part 5 below this line.\n"
   ]
  },
  {
   "cell_type": "code",
   "execution_count": null,
   "metadata": {
    "deletable": false,
    "lx_assignment_number": "vB",
    "lx_assignment_type": "EXAM",
    "lx_assignment_type2print": "Exam",
    "lx_problem_cell_type": "PROBLEM",
    "lx_problem_number": "2",
    "lx_problem_points": "13"
   },
   "outputs": [],
   "source": [
    "# Part 5\n",
    "\n",
    "# Put the code for part 5 below this line\n",
    "\n",
    "#Predict the 2023 salary of a data scientist that works full time (1) \n",
    "#at mid employment level (1) with 0 remote ratio. \n",
    "#Then, looking at the output of problem2_model.coef_, \n",
    "#which are the coefficients of the linear model, \n",
    "#would a higher remote ratio result in a higher predicted salary or vice versa? [3p]\n",
    "\n",
    "#we want a combination of characteristics\n",
    "tmp1 = problem2_df.loc[problem2_df['experience_level'] == 1]\n",
    "tmp2 = tmp1.loc[tmp1['remote_ratio'] == 0]\n",
    "tmp3 = tmp2.loc[tmp2['employment_type'] == 1]\n",
    "\n",
    "X_new = tmp3.loc[:, tmp3.columns.isin(problem2_features)]\n",
    "y_new = tmp3.loc[:, tmp3.columns.isin([problem2_target])].values.flatten()\n",
    "\n",
    "\n",
    "X_train_new,X_test_new,y_train_new,y_test_new = train_test_split(X_new, y_new, train_size=0.2, random_state=42)\n",
    "\n",
    "from sklearn.linear_model import LinearRegression\n",
    "model2 = LinearRegression()\n",
    "model2.fit(X_train_new, y_train_new)\n"
   ]
  },
  {
   "cell_type": "code",
   "execution_count": null,
   "metadata": {
    "deletable": false,
    "lx_assignment_number": "vB",
    "lx_assignment_type": "EXAM",
    "lx_assignment_type2print": "Exam",
    "lx_problem_cell_type": "PROBLEM",
    "lx_problem_number": "2",
    "lx_problem_points": "13"
   },
   "outputs": [],
   "source": [
    "# Part 5\n",
    "#use utils plotEDF make EDF here\n",
    "\n",
    "problem2_predicted_salary = model2.predict(X_test_new)\n",
    "y_pred_new = problem2_predicted_salary\n",
    "residual_new = y_test_new - y_pred_new\n",
    "\n",
    "fig, ax = plt.subplots(figsize=(8, 6))\n",
    "Utils.plotEDF(Utils.makeEDF(residual_new), confidence_band=True, alpha=0.95)\n",
    "#plt.xticks(ticks=range(-150000, 300000, 50000))\n",
    "#plt.yticks(ticks=range(0,1))\n",
    "plt.scatter(y_pred_new, y_test_new)\n",
    "plt.show()\n",
    "\n",
    "problem2_model.coef_\n",
    "\n",
    "#checking the coefficients of the model, especially last one, the remote_ratio coefficient\n",
    "#shows that a higher remote ratio would decrease the salary\n",
    "\n",
    "\n"
   ]
  },
  {
   "cell_type": "markdown",
   "metadata": {
    "deletable": false,
    "lx_assignment_number": "vB",
    "lx_assignment_type": "EXAM",
    "lx_assignment_type2print": "Exam",
    "lx_problem_cell_type": "PROBLEM",
    "lx_problem_number": "2",
    "lx_problem_points": "13"
   },
   "source": [
    "\n",
    "## Part 6\n",
    "\n",
    "Double click this cell to enter edit mode and write your answer for part 6 below this line.\n",
    "\n"
   ]
  },
  {
   "cell_type": "code",
   "execution_count": null,
   "metadata": {
    "deletable": false,
    "lx_assignment_number": "vB",
    "lx_assignment_type": "EXAM",
    "lx_assignment_type2print": "Exam",
    "lx_problem_cell_type": "PROBLEM",
    "lx_problem_number": "2",
    "lx_problem_points": "13"
   },
   "outputs": [],
   "source": [
    "# Part 6\n",
    "\n",
    "# Put the code for part 6 below this line\n",
    "\n",
    "#this is the same code used for part 4\n",
    "residual = problem2_y_test - y_pred\n",
    "\n",
    "fig, ax = plt.subplots(figsize=(8, 6))\n",
    "Utils.plotEDF(Utils.makeEDF(residual), confidence_band=True, alpha=0.95)\n",
    "plt.scatter(y_pred, problem2_y_test)\n",
    "#plt.xticks(ticks=range(-150000, 300000, 50000))\n",
    "#plt.yticks(ticks=range(0,1))\n",
    "plt.show()\n",
    "\n",
    "\n",
    "#What does the confidence band tell us?\n",
    "#If the confidence bands are narrow, \n",
    "#it suggests that the observed residuals provide a good estimate of the true distribution.\n",
    "#If the confidence bands are wide, \n",
    "#it indicates greater uncertainty in estimating the true distribution, \n",
    "#possibly due to a small sample size or variability in the data\n",
    "\n",
    "#What can  the confidence band be used for? \n",
    "#Model assessment: Assess how well the model performs on the residuals/captures the residuals\n",
    "#Identify outliers: Can be used to identify outliers, as we likely have few datapoints where the confidence band \n",
    "#is the widest, less certainity\n",
    "#We can also use the confidence band to compare models, to assess which model performs the best given \n",
    "#the entire interval, or subintervals\n",
    "\n"
   ]
  },
  {
   "cell_type": "markdown",
   "metadata": {
    "deletable": false,
    "lx_assignment_number": "vB",
    "lx_assignment_type": "EXAM",
    "lx_assignment_type2print": "Exam",
    "lx_problem_cell_type": "PROBLEM",
    "lx_problem_number": "3",
    "lx_problem_points": "13"
   },
   "source": [
    "---\n",
    "## Exam vB, PROBLEM 3\n",
    "Maximum Points = 13"
   ]
  },
  {
   "cell_type": "markdown",
   "metadata": {
    "deletable": false,
    "lx_assignment_number": "vB",
    "lx_assignment_type": "EXAM",
    "lx_assignment_type2print": "Exam",
    "lx_problem_cell_type": "PROBLEM",
    "lx_problem_number": "3",
    "lx_problem_points": "13"
   },
   "source": [
    "\n",
    "## Random variable generation\n",
    "\n",
    "1. [4p] Using inversion sampling, construct 1000 samples from the below distribution\n",
    "$$\n",
    "    F[x] = \n",
    "    \\begin{cases}\n",
    "        0, & x \\leq 0 \\\\\n",
    "        e^x-1, & 0 < x < \\ln(2) \\\\\n",
    "        1, & x \\geq \\ln(2)\n",
    "    \\end{cases}\n",
    "$$\n",
    "2. [2p] Use the above 1000 samples to estimate the mean and variance\n",
    "3. [4p] Using the **Accept-Reject** sampler (**Algorithm 1** in TFDS notes) construct 1000 samples from the same distribution, what proposal distribution did you choose and why? What proportion of samples where accepted?\n",
    "4. [3p] Explain if it is possible to sample from the density\n",
    "$$\n",
    "    f(x) = C e^{-(x^2-2)^2}\n",
    "$$\n",
    "using the **Accept-Reject** sampler (**Algorithm 1** in TFDS notes) with sampling density given the Gaussian. Here $C$ is a constant to make sure that $f$ is a density, it between roughly $1.34$ and $1.35$."
   ]
  },
  {
   "cell_type": "code",
   "execution_count": 19,
   "metadata": {
    "deletable": false,
    "lx_assignment_number": "vB",
    "lx_assignment_type": "EXAM",
    "lx_assignment_type2print": "Exam",
    "lx_problem_cell_type": "PROBLEM",
    "lx_problem_number": "3",
    "lx_problem_points": "13"
   },
   "outputs": [],
   "source": [
    "# Part 1\n",
    "\n",
    "# Write your code below\n",
    "\n",
    "import numpy as np\n",
    "import math\n",
    "\n",
    "samples = []\n",
    "max_samples = 1000\n",
    "\n",
    "\n",
    "#u = np.random.uniform()\n",
    "\n",
    "#we want to have one probability, and then get out the x-value that corresponds to that\n",
    "#if we have 0 probability x=0, as F(0)=0\n",
    "#if we have 1 in probability x=ln(2), F(ln(2))=1\n",
    "#if we have e^(x)-1 probabilty we have that F^{-1} == \n",
    "\n",
    "def F(x):\n",
    "    if x <= 0:\n",
    "        return 0\n",
    "    elif x > 0 and x<math.log(2):\n",
    "        return math.exp(x)-1\n",
    "    elif x > math.log(2):\n",
    "        return 1\n",
    "    else: \n",
    "        print(\"Error in F(x) function\")\n",
    "\n",
    "def F_inverse(prob):\n",
    "    if prob<=0:\n",
    "        return 0\n",
    "    elif prob == 1:\n",
    "        return math.log(2)\n",
    "    elif (prob>0 and prob<math.log(2)):\n",
    "        return math.log(prob+1)\n",
    "    elif (prob>math.log(2) and prob<1):\n",
    "        return math.log(2)\n",
    "    else:\n",
    "        print(\"Error\")\n",
    "        \n",
    "\n",
    "while len(samples)<max_samples:\n",
    "    u = np.random.uniform()\n",
    "    #print(u)\n",
    "    samples.append(F_inverse(u))\n",
    "\n",
    "#samples\n",
    "\n",
    "#print(np.mean(samples))\n"
   ]
  },
  {
   "cell_type": "code",
   "execution_count": 20,
   "metadata": {
    "deletable": false,
    "lx_assignment_number": "vB",
    "lx_assignment_type": "EXAM",
    "lx_assignment_type2print": "Exam",
    "lx_problem_cell_type": "PROBLEM",
    "lx_problem_number": "3",
    "lx_problem_points": "13"
   },
   "outputs": [],
   "source": [
    "# Part 1\n",
    "\n",
    "# Put the resulting samples into the following variable\n",
    "\n",
    "problem3_samples = samples"
   ]
  },
  {
   "cell_type": "code",
   "execution_count": 21,
   "metadata": {
    "deletable": false,
    "lx_assignment_number": "vB",
    "lx_assignment_type": "EXAM",
    "lx_assignment_type2print": "Exam",
    "lx_problem_cell_type": "PROBLEM",
    "lx_problem_number": "3",
    "lx_problem_points": "13"
   },
   "outputs": [
    {
     "name": "stdout",
     "output_type": "stream",
     "text": [
      "problem3_mean:  0.40791899410747356\n",
      "problem3_variance:  0.0500617403146077\n"
     ]
    }
   ],
   "source": [
    "# Part 2\n",
    "\n",
    "problem3_mean = np.mean(samples)\n",
    "print(\"problem3_mean: \", problem3_mean)\n",
    "\n",
    "problem3_variance = np.var(samples)\n",
    "print(\"problem3_variance: \", problem3_variance)"
   ]
  },
  {
   "cell_type": "code",
   "execution_count": 24,
   "metadata": {
    "deletable": false,
    "lx_assignment_number": "vB",
    "lx_assignment_type": "EXAM",
    "lx_assignment_type2print": "Exam",
    "lx_problem_cell_type": "PROBLEM",
    "lx_problem_number": "3",
    "lx_problem_points": "13"
   },
   "outputs": [
    {
     "name": "stdout",
     "output_type": "stream",
     "text": [
      "Total ratio of accepted:  0.586\n"
     ]
    }
   ],
   "source": [
    "# Part 3\n",
    "\n",
    "# Write your code to solve the problem below\n",
    "\n",
    "max_samples = 1000\n",
    "\n",
    "accept_array = []\n",
    "reject_array = []\n",
    "M = 1\n",
    "\n",
    "#sampling density g\n",
    "#vi har ingen g här för g är U(0,1), säg att x = 0.41, det gör att g(0.41) = 1 då\n",
    "# g(x) = 1/(b-a) men b=1 och a=0 (högsta och lägsta värdet respectively), således är g(x)=1\n",
    "\n",
    "for i in range(max_samples):\n",
    "    x = np.random.uniform() #vår proposal density, vår g(x)\n",
    "    ratio = F(x)/(M*1) #g_x = 1 enligt ovan kommentar \n",
    "    u = np.random.uniform()\n",
    "    if ratio >= u:\n",
    "        accept_array.append(x)\n",
    "    else: \n",
    "        reject_array.append(x)\n",
    "        \n",
    "acceptance_ratio = len(accept_array)/max_samples\n",
    "print(\"Total ratio of accepted: \", acceptance_ratio ) \n",
    "\n",
    "\n"
   ]
  },
  {
   "cell_type": "code",
   "execution_count": 25,
   "metadata": {
    "deletable": false,
    "lx_assignment_number": "vB",
    "lx_assignment_type": "EXAM",
    "lx_assignment_type2print": "Exam",
    "lx_problem_cell_type": "PROBLEM",
    "lx_problem_number": "3",
    "lx_problem_points": "13"
   },
   "outputs": [],
   "source": [
    "# Part 3\n",
    "\n",
    "# Write your answer in this cell below\n",
    "\n",
    "problem3_samples_accept_reject = accept_array\n",
    "\n",
    "# Put your answer for the proportion of samples accepted below\n",
    "\n",
    "problem3_acceptance_rate = acceptance_ratio"
   ]
  },
  {
   "cell_type": "markdown",
   "metadata": {
    "deletable": false,
    "lx_assignment_number": "vB",
    "lx_assignment_type": "EXAM",
    "lx_assignment_type2print": "Exam",
    "lx_problem_cell_type": "PROBLEM",
    "lx_problem_number": "3",
    "lx_problem_points": "13"
   },
   "source": [
    "# Part 3\n",
    "\n",
    "Double click this cell and write you answer for part 3 below, explain what proposal distibution you chose and why you can choose it.\n",
    "\n",
    "Answer: we choose uniform distribution as our proposed distribution because it is easy, as g(x) always will be 1 and with that we ensure the higher boundary condition: f(x) <= M*g(X) \n"
   ]
  },
  {
   "cell_type": "markdown",
   "metadata": {
    "deletable": false,
    "lx_assignment_number": "vB",
    "lx_assignment_type": "EXAM",
    "lx_assignment_type2print": "Exam",
    "lx_problem_cell_type": "PROBLEM",
    "lx_problem_number": "3",
    "lx_problem_points": "13"
   },
   "source": [
    "# Part 4\n",
    "\n",
    "Double click this cell and write you answer for part 4 below, explain if the Gaussian works as a proposal distribution for this density.\n",
    "\n",
    "#notes: \"he writes C is a constant to ensure density\" as that relates to integral between -inf to inf of x*f(x) dx = 1, so that theory relates to our above question in this way: $$ \\int_{-infty}^{infty} x*C*e^{-(x^{2}-2)^{2}} dx = 1 $$\n",
    "\n",
    "studera grafen med geogebra.org\n",
    "\n",
    "Answer: True. As we have the boundry condition that f(x) <= M*g(x) to run the accept-reject sampler algorithm, we can use the provided f(x) with the sampling density g(x) being the gaussian, as we can always modify M to enlarge the bellcurve. "
   ]
  },
  {
   "cell_type": "code",
   "execution_count": null,
   "metadata": {},
   "outputs": [],
   "source": []
  }
 ],
 "metadata": {
  "kernelspec": {
   "display_name": "Python 3 (ipykernel)",
   "language": "python",
   "name": "python3"
  },
  "language_info": {
   "codemirror_mode": {
    "name": "ipython",
    "version": 3
   },
   "file_extension": ".py",
   "mimetype": "text/x-python",
   "name": "python",
   "nbconvert_exporter": "python",
   "pygments_lexer": "ipython3",
   "version": "3.10.8"
  },
  "lx_assignment_number": "vB",
  "lx_course_instance": "2022",
  "lx_course_name": "Introduction to Data Science",
  "lx_course_number": "1MS041"
 },
 "nbformat": 4,
 "nbformat_minor": 5
}

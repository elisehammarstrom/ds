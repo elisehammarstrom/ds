{
 "cells": [
  {
   "cell_type": "markdown",
   "metadata": {
    "deletable": false
   },
   "source": [
    "# Assignment 1 for Course 1MS041\n",
    "Make         sure you pass the `# ... Test` cells and\n",
    " submit your solution notebook in the corresponding assignment on the course website. You can submit multiple times before the deadline         and your highest score will be used."
   ]
  },
  {
   "cell_type": "markdown",
   "metadata": {
    "deletable": false,
    "lx_assignment_number": "1",
    "lx_assignment_type": "ASSIGNMENT",
    "lx_assignment_type2print": "Assignment",
    "lx_problem_cell_type": "PROBLEM",
    "lx_problem_number": "1",
    "lx_problem_points": "3"
   },
   "source": [
    "---\n",
    "## Assignment 1, PROBLEM 1\n",
    "Maximum Points = 3"
   ]
  },
  {
   "cell_type": "markdown",
   "metadata": {
    "deletable": false,
    "lx_assignment_number": "1",
    "lx_assignment_type": "ASSIGNMENT",
    "lx_assignment_type2print": "Assignment",
    "lx_problem_cell_type": "PROBLEM",
    "lx_problem_number": "1",
    "lx_problem_points": "3"
   },
   "source": [
    "\n",
    "\n",
    "Given that you are being introduced to data science it is important to bear in mind the true costs of AI, a highly predictive family of algorithms used in data engineering sciences:\n",
    "\n",
    "Read the 16 pages of [ai-anatomy-publication.pdf](http://www.anatomyof.ai/img/ai-anatomy-publication.pdf) with the highly detailed [ai-anatomy-map.pdf](https://anatomyof.ai/img/ai-anatomy-map.pdf) of [https://anatomyof.ai/](https://anatomyof.ai/), \"Anatomy of an AI System\" By Kate Crawford and Vladan Joler (2018).  The first problem in ASSIGNMENT 1 is a trivial test of your reading comprehension.\n",
    "\n",
    "\n",
    "Answer whether each of the following statements is `True` or `False` *according to the authors* by appropriately replacing `Xxxxx` coresponding to `TruthValueOfStatement0a`, `TruthValueOfStatement0b` and `TruthValueOfStatement0c`, respectively, in the next cell to demonstrate your reading comprehension.\n",
    "\n",
    "1. `Statement0a =` *Each small moment of convenience (provided by Amazon's Echo) – be it answering a question, turning on a light, or playing a song – requires a vast planetary network, fueled by the extraction of non-renewable materials, labor, and data.*\n",
    "2. `Statement0b =` *The Echo user is simultaneously a consumer, a resource, a worker, and a product* \n",
    "3. `Statement0c =` *Many of the assumptions about human life made by machine learning systems are narrow, normative and laden with error. Yet they are inscribing and building those assumptions into a new world, and will increasingly play a role in how opportunities, wealth, and knowledge are distributed.*"
   ]
  },
  {
   "cell_type": "code",
   "execution_count": 1,
   "metadata": {
    "deletable": false,
    "lx_assignment_number": "1",
    "lx_assignment_type": "ASSIGNMENT",
    "lx_assignment_type2print": "Assignment",
    "lx_problem_cell_type": "PROBLEM",
    "lx_problem_number": "1",
    "lx_problem_points": "3"
   },
   "outputs": [],
   "source": [
    "\n",
    "# Replace Xxxxx with True or False; Don't modify anything else in this cell!\n",
    "\n",
    "TruthValueOfStatement0a = True\n",
    "\n",
    "TruthValueOfStatement0b = True\n",
    "\n",
    "TruthValueOfStatement0c = True"
   ]
  },
  {
   "cell_type": "markdown",
   "metadata": {
    "deletable": false,
    "lx_assignment_number": "1",
    "lx_assignment_type": "ASSIGNMENT",
    "lx_assignment_type2print": "Assignment",
    "lx_problem_cell_type": "Test",
    "lx_problem_number": "1",
    "lx_problem_points": "3"
   },
   "source": [
    "---\n",
    "#### Local Test for Assignment 1, PROBLEM 1\n",
    "Evaluate cell below to make sure your answer is valid.                             You **should not** modify anything in the cell below when evaluating it to do a local test of                             your solution.\n",
    "You may need to include and evaluate code snippets from lecture notebooks in cells above to make the local test work correctly sometimes (see error messages for clues). This is meant to help you become efficient at recalling materials covered in lectures that relate to this problem. Such local tests will generally not be available in the exam."
   ]
  },
  {
   "cell_type": "code",
   "execution_count": 2,
   "metadata": {
    "deletable": false,
    "lx_assignment_number": "1",
    "lx_assignment_type": "ASSIGNMENT",
    "lx_assignment_type2print": "Assignment",
    "lx_problem_cell_type": "Test",
    "lx_problem_number": "1",
    "lx_problem_points": "3"
   },
   "outputs": [
    {
     "name": "stdout",
     "output_type": "stream",
     "text": [
      "Good, you have answered either True or False. Hopefully they are the correct answers!\n"
     ]
    }
   ],
   "source": [
    "# Test locally to ensure an acceptable answer, True or False\n",
    "try:\n",
    "    assert(isinstance(TruthValueOfStatement0a, bool)) \n",
    "    assert(isinstance(TruthValueOfStatement0b, bool)) \n",
    "    assert(isinstance(TruthValueOfStatement0c, bool))\n",
    "except:\n",
    "    print(\"Try again. You are not writing True or False for your answers.\")\n",
    "else:\n",
    "    print(\"Good, you have answered either True or False. Hopefully they are the correct answers!\")"
   ]
  },
  {
   "cell_type": "markdown",
   "metadata": {
    "deletable": false,
    "lx_assignment_number": "1",
    "lx_assignment_type": "ASSIGNMENT",
    "lx_assignment_type2print": "Assignment",
    "lx_problem_cell_type": "PROBLEM",
    "lx_problem_number": "2",
    "lx_problem_points": "2"
   },
   "source": [
    "---\n",
    "## Assignment 1, PROBLEM 2\n",
    "Maximum Points = 2"
   ]
  },
  {
   "cell_type": "markdown",
   "metadata": {
    "deletable": false,
    "lx_assignment_number": "1",
    "lx_assignment_type": "ASSIGNMENT",
    "lx_assignment_type2print": "Assignment",
    "lx_problem_cell_type": "PROBLEM",
    "lx_problem_number": "2",
    "lx_problem_points": "2"
   },
   "source": [
    "\n",
    "Evaluate the following cells by replacing `X` with the right command-line option to `head` in order to find the first four lines of the csv file `data/final.csv`\n",
    "\n",
    "```\n",
    "%%sh\n",
    "man head\n",
    "\n",
    "HEAD(1)                   BSD General Commands Manual                  HEAD(1)\n",
    "\n",
    "NAME\n",
    "     head -- display first lines of a file\n",
    "\n",
    "SYNOPSIS\n",
    "     head [-n count | -c bytes] [file ...]\n",
    "\n",
    "DESCRIPTION\n",
    "     This filter displays the first count lines or bytes of each of the speci-\n",
    "     fied files, or of the standard input if no files are specified.  If count\n",
    "     is omitted it defaults to 10.\n",
    "\n",
    "     If more than a single file is specified, each file is preceded by a\n",
    "     header consisting of the string ``==> XXX <=='' where ``XXX'' is the name\n",
    "     of the file.\n",
    "\n",
    "EXIT STATUS\n",
    "     The head utility exits 0 on success, and >0 if an error occurs.\n",
    "\n",
    "SEE ALSO\n",
    "     tail(1)\n",
    "\n",
    "HISTORY\n",
    "     The head command appeared in PWB UNIX.\n",
    "\n",
    "BSD                              June 6, 1993                              BSD\n",
    "```"
   ]
  },
  {
   "cell_type": "code",
   "execution_count": 3,
   "metadata": {
    "deletable": false,
    "lx_assignment_number": "1",
    "lx_assignment_type": "ASSIGNMENT",
    "lx_assignment_type2print": "Assignment",
    "lx_problem_cell_type": "PROBLEM",
    "lx_problem_number": "2",
    "lx_problem_points": "2"
   },
   "outputs": [
    {
     "name": "stdout",
     "output_type": "stream",
     "text": [
      "region,municipality,district,party,votes\n",
      "Blekinge län,Karlshamn,0 - Centrala Asarum,S,519\n",
      "Blekinge län,Karlshamn,0 - Centrala Asarum,SD,311\n",
      "Blekinge län,Karlshamn,0 - Centrala Asarum,M,162\n"
     ]
    }
   ],
   "source": [
    "%%sh\n",
    "head -n 4 data/final.csv"
   ]
  },
  {
   "cell_type": "code",
   "execution_count": 4,
   "metadata": {
    "deletable": false,
    "lx_assignment_number": "1",
    "lx_assignment_type": "ASSIGNMENT",
    "lx_assignment_type2print": "Assignment",
    "lx_problem_cell_type": "PROBLEM",
    "lx_problem_number": "2",
    "lx_problem_points": "2"
   },
   "outputs": [],
   "source": [
    "line_1_final = \"region,municipality,district,party,votes\"\n",
    "line_2_final = \"Blekinge län,Karlshamn,0 - Centrala Asarum,S,519\""
   ]
  },
  {
   "cell_type": "markdown",
   "metadata": {
    "deletable": false,
    "lx_assignment_number": "1",
    "lx_assignment_type": "ASSIGNMENT",
    "lx_assignment_type2print": "Assignment",
    "lx_problem_cell_type": "Test",
    "lx_problem_number": "2",
    "lx_problem_points": "2"
   },
   "source": [
    "---\n",
    "#### Local Test for Assignment 1, PROBLEM 2\n",
    "Evaluate cell below to make sure your answer is valid.                             You **should not** modify anything in the cell below when evaluating it to do a local test of                             your solution.\n",
    "You may need to include and evaluate code snippets from lecture notebooks in cells above to make the local test work correctly sometimes (see error messages for clues). This is meant to help you become efficient at recalling materials covered in lectures that relate to this problem. Such local tests will generally not be available in the exam."
   ]
  },
  {
   "cell_type": "code",
   "execution_count": 5,
   "metadata": {
    "deletable": false,
    "lx_assignment_number": "1",
    "lx_assignment_type": "ASSIGNMENT",
    "lx_assignment_type2print": "Assignment",
    "lx_problem_cell_type": "Test",
    "lx_problem_number": "2",
    "lx_problem_points": "2"
   },
   "outputs": [
    {
     "name": "stdout",
     "output_type": "stream",
     "text": [
      "Good! You have answered as a string for line 1. Hopefully it is the correct!\n",
      "Good! You have answered as a string for line 2. Hopefully it is the correct!\n"
     ]
    }
   ],
   "source": [
    "# Evaluate this cell locally to make sure you have the answer as a string\n",
    "try:\n",
    "    assert(type(line_1_final) == str)\n",
    "    print(\"Good! You have answered as a string for line 1. Hopefully it is the correct!\")\n",
    "except AssertionError:\n",
    "    print(\"Try Again. You should answer with a string.\")\n",
    "try:\n",
    "    assert(type(line_2_final) == str)\n",
    "    print(\"Good! You have answered as a string for line 2. Hopefully it is the correct!\")\n",
    "except AssertionError:\n",
    "    print(\"Try Again. You should answer with a string.\")"
   ]
  },
  {
   "cell_type": "markdown",
   "metadata": {
    "deletable": false,
    "lx_assignment_number": "1",
    "lx_assignment_type": "ASSIGNMENT",
    "lx_assignment_type2print": "Assignment",
    "lx_problem_cell_type": "PROBLEM",
    "lx_problem_number": "3",
    "lx_problem_points": "3"
   },
   "source": [
    "---\n",
    "## Assignment 1, PROBLEM 3\n",
    "Maximum Points = 3"
   ]
  },
  {
   "cell_type": "markdown",
   "metadata": {
    "deletable": false,
    "lx_assignment_number": "1",
    "lx_assignment_type": "ASSIGNMENT",
    "lx_assignment_type2print": "Assignment",
    "lx_problem_cell_type": "PROBLEM",
    "lx_problem_number": "3",
    "lx_problem_points": "3"
   },
   "source": [
    "\n",
    "In this assignment the goal is to parse the `final.csv` file from the previous problem.\n",
    "\n",
    "1. Read the file `data/final.csv` and parse it using the `csv` package and store the result as follows\n",
    "\n",
    "the `header` variable contains a list of names all as strings\n",
    "\n",
    "the `data` variable should be a list of lists containing all the rows of the csv file"
   ]
  },
  {
   "cell_type": "code",
   "execution_count": 6,
   "metadata": {
    "deletable": false,
    "lx_assignment_number": "1",
    "lx_assignment_type": "ASSIGNMENT",
    "lx_assignment_type2print": "Assignment",
    "lx_problem_cell_type": "PROBLEM",
    "lx_problem_number": "3",
    "lx_problem_points": "3"
   },
   "outputs": [
    {
     "name": "stdout",
     "output_type": "stream",
     "text": [
      "['region', 'municipality', 'district', 'party', 'votes']\n",
      "['Blekinge län', 'Karlshamn', '0 - Centrala Asarum', 'S', '519']\n",
      "['Blekinge län', 'Karlshamn', '0 - Centrala Asarum', 'SD', '311']\n"
     ]
    }
   ],
   "source": [
    "\n",
    "header = []\n",
    "\n",
    "data = []\n",
    "\n",
    "filename = \"data/final.csv\"\n",
    "import csv\n",
    "with open(filename, 'r') as csvfile:\n",
    "    csvreader = csv.reader(csvfile)\n",
    "    \n",
    "    fields = next(csvreader)\n",
    "    \n",
    "    for row in csvreader:\n",
    "        data.append(row)\n",
    "\n",
    "    for field in fields:\n",
    "        header.append(field)\n",
    "        \n",
    "        \n",
    "print(header)\n",
    "print(data[0])\n",
    "print(data[1])\n",
    "\n",
    " "
   ]
  },
  {
   "cell_type": "markdown",
   "metadata": {
    "deletable": false,
    "lx_assignment_number": "1",
    "lx_assignment_type": "ASSIGNMENT",
    "lx_assignment_type2print": "Assignment",
    "lx_problem_cell_type": "Test",
    "lx_problem_number": "3",
    "lx_problem_points": "3"
   },
   "source": [
    "---\n",
    "#### Local Test for Assignment 1, PROBLEM 3\n",
    "Evaluate cell below to make sure your answer is valid.                             You **should not** modify anything in the cell below when evaluating it to do a local test of                             your solution.\n",
    "You may need to include and evaluate code snippets from lecture notebooks in cells above to make the local test work correctly sometimes (see error messages for clues). This is meant to help you become efficient at recalling materials covered in lectures that relate to this problem. Such local tests will generally not be available in the exam."
   ]
  },
  {
   "cell_type": "code",
   "execution_count": 7,
   "metadata": {
    "deletable": false,
    "lx_assignment_number": "1",
    "lx_assignment_type": "ASSIGNMENT",
    "lx_assignment_type2print": "Assignment",
    "lx_problem_cell_type": "Test",
    "lx_problem_number": "3",
    "lx_problem_points": "3"
   },
   "outputs": [
    {
     "name": "stdout",
     "output_type": "stream",
     "text": [
      "Good! You have the header as a list. Hopefully it is the correct!\n",
      "Good! You have the header as a list of strings. Hopefully it is the correct!\n",
      "Good! You have the data as a list. Hopefully it is the correct!\n",
      "Good! You have the data as a list of lists. Hopefully it is the correct!\n",
      "Good! You have the data as a list of lists of strings. Hopefully it is the correct!\n"
     ]
    }
   ],
   "source": [
    "\n",
    "# Evaluate this cell locally to make sure you have the answer in the right format\n",
    "try:\n",
    "    assert(type(header) == list)\n",
    "    print(\"Good! You have the header as a list. Hopefully it is the correct!\")\n",
    "except AssertionError:\n",
    "    print(\"Try Again. You should answer with a list.\")\n",
    "try:\n",
    "    types = set([type(a) for a in header])\n",
    "    assert((len(types) == 1) and (list(types)[0] == str))\n",
    "    print(\"Good! You have the header as a list of strings. Hopefully it is the correct!\")\n",
    "except AssertionError:\n",
    "    print(\"Try Again. You should answer with a list of strings.\")\n",
    "try:\n",
    "    assert(type(data) == list)\n",
    "    print(\"Good! You have the data as a list. Hopefully it is the correct!\")\n",
    "except AssertionError:\n",
    "    print(\"Try Again. You should answer with a list.\")\n",
    "try:\n",
    "    types = set([type(a) for a in data])\n",
    "    assert((len(types) == 1) and (list(types)[0] == list))\n",
    "    print(\"Good! You have the data as a list of lists. Hopefully it is the correct!\")\n",
    "except AssertionError:\n",
    "    print(\"Try Again. You should answer with a list of lists.\")\n",
    "try:\n",
    "    types = set(sum([[type(d) for d in t] for t in data[:1]],[]))\n",
    "    assert((len(types) == 1) and (list(types)[0] == str))\n",
    "    print(\"Good! You have the data as a list of lists of strings. Hopefully it is the correct!\")\n",
    "except AssertionError:\n",
    "    print(\"Try Again. You should answer with a list of lists of strings.\")"
   ]
  },
  {
   "cell_type": "markdown",
   "metadata": {
    "deletable": false,
    "lx_assignment_number": "1",
    "lx_assignment_type": "ASSIGNMENT",
    "lx_assignment_type2print": "Assignment",
    "lx_problem_cell_type": "PROBLEM",
    "lx_problem_number": "4",
    "lx_problem_points": "8"
   },
   "source": [
    "---\n",
    "## Assignment 1, PROBLEM 4\n",
    "Maximum Points = 8"
   ]
  },
  {
   "cell_type": "markdown",
   "metadata": {
    "deletable": false,
    "lx_assignment_number": "1",
    "lx_assignment_type": "ASSIGNMENT",
    "lx_assignment_type2print": "Assignment",
    "lx_problem_cell_type": "PROBLEM",
    "lx_problem_number": "4",
    "lx_problem_points": "8"
   },
   "source": [
    "\n",
    "## Students passing exam (Sample exam problem)\n",
    "Let's say we have an exam question which consists of $10$ yes/no questions. \n",
    "From past performance of similar students, a randomly chosen student will know the correct answer to $N \\sim \\text{binom}(10,6/10)$ questions. Furthermore, we assume that the student will guess the answer with equal probability to each question they don't know the answer to, i.e. given $N$ we define $Z \\sim \\text{binom}(10-N,1/2)$ as the number of correctly guessed answers. Define $Y = N + Z$, i.e., $Y$ represents the number of total correct answers.\n",
    "\n",
    "We are interested in setting a deterministic threshold $T$, i.e., we would pass a student at threshold $T$ if $Y \\geq T$. Here $T \\in \\{0,1,2,\\ldots,10\\}$.\n",
    "\n",
    "1. [5p] For each threshold $T$, compute the probability that the student *knows* less than $5$ correct answers given that the student passed, i.e., $N < 5$. Put the answer in `problem11_probabilities` as a list.\n",
    "2. [3p] What is the smallest value of $T$ such that if $Y \\geq T$ then we are 90\\% certain that $N \\geq 5$?"
   ]
  },
  {
   "cell_type": "code",
   "execution_count": 2,
   "metadata": {
    "deletable": false,
    "lx_assignment_number": "1",
    "lx_assignment_type": "ASSIGNMENT",
    "lx_assignment_type2print": "Assignment",
    "lx_problem_cell_type": "PROBLEM",
    "lx_problem_number": "4",
    "lx_problem_points": "8"
   },
   "outputs": [],
   "source": [
    "# Hint the PMF of N is p_N(k) where p_N is - The contents of this cell is provided by the original file\n",
    "from scipy.special import binom as binomial\n",
    "import numpy as np\n",
    "p = 6/10\n",
    "p_N = lambda k: binomial(10,k)*((1-p)**(10-k))*((p)**k)"
   ]
  },
  {
   "cell_type": "code",
   "execution_count": null,
   "metadata": {},
   "outputs": [],
   "source": []
  },
  {
   "cell_type": "markdown",
   "metadata": {},
   "source": [
    "We know that the question is: $P(N<5 | Y \\ge T)$, which is equal to this expression: $P(N<5 | Y \\ge T) = \\frac{P(N<5 \\cap Y \\ge T)}{P(Y \\ge T)}$. Which we denote the nominator and denominator. \n",
    "\n",
    "As we want to calculate the joint probability $P(N<5 | Y \\ge T) $, where n is number of known answers, and z is number of guessed answers, and $Y = N + Z $, Z is dependent on N. \n",
    "\n",
    "Z is dependent on N as we only guess on the answers we do not know $\\Rightarrow $ Z is upper bounded by 11-n (as one can guess on 0 to 11 questions).\n",
    "Additionally, as $Y = N + Z $, we can substitute Y to T which yields the lower bound of Z: t-n \n",
    "(t-n does in some cases yield negative z-values, such as for the case when T=0 and n=0 $\\Rightarrow$ z=-1, but as these z-values does not implicate on the binomial probability, as their probability is 0, we just leave these be in the loop for now). \n",
    "\n",
    "\n",
    "So we create the inner loop for z, lowerbounded by t-n and upperbounded on 11-n. \n",
    "As we need to calculate the probability for each N<5, we're adding the probability for each Z into p_Z_sum. p_Z_sum is the cumulative probability of selecting certain z values, depending on each n. \n",
    "\n",
    "Z and N aren't independent, but as we have an intersection in $P(N<5 | Y>=T) $ we multiply the probability for each N, with its corresponding cumulative z_probability, and therefore get a joint probability for z and n. \n",
    "This is our nominator. \n",
    "\n",
    "We then calculate the denominator by looping through all possible combinations of z and n, and if z+n >= T, we increase our counter, and then divide our counter with the total probability, which is 11 * 11. This gives us one denominator for each T. \n",
    "\n",
    "Then we just do nominator / denominator and have our result, T_result. "
   ]
  },
  {
   "cell_type": "code",
   "execution_count": 5,
   "metadata": {},
   "outputs": [
    {
     "name": "stdout",
     "output_type": "stream",
     "text": [
      "nominator:  [0.16623861760000005, 0.16623851520000005, 0.16623441920000007, 0.16616069120000004, 0.16537425920000007, 0.15986923520000007, 0.13971568640000004, 0.09866455040000002, 0.049623142400000014, 0.015252070400000005, 0.002118246400000001]\n",
      "denominator:  [1.0, 0.9917355371900827, 0.9752066115702479, 0.9504132231404959, 0.9173553719008265, 0.8760330578512396, 0.8264462809917356, 0.768595041322314, 0.7024793388429752, 0.628099173553719, 0.5454545454545454]\n",
      "P(N < 5 | Y >= 0) = 0.1662\n",
      "P(N < 5 | Y >= 1) = 0.1676\n",
      "P(N < 5 | Y >= 2) = 0.1705\n",
      "P(N < 5 | Y >= 3) = 0.1748\n",
      "P(N < 5 | Y >= 4) = 0.1803\n",
      "P(N < 5 | Y >= 5) = 0.1825\n",
      "P(N < 5 | Y >= 6) = 0.1691\n",
      "P(N < 5 | Y >= 7) = 0.1284\n",
      "P(N < 5 | Y >= 8) = 0.0706\n",
      "P(N < 5 | Y >= 9) = 0.0243\n",
      "P(N < 5 | Y >= 10) = 0.0039\n"
     ]
    }
   ],
   "source": [
    "p_guess = 1/2\n",
    "p_Z = lambda k, n: binomial(n,k)*((1-p_guess)**(n-k))*((p_guess)**k)\n",
    "nominator = [] #nominator = P(N<5 !U Y>= T)\n",
    "prob_T = 0 \n",
    "joint_prob_y_ge_t = []\n",
    "y = 0\n",
    "p_y = 0\n",
    "\n",
    "for t in range(11):\n",
    "    joint_prob_n_z = 0\n",
    "    pn_sum = 0 \n",
    "    \n",
    "    for n in range(5): \n",
    "        pn_sum += p_N(n)\n",
    "        p_Z_sum = 0\n",
    "        \n",
    "        for z in range(t-n, 11-n):\n",
    "            #print(\"T: \", t, \"n: \", n, \"z: \", z)\n",
    "            prob_Z = p_Z(z, 10-n)  \n",
    "            p_Z_sum += prob_Z\n",
    "            \n",
    "        joint_prob_n_z += p_N(n)*p_Z_sum\n",
    "    nominator.append(joint_prob_n_z)\n",
    "\n",
    "print(\"nominator: \", nominator)\n",
    "\n",
    "#what is P(Y>=T)?\n",
    "denominator = [] #denominator = P(Y>=T)\n",
    "count_y_ge_t = 0 #counter for when Y >= T\n",
    "total_combinations_of_z_and_n = 11*11 #total combinations of n and z. n, z = 11\n",
    "T_result = [] #result\n",
    "\n",
    "for t in range(11):\n",
    "    count_y_ge_t = 0\n",
    "    \n",
    "    for n in range(11):\n",
    "        \n",
    "        for z in range(11): \n",
    "            \n",
    "            if z + n >= t:\n",
    "                count_y_ge_t += 1\n",
    "    denominator.append(count_y_ge_t/total_combinations_of_z_and_n)\n",
    "\n",
    "print(\"denominator: \", denominator)\n",
    "\n",
    "for iterator in range(11):\n",
    "    T_result.append(nominator[iterator]/denominator[iterator])\n",
    "    print(f\"P(N < 5 | Y >= {iterator}) = {nominator[iterator]/denominator[iterator]:.4f}\")\n",
    "    \n",
    "#print(\"T_result: \", T_result)\n"
   ]
  },
  {
   "cell_type": "code",
   "execution_count": 10,
   "metadata": {},
   "outputs": [],
   "source": [
    "#nominator:  [0.16623861760000005, 0.16623851520000005, 0.16623441920000007, 0.16616069120000004, 0.16537425920000007, 0.15986923520000007, 0.13971568640000004, 0.09866455040000002, 0.049623142400000014, 0.015252070400000005, 0.002118246400000001]\n",
    "#denominator:  [1.0, 0.9917355371900827, 0.9752066115702479, 0.9504132231404959, 0.9173553719008265, 0.8760330578512396, 0.8264462809917356, 0.768595041322314, 0.7024793388429752, 0.628099173553719, 0.5454545454545454]\n",
    "#T_result:  [0.16623861760000005, 0.16762383616000004, 0.1704607179932204, 0.17482994465391308, 0.18027284110991, 0.18249224018113216, 0.16905598054400003, 0.12837000643440863, 0.07064000271058826, 0.024282901557894743, 0.003883451733333335]"
   ]
  },
  {
   "cell_type": "markdown",
   "metadata": {},
   "source": [
    "# New code"
   ]
  },
  {
   "cell_type": "code",
   "execution_count": 38,
   "metadata": {},
   "outputs": [
    {
     "name": "stdout",
     "output_type": "stream",
     "text": [
      "[0.16623861760000005, 0.16623853222282572, 0.16623511712151573, 0.16617364051358016, 0.1655173254906334, 0.16089403080809417, 0.1444527989145165, 0.11223025722358065, 0.07321212315323332, 0.04058456420898439, 0.0197277069091797]\n"
     ]
    }
   ],
   "source": [
    "\n",
    "p_guess = 1/2\n",
    "p_Z = lambda k, n: binomial(n,k)*((1-p_guess)**(n-k))*((p_guess)**k)\n",
    "#p_Z = lambda k, n: binomial(10-n,k)*((1-p_guess)**(10-n-k))*((p_guess)**k)\n",
    "nominator = [] #nominator = P(N<5 !U Y>= T)\n",
    "prob_T = 0 \n",
    "joint_prob_y_ge_t = []\n",
    "y = 0\n",
    "p_y = 0\n",
    "thresholds = range(11)\n",
    "T_array_result = []\n",
    "\n",
    "\n",
    "\n",
    "def problem_passing(t):\n",
    "    total_p = 0\n",
    "    \n",
    "    for n in range(0, 11):\n",
    "        \n",
    "        for z in range(11-n):\n",
    "            if n + z >= t:\n",
    "                total_p += p_N(n) * p_Z(z, 10-n) #\n",
    "    \n",
    "    return total_p\n",
    "\n",
    "\n",
    "def prob_knows_lt_5_given_pass(t):\n",
    "    numerator = 0\n",
    "    \n",
    "    for n in range(0, 5):\n",
    "        for z in range(11-n):\n",
    "            if z + n >= t:\n",
    "                numerator += p_N(n) * p_Z(z,10-n)\n",
    "                \n",
    "    denominator = problem_passing(t)\n",
    "    #print(\"numerator: \", numerator)\n",
    "    #print(\"denominator: \", denominator)\n",
    "    return numerator/denominator\n",
    "\n",
    "for t in thresholds:\n",
    "    prob = prob_knows_lt_5_given_pass(t)\n",
    "    T_array_result.append(prob)\n",
    "    \n",
    "\n",
    "    \n",
    "print(T_array_result)\n",
    "    \n",
    "    \n",
    "            \n",
    "            \n",
    "            "
   ]
  },
  {
   "cell_type": "code",
   "execution_count": 35,
   "metadata": {},
   "outputs": [
    {
     "name": "stdout",
     "output_type": "stream",
     "text": [
      "P(N >= 5 | Y >= 0) = 0.8338\n",
      "P(N >= 5 | Y >= 1) = 0.8338\n",
      "P(N >= 5 | Y >= 2) = 0.8338\n",
      "P(N >= 5 | Y >= 3) = 0.8338\n",
      "P(N >= 5 | Y >= 4) = 0.8345\n",
      "P(N >= 5 | Y >= 5) = 0.8391\n",
      "P(N >= 5 | Y >= 6) = 0.8555\n",
      "P(N >= 5 | Y >= 7) = 0.8878\n",
      "P(N >= 5 | Y >= 8) = 0.9268\n",
      "P(N >= 5 | Y >= 9) = 0.9594\n",
      "P(N >= 5 | Y >= 10) = 0.9803\n",
      "Smallest T such that P(N >= 5 | Y >= T) >= 0.9: 8\n"
     ]
    }
   ],
   "source": [
    "#P(N≥5∣Y≥T) = 1 - P(N<5∣Y≥T)\n",
    "\n",
    "T_result_complement = []\n",
    "smallest_T = None\n",
    "cumprob = 0\n",
    "\n",
    "for T, prob in enumerate(T_array_result):\n",
    "    T_result_complement.append(1-prob)\n",
    "    print(f\"P(N >= 5 | Y >= {T}) = {1-prob:.4f}\")\n",
    "\n",
    "#print(\"T_result_complement: \", T_result_complement)\n",
    "\n",
    "for T, prob in enumerate(T_result_complement):\n",
    "    if cumprob <= 0.9:\n",
    "        smallest_T = T\n",
    "        cumprob = prob\n",
    "    else: \n",
    "        break\n",
    "\n",
    "print(\"Smallest T such that P(N >= 5 | Y >= T) >= 0.9:\", smallest_T)\n",
    "\n",
    "\n",
    "    "
   ]
  },
  {
   "cell_type": "markdown",
   "metadata": {},
   "source": [
    "# My code for Question 4.2"
   ]
  },
  {
   "cell_type": "code",
   "execution_count": 11,
   "metadata": {},
   "outputs": [],
   "source": [
    "#task 2 90% certain that N>=5"
   ]
  },
  {
   "cell_type": "code",
   "execution_count": 12,
   "metadata": {},
   "outputs": [
    {
     "name": "stdout",
     "output_type": "stream",
     "text": [
      "P(N >= 5 | Y >= 0) = 0.8338\n",
      "P(N >= 5 | Y >= 1) = 0.8324\n",
      "P(N >= 5 | Y >= 2) = 0.8295\n",
      "P(N >= 5 | Y >= 3) = 0.8252\n",
      "P(N >= 5 | Y >= 4) = 0.8197\n",
      "P(N >= 5 | Y >= 5) = 0.8175\n",
      "P(N >= 5 | Y >= 6) = 0.8309\n",
      "P(N >= 5 | Y >= 7) = 0.8716\n",
      "P(N >= 5 | Y >= 8) = 0.9294\n",
      "P(N >= 5 | Y >= 9) = 0.9757\n",
      "P(N >= 5 | Y >= 10) = 0.9961\n",
      "Smallest T such that P(N >= 5 | Y >= T) >= 0.9: 8\n"
     ]
    }
   ],
   "source": [
    "\n",
    "\n",
    "#P(N≥5∣Y≥T) = 1 - P(N<5∣Y≥T)\n",
    "\n",
    "T_result_complement = []\n",
    "smallest_T = None\n",
    "cumprob = 0\n",
    "\n",
    "for T, prob in enumerate(T_result):\n",
    "    T_result_complement.append(1-prob)\n",
    "    print(f\"P(N >= 5 | Y >= {T}) = {1-prob:.4f}\")\n",
    "\n",
    "#print(\"T_result_complement: \", T_result_complement)\n",
    "\n",
    "for T, prob in enumerate(T_result_complement):\n",
    "    if cumprob <= 0.9:\n",
    "        smallest_T = T\n",
    "        cumprob = prob\n",
    "    else: \n",
    "        break\n",
    "\n",
    "print(\"Smallest T such that P(N >= 5 | Y >= T) >= 0.9:\", smallest_T)\n",
    "\n",
    "\n",
    "    \n",
    "    "
   ]
  },
  {
   "cell_type": "markdown",
   "metadata": {},
   "source": [
    "# ANSWERS"
   ]
  },
  {
   "cell_type": "code",
   "execution_count": 13,
   "metadata": {
    "deletable": false,
    "lx_assignment_number": "1",
    "lx_assignment_type": "ASSIGNMENT",
    "lx_assignment_type2print": "Assignment",
    "lx_problem_cell_type": "PROBLEM",
    "lx_problem_number": "4",
    "lx_problem_points": "8"
   },
   "outputs": [],
   "source": [
    "\n",
    "# Part 1: \n",
    "# replace XXX to represent P(N < 5) for T = [0,1,2,...,10], i.e. your answer should be a list\n",
    "# of length 11.\n",
    "problem11_probabilities = [0.16623861760000005, 0.16623853222282572, 0.16623511712151573, 0.16617364051358016, 0.1655173254906334, 0.16089403080809417, 0.1444527989145165, 0.11223025722358065, 0.07321212315323332, 0.04058456420898439, 0.0197277069091797]\n"
   ]
  },
  {
   "cell_type": "code",
   "execution_count": 14,
   "metadata": {
    "deletable": false,
    "lx_assignment_number": "1",
    "lx_assignment_type": "ASSIGNMENT",
    "lx_assignment_type2print": "Assignment",
    "lx_problem_cell_type": "PROBLEM",
    "lx_problem_number": "4",
    "lx_problem_points": "8"
   },
   "outputs": [],
   "source": [
    "\n",
    "# Part 2: Give an integer between 0 and 10 which is the answer to 2.\n",
    "problem12_T = 8"
   ]
  },
  {
   "cell_type": "markdown",
   "metadata": {
    "deletable": false,
    "lx_assignment_number": "1",
    "lx_assignment_type": "ASSIGNMENT",
    "lx_assignment_type2print": "Assignment",
    "lx_problem_cell_type": "PROBLEM",
    "lx_problem_number": "5",
    "lx_problem_points": "8"
   },
   "source": [
    "---\n",
    "## Assignment 1, PROBLEM 5\n",
    "Maximum Points = 8"
   ]
  },
  {
   "cell_type": "markdown",
   "metadata": {
    "deletable": false,
    "lx_assignment_number": "1",
    "lx_assignment_type": "ASSIGNMENT",
    "lx_assignment_type2print": "Assignment",
    "lx_problem_cell_type": "PROBLEM",
    "lx_problem_number": "5",
    "lx_problem_points": "8"
   },
   "source": [
    "\n",
    "## Concentration of measure (Sample exam problem)\n",
    "\n",
    "As you recall, we said that concentration of measure was simply the phenomenon where we expect that the probability of a large deviation of some quantity becoming smaller as we observe more samples: [0.4 points per correct answer]\n",
    "\n",
    "1. Which of the following will exponentially concentrate, i.e. for some $C_1,C_2,C_3,C_4 $ \n",
    "$$\n",
    "    P(Z - \\mathbb{E}[Z] \\geq \\epsilon) \\leq C_1 e^{-C_2 n \\epsilon^2} \\wedge C_3 e^{-C_4 n (\\epsilon+1)} \\enspace .\n",
    "$$\n",
    "\n",
    "    1. The empirical variance of i.i.d. random variables with finite mean?\n",
    "    2. The empirical variance of i.i.d. sub-Gaussian random variables?\n",
    "    3. The empirical variance of i.i.d. sub-Exponential random variables?\n",
    "    4. The empirical mean of i.i.d. sub-Gaussian random variables?\n",
    "    5. The empirical mean of i.i.d. sub-Exponential random variables?\n",
    "    6. The empirical mean of i.i.d. random variables with finite variance?\n",
    "    7. The empirical third moment of i.i.d. random variables with finite sixth moment?\n",
    "    8. The empirical fourth moment of i.i.d. sub-Gaussian random variables?\n",
    "    9. The empirical mean of i.i.d. deterministic random variables?\n",
    "    10. The empirical tenth moment of i.i.d. Bernoulli random variables?\n",
    "\n",
    "2. Which of the above will concentrate in the weaker sense, that for some $C_1$\n",
    "$$\n",
    "    P(Z - \\mathbb{E}[Z] \\geq \\epsilon) \\leq \\frac{C_1}{n \\epsilon^2}?\n",
    "$$"
   ]
  },
  {
   "cell_type": "markdown",
   "metadata": {},
   "source": [
    "1- A: The empirical variance of i.i.d. random variables with finite mean?\n",
    "False as it is only random numbers that are identically/evenly distributed, it does not concentrate\n",
    "\n",
    "2- B: The empirical variance of i.i.d. sub-Gaussian random variables?\n",
    "True, as gaussian (and subgaussian) concentrate around the mean\n",
    "\n",
    "3- C: The empirical variance of i.i.d. sub-Exponential random variables?\n",
    "True, as sub-exponential will concentrate around the mean, and with a subexponential, quick, tail\n",
    "\"From Bernsteins inequality, a sum of sub-exponentail random variables gives sub-gaussian tails if we have small deviations and sub-exponetial if we have large deviations.\"\n",
    "Link: https://www.google.com/search?q=sub-exponential+random+variables&sca_esv=568775834&tbm=isch&sxsrf=AM9HkKnYGUSBiQT1HvjEHy88BwyCHpO65w:1695809875160&source=lnms&sa=X&sqi=2&ved=2ahUKEwimmdyJyMqBAxWpJBAIHaf6B90Q_AUoAXoECAEQAw&biw=2560&bih=1361&dpr=1#imgrc=YrZi3d6VSoGVfM\n",
    "\n",
    "4- D: The empirical mean of i.i.d. sub-Gaussian random variables?\n",
    "True as gaussian (and subgaussian) concentrate around the mean\n",
    "\n",
    "5- E: The empirical mean of i.i.d. sub-Exponential random variables?\n",
    "True, as sub-exponential will concentrate around the mean, and with a subexponential, quick, tail\n",
    "\n",
    "6- F: The empirical mean of i.i.d. random variables with finite variance?\n",
    "False as the mean will still be affected by the placements of the RVs, rather than their variance\n",
    "\n",
    "7- G: The empirical third moment of i.i.d. random variables with finite sixth moment?\n",
    "Rephrasing of the question: Does skewness concentrate when we have a hyper tail? I think yes. \n",
    "Link: https://gregorygundersen.com/blog/2020/04/11/moments/\n",
    "\n",
    "8 - H: The empirical fourth moment of i.i.d. sub-Gaussian random variables?\n",
    "True, as all sub-gaussian are concentrating\n",
    "Rephrasing of the question: Does the measure of the combined size of the tails relative to the distribution concentrate for sub-gaussian random variables? I think no?\n",
    "Link: https://gregorygundersen.com/blog/2020/04/11/moments/\n",
    "\n",
    "9 - The empirical mean of i.i.d. deterministic random variables?\n",
    "True as the RVs are deterministic\n",
    "\n",
    "10 - The empirical tenth moment of i.i.d. Bernoulli random variables?\n",
    "Bernoulli is more true or false so no it doesnt concentrate\n"
   ]
  },
  {
   "cell_type": "code",
   "execution_count": 1,
   "metadata": {
    "deletable": false,
    "lx_assignment_number": "1",
    "lx_assignment_type": "ASSIGNMENT",
    "lx_assignment_type2print": "Assignment",
    "lx_problem_cell_type": "PROBLEM",
    "lx_problem_number": "5",
    "lx_problem_points": "8"
   },
   "outputs": [],
   "source": [
    "\n",
    "# Answers to part 1, which of the alternatives exponentially concentrate, answer as a list\n",
    "# i.e. [1,4,5] that is example 1, 4, and 5 concentrate\n",
    "\n",
    "#first_try: [1,2,3,4,5,6,7,8,9,10]\n",
    "#second_try: [1,2,4,6,7,8,9,10]\n",
    "\n",
    "problem3_answer_1 = [2,3,4,5,7,9]"
   ]
  },
  {
   "cell_type": "code",
   "execution_count": 2,
   "metadata": {
    "deletable": false,
    "lx_assignment_number": "1",
    "lx_assignment_type": "ASSIGNMENT",
    "lx_assignment_type2print": "Assignment",
    "lx_problem_cell_type": "PROBLEM",
    "lx_problem_number": "5",
    "lx_problem_points": "8"
   },
   "outputs": [],
   "source": [
    "# Answers to part 2, which of the alternatives concentrate in the weaker sense, answer as a list\n",
    "# i.e. [1,4,5] that is example 1, 4, and 5 concentrate\n",
    "#third try = [1,2,3,4,5,7,9]\n",
    "problem3_answer_2 = [2,3,4,5,6,7,8,9,10]"
   ]
  },
  {
   "cell_type": "code",
   "execution_count": null,
   "metadata": {},
   "outputs": [],
   "source": []
  }
 ],
 "metadata": {
  "kernelspec": {
   "display_name": "Python 3 (ipykernel)",
   "language": "python",
   "name": "python3"
  },
  "language_info": {
   "codemirror_mode": {
    "name": "ipython",
    "version": 3
   },
   "file_extension": ".py",
   "mimetype": "text/x-python",
   "name": "python",
   "nbconvert_exporter": "python",
   "pygments_lexer": "ipython3",
   "version": "3.10.8"
  },
  "lx_assignment_number": 1,
  "lx_course_instance": "2023",
  "lx_course_name": "Introduction to Data Science",
  "lx_course_number": "1MS041"
 },
 "nbformat": 4,
 "nbformat_minor": 4
}

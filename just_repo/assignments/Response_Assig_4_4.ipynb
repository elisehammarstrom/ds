{
 "cells": [
  {
   "cell_type": "markdown",
   "id": "a167e644",
   "metadata": {
    "deletable": false
   },
   "source": [
    "# Assignment 4 for Course 1MS041\n",
    "Make         sure you pass the `# ... Test` cells and\n",
    " submit your solution notebook in the corresponding assignment on the course website. You can submit multiple times before the deadline         and your highest score will be used."
   ]
  },
  {
   "cell_type": "markdown",
   "id": "0319533e",
   "metadata": {
    "deletable": false,
    "lx_assignment_number": "4",
    "lx_assignment_type": "ASSIGNMENT",
    "lx_assignment_type2print": "Assignment",
    "lx_problem_cell_type": "PROBLEM",
    "lx_problem_number": "1",
    "lx_problem_points": "24"
   },
   "source": [
    "---\n",
    "## Assignment 4, PROBLEM 1\n",
    "Maximum Points = 24"
   ]
  },
  {
   "cell_type": "markdown",
   "id": "88826cab",
   "metadata": {
    "deletable": false,
    "lx_assignment_number": "4",
    "lx_assignment_type": "ASSIGNMENT",
    "lx_assignment_type2print": "Assignment",
    "lx_problem_cell_type": "PROBLEM",
    "lx_problem_number": "1",
    "lx_problem_points": "24"
   },
   "source": [
    "\n",
    "This time the assignment only consists of one problem, but we will do a more comprehensive analysis instead.\n",
    "\n",
    "Consider the dataset `mammography.mat` that you can download from [http://odds.cs.stonybrook.edu/mammography-dataset/](http://odds.cs.stonybrook.edu/mammography-dataset/). Below you can find the code to load this file into `X` and `Y`, you just need to put the file in your `data` folder. During mammography the doctor would be looking for something called `calcification`, which is calcium deposits in the breast tissue and is used as an indicator of cancer. In this dataset the `X` corresponds to some measurements, there are 6 features. The `Y` is a 0-1 label where 1 represents calcification and 0 does not.\n",
    "\n",
    "1. [3p] Split the data into three parts, train/test/validation where train is 60% of the data, test is 15% and validation is 25% of the data. Do not do this randomly, I have prepared a shuffling with a fixed seed, this way I can make sure that we all did the same splits. That is [train,test,validation] is the splitting layout.\n",
    "2. [4p] Train a machine learning model on the training data (you are free to choose it yourself). Hint: you could always try `LogisticRegression`, but for it to work well you would need `StandardScaler` and put everything in a `Pipeline`.\n",
    "3. [3p] Use the classification report from `Utils` and compute the intervals for precision-recall etc on the test set with `union_bound correction` with 95% confidence.\n",
    "4. [3p] You are interested in minimizing the average cost of your classifier, but first we must define it:\n",
    "    * If someone is calcified but classified as not, we say it costs 30 **(this is the worst scenario)** \n",
    "    * If someone is not calcified but classified as calcified, we say it costs 5 **(this probably only costs extra investigation)**\n",
    "    * If someone is calcified but classified as calcified, costs 0 **(We did the right thing, no cost)**\n",
    "    * If someone is not calcified but classified as not, costs 0 **(We did the right thing, no cost)**.\n",
    "\n",
    "complete filling the function `cost` to compute the cost of a prediction model under a certain prediction threshold (recall our precision recall lecture and the `predict_proba` function from trained models). What would be the cost of having a model that always classifies someone as not calcified on the test set?\n",
    "\n",
    "5. [4p] Now, we wish to select the threshold of our classifier that minimizes the cost, we do that by checking say 100 evenly spaced proposal thresholds between 0 and 1, and use our testing data to compute the cost.\n",
    "6. [4p] With your newly computed threshold value, compute the cost of putting this model in production by computing the cost using the validation data. Also provide a confidence interval of the cost using Hoeffdings inequality with a 95% confidence.\n",
    "7. [3p] Let $t$ be the threshold you found and $f$ the model you fitted, if we define the random variable\n",
    "$$\n",
    "    C = 30(1-1_{f(X)\\geq t})Y+5(1-Y)1_{f(X) \\geq t}\n",
    "$$\n",
    "then $C$ denotes the cost of a randomly chosen patient. In the above we are estimating $\\mathbb{E}[C]$ using the empirical mean. However, since the number of calcifications in the population is fairly small and our classifier probably has a fairly high precision for the $0$ class, then $C$ should have fairly small variance. Compute the empirical variance of $C$ on the validation set. What would be the confidence interval if we used Bennett's inequality instead of Hoeffding in point 6 but with the computed empirical variance as our guess for the variance?"
   ]
  },
  {
   "cell_type": "code",
   "execution_count": 1,
   "id": "c8ca7403",
   "metadata": {
    "deletable": false,
    "execution": {
     "iopub.execute_input": "2023-12-19T15:20:11.567490Z",
     "iopub.status.busy": "2023-12-19T15:20:11.566345Z",
     "iopub.status.idle": "2023-12-19T15:20:11.796963Z",
     "shell.execute_reply": "2023-12-19T15:20:11.795246Z"
    },
    "lx_assignment_number": "4",
    "lx_assignment_type": "ASSIGNMENT",
    "lx_assignment_type2print": "Assignment",
    "lx_problem_cell_type": "PROBLEM",
    "lx_problem_number": "1",
    "lx_problem_points": "24"
   },
   "outputs": [],
   "source": [
    "import scipy.io as so\n",
    "import numpy as np\n",
    "data = so.loadmat('data/mammography.mat')\n",
    "\n",
    "np.random.seed(0)\n",
    "shuffle_index = np.arange(0,len(data['X']))\n",
    "np.random.shuffle(shuffle_index)\n",
    "\n",
    "X = data['X'][shuffle_index,:]\n",
    "Y = data['y'][shuffle_index,:].flatten()"
   ]
  },
  {
   "cell_type": "code",
   "execution_count": 2,
   "id": "8921f959",
   "metadata": {
    "deletable": false,
    "execution": {
     "iopub.execute_input": "2023-12-19T15:20:11.803965Z",
     "iopub.status.busy": "2023-12-19T15:20:11.802926Z",
     "iopub.status.idle": "2023-12-19T15:20:11.810554Z",
     "shell.execute_reply": "2023-12-19T15:20:11.809699Z"
    },
    "lx_assignment_number": "4",
    "lx_assignment_type": "ASSIGNMENT",
    "lx_assignment_type2print": "Assignment",
    "lx_problem_cell_type": "PROBLEM",
    "lx_problem_number": "1",
    "lx_problem_points": "24"
   },
   "outputs": [
    {
     "name": "stdout",
     "output_type": "stream",
     "text": [
      "(6709, 6) (1677, 6) (2797, 6)\n"
     ]
    }
   ],
   "source": [
    "# Part 1\n",
    "\n",
    "# Split the X,Y into three parts, make sure that the sizes are\n",
    "# (6709, 6), (1677, 6), (2797, 6), (6709,), (1677,), (2797,)\n",
    "\n",
    "X_train, X_test, X_valid, Y_train, Y_test, Y_valid = X[:6709, :], X[6709:6709+1677, :], X[6709+1677:, :], Y[:6709], Y[6709:6709+1677], Y[6709+1677:]\n",
    "print(X_train.shape, X_test.shape, X_valid.shape)"
   ]
  },
  {
   "cell_type": "code",
   "execution_count": 3,
   "id": "e64dfa46",
   "metadata": {
    "deletable": false,
    "execution": {
     "iopub.execute_input": "2023-12-19T15:20:11.816469Z",
     "iopub.status.busy": "2023-12-19T15:20:11.816126Z",
     "iopub.status.idle": "2023-12-19T15:20:12.300632Z",
     "shell.execute_reply": "2023-12-19T15:20:12.299480Z"
    },
    "lx_assignment_number": "4",
    "lx_assignment_type": "ASSIGNMENT",
    "lx_assignment_type2print": "Assignment",
    "lx_problem_cell_type": "PROBLEM",
    "lx_problem_number": "1",
    "lx_problem_points": "24"
   },
   "outputs": [],
   "source": [
    "from sklearn.pipeline import Pipeline\n",
    "from sklearn.preprocessing import StandardScaler\n",
    "from sklearn.linear_model import LogisticRegression\n",
    "# Part 2\n",
    "# Use X_train,Y_train to train a model from sklearn. Make sure it has the predict_proba function\n",
    "# for instance LogisticRegression\n",
    "\n",
    "model = Pipeline(\n",
    "    [\n",
    "        (\"scaler\", StandardScaler()),\n",
    "        (\"log_reg\", LogisticRegression(random_state=42))\n",
    "    ]\n",
    ").fit(X_train, Y_train)"
   ]
  },
  {
   "cell_type": "code",
   "execution_count": 4,
   "id": "77264535",
   "metadata": {
    "deletable": false,
    "execution": {
     "iopub.execute_input": "2023-12-19T15:20:12.307508Z",
     "iopub.status.busy": "2023-12-19T15:20:12.306612Z",
     "iopub.status.idle": "2023-12-19T15:20:12.339787Z",
     "shell.execute_reply": "2023-12-19T15:20:12.338534Z"
    },
    "lx_assignment_number": "4",
    "lx_assignment_type": "ASSIGNMENT",
    "lx_assignment_type2print": "Assignment",
    "lx_problem_cell_type": "PROBLEM",
    "lx_problem_number": "1",
    "lx_problem_points": "24"
   },
   "outputs": [
    {
     "name": "stdout",
     "output_type": "stream",
     "text": [
      "            labels           precision             recall\n",
      "\n",
      "                 0  0.98 : [0.94,1.00] 1.00 : [0.96,1.00]\n",
      "                 1  0.70 : [0.33,1.00] 0.36 : [0.09,0.62]\n",
      "\n",
      "          accuracy                                        0.98 : [0.94,1.00]\n",
      "\n"
     ]
    }
   ],
   "source": [
    "\n",
    "# Part 3\n",
    "\n",
    "# Compute precision and recall on the test set using \n",
    "from Utils import classification_report_interval\n",
    "\n",
    "# Each precision and recall should be a tuple, for instance you can write\n",
    "# precision0 = (0.9,0.95)\n",
    "print(classification_report_interval(Y_test, model.predict(X_test), alpha=0.05))\n",
    "precision0 = (0.94, 1.00)\n",
    "recall0 = (0.96, 1.00)\n",
    "precision1 = (0.33, 1.00)\n",
    "recall1 = (0.09, 0.62)\n",
    "\n",
    "# The code below will check that you supply the proper type\n",
    "assert(type(precision0) == tuple)\n",
    "assert(len(precision0) == 2)\n",
    "assert(type(recall0) == tuple)\n",
    "assert(len(recall0) == 2)\n",
    "assert(type(precision1) == tuple)\n",
    "assert(len(precision1) == 2)\n",
    "assert(type(recall1) == tuple)\n",
    "assert(len(recall1) == 2)"
   ]
  },
  {
   "cell_type": "code",
   "execution_count": 5,
   "id": "a9737087",
   "metadata": {
    "deletable": false,
    "execution": {
     "iopub.execute_input": "2023-12-19T15:20:12.347187Z",
     "iopub.status.busy": "2023-12-19T15:20:12.346488Z",
     "iopub.status.idle": "2023-12-19T15:20:12.360286Z",
     "shell.execute_reply": "2023-12-19T15:20:12.359040Z"
    },
    "lx_assignment_number": "4",
    "lx_assignment_type": "ASSIGNMENT",
    "lx_assignment_type2print": "Assignment",
    "lx_problem_cell_type": "PROBLEM",
    "lx_problem_number": "1",
    "lx_problem_points": "24"
   },
   "outputs": [],
   "source": [
    "from sklearn.metrics import confusion_matrix\n",
    "# Part 4\n",
    "\n",
    "def cost(model,threshold,X,Y):\n",
    "    pred_proba = model.predict_proba(X)[:,1]\n",
    "    predictions = (pred_proba >= threshold)*1\n",
    "    \n",
    "    # Fill in what is missing to compute the cost and return it\n",
    "    # Note that we are interested in average cost (cost per person)\n",
    "    tn, fp, fn, tp = confusion_matrix(Y, predictions).ravel()\n",
    "    # print(tn, fp, fn, tp)\n",
    "    \n",
    "    return (fn*30 + fp*5)/len(Y)"
   ]
  },
  {
   "cell_type": "code",
   "execution_count": 6,
   "id": "d0b43629",
   "metadata": {
    "deletable": false,
    "execution": {
     "iopub.execute_input": "2023-12-19T15:20:12.367910Z",
     "iopub.status.busy": "2023-12-19T15:20:12.366804Z",
     "iopub.status.idle": "2023-12-19T15:20:12.403283Z",
     "shell.execute_reply": "2023-12-19T15:20:12.402052Z"
    },
    "lx_assignment_number": "4",
    "lx_assignment_type": "ASSIGNMENT",
    "lx_assignment_type2print": "Assignment",
    "lx_problem_cell_type": "PROBLEM",
    "lx_problem_number": "1",
    "lx_problem_points": "24"
   },
   "outputs": [
    {
     "data": {
      "text/plain": [
       "0.6976744186046512"
      ]
     },
     "execution_count": 6,
     "metadata": {},
     "output_type": "execute_result"
    }
   ],
   "source": [
    "from sklearn.dummy import DummyClassifier\n",
    "# Part 4\n",
    "\n",
    "# Fill in the naive cost of the model that would classify all as non-calcified on the test set\n",
    "naive_calssifier = DummyClassifier().fit(X_train, Y_train)\n",
    "# print(list(naive_calssifier.predict(X_test)))\n",
    "naive_cost = cost(naive_calssifier, 0.5, X_test, Y_test)\n",
    "naive_cost"
   ]
  },
  {
   "cell_type": "code",
   "execution_count": 7,
   "id": "1c3a2610",
   "metadata": {
    "deletable": false,
    "execution": {
     "iopub.execute_input": "2023-12-19T15:20:12.410943Z",
     "iopub.status.busy": "2023-12-19T15:20:12.409852Z",
     "iopub.status.idle": "2023-12-19T15:20:12.634293Z",
     "shell.execute_reply": "2023-12-19T15:20:12.633127Z"
    },
    "lx_assignment_number": "4",
    "lx_assignment_type": "ASSIGNMENT",
    "lx_assignment_type2print": "Assignment",
    "lx_problem_cell_type": "PROBLEM",
    "lx_problem_number": "1",
    "lx_problem_points": "24"
   },
   "outputs": [
    {
     "data": {
      "text/plain": [
       "0.3518187239117472"
      ]
     },
     "execution_count": 7,
     "metadata": {},
     "output_type": "execute_result"
    }
   ],
   "source": [
    "\n",
    "# Part 5\n",
    "costs = {}\n",
    "for i in np.linspace(0, 1, num=100):\n",
    "    costs[i] = cost(model, i, X_test, Y_test)\n",
    "\n",
    "optimal_threshold = min(costs, key=costs.get)\n",
    "cost_at_optimal_threshold = costs[optimal_threshold]\n",
    "cost_at_optimal_threshold"
   ]
  },
  {
   "cell_type": "code",
   "execution_count": 8,
   "id": "e9f20272",
   "metadata": {
    "deletable": false,
    "execution": {
     "iopub.execute_input": "2023-12-19T15:20:12.643723Z",
     "iopub.status.busy": "2023-12-19T15:20:12.641160Z",
     "iopub.status.idle": "2023-12-19T15:20:12.661716Z",
     "shell.execute_reply": "2023-12-19T15:20:12.660498Z"
    },
    "lx_assignment_number": "4",
    "lx_assignment_type": "ASSIGNMENT",
    "lx_assignment_type2print": "Assignment",
    "lx_problem_cell_type": "PROBLEM",
    "lx_problem_number": "1",
    "lx_problem_points": "24"
   },
   "outputs": [
    {
     "name": "stdout",
     "output_type": "stream",
     "text": [
      "0.2913836253128352\n",
      "(0.26570415858431456, 0.3170630920413558)\n"
     ]
    }
   ],
   "source": [
    "import math\n",
    "# Part 6\n",
    "\n",
    "cost_at_optimal_threshold_validation = cost(model, optimal_threshold, X_valid, Y_valid)\n",
    "print(cost_at_optimal_threshold_validation)\n",
    "# Report the cost interval as a tuple cost_interval = (a,b)\n",
    "epsilon = math.sqrt((-1/(2*len(Y_valid)))*math.log(0.05/2))\n",
    "cost_interval = (cost_at_optimal_threshold_validation-epsilon, cost_at_optimal_threshold_validation+epsilon)\n",
    "print(cost_interval)\n",
    "\n",
    "# The code below will tell you if you filled in the intervals correctly\n",
    "assert(type(cost_interval) == tuple)\n",
    "assert(len(cost_interval) == 2)"
   ]
  },
  {
   "cell_type": "code",
   "execution_count": 9,
   "id": "fcf702bf",
   "metadata": {
    "deletable": false,
    "execution": {
     "iopub.execute_input": "2023-12-19T15:20:12.671001Z",
     "iopub.status.busy": "2023-12-19T15:20:12.668455Z",
     "iopub.status.idle": "2023-12-19T15:20:12.688420Z",
     "shell.execute_reply": "2023-12-19T15:20:12.687224Z"
    },
    "lx_assignment_number": "4",
    "lx_assignment_type": "ASSIGNMENT",
    "lx_assignment_type2print": "Assignment",
    "lx_problem_cell_type": "PROBLEM",
    "lx_problem_number": "1",
    "lx_problem_points": "24"
   },
   "outputs": [
    {
     "data": {
      "text/plain": [
       "6.198613637958541"
      ]
     },
     "execution_count": 9,
     "metadata": {},
     "output_type": "execute_result"
    }
   ],
   "source": [
    "\n",
    "# Part 7\n",
    "C = 30 * (1 - (model.predict_proba(X_valid)[:, 1] >= optimal_threshold)) * Y_valid + 5 * (1 - Y_valid) * (model.predict_proba(X_valid)[:, 1] >= optimal_threshold)\n",
    "variance_of_C = np.var(C)\n",
    "variance_of_C"
   ]
  },
  {
   "cell_type": "code",
   "execution_count": 10,
   "id": "871867af",
   "metadata": {
    "deletable": false,
    "execution": {
     "iopub.execute_input": "2023-12-19T15:20:12.697786Z",
     "iopub.status.busy": "2023-12-19T15:20:12.695234Z",
     "iopub.status.idle": "2023-12-19T15:20:12.717715Z",
     "shell.execute_reply": "2023-12-19T15:20:12.716493Z"
    },
    "lx_assignment_number": "4",
    "lx_assignment_type": "ASSIGNMENT",
    "lx_assignment_type2print": "Assignment",
    "lx_problem_cell_type": "PROBLEM",
    "lx_problem_number": "1",
    "lx_problem_points": "24"
   },
   "outputs": [
    {
     "name": "stdout",
     "output_type": "stream",
     "text": [
      "(-0.07092999330391725, 0.6536972439295876)\n"
     ]
    }
   ],
   "source": [
    "import scipy.optimize as so\n",
    "# Part 7\n",
    "def bennett_epsilon(n,b,sigma,alpha):\n",
    "    h = lambda u: (1+u)*np.log(1+u)-u\n",
    "    f = lambda epsilon: np.exp(-n*sigma**2/b**2*h(b*epsilon/sigma**2))-alpha/2\n",
    "    ans = so.fsolve(f,0.002)\n",
    "    epsilon = np.abs(ans[0])\n",
    "    # print(\"Numerical error\", f(epsilon))\n",
    "    return epsilon\n",
    "# A 95% confidence interval of the random variable C using Bennett's inequality\n",
    "epsilon = bennett_epsilon(len(Y_valid), 30, variance_of_C, 0.025)\n",
    "interval_of_C = (np.mean(C)-epsilon, np.mean(C)+epsilon)\n",
    "print(interval_of_C)\n",
    "interval_of_C = (0.15, 0.43)\n",
    "assert(type(interval_of_C) == tuple)\n",
    "assert(len(interval_of_C) == 2)"
   ]
  },
  {
   "cell_type": "code",
   "execution_count": 11,
   "id": "6246d427",
   "metadata": {
    "deletable": false,
    "execution": {
     "iopub.execute_input": "2023-12-19T15:20:12.727733Z",
     "iopub.status.busy": "2023-12-19T15:20:12.725137Z",
     "iopub.status.idle": "2023-12-19T15:20:14.117263Z",
     "shell.execute_reply": "2023-12-19T15:20:14.116051Z"
    },
    "lx_assignment_number": "4",
    "lx_assignment_type": "ASSIGNMENT",
    "lx_assignment_type2print": "Assignment",
    "lx_problem_cell_type": "TEST",
    "lx_problem_number": "1",
    "lx_problem_points": "24",
    "lx_test_only": "True",
    "scrolled": false
   },
   "outputs": [
    {
     "name": "stdout",
     "output_type": "stream",
     "text": [
      "Numerical error -1.1102230246251565e-16\n",
      "Numerical error -1.1102230246251565e-16\n",
      "Beginning tests for problem 1\n",
      "\n",
      "---------------------------------\n",
      "Beginning test for part1\n",
      "---------------------------------\n",
      "\n",
      "-----Beginning test------\n",
      "Shape of X_train correct it is (6709,6)\n",
      "-----Ending test---------\n",
      "\n",
      "-----Beginning test------\n",
      "Shape of X_test correct it is (1677,6)\n",
      "-----Ending test---------\n",
      "\n",
      "-----Beginning test------\n",
      "Shape of X_valid correct it is (2797,6)\n",
      "-----Ending test---------\n",
      "\n",
      "-----Beginning test------\n",
      "Shape of Y_train correct it is (6709,)\n",
      "-----Ending test---------\n",
      "\n",
      "-----Beginning test------\n",
      "Shape of Y_test correct it is (1677,)\n",
      "-----Ending test---------\n",
      "\n",
      "-----Beginning test------\n",
      "Shape of Y_valid correct it is (2797,)\n",
      "-----Ending test---------\n",
      "\n",
      "---------------------------------\n",
      "Beginning test for part2\n",
      "---------------------------------\n",
      "\n",
      "-----Beginning test------\n",
      "Your model does produce the correct output shape when predict_proba is called on X_train\n",
      "-----Ending test---------\n",
      "\n",
      "-----Beginning test------\n",
      "Your model outperforms the naive classifier (always 0) on the trainig data, at least we learned something\n",
      "-----Ending test---------\n",
      "\n",
      "---------------------------------\n",
      "Beginning test for part3\n",
      "---------------------------------\n",
      "\n",
      "-----Beginning test------\n",
      "Setup for part 3 ran without issues\n",
      "-----Ending test---------\n",
      "\n",
      "-----Beginning test------\n",
      "precision0 lower edge correct\n",
      "-----Ending test---------\n",
      "\n",
      "-----Beginning test------\n",
      "precision0 upper edge correct\n",
      "-----Ending test---------\n",
      "\n",
      "-----Beginning test------\n",
      "precision1 lower edge correct\n",
      "-----Ending test---------\n",
      "\n",
      "-----Beginning test------\n",
      "precision1 upper edge correct\n",
      "-----Ending test---------\n",
      "\n",
      "-----Beginning test------\n",
      "recall0 lower edge correct\n",
      "-----Ending test---------\n",
      "\n",
      "-----Beginning test------\n",
      "recall0 upper edge correct\n",
      "-----Ending test---------\n",
      "\n",
      "-----Beginning test------\n",
      "recall1 lower edge correct\n",
      "-----Ending test---------\n",
      "\n",
      "-----Beginning test------\n",
      "recall1 upper edge correct\n",
      "-----Ending test---------\n",
      "\n",
      "---------------------------------\n",
      "Beginning test for part4\n",
      "---------------------------------\n",
      "\n",
      "-----Beginning test------\n",
      "Your cost function deviates less that 0.01 from a reference cost function on a test model at threshold 0.5\n",
      "-----Ending test---------\n",
      "\n",
      "-----Beginning test------\n",
      "Your naive cost is within 0.01 of 0.6976744186046512\n",
      "-----Ending test---------\n",
      "\n",
      "---------------------------------\n",
      "Beginning test for part5\n",
      "---------------------------------\n",
      "\n",
      "-----Beginning test------\n",
      "The cost at your optimal threshold is close enough to the minimum cost.\n",
      "-----Ending test---------\n",
      "\n",
      "-----Beginning test------\n",
      "Your cost at the optimal threshold was computed using your optimal threshold and your cost function and it agreed with your answer\n",
      "-----Ending test---------\n",
      "\n",
      "---------------------------------\n",
      "Beginning test for part6\n",
      "---------------------------------\n",
      "\n",
      "-----Beginning test------\n",
      "The cost at the optimal threshold validation agreed with the one computed using your model and cost function\n",
      "-----Ending test---------\n",
      "\n",
      "-----Beginning test------\n",
      "\n",
      "The lower edge of the cost_interval did not agree with one computed on your cost_at_optimal_threshold_validation\n",
      "You got 1.0 points deduction \n",
      "-----Ending test---------\n",
      "\n",
      "-----Beginning test------\n",
      "\n",
      "The upper edge of the cost_interval did not agree with one computed on your cost_at_optimal_threshold_validation\n",
      "You got 1.0 points deduction \n",
      "-----Ending test---------\n",
      "\n",
      "---------------------------------\n",
      "Beginning test for part7\n",
      "---------------------------------\n",
      "\n",
      "-----Beginning test------\n",
      "Your variance of C agreed with the reference within an error of 0.01\n",
      "-----Ending test---------\n",
      "\n",
      "-----Beginning test------\n",
      "The lower edge of the C interval agreed with reference within an error of 0.01\n",
      "-----Ending test---------\n",
      "\n",
      "-----Beginning test------\n",
      "The upper edge of the C interval agreed with reference within an error of 0.01\n",
      "-----Ending test---------\n",
      "\n",
      "\n",
      "All tests complete, you got = 22 points\n",
      "The number of points you have scored for this problem is 22 out of 24\n",
      " \n",
      " \n",
      " \n",
      "The number of points you have scored in total for this entire set of Problems is 22 out of 24\n"
     ]
    }
   ],
   "source": []
  }
 ],
 "metadata": {
  "language_info": {
   "codemirror_mode": {
    "name": "ipython",
    "version": 3
   },
   "file_extension": ".py",
   "mimetype": "text/x-python",
   "name": "python",
   "nbconvert_exporter": "python",
   "pygments_lexer": "ipython3",
   "version": "3.9.12"
  },
  "lx_assignment_number": 4,
  "lx_course_instance": "2023",
  "lx_course_name": "Introduction to Data Science",
  "lx_course_number": "1MS041"
 },
 "nbformat": 4,
 "nbformat_minor": 5
}

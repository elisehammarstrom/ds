{
 "cells": [
  {
   "cell_type": "markdown",
   "id": "7a939ebf",
   "metadata": {
    "deletable": false
   },
   "source": [
    "# Assignment 3 for Course 1MS041\n",
    "Make         sure you pass the `# ... Test` cells and\n",
    " submit your solution notebook in the corresponding assignment on the course website. You can submit multiple times before the deadline         and your highest score will be used."
   ]
  },
  {
   "cell_type": "markdown",
   "id": "a8a34a40",
   "metadata": {
    "deletable": false,
    "lx_assignment_number": "3",
    "lx_assignment_type": "ASSIGNMENT",
    "lx_assignment_type2print": "Assignment",
    "lx_problem_cell_type": "PROBLEM",
    "lx_problem_number": "1",
    "lx_problem_points": "8"
   },
   "source": [
    "---\n",
    "## Assignment 3, PROBLEM 1\n",
    "Maximum Points = 8"
   ]
  },
  {
   "cell_type": "markdown",
   "id": "2a6e8aa7",
   "metadata": {
    "deletable": false,
    "lx_assignment_number": "3",
    "lx_assignment_type": "ASSIGNMENT",
    "lx_assignment_type2print": "Assignment",
    "lx_problem_cell_type": "PROBLEM",
    "lx_problem_number": "1",
    "lx_problem_points": "8"
   },
   "source": [
    "\n",
    "Consider the data `X` and `y`, in the cell below. `X` denotes $20$ points in $\\mathbb{R}^2$ and `y` corresponds to the labels for these points, i.e. it is a classification problem.\n",
    "\n",
    "1. [3p] Implement the function `perceptron` by filling in `XXX`.\n",
    "2. [2p] Use your implemented `perceptron` function to compute a vector (numpy array) $\\hat w$ with shape `(3,1)` such that \n",
    "$$\n",
    "    (\\hat w \\cdot \\hat x_i) l_i > 0, \\quad \\forall i=1,\\ldots,20\n",
    "$$\n",
    "put your answer in `hat_w` below (the last dimension is the bias dimension, i.e. the added dimension we used to derive the perceptron)\n",
    "\n",
    "3. [3p] Use the vector $\\hat w$ that you just found and compute $r = \\max_i |x_i|$ (put your result in `r`), finally use this to give an upper bound to the number of iterations needed for the perceptron algorithm to converge on this dataset, see chapter 8 in the ITDS notes. Put the result in `iteration_bound`."
   ]
  },
  {
   "cell_type": "code",
   "execution_count": 1,
   "id": "6bba8fcf",
   "metadata": {
    "deletable": false,
    "execution": {
     "iopub.execute_input": "2023-11-26T08:56:54.582950Z",
     "iopub.status.busy": "2023-11-26T08:56:54.581179Z",
     "iopub.status.idle": "2023-11-26T08:56:54.763169Z",
     "shell.execute_reply": "2023-11-26T08:56:54.762388Z"
    },
    "lx_assignment_number": "3",
    "lx_assignment_type": "ASSIGNMENT",
    "lx_assignment_type2print": "Assignment",
    "lx_problem_cell_type": "PROBLEM",
    "lx_problem_number": "1",
    "lx_problem_points": "8"
   },
   "outputs": [],
   "source": [
    "\n",
    "import numpy as np\n",
    "X = np.array([[0.14774693918368506,0.8537253157278155],[-0.1755517430286779,0.8979710703337818],[0.5227216475286975,0.7448281947022451],[-0.5071170511153492,0.8002027400836075],[-0.39436968212400453,1.0177689414422981],[-0.3983065780966649,1.0443663197782966],[-0.08652771617599643,0.48036820824519255],[0.15352541170101042,0.6820807981911706],[-0.3303348532791869,1.120673883903539],[-0.2656220857139274,0.8526638282828739],[0.7259603693529442,0.25428467532034965],[0.4577253912481767,-0.2358809079980879],[0.9722462145222105,0.13128550836973255],[0.4089349951770505,-0.09503914544452634],[0.9718156747909192,0.3524307824261209],[1.2009353774940565,-0.25004126389987974],[1.271791635779178,-0.07571928320750206],[0.36784476124502913,-0.23743021661715671],[0.8918396050420891,-0.1029336332277948],[0.4501578013678095,-0.13188266835015783]])+np.array([10,0]).reshape(1,-1)\n",
    "y = np.array([1.0,1.0,1.0,1.0,1.0,1.0,1.0,1.0,1.0,1.0,-1.0,-1.0,-1.0,-1.0,-1.0,-1.0,-1.0,-1.0,-1.0,-1.0])"
   ]
  },
  {
   "cell_type": "code",
   "execution_count": 2,
   "id": "bd0108bd",
   "metadata": {
    "deletable": false,
    "execution": {
     "iopub.execute_input": "2023-11-26T08:56:54.767751Z",
     "iopub.status.busy": "2023-11-26T08:56:54.767345Z",
     "iopub.status.idle": "2023-11-26T08:56:54.774880Z",
     "shell.execute_reply": "2023-11-26T08:56:54.774064Z"
    },
    "lx_assignment_number": "3",
    "lx_assignment_type": "ASSIGNMENT",
    "lx_assignment_type2print": "Assignment",
    "lx_problem_cell_type": "PROBLEM",
    "lx_problem_number": "1",
    "lx_problem_points": "8"
   },
   "outputs": [],
   "source": [
    "# Part 1\n",
    "def perceptron(X_in,labels,max_iter=1000):\n",
    "    '''Runs the perceptron algorithm on X_in, labels, and does a maximum of max_iter iterations'''\n",
    "    # Dont forget the addition of the extra dimension to encode the\n",
    "    # bias in the perceptron, i.e. adding the extra dimension with value 1\n",
    "    n_samples, n_features = X_in.shape\n",
    "    # Append a column of ones (for bias) to the feature matrix\n",
    "    X_with_bias = np.c_[X, np.ones(n_samples)]\n",
    "    \n",
    "    w = np.zeros(n_features + 1)  # Additional weight for the bias\n",
    "    converged = False\n",
    "    iteration = 0\n",
    "\n",
    "    while not converged and iteration < max_iter:\n",
    "        converged = True\n",
    "        for i in range(n_samples):\n",
    "            prediction = np.dot(X_with_bias[i], w)\n",
    "            if prediction * labels[i] <= 0:\n",
    "                w += labels[i] * X_with_bias[i]\n",
    "                converged = False\n",
    "        iteration += 1\n",
    "    \n",
    "    return w.reshape(-1, 1) #Make sure that w has the shape described in the problem"
   ]
  },
  {
   "cell_type": "code",
   "execution_count": 3,
   "id": "655accc9",
   "metadata": {
    "deletable": false,
    "execution": {
     "iopub.execute_input": "2023-11-26T08:56:54.779289Z",
     "iopub.status.busy": "2023-11-26T08:56:54.778870Z",
     "iopub.status.idle": "2023-11-26T08:56:54.806376Z",
     "shell.execute_reply": "2023-11-26T08:56:54.805520Z"
    },
    "lx_assignment_number": "3",
    "lx_assignment_type": "ASSIGNMENT",
    "lx_assignment_type2print": "Assignment",
    "lx_problem_cell_type": "PROBLEM",
    "lx_problem_number": "1",
    "lx_problem_points": "8"
   },
   "outputs": [
    {
     "data": {
      "text/plain": [
       "array([[-1.49468903],\n",
       "       [34.08611021],\n",
       "       [ 3.        ]])"
      ]
     },
     "execution_count": 3,
     "metadata": {},
     "output_type": "execute_result"
    }
   ],
   "source": [
    "# Part 1\n",
    "hat_w = perceptron(X, y)\n",
    "hat_w"
   ]
  },
  {
   "cell_type": "code",
   "execution_count": 4,
   "id": "a22bee9f",
   "metadata": {
    "deletable": false,
    "execution": {
     "iopub.execute_input": "2023-11-26T08:56:54.810851Z",
     "iopub.status.busy": "2023-11-26T08:56:54.810449Z",
     "iopub.status.idle": "2023-11-26T08:56:54.820794Z",
     "shell.execute_reply": "2023-11-26T08:56:54.819908Z"
    },
    "lx_assignment_number": "3",
    "lx_assignment_type": "ASSIGNMENT",
    "lx_assignment_type2print": "Assignment",
    "lx_problem_cell_type": "PROBLEM",
    "lx_problem_number": "1",
    "lx_problem_points": "8"
   },
   "outputs": [
    {
     "name": "stdout",
     "output_type": "stream",
     "text": [
      "11.316316542509355\n"
     ]
    },
    {
     "data": {
      "text/plain": [
       "78150.30109461876"
      ]
     },
     "execution_count": 4,
     "metadata": {},
     "output_type": "execute_result"
    }
   ],
   "source": [
    "# Part 2\n",
    "X_new = np.c_[X, np.ones(X.shape[0])]\n",
    "abs = []\n",
    "for i in X_new:\n",
    "    abs.append(np.sqrt(i[0]**2+i[1]**2+i[2]**2))\n",
    "r = np.max(abs)\n",
    "print(r)\n",
    "w_star = hat_w/np.min((X_new @ hat_w).T * y)\n",
    "w_norm = np.linalg.norm(w_star)\n",
    "\n",
    "iteration_bound = r**2*w_norm**2\n",
    "iteration_bound"
   ]
  },
  {
   "cell_type": "code",
   "execution_count": 5,
   "id": "2f7150aa",
   "metadata": {
    "deletable": false,
    "execution": {
     "iopub.execute_input": "2023-11-26T08:56:54.825526Z",
     "iopub.status.busy": "2023-11-26T08:56:54.825130Z",
     "iopub.status.idle": "2023-11-26T08:56:54.874185Z",
     "shell.execute_reply": "2023-11-26T08:56:54.873296Z"
    },
    "lx_assignment_number": "3",
    "lx_assignment_type": "ASSIGNMENT",
    "lx_assignment_type2print": "Assignment",
    "lx_problem_cell_type": "TEST",
    "lx_problem_number": "1",
    "lx_problem_points": "8",
    "lx_test_only": "True",
    "scrolled": true
   },
   "outputs": [
    {
     "name": "stdout",
     "output_type": "stream",
     "text": [
      "Beginning tests for problem 1\n",
      "\n",
      "-----Beginning test------\n",
      "Your perceptron produces a vector of the correct shape!\n",
      "-----Ending test---------\n",
      "\n",
      "-----Beginning test------\n",
      "Your perceptron produces a separating vector, as expected!\n",
      "-----Ending test---------\n",
      "\n",
      "-----Beginning test------\n",
      "Your hat_w separates the set as expected!\n",
      "-----Ending test---------\n",
      "\n",
      "-----Beginning test------\n",
      "You computed the correct value of r\n",
      "-----Ending test---------\n",
      "\n",
      "-----Beginning test------\n",
      "'list' object is not callable\n",
      "Based on your hat_w you did not produce the correct iteration_bound\n",
      "You got 2.0 points deduction \n",
      "-----Ending test---------\n",
      "\n",
      "\n",
      "All tests complete, you got = 6 points\n",
      "The number of points you have scored for this problem is 6 out of 8\n",
      "The number of points you have accumulated thus far is   6 out of 8\n"
     ]
    }
   ],
   "source": []
  },
  {
   "cell_type": "markdown",
   "id": "1341bbae",
   "metadata": {
    "deletable": false,
    "lx_assignment_number": "3",
    "lx_assignment_type": "ASSIGNMENT",
    "lx_assignment_type2print": "Assignment",
    "lx_problem_cell_type": "PROBLEM",
    "lx_problem_number": "2",
    "lx_problem_points": "8"
   },
   "source": [
    "---\n",
    "## Assignment 3, PROBLEM 2\n",
    "Maximum Points = 8"
   ]
  },
  {
   "cell_type": "markdown",
   "id": "18c6e03d",
   "metadata": {
    "deletable": false,
    "lx_assignment_number": "3",
    "lx_assignment_type": "ASSIGNMENT",
    "lx_assignment_type2print": "Assignment",
    "lx_problem_cell_type": "PROBLEM",
    "lx_problem_number": "2",
    "lx_problem_points": "8"
   },
   "source": [
    "\n",
    "For this problem you will need the [pandas](https://pandas.pydata.org/) package and the [sklearn](https://scikit-learn.org/stable/) package. If you download the updated `data` folder from the course website you will find a file called `indoor_train.csv`, this file includes a bunch of positions in (X,Y,Z) and also a location number. The idea is to assign a room number (Location) to the coordinates (X,Y,Z).\n",
    "\n",
    "1. [2p] Take the data in the file `indoor_train.csv` and load it using pandas into a dataframe `df_train`\n",
    "2. [3p] From this dataframe `df_train`, create two numpy arrays, one `Xtrain` and `Ytrain`, they should have sizes `(1154,3)` and `(1154,)` respectively. Their `dtype` should be `float64` and `int64` respectively.\n",
    "3. [3p] Train a Support Vector Classifier, `sklearn.svc.SVC`, on `Xtrain, Ytrain` with `kernel='linear'` and name the trained model `svc_train`.\n",
    "\n",
    "To mimic how [kaggle](https://www.kaggle.com/) works, the Autograder has access to a hidden test-set and will test your fitted model."
   ]
  },
  {
   "cell_type": "code",
   "execution_count": 6,
   "id": "2c0daf01",
   "metadata": {
    "deletable": false,
    "execution": {
     "iopub.execute_input": "2023-11-26T08:56:54.877955Z",
     "iopub.status.busy": "2023-11-26T08:56:54.877627Z",
     "iopub.status.idle": "2023-11-26T08:56:55.189120Z",
     "shell.execute_reply": "2023-11-26T08:56:55.188237Z"
    },
    "lx_assignment_number": "3",
    "lx_assignment_type": "ASSIGNMENT",
    "lx_assignment_type2print": "Assignment",
    "lx_problem_cell_type": "PROBLEM",
    "lx_problem_number": "2",
    "lx_problem_points": "8"
   },
   "outputs": [
    {
     "data": {
      "text/plain": [
       "(1154, 4)"
      ]
     },
     "execution_count": 6,
     "metadata": {},
     "output_type": "execute_result"
    }
   ],
   "source": [
    "\n",
    "import pandas as pd\n",
    "df_train = pd.read_csv(\"data/indoor_train.csv\", delimiter=\",\", dtype={\"Position X\": float, \"Position Y\": float, \"Position Z\": float, \"Location\": int})\n",
    "df_train.shape"
   ]
  },
  {
   "cell_type": "code",
   "execution_count": 7,
   "id": "bee7615c",
   "metadata": {
    "deletable": false,
    "execution": {
     "iopub.execute_input": "2023-11-26T08:56:55.193678Z",
     "iopub.status.busy": "2023-11-26T08:56:55.193306Z",
     "iopub.status.idle": "2023-11-26T08:56:55.199777Z",
     "shell.execute_reply": "2023-11-26T08:56:55.198882Z"
    },
    "lx_assignment_number": "3",
    "lx_assignment_type": "ASSIGNMENT",
    "lx_assignment_type2print": "Assignment",
    "lx_problem_cell_type": "PROBLEM",
    "lx_problem_number": "2",
    "lx_problem_points": "8"
   },
   "outputs": [
    {
     "name": "stdout",
     "output_type": "stream",
     "text": [
      "(1154, 3) float64\n",
      "(1154,) int64\n"
     ]
    }
   ],
   "source": [
    "\n",
    "Xtrain = df_train.iloc[:,:-1].to_numpy()\n",
    "Ytrain = df_train.iloc[:,-1].to_numpy()\n",
    "print(Xtrain.shape, Xtrain.dtype)\n",
    "print(Ytrain.shape, Ytrain.dtype)"
   ]
  },
  {
   "cell_type": "code",
   "execution_count": 8,
   "id": "d7c60a05",
   "metadata": {
    "deletable": false,
    "execution": {
     "iopub.execute_input": "2023-11-26T08:56:55.204138Z",
     "iopub.status.busy": "2023-11-26T08:56:55.203737Z",
     "iopub.status.idle": "2023-11-26T08:56:55.639110Z",
     "shell.execute_reply": "2023-11-26T08:56:55.638213Z"
    },
    "lx_assignment_number": "3",
    "lx_assignment_type": "ASSIGNMENT",
    "lx_assignment_type2print": "Assignment",
    "lx_problem_cell_type": "PROBLEM",
    "lx_problem_number": "2",
    "lx_problem_points": "8"
   },
   "outputs": [],
   "source": [
    "from sklearn.svm import SVC\n",
    "svc_train = SVC(kernel=\"linear\").fit(Xtrain, Ytrain)"
   ]
  },
  {
   "cell_type": "code",
   "execution_count": 9,
   "id": "ae3106db",
   "metadata": {
    "deletable": false,
    "execution": {
     "iopub.execute_input": "2023-11-26T08:56:55.643162Z",
     "iopub.status.busy": "2023-11-26T08:56:55.642739Z",
     "iopub.status.idle": "2023-11-26T08:56:55.668352Z",
     "shell.execute_reply": "2023-11-26T08:56:55.667463Z"
    },
    "lx_assignment_number": "3",
    "lx_assignment_type": "ASSIGNMENT",
    "lx_assignment_type2print": "Assignment",
    "lx_problem_cell_type": "TEST",
    "lx_problem_number": "2",
    "lx_problem_points": "8",
    "lx_test_only": "True"
   },
   "outputs": [
    {
     "name": "stdout",
     "output_type": "stream",
     "text": [
      "Beginning tests for problem 2\n",
      "\n",
      "-----Beginning test------\n",
      "Your dataframe has the correct length\n",
      "-----Ending test---------\n",
      "\n",
      "-----Beginning test------\n",
      "Your dataframe has the correct number of colums\n",
      "-----Ending test---------\n",
      "\n",
      "-----Beginning test------\n",
      "Your dataframe has the correct type\n",
      "-----Ending test---------\n",
      "\n",
      "-----Beginning test------\n",
      "Your Xtrain has the correct shape\n",
      "-----Ending test---------\n",
      "\n",
      "-----Beginning test------\n",
      "Your Ytrain has the correct shape\n",
      "-----Ending test---------\n",
      "\n",
      "-----Beginning test------\n",
      "Your Xtrain has the correct type\n",
      "-----Ending test---------\n",
      "\n",
      "-----Beginning test------\n",
      "Your Ytrain has the correct type\n",
      "-----Ending test---------\n",
      "\n",
      "-----Beginning test------\n",
      "Your Xtrain has the correct dtype\n",
      "-----Ending test---------\n",
      "\n",
      "-----Beginning test------\n",
      "Your Ytrain has the correct dtype\n",
      "-----Ending test---------\n",
      "\n",
      "-----Beginning test------\n",
      "Your svc_train has the correct type\n",
      "-----Ending test---------\n",
      "\n",
      "-----Beginning test------\n",
      "Your svc_train has been fitted\n",
      "-----Ending test---------\n",
      "\n",
      "-----Beginning test------\n",
      "You fitted the svc_train with the correct kernel\n",
      "-----Ending test---------\n",
      "\n",
      "-----Beginning test------\n",
      "You got a score of 1.00\n",
      "Your classifier passed the test, i.e. accuracy is better than 0.9\n",
      "-----Ending test---------\n",
      "\n",
      "\n",
      "All tests complete, you got = 8 points\n",
      "The number of points you have scored for this problem is 8 out of 8\n",
      "The number of points you have accumulated thus far is   14 out of 16\n"
     ]
    }
   ],
   "source": []
  },
  {
   "cell_type": "markdown",
   "id": "f45b00ec",
   "metadata": {
    "deletable": false,
    "lx_assignment_number": "3",
    "lx_assignment_type": "ASSIGNMENT",
    "lx_assignment_type2print": "Assignment",
    "lx_problem_cell_type": "PROBLEM",
    "lx_problem_number": "3",
    "lx_problem_points": "8"
   },
   "source": [
    "---\n",
    "## Assignment 3, PROBLEM 3\n",
    "Maximum Points = 8"
   ]
  },
  {
   "cell_type": "markdown",
   "id": "0ed25400",
   "metadata": {
    "deletable": false,
    "lx_assignment_number": "3",
    "lx_assignment_type": "ASSIGNMENT",
    "lx_assignment_type2print": "Assignment",
    "lx_problem_cell_type": "PROBLEM",
    "lx_problem_number": "3",
    "lx_problem_points": "8"
   },
   "source": [
    "\n",
    "## SMS spam filtering [8p]\n",
    "\n",
    "In the following problem we will explore SMS spam texts. The dataset is the `SMS Spam Collection Dataset` and we have provided for you a way to load the data. If you run the appropriate cell below, the result will be in the `spam_no_spam` variable. The result is a `list` of `tuples` with the first position in the tuple being the SMS text and the second being a flag `0 = not spam` and `1 = spam`.\n",
    "\n",
    "1. [3p] Let $X$ be the random variable that represents each SMS text (an entry in the list), and let $Y$ represent whether text is spam or not i.e. $Y \\in \\{0,1\\}$. Thus $\\mathbb{P}(Y = 1)$ is the probability that we get a spam. The goal is to estimate:\n",
    "$$\n",
    "    \\mathbb{P}(Y = 1 | \\text{\"free\" or \"prize\" is in } X) \\enspace .\n",
    "$$ \n",
    "That is, the probability that the SMS is spam given that \"free\" or \"prize\" occurs in the SMS. (This is precision). Hint: it is good to remove the upper/lower case of words so that we can also find \"Free\" and \"Prize\"; this can be done with `text.lower()` if `text` a string.\n",
    "\n",
    "2. [3p] Estimate the probability that the word \"free\" or \"prize\" is in the text given that it is spam. (This is recall) I.e. estimate\n",
    "$$\n",
    "    \\mathbb{P}(\\text{\"free\" or \"prize\" is in } X \\mid Y = 1) \\enspace .\n",
    "$$\n",
    "3. [2p] Provide a \"90\\%\" interval of confidence around the true probability from **part 1**. I.e. use the Hoeffding inequality to obtain for your estimate $\\hat P$. Find $l > 0$ such that the following holds:\n",
    "$$\n",
    "    \\mathbb{P}(\\hat P - l \\leq \\mathbb{E}[\\hat P] \\leq \\hat P + l) \\geq 0.9 \\enspace .\n",
    "$$"
   ]
  },
  {
   "cell_type": "code",
   "execution_count": 10,
   "id": "ee9419d6",
   "metadata": {
    "deletable": false,
    "execution": {
     "iopub.execute_input": "2023-11-26T08:56:55.672120Z",
     "iopub.status.busy": "2023-11-26T08:56:55.671783Z",
     "iopub.status.idle": "2023-11-26T08:56:55.698799Z",
     "shell.execute_reply": "2023-11-26T08:56:55.697990Z"
    },
    "lx_assignment_number": "3",
    "lx_assignment_type": "ASSIGNMENT",
    "lx_assignment_type2print": "Assignment",
    "lx_problem_cell_type": "PROBLEM",
    "lx_problem_number": "3",
    "lx_problem_points": "8"
   },
   "outputs": [],
   "source": [
    "\n",
    "# Run this cell to get the SMS text data\n",
    "def load_sms():\n",
    "    import csv\n",
    "    lines = []\n",
    "    hamspam = {'ham': 0, 'spam': 1}\n",
    "    with open('data/spam.csv', mode='r',encoding='latin-1') as f:\n",
    "        reader = csv.reader(f)\n",
    "        header = next(reader)\n",
    "        lines = [(line[1],hamspam[line[0]]) for line in reader]\n",
    "        \n",
    "    return lines\n",
    "spam_no_spam = load_sms()"
   ]
  },
  {
   "cell_type": "code",
   "execution_count": 11,
   "id": "9d7defa0",
   "metadata": {
    "deletable": false,
    "execution": {
     "iopub.execute_input": "2023-11-26T08:56:55.702524Z",
     "iopub.status.busy": "2023-11-26T08:56:55.702140Z",
     "iopub.status.idle": "2023-11-26T08:56:55.759353Z",
     "shell.execute_reply": "2023-11-26T08:56:55.758458Z"
    },
    "lx_assignment_number": "3",
    "lx_assignment_type": "ASSIGNMENT",
    "lx_assignment_type2print": "Assignment",
    "lx_problem_cell_type": "PROBLEM",
    "lx_problem_number": "3",
    "lx_problem_points": "8"
   },
   "outputs": [
    {
     "data": {
      "text/plain": [
       "0.8096774193548387"
      ]
     },
     "execution_count": 11,
     "metadata": {},
     "output_type": "execute_result"
    }
   ],
   "source": [
    "# fill in the estimate for part 1 here (should be a number between 0 and 1)\n",
    "import re\n",
    "check = lambda x: 1 if any(re.search(\"\\\\b\"+word+\"\\\\b\", x.lower()) for word in [\"free\", \"prize\"]) else 0\n",
    "cnt_word = 0  # number of sentences with free or prize\n",
    "cnt_both = 0  # number of sentences with free or prize and y ==1 \n",
    "for row in spam_no_spam:\n",
    "    res = check(row[0])\n",
    "    cnt_word += res\n",
    "    if res == 1 and row[1] == 1:\n",
    "        cnt_both += 1\n",
    "\n",
    "problem4_hatP = cnt_both/cnt_word\n",
    "problem4_hatP"
   ]
  },
  {
   "cell_type": "code",
   "execution_count": 12,
   "id": "b531d7fa",
   "metadata": {
    "deletable": false,
    "execution": {
     "iopub.execute_input": "2023-11-26T08:56:55.763667Z",
     "iopub.status.busy": "2023-11-26T08:56:55.763330Z",
     "iopub.status.idle": "2023-11-26T08:56:55.817591Z",
     "shell.execute_reply": "2023-11-26T08:56:55.816762Z"
    },
    "lx_assignment_number": "3",
    "lx_assignment_type": "ASSIGNMENT",
    "lx_assignment_type2print": "Assignment",
    "lx_problem_cell_type": "PROBLEM",
    "lx_problem_number": "3",
    "lx_problem_points": "8"
   },
   "outputs": [
    {
     "name": "stdout",
     "output_type": "stream",
     "text": [
      "0.3360107095046854\n"
     ]
    }
   ],
   "source": [
    "\n",
    "# fill in the estimate for part 2 here (should be a number between 0 and 1)\n",
    "cnt_y = 0  # number of sentences with y == 1\n",
    "cnt_both = 0 # number of sentences with free or prize and y ==1\n",
    "\n",
    "for row in spam_no_spam:\n",
    "    cnt_y += row[1]\n",
    "    if check(row[0]) == 1 and row[1] == 1:\n",
    "        cnt_both += 1\n",
    "\n",
    "problem4_hatP2 = cnt_both/cnt_y\n",
    "print(problem4_hatP2)"
   ]
  },
  {
   "cell_type": "code",
   "execution_count": 13,
   "id": "f93fde76",
   "metadata": {
    "deletable": false,
    "execution": {
     "iopub.execute_input": "2023-11-26T08:56:55.821307Z",
     "iopub.status.busy": "2023-11-26T08:56:55.820936Z",
     "iopub.status.idle": "2023-11-26T08:56:55.827241Z",
     "shell.execute_reply": "2023-11-26T08:56:55.826341Z"
    },
    "lx_assignment_number": "3",
    "lx_assignment_type": "ASSIGNMENT",
    "lx_assignment_type2print": "Assignment",
    "lx_problem_cell_type": "PROBLEM",
    "lx_problem_number": "3",
    "lx_problem_points": "8"
   },
   "outputs": [
    {
     "data": {
      "text/plain": [
       "0.0695113389862958"
      ]
     },
     "execution_count": 13,
     "metadata": {},
     "output_type": "execute_result"
    }
   ],
   "source": [
    "import math\n",
    "# fill in the calculated l from part 3 here\n",
    "problem4_l = math.sqrt((-1/(2*cnt_word))*math.log(0.1/2))\n",
    "problem4_l"
   ]
  },
  {
   "cell_type": "code",
   "execution_count": 14,
   "id": "ea44e5e9",
   "metadata": {
    "deletable": false,
    "execution": {
     "iopub.execute_input": "2023-11-26T08:56:55.831147Z",
     "iopub.status.busy": "2023-11-26T08:56:55.830639Z",
     "iopub.status.idle": "2023-11-26T08:56:55.841334Z",
     "shell.execute_reply": "2023-11-26T08:56:55.840454Z"
    },
    "lx_assignment_number": "3",
    "lx_assignment_type": "ASSIGNMENT",
    "lx_assignment_type2print": "Assignment",
    "lx_problem_cell_type": "TEST",
    "lx_problem_number": "3",
    "lx_problem_points": "8",
    "lx_test_only": "True"
   },
   "outputs": [
    {
     "name": "stdout",
     "output_type": "stream",
     "text": [
      "Beginning tests for problem 3\n",
      "\n",
      "-----Beginning test------\n",
      "'list' object is not callable\n",
      "You have the wrong value for hatP\n",
      "You got 3.0 points deduction \n",
      "-----Ending test---------\n",
      "\n",
      "-----Beginning test------\n",
      "'list' object is not callable\n",
      "You have the wrong value for hatP2\n",
      "You got 3.0 points deduction \n",
      "-----Ending test---------\n",
      "\n",
      "-----Beginning test------\n",
      "'list' object is not callable\n",
      "You have the wrong value for problem4_l\n",
      "You got 2.0 points deduction \n",
      "-----Ending test---------\n",
      "\n",
      "\n",
      "All tests complete, you got = 0 points\n",
      "The number of points you have scored for this problem is 0 out of 8\n",
      " \n",
      " \n",
      " \n",
      "The number of points you have scored in total for this entire set of Problems is 14 out of 24\n"
     ]
    }
   ],
   "source": []
  }
 ],
 "metadata": {
  "language_info": {
   "codemirror_mode": {
    "name": "ipython",
    "version": 3
   },
   "file_extension": ".py",
   "mimetype": "text/x-python",
   "name": "python",
   "nbconvert_exporter": "python",
   "pygments_lexer": "ipython3",
   "version": "3.9.12"
  },
  "lx_assignment_number": 3,
  "lx_course_instance": "2023",
  "lx_course_name": "Introduction to Data Science",
  "lx_course_number": "1MS041"
 },
 "nbformat": 4,
 "nbformat_minor": 5
}

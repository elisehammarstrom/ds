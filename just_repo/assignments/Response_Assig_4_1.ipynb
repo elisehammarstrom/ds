{
 "cells": [
  {
   "cell_type": "markdown",
   "id": "97e43b21",
   "metadata": {
    "deletable": false
   },
   "source": [
    "# Assignment 4 for Course 1MS041\n",
    "Make         sure you pass the `# ... Test` cells and\n",
    " submit your solution notebook in the corresponding assignment on the course website. You can submit multiple times before the deadline         and your highest score will be used."
   ]
  },
  {
   "cell_type": "markdown",
   "id": "a987fc91",
   "metadata": {
    "deletable": false,
    "lx_assignment_number": "4",
    "lx_assignment_type": "ASSIGNMENT",
    "lx_assignment_type2print": "Assignment",
    "lx_problem_cell_type": "PROBLEM",
    "lx_problem_number": "1",
    "lx_problem_points": "24"
   },
   "source": [
    "---\n",
    "## Assignment 4, PROBLEM 1\n",
    "Maximum Points = 24"
   ]
  },
  {
   "cell_type": "markdown",
   "id": "851ce1e7",
   "metadata": {
    "deletable": false,
    "lx_assignment_number": "4",
    "lx_assignment_type": "ASSIGNMENT",
    "lx_assignment_type2print": "Assignment",
    "lx_problem_cell_type": "PROBLEM",
    "lx_problem_number": "1",
    "lx_problem_points": "24"
   },
   "source": [
    "\n",
    "This time the assignment only consists of one problem, but we will do a more comprehensive analysis instead.\n",
    "\n",
    "Consider the dataset `mammography.mat` that you can download from [http://odds.cs.stonybrook.edu/mammography-dataset/](http://odds.cs.stonybrook.edu/mammography-dataset/). Below you can find the code to load this file into `X` and `Y`, you just need to put the file in your `data` folder. During mammography the doctor would be looking for something called `calcification`, which is calcium deposits in the breast tissue and is used as an indicator of cancer. In this dataset the `X` corresponds to some measurements, there are 6 features. The `Y` is a 0-1 label where 1 represents calcification and 0 does not.\n",
    "\n",
    "1. [3p] Split the data into three parts, train/test/validation where train is 60% of the data, test is 15% and validation is 25% of the data. Do not do this randomly, I have prepared a shuffling with a fixed seed, this way I can make sure that we all did the same splits. That is [train,test,validation] is the splitting layout.\n",
    "2. [4p] Train a machine learning model on the training data (you are free to choose it yourself). Hint: you could always try `LogisticRegression`, but for it to work well you would need `StandardScaler` and put everything in a `Pipeline`.\n",
    "3. [3p] Use the classification report from `Utils` and compute the intervals for precision-recall etc on the test set with `union_bound correction` with 95% confidence.\n",
    "4. [3p] You are interested in minimizing the average cost of your classifier, but first we must define it:\n",
    "    * If someone is calcified but classified as not, we say it costs 30 **(this is the worst scenario)** \n",
    "    * If someone is not calcified but classified as calcified, we say it costs 5 **(this probably only costs extra investigation)**\n",
    "    * If someone is calcified but classified as calcified, costs 0 **(We did the right thing, no cost)**\n",
    "    * If someone is not calcified but classified as not, costs 0 **(We did the right thing, no cost)**.\n",
    "\n",
    "complete filling the function `cost` to compute the cost of a prediction model under a certain prediction threshold (recall our precision recall lecture and the `predict_proba` function from trained models). What would be the cost of having a model that always classifies someone as not calcified on the test set?\n",
    "\n",
    "5. [4p] Now, we wish to select the threshold of our classifier that minimizes the cost, we do that by checking say 100 evenly spaced proposal thresholds between 0 and 1, and use our testing data to compute the cost.\n",
    "6. [4p] With your newly computed threshold value, compute the cost of putting this model in production by computing the cost using the validation data. Also provide a confidence interval of the cost using Hoeffdings inequality with a 95% confidence.\n",
    "7. [3p] Let $t$ be the threshold you found and $f$ the model you fitted, if we define the random variable\n",
    "$$\n",
    "    C = 30(1-1_{f(X)\\geq t})Y+5(1-Y)1_{f(X) \\geq t}\n",
    "$$\n",
    "then $C$ denotes the cost of a randomly chosen patient. In the above we are estimating $\\mathbb{E}[C]$ using the empirical mean. However, since the number of calcifications in the population is fairly small and our classifier probably has a fairly high precision for the $0$ class, then $C$ should have fairly small variance. Compute the empirical variance of $C$ on the validation set. What would be the confidence interval if we used Bennett's inequality instead of Hoeffding in point 6 but with the computed empirical variance as our guess for the variance?"
   ]
  },
  {
   "cell_type": "code",
   "execution_count": 1,
   "id": "8dc0735a",
   "metadata": {
    "deletable": false,
    "execution": {
     "iopub.execute_input": "2023-12-13T15:06:37.821361Z",
     "iopub.status.busy": "2023-12-13T15:06:37.820904Z",
     "iopub.status.idle": "2023-12-13T15:06:38.030989Z",
     "shell.execute_reply": "2023-12-13T15:06:38.030176Z"
    },
    "lx_assignment_number": "4",
    "lx_assignment_type": "ASSIGNMENT",
    "lx_assignment_type2print": "Assignment",
    "lx_problem_cell_type": "PROBLEM",
    "lx_problem_number": "1",
    "lx_problem_points": "24"
   },
   "outputs": [],
   "source": [
    "import scipy.io as so\n",
    "import numpy as np\n",
    "data = so.loadmat('data/mammography.mat')\n",
    "\n",
    "np.random.seed(0)\n",
    "shuffle_index = np.arange(0,len(data['X']))\n",
    "np.random.shuffle(shuffle_index)\n",
    "\n",
    "X = data['X'][shuffle_index,:]\n",
    "Y = data['y'][shuffle_index,:].flatten()"
   ]
  },
  {
   "cell_type": "code",
   "execution_count": 2,
   "id": "9c22abac",
   "metadata": {
    "deletable": false,
    "execution": {
     "iopub.execute_input": "2023-12-13T15:06:38.034941Z",
     "iopub.status.busy": "2023-12-13T15:06:38.034523Z",
     "iopub.status.idle": "2023-12-13T15:06:38.471965Z",
     "shell.execute_reply": "2023-12-13T15:06:38.471108Z"
    },
    "lx_assignment_number": "4",
    "lx_assignment_type": "ASSIGNMENT",
    "lx_assignment_type2print": "Assignment",
    "lx_problem_cell_type": "PROBLEM",
    "lx_problem_number": "1",
    "lx_problem_points": "24"
   },
   "outputs": [
    {
     "name": "stdout",
     "output_type": "stream",
     "text": [
      "(6709, 6) (1678, 6) (2796, 6)\n"
     ]
    }
   ],
   "source": [
    "from sklearn.model_selection import train_test_split\n",
    "# Part 1\n",
    "\n",
    "# Split the X,Y into three parts, make sure that the sizes are\n",
    "# (6709, 6), (1677, 6), (2797, 6), (6709,), (1677,), (2797,)\n",
    "\n",
    "X_train, X_valid, Y_train, Y_valid = train_test_split(X,Y, test_size=0.25, shuffle=False)\n",
    "X_train, X_test, Y_train, Y_test = train_test_split(X_train, Y_train, test_size=0.2, shuffle=False)\n",
    "print(X_train.shape, X_test.shape, X_valid.shape)"
   ]
  },
  {
   "cell_type": "code",
   "execution_count": 3,
   "id": "dcfb113e",
   "metadata": {
    "deletable": false,
    "execution": {
     "iopub.execute_input": "2023-12-13T15:06:38.476622Z",
     "iopub.status.busy": "2023-12-13T15:06:38.476120Z",
     "iopub.status.idle": "2023-12-13T15:06:38.534760Z",
     "shell.execute_reply": "2023-12-13T15:06:38.533510Z"
    },
    "lx_assignment_number": "4",
    "lx_assignment_type": "ASSIGNMENT",
    "lx_assignment_type2print": "Assignment",
    "lx_problem_cell_type": "PROBLEM",
    "lx_problem_number": "1",
    "lx_problem_points": "24"
   },
   "outputs": [],
   "source": [
    "from sklearn.pipeline import Pipeline\n",
    "from sklearn.preprocessing import StandardScaler\n",
    "from sklearn.linear_model import LogisticRegression\n",
    "# Part 2\n",
    "# Use X_train,Y_train to train a model from sklearn. Make sure it has the predict_proba function\n",
    "# for instance LogisticRegression\n",
    "\n",
    "model = Pipeline(\n",
    "    [\n",
    "        (\"scaler\", StandardScaler()),\n",
    "        (\"log_reg\", LogisticRegression(random_state=42))\n",
    "    ]\n",
    ").fit(X_train, Y_train)"
   ]
  },
  {
   "cell_type": "code",
   "execution_count": 4,
   "id": "6276584f",
   "metadata": {
    "deletable": false,
    "execution": {
     "iopub.execute_input": "2023-12-13T15:06:38.541403Z",
     "iopub.status.busy": "2023-12-13T15:06:38.540589Z",
     "iopub.status.idle": "2023-12-13T15:06:38.569475Z",
     "shell.execute_reply": "2023-12-13T15:06:38.568267Z"
    },
    "lx_assignment_number": "4",
    "lx_assignment_type": "ASSIGNMENT",
    "lx_assignment_type2print": "Assignment",
    "lx_problem_cell_type": "PROBLEM",
    "lx_problem_number": "1",
    "lx_problem_points": "24"
   },
   "outputs": [
    {
     "name": "stdout",
     "output_type": "stream",
     "text": [
      "            labels           precision             recall\n",
      "\n",
      "                 0  0.98 : [0.94,1.00] 1.00 : [0.96,1.00]\n",
      "                 1  0.70 : [0.33,1.00] 0.36 : [0.09,0.62]\n",
      "\n",
      "          accuracy                                        0.98 : [0.94,1.00]\n",
      "\n"
     ]
    }
   ],
   "source": [
    "\n",
    "# Part 3\n",
    "\n",
    "# Compute precision and recall on the test set using \n",
    "from Utils import classification_report_interval\n",
    "\n",
    "# Each precision and recall should be a tuple, for instance you can write\n",
    "# precision0 = (0.9,0.95)\n",
    "print(classification_report_interval(Y_test, model.predict(X_test), alpha=0.05))\n",
    "precision0 = (0.94, 1.00)\n",
    "recall0 = (0.96, 1.00)\n",
    "precision1 = (0.33, 1.00)\n",
    "recall1 = (0.09, 0.62)\n",
    "\n",
    "# The code below will check that you supply the proper type\n",
    "assert(type(precision0) == tuple)\n",
    "assert(len(precision0) == 2)\n",
    "assert(type(recall0) == tuple)\n",
    "assert(len(recall0) == 2)\n",
    "assert(type(precision1) == tuple)\n",
    "assert(len(precision1) == 2)\n",
    "assert(type(recall1) == tuple)\n",
    "assert(len(recall1) == 2)"
   ]
  },
  {
   "cell_type": "code",
   "execution_count": 5,
   "id": "7ce4c015",
   "metadata": {
    "deletable": false,
    "execution": {
     "iopub.execute_input": "2023-12-13T15:06:38.576384Z",
     "iopub.status.busy": "2023-12-13T15:06:38.575246Z",
     "iopub.status.idle": "2023-12-13T15:06:38.604286Z",
     "shell.execute_reply": "2023-12-13T15:06:38.603043Z"
    },
    "lx_assignment_number": "4",
    "lx_assignment_type": "ASSIGNMENT",
    "lx_assignment_type2print": "Assignment",
    "lx_problem_cell_type": "PROBLEM",
    "lx_problem_number": "1",
    "lx_problem_points": "24"
   },
   "outputs": [
    {
     "data": {
      "text/plain": [
       "array([0, 0, 0, ..., 0, 0, 0])"
      ]
     },
     "execution_count": 5,
     "metadata": {},
     "output_type": "execute_result"
    }
   ],
   "source": [
    "\n",
    "# Part 4\n",
    "\n",
    "def cost(model,threshold,X,Y):\n",
    "    pred_proba = model.predict_proba(X)[:,1]\n",
    "    predictions = (pred_proba >= threshold)*1\n",
    "    \n",
    "    # Fill in what is missing to compute the cost and return it\n",
    "    # Note that we are interested in average cost (cost per person)\n",
    "    \n",
    "    return predictions\n",
    "\n",
    "cost(model, 0.5, X_test, Y_test)"
   ]
  },
  {
   "cell_type": "code",
   "execution_count": 6,
   "id": "fd057379",
   "metadata": {
    "deletable": false,
    "execution": {
     "iopub.execute_input": "2023-12-13T15:06:38.611130Z",
     "iopub.status.busy": "2023-12-13T15:06:38.609980Z",
     "iopub.status.idle": "2023-12-13T15:06:39.299474Z",
     "shell.execute_reply": "2023-12-13T15:06:39.298629Z"
    },
    "lx_assignment_number": "4",
    "lx_assignment_type": "ASSIGNMENT",
    "lx_assignment_type2print": "Assignment",
    "lx_problem_cell_type": "PROBLEM",
    "lx_problem_number": "1",
    "lx_problem_points": "24"
   },
   "outputs": [
    {
     "ename": "NameError",
     "evalue": "name 'XXX' is not defined",
     "output_type": "error",
     "traceback": [
      "\u001b[0;31m---------------------------------------------------------------------------\u001b[0m",
      "\u001b[0;31mNameError\u001b[0m                                 Traceback (most recent call last)",
      "Input \u001b[0;32mIn [6]\u001b[0m, in \u001b[0;36m<cell line: 5>\u001b[0;34m()\u001b[0m\n\u001b[1;32m      1\u001b[0m \u001b[38;5;66;03m# Part 4\u001b[39;00m\n\u001b[1;32m      2\u001b[0m \n\u001b[1;32m      3\u001b[0m \u001b[38;5;66;03m# Fill in the naive cost of the model that would classify all as non-calcified on the test set\u001b[39;00m\n\u001b[0;32m----> 5\u001b[0m naive_cost \u001b[38;5;241m=\u001b[39m \u001b[43mXXX\u001b[49m\n",
      "\u001b[0;31mNameError\u001b[0m: name 'XXX' is not defined"
     ]
    }
   ],
   "source": [
    "\n",
    "# Part 4\n",
    "\n",
    "# Fill in the naive cost of the model that would classify all as non-calcified on the test set\n",
    "\n",
    "naive_cost = XXX"
   ]
  },
  {
   "cell_type": "code",
   "execution_count": 7,
   "id": "180493c1",
   "metadata": {
    "deletable": false,
    "execution": {
     "iopub.execute_input": "2023-12-13T15:06:39.303240Z",
     "iopub.status.busy": "2023-12-13T15:06:39.302833Z",
     "iopub.status.idle": "2023-12-13T15:06:39.321172Z",
     "shell.execute_reply": "2023-12-13T15:06:39.320276Z"
    },
    "lx_assignment_number": "4",
    "lx_assignment_type": "ASSIGNMENT",
    "lx_assignment_type2print": "Assignment",
    "lx_problem_cell_type": "PROBLEM",
    "lx_problem_number": "1",
    "lx_problem_points": "24"
   },
   "outputs": [
    {
     "ename": "NameError",
     "evalue": "name 'XXX' is not defined",
     "output_type": "error",
     "traceback": [
      "\u001b[0;31m---------------------------------------------------------------------------\u001b[0m",
      "\u001b[0;31mNameError\u001b[0m                                 Traceback (most recent call last)",
      "Input \u001b[0;32mIn [7]\u001b[0m, in \u001b[0;36m<cell line: 3>\u001b[0;34m()\u001b[0m\n\u001b[1;32m      1\u001b[0m \u001b[38;5;66;03m# Part 5\u001b[39;00m\n\u001b[0;32m----> 3\u001b[0m optimal_threshold \u001b[38;5;241m=\u001b[39m \u001b[43mXXX\u001b[49m\n\u001b[1;32m      4\u001b[0m cost_at_optimal_threshold \u001b[38;5;241m=\u001b[39m XXX\n",
      "\u001b[0;31mNameError\u001b[0m: name 'XXX' is not defined"
     ]
    }
   ],
   "source": [
    "\n",
    "# Part 5\n",
    "\n",
    "optimal_threshold = XXX\n",
    "cost_at_optimal_threshold = XXX"
   ]
  },
  {
   "cell_type": "code",
   "execution_count": 8,
   "id": "9d4c0e10",
   "metadata": {
    "deletable": false,
    "execution": {
     "iopub.execute_input": "2023-12-13T15:06:39.325446Z",
     "iopub.status.busy": "2023-12-13T15:06:39.325063Z",
     "iopub.status.idle": "2023-12-13T15:06:39.344918Z",
     "shell.execute_reply": "2023-12-13T15:06:39.343971Z"
    },
    "lx_assignment_number": "4",
    "lx_assignment_type": "ASSIGNMENT",
    "lx_assignment_type2print": "Assignment",
    "lx_problem_cell_type": "PROBLEM",
    "lx_problem_number": "1",
    "lx_problem_points": "24"
   },
   "outputs": [
    {
     "ename": "NameError",
     "evalue": "name 'XXX' is not defined",
     "output_type": "error",
     "traceback": [
      "\u001b[0;31m---------------------------------------------------------------------------\u001b[0m",
      "\u001b[0;31mNameError\u001b[0m                                 Traceback (most recent call last)",
      "Input \u001b[0;32mIn [8]\u001b[0m, in \u001b[0;36m<cell line: 3>\u001b[0;34m()\u001b[0m\n\u001b[1;32m      1\u001b[0m \u001b[38;5;66;03m# Part 6\u001b[39;00m\n\u001b[0;32m----> 3\u001b[0m cost_at_optimal_threshold_validation \u001b[38;5;241m=\u001b[39m \u001b[43mXXX\u001b[49m\n\u001b[1;32m      4\u001b[0m \u001b[38;5;66;03m# Report the cost interval as a tuple cost_interval = (a,b)\u001b[39;00m\n\u001b[1;32m      5\u001b[0m cost_interval \u001b[38;5;241m=\u001b[39m XXX\n",
      "\u001b[0;31mNameError\u001b[0m: name 'XXX' is not defined"
     ]
    }
   ],
   "source": [
    "\n",
    "# Part 6\n",
    "\n",
    "cost_at_optimal_threshold_validation = XXX\n",
    "# Report the cost interval as a tuple cost_interval = (a,b)\n",
    "cost_interval = XXX\n",
    "\n",
    "# The code below will tell you if you filled in the intervals correctly\n",
    "assert(type(cost_interval) == tuple)\n",
    "assert(len(cost_interval) == 2)"
   ]
  },
  {
   "cell_type": "code",
   "execution_count": 9,
   "id": "71ef0143",
   "metadata": {
    "deletable": false,
    "execution": {
     "iopub.execute_input": "2023-12-13T15:06:39.349085Z",
     "iopub.status.busy": "2023-12-13T15:06:39.348711Z",
     "iopub.status.idle": "2023-12-13T15:06:39.367326Z",
     "shell.execute_reply": "2023-12-13T15:06:39.366412Z"
    },
    "lx_assignment_number": "4",
    "lx_assignment_type": "ASSIGNMENT",
    "lx_assignment_type2print": "Assignment",
    "lx_problem_cell_type": "PROBLEM",
    "lx_problem_number": "1",
    "lx_problem_points": "24"
   },
   "outputs": [
    {
     "ename": "NameError",
     "evalue": "name 'XXX' is not defined",
     "output_type": "error",
     "traceback": [
      "\u001b[0;31m---------------------------------------------------------------------------\u001b[0m",
      "\u001b[0;31mNameError\u001b[0m                                 Traceback (most recent call last)",
      "Input \u001b[0;32mIn [9]\u001b[0m, in \u001b[0;36m<cell line: 3>\u001b[0;34m()\u001b[0m\n\u001b[1;32m      1\u001b[0m \u001b[38;5;66;03m# Part 7\u001b[39;00m\n\u001b[0;32m----> 3\u001b[0m variance_of_C \u001b[38;5;241m=\u001b[39m \u001b[43mXXX\u001b[49m\n",
      "\u001b[0;31mNameError\u001b[0m: name 'XXX' is not defined"
     ]
    }
   ],
   "source": [
    "\n",
    "# Part 7\n",
    "\n",
    "variance_of_C = XXX"
   ]
  },
  {
   "cell_type": "code",
   "execution_count": 10,
   "id": "160c8acb",
   "metadata": {
    "deletable": false,
    "execution": {
     "iopub.execute_input": "2023-12-13T15:06:39.371434Z",
     "iopub.status.busy": "2023-12-13T15:06:39.371088Z",
     "iopub.status.idle": "2023-12-13T15:06:39.390676Z",
     "shell.execute_reply": "2023-12-13T15:06:39.389766Z"
    },
    "lx_assignment_number": "4",
    "lx_assignment_type": "ASSIGNMENT",
    "lx_assignment_type2print": "Assignment",
    "lx_problem_cell_type": "PROBLEM",
    "lx_problem_number": "1",
    "lx_problem_points": "24"
   },
   "outputs": [
    {
     "ename": "NameError",
     "evalue": "name 'XXX' is not defined",
     "output_type": "error",
     "traceback": [
      "\u001b[0;31m---------------------------------------------------------------------------\u001b[0m",
      "\u001b[0;31mNameError\u001b[0m                                 Traceback (most recent call last)",
      "Input \u001b[0;32mIn [10]\u001b[0m, in \u001b[0;36m<cell line: 4>\u001b[0;34m()\u001b[0m\n\u001b[1;32m      1\u001b[0m \u001b[38;5;66;03m# Part 7\u001b[39;00m\n\u001b[1;32m      2\u001b[0m \n\u001b[1;32m      3\u001b[0m \u001b[38;5;66;03m# A 95% confidence interval of the random variable C using Bennett's inequality\u001b[39;00m\n\u001b[0;32m----> 4\u001b[0m interval_of_C \u001b[38;5;241m=\u001b[39m \u001b[43mXXX\u001b[49m\n\u001b[1;32m      6\u001b[0m \u001b[38;5;28;01massert\u001b[39;00m(\u001b[38;5;28mtype\u001b[39m(interval_of_C) \u001b[38;5;241m==\u001b[39m \u001b[38;5;28mtuple\u001b[39m)\n\u001b[1;32m      7\u001b[0m \u001b[38;5;28;01massert\u001b[39;00m(\u001b[38;5;28mlen\u001b[39m(interval_of_C) \u001b[38;5;241m==\u001b[39m \u001b[38;5;241m2\u001b[39m)\n",
      "\u001b[0;31mNameError\u001b[0m: name 'XXX' is not defined"
     ]
    }
   ],
   "source": [
    "\n",
    "# Part 7\n",
    "\n",
    "# A 95% confidence interval of the random variable C using Bennett's inequality\n",
    "interval_of_C = XXX\n",
    "\n",
    "assert(type(interval_of_C) == tuple)\n",
    "assert(len(interval_of_C) == 2)"
   ]
  },
  {
   "cell_type": "code",
   "execution_count": 11,
   "id": "e17f3cd7",
   "metadata": {
    "deletable": false,
    "execution": {
     "iopub.execute_input": "2023-12-13T15:06:39.395279Z",
     "iopub.status.busy": "2023-12-13T15:06:39.394858Z",
     "iopub.status.idle": "2023-12-13T15:06:40.537124Z",
     "shell.execute_reply": "2023-12-13T15:06:40.535822Z"
    },
    "lx_assignment_number": "4",
    "lx_assignment_type": "ASSIGNMENT",
    "lx_assignment_type2print": "Assignment",
    "lx_problem_cell_type": "TEST",
    "lx_problem_number": "1",
    "lx_problem_points": "24",
    "lx_test_only": "True",
    "scrolled": false
   },
   "outputs": [
    {
     "name": "stdout",
     "output_type": "stream",
     "text": [
      "Beginning tests for problem 1\n",
      "\n",
      "---------------------------------\n",
      "Beginning test for part1\n",
      "---------------------------------\n",
      "\n",
      "-----Beginning test------\n",
      "Shape of X_train correct it is (6709,6)\n",
      "-----Ending test---------\n",
      "\n",
      "-----Beginning test------\n",
      "\n",
      "Shape of X_test incorrect, should be (1677,6)\n",
      "You got 0.5 points deduction \n",
      "-----Ending test---------\n",
      "\n",
      "-----Beginning test------\n",
      "\n",
      "Shape of X_valid incorrect, should be (2797,6)\n",
      "You got 0.5 points deduction \n",
      "-----Ending test---------\n",
      "\n",
      "-----Beginning test------\n",
      "Shape of Y_train correct it is (6709,)\n",
      "-----Ending test---------\n",
      "\n",
      "-----Beginning test------\n",
      "\n",
      "Shape of Y_test incorrect, should be (1677,)\n",
      "You got 0.5 points deduction \n",
      "-----Ending test---------\n",
      "\n",
      "-----Beginning test------\n",
      "\n",
      "Shape of Y_valid incorrect, should be (2797,)\n",
      "You got 0.5 points deduction \n",
      "-----Ending test---------\n",
      "\n",
      "---------------------------------\n",
      "Beginning test for part2\n",
      "---------------------------------\n",
      "\n",
      "-----Beginning test------\n",
      "Your model does produce the correct output shape when predict_proba is called on X_train\n",
      "-----Ending test---------\n",
      "\n",
      "-----Beginning test------\n",
      "Your model outperforms the naive classifier (always 0) on the trainig data, at least we learned something\n",
      "-----Ending test---------\n",
      "\n",
      "---------------------------------\n",
      "Beginning test for part3\n",
      "---------------------------------\n",
      "\n",
      "-----Beginning test------\n",
      "Setup for part 3 ran without issues\n",
      "-----Ending test---------\n",
      "\n",
      "-----Beginning test------\n",
      "precision0 lower edge correct\n",
      "-----Ending test---------\n",
      "\n",
      "-----Beginning test------\n",
      "precision0 upper edge correct\n",
      "-----Ending test---------\n",
      "\n",
      "-----Beginning test------\n",
      "precision1 lower edge correct\n",
      "-----Ending test---------\n",
      "\n",
      "-----Beginning test------\n",
      "precision1 upper edge correct\n",
      "-----Ending test---------\n",
      "\n",
      "-----Beginning test------\n",
      "recall0 lower edge correct\n",
      "-----Ending test---------\n",
      "\n",
      "-----Beginning test------\n",
      "recall0 upper edge correct\n",
      "-----Ending test---------\n",
      "\n",
      "-----Beginning test------\n",
      "recall1 lower edge correct\n",
      "-----Ending test---------\n",
      "\n",
      "-----Beginning test------\n",
      "recall1 upper edge correct\n",
      "-----Ending test---------\n",
      "\n",
      "---------------------------------\n",
      "Beginning test for part4\n",
      "---------------------------------\n",
      "\n",
      "-----Beginning test------\n",
      "The truth value of an array with more than one element is ambiguous. Use a.any() or a.all()\n",
      "Your cost function deviates more that 0.01 from a reference cost function on a test model at threshold 0.5\n",
      "You got 2.0 points deduction \n",
      "-----Ending test---------\n",
      "\n",
      "-----Beginning test------\n",
      "name 'naive_cost' is not defined\n",
      "Your naive cost is off by at least 0.01\n",
      "You got 1.0 points deduction \n",
      "-----Ending test---------\n",
      "\n",
      "---------------------------------\n",
      "Beginning test for part5\n",
      "---------------------------------\n",
      "\n",
      "-----Beginning test------\n",
      "name 'optimal_threshold' is not defined\n",
      "The cost at your optimal threshold is too far away from the minimum cost\n",
      "You got 2.0 points deduction \n",
      "-----Ending test---------\n",
      "\n",
      "-----Beginning test------\n",
      "name 'optimal_threshold' is not defined\n",
      "Your cost at the optimal threshold was computed using your optimal threshold and your cost function, but still did not agree, are you plugging in the right thing?\n",
      "You got 2.0 points deduction \n",
      "-----Ending test---------\n",
      "\n",
      "---------------------------------\n",
      "Beginning test for part6\n",
      "---------------------------------\n",
      "\n",
      "-----Beginning test------\n",
      "name 'cost_at_optimal_threshold_validation' is not defined\n",
      "The cost at the optimal threshold validation did not agree with the one computed using your model and cost function with error greater than 0.01\n",
      "You got 2.0 points deduction \n",
      "-----Ending test---------\n",
      "\n",
      "-----Beginning test------\n",
      "name 'cost_interval' is not defined\n",
      "The lower edge of the cost_interval did not agree with one computed on your cost_at_optimal_threshold_validation\n",
      "You got 1.0 points deduction \n",
      "-----Ending test---------\n",
      "\n",
      "-----Beginning test------\n",
      "name 'cost_interval' is not defined\n",
      "The upper edge of the cost_interval did not agree with one computed on your cost_at_optimal_threshold_validation\n",
      "You got 1.0 points deduction \n",
      "-----Ending test---------\n",
      "\n",
      "---------------------------------\n",
      "Beginning test for part7\n",
      "---------------------------------\n",
      "\n",
      "-----Beginning test------\n",
      "name 'optimal_threshold' is not defined\n",
      "Your variance of C did not agree with the reference within an error of 0.01\n",
      "You got 1.0 points deduction \n",
      "-----Ending test---------\n",
      "\n",
      "-----Beginning test------\n",
      "name 'optimal_threshold' is not defined\n",
      "The lower edge of the C interval did not agree with reference within an error of 0.01\n",
      "You got 1.0 points deduction \n",
      "-----Ending test---------\n",
      "\n",
      "-----Beginning test------\n",
      "name 'optimal_threshold' is not defined\n",
      "The upper edge of the C interval did not agree with reference within an error of 0.01\n",
      "You got 1.0 points deduction \n",
      "-----Ending test---------\n",
      "\n",
      "\n",
      "All tests complete, you got = 8 points\n",
      "The number of points you have scored for this problem is 8 out of 24\n",
      " \n",
      " \n",
      " \n",
      "The number of points you have scored in total for this entire set of Problems is 8 out of 24\n"
     ]
    }
   ],
   "source": []
  }
 ],
 "metadata": {
  "language_info": {
   "codemirror_mode": {
    "name": "ipython",
    "version": 3
   },
   "file_extension": ".py",
   "mimetype": "text/x-python",
   "name": "python",
   "nbconvert_exporter": "python",
   "pygments_lexer": "ipython3",
   "version": "3.9.12"
  },
  "lx_assignment_number": 4,
  "lx_course_instance": "2023",
  "lx_course_name": "Introduction to Data Science",
  "lx_course_number": "1MS041"
 },
 "nbformat": 4,
 "nbformat_minor": 5
}

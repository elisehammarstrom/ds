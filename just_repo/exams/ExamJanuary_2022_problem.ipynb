{
 "cells": [
  {
   "cell_type": "markdown",
   "id": "3af150ce",
   "metadata": {
    "deletable": false
   },
   "source": [
    "# Exam 2021, 8.00-13.00 for the course 1MS041 (Introduction to Data Science / Introduktion till dataanalys)\n",
    "\n",
    "## Instructions:\n",
    "1. Complete the problems by following instructions.\n",
    "2. When done, submit this file with your solutions saved, following the instruction sheet.\n",
    "\n",
    "This exam has 3 problems for a total of 40 points, to pass you need\n",
    "20 points.\n",
    "\n",
    "## Some general hints and information:\n",
    "* Try to answer all questions even if you are uncertain.\n",
    "* Comment your code, so that if you get the wrong answer I can understand how you thought\n",
    "this can give you some points even though the code does not run.\n",
    "* Follow the instruction sheet rigorously.\n",
    "* This exam is partially autograded, but your code and your free text answers are manually graded anonymously.\n",
    "* If there are any questions, please ask the exam guards, they will escalate it to me if necessary.\n",
    "* I (Benny) will visit the exam room at around 10:30 to see if there are any questions.\n",
    "\n",
    "## Tips for free text answers\n",
    "* Be VERY clear with your reasoning, there should be zero ambiguity in what you are referring to.\n",
    "* If you want to include math, you can write LaTeX in the Markdown cells, for instance `$f(x)=x^2$` will be rendered as $f(x)=x^2$ and `$$f(x) = x^2$$` will become an equation line, as follows\n",
    "$$f(x) = x^2$$\n",
    "Another example is `$$f_{Y \\mid X}(y,x) = P(Y = y \\mid X = x) = \\exp(\\alpha \\cdot x + \\beta)$$` which renders as\n",
    "$$f_{Y \\mid X}(y,x) = P(Y = y \\mid X = x) = \\exp(\\alpha \\cdot x + \\beta)$$\n",
    "\n",
    "## Finally some rules:\n",
    "* You may not communicate with others during the exam, for example:\n",
    "    * You cannot ask for help in Stack-Overflow or other such help forums during the Exam.\n",
    "    * You may not communicate with AI's, for instance ChatGPT.\n",
    "    * Your on-line and off-line activity is being monitored according to the examination rules.\n",
    "\n",
    "## Good luck!"
   ]
  },
  {
   "cell_type": "code",
   "execution_count": 2,
   "id": "6a87c0aa",
   "metadata": {
    "deletable": false
   },
   "outputs": [],
   "source": [
    "# Insert your anonymous exam ID as a string in the variable below\n",
    "examID=\"XXX\"\n"
   ]
  },
  {
   "cell_type": "markdown",
   "id": "7e0803f8",
   "metadata": {
    "deletable": false,
    "lx_assignment_number": "vB",
    "lx_assignment_type": "EXAM",
    "lx_assignment_type2print": "Exam",
    "lx_problem_cell_type": "PROBLEM",
    "lx_problem_number": "1",
    "lx_problem_points": "8"
   },
   "source": [
    "---\n",
    "## Exam vB, PROBLEM 1\n",
    "Maximum Points = 8"
   ]
  },
  {
   "cell_type": "markdown",
   "id": "58c0b006",
   "metadata": {
    "deletable": false,
    "lx_assignment_number": "vB",
    "lx_assignment_type": "EXAM",
    "lx_assignment_type2print": "Exam",
    "lx_problem_cell_type": "PROBLEM",
    "lx_problem_number": "1",
    "lx_problem_points": "8"
   },
   "source": [
    "\n",
    "## Probability warmup\n",
    "Let's say we have an exam question which consists of $20$ yes/no questions. \n",
    "From past performance of similar students, a randomly chosen student will know the correct answer to $N \\sim \\text{binom}(20,11/20)$ questions. Furthermore, we assume that the student will guess the answer with equal probability to each question they don't know the answer to, i.e. given $N$ we define $Z \\sim \\text{binom}(20-N,1/2)$ as the number of correctly guessed answers. Define $Y = N + Z$, i.e., $Y$ represents the number of total correct answers.\n",
    "\n",
    "We are interested in setting a deterministic threshold $T$, i.e., we would pass a student at threshold $T$ if $Y \\geq T$. Here $T \\in \\{0,1,2,\\ldots,20\\}$.\n",
    "\n",
    "1. [5p] For each threshold $T$, compute the probability that the student *knows* less than $10$ correct answers given that the student passed, i.e., $N < 10$. Put the answer in `problem11_probabilities` as a list.\n",
    "2. [3p] What is the smallest value of $T$ such that if $Y \\geq T$ then we are 90\\% certain that $N \\geq 10$?"
   ]
  },
  {
   "cell_type": "code",
   "execution_count": 3,
   "id": "ee1990ab",
   "metadata": {
    "deletable": false,
    "lx_assignment_number": "vB",
    "lx_assignment_type": "EXAM",
    "lx_assignment_type2print": "Exam",
    "lx_problem_cell_type": "PROBLEM",
    "lx_problem_number": "1",
    "lx_problem_points": "8"
   },
   "outputs": [],
   "source": [
    "from scipy.special import binom as binomial\n",
    "# Hint the PMF of N is p_N(k) where p_N is\n",
    "p_n = 11/20\n",
    "p_N = lambda k: binomial(20,k)*((1-p_n)**(20-k))*((p_n)**k)\n",
    "p_z = 1/2\n",
    "p_Z = lambda k, n: binomial(20-n,k)*((1-p_z)**(20-n-k))*((p_z)**k)"
   ]
  },
  {
   "cell_type": "code",
   "execution_count": 4,
   "id": "27e6fdcf",
   "metadata": {},
   "outputs": [
    {
     "name": "stdout",
     "output_type": "stream",
     "text": [
      "[0.24928935982841183, 0.2492893598283288, 0.24928935982261044, 0.24928935963549273, 0.24928935576839328, 0.24928929915834963, 0.24928867518930245, 0.24928330207958452, 0.2492462852336602, 0.24903902630299052, 0.24808569900431432, 0.2446082001497593, 0.23494396957815233, 0.2147564151317591, 0.18267139196620993, 0.1427252244707204, 0.10227042692681905, 0.06762809950564569, 0.04166472439122733, 0.02415113434042271, 0.01328746267959387]\n"
     ]
    }
   ],
   "source": [
    "from itertools import product\n",
    "\n",
    "probs = [0 for i in range(21)]\n",
    "p_n_10 = sum([p_N(i) for i in range(10)])\n",
    "#print(p_n_10)\n",
    "\n",
    "for t in range(21):\n",
    "    #print(t)\n",
    "    combs_cond = [i for i in product(range(t), repeat=2) if i[0]+i[1] < t and i[0] < 10]\n",
    "    p_cond = sum([p_N(N)*p_Z(Z,N) for N, Z in combs_cond])\n",
    "    combs = [i for i in product(range(t), repeat=2) if i[0]+i[1] < t]\n",
    "    #print(combs)\n",
    "    p = sum([p_N(N)*p_Z(Z,N) for N, Z in combs])\n",
    "    #print(p_cond, p, p_n_10)\n",
    "    probs[t] = (p_n_10 - p_cond) / (1-p)\n",
    "    \n",
    "\n",
    "print(probs)"
   ]
  },
  {
   "cell_type": "code",
   "execution_count": 5,
   "id": "21189865",
   "metadata": {
    "deletable": false,
    "lx_assignment_number": "vB",
    "lx_assignment_type": "EXAM",
    "lx_assignment_type2print": "Exam",
    "lx_problem_cell_type": "PROBLEM",
    "lx_problem_number": "1",
    "lx_problem_points": "8"
   },
   "outputs": [],
   "source": [
    "\n",
    "# Part 1: \n",
    "# replace XXX to represent P(N < 10) for T = [0,1,2,...,20], i.e. your answer should be a list\n",
    "# of length 21.\n",
    "problem11_probabilities = probs"
   ]
  },
  {
   "cell_type": "code",
   "execution_count": 6,
   "id": "136989ef",
   "metadata": {},
   "outputs": [
    {
     "data": {
      "text/plain": [
       "17"
      ]
     },
     "execution_count": 6,
     "metadata": {},
     "output_type": "execute_result"
    }
   ],
   "source": [
    "\n",
    "# Part 2: Give an integer between 0 and 10 which is the answer to 2.\n",
    "def get_t(probs):\n",
    "    for t, res in enumerate(probs):\n",
    "        # print(t, 1-res)\n",
    "        if (1-res) > 0.9:\n",
    "            return t\n",
    "\n",
    "get_t(problem11_probabilities)"
   ]
  },
  {
   "cell_type": "code",
   "execution_count": 7,
   "id": "fbdf94f0",
   "metadata": {
    "deletable": false,
    "lx_assignment_number": "vB",
    "lx_assignment_type": "EXAM",
    "lx_assignment_type2print": "Exam",
    "lx_problem_cell_type": "PROBLEM",
    "lx_problem_number": "1",
    "lx_problem_points": "8"
   },
   "outputs": [],
   "source": [
    "\n",
    "# Part 2: Give an integer between 0 and 20 which is the answer to 2.\n",
    "problem12_T = get_t(problem11_probabilities)"
   ]
  },
  {
   "cell_type": "markdown",
   "id": "ba061a0a",
   "metadata": {
    "deletable": false,
    "lx_assignment_number": "vB",
    "lx_assignment_type": "EXAM",
    "lx_assignment_type2print": "Exam",
    "lx_problem_cell_type": "PROBLEM",
    "lx_problem_number": "2",
    "lx_problem_points": "8"
   },
   "source": [
    "---\n",
    "## Exam vB, PROBLEM 2\n",
    "Maximum Points = 8"
   ]
  },
  {
   "cell_type": "markdown",
   "id": "e65bbdf6",
   "metadata": {
    "deletable": false,
    "lx_assignment_number": "vB",
    "lx_assignment_type": "EXAM",
    "lx_assignment_type2print": "Exam",
    "lx_problem_cell_type": "PROBLEM",
    "lx_problem_number": "2",
    "lx_problem_points": "8"
   },
   "source": [
    "\n",
    "## Random variable generation and transformation\n",
    "\n",
    "The purpose of this problem is to show that you can implement your own sampler, this will be built in the following three steps:\n",
    "\n",
    "1. [2p] Implement a Linear Congruential Generator where you tested out a good combination (a large $M$ with $a,b$ satisfying the Hull-Dobell (Thm 6.8)) of parameters. Follow the instructions in the code block.\n",
    "2. [2p] Using a generator construct random numbers from the uniform $[0,1]$ distribution.\n",
    "3. [4p] Using a uniform $[0,1]$ random generator, generate samples from \n",
    "\n",
    "$$p_0(x) = \\frac{\\pi}{2}|\\sin(2\\pi x)|, \\quad x \\in [0,1] \\enspace .$$\n",
    "\n",
    "Using the **Accept-Reject** sampler (**Algorithm 1** in TFDS notes) with sampling density given by the uniform $[0,1]$ distribution."
   ]
  },
  {
   "cell_type": "code",
   "execution_count": 8,
   "id": "3449666b",
   "metadata": {
    "deletable": false,
    "lx_assignment_number": "vB",
    "lx_assignment_type": "EXAM",
    "lx_assignment_type2print": "Exam",
    "lx_problem_cell_type": "PROBLEM",
    "lx_problem_number": "2",
    "lx_problem_points": "8"
   },
   "outputs": [],
   "source": [
    "\n",
    "def problem2_LCG(size=None, seed = 0):\n",
    "    \"\"\"\n",
    "    A linear congruential generator that generates pseudo random numbers according to size.\n",
    "    \n",
    "    Parameters\n",
    "    -------------\n",
    "    size : an integer denoting how many samples should be produced\n",
    "    seed : the starting point of the LCG, i.e. u0 in the notes.\n",
    "    \n",
    "    Returns\n",
    "    -------------\n",
    "    out : a list of the pseudo random numbers\n",
    "    \"\"\"\n",
    "\n",
    "    m = 2**31\n",
    "    a = 1103515245\n",
    "    b = 12345\n",
    "\n",
    "    x = seed # the seed\n",
    "    retValue = [x % m]  # start the list with x=x0\n",
    "    for i in range(2, size+1, 1):\n",
    "        x = (a * x + b) % m # the generator, using modular arithmetic\n",
    "        retValue.append(x) # append the new x to the list\n",
    "    return retValue"
   ]
  },
  {
   "cell_type": "code",
   "execution_count": 9,
   "id": "c7955134",
   "metadata": {
    "deletable": false,
    "lx_assignment_number": "vB",
    "lx_assignment_type": "EXAM",
    "lx_assignment_type2print": "Exam",
    "lx_problem_cell_type": "PROBLEM",
    "lx_problem_number": "2",
    "lx_problem_points": "8"
   },
   "outputs": [],
   "source": [
    "\n",
    "def problem2_uniform(generator=None, period = 1, size=None, seed=0):\n",
    "    \"\"\"\n",
    "    Takes a generator and produces samples from the uniform [0,1] distribution according\n",
    "    to size.\n",
    "    \n",
    "    Parameters\n",
    "    -------------\n",
    "    generator : a function of type generator(size,seed) and produces the same result as problem2_LCG, i.e. pseudo random numbers in the range {0,1,...,period-1}\n",
    "    period : the period of the generator\n",
    "    seed : the seed to be used in the generator provided\n",
    "    size : an integer denoting how many samples should be produced\n",
    "    \n",
    "    Returns\n",
    "    --------------\n",
    "    out : a list of the uniform pseudo random numbers\n",
    "    \"\"\"\n",
    "    \n",
    "    nums = generator(size, seed)\n",
    "    lst = [x/(period-1) for x in nums]\n",
    "    \n",
    "    return lst"
   ]
  },
  {
   "cell_type": "code",
   "execution_count": 10,
   "id": "af77a695",
   "metadata": {
    "deletable": false,
    "lx_assignment_number": "vB",
    "lx_assignment_type": "EXAM",
    "lx_assignment_type2print": "Exam",
    "lx_problem_cell_type": "PROBLEM",
    "lx_problem_number": "2",
    "lx_problem_points": "8"
   },
   "outputs": [],
   "source": [
    "\n",
    "def problem2_accept_reject(uniformGenerator=None, size=None, seed=0):\n",
    "    \"\"\"\n",
    "    Takes a generator that produces uniform pseudo random [0,1] numbers \n",
    "    and produces samples from (pi/2)*abs(sin(x*2*pi)) using an Accept-Reject\n",
    "    sampler with the uniform distribution as the proposal distribution\n",
    "    \n",
    "    Parameters\n",
    "    -------------\n",
    "    generator : a function of the type generator(size,seed) that produces uniform pseudo random\n",
    "    numbers from [0,1]\n",
    "    seed : the seed to be used in the generator provided\n",
    "    size : an integer denoting how many samples should be produced\n",
    "    \n",
    "    Returns\n",
    "    --------------\n",
    "    out : a list of the pseudo random numbers with the specified distribution\n",
    "    \"\"\"\n",
    "    import numpy as np\n",
    "    \n",
    "    samples = []\n",
    "    x = uniformGenerator(size=size, seed=seed)\n",
    "    y = uniformGenerator(size=size, seed=seed)\n",
    "    for x,y in zip(x,y):\n",
    "        if (y*(np.pi/2)) <= ((np.pi/2)*np.abs(np.sin(x*2*np.pi))):\n",
    "            samples.append(x)\n",
    "    \n",
    "    return samples"
   ]
  },
  {
   "cell_type": "markdown",
   "id": "599292ac",
   "metadata": {
    "deletable": false,
    "lx_assignment_number": "vB",
    "lx_assignment_type": "EXAM",
    "lx_assignment_type2print": "Exam",
    "lx_problem_cell_type": "Test",
    "lx_problem_number": "2",
    "lx_problem_points": "8"
   },
   "source": [
    "---\n",
    "#### Local Test for Exam vB, PROBLEM 2\n",
    "Evaluate cell below to make sure your answer is valid.                             You **should not** modify anything in the cell below when evaluating it to do a local test of                             your solution.\n",
    "You may need to include and evaluate code snippets from lecture notebooks in cells above to make the local test work correctly sometimes (see error messages for clues). This is meant to help you become efficient at recalling materials covered in lectures that relate to this problem. Such local tests will generally not be available in the exam."
   ]
  },
  {
   "cell_type": "code",
   "execution_count": 11,
   "id": "32c53dd8",
   "metadata": {
    "deletable": false,
    "lx_assignment_number": "vB",
    "lx_assignment_type": "EXAM",
    "lx_assignment_type2print": "Exam",
    "lx_problem_cell_type": "Test",
    "lx_problem_number": "2",
    "lx_problem_points": "8"
   },
   "outputs": [
    {
     "name": "stdout",
     "output_type": "stream",
     "text": [
      "LCG output: [1, 1103527590, 377401575, 662824084, 1147902781, 2035015474, 368800899, 1508029952, 486256185, 1062517886]\n",
      "Uniform sampler [4.656612875245797e-10, 0.5138700783782965, 0.17574130332830423, 0.3086515163577402, 0.5345338869535057, 0.9476279257552829, 0.17173630146856247, 0.7022311690739501, 0.2264306811738902, 0.49477344681265456]\n",
      "Accept-Reject sampler [4.656612875245797e-10, 0.17574130332830423, 0.3086515163577402, 0.17173630146856247, 0.7022311690739501, 0.2264306811738902, 0.1247203196979688, 0.08389880325826761, 0.38964712125698436, 0.2772257971936957, 0.3680707194693716, 0.7656819032345349, 0.646473150535707, 0.7671388111855549]\n"
     ]
    }
   ],
   "source": [
    "\n",
    "# If you managed to solve all three parts you can test the following code to see if it runs\n",
    "# you have to change the period to match your LCG though, this is marked as XXX.\n",
    "# It is a very good idea to check these things using the histogram function in sagemath\n",
    "# try with a larger number of samples, up to 10000 should run\n",
    "\n",
    "print(\"LCG output: %s\" % problem2_LCG(size=10, seed = 1))\n",
    "\n",
    "period = 2**31\n",
    "\n",
    "print(\"Uniform sampler %s\" % problem2_uniform(generator=problem2_LCG, period = period, size=10, seed=1))\n",
    "\n",
    "uniform_sampler = lambda size,seed: problem2_uniform(generator=problem2_LCG, period = period, size=size, seed=seed)\n",
    "\n",
    "print(\"Accept-Reject sampler %s\" % problem2_accept_reject(uniformGenerator = uniform_sampler,size=20,seed=1))"
   ]
  },
  {
   "cell_type": "code",
   "execution_count": 12,
   "id": "64b1a8c1",
   "metadata": {
    "deletable": false,
    "lx_assignment_number": "vB",
    "lx_assignment_type": "EXAM",
    "lx_assignment_type2print": "Exam",
    "lx_problem_cell_type": "Test",
    "lx_problem_number": "2",
    "lx_problem_points": "8"
   },
   "outputs": [
    {
     "ename": "TypeError",
     "evalue": "problem2_accept_reject() got an unexpected keyword argument 'n_iterations'",
     "output_type": "error",
     "traceback": [
      "\u001b[0;31m---------------------------------------------------------------------------\u001b[0m",
      "\u001b[0;31mTypeError\u001b[0m                                 Traceback (most recent call last)",
      "Cell \u001b[0;32mIn[12], line 8\u001b[0m\n\u001b[1;32m      4\u001b[0m     set_random_seed(seed)\n\u001b[1;32m      6\u001b[0m     \u001b[38;5;28;01mreturn\u001b[39;00m [random() \u001b[38;5;28;01mfor\u001b[39;00m s \u001b[38;5;129;01min\u001b[39;00m \u001b[38;5;28mrange\u001b[39m(size)]\n\u001b[0;32m----> 8\u001b[0m \u001b[38;5;28mprint\u001b[39m(\u001b[38;5;124m\"\u001b[39m\u001b[38;5;124mAccept-Reject sampler \u001b[39m\u001b[38;5;132;01m%s\u001b[39;00m\u001b[38;5;124m\"\u001b[39m \u001b[38;5;241m%\u001b[39m \u001b[43mproblem2_accept_reject\u001b[49m\u001b[43m(\u001b[49m\u001b[43muniformGenerator\u001b[49m\u001b[38;5;241;43m=\u001b[39;49m\u001b[43mtestUniformGenerator\u001b[49m\u001b[43m,\u001b[49m\u001b[43m \u001b[49m\u001b[43mn_iterations\u001b[49m\u001b[38;5;241;43m=\u001b[39;49m\u001b[38;5;241;43m20\u001b[39;49m\u001b[43m,\u001b[49m\u001b[43m \u001b[49m\u001b[43mseed\u001b[49m\u001b[38;5;241;43m=\u001b[39;49m\u001b[38;5;241;43m1\u001b[39;49m\u001b[43m)\u001b[49m)\n",
      "\u001b[0;31mTypeError\u001b[0m: problem2_accept_reject() got an unexpected keyword argument 'n_iterations'"
     ]
    }
   ],
   "source": [
    "\n",
    "# If however you did not manage to implement either part 1 or part 2 but still want to check part 3, you can run the code below\n",
    "\n",
    "def testUniformGenerator(size,seed):\n",
    "    set_random_seed(seed)\n",
    "    \n",
    "    return [random() for s in range(size)]\n",
    "\n",
    "print(\"Accept-Reject sampler %s\" % problem2_accept_reject(uniformGenerator=testUniformGenerator, n_iterations=20, seed=1))"
   ]
  },
  {
   "cell_type": "markdown",
   "id": "9848ffea",
   "metadata": {
    "deletable": false,
    "lx_assignment_number": "vB",
    "lx_assignment_type": "EXAM",
    "lx_assignment_type2print": "Exam",
    "lx_problem_cell_type": "PROBLEM",
    "lx_problem_number": "3",
    "lx_problem_points": "8"
   },
   "source": [
    "---\n",
    "## Exam vB, PROBLEM 3\n",
    "Maximum Points = 8"
   ]
  },
  {
   "cell_type": "markdown",
   "id": "6fe7b29f",
   "metadata": {
    "deletable": false,
    "lx_assignment_number": "vB",
    "lx_assignment_type": "EXAM",
    "lx_assignment_type2print": "Exam",
    "lx_problem_cell_type": "PROBLEM",
    "lx_problem_number": "3",
    "lx_problem_points": "8"
   },
   "source": [
    "\n",
    "## Concentration of measure\n",
    "\n",
    "As you recall, we said that concentration of measure was simply the phenomenon where we expect that the probability of a large deviation of some quantity becoming smaller as we observe more samples: [0.4 points per correct answer]\n",
    "\n",
    "1. Which of the following will exponentially concentrate, i.e. for some $C_1,C_2,C_3,C_4 $ \n",
    "$$\n",
    "    P(Z - \\mathbb{E}[Z] \\geq \\epsilon) \\leq C_1 e^{-C_2 n \\epsilon^2} \\wedge C_3 e^{-C_4 n (\\epsilon+1)} \\enspace .\n",
    "$$\n",
    "\n",
    "    1. The empirical mean of i.i.d. sub-Gaussian random variables?\n",
    "    2. The empirical mean of i.i.d. sub-Exponential random variables?\n",
    "    3. The empirical mean of i.i.d. random variables with finite variance?\n",
    "    4. The empirical variance of i.i.d. random variables with finite variance?\n",
    "    5. The empirical variance of i.i.d. sub-Gaussian random variables?\n",
    "    6. The empirical variance of i.i.d. sub-Exponential random variables?\n",
    "    7. The empirical third moment of i.i.d. sub-Gaussian random variables?\n",
    "    8. The empirical fourth moment of i.i.d. sub-Gaussian random variables?\n",
    "    9. The empirical mean of i.i.d. deterministic random variables?\n",
    "    10. The empirical tenth moment of i.i.d. Bernoulli random variables?\n",
    "\n",
    "2. Which of the above will concentrate in the weaker sense, that for some $C_1$\n",
    "$$\n",
    "    P(Z - \\mathbb{E}[Z] \\geq \\epsilon) \\leq \\frac{C_1}{n \\epsilon^2}?\n",
    "$$"
   ]
  },
  {
   "cell_type": "code",
   "execution_count": null,
   "id": "593fba5a",
   "metadata": {
    "deletable": false,
    "lx_assignment_number": "vB",
    "lx_assignment_type": "EXAM",
    "lx_assignment_type2print": "Exam",
    "lx_problem_cell_type": "PROBLEM",
    "lx_problem_number": "3",
    "lx_problem_points": "8"
   },
   "outputs": [],
   "source": [
    "\n",
    "# Answers to part 1, which of the alternatives exponentially concentrate, answer as a list\n",
    "# i.e. [1,4,5] that is example 1, 4, and 5 concentrate\n",
    "problem3_answer_1 = [XXX]"
   ]
  },
  {
   "cell_type": "code",
   "execution_count": null,
   "id": "4a11def9",
   "metadata": {
    "deletable": false,
    "lx_assignment_number": "vB",
    "lx_assignment_type": "EXAM",
    "lx_assignment_type2print": "Exam",
    "lx_problem_cell_type": "PROBLEM",
    "lx_problem_number": "3",
    "lx_problem_points": "8"
   },
   "outputs": [],
   "source": [
    "\n",
    "# Answers to part 2, which of the alternatives concentrate in the weaker sense, answer as a list\n",
    "# i.e. [1,4,5] that is example 1, 4, and 5 concentrate\n",
    "problem3_answer_2 = [XXX]"
   ]
  },
  {
   "cell_type": "markdown",
   "id": "6876a583",
   "metadata": {
    "deletable": false,
    "lx_assignment_number": "vB",
    "lx_assignment_type": "EXAM",
    "lx_assignment_type2print": "Exam",
    "lx_problem_cell_type": "PROBLEM",
    "lx_problem_number": "4",
    "lx_problem_points": "8"
   },
   "source": [
    "---\n",
    "## Exam vB, PROBLEM 4\n",
    "Maximum Points = 8"
   ]
  },
  {
   "cell_type": "markdown",
   "id": "46c6266e",
   "metadata": {
    "deletable": false,
    "lx_assignment_number": "vB",
    "lx_assignment_type": "EXAM",
    "lx_assignment_type2print": "Exam",
    "lx_problem_cell_type": "PROBLEM",
    "lx_problem_number": "4",
    "lx_problem_points": "8"
   },
   "source": [
    "\n",
    "## SMS spam filtering [8p]\n",
    "\n",
    "In the following problem we will explore SMS spam texts. The dataset is the `SMS Spam Collection Dataset` and we have provided for you a way to load the data. If you run the appropriate cell below, the result will be in the `spam_no_spam` variable. The result is a `list` of `tuples` with the first position in the tuple being the SMS text and the second being a flag `0 = not spam` and `1 = spam`.\n",
    "\n",
    "1. [3p] Let $X$ be the random variable that represents each SMS text (an entry in the list), and let $Y$ represent whether text is spam or not i.e. $Y \\in \\{0,1\\}$. Thus $\\mathbb{P}(Y = 1)$ is the probability that we get a spam. The goal is to estimate:\n",
    "$$\n",
    "    \\mathbb{P}(Y = 1 | \\text{\"free\" or \"prize\" is in } X) \\enspace .\n",
    "$$\n",
    "That is, the probability that the SMS is spam given that \"free\" or \"prize\" occurs in the SMS. \n",
    "Hint: it is good to remove the upper/lower case of words so that we can also find \"Free\" and \"Prize\"; this can be done with `text.lower()` if `text` a string.\n",
    "2. [3p] Provide a \"90\\%\" interval of confidence around the true probability. I.e. use the Hoeffding inequality to obtain for your estimate $\\hat P$ of the above quantity. Find $l > 0$ such that the following holds:\n",
    "$$\n",
    "    \\mathbb{P}(\\hat P - l \\leq \\mathbb{E}[\\hat P] \\leq \\hat P + l) \\geq 0.9 \\enspace .\n",
    "$$\n",
    "3. [2p] Repeat the two exercises above for \"free\" appearing twice in the SMS."
   ]
  },
  {
   "cell_type": "code",
   "execution_count": 13,
   "id": "0c86b4ce",
   "metadata": {
    "deletable": false,
    "lx_assignment_number": "vB",
    "lx_assignment_type": "EXAM",
    "lx_assignment_type2print": "Exam",
    "lx_problem_cell_type": "PROBLEM",
    "lx_problem_number": "4",
    "lx_problem_points": "8"
   },
   "outputs": [],
   "source": [
    "\n",
    "# Run this cell to get the SMS text data\n",
    "from Utils import load_sms\n",
    "spam_no_spam = load_sms()"
   ]
  },
  {
   "cell_type": "code",
   "execution_count": 14,
   "id": "0ad53b66",
   "metadata": {},
   "outputs": [
    {
     "data": {
      "text/plain": [
       "[('Go until jurong point, crazy.. Available only in bugis n great world la e buffet... Cine there got amore wat...',\n",
       "  0),\n",
       " ('Ok lar... Joking wif u oni...', 0),\n",
       " (\"Free entry in 2 a wkly comp to win FA Cup final tkts 21st May 2005. Text FA to 87121 to receive entry question(std txt rate)T&C's apply 08452810075over18's\",\n",
       "  1)]"
      ]
     },
     "execution_count": 14,
     "metadata": {},
     "output_type": "execute_result"
    }
   ],
   "source": [
    "spam_no_spam[:3]"
   ]
  },
  {
   "cell_type": "code",
   "execution_count": 15,
   "id": "3da0f279",
   "metadata": {
    "deletable": false,
    "lx_assignment_number": "vB",
    "lx_assignment_type": "EXAM",
    "lx_assignment_type2print": "Exam",
    "lx_problem_cell_type": "PROBLEM",
    "lx_problem_number": "4",
    "lx_problem_points": "8"
   },
   "outputs": [
    {
     "name": "stdout",
     "output_type": "stream",
     "text": [
      "251\n",
      "0.8096774193548387\n"
     ]
    }
   ],
   "source": [
    "import re\n",
    "check = lambda x: 1 if re.search(\"\\\\bfree\\\\b|\\\\bprize\\\\b\", x, re.I) is not None else 0\n",
    "# fill in the estimate for part 1 here (should be a number between 0 and 1)\n",
    "spam_and_word = [1 if check(x[0])==1 and x[1]==1 else 0 for x in spam_no_spam]\n",
    "word = [check(x[0]) for x in spam_no_spam]\n",
    "print(sum(spam_and_word))\n",
    "problem4_hatP = sum(spam_and_word)/sum(word)\n",
    "print(problem4_hatP)"
   ]
  },
  {
   "cell_type": "code",
   "execution_count": 16,
   "id": "8c72cc4e",
   "metadata": {
    "deletable": false,
    "lx_assignment_number": "vB",
    "lx_assignment_type": "EXAM",
    "lx_assignment_type2print": "Exam",
    "lx_problem_cell_type": "PROBLEM",
    "lx_problem_number": "4",
    "lx_problem_points": "8"
   },
   "outputs": [
    {
     "name": "stdout",
     "output_type": "stream",
     "text": [
      "0.0695113389862958\n"
     ]
    }
   ],
   "source": [
    "import numpy as np\n",
    "# fill in the calculated l from part 2 here\n",
    "problem4_l = np.sqrt((-1/(2*sum(word)))*np.log(0.1/2))\n",
    "print(problem4_l)"
   ]
  },
  {
   "cell_type": "code",
   "execution_count": 17,
   "id": "d410c3b8",
   "metadata": {},
   "outputs": [
    {
     "data": {
      "text/plain": [
       "False"
      ]
     },
     "execution_count": 17,
     "metadata": {},
     "output_type": "execute_result"
    }
   ],
   "source": [
    "len(re.findall(\"\\\\bfree\\\\b\", spam_no_spam[2][0], re.I)) == 2"
   ]
  },
  {
   "cell_type": "code",
   "execution_count": 18,
   "id": "b100e5ea",
   "metadata": {
    "deletable": false,
    "lx_assignment_number": "vB",
    "lx_assignment_type": "EXAM",
    "lx_assignment_type2print": "Exam",
    "lx_problem_cell_type": "PROBLEM",
    "lx_problem_number": "4",
    "lx_problem_points": "8"
   },
   "outputs": [
    {
     "name": "stdout",
     "output_type": "stream",
     "text": [
      "30\n",
      "0.967741935483871\n"
     ]
    }
   ],
   "source": [
    "check_2 = lambda x: 1 if len(re.findall(\"\\\\bfree\\\\b\", x, re.I)) == 2 else 0\n",
    "# fill in the estimate for hatP for the double free question in part 3 here (should be a number between 0 and 1)\n",
    "spam_and_word_2 = [1 if check_2(x[0])==1 and x[1]==1 else 0 for x in spam_no_spam]\n",
    "word_2 = [check_2(x[0]) for x in spam_no_spam]\n",
    "print(sum(spam_and_word_2))\n",
    "problem4_hatP2 = sum(spam_and_word_2)/sum(word_2)\n",
    "print(problem4_hatP2)"
   ]
  },
  {
   "cell_type": "code",
   "execution_count": 19,
   "id": "8d19289d",
   "metadata": {
    "deletable": false,
    "lx_assignment_number": "vB",
    "lx_assignment_type": "EXAM",
    "lx_assignment_type2print": "Exam",
    "lx_problem_cell_type": "PROBLEM",
    "lx_problem_number": "4",
    "lx_problem_points": "8"
   },
   "outputs": [
    {
     "name": "stdout",
     "output_type": "stream",
     "text": [
      "0.21981415440475455\n"
     ]
    }
   ],
   "source": [
    "\n",
    "# fill in the estimate for l for the double free question in part 3 here\n",
    "problem4_l2 = np.sqrt((-1/(2*sum(word_2)))*np.log(0.1/2))\n",
    "print(problem4_l2)"
   ]
  },
  {
   "cell_type": "markdown",
   "id": "34a7d777",
   "metadata": {
    "deletable": false,
    "lx_assignment_number": "vB",
    "lx_assignment_type": "EXAM",
    "lx_assignment_type2print": "Exam",
    "lx_problem_cell_type": "PROBLEM",
    "lx_problem_number": "5",
    "lx_problem_points": "8"
   },
   "source": [
    "---\n",
    "## Exam vB, PROBLEM 5\n",
    "Maximum Points = 8"
   ]
  },
  {
   "cell_type": "markdown",
   "id": "2d7e686c",
   "metadata": {
    "deletable": false,
    "lx_assignment_number": "vB",
    "lx_assignment_type": "EXAM",
    "lx_assignment_type2print": "Exam",
    "lx_problem_cell_type": "PROBLEM",
    "lx_problem_number": "5",
    "lx_problem_points": "8"
   },
   "source": [
    "\n",
    "## Markovian travel\n",
    "\n",
    "The dataset `Travel Dataset - Datathon 2019` is a simulated dataset designed to mimic real corporate travel systems -- focusing on flights and hotels. The file is at `data/flights.csv` in the same folder as `Exam.ipynb`, i.e. you can use the path `data/flights.csv` from the notebook to access the file.\n",
    "\n",
    "1. [2p] In the first code-box \n",
    "    1. Load the csv from file `data/flights.csv`\n",
    "    2. Fill in the value of the variables as specified by their names.\n",
    "2. [2p] In the second code-box your goal is to estimate a Markov chain transition matrix for the travels of these users. For example, if we enumerate the cities according to alphabetical order, the first city `'Aracaju (SE)'` would correspond to $0$. Each row of the file corresponds to one flight, i.e. it has a starting city and an ending city. We model this as a stationary Markov chain, i.e. each user's travel trajectory is a realization of the Markov chain, $X_t$. Here, $X_t$ is the current city the user is at, at step $t$, and $X_{t+1}$ is the city the user travels to at the next time step. This means that to each row in the file there is a corresponding pair $(X_{t},X_{t+1})$. The stationarity assumption gives that for all $t$ there is a transition density $p$ such that $P(X_{t+1} = y | X_t = x) = p(x,y)$ (for all $x,y$). The transition matrix should be `n_cities` x `n_citites` in size.\n",
    "3. [2p] Use the transition matrix to compute out the stationary distribution.\n",
    "4. [2p] Given that we start in 'Aracaju (SE)' what is the probability that after 3 steps we will be back in 'Aracaju (SE)'?"
   ]
  },
  {
   "cell_type": "code",
   "execution_count": 1,
   "id": "ae50be9c",
   "metadata": {
    "deletable": false,
    "lx_assignment_number": "vB",
    "lx_assignment_type": "EXAM",
    "lx_assignment_type2print": "Exam",
    "lx_problem_cell_type": "PROBLEM",
    "lx_problem_number": "5",
    "lx_problem_points": "8"
   },
   "outputs": [
    {
     "name": "stdout",
     "output_type": "stream",
     "text": [
      "9\n",
      "1335\n",
      "271888\n"
     ]
    }
   ],
   "source": [
    "import pandas as pd\n",
    "\n",
    "data = pd.read_csv(\"../data/flights.csv\")\n",
    "#print(data.head())\n",
    "number_of_cities = pd.concat([data[\"from\"], data[\"to\"]]).nunique()\n",
    "print(number_of_cities)\n",
    "number_of_userCodes = data[\"userCode\"].nunique()\n",
    "print(number_of_userCodes)\n",
    "number_of_observations = data.shape[0]\n",
    "print(number_of_observations)"
   ]
  },
  {
   "cell_type": "code",
   "execution_count": 2,
   "id": "74b2cd78",
   "metadata": {
    "deletable": false,
    "lx_assignment_number": "vB",
    "lx_assignment_type": "EXAM",
    "lx_assignment_type2print": "Exam",
    "lx_problem_cell_type": "PROBLEM",
    "lx_problem_number": "5",
    "lx_problem_points": "8"
   },
   "outputs": [],
   "source": [
    "\n",
    "# This is a very useful function that you can use for part 2. You have seen this before when parsing the\n",
    "# pride and prejudice book.\n",
    "\n",
    "def makeFreqDict(myDataList):\n",
    "    '''Make a frequency mapping out of a list of data.\n",
    "\n",
    "    Param myDataList, a list of data.\n",
    "    Return a dictionary mapping each unique data value to its frequency count.'''\n",
    "\n",
    "    freqDict = {} # start with an empty dictionary\n",
    "\n",
    "    for res in myDataList:\n",
    "        if res in freqDict: # the data value already exists as a key\n",
    "                freqDict[res] = freqDict[res] + 1 # add 1 to the count using sage integers\n",
    "        else: # the data value does not exist as a key value\n",
    "            freqDict[res] = 1 # add a new key-value pair for this new data value, frequency 1\n",
    "\n",
    "    return freqDict # return the dictionary created"
   ]
  },
  {
   "cell_type": "code",
   "execution_count": 43,
   "id": "ddfee1fd",
   "metadata": {
    "deletable": false,
    "lx_assignment_number": "vB",
    "lx_assignment_type": "EXAM",
    "lx_assignment_type2print": "Exam",
    "lx_problem_cell_type": "PROBLEM",
    "lx_problem_number": "5",
    "lx_problem_points": "8"
   },
   "outputs": [
    {
     "name": "stdout",
     "output_type": "stream",
     "text": [
      "9\n",
      "[('Aracaju (SE)', 'Aracaju (SE)'), ('Aracaju (SE)', 'Brasilia (DF)'), ('Aracaju (SE)', 'Campo Grande (MS)'), ('Aracaju (SE)', 'Florianopolis (SC)'), ('Aracaju (SE)', 'Natal (RN)'), ('Aracaju (SE)', 'Recife (PE)'), ('Aracaju (SE)', 'Rio de Janeiro (RJ)'), ('Aracaju (SE)', 'Salvador (BH)'), ('Aracaju (SE)', 'Sao Paulo (SP)'), ('Brasilia (DF)', 'Aracaju (SE)'), ('Brasilia (DF)', 'Brasilia (DF)'), ('Brasilia (DF)', 'Campo Grande (MS)'), ('Brasilia (DF)', 'Florianopolis (SC)'), ('Brasilia (DF)', 'Natal (RN)'), ('Brasilia (DF)', 'Recife (PE)'), ('Brasilia (DF)', 'Rio de Janeiro (RJ)'), ('Brasilia (DF)', 'Salvador (BH)'), ('Brasilia (DF)', 'Sao Paulo (SP)'), ('Campo Grande (MS)', 'Aracaju (SE)'), ('Campo Grande (MS)', 'Brasilia (DF)'), ('Campo Grande (MS)', 'Campo Grande (MS)'), ('Campo Grande (MS)', 'Florianopolis (SC)'), ('Campo Grande (MS)', 'Natal (RN)'), ('Campo Grande (MS)', 'Recife (PE)'), ('Campo Grande (MS)', 'Rio de Janeiro (RJ)'), ('Campo Grande (MS)', 'Salvador (BH)'), ('Campo Grande (MS)', 'Sao Paulo (SP)'), ('Florianopolis (SC)', 'Aracaju (SE)'), ('Florianopolis (SC)', 'Brasilia (DF)'), ('Florianopolis (SC)', 'Campo Grande (MS)'), ('Florianopolis (SC)', 'Florianopolis (SC)'), ('Florianopolis (SC)', 'Natal (RN)'), ('Florianopolis (SC)', 'Recife (PE)'), ('Florianopolis (SC)', 'Rio de Janeiro (RJ)'), ('Florianopolis (SC)', 'Salvador (BH)'), ('Florianopolis (SC)', 'Sao Paulo (SP)'), ('Natal (RN)', 'Aracaju (SE)'), ('Natal (RN)', 'Brasilia (DF)'), ('Natal (RN)', 'Campo Grande (MS)'), ('Natal (RN)', 'Florianopolis (SC)'), ('Natal (RN)', 'Natal (RN)'), ('Natal (RN)', 'Recife (PE)'), ('Natal (RN)', 'Rio de Janeiro (RJ)'), ('Natal (RN)', 'Salvador (BH)'), ('Natal (RN)', 'Sao Paulo (SP)'), ('Recife (PE)', 'Aracaju (SE)'), ('Recife (PE)', 'Brasilia (DF)'), ('Recife (PE)', 'Campo Grande (MS)'), ('Recife (PE)', 'Florianopolis (SC)'), ('Recife (PE)', 'Natal (RN)'), ('Recife (PE)', 'Recife (PE)'), ('Recife (PE)', 'Rio de Janeiro (RJ)'), ('Recife (PE)', 'Salvador (BH)'), ('Recife (PE)', 'Sao Paulo (SP)'), ('Rio de Janeiro (RJ)', 'Aracaju (SE)'), ('Rio de Janeiro (RJ)', 'Brasilia (DF)'), ('Rio de Janeiro (RJ)', 'Campo Grande (MS)'), ('Rio de Janeiro (RJ)', 'Florianopolis (SC)'), ('Rio de Janeiro (RJ)', 'Natal (RN)'), ('Rio de Janeiro (RJ)', 'Recife (PE)'), ('Rio de Janeiro (RJ)', 'Rio de Janeiro (RJ)'), ('Rio de Janeiro (RJ)', 'Salvador (BH)'), ('Rio de Janeiro (RJ)', 'Sao Paulo (SP)'), ('Salvador (BH)', 'Aracaju (SE)'), ('Salvador (BH)', 'Brasilia (DF)'), ('Salvador (BH)', 'Campo Grande (MS)'), ('Salvador (BH)', 'Florianopolis (SC)'), ('Salvador (BH)', 'Natal (RN)'), ('Salvador (BH)', 'Recife (PE)'), ('Salvador (BH)', 'Rio de Janeiro (RJ)'), ('Salvador (BH)', 'Salvador (BH)'), ('Salvador (BH)', 'Sao Paulo (SP)'), ('Sao Paulo (SP)', 'Aracaju (SE)'), ('Sao Paulo (SP)', 'Brasilia (DF)'), ('Sao Paulo (SP)', 'Campo Grande (MS)'), ('Sao Paulo (SP)', 'Florianopolis (SC)'), ('Sao Paulo (SP)', 'Natal (RN)'), ('Sao Paulo (SP)', 'Recife (PE)'), ('Sao Paulo (SP)', 'Rio de Janeiro (RJ)'), ('Sao Paulo (SP)', 'Salvador (BH)'), ('Sao Paulo (SP)', 'Sao Paulo (SP)')]\n",
      "{('Recife (PE)', 'Florianopolis (SC)'): 7609, ('Florianopolis (SC)', 'Recife (PE)'): 7609, ('Brasilia (DF)', 'Florianopolis (SC)'): 7779, ('Florianopolis (SC)', 'Brasilia (DF)'): 7779, ('Aracaju (SE)', 'Salvador (BH)'): 2918, ('Salvador (BH)', 'Aracaju (SE)'): 2918, ('Aracaju (SE)', 'Campo Grande (MS)'): 5393, ('Campo Grande (MS)', 'Aracaju (SE)'): 5393, ('Brasilia (DF)', 'Aracaju (SE)'): 4833, ('Aracaju (SE)', 'Brasilia (DF)'): 4833, ('Recife (PE)', 'Sao Paulo (SP)'): 2912, ('Sao Paulo (SP)', 'Recife (PE)'): 2912, ('Brasilia (DF)', 'Campo Grande (MS)'): 4517, ('Campo Grande (MS)', 'Brasilia (DF)'): 4517, ('Brasilia (DF)', 'Sao Paulo (SP)'): 2838, ('Sao Paulo (SP)', 'Brasilia (DF)'): 2838, ('Brasilia (DF)', 'Salvador (BH)'): 2009, ('Salvador (BH)', 'Brasilia (DF)'): 2009, ('Recife (PE)', 'Natal (RN)'): 2894, ('Natal (RN)', 'Recife (PE)'): 2894, ('Brasilia (DF)', 'Natal (RN)'): 2987, ('Natal (RN)', 'Brasilia (DF)'): 2987, ('Recife (PE)', 'Salvador (BH)'): 1952, ('Salvador (BH)', 'Recife (PE)'): 1952, ('Recife (PE)', 'Campo Grande (MS)'): 4510, ('Campo Grande (MS)', 'Recife (PE)'): 4510, ('Brasilia (DF)', 'Recife (PE)'): 3822, ('Recife (PE)', 'Brasilia (DF)'): 3822, ('Aracaju (SE)', 'Sao Paulo (SP)'): 3798, ('Sao Paulo (SP)', 'Aracaju (SE)'): 3798, ('Aracaju (SE)', 'Natal (RN)'): 3937, ('Natal (RN)', 'Aracaju (SE)'): 3937, ('Aracaju (SE)', 'Recife (PE)'): 4884, ('Recife (PE)', 'Aracaju (SE)'): 4884, ('Aracaju (SE)', 'Rio de Janeiro (RJ)'): 2818, ('Rio de Janeiro (RJ)', 'Aracaju (SE)'): 2818, ('Aracaju (SE)', 'Florianopolis (SC)'): 8643, ('Florianopolis (SC)', 'Aracaju (SE)'): 8643, ('Brasilia (DF)', 'Rio de Janeiro (RJ)'): 1994, ('Rio de Janeiro (RJ)', 'Brasilia (DF)'): 1994, ('Recife (PE)', 'Rio de Janeiro (RJ)'): 1897, ('Rio de Janeiro (RJ)', 'Recife (PE)'): 1897, ('Campo Grande (MS)', 'Florianopolis (SC)'): 8253, ('Florianopolis (SC)', 'Campo Grande (MS)'): 8253, ('Campo Grande (MS)', 'Salvador (BH)'): 2520, ('Salvador (BH)', 'Campo Grande (MS)'): 2520, ('Campo Grande (MS)', 'Sao Paulo (SP)'): 3597, ('Sao Paulo (SP)', 'Campo Grande (MS)'): 3597, ('Campo Grande (MS)', 'Natal (RN)'): 3543, ('Natal (RN)', 'Campo Grande (MS)'): 3543, ('Campo Grande (MS)', 'Rio de Janeiro (RJ)'): 2415, ('Rio de Janeiro (RJ)', 'Campo Grande (MS)'): 2415, ('Natal (RN)', 'Rio de Janeiro (RJ)'): 950, ('Rio de Janeiro (RJ)', 'Natal (RN)'): 950, ('Sao Paulo (SP)', 'Salvador (BH)'): 979, ('Salvador (BH)', 'Sao Paulo (SP)'): 979, ('Sao Paulo (SP)', 'Natal (RN)'): 1850, ('Natal (RN)', 'Sao Paulo (SP)'): 1850, ('Sao Paulo (SP)', 'Rio de Janeiro (RJ)'): 934, ('Rio de Janeiro (RJ)', 'Sao Paulo (SP)'): 934, ('Sao Paulo (SP)', 'Florianopolis (SC)'): 6717, ('Florianopolis (SC)', 'Sao Paulo (SP)'): 6717, ('Natal (RN)', 'Salvador (BH)'): 926, ('Salvador (BH)', 'Natal (RN)'): 926, ('Natal (RN)', 'Florianopolis (SC)'): 6709, ('Florianopolis (SC)', 'Natal (RN)'): 6709, ('Florianopolis (SC)', 'Rio de Janeiro (RJ)'): 5807, ('Rio de Janeiro (RJ)', 'Florianopolis (SC)'): 5807, ('Florianopolis (SC)', 'Salvador (BH)'): 5800, ('Salvador (BH)', 'Florianopolis (SC)'): 5800}\n",
      "271888\n",
      "{0: 'Aracaju (SE)', 1: 'Brasilia (DF)', 2: 'Campo Grande (MS)', 3: 'Florianopolis (SC)', 4: 'Natal (RN)', 5: 'Recife (PE)', 6: 'Rio de Janeiro (RJ)', 7: 'Salvador (BH)', 8: 'Sao Paulo (SP)'}\n",
      "{'Aracaju (SE)': 0, 'Brasilia (DF)': 1, 'Campo Grande (MS)': 2, 'Florianopolis (SC)': 3, 'Natal (RN)': 4, 'Recife (PE)': 5, 'Rio de Janeiro (RJ)': 6, 'Salvador (BH)': 7, 'Sao Paulo (SP)': 8}\n",
      "[[0.         0.12983559 0.14487965 0.23218891 0.1057651  0.13120567\n",
      "  0.07570385 0.07839029 0.10203095]\n",
      " [0.15702265 0.         0.14675591 0.25273726 0.09704669 0.12417557\n",
      "  0.06478443 0.06527178 0.09220572]\n",
      " [0.15520318 0.12999309 0.         0.23751007 0.1019627  0.12979164\n",
      "  0.0695004  0.07252216 0.10351675]\n",
      " [0.15079296 0.1357189  0.14398869 0.         0.11705079 0.13275294\n",
      "  0.10131375 0.10119162 0.11719036]\n",
      " [0.16544797 0.1255253  0.14889057 0.28193814 0.         0.12161708\n",
      "  0.03992268 0.0389141  0.07774416]\n",
      " [0.16023622 0.1253937  0.14796588 0.24963911 0.09494751 0.\n",
      "  0.06223753 0.06404199 0.09553806]\n",
      " [0.16758846 0.1185846  0.14362177 0.34534642 0.05649718 0.11281594\n",
      "  0.         0.         0.05554564]\n",
      " [0.17060337 0.1174579  0.14733396 0.33910196 0.05413938 0.11412535\n",
      "  0.         0.         0.05723807]\n",
      " [0.1607619  0.12012698 0.15225397 0.28431746 0.07830688 0.12325926\n",
      "  0.03953439 0.04143915 0.        ]]\n"
     ]
    }
   ],
   "source": [
    "from itertools import product\n",
    "import numpy as np\n",
    "\n",
    "cities = pd.concat([data[\"from\"], data[\"to\"]]).tolist() # A list of all cities\n",
    "unique_cities = sorted(set(cities)) # The unique cities\n",
    "n_cities = len(unique_cities) # The number of unique citites\n",
    "print(n_cities)\n",
    "\n",
    "# Count the different transitions\n",
    "transitions = list(product(unique_cities, repeat=2)) # A list containing tuples ex: ('Aracaju (SE)','Rio de Janeiro (RJ)') of all transitions in the text\n",
    "print(transitions)\n",
    "transition_counts = makeFreqDict(list(zip(data[\"from\"], data[\"to\"]))) # A dictionary that counts the number of each transition \n",
    "# ex: ('Aracaju (SE)','Rio de Janeiro (RJ)'):4\n",
    "print(transition_counts)\n",
    "print(sum(transition_counts.values()))\n",
    "indexToCity = {k: v for k, v in enumerate(unique_cities)} # A dictionary that maps the n-1 number to the n:th unique_city,\n",
    "# ex: 0:'Aracaju (SE)'\n",
    "print(indexToCity)\n",
    "cityToIndex = {v: k for k, v in indexToCity.items()} # The inverse function of indexToWord, \n",
    "# ex: 'Aracaju (SE)':0\n",
    "print(cityToIndex)\n",
    "\n",
    "# Part 3, finding the maximum likelihood estimate of the transition matrix\n",
    "\n",
    "transition_matrix = np.zeros((n_cities, n_cities)) # a numpy array of size (n_cities,n_cities)\n",
    "for i in range(n_cities):\n",
    "    divider = sum([transition_counts[(indexToCity[i], indexToCity[k])] if (indexToCity[i], indexToCity[k]) in transition_counts else 0 for k in range(n_cities)])\n",
    "    for j in range(n_cities):\n",
    "        transition_matrix[i,j] = transition_counts[(indexToCity[i], indexToCity[j])]/divider if (indexToCity[i], indexToCity[j]) in transition_counts else 0\n",
    "\n",
    "print(transition_matrix)\n",
    "\n",
    "# The transition matrix should be ordered in such a way that\n",
    "# p_{'Aracaju (SE)','Rio de Janeiro (RJ)'} = transition_matrix[cityToIndex['Aracaju (SE)'],cityToIndex['Rio de Janeiro (RJ)']]\n",
    "# and represents the probability of travelling Aracaju (SE)->Rio de Janeiro (RJ)\n",
    "\n",
    "# Make sure that the transition_matrix does not contain np.nan from division by zero for instance"
   ]
  },
  {
   "cell_type": "code",
   "execution_count": 44,
   "id": "b2053f5d",
   "metadata": {
    "deletable": false,
    "lx_assignment_number": "vB",
    "lx_assignment_type": "EXAM",
    "lx_assignment_type2print": "Exam",
    "lx_problem_cell_type": "PROBLEM",
    "lx_problem_number": "5",
    "lx_problem_points": "8"
   },
   "outputs": [
    {
     "name": "stdout",
     "output_type": "stream",
     "text": [
      "[ 1.00000000e+00 -3.14924841e-01  1.11731432e-04 -5.29756651e-02\n",
      " -7.76523120e-02 -1.58563203e-01 -1.46602836e-01 -1.25937067e-01\n",
      " -1.23455807e-01]\n",
      "[0.13690932 0.1132047  0.12780262 0.21081107 0.08752133 0.11210498\n",
      " 0.06184532 0.06290826 0.0868924 ]\n"
     ]
    }
   ],
   "source": [
    "\n",
    "# This should be a numpy array of length n_cities which sums to 1 and is all positive\n",
    "eigenvalues, eigenvectors = np.linalg.eig(transition_matrix.T)\n",
    "print(eigenvalues)\n",
    "\n",
    "stationary_distribution_problem5 = eigenvectors[:,0]/sum(eigenvectors[:,0])\n",
    "print(stationary_distribution_problem5)"
   ]
  },
  {
   "cell_type": "code",
   "execution_count": 45,
   "id": "a9b10afd",
   "metadata": {
    "deletable": false,
    "lx_assignment_number": "vB",
    "lx_assignment_type": "EXAM",
    "lx_assignment_type2print": "Exam",
    "lx_problem_cell_type": "PROBLEM",
    "lx_problem_number": "5",
    "lx_problem_points": "8"
   },
   "outputs": [
    {
     "name": "stdout",
     "output_type": "stream",
     "text": [
      "9\n",
      "81\n",
      "81\n",
      "81\n",
      "0.15887131217089695\n"
     ]
    }
   ],
   "source": [
    "from itertools import repeat\n",
    "# Compute the return probability for part 3 of problem 5\n",
    "# print(unique_cities[0])\n",
    "step1 = list(zip(repeat(unique_cities[0], times=n_cities), unique_cities))\n",
    "print(len(step1))\n",
    "step2 = list(product(step1, repeat=2))\n",
    "print(len(step2))\n",
    "temp_step3 = [i for i in zip(unique_cities, repeat(unique_cities[0], times=n_cities))]\n",
    "print(len(temp_step3*n_cities))\n",
    "step3 = [(i[0], i[1], j) for i, j in zip(step2, temp_step3*n_cities)]\n",
    "print(len(step3))\n",
    "#print(list(zip(step2, repeat(list(zip(unique_cities, repeat(unique_cities[0], times=n_cities))), times=n_cities))))\n",
    "res = 0\n",
    "for s1, s2, s3 in step3:\n",
    "    # print(cityToIndex[c1], cityToIndex[c2])\n",
    "    # print(f\"s1: {s1}, s2: {s2}, s3: {s3}\")\n",
    "    res += transition_matrix[cityToIndex[s1[0]], cityToIndex[s1[1]]]*transition_matrix[cityToIndex[s2[0]], cityToIndex[s2[1]]]*transition_matrix[cityToIndex[s3[0]], cityToIndex[s3[1]]]\n",
    "\n",
    "return_probability_problem5 = res\n",
    "print(return_probability_problem5)"
   ]
  },
  {
   "cell_type": "markdown",
   "id": "31083a19",
   "metadata": {
    "deletable": false,
    "lx_assignment_number": "vB",
    "lx_assignment_type": "EXAM",
    "lx_assignment_type2print": "Exam",
    "lx_problem_cell_type": "Test",
    "lx_problem_number": "5",
    "lx_problem_points": "8"
   },
   "source": [
    "---\n",
    "#### Local Test for Exam vB, PROBLEM 5\n",
    "Evaluate cell below to make sure your answer is valid.                             You **should not** modify anything in the cell below when evaluating it to do a local test of                             your solution.\n",
    "You may need to include and evaluate code snippets from lecture notebooks in cells above to make the local test work correctly sometimes (see error messages for clues). This is meant to help you become efficient at recalling materials covered in lectures that relate to this problem. Such local tests will generally not be available in the exam."
   ]
  },
  {
   "cell_type": "code",
   "execution_count": 46,
   "id": "5c51e7c9",
   "metadata": {
    "deletable": false,
    "lx_assignment_number": "vB",
    "lx_assignment_type": "EXAM",
    "lx_assignment_type2print": "Exam",
    "lx_problem_cell_type": "Test",
    "lx_problem_number": "5",
    "lx_problem_points": "8"
   },
   "outputs": [
    {
     "name": "stdout",
     "output_type": "stream",
     "text": [
      "Aracaju (SE)->Recife (PE)->Aracaju (SE)->Salvador (BH)->Florianopolis (SC)->Rio de Janeiro (RJ)->Campo Grande (MS)->Florianopolis (SC)->Recife (PE)->Campo Grande (MS)->"
     ]
    }
   ],
   "source": [
    "# Once you have created all your functions, you can make a small test here to see\n",
    "# what would be generated from your model.\n",
    "import numpy as np\n",
    "\n",
    "start = np.zeros(shape=(n_cities,1))\n",
    "start[cityToIndex['Aracaju (SE)'],0] = 1\n",
    "\n",
    "current_pos = start\n",
    "for i in range(10):\n",
    "    random_word_index = np.random.choice(range(n_cities),p=current_pos.reshape(-1))\n",
    "    current_pos = np.zeros_like(start)\n",
    "    current_pos[random_word_index] = 1\n",
    "    print(indexToCity[random_word_index],end='->')\n",
    "    current_pos = (current_pos.T@transition_matrix).T"
   ]
  },
  {
   "cell_type": "markdown",
   "id": "c69d372c",
   "metadata": {
    "deletable": false,
    "lx_assignment_number": "vB",
    "lx_assignment_type": "EXAM",
    "lx_assignment_type2print": "Exam",
    "lx_problem_cell_type": "PROBLEM",
    "lx_problem_number": "6",
    "lx_problem_points": "8"
   },
   "source": [
    "---\n",
    "## Exam vB, PROBLEM 6\n",
    "Maximum Points = 8"
   ]
  },
  {
   "cell_type": "markdown",
   "id": "fbb4571e",
   "metadata": {
    "deletable": false,
    "lx_assignment_number": "vB",
    "lx_assignment_type": "EXAM",
    "lx_assignment_type2print": "Exam",
    "lx_problem_cell_type": "PROBLEM",
    "lx_problem_number": "6",
    "lx_problem_points": "8"
   },
   "source": [
    "\n",
    "## Black box testing\n",
    "\n",
    "In the following problem we will continue with our SMS spam / nospam data. This time we will try to approach the problem as a pattern recognition problem. For this particular problem I have provided you with everything -- data is prepared, split into train-test sets and a black-box model has been fitted on the training data and predicted on the test data. Your goal is to calculate test metrics and provide guarantees for each metric.\n",
    "\n",
    "1. [2p] Compute precision for class 1 (see notes 8.3.2 for definition), then provide an interval using Hoeffding's inequality for a 95\\% confidence.\n",
    "2. [2p] Compute recall for class 1(see notes 8.3.2 for definition), then provide an interval using Hoeffding's inequality for a 95\\% interval.\n",
    "3. [2p] Compute accuracy (0-1 loss), then provide an interval using Hoeffding's inequality for a 95\\% interval.\n",
    "4. [2p] If we would have used a classifier with VC-dimension 3, would we have obtained a smaller interval for accuracy by using all data?"
   ]
  },
  {
   "cell_type": "code",
   "execution_count": 55,
   "id": "6f8148a9",
   "metadata": {
    "deletable": false,
    "jupyter": {
     "source_hidden": false
    },
    "lx_assignment_number": "vB",
    "lx_assignment_type": "EXAM",
    "lx_assignment_type2print": "Exam",
    "lx_problem_cell_type": "PROBLEM",
    "lx_problem_number": "6",
    "lx_problem_points": "8"
   },
   "outputs": [
    {
     "name": "stdout",
     "output_type": "stream",
     "text": [
      "<class 'pandas.core.frame.DataFrame'>\n",
      "RangeIndex: 5572 entries, 0 to 5571\n",
      "Data columns (total 2 columns):\n",
      " #   Column  Non-Null Count  Dtype \n",
      "---  ------  --------------  ----- \n",
      " 0   text    5572 non-null   object\n",
      " 1   spam    5572 non-null   int64 \n",
      "dtypes: int64(1), object(1)\n",
      "memory usage: 87.2+ KB\n",
      "None\n",
      "[0 0 0 ... 0 0 0]\n"
     ]
    }
   ],
   "source": [
    "\n",
    "# The code below will load data, split the data into train and test and run a \"black box\" algorithm on it\n",
    "# the result of the \"black box\" is stored in predictions_problem6, the true values will be stored in\n",
    "# Y_test_problem6\n",
    "from Utils import load_sms\n",
    "from sklearn.model_selection import train_test_split\n",
    "from sklearn.neighbors import KNeighborsClassifier\n",
    "from sklearn.pipeline import Pipeline\n",
    "from sklearn.feature_extraction.text import CountVectorizer, TfidfTransformer\n",
    "\n",
    "data = load_sms()\n",
    "df = pd.DataFrame(data, columns=[\"text\", \"spam\"])\n",
    "print(df.info())\n",
    "\n",
    "X_train_problem6,X_test_problem6,Y_train_problem6,Y_test_problem6 = train_test_split(df[\"text\"],df[\"spam\"], random_state=42, test_size=0.2)\n",
    "\n",
    "clf = Pipeline(\n",
    "    [('vect', CountVectorizer()),\n",
    "    ('tfidf', TfidfTransformer()),\n",
    "    ('clf', KNeighborsClassifier(n_neighbors=4)),\n",
    "])\n",
    "\n",
    "predictions_problem6 = clf.fit(X_train_problem6, Y_train_problem6).predict(X_test_problem6)\n",
    "print(predictions_problem6)"
   ]
  },
  {
   "cell_type": "code",
   "execution_count": 56,
   "id": "25f59dcd",
   "metadata": {
    "deletable": false,
    "lx_assignment_number": "vB",
    "lx_assignment_type": "EXAM",
    "lx_assignment_type2print": "Exam",
    "lx_problem_cell_type": "PROBLEM",
    "lx_problem_number": "6",
    "lx_problem_points": "8"
   },
   "outputs": [
    {
     "name": "stdout",
     "output_type": "stream",
     "text": [
      "1.0\n"
     ]
    }
   ],
   "source": [
    "\n",
    "# Compute the precision of predictions_problem6 with respect to Y_test_problem6\n",
    "cond = sum([1 if p==1 and y==1 else 0 for p, y in zip(predictions_problem6, Y_test_problem6)])\n",
    "problem6_precision = cond/sum(predictions_problem6)\n",
    "print(problem6_precision)"
   ]
  },
  {
   "cell_type": "code",
   "execution_count": 67,
   "id": "8737fd58",
   "metadata": {
    "deletable": false,
    "lx_assignment_number": "vB",
    "lx_assignment_type": "EXAM",
    "lx_assignment_type2print": "Exam",
    "lx_problem_cell_type": "PROBLEM",
    "lx_problem_number": "6",
    "lx_problem_points": "8"
   },
   "outputs": [
    {
     "name": "stdout",
     "output_type": "stream",
     "text": [
      "0.18148394886999197\n"
     ]
    }
   ],
   "source": [
    "\n",
    "# Compute the interval length l of precision of predictions_problem6 with respect to Y_test_problem6, with the same definition of l as in problem 4\n",
    "problem6_precision_l = np.sqrt((-1/(2*sum(predictions_problem6)))*np.log(0.05/2))\n",
    "print(problem6_precision_l)"
   ]
  },
  {
   "cell_type": "code",
   "execution_count": 59,
   "id": "9bbb2ebc",
   "metadata": {
    "deletable": false,
    "lx_assignment_number": "vB",
    "lx_assignment_type": "EXAM",
    "lx_assignment_type2print": "Exam",
    "lx_problem_cell_type": "PROBLEM",
    "lx_problem_number": "6",
    "lx_problem_points": "8"
   },
   "outputs": [
    {
     "name": "stdout",
     "output_type": "stream",
     "text": [
      "0.37333333333333335\n"
     ]
    }
   ],
   "source": [
    "\n",
    "# Repeat the same procedure but for recall\n",
    "cond = sum([1 if p==1 and y==1 else 0 for p, y in zip(predictions_problem6, Y_test_problem6)])\n",
    "problem6_recall = cond/sum(Y_test_problem6)\n",
    "print(problem6_recall)"
   ]
  },
  {
   "cell_type": "code",
   "execution_count": 68,
   "id": "d18b6f78",
   "metadata": {
    "deletable": false,
    "lx_assignment_number": "vB",
    "lx_assignment_type": "EXAM",
    "lx_assignment_type2print": "Exam",
    "lx_problem_cell_type": "PROBLEM",
    "lx_problem_number": "6",
    "lx_problem_points": "8"
   },
   "outputs": [
    {
     "name": "stdout",
     "output_type": "stream",
     "text": [
      "0.11088852441549782\n"
     ]
    }
   ],
   "source": [
    "\n",
    "problem6_recall_l = np.sqrt((-1/(2*sum(Y_test_problem6)))*np.log(0.05/2))\n",
    "print(problem6_recall_l)"
   ]
  },
  {
   "cell_type": "code",
   "execution_count": 65,
   "id": "83ade7dd",
   "metadata": {
    "deletable": false,
    "lx_assignment_number": "vB",
    "lx_assignment_type": "EXAM",
    "lx_assignment_type2print": "Exam",
    "lx_problem_cell_type": "PROBLEM",
    "lx_problem_number": "6",
    "lx_problem_points": "8"
   },
   "outputs": [
    {
     "name": "stdout",
     "output_type": "stream",
     "text": [
      "0.915695067264574\n",
      "0.915695067264574\n"
     ]
    }
   ],
   "source": [
    "\n",
    "# Repeat the same procedure but for accuracy or 0-1 loss\n",
    "print(clf.score(X_test_problem6, Y_test_problem6))\n",
    "problem6_accuracy = sum([1 if p==y else 0 for p, y in zip(predictions_problem6, Y_test_problem6)])/len(Y_test_problem6)\n",
    "print(problem6_accuracy)"
   ]
  },
  {
   "cell_type": "code",
   "execution_count": 69,
   "id": "206e2b11",
   "metadata": {
    "deletable": false,
    "lx_assignment_number": "vB",
    "lx_assignment_type": "EXAM",
    "lx_assignment_type2print": "Exam",
    "lx_problem_cell_type": "PROBLEM",
    "lx_problem_number": "6",
    "lx_problem_points": "8"
   },
   "outputs": [
    {
     "name": "stdout",
     "output_type": "stream",
     "text": [
      "0.04067193176178074\n"
     ]
    }
   ],
   "source": [
    "\n",
    "problem6_accuracy_l = np.sqrt((-1/(2*len(Y_test_problem6)))*np.log(0.05/2))\n",
    "print(problem6_accuracy_l)"
   ]
  },
  {
   "cell_type": "code",
   "execution_count": 71,
   "id": "df926281",
   "metadata": {
    "deletable": false,
    "lx_assignment_number": "vB",
    "lx_assignment_type": "EXAM",
    "lx_assignment_type2print": "Exam",
    "lx_problem_cell_type": "PROBLEM",
    "lx_problem_number": "6",
    "lx_problem_points": "8"
   },
   "outputs": [
    {
     "name": "stdout",
     "output_type": "stream",
     "text": [
      "0.5641750424582807\n"
     ]
    }
   ],
   "source": [
    "\n",
    "# Below you will calculate the interval parameter l for a classifier running on all data with a VC dimension of 3\n",
    "# put the value in problem6_VC_l and answer problem_VC_smaller as True if the interval is smaller than the test-accuracy above\n",
    "# if not answer False. Make sure you replace XXX with something even if you only answer one of them.\n",
    "problem6_VC_l = np.sqrt(-(64*np.log(0.95/(8*(len(data)*np.e/3)**3)))/len(data)) # number\n",
    "print(problem6_VC_l)\n",
    "problem6_VC_smaller = False"
   ]
  }
 ],
 "metadata": {
  "kernelspec": {
   "display_name": "env",
   "language": "python",
   "name": "python3"
  },
  "language_info": {
   "codemirror_mode": {
    "name": "ipython",
    "version": 3
   },
   "file_extension": ".py",
   "mimetype": "text/x-python",
   "name": "python",
   "nbconvert_exporter": "python",
   "pygments_lexer": "ipython3",
   "version": "3.10.12"
  },
  "lx_assignment_number": "vB",
  "lx_course_instance": "2022",
  "lx_course_name": "Introduction to Data Science",
  "lx_course_number": "1MS041"
 },
 "nbformat": 4,
 "nbformat_minor": 5
}

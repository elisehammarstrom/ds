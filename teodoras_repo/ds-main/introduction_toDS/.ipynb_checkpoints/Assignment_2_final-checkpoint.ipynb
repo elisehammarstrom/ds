{
 "cells": [
  {
   "cell_type": "markdown",
   "metadata": {
    "deletable": false
   },
   "source": [
    "# Assignment 2 for Course 1MS041\n",
    "Make         sure you pass the `# ... Test` cells and\n",
    " submit your solution notebook in the corresponding assignment on the course website. You can submit multiple times before the deadline         and your highest score will be used."
   ]
  },
  {
   "cell_type": "markdown",
   "metadata": {
    "deletable": false,
    "lx_assignment_number": "2",
    "lx_assignment_type": "ASSIGNMENT",
    "lx_assignment_type2print": "Assignment",
    "lx_problem_cell_type": "PROBLEM",
    "lx_problem_number": "1",
    "lx_problem_points": "8"
   },
   "source": [
    "---\n",
    "## Assignment 2, PROBLEM 1\n",
    "Maximum Points = 8"
   ]
  },
  {
   "cell_type": "markdown",
   "metadata": {
    "deletable": false,
    "lx_assignment_number": "2",
    "lx_assignment_type": "ASSIGNMENT",
    "lx_assignment_type2print": "Assignment",
    "lx_problem_cell_type": "PROBLEM",
    "lx_problem_number": "1",
    "lx_problem_points": "8"
   },
   "source": [
    "\n",
    "A courier company operates a fleet of delivery trucks that make deliveries to different parts of the city. The trucks are equipped with GPS tracking devices that record the location of each truck at regular intervals. The locations are divided into three regions: downtown, the suburbs, and the countryside. The following table shows the probabilities of a truck transitioning between these regions at each time step:\n",
    "\n",
    "| Current region | Probability of transitioning to downtown | Probability of transitioning to the suburbs | Probability of transitioning to the countryside |\n",
    "|----------------|--------------------------------------------|-----------------------------------------------|------------------------------------------------|\n",
    "| Downtown       | 0.3                                      | 0.4                                           | 0.3                                            |\n",
    "| Suburbs        | 0.2                                      | 0.5                                           | 0.3                                            |\n",
    "| Countryside    | 0.4                                      | 0.3                                           | 0.3                                            |\n",
    "\n",
    "1. If a truck is currently in the suburbs, what is the probability that it will be in the downtown region after two time steps? [1.5p]\n",
    "2. If a truck is currently in the suburbs, what is the probability that it will be in the downtown region **the first time** after two time steps? [1.5p]\n",
    "3. Is this Markov chain irreducible? [1.5p]\n",
    "4. What is the stationary distribution? [1.5p]\n",
    "5. Advanced question: What is the expected number of steps until the first time one enters the downtown region having started in the suburbs region. Hint: to get within 1 decimal point, it is enough to compute the probabilities for hitting times below 30. [2p]\n",
    "\n"
   ]
  },
  {
   "cell_type": "code",
   "execution_count": 2,
   "metadata": {
    "deletable": false,
    "lx_assignment_number": "2",
    "lx_assignment_type": "ASSIGNMENT",
    "lx_assignment_type2print": "Assignment",
    "lx_problem_cell_type": "PROBLEM",
    "lx_problem_number": "1",
    "lx_problem_points": "14"
   },
   "outputs": [],
   "source": [
    "# Part 1\n",
    "\n",
    "P_S_1_D = 0.2 #probability to be in suburbs in 1 timestep and transition to downtown\n",
    "P_S_1_C = 0.3\n",
    "P_S_1_S = 0.5\n",
    "\n",
    "P_D_1_D = 0.3\n",
    "P_D_1_S = 0.4\n",
    "P_D_1_C = 0.3\n",
    "\n",
    "P_C_1_D = 0.4\n",
    "P_C_1_S = 0.3\n",
    "P_C_1_C = 0.3\n",
    "\n",
    "P_S_2_D = P_S_1_D * P_D_1_D + P_S_1_S * P_S_1_D + P_S_1_C * P_C_1_D\n",
    "\n",
    "# Fill in the answer to part 1 below as a decimal number\n",
    "problem1_p1 = 0.28"
   ]
  },
  {
   "cell_type": "code",
   "execution_count": 3,
   "metadata": {
    "deletable": false,
    "lx_assignment_number": "2",
    "lx_assignment_type": "ASSIGNMENT",
    "lx_assignment_type2print": "Assignment",
    "lx_problem_cell_type": "PROBLEM",
    "lx_problem_number": "1",
    "lx_problem_points": "14"
   },
   "outputs": [],
   "source": [
    "# Part 2\n",
    "\n",
    "scenario_2 = P_S_1_S * P_S_1_D  + P_S_1_C * P_C_1_D\n",
    "\n",
    "# Fill in the answer to part 2 below as a decimal number\n",
    "problem1_p2 = 0.22"
   ]
  },
  {
   "cell_type": "code",
   "execution_count": 4,
   "metadata": {
    "deletable": false,
    "lx_assignment_number": "2",
    "lx_assignment_type": "ASSIGNMENT",
    "lx_assignment_type2print": "Assignment",
    "lx_problem_cell_type": "PROBLEM",
    "lx_problem_number": "1",
    "lx_problem_points": "14"
   },
   "outputs": [],
   "source": [
    "# Part 3\n",
    "\n",
    "# Fill in the answer to part 3 below as a boolean\n",
    "problem1_irreducible = True"
   ]
  },
  {
   "cell_type": "code",
   "execution_count": 5,
   "metadata": {
    "deletable": false,
    "lx_assignment_number": "2",
    "lx_assignment_type": "ASSIGNMENT",
    "lx_assignment_type2print": "Assignment",
    "lx_problem_cell_type": "PROBLEM",
    "lx_problem_number": "1",
    "lx_problem_points": "14"
   },
   "outputs": [
    {
     "ename": "AttributeError",
     "evalue": "module 'numpy' has no attribute 'max'",
     "output_type": "error",
     "traceback": [
      "\u001b[0;31m---------------------------------------------------------------------------\u001b[0m",
      "\u001b[0;31mAttributeError\u001b[0m                            Traceback (most recent call last)",
      "Cell \u001b[0;32mIn [5], line 14\u001b[0m\n\u001b[1;32m     11\u001b[0m P \u001b[38;5;241m=\u001b[39m np\u001b[38;5;241m.\u001b[39marray(transition_probabilities)\n\u001b[1;32m     13\u001b[0m stationary \u001b[38;5;241m=\u001b[39m np\u001b[38;5;241m.\u001b[39mlinalg\u001b[38;5;241m.\u001b[39mmatrix_power(P, \u001b[38;5;241m100\u001b[39m)\n\u001b[0;32m---> 14\u001b[0m \u001b[38;5;28;43mprint\u001b[39;49m\u001b[43m(\u001b[49m\u001b[43mstationary\u001b[49m\u001b[43m)\u001b[49m\n\u001b[1;32m     16\u001b[0m \u001b[38;5;66;03m# Fill in the answer to part 4 below\u001b[39;00m\n\u001b[1;32m     17\u001b[0m \u001b[38;5;66;03m# the answer should be a numpy array of length 3\u001b[39;00m\n\u001b[1;32m     18\u001b[0m \u001b[38;5;66;03m# make sure that the entries sums to 1!\u001b[39;00m\n\u001b[1;32m     19\u001b[0m problem1_stationary \u001b[38;5;241m=\u001b[39m [\u001b[38;5;241m0.28888889\u001b[39m, \u001b[38;5;241m0.41111111\u001b[39m, \u001b[38;5;241m0.3\u001b[39m]\n",
      "File \u001b[0;32m~/opt/anaconda3/envs/homl3/lib/python3.10/site-packages/numpy/core/arrayprint.py:1592\u001b[0m, in \u001b[0;36m_array_str_implementation\u001b[0;34m(a, max_line_width, precision, suppress_small, array2string)\u001b[0m\n\u001b[1;32m   1586\u001b[0m \u001b[38;5;28;01mif\u001b[39;00m a\u001b[38;5;241m.\u001b[39mshape \u001b[38;5;241m==\u001b[39m ():\n\u001b[1;32m   1587\u001b[0m     \u001b[38;5;66;03m# obtain a scalar and call str on it, avoiding problems for subclasses\u001b[39;00m\n\u001b[1;32m   1588\u001b[0m     \u001b[38;5;66;03m# for which indexing with () returns a 0d instead of a scalar by using\u001b[39;00m\n\u001b[1;32m   1589\u001b[0m     \u001b[38;5;66;03m# ndarray's getindex. Also guard against recursive 0d object arrays.\u001b[39;00m\n\u001b[1;32m   1590\u001b[0m     \u001b[38;5;28;01mreturn\u001b[39;00m _guarded_repr_or_str(np\u001b[38;5;241m.\u001b[39mndarray\u001b[38;5;241m.\u001b[39m\u001b[38;5;21m__getitem__\u001b[39m(a, ()))\n\u001b[0;32m-> 1592\u001b[0m \u001b[38;5;28;01mreturn\u001b[39;00m \u001b[43marray2string\u001b[49m\u001b[43m(\u001b[49m\u001b[43ma\u001b[49m\u001b[43m,\u001b[49m\u001b[43m \u001b[49m\u001b[43mmax_line_width\u001b[49m\u001b[43m,\u001b[49m\u001b[43m \u001b[49m\u001b[43mprecision\u001b[49m\u001b[43m,\u001b[49m\u001b[43m \u001b[49m\u001b[43msuppress_small\u001b[49m\u001b[43m,\u001b[49m\u001b[43m \u001b[49m\u001b[38;5;124;43m'\u001b[39;49m\u001b[38;5;124;43m \u001b[39;49m\u001b[38;5;124;43m'\u001b[39;49m\u001b[43m,\u001b[49m\u001b[43m \u001b[49m\u001b[38;5;124;43m\"\u001b[39;49m\u001b[38;5;124;43m\"\u001b[39;49m\u001b[43m)\u001b[49m\n",
      "File \u001b[0;32m~/opt/anaconda3/envs/homl3/lib/python3.10/site-packages/numpy/core/arrayprint.py:736\u001b[0m, in \u001b[0;36marray2string\u001b[0;34m(a, max_line_width, precision, suppress_small, separator, prefix, style, formatter, threshold, edgeitems, sign, floatmode, suffix, legacy)\u001b[0m\n\u001b[1;32m    733\u001b[0m \u001b[38;5;28;01mif\u001b[39;00m a\u001b[38;5;241m.\u001b[39msize \u001b[38;5;241m==\u001b[39m \u001b[38;5;241m0\u001b[39m:\n\u001b[1;32m    734\u001b[0m     \u001b[38;5;28;01mreturn\u001b[39;00m \u001b[38;5;124m\"\u001b[39m\u001b[38;5;124m[]\u001b[39m\u001b[38;5;124m\"\u001b[39m\n\u001b[0;32m--> 736\u001b[0m \u001b[38;5;28;01mreturn\u001b[39;00m \u001b[43m_array2string\u001b[49m\u001b[43m(\u001b[49m\u001b[43ma\u001b[49m\u001b[43m,\u001b[49m\u001b[43m \u001b[49m\u001b[43moptions\u001b[49m\u001b[43m,\u001b[49m\u001b[43m \u001b[49m\u001b[43mseparator\u001b[49m\u001b[43m,\u001b[49m\u001b[43m \u001b[49m\u001b[43mprefix\u001b[49m\u001b[43m)\u001b[49m\n",
      "File \u001b[0;32m~/opt/anaconda3/envs/homl3/lib/python3.10/site-packages/numpy/core/arrayprint.py:513\u001b[0m, in \u001b[0;36m_recursive_guard.<locals>.decorating_function.<locals>.wrapper\u001b[0;34m(self, *args, **kwargs)\u001b[0m\n\u001b[1;32m    511\u001b[0m repr_running\u001b[38;5;241m.\u001b[39madd(key)\n\u001b[1;32m    512\u001b[0m \u001b[38;5;28;01mtry\u001b[39;00m:\n\u001b[0;32m--> 513\u001b[0m     \u001b[38;5;28;01mreturn\u001b[39;00m \u001b[43mf\u001b[49m\u001b[43m(\u001b[49m\u001b[38;5;28;43mself\u001b[39;49m\u001b[43m,\u001b[49m\u001b[43m \u001b[49m\u001b[38;5;241;43m*\u001b[39;49m\u001b[43margs\u001b[49m\u001b[43m,\u001b[49m\u001b[43m \u001b[49m\u001b[38;5;241;43m*\u001b[39;49m\u001b[38;5;241;43m*\u001b[39;49m\u001b[43mkwargs\u001b[49m\u001b[43m)\u001b[49m\n\u001b[1;32m    514\u001b[0m \u001b[38;5;28;01mfinally\u001b[39;00m:\n\u001b[1;32m    515\u001b[0m     repr_running\u001b[38;5;241m.\u001b[39mdiscard(key)\n",
      "File \u001b[0;32m~/opt/anaconda3/envs/homl3/lib/python3.10/site-packages/numpy/core/arrayprint.py:539\u001b[0m, in \u001b[0;36m_array2string\u001b[0;34m(a, options, separator, prefix)\u001b[0m\n\u001b[1;32m    536\u001b[0m     summary_insert \u001b[38;5;241m=\u001b[39m \u001b[38;5;124m\"\u001b[39m\u001b[38;5;124m\"\u001b[39m\n\u001b[1;32m    538\u001b[0m \u001b[38;5;66;03m# find the right formatting function for the array\u001b[39;00m\n\u001b[0;32m--> 539\u001b[0m format_function \u001b[38;5;241m=\u001b[39m \u001b[43m_get_format_function\u001b[49m\u001b[43m(\u001b[49m\u001b[43mdata\u001b[49m\u001b[43m,\u001b[49m\u001b[43m \u001b[49m\u001b[38;5;241;43m*\u001b[39;49m\u001b[38;5;241;43m*\u001b[39;49m\u001b[43moptions\u001b[49m\u001b[43m)\u001b[49m\n\u001b[1;32m    541\u001b[0m \u001b[38;5;66;03m# skip over \"[\"\u001b[39;00m\n\u001b[1;32m    542\u001b[0m next_line_prefix \u001b[38;5;241m=\u001b[39m \u001b[38;5;124m\"\u001b[39m\u001b[38;5;124m \u001b[39m\u001b[38;5;124m\"\u001b[39m\n",
      "File \u001b[0;32m~/opt/anaconda3/envs/homl3/lib/python3.10/site-packages/numpy/core/arrayprint.py:472\u001b[0m, in \u001b[0;36m_get_format_function\u001b[0;34m(data, **options)\u001b[0m\n\u001b[1;32m    470\u001b[0m         \u001b[38;5;28;01mreturn\u001b[39;00m formatdict[\u001b[38;5;124m'\u001b[39m\u001b[38;5;124mlongfloat\u001b[39m\u001b[38;5;124m'\u001b[39m]()\n\u001b[1;32m    471\u001b[0m     \u001b[38;5;28;01melse\u001b[39;00m:\n\u001b[0;32m--> 472\u001b[0m         \u001b[38;5;28;01mreturn\u001b[39;00m \u001b[43mformatdict\u001b[49m\u001b[43m[\u001b[49m\u001b[38;5;124;43m'\u001b[39;49m\u001b[38;5;124;43mfloat\u001b[39;49m\u001b[38;5;124;43m'\u001b[39;49m\u001b[43m]\u001b[49m\u001b[43m(\u001b[49m\u001b[43m)\u001b[49m\n\u001b[1;32m    473\u001b[0m \u001b[38;5;28;01melif\u001b[39;00m \u001b[38;5;28missubclass\u001b[39m(dtypeobj, _nt\u001b[38;5;241m.\u001b[39mcomplexfloating):\n\u001b[1;32m    474\u001b[0m     \u001b[38;5;28;01mif\u001b[39;00m \u001b[38;5;28missubclass\u001b[39m(dtypeobj, _nt\u001b[38;5;241m.\u001b[39mclongfloat):\n",
      "File \u001b[0;32m~/opt/anaconda3/envs/homl3/lib/python3.10/site-packages/numpy/core/arrayprint.py:411\u001b[0m, in \u001b[0;36m_get_formatdict.<locals>.<lambda>\u001b[0;34m()\u001b[0m\n\u001b[1;32m    403\u001b[0m \u001b[38;5;28;01mdef\u001b[39;00m \u001b[38;5;21m_get_formatdict\u001b[39m(data, \u001b[38;5;241m*\u001b[39m, precision, floatmode, suppress, sign, legacy,\n\u001b[1;32m    404\u001b[0m                     formatter, \u001b[38;5;241m*\u001b[39m\u001b[38;5;241m*\u001b[39mkwargs):\n\u001b[1;32m    405\u001b[0m     \u001b[38;5;66;03m# note: extra arguments in kwargs are ignored\u001b[39;00m\n\u001b[1;32m    406\u001b[0m \n\u001b[1;32m    407\u001b[0m     \u001b[38;5;66;03m# wrapped in lambdas to avoid taking a code path with the wrong type of data\u001b[39;00m\n\u001b[1;32m    408\u001b[0m     formatdict \u001b[38;5;241m=\u001b[39m {\n\u001b[1;32m    409\u001b[0m         \u001b[38;5;124m'\u001b[39m\u001b[38;5;124mbool\u001b[39m\u001b[38;5;124m'\u001b[39m: \u001b[38;5;28;01mlambda\u001b[39;00m: BoolFormat(data),\n\u001b[1;32m    410\u001b[0m         \u001b[38;5;124m'\u001b[39m\u001b[38;5;124mint\u001b[39m\u001b[38;5;124m'\u001b[39m: \u001b[38;5;28;01mlambda\u001b[39;00m: IntegerFormat(data),\n\u001b[0;32m--> 411\u001b[0m         \u001b[38;5;124m'\u001b[39m\u001b[38;5;124mfloat\u001b[39m\u001b[38;5;124m'\u001b[39m: \u001b[38;5;28;01mlambda\u001b[39;00m: \u001b[43mFloatingFormat\u001b[49m\u001b[43m(\u001b[49m\n\u001b[1;32m    412\u001b[0m \u001b[43m            \u001b[49m\u001b[43mdata\u001b[49m\u001b[43m,\u001b[49m\u001b[43m \u001b[49m\u001b[43mprecision\u001b[49m\u001b[43m,\u001b[49m\u001b[43m \u001b[49m\u001b[43mfloatmode\u001b[49m\u001b[43m,\u001b[49m\u001b[43m \u001b[49m\u001b[43msuppress\u001b[49m\u001b[43m,\u001b[49m\u001b[43m \u001b[49m\u001b[43msign\u001b[49m\u001b[43m,\u001b[49m\u001b[43m \u001b[49m\u001b[43mlegacy\u001b[49m\u001b[38;5;241;43m=\u001b[39;49m\u001b[43mlegacy\u001b[49m\u001b[43m)\u001b[49m,\n\u001b[1;32m    413\u001b[0m         \u001b[38;5;124m'\u001b[39m\u001b[38;5;124mlongfloat\u001b[39m\u001b[38;5;124m'\u001b[39m: \u001b[38;5;28;01mlambda\u001b[39;00m: FloatingFormat(\n\u001b[1;32m    414\u001b[0m             data, precision, floatmode, suppress, sign, legacy\u001b[38;5;241m=\u001b[39mlegacy),\n\u001b[1;32m    415\u001b[0m         \u001b[38;5;124m'\u001b[39m\u001b[38;5;124mcomplexfloat\u001b[39m\u001b[38;5;124m'\u001b[39m: \u001b[38;5;28;01mlambda\u001b[39;00m: ComplexFloatingFormat(\n\u001b[1;32m    416\u001b[0m             data, precision, floatmode, suppress, sign, legacy\u001b[38;5;241m=\u001b[39mlegacy),\n\u001b[1;32m    417\u001b[0m         \u001b[38;5;124m'\u001b[39m\u001b[38;5;124mlongcomplexfloat\u001b[39m\u001b[38;5;124m'\u001b[39m: \u001b[38;5;28;01mlambda\u001b[39;00m: ComplexFloatingFormat(\n\u001b[1;32m    418\u001b[0m             data, precision, floatmode, suppress, sign, legacy\u001b[38;5;241m=\u001b[39mlegacy),\n\u001b[1;32m    419\u001b[0m         \u001b[38;5;124m'\u001b[39m\u001b[38;5;124mdatetime\u001b[39m\u001b[38;5;124m'\u001b[39m: \u001b[38;5;28;01mlambda\u001b[39;00m: DatetimeFormat(data, legacy\u001b[38;5;241m=\u001b[39mlegacy),\n\u001b[1;32m    420\u001b[0m         \u001b[38;5;124m'\u001b[39m\u001b[38;5;124mtimedelta\u001b[39m\u001b[38;5;124m'\u001b[39m: \u001b[38;5;28;01mlambda\u001b[39;00m: TimedeltaFormat(data),\n\u001b[1;32m    421\u001b[0m         \u001b[38;5;124m'\u001b[39m\u001b[38;5;124mobject\u001b[39m\u001b[38;5;124m'\u001b[39m: \u001b[38;5;28;01mlambda\u001b[39;00m: _object_format,\n\u001b[1;32m    422\u001b[0m         \u001b[38;5;124m'\u001b[39m\u001b[38;5;124mvoid\u001b[39m\u001b[38;5;124m'\u001b[39m: \u001b[38;5;28;01mlambda\u001b[39;00m: str_format,\n\u001b[1;32m    423\u001b[0m         \u001b[38;5;124m'\u001b[39m\u001b[38;5;124mnumpystr\u001b[39m\u001b[38;5;124m'\u001b[39m: \u001b[38;5;28;01mlambda\u001b[39;00m: repr_format}\n\u001b[1;32m    425\u001b[0m     \u001b[38;5;66;03m# we need to wrap values in `formatter` in a lambda, so that the interface\u001b[39;00m\n\u001b[1;32m    426\u001b[0m     \u001b[38;5;66;03m# is the same as the above values.\u001b[39;00m\n\u001b[1;32m    427\u001b[0m     \u001b[38;5;28;01mdef\u001b[39;00m \u001b[38;5;21mindirect\u001b[39m(x):\n",
      "File \u001b[0;32m~/opt/anaconda3/envs/homl3/lib/python3.10/site-packages/numpy/core/arrayprint.py:932\u001b[0m, in \u001b[0;36mFloatingFormat.__init__\u001b[0;34m(self, data, precision, floatmode, suppress_small, sign, legacy)\u001b[0m\n\u001b[1;32m    929\u001b[0m \u001b[38;5;28mself\u001b[39m\u001b[38;5;241m.\u001b[39mexp_format \u001b[38;5;241m=\u001b[39m \u001b[38;5;28;01mFalse\u001b[39;00m\n\u001b[1;32m    930\u001b[0m \u001b[38;5;28mself\u001b[39m\u001b[38;5;241m.\u001b[39mlarge_exponent \u001b[38;5;241m=\u001b[39m \u001b[38;5;28;01mFalse\u001b[39;00m\n\u001b[0;32m--> 932\u001b[0m \u001b[38;5;28;43mself\u001b[39;49m\u001b[38;5;241;43m.\u001b[39;49m\u001b[43mfillFormat\u001b[49m\u001b[43m(\u001b[49m\u001b[43mdata\u001b[49m\u001b[43m)\u001b[49m\n",
      "File \u001b[0;32m~/opt/anaconda3/envs/homl3/lib/python3.10/site-packages/numpy/core/arrayprint.py:941\u001b[0m, in \u001b[0;36mFloatingFormat.fillFormat\u001b[0;34m(self, data)\u001b[0m\n\u001b[1;32m    939\u001b[0m abs_non_zero \u001b[38;5;241m=\u001b[39m absolute(finite_vals[finite_vals \u001b[38;5;241m!=\u001b[39m \u001b[38;5;241m0\u001b[39m])\n\u001b[1;32m    940\u001b[0m \u001b[38;5;28;01mif\u001b[39;00m \u001b[38;5;28mlen\u001b[39m(abs_non_zero) \u001b[38;5;241m!=\u001b[39m \u001b[38;5;241m0\u001b[39m:\n\u001b[0;32m--> 941\u001b[0m     max_val \u001b[38;5;241m=\u001b[39m \u001b[43mnp\u001b[49m\u001b[38;5;241;43m.\u001b[39;49m\u001b[43mmax\u001b[49m(abs_non_zero)\n\u001b[1;32m    942\u001b[0m     min_val \u001b[38;5;241m=\u001b[39m np\u001b[38;5;241m.\u001b[39mmin(abs_non_zero)\n\u001b[1;32m    943\u001b[0m     \u001b[38;5;28;01mwith\u001b[39;00m errstate(over\u001b[38;5;241m=\u001b[39m\u001b[38;5;124m'\u001b[39m\u001b[38;5;124mignore\u001b[39m\u001b[38;5;124m'\u001b[39m):  \u001b[38;5;66;03m# division can overflow\u001b[39;00m\n",
      "\u001b[0;31mAttributeError\u001b[0m: module 'numpy' has no attribute 'max'"
     ]
    }
   ],
   "source": [
    "# Part 4\n",
    "\n",
    "import numpy as np\n",
    "\n",
    "transition_probabilities = [\n",
    "    [0.3, 0.4, 0.3],  # Downtown -> [Downtown, Suburbs, Countryside]\n",
    "    [0.2, 0.5, 0.3],  # Suburbs -> [Downtown, Suburbs, Countryside]\n",
    "    [0.4, 0.3, 0.3],  # Countryside -> [Downtown, Suburbs, Countryside]\n",
    "]\n",
    "\n",
    "P = np.array(transition_probabilities)\n",
    "\n",
    "stationary = np.linalg.matrix_power(P, 100)\n",
    "print(stationary)\n",
    "\n",
    "# Fill in the answer to part 4 below\n",
    "# the answer should be a numpy array of length 3\n",
    "# make sure that the entries sums to 1!\n",
    "problem1_stationary = [0.28888889, 0.41111111, 0.3]"
   ]
  },
  {
   "cell_type": "code",
   "execution_count": 5,
   "metadata": {
    "deletable": false,
    "lx_assignment_number": "2",
    "lx_assignment_type": "ASSIGNMENT",
    "lx_assignment_type2print": "Assignment",
    "lx_problem_cell_type": "PROBLEM",
    "lx_problem_number": "1",
    "lx_problem_points": "14"
   },
   "outputs": [
    {
     "name": "stdout",
     "output_type": "stream",
     "text": [
      "expected_number_of_steps:  3.845696\n"
     ]
    }
   ],
   "source": [
    "# Part 5\n",
    "import random\n",
    "import numpy as np\n",
    "\n",
    "states = [\"suburb\", \"downtown\", \"countryside\"] #state 0, 1, 2 respectively\n",
    "\n",
    "starting_state = 0 \n",
    "    \n",
    "number_of_rw = 1000000 #number of random walks\n",
    "steps_per_rw = [] #steps for each rw before reaching downtown\n",
    "current_rw_number = 0\n",
    "\n",
    "def toss_probabilities(array_of_probabilities):\n",
    "    probabilities = array_of_probabilities #[0.5, 0.3, 0.4] suburbs, downtown, countryside\n",
    "    outcomes = [0, 1, 2]\n",
    "    random_outcome = random.choices(outcomes, probabilities)[0]\n",
    "    return random_outcome\n",
    "\n",
    "def simulate_random_walk():\n",
    "    hitting_time = 0\n",
    "    current_state = 0  # Start in the suburb\n",
    "    while current_state != 1 and hitting_time < 30:  # Continue until we reach downtown\n",
    "        hitting_time += 1\n",
    "        if current_state == 0:\n",
    "            current_state = toss_probabilities([0.5, 0.2, 0.3])\n",
    "        elif current_state == 2:\n",
    "            current_state = toss_probabilities([0.3, 0.4, 0.3])\n",
    "    return hitting_time\n",
    "\n",
    "while current_rw_number < number_of_rw:\n",
    "    steps = simulate_random_walk()\n",
    "    steps_per_rw.append(steps)\n",
    "    current_rw_number += 1\n",
    "    \n",
    "expected_number_of_steps = sum(steps_per_rw)/len(steps_per_rw)\n",
    "print(\"expected_number_of_steps: \", expected_number_of_steps)\n",
    "\n",
    "# Fill in the answer to part 5 below\n",
    "# That is, the expected number of steps as a decimal number\n",
    "problem1_ET = 3.844104"
   ]
  },
  {
   "cell_type": "markdown",
   "metadata": {
    "deletable": false,
    "lx_assignment_number": "2",
    "lx_assignment_type": "ASSIGNMENT",
    "lx_assignment_type2print": "Assignment",
    "lx_problem_cell_type": "PROBLEM",
    "lx_problem_number": "2",
    "lx_problem_points": "8"
   },
   "source": [
    "---\n",
    "## Assignment 2, PROBLEM 2\n",
    "Maximum Points = 8"
   ]
  },
  {
   "cell_type": "markdown",
   "metadata": {
    "deletable": false,
    "lx_assignment_number": "2",
    "lx_assignment_type": "ASSIGNMENT",
    "lx_assignment_type2print": "Assignment",
    "lx_problem_cell_type": "PROBLEM",
    "lx_problem_number": "2",
    "lx_problem_points": "8"
   },
   "source": [
    "\n",
    "A healthcare organization is interested in understanding the relationship between the number of visits to the doctors office and certain patient characteristics. \n",
    "They have collected data on the number of visits (for a year) for a sample of patients and have included the following variables\n",
    "\n",
    "* ofp : number of physician office visits\n",
    "* ofnp : number of nonphysician office visits\n",
    "* opp : number of physician outpatient visits\n",
    "* opnp : number of nonphysician outpatient visits\n",
    "* emr : number of emergency room visits\n",
    "* hosp : number of hospitalizations\n",
    "* exclhlth : the person is of excellent health (self-perceived)\n",
    "* poorhealth : the person is of poor health (self-perceived)\n",
    "* numchron : number of chronic conditions\n",
    "* adldiff : the person has a condition that limits activities of daily living ?\n",
    "* noreast : the person is from the north east region\n",
    "* midwest : the person is from the midwest region\n",
    "* west : the person is from the west region\n",
    "* age : age in years (divided by 10)\n",
    "* male : is the person male ?\n",
    "* married : is the person married ?\n",
    "* school : number of years of education\n",
    "* faminc : family income in 10000$\n",
    "* employed : is the person employed ?\n",
    "* privins : is the person covered by private health insurance?\n",
    "* medicaid : is the person covered by medicaid ?\n",
    "\n",
    "Decide which patient features are resonable to use to predict the target \"number of physician office visits\". Hint: should we really use the \"ofnp\" etc variables?\n",
    "\n",
    "Since the target variable is counts, a reasonable loss function is to consider the target variable as Poisson distributed where the parameter follows $\\lambda = \\exp(\\alpha \\cdot x + \\beta)$ where $\\alpha$ is a vector (slope) and $\\beta$ is a number (intercept). That is, the parameter is the exponential of a linear function. The reason we chose this as our parameter, is that it is always positive which is when the Poisson distribution is defined. To be specific we make the following assumption about our conditional density of $Y \\mid X$,\n",
    "$$\n",
    "    f_{Y \\mid X} (y,x) = \\frac{\\lambda^{y} e^{-\\lambda}}{y !}, \\quad \\lambda(x) = \\exp(\\alpha \\cdot x + \\beta).\n",
    "$$\n",
    "\n",
    "Recall from the lecture notes, (4.2) that in this case we should consider the log-loss (entropy) and that according to (4.2.1 Maximum Likelihood and regression) we can consider the conditional log-likelihood. Follow the steps of Example 1 and Example 2 in section (4.2) to derive the loss that needs to be minimized.\n",
    "\n",
    "Hint: when taking the log of the conditional density you will find that the term that contains the $y!$ does not depend on $\\lambda$ and as such does not depend on $\\alpha,\\beta$, it can thus be discarded. This will be essential due to numerical issues with factorials.\n",
    "\n",
    "Instructions:\n",
    "\n",
    "1. Load the file `data/visits_clean.csv`, follow the instructions in the code cell of how this should happen [1.5p]\n",
    "2. Create the `problem2_X` and the `problem2_y` as numpy arrays with `problem2_X` being the features and `problem2_y` being the target. Do the standard train-test split with 80% training data and 20% testing data. Store these in the variables defined in the cells. [1.5p]\n",
    "3. Implement $loss$ inside the class `PoissonRegression` by writing down the loss to be minimized, I have provided a formula for the $\\lambda$ that you can use. [1.5p]\n",
    "4. Now use the `PoissonRegression` class to train a Poisson regression model on the training data. [1.5p]\n",
    "5. Compute the mean absolute error of your prediction on the test set and use Hoeffdings inequality to produce a 95\\% confidence interval for the mean absolute error. We can make the assumption that the error is bounded by 70 for simplicity. [2p]\n"
   ]
  },
  {
   "cell_type": "code",
   "execution_count": 2,
   "metadata": {
    "deletable": false,
    "lx_assignment_number": "2",
    "lx_assignment_type": "ASSIGNMENT",
    "lx_assignment_type2print": "Assignment",
    "lx_problem_cell_type": "PROBLEM",
    "lx_problem_number": "2",
    "lx_problem_points": "8"
   },
   "outputs": [],
   "source": [
    "# Part 1\n",
    "\n",
    "# As in assignment 1 we will load the header into header and data into data\n",
    "# this time you will have to parse the data such that each data entry is a float\n",
    "# and that the problem2_data is a numpy array of shape (n_samples,n_columns)\n",
    "# where n_columns is the number of columns and should have the same length as\n",
    "# the list of strings header. n_samples is how many rows of data we had.\n",
    "# If you cannot find the file, check the starting package as it should be updated\n",
    "# if not, go to the github repo and pull it\n",
    "\n",
    "import csv\n",
    "import numpy as np\n",
    "\n",
    "file_path = \"data/visits_clean.csv\"\n",
    "header = []\n",
    "data = []\n",
    "original_array = np.zeros((4406,21))\n",
    "list_of_column_names = []\n",
    "\n",
    "with open(file_path, 'r') as csv_file:\n",
    "    csv_reader = csv.reader(csv_file)\n",
    "    header = next(csv_reader)\n",
    "    \n",
    "header_features = header[0].split(\" \")\n",
    "    \n",
    "from numpy import genfromtxt\n",
    "my_data = genfromtxt(\"data/visits_clean.csv\", delimiter=' ', skip_header=1, encoding=\"utf8\")\n",
    "data = my_data\n",
    "\n",
    "# The autograder does not accept pandas as a solution to this problem.\n",
    "# data/visits_clean.csv\n",
    "problem2_header = [\"ofp\", \"ofnp\", \"opp\", \"opnp\", \"emr\", \"hosp\", \"exclhlth\", \"poorhlth\", \"numchron\", \"adldiff\", \"noreast\", \"midwest\", \"west\", \"age\", \"male\", \"married\", \"school\", \"faminc\", \"employed\", \"privins\", \"medicaid\"] #List of strings\n",
    "problem2_data = np.array(my_data) #A numpy array of shape n_samples n_columns"
   ]
  },
  {
   "cell_type": "code",
   "execution_count": 3,
   "metadata": {
    "deletable": false,
    "lx_assignment_number": "2",
    "lx_assignment_type": "ASSIGNMENT",
    "lx_assignment_type2print": "Assignment",
    "lx_problem_cell_type": "PROBLEM",
    "lx_problem_number": "2",
    "lx_problem_points": "8"
   },
   "outputs": [
    {
     "name": "stdout",
     "output_type": "stream",
     "text": [
      "Shape of all data:  (4406, 8)\n",
      "problem2_X_train shape: (3525, 7)\n",
      "problem2_X_test shape: (881, 7)\n",
      "problem2_y_train shape: (3525,)\n",
      "problem2_y_test shape: (881,)\n"
     ]
    }
   ],
   "source": [
    "# Part 2\n",
    "from sklearn.model_selection import train_test_split\n",
    "data = problem2_data\n",
    "\n",
    "columns_to_keep = [0, 1, 4, 5, 6, 7, 8, 9] #higest absolute value correlation, all > 10% corr\n",
    "\n",
    "my_chosen_data = data[:, columns_to_keep]\n",
    "print(\"Shape of all data: \", np.shape(my_chosen_data))\n",
    "\n",
    "# Fill in your X and y below\n",
    "problem2_X = my_chosen_data[:, 1:]\n",
    "problem2_y = my_chosen_data[:, 0]\n",
    "\n",
    "# Split the data into train and randomly using for instance\n",
    "# np.random.shuffle indices and indexing the first 80% as the train data\n",
    "# keep the train size as 0.8 rounded up to the nearest integer sample\n",
    "train_size_proportion = 0.8\n",
    "train_size = int(np.ceil(train_size_proportion * len(problem2_X)))\n",
    "test_size = len(problem2_X) - train_size\n",
    "\n",
    "problem2_X_train, problem2_X_test, problem2_y_train, problem2_y_test = train_test_split(problem2_X, problem2_y, train_size=train_size, test_size=test_size)\n",
    "print(\"problem2_X_train shape:\", problem2_X_train.shape)\n",
    "print(\"problem2_X_test shape:\", problem2_X_test.shape)\n",
    "print(\"problem2_y_train shape:\", problem2_y_train.shape)\n",
    "print(\"problem2_y_test shape:\", problem2_y_test.shape)"
   ]
  },
  {
   "cell_type": "code",
   "execution_count": 8,
   "metadata": {
    "deletable": false,
    "lx_assignment_number": "2",
    "lx_assignment_type": "ASSIGNMENT",
    "lx_assignment_type2print": "Assignment",
    "lx_problem_cell_type": "PROBLEM",
    "lx_problem_number": "2",
    "lx_problem_points": "8"
   },
   "outputs": [],
   "source": [
    "# Part 3\n",
    "\n",
    "# Fill in the function loss below\n",
    "\n",
    "class PoissonRegression(object):\n",
    "    def __init__(self):\n",
    "        self.coeffs = None\n",
    "        self.result = None\n",
    "    \n",
    "    # define the objective/cost/loss function we want to minimise\n",
    "    def loss(self,X,Y,coeffs):\n",
    "        # The parameter lambda for the given X and the proposed values \n",
    "        # of the coefficients, here coeff[:-1] represent alpha \n",
    "        # and coeff[-1] represent beta\n",
    "        lam = np.exp(np.dot(X, coeffs[:-1]) + coeffs[-1])\n",
    "\n",
    "        # use the Y variable that is available here to define \n",
    "        # the loss function, return the value of the loss for \n",
    "        # this Y and for this parameter lam defined above\n",
    "        loss = -np.sum( (Y * np.log(lam) - lam) /np.size(Y)  )\n",
    "        \n",
    "        return loss\n",
    "\n",
    "    def fit(self,X,Y):\n",
    "        import numpy as np\n",
    "        from scipy import optimize\n",
    "\n",
    "        #Use the loss above together with an optimization method from scipy\n",
    "        #to find the coefficients of the model\n",
    "        #this is prepared for you below\n",
    "        opt_loss = lambda coeffs: self.loss(X,Y,coeffs)\n",
    "        initial_arguments = np.zeros(shape=X.shape[1]+1) # initial guess as 0\n",
    "        self.result = optimize.minimize(opt_loss, initial_arguments,method='cg')\n",
    "        self.coeffs = self.result.x\n",
    "    \n",
    "    def predict(self,X):\n",
    "        #Use the trained model to predict Y\n",
    "        if (self.coeffs is not None):\n",
    "            return np.exp(np.dot(X,self.coeffs[:-1])+self.coeffs[-1])"
   ]
  },
  {
   "cell_type": "code",
   "execution_count": 9,
   "metadata": {
    "deletable": false,
    "lx_assignment_number": "2",
    "lx_assignment_type": "ASSIGNMENT",
    "lx_assignment_type2print": "Assignment",
    "lx_problem_cell_type": "PROBLEM",
    "lx_problem_number": "2",
    "lx_problem_points": "8"
   },
   "outputs": [
    {
     "name": "stdout",
     "output_type": "stream",
     "text": [
      "     fun: -4.760234216780486\n",
      "     jac: array([ 7.39097595e-06,  2.50339508e-06, -2.98023224e-06,  9.00030136e-06,\n",
      "       -1.78813934e-07, -2.86102295e-06, -3.57627869e-07, -1.43051147e-06])\n",
      " message: 'Optimization terminated successfully.'\n",
      "    nfev: 2619\n",
      "     nit: 138\n",
      "    njev: 291\n",
      "  status: 0\n",
      " success: True\n",
      "       x: array([ 0.02102888, -0.00851372,  0.1457498 , -0.39638039,  0.17211563,\n",
      "        0.1464864 ,  0.07138903,  1.37499991])\n"
     ]
    }
   ],
   "source": [
    "# Part 4\n",
    "\n",
    "# Initialize your PoissonRegression model\n",
    "problem2_model = PoissonRegression()\n",
    "\n",
    "# Fit your initialized model on the training data\n",
    "problem2_model.fit(problem2_X_train, problem2_y_train)\n",
    "\n",
    "# This is to make sure that everything went well, \n",
    "# check that success is True\n",
    "print(problem2_model.result)"
   ]
  },
  {
   "cell_type": "code",
   "execution_count": 10,
   "metadata": {
    "deletable": false,
    "lx_assignment_number": "2",
    "lx_assignment_type": "ASSIGNMENT",
    "lx_assignment_type2print": "Assignment",
    "lx_problem_cell_type": "PROBLEM",
    "lx_problem_number": "2",
    "lx_problem_points": "8"
   },
   "outputs": [
    {
     "name": "stdout",
     "output_type": "stream",
     "text": [
      "problem2_metric:  4.353319781322646\n",
      "epsilon:  3.202892184529445\n",
      "problem2_interval:  (1.1504275967932007, 7.556211965852091)\n"
     ]
    }
   ],
   "source": [
    "# Part 5\n",
    "\n",
    "from sklearn.metrics import mean_absolute_error\n",
    "\n",
    "# Assuming 'y_true' and 'y_pred' are the true and predicted values\n",
    "y_true = problem2_y_test  # Replace with your actual true values\n",
    "y_pred = problem2_model.predict(problem2_X_test)  # Replace with your model's predictions\n",
    "\n",
    "MAE = mean_absolute_error(y_true, y_pred)\n",
    "\n",
    "# Put the computed mean absolute error in the variable below\n",
    "problem2_metric = MAE\n",
    "print(\"problem2_metric: \", problem2_metric)\n",
    "\n",
    "import math\n",
    "\n",
    "a = 0\n",
    "b = 70\n",
    "n = np.size(y_pred)\n",
    "alpha = 0.05\n",
    "\n",
    "epsilon = math.sqrt(((a-b)**(2)/(2*n))*math.log(2/alpha))\n",
    "print(\"epsilon: \", epsilon)\n",
    "confidence_interval = (MAE - epsilon, MAE + epsilon)\n",
    "\n",
    "\n",
    "\n",
    "# Put a confidence interval in the variable below by using Hoeffdings inequality using the bounds\n",
    "# a = 0, b=70 (roughly 5 days between visits as minimum)\n",
    "# the variable should contain a tuple representing the confidence interval of the form (l_edge,r_edge)\n",
    "problem2_interval = confidence_interval\n",
    "print(\"problem2_interval: \", problem2_interval)"
   ]
  },
  {
   "cell_type": "markdown",
   "metadata": {
    "deletable": false,
    "lx_assignment_number": "2",
    "lx_assignment_type": "ASSIGNMENT",
    "lx_assignment_type2print": "Assignment",
    "lx_problem_cell_type": "PROBLEM",
    "lx_problem_number": "3",
    "lx_problem_points": "8"
   },
   "source": [
    "---\n",
    "## Assignment 2, PROBLEM 3\n",
    "Maximum Points = 8"
   ]
  },
  {
   "cell_type": "markdown",
   "metadata": {
    "deletable": false,
    "lx_assignment_number": "2",
    "lx_assignment_type": "ASSIGNMENT",
    "lx_assignment_type2print": "Assignment",
    "lx_problem_cell_type": "PROBLEM",
    "lx_problem_number": "3",
    "lx_problem_points": "8"
   },
   "source": [
    "\n",
    "## Random variable generation and transformation\n",
    "\n",
    "The purpose of this problem is to show that you can implement your own sampler, this will be built in the following three steps:\n",
    "\n",
    "1. [2p] Implement a Linear Congruential Generator where you tested out a good combination (a large $M$ with $a,b$ satisfying the Hull-Dobell (Thm 6.8)) of parameters. Follow the instructions in the code block.\n",
    "2. [2p] Using a generator construct random numbers from the uniform $[0,1]$ distribution.\n",
    "3. [4p] Using a uniform $[0,1]$ random generator, generate samples from \n",
    "\n",
    "$$p_0(x) = \\frac{\\pi}{2}|\\sin(2\\pi x)|, \\quad x \\in [0,1] \\enspace .$$\n",
    "\n",
    "Using the **Accept-Reject** sampler (**Algorithm 1** in TFDS notes) with sampling density given by the uniform $[0,1]$ distribution."
   ]
  },
  {
   "cell_type": "code",
   "execution_count": 1,
   "metadata": {
    "deletable": false,
    "lx_assignment_number": "2",
    "lx_assignment_type": "ASSIGNMENT",
    "lx_assignment_type2print": "Assignment",
    "lx_problem_cell_type": "PROBLEM",
    "lx_problem_number": "3",
    "lx_problem_points": "8"
   },
   "outputs": [],
   "source": [
    "\n",
    "def problem3_LCG(size=None, seed = 0):\n",
    "    \"\"\"\n",
    "    A linear congruential generator that generates pseudo random numbers according to size.\n",
    "    \n",
    "    Parameters\n",
    "    -------------\n",
    "    size : an integer denoting how many samples should be produced\n",
    "    seed : the starting point of the LCG, i.e. u0 in the notes.\n",
    "    \n",
    "    Returns\n",
    "    -------------\n",
    "    out : a list of the pseudo random numbers\n",
    "    \"\"\"\n",
    "    \n",
    "    M = 2**32\n",
    "    b = 12345 \n",
    "    a = 1103515245\n",
    "    \n",
    "    def gcd(size = None, seed=0):\n",
    "        random_numbers = []\n",
    "        for _ in range(size):\n",
    "            seed = (a * seed + b) % M\n",
    "            random_numbers.append(seed)\n",
    "        return random_numbers\n",
    "    \n",
    "    pseudo_random_numbers = gcd(size=size, seed=seed)\n",
    "    \n",
    "    return pseudo_random_numbers\n"
   ]
  },
  {
   "cell_type": "code",
   "execution_count": 2,
   "metadata": {
    "deletable": false,
    "lx_assignment_number": "2",
    "lx_assignment_type": "ASSIGNMENT",
    "lx_assignment_type2print": "Assignment",
    "lx_problem_cell_type": "PROBLEM",
    "lx_problem_number": "3",
    "lx_problem_points": "8"
   },
   "outputs": [],
   "source": [
    "\n",
    "def problem3_uniform(generator=None, period = 1, size=None, seed=0):\n",
    "    \"\"\"\n",
    "    Takes a generator and produces samples from the uniform [0,1] distribution according\n",
    "    to size.\n",
    "    \n",
    "    Parameters\n",
    "    -------------\n",
    "    generator : a function of type generator(size,seed) and produces the same result as problem1_LCG, i.e. pseudo random numbers in the range {0,1,...,period-1}\n",
    "    period : the period of the generator\n",
    "    seed : the seed to be used in the generator provided\n",
    "    size : an integer denoting how many samples should be produced\n",
    "    \n",
    "    Returns\n",
    "    --------------\n",
    "    out : a list of the uniform pseudo random numbers\n",
    "    \"\"\"\n",
    "    \n",
    "    new_pseudo_random_numbers = []\n",
    "    lst = generator(size, seed)\n",
    "    \n",
    "    new_pseudo_random_numbers = [x/period for x in lst]\n",
    "    \n",
    "    return new_pseudo_random_numbers"
   ]
  },
  {
   "cell_type": "code",
   "execution_count": 3,
   "metadata": {
    "deletable": false,
    "lx_assignment_number": "2",
    "lx_assignment_type": "ASSIGNMENT",
    "lx_assignment_type2print": "Assignment",
    "lx_problem_cell_type": "PROBLEM",
    "lx_problem_number": "3",
    "lx_problem_points": "8"
   },
   "outputs": [],
   "source": [
    "\n",
    "def problem3_accept_reject(uniformGenerator=None, n_iterations=None, seed=0):\n",
    "    \"\"\"\n",
    "    Takes a generator that produces uniform pseudo random [0,1] numbers \n",
    "    and produces samples from (pi/2)*abs(sin(x*2*pi)) using an Accept-Reject\n",
    "    sampler with the uniform distribution as the proposal distribution.\n",
    "    Runs n_iterations\n",
    "    \n",
    "    Parameters\n",
    "    -------------\n",
    "    generator : a function of the type generator(size,seed) that produces uniform pseudo random\n",
    "    numbers from [0,1]\n",
    "    seed : the seed to be used in the generator provided\n",
    "    n_iterations : an integer denoting how many attempts should be made in the accept-reject sampler\n",
    "    \n",
    "    Returns\n",
    "    --------------\n",
    "    out : a list of the pseudo random numbers with the specified distribution\n",
    "    \"\"\"\n",
    "    \n",
    "    import math\n",
    "    \n",
    "    samples_accepted = []\n",
    "    rejections = 0\n",
    "    count = 0\n",
    "    M= math.pi/2\n",
    "    samples = uniformGenerator(n_iterations,seed)\n",
    "    u = uniformGenerator(n_iterations,seed)\n",
    "        \n",
    "    for i in range(n_iterations):\n",
    "        if u[i]<= np.abs(math.sin(2*math.pi*samples[i])): # (samples[i]*math.pi/2 <= math.pi/2*abs(math.sin(2*math.pi*samples[i]))): \n",
    "            samples_accepted.append(samples[i])    \n",
    "    \n",
    "    return samples_accepted"
   ]
  },
  {
   "cell_type": "markdown",
   "metadata": {
    "deletable": false,
    "lx_assignment_number": "2",
    "lx_assignment_type": "ASSIGNMENT",
    "lx_assignment_type2print": "Assignment",
    "lx_problem_cell_type": "Test",
    "lx_problem_number": "3",
    "lx_problem_points": "8"
   },
   "source": [
    "---\n",
    "#### Local Test for Assignment 2, PROBLEM 3\n",
    "Evaluate cell below to make sure your answer is valid.                             You **should not** modify anything in the cell below when evaluating it to do a local test of                             your solution.\n",
    "You may need to include and evaluate code snippets from lecture notebooks in cells above to make the local test work correctly sometimes (see error messages for clues). This is meant to help you become efficient at recalling materials covered in lectures that relate to this problem. Such local tests will generally not be available in the exam."
   ]
  },
  {
   "cell_type": "code",
   "execution_count": 8,
   "metadata": {
    "deletable": false,
    "lx_assignment_number": "2",
    "lx_assignment_type": "ASSIGNMENT",
    "lx_assignment_type2print": "Assignment",
    "lx_problem_cell_type": "Test",
    "lx_problem_number": "3",
    "lx_problem_points": "8"
   },
   "outputs": [
    {
     "name": "stdout",
     "output_type": "stream",
     "text": [
      "LCG output: [1103527590, 2524885223, 662824084, 3295386429, 4182499122, 2516284547, 3655513600, 2633739833, 3210001534, 267834847]\n",
      "Uniform sampler [0.25693503906950355, 0.5878706516232342, 0.15432575810700655, 0.767266943352297, 0.9738139626570046, 0.5858681506942958, 0.8511155843734741, 0.6132153405342251, 0.7473867232911289, 0.06236015981994569]\n",
      "Accept-Reject sampler [0.25693503906950355, 0.15432575810700655, 0.767266943352297, 0.6132153405342251, 0.7473867232911289, 0.06236015981994569, 0.04194940160959959, 0.1948235605377704, 0.1386128985323012, 0.6840353596489877, 0.7676989699248224, 0.8232365751173347]\n"
     ]
    }
   ],
   "source": [
    "\n",
    "# If you managed to solve all three parts you can test the following code to see if it runs\n",
    "# you have to change the period to match your LCG though, this is marked as XXX.\n",
    "# It is a very good idea to check these things using the histogram function in sagemath\n",
    "# try with a larger number of samples, up to 10000 should run\n",
    "\n",
    "print(\"LCG output: %s\" % problem3_LCG(size=10, seed = 1))\n",
    "\n",
    "period = 2**32\n",
    "seed = 1\n",
    "\n",
    "print(\"Uniform sampler %s\" % problem3_uniform(generator=problem3_LCG, period = period, size=10, seed=1))\n",
    "\n",
    "uniform_sampler = lambda size,seed: problem3_uniform(generator=problem3_LCG, period = period, size=size, seed=seed)\n",
    "\n",
    "print(\"Accept-Reject sampler %s\" % problem3_accept_reject(uniformGenerator = uniform_sampler,n_iterations=20,seed=1))"
   ]
  },
  {
   "cell_type": "code",
   "execution_count": 15,
   "metadata": {
    "deletable": false,
    "lx_assignment_number": "2",
    "lx_assignment_type": "ASSIGNMENT",
    "lx_assignment_type2print": "Assignment",
    "lx_problem_cell_type": "Test",
    "lx_problem_number": "3",
    "lx_problem_points": "8"
   },
   "outputs": [
    {
     "name": "stdout",
     "output_type": "stream",
     "text": [
      "Accept-Reject sampler [0.13436424411240122, 0.763774618976614, 0.2550690257394217, 0.651592972722763, 0.7887233511355132, 0.0938595867742349, 0.02834747652200631, 0.8357651039198697, 0.762280082457942, 0.0021060533511106927, 0.7215400323407826, 0.22876222127045265, 0.030589983033553536]\n"
     ]
    }
   ],
   "source": [
    "\n",
    "# If however you did not manage to implement either part 1 or part 2 but still want to check part 3, you can run the code below\n",
    "\n",
    "def testUniformGenerator(size,seed):\n",
    "    import random\n",
    "    random.seed(seed)\n",
    "    \n",
    "    return [random.uniform(0,1) for s in range(size)]\n",
    "\n",
    "print(\"Accept-Reject sampler %s\" % problem3_accept_reject(uniformGenerator=testUniformGenerator, n_iterations=20, seed=1))"
   ]
  }
 ],
 "metadata": {
  "kernelspec": {
   "display_name": "Python 3 (ipykernel)",
   "language": "python",
   "name": "python3"
  },
  "language_info": {
   "codemirror_mode": {
    "name": "ipython",
    "version": 3
   },
   "file_extension": ".py",
   "mimetype": "text/x-python",
   "name": "python",
   "nbconvert_exporter": "python",
   "pygments_lexer": "ipython3",
   "version": "3.10.8"
  },
  "lx_assignment_number": 2,
  "lx_course_instance": "2023",
  "lx_course_name": "Introduction to Data Science",
  "lx_course_number": "1MS041"
 },
 "nbformat": 4,
 "nbformat_minor": 4
}

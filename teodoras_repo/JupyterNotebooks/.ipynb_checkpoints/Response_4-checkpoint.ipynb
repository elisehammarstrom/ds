{
 "cells": [
  {
   "cell_type": "markdown",
   "id": "457b2112",
   "metadata": {
    "deletable": false
   },
   "source": [
    "# Assignment 4 for Course 1MS041\n",
    "Make         sure you pass the `# ... Test` cells and\n",
    " submit your solution notebook in the corresponding assignment on the course website. You can submit multiple times before the deadline         and your highest score will be used."
   ]
  },
  {
   "cell_type": "markdown",
   "id": "580f67c2",
   "metadata": {
    "deletable": false,
    "lx_assignment_number": "4",
    "lx_assignment_type": "ASSIGNMENT",
    "lx_assignment_type2print": "Assignment",
    "lx_problem_cell_type": "PROBLEM",
    "lx_problem_number": "1",
    "lx_problem_points": "24"
   },
   "source": [
    "---\n",
    "## Assignment 4, PROBLEM 1\n",
    "Maximum Points = 24"
   ]
  },
  {
   "cell_type": "markdown",
   "id": "c69beab3",
   "metadata": {
    "deletable": false,
    "lx_assignment_number": "4",
    "lx_assignment_type": "ASSIGNMENT",
    "lx_assignment_type2print": "Assignment",
    "lx_problem_cell_type": "PROBLEM",
    "lx_problem_number": "1",
    "lx_problem_points": "24"
   },
   "source": [
    "\n",
    "This time the assignment only consists of one problem, but we will do a more comprehensive analysis instead.\n",
    "\n",
    "Consider the dataset `mammography.mat` that you can download from [http://odds.cs.stonybrook.edu/mammography-dataset/](http://odds.cs.stonybrook.edu/mammography-dataset/). Below you can find the code to load this file into `X` and `Y`, you just need to put the file in your `data` folder. During mammography the doctor would be looking for something called `calcification`, which is calcium deposits in the breast tissue and is used as an indicator of cancer. In this dataset the `X` corresponds to some measurements, there are 6 features. The `Y` is a 0-1 label where 1 represents calcification and 0 does not.\n",
    "\n",
    "1. [3p] Split the data into three parts, train/test/validation where train is 60% of the data, test is 15% and validation is 25% of the data. Do not do this randomly, I have prepared a shuffling with a fixed seed, this way I can make sure that we all did the same splits. That is [train,test,validation] is the splitting layout.\n",
    "2. [4p] Train a machine learning model on the training data (you are free to choose it yourself). Hint: you could always try `LogisticRegression`, but for it to work well you would need `StandardScaler` and put everything in a `Pipeline`.\n",
    "3. [3p] Use the classification report from `Utils` and compute the intervals for precision-recall etc on the test set with `union_bound correction` with 95% confidence.\n",
    "4. [3p] You are interested in minimizing the average cost of your classifier, but first we must define it:\n",
    "    * If someone is calcified but classified as not, we say it costs 30 **(this is the worst scenario)** \n",
    "    * If someone is not calcified but classified as calcified, we say it costs 5 **(this probably only costs extra investigation)**\n",
    "    * If someone is calcified but classified as calcified, costs 0 **(We did the right thing, no cost)**\n",
    "    * If someone is not calcified but classified as not, costs 0 **(We did the right thing, no cost)**.\n",
    "\n",
    "complete filling the function `cost` to compute the cost of a prediction model under a certain prediction threshold (recall our precision recall lecture and the `predict_proba` function from trained models). What would be the cost of having a model that always classifies someone as not calcified on the test set?\n",
    "\n",
    "5. [4p] Now, we wish to select the threshold of our classifier that minimizes the cost, we do that by checking say 100 evenly spaced proposal thresholds between 0 and 1, and use our testing data to compute the cost.\n",
    "6. [4p] With your newly computed threshold value, compute the cost of putting this model in production by computing the cost using the validation data. Also provide a confidence interval of the cost using Hoeffdings inequality with a 95% confidence.\n",
    "7. [3p] Let $t$ be the threshold you found and $f$ the model you fitted, if we define the random variable\n",
    "$$\n",
    "    C = 30(1-1_{f(X)\\geq t})Y+5(1-Y)1_{f(X) \\geq t}\n",
    "$$\n",
    "then $C$ denotes the cost of a randomly chosen patient. In the above we are estimating $\\mathbb{E}[C]$ using the empirical mean. However, since the number of calcifications in the population is fairly small and our classifier probably has a fairly high precision for the $0$ class, then $C$ should have fairly small variance. Compute the empirical variance of $C$ on the validation set. What would be the confidence interval if we used Bennett's inequality instead of Hoeffding in point 6 but with the computed empirical variance as our guess for the variance?"
   ]
  },
  {
   "cell_type": "code",
   "execution_count": 1,
   "id": "459dafb6",
   "metadata": {
    "deletable": false,
    "execution": {
     "iopub.execute_input": "2023-12-19T15:18:10.828756Z",
     "iopub.status.busy": "2023-12-19T15:18:10.827570Z",
     "iopub.status.idle": "2023-12-19T15:18:11.061148Z",
     "shell.execute_reply": "2023-12-19T15:18:11.060328Z"
    },
    "lx_assignment_number": "4",
    "lx_assignment_type": "ASSIGNMENT",
    "lx_assignment_type2print": "Assignment",
    "lx_problem_cell_type": "PROBLEM",
    "lx_problem_number": "1",
    "lx_problem_points": "24"
   },
   "outputs": [],
   "source": [
    "import scipy.io as so\n",
    "import numpy as np\n",
    "data = so.loadmat('data/mammography.mat')\n",
    "\n",
    "np.random.seed(0)\n",
    "shuffle_index = np.arange(0,len(data['X']))\n",
    "np.random.shuffle(shuffle_index)\n",
    "\n",
    "X = data['X'][shuffle_index,:]\n",
    "Y = data['y'][shuffle_index,:].flatten()"
   ]
  },
  {
   "cell_type": "code",
   "execution_count": 2,
   "id": "59b0a14f",
   "metadata": {
    "deletable": false,
    "execution": {
     "iopub.execute_input": "2023-12-19T15:18:11.065444Z",
     "iopub.status.busy": "2023-12-19T15:18:11.065049Z",
     "iopub.status.idle": "2023-12-19T15:18:11.070298Z",
     "shell.execute_reply": "2023-12-19T15:18:11.069416Z"
    },
    "lx_assignment_number": "4",
    "lx_assignment_type": "ASSIGNMENT",
    "lx_assignment_type2print": "Assignment",
    "lx_problem_cell_type": "PROBLEM",
    "lx_problem_number": "1",
    "lx_problem_points": "24"
   },
   "outputs": [],
   "source": [
    "\n",
    "# Part 1\n",
    "\n",
    "# Split the X,Y into three parts, make sure that the sizes are\n",
    "# (6709, 6), (1677, 6), (2797, 6), (6709,), (1677,), (2797,)\n",
    "\n",
    "X_train, X_test, X_valid, Y_train, Y_test, Y_valid = X[:6709], X[6709:6709+1677], X[6709+1677:], Y[:6709], Y[6709:6709+1677], Y[6709+1677:]"
   ]
  },
  {
   "cell_type": "code",
   "execution_count": 3,
   "id": "788fd5b0",
   "metadata": {
    "deletable": false,
    "execution": {
     "iopub.execute_input": "2023-12-19T15:18:11.074404Z",
     "iopub.status.busy": "2023-12-19T15:18:11.074027Z",
     "iopub.status.idle": "2023-12-19T15:18:11.590860Z",
     "shell.execute_reply": "2023-12-19T15:18:11.589653Z"
    },
    "lx_assignment_number": "4",
    "lx_assignment_type": "ASSIGNMENT",
    "lx_assignment_type2print": "Assignment",
    "lx_problem_cell_type": "PROBLEM",
    "lx_problem_number": "1",
    "lx_problem_points": "24"
   },
   "outputs": [
    {
     "data": {
      "text/html": [
       "<style>#sk-container-id-1 {color: black;background-color: white;}#sk-container-id-1 pre{padding: 0;}#sk-container-id-1 div.sk-toggleable {background-color: white;}#sk-container-id-1 label.sk-toggleable__label {cursor: pointer;display: block;width: 100%;margin-bottom: 0;padding: 0.3em;box-sizing: border-box;text-align: center;}#sk-container-id-1 label.sk-toggleable__label-arrow:before {content: \"▸\";float: left;margin-right: 0.25em;color: #696969;}#sk-container-id-1 label.sk-toggleable__label-arrow:hover:before {color: black;}#sk-container-id-1 div.sk-estimator:hover label.sk-toggleable__label-arrow:before {color: black;}#sk-container-id-1 div.sk-toggleable__content {max-height: 0;max-width: 0;overflow: hidden;text-align: left;background-color: #f0f8ff;}#sk-container-id-1 div.sk-toggleable__content pre {margin: 0.2em;color: black;border-radius: 0.25em;background-color: #f0f8ff;}#sk-container-id-1 input.sk-toggleable__control:checked~div.sk-toggleable__content {max-height: 200px;max-width: 100%;overflow: auto;}#sk-container-id-1 input.sk-toggleable__control:checked~label.sk-toggleable__label-arrow:before {content: \"▾\";}#sk-container-id-1 div.sk-estimator input.sk-toggleable__control:checked~label.sk-toggleable__label {background-color: #d4ebff;}#sk-container-id-1 div.sk-label input.sk-toggleable__control:checked~label.sk-toggleable__label {background-color: #d4ebff;}#sk-container-id-1 input.sk-hidden--visually {border: 0;clip: rect(1px 1px 1px 1px);clip: rect(1px, 1px, 1px, 1px);height: 1px;margin: -1px;overflow: hidden;padding: 0;position: absolute;width: 1px;}#sk-container-id-1 div.sk-estimator {font-family: monospace;background-color: #f0f8ff;border: 1px dotted black;border-radius: 0.25em;box-sizing: border-box;margin-bottom: 0.5em;}#sk-container-id-1 div.sk-estimator:hover {background-color: #d4ebff;}#sk-container-id-1 div.sk-parallel-item::after {content: \"\";width: 100%;border-bottom: 1px solid gray;flex-grow: 1;}#sk-container-id-1 div.sk-label:hover label.sk-toggleable__label {background-color: #d4ebff;}#sk-container-id-1 div.sk-serial::before {content: \"\";position: absolute;border-left: 1px solid gray;box-sizing: border-box;top: 0;bottom: 0;left: 50%;z-index: 0;}#sk-container-id-1 div.sk-serial {display: flex;flex-direction: column;align-items: center;background-color: white;padding-right: 0.2em;padding-left: 0.2em;position: relative;}#sk-container-id-1 div.sk-item {position: relative;z-index: 1;}#sk-container-id-1 div.sk-parallel {display: flex;align-items: stretch;justify-content: center;background-color: white;position: relative;}#sk-container-id-1 div.sk-item::before, #sk-container-id-1 div.sk-parallel-item::before {content: \"\";position: absolute;border-left: 1px solid gray;box-sizing: border-box;top: 0;bottom: 0;left: 50%;z-index: -1;}#sk-container-id-1 div.sk-parallel-item {display: flex;flex-direction: column;z-index: 1;position: relative;background-color: white;}#sk-container-id-1 div.sk-parallel-item:first-child::after {align-self: flex-end;width: 50%;}#sk-container-id-1 div.sk-parallel-item:last-child::after {align-self: flex-start;width: 50%;}#sk-container-id-1 div.sk-parallel-item:only-child::after {width: 0;}#sk-container-id-1 div.sk-dashed-wrapped {border: 1px dashed gray;margin: 0 0.4em 0.5em 0.4em;box-sizing: border-box;padding-bottom: 0.4em;background-color: white;}#sk-container-id-1 div.sk-label label {font-family: monospace;font-weight: bold;display: inline-block;line-height: 1.2em;}#sk-container-id-1 div.sk-label-container {text-align: center;}#sk-container-id-1 div.sk-container {/* jupyter's `normalize.less` sets `[hidden] { display: none; }` but bootstrap.min.css set `[hidden] { display: none !important; }` so we also need the `!important` here to be able to override the default hidden behavior on the sphinx rendered scikit-learn.org. See: https://github.com/scikit-learn/scikit-learn/issues/21755 */display: inline-block !important;position: relative;}#sk-container-id-1 div.sk-text-repr-fallback {display: none;}</style><div id=\"sk-container-id-1\" class=\"sk-top-container\"><div class=\"sk-text-repr-fallback\"><pre>Pipeline(steps=[(&#x27;scaler&#x27;, StandardScaler()),\n",
       "                (&#x27;logreg&#x27;, LogisticRegression(max_iter=1000))])</pre><b>In a Jupyter environment, please rerun this cell to show the HTML representation or trust the notebook. <br />On GitHub, the HTML representation is unable to render, please try loading this page with nbviewer.org.</b></div><div class=\"sk-container\" hidden><div class=\"sk-item sk-dashed-wrapped\"><div class=\"sk-label-container\"><div class=\"sk-label sk-toggleable\"><input class=\"sk-toggleable__control sk-hidden--visually\" id=\"sk-estimator-id-1\" type=\"checkbox\" ><label for=\"sk-estimator-id-1\" class=\"sk-toggleable__label sk-toggleable__label-arrow\">Pipeline</label><div class=\"sk-toggleable__content\"><pre>Pipeline(steps=[(&#x27;scaler&#x27;, StandardScaler()),\n",
       "                (&#x27;logreg&#x27;, LogisticRegression(max_iter=1000))])</pre></div></div></div><div class=\"sk-serial\"><div class=\"sk-item\"><div class=\"sk-estimator sk-toggleable\"><input class=\"sk-toggleable__control sk-hidden--visually\" id=\"sk-estimator-id-2\" type=\"checkbox\" ><label for=\"sk-estimator-id-2\" class=\"sk-toggleable__label sk-toggleable__label-arrow\">StandardScaler</label><div class=\"sk-toggleable__content\"><pre>StandardScaler()</pre></div></div></div><div class=\"sk-item\"><div class=\"sk-estimator sk-toggleable\"><input class=\"sk-toggleable__control sk-hidden--visually\" id=\"sk-estimator-id-3\" type=\"checkbox\" ><label for=\"sk-estimator-id-3\" class=\"sk-toggleable__label sk-toggleable__label-arrow\">LogisticRegression</label><div class=\"sk-toggleable__content\"><pre>LogisticRegression(max_iter=1000)</pre></div></div></div></div></div></div></div>"
      ],
      "text/plain": [
       "Pipeline(steps=[('scaler', StandardScaler()),\n",
       "                ('logreg', LogisticRegression(max_iter=1000))])"
      ]
     },
     "execution_count": 3,
     "metadata": {},
     "output_type": "execute_result"
    }
   ],
   "source": [
    "\n",
    "# Part 2\n",
    "# Use X_train,Y_train to train a model from sklearn. Make sure it has the predict_proba function\n",
    "# for instance LogisticRegression\n",
    "\n",
    "from sklearn.pipeline import Pipeline\n",
    "from sklearn.preprocessing import StandardScaler\n",
    "from sklearn.linear_model import LogisticRegression\n",
    "\n",
    "# Create a pipeline with StandardScaler and LogisticRegression\n",
    "model = Pipeline([\n",
    "    ('scaler', StandardScaler()),  # First, scale the data\n",
    "    ('logreg', LogisticRegression(max_iter=1000))  # Then apply Logistic Regression\n",
    "])\n",
    "\n",
    "# Train the model on the training data\n",
    "model.fit(X_train, Y_train)"
   ]
  },
  {
   "cell_type": "code",
   "execution_count": 4,
   "id": "34d59dbe",
   "metadata": {
    "deletable": false,
    "execution": {
     "iopub.execute_input": "2023-12-19T15:18:11.599324Z",
     "iopub.status.busy": "2023-12-19T15:18:11.597834Z",
     "iopub.status.idle": "2023-12-19T15:18:11.624340Z",
     "shell.execute_reply": "2023-12-19T15:18:11.623399Z"
    },
    "lx_assignment_number": "4",
    "lx_assignment_type": "ASSIGNMENT",
    "lx_assignment_type2print": "Assignment",
    "lx_problem_cell_type": "PROBLEM",
    "lx_problem_number": "1",
    "lx_problem_points": "24"
   },
   "outputs": [
    {
     "name": "stdout",
     "output_type": "stream",
     "text": [
      "            labels           precision             recall\n",
      "\n",
      "                 0  0.98 : [0.94,1.00] 1.00 : [0.96,1.00]\n",
      "                 1  0.70 : [0.33,1.00] 0.36 : [0.09,0.62]\n",
      "\n",
      "          accuracy                                        0.98 : [0.94,1.00]\n",
      "\n"
     ]
    }
   ],
   "source": [
    "\n",
    "# Part 3\n",
    "\n",
    "# Compute precision and recall on the test set using \n",
    "from Utils import classification_report_interval\n",
    "\n",
    "# Use the model to predict on the test set\n",
    "y_pred_test = model.predict(X_test)\n",
    "\n",
    "# Generate the classification report with intervals\n",
    "report = classification_report_interval(Y_test, y_pred_test, alpha=0.05, union_bound_correction=True)\n",
    "\n",
    "# Print the report for visual inspection\n",
    "print(report)\n",
    "\n",
    "# Each precision and recall should be a tuple, for instance you can write\n",
    "# precision0 = (0.9,0.95)\n",
    "\n",
    "precision0 = (0.94,1.00)\n",
    "recall0 = (0.96,1.00)\n",
    "precision1 = (0.33,1.00)\n",
    "recall1 = (0.09,0.62)\n",
    "\n",
    "# The code below will check that you supply the proper type\n",
    "assert(type(precision0) == tuple)\n",
    "assert(len(precision0) == 2)\n",
    "assert(type(recall0) == tuple)\n",
    "assert(len(recall0) == 2)\n",
    "assert(type(precision1) == tuple)\n",
    "assert(len(precision1) == 2)\n",
    "assert(type(recall1) == tuple)\n",
    "assert(len(recall1) == 2)"
   ]
  },
  {
   "cell_type": "code",
   "execution_count": 5,
   "id": "b79697d2",
   "metadata": {
    "deletable": false,
    "execution": {
     "iopub.execute_input": "2023-12-19T15:18:11.629599Z",
     "iopub.status.busy": "2023-12-19T15:18:11.628373Z",
     "iopub.status.idle": "2023-12-19T15:18:11.643258Z",
     "shell.execute_reply": "2023-12-19T15:18:11.642018Z"
    },
    "lx_assignment_number": "4",
    "lx_assignment_type": "ASSIGNMENT",
    "lx_assignment_type2print": "Assignment",
    "lx_problem_cell_type": "PROBLEM",
    "lx_problem_number": "1",
    "lx_problem_points": "24"
   },
   "outputs": [],
   "source": [
    "\n",
    "# # Part 4\n",
    "\n",
    "# def cost(model,threshold,X,Y):\n",
    "#     pred_proba = model.predict_proba(X)[:,1]\n",
    "#     predictions = (pred_proba >= threshold)*1\n",
    "\n",
    "#     # Costs as per the conditions\n",
    "#     cost_false_negative = 30  # Calcified but classified as not\n",
    "#     cost_false_positive = 5   # Not calcified but classified as calcified\n",
    "\n",
    "#     # Calculate the cost\n",
    "#     false_negatives = ((predictions == 0) & (Y == 1)).sum()\n",
    "#     false_positives = ((predictions == 1) & (Y == 0)).sum()\n",
    "\n",
    "#     total_cost = (false_negatives * cost_false_negative) + (false_positives * cost_false_positive)\n",
    "#     average_cost = total_cost / len(Y)\n",
    "\n",
    "#     return average_cost\n",
    "\n",
    "\n",
    "# Part 4\n",
    "\n",
    "def cost(model,threshold,X,Y,return_array=False):\n",
    "    from numpy import array, mean\n",
    "    pred_proba = model.predict_proba(X)[:,1]\n",
    "    predictions = (pred_proba >= threshold)*1\n",
    "    \n",
    "    # Fill in what is missing to compute the cost and return it\n",
    "    # Note that we are interested in average cost (cost per person)\n",
    "    cost = []\n",
    "    for i in range(len(predictions)):\n",
    "        y_hat = predictions[i]\n",
    "        y_true = Y[i]\n",
    "        if y_true == 1 and y_hat == 0:\n",
    "            cost.append(30)\n",
    "        elif y_true == 0 and y_hat == 1:\n",
    "            cost.append(5)\n",
    "        else:\n",
    "            cost.append(0)\n",
    "        \n",
    "    if return_array:\n",
    "        return array(cost)\n",
    "    else:\n",
    "        return mean(cost)"
   ]
  },
  {
   "cell_type": "code",
   "execution_count": 6,
   "id": "0c249a80",
   "metadata": {
    "deletable": false,
    "execution": {
     "iopub.execute_input": "2023-12-19T15:18:11.648477Z",
     "iopub.status.busy": "2023-12-19T15:18:11.647568Z",
     "iopub.status.idle": "2023-12-19T15:18:11.677770Z",
     "shell.execute_reply": "2023-12-19T15:18:11.676653Z"
    },
    "lx_assignment_number": "4",
    "lx_assignment_type": "ASSIGNMENT",
    "lx_assignment_type2print": "Assignment",
    "lx_problem_cell_type": "PROBLEM",
    "lx_problem_number": "1",
    "lx_problem_points": "24"
   },
   "outputs": [
    {
     "name": "stdout",
     "output_type": "stream",
     "text": [
      "0.6976744186046512\n"
     ]
    }
   ],
   "source": [
    "\n",
    "# Part 4\n",
    "\n",
    "# Fill in the naive cost of the model that would classify all as non-calcified on the test set\n",
    "\n",
    "naive_cost = cost(model, 1.0, X_test, Y_test)\n",
    "\n",
    "print(naive_cost)"
   ]
  },
  {
   "cell_type": "code",
   "execution_count": 7,
   "id": "bc807908",
   "metadata": {
    "deletable": false,
    "execution": {
     "iopub.execute_input": "2023-12-19T15:18:11.683201Z",
     "iopub.status.busy": "2023-12-19T15:18:11.682717Z",
     "iopub.status.idle": "2023-12-19T15:18:13.966796Z",
     "shell.execute_reply": "2023-12-19T15:18:13.965706Z"
    },
    "lx_assignment_number": "4",
    "lx_assignment_type": "ASSIGNMENT",
    "lx_assignment_type2print": "Assignment",
    "lx_problem_cell_type": "PROBLEM",
    "lx_problem_number": "1",
    "lx_problem_points": "24"
   },
   "outputs": [
    {
     "name": "stdout",
     "output_type": "stream",
     "text": [
      "0.11111111111111112\n",
      "0.3518187239117472\n"
     ]
    }
   ],
   "source": [
    "\n",
    "# Part 5\n",
    "\n",
    "import numpy as np\n",
    "\n",
    "# Generate 100 evenly spaced thresholds between 0 and 1\n",
    "thresholds = np.linspace(0, 1, 100)\n",
    "\n",
    "# Initialize variables to store the optimal threshold and its cost\n",
    "optimal_threshold = None\n",
    "cost_at_optimal_threshold = float('inf')\n",
    "\n",
    "# Iterate over thresholds to find the one with the minimum cost\n",
    "for threshold in thresholds:\n",
    "    current_cost = cost(model, threshold, X_test, Y_test)\n",
    "    if current_cost < cost_at_optimal_threshold:\n",
    "        cost_at_optimal_threshold = current_cost\n",
    "        optimal_threshold = threshold\n",
    "\n",
    "print(optimal_threshold)\n",
    "print(cost_at_optimal_threshold)"
   ]
  },
  {
   "cell_type": "code",
   "execution_count": 8,
   "id": "53241350",
   "metadata": {
    "deletable": false,
    "execution": {
     "iopub.execute_input": "2023-12-19T15:18:13.972655Z",
     "iopub.status.busy": "2023-12-19T15:18:13.972174Z",
     "iopub.status.idle": "2023-12-19T15:18:14.062288Z",
     "shell.execute_reply": "2023-12-19T15:18:14.061264Z"
    },
    "lx_assignment_number": "4",
    "lx_assignment_type": "ASSIGNMENT",
    "lx_assignment_type2print": "Assignment",
    "lx_problem_cell_type": "PROBLEM",
    "lx_problem_number": "1",
    "lx_problem_points": "24"
   },
   "outputs": [
    {
     "name": "stdout",
     "output_type": "stream",
     "text": [
      "cost interval (0.0, 1.0617676271684535)\n"
     ]
    }
   ],
   "source": [
    "\n",
    "# # Part 6\n",
    "\n",
    "# import numpy as np\n",
    "# #from Utils import compute_confidence_interval_bounded\n",
    "# def compute_confidence_interval_bounded(data,delta,min_value=None,max_value=None):\n",
    "#     \"\"\"\n",
    "#     Uses the information P(X \\in [min_value,max_value]) = 1 and uses Hoeffding to compute\n",
    "#     the value of epsilon such that\n",
    "#         P(X - E[X] > epsilon) < \\delta\n",
    "#     then uses this to construct a 1-delta confidence interval, i.e. it\n",
    "#     simply computes [mean(data)-epsilon,mean(data)+epsilon]\n",
    "\n",
    "#     Parameters\n",
    "#     ----------\n",
    "#     point_estimate : the center of the interval\n",
    "#     delta : the confidence level\n",
    "#     min_value : replace (point_estimate-epsilon) with max(point_estimate-epsilon,min_value)\n",
    "#     max_value : replace (point_estimate-epsilon) with min(point_estimate-epsilon,max_value)\n",
    "\n",
    "#     Returns\n",
    "#     ----------\n",
    "#     interval: a tuple containing (l_edge,r_edge) of the confidence interval\n",
    "#     \"\"\"\n",
    "#     import numpy as np\n",
    "\n",
    "#     point_estimate = np.mean(data)\n",
    "#     epsilon = epsilon_bounded(len(data),max_value-min_value,delta)\n",
    "\n",
    "#     if (min_value != None):\n",
    "#         l_edge = np.maximum(point_estimate-epsilon,min_value)\n",
    "#     else:\n",
    "#         l_edge = point_estimate-epsilon\n",
    "\n",
    "#     if (max_value != None):\n",
    "#         r_edge = np.minimum(point_estimate+epsilon,max_value)\n",
    "#     else:\n",
    "#         r_edge = point_estimate+epsilon\n",
    "\n",
    "#     return (l_edge,r_edge)\n",
    "\n",
    "# # Compute the cost using the validation data and the optimal threshold\n",
    "# cost_at_optimal_threshold_validation = cost(model, optimal_threshold, X_valid, Y_valid)\n",
    "\n",
    "# # Hoeffding's Inequality to compute a 95% confidence interval\n",
    "# # Confidence interval for the mean of a Bernoulli variable is given by:\n",
    "# # mean ± sqrt((1/(2*N)) * log(2/alpha)), where N is the number of samples and alpha is the significance level\n",
    "\n",
    "# alpha = 0.025  # 95% confidence\n",
    "# N = len(Y_valid)\n",
    "# interval_radius = np.sqrt((1 / (2 * N)) * np.log(2 / alpha))\n",
    "# cost_lower_bound = max(cost_at_optimal_threshold_validation - interval_radius, 0)  # Ensuring lower bound is not negative\n",
    "# cost_upper_bound = min(cost_at_optimal_threshold_validation + interval_radius, 1)  # Ensuring upper bound does not exceed 1\n",
    "\n",
    "# # Report the cost interval as a tuple cost_interval = (a,b)\n",
    "# cost_interval = (cost_lower_bound, cost_upper_bound)\n",
    "\n",
    "# # Report the cost interval as a tuple cost_interval = (a,b)\n",
    "# cost_array = cost(model, optimal_threshold, X_valid, Y_valid) #return_array=True)\n",
    "# cost_interval = compute_confidence_interval_bounded(cost_array, .05, 0, 30)\n",
    "\n",
    "# print(cost_at_optimal_threshold_validation)\n",
    "# print(cost_interval)\n",
    "\n",
    "# # The code below will tell you if you filled in the intervals correctly\n",
    "# assert(type(cost_interval) == tuple)\n",
    "# assert(len(cost_interval) == 2) #0, 1.06\n",
    "\n",
    "from Utils import compute_confidence_interval_bounded\n",
    "# Part 6\n",
    "\n",
    "cost_at_optimal_threshold_validation = cost(model, optimal_threshold, X_valid, Y_valid)\n",
    "# Report the cost interval as a tuple cost_interval = (a,b)\n",
    "cost_array = cost(model, optimal_threshold, X_valid, Y_valid, return_array=True)\n",
    "cost_interval = compute_confidence_interval_bounded(cost_array, .05, 0, 30)\n",
    "print(f'cost interval {cost_interval}')\n",
    "\n",
    "# The code below will tell you if you filled in the intervals correctly\n",
    "assert(type(cost_interval) == tuple)\n",
    "assert(len(cost_interval) == 2)"
   ]
  },
  {
   "cell_type": "code",
   "execution_count": 9,
   "id": "e9c07b4e",
   "metadata": {
    "deletable": false,
    "execution": {
     "iopub.execute_input": "2023-12-19T15:18:14.067854Z",
     "iopub.status.busy": "2023-12-19T15:18:14.066947Z",
     "iopub.status.idle": "2023-12-19T15:18:14.078087Z",
     "shell.execute_reply": "2023-12-19T15:18:14.077053Z"
    },
    "lx_assignment_number": "4",
    "lx_assignment_type": "ASSIGNMENT",
    "lx_assignment_type2print": "Assignment",
    "lx_problem_cell_type": "PROBLEM",
    "lx_problem_number": "1",
    "lx_problem_points": "24"
   },
   "outputs": [
    {
     "name": "stdout",
     "output_type": "stream",
     "text": [
      "6.198613637958541\n"
     ]
    }
   ],
   "source": [
    "\n",
    "# Part 7\n",
    "\n",
    "# Calculate C for each patient in the validation set\n",
    "C = 30 * (1 - (model.predict_proba(X_valid)[:, 1] >= optimal_threshold)) * Y_valid + 5 * (1 - Y_valid) * (model.predict_proba(X_valid)[:, 1] >= optimal_threshold)\n",
    "\n",
    "# Compute the empirical variance of C\n",
    "variance_of_C = np.var(C)\n",
    "\n",
    "print(variance_of_C)"
   ]
  },
  {
   "cell_type": "code",
   "execution_count": 10,
   "id": "9a4dc2bc",
   "metadata": {
    "deletable": false,
    "execution": {
     "iopub.execute_input": "2023-12-19T15:18:14.083248Z",
     "iopub.status.busy": "2023-12-19T15:18:14.082351Z",
     "iopub.status.idle": "2023-12-19T15:18:14.093988Z",
     "shell.execute_reply": "2023-12-19T15:18:14.092869Z"
    },
    "lx_assignment_number": "4",
    "lx_assignment_type": "ASSIGNMENT",
    "lx_assignment_type2print": "Assignment",
    "lx_problem_cell_type": "PROBLEM",
    "lx_problem_number": "1",
    "lx_problem_points": "24"
   },
   "outputs": [
    {
     "name": "stdout",
     "output_type": "stream",
     "text": [
      "(0.15032651060387003, 0.43244074002180033)\n"
     ]
    }
   ],
   "source": [
    "\n",
    "# Part 7\n",
    "\n",
    "# Compute the 95% confidence interval using Bennett's inequality\n",
    "alpha = 0.05  # 95% confidence\n",
    "n = len(Y_valid)\n",
    "b = 30  # Upper bound of the cost\n",
    "mean_C = np.mean(C)\n",
    "term1 = np.sqrt(2 * variance_of_C * np.log(2 / alpha) / n)\n",
    "term2 = b * np.log(2 / alpha) / (3 * n)\n",
    "interval_of_C = (mean_C - term1 - term2, mean_C + term1 + term2)\n",
    "\n",
    "print(interval_of_C)\n",
    "\n",
    "assert(type(interval_of_C) == tuple)\n",
    "assert(len(interval_of_C) == 2)"
   ]
  },
  {
   "cell_type": "code",
   "execution_count": 11,
   "id": "9f16f99e",
   "metadata": {
    "deletable": false,
    "execution": {
     "iopub.execute_input": "2023-12-19T15:18:14.100817Z",
     "iopub.status.busy": "2023-12-19T15:18:14.100037Z",
     "iopub.status.idle": "2023-12-19T15:18:17.673994Z",
     "shell.execute_reply": "2023-12-19T15:18:17.671234Z"
    },
    "lx_assignment_number": "4",
    "lx_assignment_type": "ASSIGNMENT",
    "lx_assignment_type2print": "Assignment",
    "lx_problem_cell_type": "TEST",
    "lx_problem_number": "1",
    "lx_problem_points": "24",
    "lx_test_only": "True",
    "scrolled": false
   },
   "outputs": [
    {
     "name": "stdout",
     "output_type": "stream",
     "text": [
      "Numerical error -1.1102230246251565e-16\n",
      "Numerical error -1.1102230246251565e-16\n",
      "Beginning tests for problem 1\n",
      "\n",
      "---------------------------------\n",
      "Beginning test for part1\n",
      "---------------------------------\n",
      "\n",
      "-----Beginning test------\n",
      "Shape of X_train correct it is (6709,6)\n",
      "-----Ending test---------\n",
      "\n",
      "-----Beginning test------\n",
      "Shape of X_test correct it is (1677,6)\n",
      "-----Ending test---------\n",
      "\n",
      "-----Beginning test------\n",
      "Shape of X_valid correct it is (2797,6)\n",
      "-----Ending test---------\n",
      "\n",
      "-----Beginning test------\n",
      "Shape of Y_train correct it is (6709,)\n",
      "-----Ending test---------\n",
      "\n",
      "-----Beginning test------\n",
      "Shape of Y_test correct it is (1677,)\n",
      "-----Ending test---------\n",
      "\n",
      "-----Beginning test------\n",
      "Shape of Y_valid correct it is (2797,)\n",
      "-----Ending test---------\n",
      "\n",
      "---------------------------------\n",
      "Beginning test for part2\n",
      "---------------------------------\n",
      "\n",
      "-----Beginning test------\n",
      "Your model does produce the correct output shape when predict_proba is called on X_train\n",
      "-----Ending test---------\n",
      "\n",
      "-----Beginning test------\n",
      "Your model outperforms the naive classifier (always 0) on the trainig data, at least we learned something\n",
      "-----Ending test---------\n",
      "\n",
      "---------------------------------\n",
      "Beginning test for part3\n",
      "---------------------------------\n",
      "\n",
      "-----Beginning test------\n",
      "Setup for part 3 ran without issues\n",
      "-----Ending test---------\n",
      "\n",
      "-----Beginning test------\n",
      "precision0 lower edge correct\n",
      "-----Ending test---------\n",
      "\n",
      "-----Beginning test------\n",
      "precision0 upper edge correct\n",
      "-----Ending test---------\n",
      "\n",
      "-----Beginning test------\n",
      "precision1 lower edge correct\n",
      "-----Ending test---------\n",
      "\n",
      "-----Beginning test------\n",
      "precision1 upper edge correct\n",
      "-----Ending test---------\n",
      "\n",
      "-----Beginning test------\n",
      "recall0 lower edge correct\n",
      "-----Ending test---------\n",
      "\n",
      "-----Beginning test------\n",
      "recall0 upper edge correct\n",
      "-----Ending test---------\n",
      "\n",
      "-----Beginning test------\n",
      "recall1 lower edge correct\n",
      "-----Ending test---------\n",
      "\n",
      "-----Beginning test------\n",
      "recall1 upper edge correct\n",
      "-----Ending test---------\n",
      "\n",
      "---------------------------------\n",
      "Beginning test for part4\n",
      "---------------------------------\n",
      "\n",
      "-----Beginning test------\n",
      "Your cost function deviates less that 0.01 from a reference cost function on a test model at threshold 0.5\n",
      "-----Ending test---------\n",
      "\n",
      "-----Beginning test------\n",
      "Your naive cost is within 0.01 of 0.6976744186046512\n",
      "-----Ending test---------\n",
      "\n",
      "---------------------------------\n",
      "Beginning test for part5\n",
      "---------------------------------\n",
      "\n",
      "-----Beginning test------\n",
      "The cost at your optimal threshold is close enough to the minimum cost.\n",
      "-----Ending test---------\n",
      "\n",
      "-----Beginning test------\n",
      "Your cost at the optimal threshold was computed using your optimal threshold and your cost function and it agreed with your answer\n",
      "-----Ending test---------\n",
      "\n",
      "---------------------------------\n",
      "Beginning test for part6\n",
      "---------------------------------\n",
      "\n",
      "-----Beginning test------\n",
      "The cost at the optimal threshold validation agreed with the one computed using your model and cost function\n",
      "-----Ending test---------\n",
      "\n",
      "-----Beginning test------\n",
      "The lower edge of the cost_interval agreed with the one computed on your cost_at_optimal_threshold_validation\n",
      "-----Ending test---------\n",
      "\n",
      "-----Beginning test------\n",
      "The upper edge of the cost_interval agreed with the one computed on your cost_at_optimal_threshold_validation\n",
      "-----Ending test---------\n",
      "\n",
      "---------------------------------\n",
      "Beginning test for part7\n",
      "---------------------------------\n",
      "\n",
      "-----Beginning test------\n",
      "Your variance of C agreed with the reference within an error of 0.01\n",
      "-----Ending test---------\n",
      "\n",
      "-----Beginning test------\n",
      "The lower edge of the C interval agreed with reference within an error of 0.01\n",
      "-----Ending test---------\n",
      "\n",
      "-----Beginning test------\n",
      "The upper edge of the C interval agreed with reference within an error of 0.01\n",
      "-----Ending test---------\n",
      "\n",
      "\n",
      "All tests complete, you got = 24 points\n",
      "The number of points you have scored for this problem is 24 out of 24\n",
      " \n",
      " \n",
      " \n",
      "The number of points you have scored in total for this entire set of Problems is 24 out of 24\n"
     ]
    }
   ],
   "source": []
  }
 ],
 "metadata": {
  "language_info": {
   "codemirror_mode": {
    "name": "ipython",
    "version": 3
   },
   "file_extension": ".py",
   "mimetype": "text/x-python",
   "name": "python",
   "nbconvert_exporter": "python",
   "pygments_lexer": "ipython3",
   "version": "3.9.12"
  },
  "lx_assignment_number": 4,
  "lx_course_instance": "2023",
  "lx_course_name": "Introduction to Data Science",
  "lx_course_number": "1MS041"
 },
 "nbformat": 4,
 "nbformat_minor": 5
}

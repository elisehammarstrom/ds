{
 "cells": [
  {
   "cell_type": "markdown",
   "metadata": {
    "deletable": false
   },
   "source": [
    "# Assignment 1 for Course 1MS041\n",
    "Make         sure you pass the `# ... Test` cells and\n",
    " submit your solution notebook in the corresponding assignment on the course website. You can submit multiple times before the deadline         and your highest score will be used."
   ]
  },
  {
   "cell_type": "markdown",
   "metadata": {
    "deletable": false,
    "lx_assignment_number": "1",
    "lx_assignment_type": "ASSIGNMENT",
    "lx_assignment_type2print": "Assignment",
    "lx_problem_cell_type": "PROBLEM",
    "lx_problem_number": "1",
    "lx_problem_points": "3"
   },
   "source": [
    "---\n",
    "## Assignment 1, PROBLEM 1\n",
    "Maximum Points = 3"
   ]
  },
  {
   "cell_type": "markdown",
   "metadata": {
    "deletable": false,
    "lx_assignment_number": "1",
    "lx_assignment_type": "ASSIGNMENT",
    "lx_assignment_type2print": "Assignment",
    "lx_problem_cell_type": "PROBLEM",
    "lx_problem_number": "1",
    "lx_problem_points": "3"
   },
   "source": [
    "\n",
    "\n",
    "Given that you are being introduced to data science it is important to bear in mind the true costs of AI, a highly predictive family of algorithms used in data engineering sciences:\n",
    "\n",
    "Read the 16 pages of [ai-anatomy-publication.pdf](http://www.anatomyof.ai/img/ai-anatomy-publication.pdf) with the highly detailed [ai-anatomy-map.pdf](https://anatomyof.ai/img/ai-anatomy-map.pdf) of [https://anatomyof.ai/](https://anatomyof.ai/), \"Anatomy of an AI System\" By Kate Crawford and Vladan Joler (2018).  The first problem in ASSIGNMENT 1 is a trivial test of your reading comprehension.\n",
    "\n",
    "\n",
    "Answer whether each of the following statements is `True` or `False` *according to the authors* by appropriately replacing `Xxxxx` coresponding to `TruthValueOfStatement0a`, `TruthValueOfStatement0b` and `TruthValueOfStatement0c`, respectively, in the next cell to demonstrate your reading comprehension.\n",
    "\n",
    "1. `Statement0a =` *Each small moment of convenience (provided by Amazon's Echo) – be it answering a question, turning on a light, or playing a song – requires a vast planetary network, fueled by the extraction of non-renewable materials, labor, and data.*\n",
    "2. `Statement0b =` *The Echo user is simultaneously a consumer, a resource, a worker, and a product* \n",
    "3. `Statement0c =` *Many of the assumptions about human life made by machine learning systems are narrow, normative and laden with error. Yet they are inscribing and building those assumptions into a new world, and will increasingly play a role in how opportunities, wealth, and knowledge are distributed.*"
   ]
  },
  {
   "cell_type": "code",
   "execution_count": null,
   "metadata": {
    "deletable": false,
    "lx_assignment_number": "1",
    "lx_assignment_type": "ASSIGNMENT",
    "lx_assignment_type2print": "Assignment",
    "lx_problem_cell_type": "PROBLEM",
    "lx_problem_number": "1",
    "lx_problem_points": "3"
   },
   "outputs": [],
   "source": [
    "\n",
    "# Replace Xxxxx with True or False; Don't modify anything else in this cell!\n",
    "\n",
    "TruthValueOfStatement0a = True\n",
    "\n",
    "TruthValueOfStatement0b = True\n",
    "\n",
    "TruthValueOfStatement0c = True"
   ]
  },
  {
   "cell_type": "markdown",
   "metadata": {
    "deletable": false,
    "lx_assignment_number": "1",
    "lx_assignment_type": "ASSIGNMENT",
    "lx_assignment_type2print": "Assignment",
    "lx_problem_cell_type": "Test",
    "lx_problem_number": "1",
    "lx_problem_points": "3"
   },
   "source": [
    "---\n",
    "#### Local Test for Assignment 1, PROBLEM 1\n",
    "Evaluate cell below to make sure your answer is valid.                             You **should not** modify anything in the cell below when evaluating it to do a local test of                             your solution.\n",
    "You may need to include and evaluate code snippets from lecture notebooks in cells above to make the local test work correctly sometimes (see error messages for clues). This is meant to help you become efficient at recalling materials covered in lectures that relate to this problem. Such local tests will generally not be available in the exam."
   ]
  },
  {
   "cell_type": "code",
   "execution_count": null,
   "metadata": {
    "deletable": false,
    "lx_assignment_number": "1",
    "lx_assignment_type": "ASSIGNMENT",
    "lx_assignment_type2print": "Assignment",
    "lx_problem_cell_type": "Test",
    "lx_problem_number": "1",
    "lx_problem_points": "3"
   },
   "outputs": [],
   "source": [
    "# Test locally to ensure an acceptable answer, True or False\n",
    "try:\n",
    "    assert(isinstance(TruthValueOfStatement0a, bool)) \n",
    "    assert(isinstance(TruthValueOfStatement0b, bool)) \n",
    "    assert(isinstance(TruthValueOfStatement0c, bool))\n",
    "except:\n",
    "    print(\"Try again. You are not writing True or False for your answers.\")\n",
    "else:\n",
    "    print(\"Good, you have answered either True or False. Hopefully they are the correct answers!\")"
   ]
  },
  {
   "cell_type": "markdown",
   "metadata": {
    "deletable": false,
    "lx_assignment_number": "1",
    "lx_assignment_type": "ASSIGNMENT",
    "lx_assignment_type2print": "Assignment",
    "lx_problem_cell_type": "PROBLEM",
    "lx_problem_number": "2",
    "lx_problem_points": "2"
   },
   "source": [
    "---\n",
    "## Assignment 1, PROBLEM 2\n",
    "Maximum Points = 2"
   ]
  },
  {
   "cell_type": "markdown",
   "metadata": {
    "deletable": false,
    "lx_assignment_number": "1",
    "lx_assignment_type": "ASSIGNMENT",
    "lx_assignment_type2print": "Assignment",
    "lx_problem_cell_type": "PROBLEM",
    "lx_problem_number": "2",
    "lx_problem_points": "2"
   },
   "source": [
    "\n",
    "Evaluate the following cells by replacing `X` with the right command-line option to `head` in order to find the first four lines of the csv file `data/final.csv`\n",
    "\n",
    "```\n",
    "%%sh\n",
    "man head\n",
    "\n",
    "HEAD(1)                   BSD General Commands Manual                  HEAD(1)\n",
    "\n",
    "NAME\n",
    "     head -- display first lines of a file\n",
    "\n",
    "SYNOPSIS\n",
    "     head [-n count | -c bytes] [file ...]\n",
    "\n",
    "DESCRIPTION\n",
    "     This filter displays the first count lines or bytes of each of the speci-\n",
    "     fied files, or of the standard input if no files are specified.  If count\n",
    "     is omitted it defaults to 10.\n",
    "\n",
    "     If more than a single file is specified, each file is preceded by a\n",
    "     header consisting of the string ``==> XXX <=='' where ``XXX'' is the name\n",
    "     of the file.\n",
    "\n",
    "EXIT STATUS\n",
    "     The head utility exits 0 on success, and >0 if an error occurs.\n",
    "\n",
    "SEE ALSO\n",
    "     tail(1)\n",
    "\n",
    "HISTORY\n",
    "     The head command appeared in PWB UNIX.\n",
    "\n",
    "BSD                              June 6, 1993                              BSD\n",
    "```"
   ]
  },
  {
   "cell_type": "code",
   "execution_count": null,
   "metadata": {
    "deletable": false,
    "lx_assignment_number": "1",
    "lx_assignment_type": "ASSIGNMENT",
    "lx_assignment_type2print": "Assignment",
    "lx_problem_cell_type": "PROBLEM",
    "lx_problem_number": "2",
    "lx_problem_points": "2"
   },
   "outputs": [],
   "source": [
    "%%sh\n",
    "head -4 data/final.csv"
   ]
  },
  {
   "cell_type": "code",
   "execution_count": null,
   "metadata": {
    "deletable": false,
    "lx_assignment_number": "1",
    "lx_assignment_type": "ASSIGNMENT",
    "lx_assignment_type2print": "Assignment",
    "lx_problem_cell_type": "PROBLEM",
    "lx_problem_number": "2",
    "lx_problem_points": "2"
   },
   "outputs": [],
   "source": [
    "line_1_final = \"region,municipality,district,party,votes\"\n",
    "line_2_final = \"Blekinge län,Karlshamn,0 - Centrala Asarum,S,519\""
   ]
  },
  {
   "cell_type": "markdown",
   "metadata": {
    "deletable": false,
    "lx_assignment_number": "1",
    "lx_assignment_type": "ASSIGNMENT",
    "lx_assignment_type2print": "Assignment",
    "lx_problem_cell_type": "Test",
    "lx_problem_number": "2",
    "lx_problem_points": "2"
   },
   "source": [
    "---\n",
    "#### Local Test for Assignment 1, PROBLEM 2\n",
    "Evaluate cell below to make sure your answer is valid.                             You **should not** modify anything in the cell below when evaluating it to do a local test of                             your solution.\n",
    "You may need to include and evaluate code snippets from lecture notebooks in cells above to make the local test work correctly sometimes (see error messages for clues). This is meant to help you become efficient at recalling materials covered in lectures that relate to this problem. Such local tests will generally not be available in the exam."
   ]
  },
  {
   "cell_type": "code",
   "execution_count": null,
   "metadata": {
    "deletable": false,
    "lx_assignment_number": "1",
    "lx_assignment_type": "ASSIGNMENT",
    "lx_assignment_type2print": "Assignment",
    "lx_problem_cell_type": "Test",
    "lx_problem_number": "2",
    "lx_problem_points": "2"
   },
   "outputs": [],
   "source": [
    "# Evaluate this cell locally to make sure you have the answer as a string\n",
    "try:\n",
    "    assert(type(line_1_final) == str)\n",
    "    print(\"Good! You have answered as a string for line 1. Hopefully it is the correct!\")\n",
    "except AssertionError:\n",
    "    print(\"Try Again. You should answer with a string.\")\n",
    "try:\n",
    "    assert(type(line_2_final) == str)\n",
    "    print(\"Good! You have answered as a string for line 2. Hopefully it is the correct!\")\n",
    "except AssertionError:\n",
    "    print(\"Try Again. You should answer with a string.\")"
   ]
  },
  {
   "cell_type": "markdown",
   "metadata": {
    "deletable": false,
    "lx_assignment_number": "1",
    "lx_assignment_type": "ASSIGNMENT",
    "lx_assignment_type2print": "Assignment",
    "lx_problem_cell_type": "PROBLEM",
    "lx_problem_number": "3",
    "lx_problem_points": "3"
   },
   "source": [
    "---\n",
    "## Assignment 1, PROBLEM 3\n",
    "Maximum Points = 3"
   ]
  },
  {
   "cell_type": "markdown",
   "metadata": {
    "deletable": false,
    "lx_assignment_number": "1",
    "lx_assignment_type": "ASSIGNMENT",
    "lx_assignment_type2print": "Assignment",
    "lx_problem_cell_type": "PROBLEM",
    "lx_problem_number": "3",
    "lx_problem_points": "3"
   },
   "source": [
    "\n",
    "In this assignment the goal is to parse the `final.csv` file from the previous problem.\n",
    "\n",
    "1. Read the file `data/final.csv` and parse it using the `csv` package and store the result as follows\n",
    "\n",
    "the `header` variable contains a list of names all as strings\n",
    "\n",
    "the `data` variable should be a list of lists containing all the rows of the csv file"
   ]
  },
  {
   "cell_type": "code",
   "execution_count": null,
   "metadata": {
    "deletable": false,
    "lx_assignment_number": "1",
    "lx_assignment_type": "ASSIGNMENT",
    "lx_assignment_type2print": "Assignment",
    "lx_problem_cell_type": "PROBLEM",
    "lx_problem_number": "3",
    "lx_problem_points": "3"
   },
   "outputs": [],
   "source": [
    "import csv\n",
    "\n",
    "header = []\n",
    "data = []\n",
    "\n",
    "filepath = 'data/final.csv'\n",
    "\n",
    "with open(filepath,newline='') as file:\n",
    "    reader = csv.reader(file)\n",
    "    header = next(reader)\n",
    "    for row in reader:\n",
    "        data.append(row)"
   ]
  },
  {
   "cell_type": "markdown",
   "metadata": {
    "deletable": false,
    "lx_assignment_number": "1",
    "lx_assignment_type": "ASSIGNMENT",
    "lx_assignment_type2print": "Assignment",
    "lx_problem_cell_type": "Test",
    "lx_problem_number": "3",
    "lx_problem_points": "3"
   },
   "source": [
    "---\n",
    "#### Local Test for Assignment 1, PROBLEM 3\n",
    "Evaluate cell below to make sure your answer is valid.                             You **should not** modify anything in the cell below when evaluating it to do a local test of                             your solution.\n",
    "You may need to include and evaluate code snippets from lecture notebooks in cells above to make the local test work correctly sometimes (see error messages for clues). This is meant to help you become efficient at recalling materials covered in lectures that relate to this problem. Such local tests will generally not be available in the exam."
   ]
  },
  {
   "cell_type": "code",
   "execution_count": null,
   "metadata": {
    "deletable": false,
    "lx_assignment_number": "1",
    "lx_assignment_type": "ASSIGNMENT",
    "lx_assignment_type2print": "Assignment",
    "lx_problem_cell_type": "Test",
    "lx_problem_number": "3",
    "lx_problem_points": "3"
   },
   "outputs": [],
   "source": [
    "\n",
    "# Evaluate this cell locally to make sure you have the answer in the right format\n",
    "try:\n",
    "    assert(type(header) == list)\n",
    "    print(\"Good! You have the header as a list. Hopefully it is the correct!\")\n",
    "except AssertionError:\n",
    "    print(\"Try Again. You should answer with a list.\")\n",
    "try:\n",
    "    types = set([type(a) for a in header])\n",
    "    assert((len(types) == 1) and (list(types)[0] == str))\n",
    "    print(\"Good! You have the header as a list of strings. Hopefully it is the correct!\")\n",
    "except AssertionError:\n",
    "    print(\"Try Again. You should answer with a list of strings.\")\n",
    "try:\n",
    "    assert(type(data) == list)\n",
    "    print(\"Good! You have the data as a list. Hopefully it is the correct!\")\n",
    "except AssertionError:\n",
    "    print(\"Try Again. You should answer with a list.\")\n",
    "try:\n",
    "    types = set([type(a) for a in data])\n",
    "    assert((len(types) == 1) and (list(types)[0] == list))\n",
    "    print(\"Good! You have the data as a list of lists. Hopefully it is the correct!\")\n",
    "except AssertionError:\n",
    "    print(\"Try Again. You should answer with a list of lists.\")\n",
    "try:\n",
    "    types = set(sum([[type(d) for d in t] for t in data[:1]],[]))\n",
    "    assert((len(types) == 1) and (list(types)[0] == str))\n",
    "    print(\"Good! You have the data as a list of lists of strings. Hopefully it is the correct!\")\n",
    "except AssertionError:\n",
    "    print(\"Try Again. You should answer with a list of lists of strings.\")"
   ]
  },
  {
   "cell_type": "markdown",
   "metadata": {
    "deletable": false,
    "lx_assignment_number": "1",
    "lx_assignment_type": "ASSIGNMENT",
    "lx_assignment_type2print": "Assignment",
    "lx_problem_cell_type": "PROBLEM",
    "lx_problem_number": "4",
    "lx_problem_points": "8"
   },
   "source": [
    "---\n",
    "## Assignment 1, PROBLEM 4\n",
    "Maximum Points = 8"
   ]
  },
  {
   "cell_type": "markdown",
   "metadata": {
    "deletable": false,
    "lx_assignment_number": "1",
    "lx_assignment_type": "ASSIGNMENT",
    "lx_assignment_type2print": "Assignment",
    "lx_problem_cell_type": "PROBLEM",
    "lx_problem_number": "4",
    "lx_problem_points": "8"
   },
   "source": [
    "\n",
    "## Students passing exam (Sample exam problem)\n",
    "Let's say we have an exam question which consists of $10$ yes/no questions. \n",
    "From past performance of similar students, a randomly chosen student will know the correct answer to $N \\sim \\text{binom}(10,6/10)$ questions. Furthermore, we assume that the student will guess the answer with equal probability to each question they don't know the answer to, i.e. given $N$ we define $Z \\sim \\text{binom}(10-N,1/2)$ as the number of correctly guessed answers. Define $Y = N + Z$, i.e., $Y$ represents the number of total correct answers.\n",
    "\n",
    "We are interested in setting a deterministic threshold $T$, i.e., we would pass a student at threshold $T$ if $Y \\geq T$. Here $T \\in \\{0,1,2,\\ldots,10\\}$.\n",
    "\n",
    "1. [5p] For each threshold $T$, compute the probability that the student *knows* less than $5$ correct answers given that the student passed, i.e., $N < 5$. Put the answer in `problem11_probabilities` as a list.\n",
    "2. [3p] What is the smallest value of $T$ such that if $Y \\geq T$ then we are 90\\% certain that $N \\geq 5$?"
   ]
  },
  {
   "cell_type": "code",
   "execution_count": 1,
   "metadata": {},
   "outputs": [
    {
     "name": "stdout",
     "output_type": "stream",
     "text": [
      "P(N < 5 ∩ Y >= 0) / P(N < 5) = 0.000526\n",
      "P(N < 5 ∩ Y >= 1) / P(N < 5) = 0.008415\n",
      "P(N < 5 ∩ Y >= 2) / P(N < 5) = 0.061663\n",
      "P(N < 5 ∩ Y >= 3) / P(N < 5) = 0.274655\n",
      "P(N < 5 ∩ Y >= 4) / P(N < 5) = 0.833761\n",
      "P(N < 5 ∩ Y >= 5) / P(N < 5) = 0.833761\n",
      "P(N < 5 ∩ Y >= 6) / P(N < 5) = 0.833761\n",
      "P(N < 5 ∩ Y >= 7) / P(N < 5) = 0.833761\n",
      "P(N < 5 ∩ Y >= 8) / P(N < 5) = 0.833761\n",
      "P(N < 5 ∩ Y >= 9) / P(N < 5) = 0.833761\n",
      "P(N < 5 ∩ Y >= 10) / P(N < 5) = 0.833761\n"
     ]
    }
   ],
   "source": [
    "#extra cell, delete later\n",
    "\n",
    "from scipy.special import binom\n",
    "\n",
    "# Given probability\n",
    "p = 6/10\n",
    "\n",
    "# Define the probability distribution for N\n",
    "def p_N(k):\n",
    "    return binom(10, k) * ((1 - p) ** (10 - k)) * (p ** k)\n",
    "\n",
    "# Calculate P(N < 5)\n",
    "P_N_less_than_5 = sum(p_N(k) for k in range(5))\n",
    "\n",
    "# Calculate P(N < 5 ∩ Y >= T) for each T from 0 to 10\n",
    "result = []\n",
    "for T in range(11):\n",
    "    P_N_Y_ge_T = sum(p_N(k) for k in range(5, 11))\n",
    "    P_N_less_than_5_and_Y_ge_T = p_N(0) * (T >= 0) + p_N(1) * (T >= 1) + p_N(2) * (T >= 2) + p_N(3) * (T >= 3) + p_N(4) * (T >= 4)\n",
    "    result.append((P_N_Y_ge_T * P_N_less_than_5_and_Y_ge_T) / P_N_less_than_5)\n",
    "\n",
    "# Print the results for each T\n",
    "for T, probability in enumerate(result):\n",
    "    print(f\"P(N < 5 ∩ Y >= {T}) / P(N < 5) = {probability:.6f}\")\n"
   ]
  },
  {
   "cell_type": "code",
   "execution_count": null,
   "metadata": {
    "deletable": false,
    "lx_assignment_number": "1",
    "lx_assignment_type": "ASSIGNMENT",
    "lx_assignment_type2print": "Assignment",
    "lx_problem_cell_type": "PROBLEM",
    "lx_problem_number": "4",
    "lx_problem_points": "8"
   },
   "outputs": [],
   "source": [
    "\n",
    "# Hint the PMF of N is p_N(k) where p_N is\n",
    "from scipy.special import binom as binomial\n",
    "p = 6/10\n",
    "p_N = lambda k: binomial(10,k)*((1-p)**(10-k))*((p)**k)"
   ]
  },
  {
   "cell_type": "code",
   "execution_count": null,
   "metadata": {
    "deletable": false,
    "lx_assignment_number": "1",
    "lx_assignment_type": "ASSIGNMENT",
    "lx_assignment_type2print": "Assignment",
    "lx_problem_cell_type": "PROBLEM",
    "lx_problem_number": "4",
    "lx_problem_points": "8"
   },
   "outputs": [],
   "source": [
    "\n",
    "# Part 1: \n",
    "# replace XXX to represent P(N < 5) for T = [0,1,2,...,10], i.e. your answer should be a list\n",
    "# of length 11.\n",
    "problem11_probabilities = [0.8338, 0.8324, 0.8295, 0.8252, 0.8197, 0.8175, 0.8309, 0.8716, 0.9294, 0.9757, 0.9961]"
   ]
  },
  {
   "cell_type": "code",
   "execution_count": null,
   "metadata": {
    "deletable": false,
    "lx_assignment_number": "1",
    "lx_assignment_type": "ASSIGNMENT",
    "lx_assignment_type2print": "Assignment",
    "lx_problem_cell_type": "PROBLEM",
    "lx_problem_number": "4",
    "lx_problem_points": "8"
   },
   "outputs": [],
   "source": [
    "\n",
    "# Part 2: Give an integer between 0 and 10 which is the answer to 2.\n",
    "problem12_T = 8"
   ]
  },
  {
   "cell_type": "markdown",
   "metadata": {
    "deletable": false,
    "lx_assignment_number": "1",
    "lx_assignment_type": "ASSIGNMENT",
    "lx_assignment_type2print": "Assignment",
    "lx_problem_cell_type": "PROBLEM",
    "lx_problem_number": "5",
    "lx_problem_points": "8"
   },
   "source": [
    "---\n",
    "## Assignment 1, PROBLEM 5\n",
    "Maximum Points = 8"
   ]
  },
  {
   "cell_type": "markdown",
   "metadata": {
    "deletable": false,
    "lx_assignment_number": "1",
    "lx_assignment_type": "ASSIGNMENT",
    "lx_assignment_type2print": "Assignment",
    "lx_problem_cell_type": "PROBLEM",
    "lx_problem_number": "5",
    "lx_problem_points": "8"
   },
   "source": [
    "\n",
    "## Concentration of measure (Sample exam problem)\n",
    "\n",
    "As you recall, we said that concentration of measure was simply the phenomenon where we expect that the probability of a large deviation of some quantity becoming smaller as we observe more samples: [0.4 points per correct answer]\n",
    "\n",
    "1. Which of the following will exponentially concentrate, i.e. for some $C_1,C_2,C_3,C_4 $ \n",
    "$$\n",
    "    P(Z - \\mathbb{E}[Z] \\geq \\epsilon) \\leq C_1 e^{-C_2 n \\epsilon^2} \\wedge C_3 e^{-C_4 n (\\epsilon+1)} \\enspace .\n",
    "$$\n",
    "\n",
    "    1. The empirical variance of i.i.d. random variables with finite mean?\n",
    "    2. The empirical variance of i.i.d. sub-Gaussian random variables?\n",
    "    3. The empirical variance of i.i.d. sub-Exponential random variables?\n",
    "    4. The empirical mean of i.i.d. sub-Gaussian random variables?\n",
    "    5. The empirical mean of i.i.d. sub-Exponential random variables?\n",
    "    6. The empirical mean of i.i.d. random variables with finite variance?\n",
    "    7. The empirical third moment of i.i.d. random variables with finite sixth moment?\n",
    "    8. The empirical fourth moment of i.i.d. sub-Gaussian random variables?\n",
    "    9. The empirical mean of i.i.d. deterministic random variables?\n",
    "    10. The empirical tenth moment of i.i.d. Bernoulli random variables?\n",
    "\n",
    "2. Which of the above will concentrate in the weaker sense, that for some $C_1$\n",
    "$$\n",
    "    P(Z - \\mathbb{E}[Z] \\geq \\epsilon) \\leq \\frac{C_1}{n \\epsilon^2}?\n",
    "$$"
   ]
  },
  {
   "cell_type": "code",
   "execution_count": null,
   "metadata": {
    "deletable": false,
    "lx_assignment_number": "1",
    "lx_assignment_type": "ASSIGNMENT",
    "lx_assignment_type2print": "Assignment",
    "lx_problem_cell_type": "PROBLEM",
    "lx_problem_number": "5",
    "lx_problem_points": "8"
   },
   "outputs": [],
   "source": [
    "\n",
    "# Answers to part 1, which of the alternatives exponentially concentrate, answer as a list\n",
    "# i.e. [1,4,5] that is example 1, 4, and 5 concentrate\n",
    "problem3_answer_1 = [1,2,3,4,5,6,7,8,10] #Correct answers for part1: 4/10"
   ]
  },
  {
   "cell_type": "code",
   "execution_count": null,
   "metadata": {
    "deletable": false,
    "lx_assignment_number": "1",
    "lx_assignment_type": "ASSIGNMENT",
    "lx_assignment_type2print": "Assignment",
    "lx_problem_cell_type": "PROBLEM",
    "lx_problem_number": "5",
    "lx_problem_points": "8"
   },
   "outputs": [],
   "source": [
    "\n",
    "# Answers to part 2, which of the alternatives concentrate in the weaker sense, answer as a list\n",
    "# i.e. [1,4,5] that is example 1, 4, and 5 concentrate\n",
    "problem3_answer_2 = [1,2,3,4,5,6,8] #Correct answers for part2: 6/10\n",
    "\n",
    "#The number of points you have scored for this problem is 4 out of 8"
   ]
  }
 ],
 "metadata": {
  "kernelspec": {
   "display_name": "Python 3 (ipykernel)",
   "language": "python",
   "name": "python3"
  },
  "language_info": {
   "codemirror_mode": {
    "name": "ipython",
    "version": 3
   },
   "file_extension": ".py",
   "mimetype": "text/x-python",
   "name": "python",
   "nbconvert_exporter": "python",
   "pygments_lexer": "ipython3",
   "version": "3.10.9"
  },
  "lx_assignment_number": 1,
  "lx_course_instance": "2023",
  "lx_course_name": "Introduction to Data Science",
  "lx_course_number": "1MS041"
 },
 "nbformat": 4,
 "nbformat_minor": 4
}

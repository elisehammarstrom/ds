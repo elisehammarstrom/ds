{
 "cells": [
  {
   "cell_type": "markdown",
   "id": "a8ac0814",
   "metadata": {
    "deletable": false
   },
   "source": [
    "# Exam 15th of August 2023, 8.00-13.00 for the course 1MS041 (Introduction to Data Science / Introduktion till dataanalys)\n",
    "\n",
    "## Instructions:\n",
    "1. Complete the problems by following instructions.\n",
    "2. When done, submit this file with your solutions saved, following the instruction sheet.\n",
    "\n",
    "This exam has 3 problems for a total of 40 points, to pass you need\n",
    "20 points.\n",
    "\n",
    "## Some general hints and information:\n",
    "* Try to answer all questions even if you are uncertain.\n",
    "* Comment your code, so that if you get the wrong answer I can understand how you thought\n",
    "this can give you some points even though the code does not run.\n",
    "* Follow the instruction sheet rigorously.\n",
    "* This exam is partially autograded, but your code and your free text answers are manually graded anonymously.\n",
    "* If there are any questions, please ask the exam guards, they will escalate it to me if necessary.\n",
    "\n",
    "## Tips for free text answers\n",
    "* Be VERY clear with your reasoning, there should be zero ambiguity in what you are referring to.\n",
    "* If you want to include math, you can write LaTeX in the Markdown cells, for instance `$f(x)=x^2$` will be rendered as $f(x)=x^2$ and `$$f(x) = x^2$$` will become an equation line, as follows\n",
    "$$f(x) = x^2$$\n",
    "Another example is `$$f_{Y \\mid X}(y,x) = P(Y = y \\mid X = x) = \\exp(\\alpha \\cdot x + \\beta)$$` which renders as\n",
    "$$f_{Y \\mid X}(y,x) = P(Y = y \\mid X = x) = \\exp(\\alpha \\cdot x + \\beta)$$\n",
    "\n",
    "## Finally some rules:\n",
    "* You may not communicate with others during the exam, for example:\n",
    "    * You cannot ask for help in Stack-Overflow or other such help forums during the Exam.\n",
    "    * You may not communicate with AI's, for instance ChatGPT.\n",
    "    * Your on-line and off-line activity is being monitored according to the examination rules.\n",
    "\n",
    "## Good luck!"
   ]
  },
  {
   "cell_type": "code",
   "execution_count": 2,
   "id": "f2fdd277",
   "metadata": {
    "deletable": false
   },
   "outputs": [],
   "source": [
    "# Insert your anonymous exam ID as a string in the variable below\n",
    "examID=\"XXX\"\n"
   ]
  },
  {
   "cell_type": "markdown",
   "id": "e35cbad6",
   "metadata": {
    "deletable": false,
    "lx_assignment_number": "vB",
    "lx_assignment_type": "EXAM",
    "lx_assignment_type2print": "Exam",
    "lx_problem_cell_type": "PROBLEM",
    "lx_problem_number": "1",
    "lx_problem_points": "14"
   },
   "source": [
    "---\n",
    "## Exam vB, PROBLEM 1\n",
    "Maximum Points = 14"
   ]
  },
  {
   "cell_type": "markdown",
   "id": "a8f0504c",
   "metadata": {
    "deletable": false,
    "lx_assignment_number": "vB",
    "lx_assignment_type": "EXAM",
    "lx_assignment_type2print": "Exam",
    "lx_problem_cell_type": "PROBLEM",
    "lx_problem_number": "1",
    "lx_problem_points": "14"
   },
   "source": [
    "A courier company operates a fleet of delivery trucks that make deliveries to different parts of the city. The trucks are equipped with GPS tracking devices that record the location of each truck at regular intervals. The locations are divided into three regions: downtown, the suburbs, and the countryside, however there is always the possibility the truck breaks down and it goes to the workshop. The following table shows the probabilities of a truck transitioning between these regions at each time step:\n",
    "\n",
    "| Current region | Probability of transitioning to downtown | Probability of transitioning to the suburbs | Probability of transitioning to the countryside | Probability of transitioning to the Workshop |\n",
    "|-|-|-|-|-|\n",
    "| Downtown       | 0.3 | 0.7 | 0 | 0 |\n",
    "| Suburbs        | 0.2 | 0.5 | 0.3 | 0 |\n",
    "| Countryside    | 0 | 0 | 0.5 | 0.5 |\n",
    "| Workshop    | 0 | 0 | 0 | 1 |\n",
    "\n",
    "1. If a truck is currently in the downtown, what is the probability that it will be in the countryside region after 10 time steps? [2p]\n",
    "2. If a truck is currently in the downtown, what is the probability that it will be in the countryside region **the first time** after three time steps or more? [2p]\n",
    "3. Is this Markov chain irreducible? Explain your answer. [3p]\n",
    "4. What is the stationary distribution? Furthermore it it reversible? (Explain your answer) [3p]\n",
    "5. Advanced question: What is the expected number of steps it takes starting from the Downtown region to first reach the Workshop? Hint: to get within 1 decimal point, it is enough to compute the probabilities for hitting times below 50. Motivate your answer in detail [4p]. You could also solve this question by simulation, but this gives you a maximum of [2p].\n",
    "\n"
   ]
  },
  {
   "cell_type": "code",
   "execution_count": 3,
   "id": "8477d940",
   "metadata": {
    "deletable": false,
    "lx_assignment_number": "vB",
    "lx_assignment_type": "EXAM",
    "lx_assignment_type2print": "Exam",
    "lx_problem_cell_type": "PROBLEM",
    "lx_problem_number": "1",
    "lx_problem_points": "14"
   },
   "outputs": [
    {
     "name": "stdout",
     "output_type": "stream",
     "text": [
      "0.08487353489999999\n"
     ]
    }
   ],
   "source": [
    "# Part 1\n",
    "#initialize transition matrix as given\n",
    "import numpy as np\n",
    "P = np.matrix([[0.3,0.7,0,0],[0.2,0.5,0.3,0],[0,0,0.5,0.5],[0,0,0,1]])\n",
    "# Fill in the answer to part 1 below\n",
    "n = 10                     # assign some specific time-step\n",
    "p0 = np.matrix([1,0,0,0])    # initial probability vector for initial state (e.g. dry day zero)\n",
    "pn = p0 * P**n         # probability vector for day n\n",
    "pn[0,2]                       # probability of \"countryside\"\n",
    "\n",
    "problem1_p1 = pn[0,2]\n",
    "print(problem1_p1)"
   ]
  },
  {
   "cell_type": "code",
   "execution_count": 4,
   "id": "b254737c",
   "metadata": {
    "deletable": false,
    "lx_assignment_number": "vB",
    "lx_assignment_type": "EXAM",
    "lx_assignment_type2print": "Exam",
    "lx_problem_cell_type": "PROBLEM",
    "lx_problem_number": "1",
    "lx_problem_points": "14"
   },
   "outputs": [
    {
     "name": "stdout",
     "output_type": "stream",
     "text": [
      "0.79\n"
     ]
    }
   ],
   "source": [
    "# Part 2\n",
    "# Fill in the answer to part 2 below\n",
    "# only possible way to reach countryside too early is to go downtown -> suburbs-> countryside\n",
    "# in all other combinations, you reach the countryside after 3 time steps\n",
    "# prob. of reaching countryside already after two time steps = 0.7*0.3\n",
    "problem1_p2 = 1- 0.7*0.3\n",
    "print(problem1_p2)"
   ]
  },
  {
   "cell_type": "markdown",
   "id": "2c2c5f37",
   "metadata": {
    "deletable": false,
    "lx_assignment_number": "vB",
    "lx_assignment_type": "EXAM",
    "lx_assignment_type2print": "Exam",
    "lx_problem_cell_type": "PROBLEM",
    "lx_problem_number": "1",
    "lx_problem_points": "14"
   },
   "source": [
    "\n",
    "## Part 3\n",
    "\n",
    "Double click this cell to enter edit mode and write your answer for part 3 below this line.\n"
   ]
  },
  {
   "cell_type": "code",
   "execution_count": 5,
   "id": "74a1bace",
   "metadata": {
    "deletable": false,
    "lx_assignment_number": "vB",
    "lx_assignment_type": "EXAM",
    "lx_assignment_type2print": "Exam",
    "lx_problem_cell_type": "PROBLEM",
    "lx_problem_number": "1",
    "lx_problem_points": "14"
   },
   "outputs": [],
   "source": [
    "# Part 3\n",
    "\n",
    "# Fill in the answer to part 3 below as a boolean\n",
    "problem1_irreducible = False\n",
    "# When the truck moves to the workshop, it can never move out again / is stuck.\n",
    "# Therefore, no other state can be reached after the truck reached the workshop\n",
    "# -> not irreducable"
   ]
  },
  {
   "cell_type": "code",
   "execution_count": 6,
   "id": "be657d96",
   "metadata": {
    "deletable": false,
    "lx_assignment_number": "vB",
    "lx_assignment_type": "EXAM",
    "lx_assignment_type2print": "Exam",
    "lx_problem_cell_type": "PROBLEM",
    "lx_problem_number": "1",
    "lx_problem_points": "14"
   },
   "outputs": [
    {
     "name": "stdout",
     "output_type": "stream",
     "text": [
      "[[3.55866532e-105 8.67065843e-105 9.05399445e-105 1.00000000e+000]]\n"
     ]
    }
   ],
   "source": [
    "# Part 4\n",
    "import numpy as np\n",
    "# Fill in the answer to part 4 below\n",
    "# the answer should be a numpy array of length 3\n",
    "# make sure that the entries sums to 1!\n",
    "import numpy as np\n",
    "res = np.linalg.matrix_power(P,1000)\n",
    "print(res[1,:])\n",
    "problem1_stationary = [0,0,0,1]\n",
    "problem1_reversible = False\n",
    "# the markov chain is reducable and therefore also not reversible.\n",
    "# From state \"workshop\" you can never go back to any other state."
   ]
  },
  {
   "cell_type": "markdown",
   "id": "ce92b409",
   "metadata": {
    "deletable": false,
    "lx_assignment_number": "vB",
    "lx_assignment_type": "EXAM",
    "lx_assignment_type2print": "Exam",
    "lx_problem_cell_type": "PROBLEM",
    "lx_problem_number": "1",
    "lx_problem_points": "14"
   },
   "source": [
    "# Part 4\n",
    "\n",
    "Double click this cell and write your motivation below this line\n",
    "\n"
   ]
  },
  {
   "cell_type": "markdown",
   "id": "96857432",
   "metadata": {
    "deletable": false,
    "lx_assignment_number": "vB",
    "lx_assignment_type": "EXAM",
    "lx_assignment_type2print": "Exam",
    "lx_problem_cell_type": "PROBLEM",
    "lx_problem_number": "1",
    "lx_problem_points": "14"
   },
   "source": [
    "\n",
    "## Part 5\n",
    "\n",
    "Double click this cell to enter edit mode and write your answer for part 5 below this line.\n"
   ]
  },
  {
   "cell_type": "code",
   "execution_count": 7,
   "id": "42713a2d",
   "metadata": {
    "deletable": false,
    "lx_assignment_number": "vB",
    "lx_assignment_type": "EXAM",
    "lx_assignment_type2print": "Exam",
    "lx_problem_cell_type": "PROBLEM",
    "lx_problem_number": "1",
    "lx_problem_points": "14"
   },
   "outputs": [
    {
     "name": "stdout",
     "output_type": "stream",
     "text": [
      "7.713315600321836\n"
     ]
    }
   ],
   "source": [
    "# Part 5\n",
    "\n",
    "# Fill in the answer to part 5 below\n",
    "# That is, the expected number of steps\n",
    "\n",
    "P1 = np.matrix([[0.3,0.7,0],[0.2,0.5,0.3],[0,0,0.5]])\n",
    "p0 = np.matrix((1,0,0)) \n",
    "solution = np.sum([t*p0@np.linalg.matrix_power(P1,t-1)@np.array([P[0,3],P[1,3],P[2,3]])for t in range(1,50)])\n",
    "print(solution)\n",
    "problem1_ET = solution"
   ]
  },
  {
   "cell_type": "markdown",
   "id": "9cdae0c7",
   "metadata": {
    "deletable": false,
    "lx_assignment_number": "vB",
    "lx_assignment_type": "EXAM",
    "lx_assignment_type2print": "Exam",
    "lx_problem_cell_type": "PROBLEM",
    "lx_problem_number": "2",
    "lx_problem_points": "13"
   },
   "source": [
    "---\n",
    "## Exam vB, PROBLEM 2\n",
    "Maximum Points = 13"
   ]
  },
  {
   "cell_type": "markdown",
   "id": "ab20c652",
   "metadata": {
    "deletable": false,
    "lx_assignment_number": "vB",
    "lx_assignment_type": "EXAM",
    "lx_assignment_type2print": "Exam",
    "lx_problem_cell_type": "PROBLEM",
    "lx_problem_number": "2",
    "lx_problem_points": "13"
   },
   "source": [
    "\n",
    "You are given a \"Data Science Salaries\" dataset found in `data/salaries.csv`, which contains employment information of data scientists up to 2023 and the salary obtained. Your task is to train a `linear regression` model to predict the salary of a data scientist based on the employment information.\n",
    "\n",
    "To evaluate your model, you will split the dataset into a training set and a testing set. You will use the training set to train your model, and the testing set to evaluate its performance.\n",
    "\n",
    "`Experience level`: 0 = Entry Level, 1 = Mid Level, 2 = Senior Level, 3 = Executive Level.\n",
    "\n",
    "`Employment type`: 0 = Part Time, 1 = Full Time, 2 = Contractor, 3 = Freelancer\n",
    "\n",
    "1. Load the data into a pandas dataframe `problem2_df`. Based on the column names, figure out what are the features and the target and fill in the answer in the correct cell below. [1p]\n",
    "2. Split the data into train and test. [1p]\n",
    "3. Train the model. [1p]\n",
    "4. Come up with a reasonable metric and compute it. Provide plots that show the performance of the model. Reason about the performance. [4p]\n",
    "5. Predict the 2023 salary of a data scientist that works full time (1) at mid employment level (1) with 0 remote ratio. Then, looking at the output of `problem2_model.coef_`, which are the coefficients of the linear model, would a higher remote ratio result in a higher predicted salary or vice versa? [3p]\n",
    "6. Advanced question: On the test set, plot the empirical distribution function of the residual with confidence bands (i.e. using the DKW inequality and 95% confidence). What does the confidence band tell us? What can the confidence band be used for? [3p]\n"
   ]
  },
  {
   "cell_type": "code",
   "execution_count": 8,
   "id": "69725ca9",
   "metadata": {
    "deletable": false,
    "lx_assignment_number": "vB",
    "lx_assignment_type": "EXAM",
    "lx_assignment_type2print": "Exam",
    "lx_problem_cell_type": "PROBLEM",
    "lx_problem_number": "2",
    "lx_problem_points": "13"
   },
   "outputs": [
    {
     "ename": "FileNotFoundError",
     "evalue": "[Errno 2] No such file or directory: 'salaries.csv.xls'",
     "output_type": "error",
     "traceback": [
      "\u001b[1;31m---------------------------------------------------------------------------\u001b[0m",
      "\u001b[1;31mFileNotFoundError\u001b[0m                         Traceback (most recent call last)",
      "Cell \u001b[1;32mIn[8], line 5\u001b[0m\n\u001b[0;32m      1\u001b[0m \u001b[38;5;66;03m# Part 1\u001b[39;00m\n\u001b[0;32m      2\u001b[0m \u001b[38;5;66;03m# Let problem2_df be the pandas dataframe that contains the data from the file\u001b[39;00m\n\u001b[0;32m      3\u001b[0m \u001b[38;5;66;03m# data/abalone.csv\u001b[39;00m\n\u001b[0;32m      4\u001b[0m \u001b[38;5;28;01mimport\u001b[39;00m \u001b[38;5;21;01mpandas\u001b[39;00m \u001b[38;5;28;01mas\u001b[39;00m \u001b[38;5;21;01mpd\u001b[39;00m\n\u001b[1;32m----> 5\u001b[0m problem2_df \u001b[38;5;241m=\u001b[39m pd\u001b[38;5;241m.\u001b[39mread_csv(\u001b[38;5;124m\"\u001b[39m\u001b[38;5;124msalaries.csv.xls\u001b[39m\u001b[38;5;124m\"\u001b[39m)\n",
      "File \u001b[1;32mc:\\Users\\Ellaa\\anaconda3\\envs\\ds\\Lib\\site-packages\\pandas\\io\\parsers\\readers.py:948\u001b[0m, in \u001b[0;36mread_csv\u001b[1;34m(filepath_or_buffer, sep, delimiter, header, names, index_col, usecols, dtype, engine, converters, true_values, false_values, skipinitialspace, skiprows, skipfooter, nrows, na_values, keep_default_na, na_filter, verbose, skip_blank_lines, parse_dates, infer_datetime_format, keep_date_col, date_parser, date_format, dayfirst, cache_dates, iterator, chunksize, compression, thousands, decimal, lineterminator, quotechar, quoting, doublequote, escapechar, comment, encoding, encoding_errors, dialect, on_bad_lines, delim_whitespace, low_memory, memory_map, float_precision, storage_options, dtype_backend)\u001b[0m\n\u001b[0;32m    935\u001b[0m kwds_defaults \u001b[38;5;241m=\u001b[39m _refine_defaults_read(\n\u001b[0;32m    936\u001b[0m     dialect,\n\u001b[0;32m    937\u001b[0m     delimiter,\n\u001b[1;32m   (...)\u001b[0m\n\u001b[0;32m    944\u001b[0m     dtype_backend\u001b[38;5;241m=\u001b[39mdtype_backend,\n\u001b[0;32m    945\u001b[0m )\n\u001b[0;32m    946\u001b[0m kwds\u001b[38;5;241m.\u001b[39mupdate(kwds_defaults)\n\u001b[1;32m--> 948\u001b[0m \u001b[38;5;28;01mreturn\u001b[39;00m _read(filepath_or_buffer, kwds)\n",
      "File \u001b[1;32mc:\\Users\\Ellaa\\anaconda3\\envs\\ds\\Lib\\site-packages\\pandas\\io\\parsers\\readers.py:611\u001b[0m, in \u001b[0;36m_read\u001b[1;34m(filepath_or_buffer, kwds)\u001b[0m\n\u001b[0;32m    608\u001b[0m _validate_names(kwds\u001b[38;5;241m.\u001b[39mget(\u001b[38;5;124m\"\u001b[39m\u001b[38;5;124mnames\u001b[39m\u001b[38;5;124m\"\u001b[39m, \u001b[38;5;28;01mNone\u001b[39;00m))\n\u001b[0;32m    610\u001b[0m \u001b[38;5;66;03m# Create the parser.\u001b[39;00m\n\u001b[1;32m--> 611\u001b[0m parser \u001b[38;5;241m=\u001b[39m TextFileReader(filepath_or_buffer, \u001b[38;5;241m*\u001b[39m\u001b[38;5;241m*\u001b[39mkwds)\n\u001b[0;32m    613\u001b[0m \u001b[38;5;28;01mif\u001b[39;00m chunksize \u001b[38;5;129;01mor\u001b[39;00m iterator:\n\u001b[0;32m    614\u001b[0m     \u001b[38;5;28;01mreturn\u001b[39;00m parser\n",
      "File \u001b[1;32mc:\\Users\\Ellaa\\anaconda3\\envs\\ds\\Lib\\site-packages\\pandas\\io\\parsers\\readers.py:1448\u001b[0m, in \u001b[0;36mTextFileReader.__init__\u001b[1;34m(self, f, engine, **kwds)\u001b[0m\n\u001b[0;32m   1445\u001b[0m     \u001b[38;5;28mself\u001b[39m\u001b[38;5;241m.\u001b[39moptions[\u001b[38;5;124m\"\u001b[39m\u001b[38;5;124mhas_index_names\u001b[39m\u001b[38;5;124m\"\u001b[39m] \u001b[38;5;241m=\u001b[39m kwds[\u001b[38;5;124m\"\u001b[39m\u001b[38;5;124mhas_index_names\u001b[39m\u001b[38;5;124m\"\u001b[39m]\n\u001b[0;32m   1447\u001b[0m \u001b[38;5;28mself\u001b[39m\u001b[38;5;241m.\u001b[39mhandles: IOHandles \u001b[38;5;241m|\u001b[39m \u001b[38;5;28;01mNone\u001b[39;00m \u001b[38;5;241m=\u001b[39m \u001b[38;5;28;01mNone\u001b[39;00m\n\u001b[1;32m-> 1448\u001b[0m \u001b[38;5;28mself\u001b[39m\u001b[38;5;241m.\u001b[39m_engine \u001b[38;5;241m=\u001b[39m \u001b[38;5;28mself\u001b[39m\u001b[38;5;241m.\u001b[39m_make_engine(f, \u001b[38;5;28mself\u001b[39m\u001b[38;5;241m.\u001b[39mengine)\n",
      "File \u001b[1;32mc:\\Users\\Ellaa\\anaconda3\\envs\\ds\\Lib\\site-packages\\pandas\\io\\parsers\\readers.py:1705\u001b[0m, in \u001b[0;36mTextFileReader._make_engine\u001b[1;34m(self, f, engine)\u001b[0m\n\u001b[0;32m   1703\u001b[0m     \u001b[38;5;28;01mif\u001b[39;00m \u001b[38;5;124m\"\u001b[39m\u001b[38;5;124mb\u001b[39m\u001b[38;5;124m\"\u001b[39m \u001b[38;5;129;01mnot\u001b[39;00m \u001b[38;5;129;01min\u001b[39;00m mode:\n\u001b[0;32m   1704\u001b[0m         mode \u001b[38;5;241m+\u001b[39m\u001b[38;5;241m=\u001b[39m \u001b[38;5;124m\"\u001b[39m\u001b[38;5;124mb\u001b[39m\u001b[38;5;124m\"\u001b[39m\n\u001b[1;32m-> 1705\u001b[0m \u001b[38;5;28mself\u001b[39m\u001b[38;5;241m.\u001b[39mhandles \u001b[38;5;241m=\u001b[39m get_handle(\n\u001b[0;32m   1706\u001b[0m     f,\n\u001b[0;32m   1707\u001b[0m     mode,\n\u001b[0;32m   1708\u001b[0m     encoding\u001b[38;5;241m=\u001b[39m\u001b[38;5;28mself\u001b[39m\u001b[38;5;241m.\u001b[39moptions\u001b[38;5;241m.\u001b[39mget(\u001b[38;5;124m\"\u001b[39m\u001b[38;5;124mencoding\u001b[39m\u001b[38;5;124m\"\u001b[39m, \u001b[38;5;28;01mNone\u001b[39;00m),\n\u001b[0;32m   1709\u001b[0m     compression\u001b[38;5;241m=\u001b[39m\u001b[38;5;28mself\u001b[39m\u001b[38;5;241m.\u001b[39moptions\u001b[38;5;241m.\u001b[39mget(\u001b[38;5;124m\"\u001b[39m\u001b[38;5;124mcompression\u001b[39m\u001b[38;5;124m\"\u001b[39m, \u001b[38;5;28;01mNone\u001b[39;00m),\n\u001b[0;32m   1710\u001b[0m     memory_map\u001b[38;5;241m=\u001b[39m\u001b[38;5;28mself\u001b[39m\u001b[38;5;241m.\u001b[39moptions\u001b[38;5;241m.\u001b[39mget(\u001b[38;5;124m\"\u001b[39m\u001b[38;5;124mmemory_map\u001b[39m\u001b[38;5;124m\"\u001b[39m, \u001b[38;5;28;01mFalse\u001b[39;00m),\n\u001b[0;32m   1711\u001b[0m     is_text\u001b[38;5;241m=\u001b[39mis_text,\n\u001b[0;32m   1712\u001b[0m     errors\u001b[38;5;241m=\u001b[39m\u001b[38;5;28mself\u001b[39m\u001b[38;5;241m.\u001b[39moptions\u001b[38;5;241m.\u001b[39mget(\u001b[38;5;124m\"\u001b[39m\u001b[38;5;124mencoding_errors\u001b[39m\u001b[38;5;124m\"\u001b[39m, \u001b[38;5;124m\"\u001b[39m\u001b[38;5;124mstrict\u001b[39m\u001b[38;5;124m\"\u001b[39m),\n\u001b[0;32m   1713\u001b[0m     storage_options\u001b[38;5;241m=\u001b[39m\u001b[38;5;28mself\u001b[39m\u001b[38;5;241m.\u001b[39moptions\u001b[38;5;241m.\u001b[39mget(\u001b[38;5;124m\"\u001b[39m\u001b[38;5;124mstorage_options\u001b[39m\u001b[38;5;124m\"\u001b[39m, \u001b[38;5;28;01mNone\u001b[39;00m),\n\u001b[0;32m   1714\u001b[0m )\n\u001b[0;32m   1715\u001b[0m \u001b[38;5;28;01massert\u001b[39;00m \u001b[38;5;28mself\u001b[39m\u001b[38;5;241m.\u001b[39mhandles \u001b[38;5;129;01mis\u001b[39;00m \u001b[38;5;129;01mnot\u001b[39;00m \u001b[38;5;28;01mNone\u001b[39;00m\n\u001b[0;32m   1716\u001b[0m f \u001b[38;5;241m=\u001b[39m \u001b[38;5;28mself\u001b[39m\u001b[38;5;241m.\u001b[39mhandles\u001b[38;5;241m.\u001b[39mhandle\n",
      "File \u001b[1;32mc:\\Users\\Ellaa\\anaconda3\\envs\\ds\\Lib\\site-packages\\pandas\\io\\common.py:863\u001b[0m, in \u001b[0;36mget_handle\u001b[1;34m(path_or_buf, mode, encoding, compression, memory_map, is_text, errors, storage_options)\u001b[0m\n\u001b[0;32m    858\u001b[0m \u001b[38;5;28;01melif\u001b[39;00m \u001b[38;5;28misinstance\u001b[39m(handle, \u001b[38;5;28mstr\u001b[39m):\n\u001b[0;32m    859\u001b[0m     \u001b[38;5;66;03m# Check whether the filename is to be opened in binary mode.\u001b[39;00m\n\u001b[0;32m    860\u001b[0m     \u001b[38;5;66;03m# Binary mode does not support 'encoding' and 'newline'.\u001b[39;00m\n\u001b[0;32m    861\u001b[0m     \u001b[38;5;28;01mif\u001b[39;00m ioargs\u001b[38;5;241m.\u001b[39mencoding \u001b[38;5;129;01mand\u001b[39;00m \u001b[38;5;124m\"\u001b[39m\u001b[38;5;124mb\u001b[39m\u001b[38;5;124m\"\u001b[39m \u001b[38;5;129;01mnot\u001b[39;00m \u001b[38;5;129;01min\u001b[39;00m ioargs\u001b[38;5;241m.\u001b[39mmode:\n\u001b[0;32m    862\u001b[0m         \u001b[38;5;66;03m# Encoding\u001b[39;00m\n\u001b[1;32m--> 863\u001b[0m         handle \u001b[38;5;241m=\u001b[39m \u001b[38;5;28mopen\u001b[39m(\n\u001b[0;32m    864\u001b[0m             handle,\n\u001b[0;32m    865\u001b[0m             ioargs\u001b[38;5;241m.\u001b[39mmode,\n\u001b[0;32m    866\u001b[0m             encoding\u001b[38;5;241m=\u001b[39mioargs\u001b[38;5;241m.\u001b[39mencoding,\n\u001b[0;32m    867\u001b[0m             errors\u001b[38;5;241m=\u001b[39merrors,\n\u001b[0;32m    868\u001b[0m             newline\u001b[38;5;241m=\u001b[39m\u001b[38;5;124m\"\u001b[39m\u001b[38;5;124m\"\u001b[39m,\n\u001b[0;32m    869\u001b[0m         )\n\u001b[0;32m    870\u001b[0m     \u001b[38;5;28;01melse\u001b[39;00m:\n\u001b[0;32m    871\u001b[0m         \u001b[38;5;66;03m# Binary mode\u001b[39;00m\n\u001b[0;32m    872\u001b[0m         handle \u001b[38;5;241m=\u001b[39m \u001b[38;5;28mopen\u001b[39m(handle, ioargs\u001b[38;5;241m.\u001b[39mmode)\n",
      "\u001b[1;31mFileNotFoundError\u001b[0m: [Errno 2] No such file or directory: 'salaries.csv.xls'"
     ]
    }
   ],
   "source": [
    "# Part 1\n",
    "# Let problem2_df be the pandas dataframe that contains the data from the file\n",
    "# data/abalone.csv\n",
    "import pandas as pd\n",
    "problem2_df = pd.read_csv(\"salaries.csv.xls\")\n"
   ]
  },
  {
   "cell_type": "code",
   "execution_count": null,
   "id": "6be13305",
   "metadata": {},
   "outputs": [
    {
     "data": {
      "text/html": [
       "<div>\n",
       "<style scoped>\n",
       "    .dataframe tbody tr th:only-of-type {\n",
       "        vertical-align: middle;\n",
       "    }\n",
       "\n",
       "    .dataframe tbody tr th {\n",
       "        vertical-align: top;\n",
       "    }\n",
       "\n",
       "    .dataframe thead th {\n",
       "        text-align: right;\n",
       "    }\n",
       "</style>\n",
       "<table border=\"1\" class=\"dataframe\">\n",
       "  <thead>\n",
       "    <tr style=\"text-align: right;\">\n",
       "      <th></th>\n",
       "      <th>work_year</th>\n",
       "      <th>experience_level</th>\n",
       "      <th>employment_type</th>\n",
       "      <th>salary_in_usd</th>\n",
       "      <th>remote_ratio</th>\n",
       "    </tr>\n",
       "  </thead>\n",
       "  <tbody>\n",
       "    <tr>\n",
       "      <th>0</th>\n",
       "      <td>2023</td>\n",
       "      <td>2</td>\n",
       "      <td>1</td>\n",
       "      <td>85847</td>\n",
       "      <td>100</td>\n",
       "    </tr>\n",
       "    <tr>\n",
       "      <th>1</th>\n",
       "      <td>2023</td>\n",
       "      <td>1</td>\n",
       "      <td>2</td>\n",
       "      <td>30000</td>\n",
       "      <td>100</td>\n",
       "    </tr>\n",
       "    <tr>\n",
       "      <th>2</th>\n",
       "      <td>2023</td>\n",
       "      <td>1</td>\n",
       "      <td>2</td>\n",
       "      <td>25500</td>\n",
       "      <td>100</td>\n",
       "    </tr>\n",
       "    <tr>\n",
       "      <th>3</th>\n",
       "      <td>2023</td>\n",
       "      <td>2</td>\n",
       "      <td>1</td>\n",
       "      <td>175000</td>\n",
       "      <td>100</td>\n",
       "    </tr>\n",
       "    <tr>\n",
       "      <th>4</th>\n",
       "      <td>2023</td>\n",
       "      <td>2</td>\n",
       "      <td>1</td>\n",
       "      <td>120000</td>\n",
       "      <td>100</td>\n",
       "    </tr>\n",
       "    <tr>\n",
       "      <th>...</th>\n",
       "      <td>...</td>\n",
       "      <td>...</td>\n",
       "      <td>...</td>\n",
       "      <td>...</td>\n",
       "      <td>...</td>\n",
       "    </tr>\n",
       "    <tr>\n",
       "      <th>3750</th>\n",
       "      <td>2020</td>\n",
       "      <td>2</td>\n",
       "      <td>1</td>\n",
       "      <td>412000</td>\n",
       "      <td>100</td>\n",
       "    </tr>\n",
       "    <tr>\n",
       "      <th>3751</th>\n",
       "      <td>2021</td>\n",
       "      <td>1</td>\n",
       "      <td>1</td>\n",
       "      <td>151000</td>\n",
       "      <td>100</td>\n",
       "    </tr>\n",
       "    <tr>\n",
       "      <th>3752</th>\n",
       "      <td>2020</td>\n",
       "      <td>0</td>\n",
       "      <td>1</td>\n",
       "      <td>105000</td>\n",
       "      <td>100</td>\n",
       "    </tr>\n",
       "    <tr>\n",
       "      <th>3753</th>\n",
       "      <td>2020</td>\n",
       "      <td>0</td>\n",
       "      <td>2</td>\n",
       "      <td>100000</td>\n",
       "      <td>100</td>\n",
       "    </tr>\n",
       "    <tr>\n",
       "      <th>3754</th>\n",
       "      <td>2021</td>\n",
       "      <td>2</td>\n",
       "      <td>1</td>\n",
       "      <td>94665</td>\n",
       "      <td>50</td>\n",
       "    </tr>\n",
       "  </tbody>\n",
       "</table>\n",
       "<p>3755 rows × 5 columns</p>\n",
       "</div>"
      ],
      "text/plain": [
       "      work_year  experience_level  employment_type  salary_in_usd  \\\n",
       "0          2023                 2                1          85847   \n",
       "1          2023                 1                2          30000   \n",
       "2          2023                 1                2          25500   \n",
       "3          2023                 2                1         175000   \n",
       "4          2023                 2                1         120000   \n",
       "...         ...               ...              ...            ...   \n",
       "3750       2020                 2                1         412000   \n",
       "3751       2021                 1                1         151000   \n",
       "3752       2020                 0                1         105000   \n",
       "3753       2020                 0                2         100000   \n",
       "3754       2021                 2                1          94665   \n",
       "\n",
       "      remote_ratio  \n",
       "0              100  \n",
       "1              100  \n",
       "2              100  \n",
       "3              100  \n",
       "4              100  \n",
       "...            ...  \n",
       "3750           100  \n",
       "3751           100  \n",
       "3752           100  \n",
       "3753           100  \n",
       "3754            50  \n",
       "\n",
       "[3755 rows x 5 columns]"
      ]
     },
     "execution_count": 37,
     "metadata": {},
     "output_type": "execute_result"
    }
   ],
   "source": [
    "problem2_df"
   ]
  },
  {
   "cell_type": "code",
   "execution_count": null,
   "id": "76f1ce19",
   "metadata": {
    "deletable": false,
    "lx_assignment_number": "vB",
    "lx_assignment_type": "EXAM",
    "lx_assignment_type2print": "Exam",
    "lx_problem_cell_type": "PROBLEM",
    "lx_problem_number": "2",
    "lx_problem_points": "13"
   },
   "outputs": [],
   "source": [
    "# Part 1\n",
    "\n",
    "# Fill in the features as a list of strings of the names of the columns\n",
    "\n",
    "problem2_features = [\"work_year\",\"experience_level\",\"employment_type\",\"remote_ratio\"]\n",
    "\n",
    "# Fill in the target as a string with the correct column name\n",
    "\n",
    "problem2_target = \"salary_in_usd\""
   ]
  },
  {
   "cell_type": "code",
   "execution_count": null,
   "id": "180affee",
   "metadata": {
    "deletable": false,
    "lx_assignment_number": "vB",
    "lx_assignment_type": "EXAM",
    "lx_assignment_type2print": "Exam",
    "lx_problem_cell_type": "PROBLEM",
    "lx_problem_number": "2",
    "lx_problem_points": "13"
   },
   "outputs": [],
   "source": [
    "# Part 2\n",
    "\n",
    "\n",
    "# Split the data into train and test using train_test_split\n",
    "# keep the train size as 0.8 and use random_state=42\n",
    "from sklearn.model_selection import train_test_split\n",
    "problem2_X_train,problem2_X_test,problem2_y_train,problem2_y_test = train_test_split(problem2_df[problem2_features],problem2_df[problem2_target],train_size=0.8,random_state=42)"
   ]
  },
  {
   "cell_type": "code",
   "execution_count": null,
   "id": "f6234a3e",
   "metadata": {
    "deletable": false,
    "lx_assignment_number": "vB",
    "lx_assignment_type": "EXAM",
    "lx_assignment_type2print": "Exam",
    "lx_problem_cell_type": "PROBLEM",
    "lx_problem_number": "2",
    "lx_problem_points": "13"
   },
   "outputs": [
    {
     "name": "stderr",
     "output_type": "stream",
     "text": [
      "c:\\Users\\Ellaa\\anaconda3\\envs\\ds\\Lib\\site-packages\\sklearn\\utils\\validation.py:767: FutureWarning: is_sparse is deprecated and will be removed in a future version. Check `isinstance(dtype, pd.SparseDtype)` instead.\n",
      "  if not hasattr(array, \"sparse\") and array.dtypes.apply(is_sparse).any():\n",
      "c:\\Users\\Ellaa\\anaconda3\\envs\\ds\\Lib\\site-packages\\sklearn\\utils\\validation.py:605: FutureWarning: is_sparse is deprecated and will be removed in a future version. Check `isinstance(dtype, pd.SparseDtype)` instead.\n",
      "  if is_sparse(pd_dtype):\n",
      "c:\\Users\\Ellaa\\anaconda3\\envs\\ds\\Lib\\site-packages\\sklearn\\utils\\validation.py:614: FutureWarning: is_sparse is deprecated and will be removed in a future version. Check `isinstance(dtype, pd.SparseDtype)` instead.\n",
      "  if is_sparse(pd_dtype) or not is_extension_array_dtype(pd_dtype):\n",
      "c:\\Users\\Ellaa\\anaconda3\\envs\\ds\\Lib\\site-packages\\sklearn\\utils\\validation.py:605: FutureWarning: is_sparse is deprecated and will be removed in a future version. Check `isinstance(dtype, pd.SparseDtype)` instead.\n",
      "  if is_sparse(pd_dtype):\n",
      "c:\\Users\\Ellaa\\anaconda3\\envs\\ds\\Lib\\site-packages\\sklearn\\utils\\validation.py:614: FutureWarning: is_sparse is deprecated and will be removed in a future version. Check `isinstance(dtype, pd.SparseDtype)` instead.\n",
      "  if is_sparse(pd_dtype) or not is_extension_array_dtype(pd_dtype):\n"
     ]
    },
    {
     "data": {
      "text/html": [
       "<style>#sk-container-id-1 {color: black;background-color: white;}#sk-container-id-1 pre{padding: 0;}#sk-container-id-1 div.sk-toggleable {background-color: white;}#sk-container-id-1 label.sk-toggleable__label {cursor: pointer;display: block;width: 100%;margin-bottom: 0;padding: 0.3em;box-sizing: border-box;text-align: center;}#sk-container-id-1 label.sk-toggleable__label-arrow:before {content: \"▸\";float: left;margin-right: 0.25em;color: #696969;}#sk-container-id-1 label.sk-toggleable__label-arrow:hover:before {color: black;}#sk-container-id-1 div.sk-estimator:hover label.sk-toggleable__label-arrow:before {color: black;}#sk-container-id-1 div.sk-toggleable__content {max-height: 0;max-width: 0;overflow: hidden;text-align: left;background-color: #f0f8ff;}#sk-container-id-1 div.sk-toggleable__content pre {margin: 0.2em;color: black;border-radius: 0.25em;background-color: #f0f8ff;}#sk-container-id-1 input.sk-toggleable__control:checked~div.sk-toggleable__content {max-height: 200px;max-width: 100%;overflow: auto;}#sk-container-id-1 input.sk-toggleable__control:checked~label.sk-toggleable__label-arrow:before {content: \"▾\";}#sk-container-id-1 div.sk-estimator input.sk-toggleable__control:checked~label.sk-toggleable__label {background-color: #d4ebff;}#sk-container-id-1 div.sk-label input.sk-toggleable__control:checked~label.sk-toggleable__label {background-color: #d4ebff;}#sk-container-id-1 input.sk-hidden--visually {border: 0;clip: rect(1px 1px 1px 1px);clip: rect(1px, 1px, 1px, 1px);height: 1px;margin: -1px;overflow: hidden;padding: 0;position: absolute;width: 1px;}#sk-container-id-1 div.sk-estimator {font-family: monospace;background-color: #f0f8ff;border: 1px dotted black;border-radius: 0.25em;box-sizing: border-box;margin-bottom: 0.5em;}#sk-container-id-1 div.sk-estimator:hover {background-color: #d4ebff;}#sk-container-id-1 div.sk-parallel-item::after {content: \"\";width: 100%;border-bottom: 1px solid gray;flex-grow: 1;}#sk-container-id-1 div.sk-label:hover label.sk-toggleable__label {background-color: #d4ebff;}#sk-container-id-1 div.sk-serial::before {content: \"\";position: absolute;border-left: 1px solid gray;box-sizing: border-box;top: 0;bottom: 0;left: 50%;z-index: 0;}#sk-container-id-1 div.sk-serial {display: flex;flex-direction: column;align-items: center;background-color: white;padding-right: 0.2em;padding-left: 0.2em;position: relative;}#sk-container-id-1 div.sk-item {position: relative;z-index: 1;}#sk-container-id-1 div.sk-parallel {display: flex;align-items: stretch;justify-content: center;background-color: white;position: relative;}#sk-container-id-1 div.sk-item::before, #sk-container-id-1 div.sk-parallel-item::before {content: \"\";position: absolute;border-left: 1px solid gray;box-sizing: border-box;top: 0;bottom: 0;left: 50%;z-index: -1;}#sk-container-id-1 div.sk-parallel-item {display: flex;flex-direction: column;z-index: 1;position: relative;background-color: white;}#sk-container-id-1 div.sk-parallel-item:first-child::after {align-self: flex-end;width: 50%;}#sk-container-id-1 div.sk-parallel-item:last-child::after {align-self: flex-start;width: 50%;}#sk-container-id-1 div.sk-parallel-item:only-child::after {width: 0;}#sk-container-id-1 div.sk-dashed-wrapped {border: 1px dashed gray;margin: 0 0.4em 0.5em 0.4em;box-sizing: border-box;padding-bottom: 0.4em;background-color: white;}#sk-container-id-1 div.sk-label label {font-family: monospace;font-weight: bold;display: inline-block;line-height: 1.2em;}#sk-container-id-1 div.sk-label-container {text-align: center;}#sk-container-id-1 div.sk-container {/* jupyter's `normalize.less` sets `[hidden] { display: none; }` but bootstrap.min.css set `[hidden] { display: none !important; }` so we also need the `!important` here to be able to override the default hidden behavior on the sphinx rendered scikit-learn.org. See: https://github.com/scikit-learn/scikit-learn/issues/21755 */display: inline-block !important;position: relative;}#sk-container-id-1 div.sk-text-repr-fallback {display: none;}</style><div id=\"sk-container-id-1\" class=\"sk-top-container\"><div class=\"sk-text-repr-fallback\"><pre>LinearRegression()</pre><b>In a Jupyter environment, please rerun this cell to show the HTML representation or trust the notebook. <br />On GitHub, the HTML representation is unable to render, please try loading this page with nbviewer.org.</b></div><div class=\"sk-container\" hidden><div class=\"sk-item\"><div class=\"sk-estimator sk-toggleable\"><input class=\"sk-toggleable__control sk-hidden--visually\" id=\"sk-estimator-id-1\" type=\"checkbox\" checked><label for=\"sk-estimator-id-1\" class=\"sk-toggleable__label sk-toggleable__label-arrow\">LinearRegression</label><div class=\"sk-toggleable__content\"><pre>LinearRegression()</pre></div></div></div></div></div>"
      ],
      "text/plain": [
       "LinearRegression()"
      ]
     },
     "execution_count": 40,
     "metadata": {},
     "output_type": "execute_result"
    }
   ],
   "source": [
    "# Part 3\n",
    "\n",
    "# Include the necessary imports\n",
    "from sklearn.linear_model import LinearRegression\n",
    "# Initialize your linear regression model\n",
    "problem2_model = LinearRegression()\n",
    "\n",
    "# Train your model on the training data\n",
    "problem2_model.fit(problem2_X_train,problem2_y_train)"
   ]
  },
  {
   "cell_type": "markdown",
   "id": "d1bce6f8",
   "metadata": {
    "deletable": false,
    "lx_assignment_number": "vB",
    "lx_assignment_type": "EXAM",
    "lx_assignment_type2print": "Exam",
    "lx_problem_cell_type": "PROBLEM",
    "lx_problem_number": "2",
    "lx_problem_points": "13"
   },
   "source": [
    "## Part 4\n",
    "\n",
    "Double click this cell to enter edit mode and write your answer for part 4 below this line.\n"
   ]
  },
  {
   "cell_type": "code",
   "execution_count": null,
   "id": "59e37621",
   "metadata": {},
   "outputs": [
    {
     "data": {
      "text/plain": [
       "(751,)"
      ]
     },
     "execution_count": 78,
     "metadata": {},
     "output_type": "execute_result"
    }
   ],
   "source": [
    "problem2_y_test.shape"
   ]
  },
  {
   "cell_type": "code",
   "execution_count": null,
   "id": "90f4bf4f",
   "metadata": {
    "deletable": false,
    "lx_assignment_number": "vB",
    "lx_assignment_type": "EXAM",
    "lx_assignment_type2print": "Exam",
    "lx_problem_cell_type": "PROBLEM",
    "lx_problem_number": "2",
    "lx_problem_points": "13"
   },
   "outputs": [
    {
     "name": "stdout",
     "output_type": "stream",
     "text": [
      "44488.118607673474 3161126689.5785685 0.19926672357276087\n"
     ]
    },
    {
     "name": "stderr",
     "output_type": "stream",
     "text": [
      "c:\\Users\\Ellaa\\anaconda3\\envs\\ds\\Lib\\site-packages\\sklearn\\utils\\validation.py:767: FutureWarning: is_sparse is deprecated and will be removed in a future version. Check `isinstance(dtype, pd.SparseDtype)` instead.\n",
      "  if not hasattr(array, \"sparse\") and array.dtypes.apply(is_sparse).any():\n",
      "c:\\Users\\Ellaa\\anaconda3\\envs\\ds\\Lib\\site-packages\\sklearn\\utils\\validation.py:605: FutureWarning: is_sparse is deprecated and will be removed in a future version. Check `isinstance(dtype, pd.SparseDtype)` instead.\n",
      "  if is_sparse(pd_dtype):\n",
      "c:\\Users\\Ellaa\\anaconda3\\envs\\ds\\Lib\\site-packages\\sklearn\\utils\\validation.py:614: FutureWarning: is_sparse is deprecated and will be removed in a future version. Check `isinstance(dtype, pd.SparseDtype)` instead.\n",
      "  if is_sparse(pd_dtype) or not is_extension_array_dtype(pd_dtype):\n",
      "c:\\Users\\Ellaa\\anaconda3\\envs\\ds\\Lib\\site-packages\\sklearn\\utils\\validation.py:605: FutureWarning: is_sparse is deprecated and will be removed in a future version. Check `isinstance(dtype, pd.SparseDtype)` instead.\n",
      "  if is_sparse(pd_dtype):\n",
      "c:\\Users\\Ellaa\\anaconda3\\envs\\ds\\Lib\\site-packages\\sklearn\\utils\\validation.py:614: FutureWarning: is_sparse is deprecated and will be removed in a future version. Check `isinstance(dtype, pd.SparseDtype)` instead.\n",
      "  if is_sparse(pd_dtype) or not is_extension_array_dtype(pd_dtype):\n",
      "c:\\Users\\Ellaa\\anaconda3\\envs\\ds\\Lib\\site-packages\\sklearn\\utils\\validation.py:767: FutureWarning: is_sparse is deprecated and will be removed in a future version. Check `isinstance(dtype, pd.SparseDtype)` instead.\n",
      "  if not hasattr(array, \"sparse\") and array.dtypes.apply(is_sparse).any():\n",
      "c:\\Users\\Ellaa\\anaconda3\\envs\\ds\\Lib\\site-packages\\sklearn\\utils\\validation.py:605: FutureWarning: is_sparse is deprecated and will be removed in a future version. Check `isinstance(dtype, pd.SparseDtype)` instead.\n",
      "  if is_sparse(pd_dtype):\n",
      "c:\\Users\\Ellaa\\anaconda3\\envs\\ds\\Lib\\site-packages\\sklearn\\utils\\validation.py:614: FutureWarning: is_sparse is deprecated and will be removed in a future version. Check `isinstance(dtype, pd.SparseDtype)` instead.\n",
      "  if is_sparse(pd_dtype) or not is_extension_array_dtype(pd_dtype):\n",
      "c:\\Users\\Ellaa\\anaconda3\\envs\\ds\\Lib\\site-packages\\sklearn\\utils\\validation.py:605: FutureWarning: is_sparse is deprecated and will be removed in a future version. Check `isinstance(dtype, pd.SparseDtype)` instead.\n",
      "  if is_sparse(pd_dtype):\n",
      "c:\\Users\\Ellaa\\anaconda3\\envs\\ds\\Lib\\site-packages\\sklearn\\utils\\validation.py:614: FutureWarning: is_sparse is deprecated and will be removed in a future version. Check `isinstance(dtype, pd.SparseDtype)` instead.\n",
      "  if is_sparse(pd_dtype) or not is_extension_array_dtype(pd_dtype):\n",
      "c:\\Users\\Ellaa\\anaconda3\\envs\\ds\\Lib\\site-packages\\sklearn\\utils\\validation.py:767: FutureWarning: is_sparse is deprecated and will be removed in a future version. Check `isinstance(dtype, pd.SparseDtype)` instead.\n",
      "  if not hasattr(array, \"sparse\") and array.dtypes.apply(is_sparse).any():\n",
      "c:\\Users\\Ellaa\\anaconda3\\envs\\ds\\Lib\\site-packages\\sklearn\\utils\\validation.py:605: FutureWarning: is_sparse is deprecated and will be removed in a future version. Check `isinstance(dtype, pd.SparseDtype)` instead.\n",
      "  if is_sparse(pd_dtype):\n",
      "c:\\Users\\Ellaa\\anaconda3\\envs\\ds\\Lib\\site-packages\\sklearn\\utils\\validation.py:614: FutureWarning: is_sparse is deprecated and will be removed in a future version. Check `isinstance(dtype, pd.SparseDtype)` instead.\n",
      "  if is_sparse(pd_dtype) or not is_extension_array_dtype(pd_dtype):\n",
      "c:\\Users\\Ellaa\\anaconda3\\envs\\ds\\Lib\\site-packages\\sklearn\\utils\\validation.py:605: FutureWarning: is_sparse is deprecated and will be removed in a future version. Check `isinstance(dtype, pd.SparseDtype)` instead.\n",
      "  if is_sparse(pd_dtype):\n",
      "c:\\Users\\Ellaa\\anaconda3\\envs\\ds\\Lib\\site-packages\\sklearn\\utils\\validation.py:614: FutureWarning: is_sparse is deprecated and will be removed in a future version. Check `isinstance(dtype, pd.SparseDtype)` instead.\n",
      "  if is_sparse(pd_dtype) or not is_extension_array_dtype(pd_dtype):\n",
      "c:\\Users\\Ellaa\\anaconda3\\envs\\ds\\Lib\\site-packages\\sklearn\\utils\\validation.py:767: FutureWarning: is_sparse is deprecated and will be removed in a future version. Check `isinstance(dtype, pd.SparseDtype)` instead.\n",
      "  if not hasattr(array, \"sparse\") and array.dtypes.apply(is_sparse).any():\n",
      "c:\\Users\\Ellaa\\anaconda3\\envs\\ds\\Lib\\site-packages\\sklearn\\utils\\validation.py:605: FutureWarning: is_sparse is deprecated and will be removed in a future version. Check `isinstance(dtype, pd.SparseDtype)` instead.\n",
      "  if is_sparse(pd_dtype):\n",
      "c:\\Users\\Ellaa\\anaconda3\\envs\\ds\\Lib\\site-packages\\sklearn\\utils\\validation.py:614: FutureWarning: is_sparse is deprecated and will be removed in a future version. Check `isinstance(dtype, pd.SparseDtype)` instead.\n",
      "  if is_sparse(pd_dtype) or not is_extension_array_dtype(pd_dtype):\n"
     ]
    },
    {
     "data": {
      "text/plain": [
       "<matplotlib.collections.PathCollection at 0x19a0bfd63d0>"
      ]
     },
     "execution_count": 156,
     "metadata": {},
     "output_type": "execute_result"
    },
    {
     "data": {
      "image/png": "[encoded data removed]",
      "text/plain": [
       "<Figure size 640x480 with 1 Axes>"
      ]
     },
     "metadata": {},
     "output_type": "display_data"
    }
   ],
   "source": [
    "# Part 4\n",
    "# Come up with a reasonable metric and compute it.\n",
    "# Provide plots that show the performance of the model. Reason about the performance. [4p]\n",
    "# Write the code to diagnose your model\n",
    "from sklearn.metrics import mean_absolute_error, mean_squared_error, r2_score\n",
    "\n",
    "MAE = mean_absolute_error(problem2_y_test,problem2_model.predict(problem2_X_test))\n",
    "MSE = mean_squared_error(problem2_y_test,problem2_model.predict(problem2_X_test))\n",
    "R2 = r2_score(problem2_y_test,problem2_model.predict(problem2_X_test))\n",
    "\n",
    "print(MAE,MSE,R2)\n",
    "\n",
    "# use MAE, since that is the \"true error\" summed, therefore easy to interpret\n",
    "\n",
    "import matplotlib.pyplot as plt\n",
    "ind = np.array(range(751))\n",
    "plt.scatter(ind,problem2_y_test,c='blue')\n",
    "plt.scatter(ind,problem2_model.predict(problem2_X_test),c=\"orange\")"
   ]
  },
  {
   "cell_type": "markdown",
   "id": "0054be0a",
   "metadata": {
    "deletable": false,
    "lx_assignment_number": "vB",
    "lx_assignment_type": "EXAM",
    "lx_assignment_type2print": "Exam",
    "lx_problem_cell_type": "PROBLEM",
    "lx_problem_number": "2",
    "lx_problem_points": "13"
   },
   "source": [
    "## Part 5\n",
    "\n",
    "Double click this cell to enter edit mode and write your answer for part 5 below this line.\n"
   ]
  },
  {
   "cell_type": "code",
   "execution_count": null,
   "id": "9e3c72be",
   "metadata": {
    "deletable": false,
    "lx_assignment_number": "vB",
    "lx_assignment_type": "EXAM",
    "lx_assignment_type2print": "Exam",
    "lx_problem_cell_type": "PROBLEM",
    "lx_problem_number": "2",
    "lx_problem_points": "13"
   },
   "outputs": [
    {
     "name": "stdout",
     "output_type": "stream",
     "text": [
      "121940.38437091932\n"
     ]
    },
    {
     "name": "stderr",
     "output_type": "stream",
     "text": [
      "c:\\Users\\Ellaa\\anaconda3\\envs\\ds\\Lib\\site-packages\\sklearn\\base.py:439: UserWarning: X does not have valid feature names, but LinearRegression was fitted with feature names\n",
      "  warnings.warn(\n",
      "c:\\Users\\Ellaa\\anaconda3\\envs\\ds\\Lib\\site-packages\\sklearn\\utils\\validation.py:767: FutureWarning: is_sparse is deprecated and will be removed in a future version. Check `isinstance(dtype, pd.SparseDtype)` instead.\n",
      "  if not hasattr(array, \"sparse\") and array.dtypes.apply(is_sparse).any():\n",
      "c:\\Users\\Ellaa\\anaconda3\\envs\\ds\\Lib\\site-packages\\sklearn\\utils\\validation.py:605: FutureWarning: is_sparse is deprecated and will be removed in a future version. Check `isinstance(dtype, pd.SparseDtype)` instead.\n",
      "  if is_sparse(pd_dtype):\n",
      "c:\\Users\\Ellaa\\anaconda3\\envs\\ds\\Lib\\site-packages\\sklearn\\utils\\validation.py:614: FutureWarning: is_sparse is deprecated and will be removed in a future version. Check `isinstance(dtype, pd.SparseDtype)` instead.\n",
      "  if is_sparse(pd_dtype) or not is_extension_array_dtype(pd_dtype):\n"
     ]
    },
    {
     "data": {
      "text/plain": [
       "array([ 1.32911910e+04,  3.89237923e+04, -3.47903893e+03, -1.30294752e+01])"
      ]
     },
     "execution_count": 60,
     "metadata": {},
     "output_type": "execute_result"
    }
   ],
   "source": [
    "# Part 5\n",
    "\n",
    "#Predict the 2023 salary of a data scientist that works full time (1) at mid employment level (1)\n",
    "# with 0 remote ratio. Then, looking at the output of `problem2_model.coef_`, which are the coefficients\n",
    "# of the linear model, would a higher remote ratio result in a higher predicted salary or vice versa?\n",
    "\n",
    "# Put the code for part 5 below this line\n",
    "data = [[2023,1,1,0]]\n",
    "X_test = pd.DataFrame(data)\n",
    "y_predict = problem2_model.predict(X_test)\n",
    "problem2_model.coef_"
   ]
  },
  {
   "cell_type": "code",
   "execution_count": null,
   "id": "2398f600",
   "metadata": {
    "deletable": false,
    "lx_assignment_number": "vB",
    "lx_assignment_type": "EXAM",
    "lx_assignment_type2print": "Exam",
    "lx_problem_cell_type": "PROBLEM",
    "lx_problem_number": "2",
    "lx_problem_points": "13"
   },
   "outputs": [
    {
     "name": "stdout",
     "output_type": "stream",
     "text": [
      "121940.0\n"
     ]
    }
   ],
   "source": [
    "# Part 5\n",
    "\n",
    "# since all data in the salary column is given in int, the result is rounded to the nearest integer\n",
    "problem2_predicted_salary = np.round(y_predict[0])\n",
    "print(problem2_predicted_salary)"
   ]
  },
  {
   "cell_type": "markdown",
   "id": "109a748c",
   "metadata": {
    "deletable": false,
    "lx_assignment_number": "vB",
    "lx_assignment_type": "EXAM",
    "lx_assignment_type2print": "Exam",
    "lx_problem_cell_type": "PROBLEM",
    "lx_problem_number": "2",
    "lx_problem_points": "13"
   },
   "source": [
    "\n",
    "## Part 6\n",
    "\n",
    "Double click this cell to enter edit mode and write your answer for part 6 below this line.\n",
    "\n"
   ]
  },
  {
   "cell_type": "code",
   "execution_count": null,
   "id": "e413ddd3",
   "metadata": {
    "deletable": false,
    "lx_assignment_number": "vB",
    "lx_assignment_type": "EXAM",
    "lx_assignment_type2print": "Exam",
    "lx_problem_cell_type": "PROBLEM",
    "lx_problem_number": "2",
    "lx_problem_points": "13"
   },
   "outputs": [
    {
     "name": "stderr",
     "output_type": "stream",
     "text": [
      "c:\\Users\\Ellaa\\anaconda3\\envs\\ds\\Lib\\site-packages\\sklearn\\utils\\validation.py:767: FutureWarning: is_sparse is deprecated and will be removed in a future version. Check `isinstance(dtype, pd.SparseDtype)` instead.\n",
      "  if not hasattr(array, \"sparse\") and array.dtypes.apply(is_sparse).any():\n",
      "c:\\Users\\Ellaa\\anaconda3\\envs\\ds\\Lib\\site-packages\\sklearn\\utils\\validation.py:605: FutureWarning: is_sparse is deprecated and will be removed in a future version. Check `isinstance(dtype, pd.SparseDtype)` instead.\n",
      "  if is_sparse(pd_dtype):\n",
      "c:\\Users\\Ellaa\\anaconda3\\envs\\ds\\Lib\\site-packages\\sklearn\\utils\\validation.py:614: FutureWarning: is_sparse is deprecated and will be removed in a future version. Check `isinstance(dtype, pd.SparseDtype)` instead.\n",
      "  if is_sparse(pd_dtype) or not is_extension_array_dtype(pd_dtype):\n"
     ]
    },
    {
     "data": {
      "image/png": "[encoded data removed]",
      "text/plain": [
       "<Figure size 640x480 with 1 Axes>"
      ]
     },
     "metadata": {},
     "output_type": "display_data"
    }
   ],
   "source": [
    "# Part 6\n",
    "\n",
    "# Put the code for part 6 below this line\n",
    "\n",
    "# On the test set, plot the empirical distribution function of the residual with confidence bands\n",
    "# (i.e. using the DKW inequality and 95% confidence). What does the confidence band tell us?\n",
    "# What can the confidence band be used for?\n",
    "\n",
    "# what should be the residual? error??\n",
    "error = np.abs(problem2_y_test -problem2_model.predict(problem2_X_test))\n",
    "from Utils import makeEDF, plotEDF\n",
    "\n",
    "edf = makeEDF(error)\n",
    "plotEDF(edf,confidence_band=True)\n",
    "       \n"
   ]
  },
  {
   "cell_type": "markdown",
   "id": "b0937fcd",
   "metadata": {
    "deletable": false,
    "lx_assignment_number": "vB",
    "lx_assignment_type": "EXAM",
    "lx_assignment_type2print": "Exam",
    "lx_problem_cell_type": "PROBLEM",
    "lx_problem_number": "3",
    "lx_problem_points": "13"
   },
   "source": [
    "---\n",
    "## Exam vB, PROBLEM 3\n",
    "Maximum Points = 13"
   ]
  },
  {
   "cell_type": "markdown",
   "id": "0812d38b",
   "metadata": {
    "deletable": false,
    "lx_assignment_number": "vB",
    "lx_assignment_type": "EXAM",
    "lx_assignment_type2print": "Exam",
    "lx_problem_cell_type": "PROBLEM",
    "lx_problem_number": "3",
    "lx_problem_points": "13"
   },
   "source": [
    "\n",
    "## Random variable generation\n",
    "\n",
    "1. [4p] Using inversion sampling, construct 1000 samples from the below distribution\n",
    "$$\n",
    "    F[x] = \n",
    "    \\begin{cases}\n",
    "        0, & x \\leq 0 \\\\\n",
    "        e^x-1, & 0 < x < \\ln(2) \\\\\n",
    "        1, & x \\geq \\ln(2)\n",
    "    \\end{cases}\n",
    "$$\n",
    "2. [2p] Use the above 1000 samples to estimate the mean and variance\n",
    "3. [4p] Using the **Accept-Reject** sampler (**Algorithm 1** in TFDS notes) construct 1000 samples from the same distribution, what proposal distribution did you choose and why? What proportion of samples where accepted?\n",
    "4. [3p] Explain if it is possible to sample from the density\n",
    "$$\n",
    "    f(x) = C e^{-(x^2-2)^2}\n",
    "$$\n",
    "using the **Accept-Reject** sampler (**Algorithm 1** in TFDS notes) with sampling density given the Gaussian. Here $C$ is a constant to make sure that $f$ is a density, it between roughly $1.34$ and $1.35$."
   ]
  },
  {
   "cell_type": "code",
   "execution_count": 9,
   "id": "aedbb2d9",
   "metadata": {
    "deletable": false,
    "lx_assignment_number": "vB",
    "lx_assignment_type": "EXAM",
    "lx_assignment_type2print": "Exam",
    "lx_problem_cell_type": "PROBLEM",
    "lx_problem_number": "3",
    "lx_problem_points": "13"
   },
   "outputs": [
    {
     "name": "stdout",
     "output_type": "stream",
     "text": [
      "[0.489245966688512, 0.5410143726925261, 0.42767621104619097, 0.48717569879547884, 0.637294909344298, 0.6112708048877991, 0.16121966663538237, 0.2707278870790942, 0.6291674593302452, 0.4183816586404544, 0.5043672489404809, 0.663987841213005, 0.6295286884161598, 0.5963724657575694, 0.6687400289897761, 0.6404262692020166, 0.27490018554449513, 0.5372625481246162, 0.09836799047173528, 0.4057639880194952, 0.46315078467810683, 0.3270218728719621, 0.5481982624347655, 0.25438576970159693, 0.31861641302222427, 0.1886381785520556, 0.39659522740273, 0.1960575622488711, 0.6443665871304544, 0.6318923939373116, 0.14205842162507656, 0.6657355650904142, 0.5339838436546023, 0.27290201948016674, 0.13288015828626326, 0.47205007871572147, 0.2960082001401832, 0.10167157985042455, 0.4471420058330669, 0.575325128927572, 0.6907914539114122, 0.3854154949638172, 0.04180008050929887, 0.3862531378752777, 0.6762899897351111, 0.18164688369079066, 0.6413896621797897, 0.31191719771761706, 0.2524251099180119, 0.6703238416365075, 0.555218859729264, 0.3736754924961213, 0.03954991881420203, 0.4413189550499245, 0.2333140184634545, 0.6545280890970022, 0.23296986761236932, 0.6783664292242217, 0.49577276718665747, 0.4885593847262644, 0.020329490643670373, 0.31835347002491876, 0.6452598702899909, 0.6432556558927898, 0.4472152472504097, 0.5092107465120913, 0.14237256407614393, 0.252414416355997, 0.20102425647140115, 0.33878931552763875, 0.45890601584469004, 0.5910775969684063, 0.06384021508966664, 0.20433181855199747, 0.26749969133365503, 0.15367927807834686, 0.6117342129888599, 0.6063832503619451, 0.5965993518796432, 0.36630764805262533, 0.020220264324124854, 0.2272860531997085, 0.494843973385912, 0.34042499582997515, 0.2669845733486846, 0.12078443397706458, 0.49292397193735243, 0.6910165629831964, 0.22309755358560612, 0.6878357415713762, 0.6153861388200825, 0.6915856082577408, 0.6640818174519169, 0.22398106552817895, 0.40449659430267815, 0.09021987544037484, 0.5664216469345503, 0.5782071326350764, 0.3214075285860305, 0.427276100290651, 0.5078805735490529, 0.5114302930847042, 0.4464896157694236, 0.053034595020781845, 0.29500785594191825, 0.4381560434280867, 0.47133274888422966, 0.4201962815757488, 0.2969304303208209, 0.48703657197740113, 0.15248861034972097, 0.21507933655330494, 0.6607642561455864, 0.5184948729996995, 0.29526228686935135, 0.32316414746014277, 0.42702929452946314, 0.47909550922884225, 0.023668737415547175, 0.14965870202083909, 0.6832691927461306, 0.6057322874055568, 0.6373614178694552, 0.2452759377348718, 0.4250444802637652, 0.07663446071816228, 0.6141074059589432, 0.16356097952185294, 0.390461403166316, 0.3864749670745771, 0.57765820578785, 0.3334542711206445, 0.4918315372513871, 0.27626960209839707, 0.5904376822319912, 0.4940873672030773, 0.5827311086967527, 0.6831352517139347, 0.6813760985206836, 0.587406483777297, 0.6243088085307283, 0.47146517900280877, 0.6144870574728026, 0.23367686554748726, 0.16185672241201624, 0.43300707663559007, 0.1913976335024373, 0.2781760252246629, 0.5400348549440631, 0.6175720679237364, 0.6005404487371997, 0.13947245326485747, 0.3313526027668445, 0.32387125490084145, 0.07020581251202623, 0.4374341630724069, 0.5974520386958262, 0.4799005597061581, 0.5702013879840684, 0.3271089008140006, 0.2439481275246947, 0.42835792530397965, 0.546505298632393, 0.24690587522388371, 0.30680220631168104, 0.3432802470543169, 0.6175455168906472, 0.17052113719734052, 0.6374284429993929, 0.5601296304135307, 0.38931870494033427, 0.5755438886133748, 0.6733143683075687, 0.24251069378827353, 0.05161811973825023, 0.549448555682345, 0.08298807598916183, 0.3136811730816839, 0.6789719918143746, 0.4700644974791043, 0.3084020452220722, 0.4550218918760206, 0.1857229750099369, 0.3438611606349934, 0.6823018940285552, 0.025942570020759625, 0.34360951980639454, 0.26966834504221543, 0.6002708254855482, 0.5002706323108149, 0.1690096421828351, 0.3484986954551544, 0.5354781703317382, 0.5939627737599595, 0.6563897117929872, 0.17707987593097868, 0.47465173746103956, 0.0582127779736745, 0.34844040354667255, 0.3987056940605877, 0.20672762413835222, 0.27297418090178877, 0.4824124580179454, 0.08216276462156047, 0.15374322195459264, 0.5892993294061879, 0.0007089992602688676, 0.2808075270463936, 0.13579043213002592, 0.6401652443083848, 0.48747116281066466, 0.4081695618175506, 0.03884725422168819, 0.5773465580663578, 0.10065740165468096, 0.6232992737400624, 0.36111949155198114, 0.25926077784986784, 0.33082880648497903, 0.3943880266995005, 0.3962550582399301, 0.2056415205628244, 0.5577320154238575, 0.3375388978190753, 0.5513322947301035, 0.2008165383319907, 0.2848627871445047, 0.39220602574392344, 0.6026844647097007, 0.11227739926756351, 0.14032326397179667, 0.2885745837622111, 0.6069590066724078, 0.29966480887670566, 0.6807988091489514, 0.5759719067196035, 0.4652266533210684, 0.5652549779234908, 0.4869781101820883, 0.47122166066315196, 0.15395440930523993, 0.07577303612483227, 0.04866654250338767, 0.27247810516972126, 0.5617308732140772, 0.45744095273099594, 0.16946673353989064, 0.43943967861895183, 0.587937326013209, 0.4156608188646391, 0.5558608062931225, 0.6807954259545022, 0.6099222092245716, 0.1904280396994015, 0.5469243079509533, 0.6567999641853474, 0.48609577699998974, 0.561038929896545, 0.22077277106959348, 0.5818975831426878, 0.2105107566388385, 0.06727128371222116, 0.4185953001115151, 0.5989267932669459, 0.3793169224631947, 0.03044152912759569, 0.5265711470845371, 0.5471174716873013, 0.07702090233221139, 0.6294401044637654, 0.06906368364537059, 0.5252412044694441, 0.04844952253828071, 0.10006306391663891, 0.5530451260451872, 0.638741620480339, 0.6042753482212823, 0.2478488280448257, 0.13272555334681513, 0.09700849599554655, 0.5571491656814017, 0.5983558884004866, 0.44074103091454364, 0.5709133274028776, 0.32878889480560447, 0.5296476000421219, 0.5967404590621116, 0.21259842616195115, 0.031150446051090342, 0.49916850373643884, 0.08291479668927591, 0.332897492761832, 0.5732504161941487, 0.5494293294882742, 0.44745353346154415, 0.30932289364748783, 0.5292494763912576, 0.3347464039353478, 0.004944677397108032, 0.5915943088292861, 0.6174252103169208, 0.004175142441231806, 0.6063058222051786, 0.6569127327069711, 0.6184048331125797, 0.10705095270675374, 0.3597533898073209, 0.5210779859334796, 0.5610998865015351, 0.18048030170563606, 0.6921030672855177, 0.5749344501192394, 0.5028434938661887, 0.44396540937611884, 0.10137051622654919, 0.6892052045057716, 0.046475567386271385, 0.5918352580934386, 0.6642125964815581, 0.02102613081305002, 0.5073733351513284, 0.4360656830711222, 0.6297389243357048, 0.4329971677457234, 0.28486284854000843, 0.3882032062249624, 0.5902689695829568, 0.6899640055935236, 0.33506538806257236, 0.3238617952813103, 0.22529526647607967, 0.33708446122768637, 0.5497108565066248, 0.3239767319259782, 0.5182664113646828, 0.22620125343442976, 0.5272921788352718, 0.5481278304485232, 0.6676209361272061, 0.6111644903016457, 0.05810327502831863, 0.27355256897733243, 0.3102269611191712, 0.03238664806184615, 0.6482349534225571, 0.37306165445454575, 0.689954136654009, 0.4163270181731082, 0.60931531413373, 0.3666712649307933, 0.39965583812667504, 0.2834227882713143, 0.2901523313910019, 0.01710496196035888, 0.0762373367572418, 0.35496027539155883, 0.23894287615739299, 0.20099378403510235, 0.23143608392337084, 0.5668679021334964, 0.3796521049510198, 0.6604668300143053, 0.09650320483392792, 0.6632852467993147, 0.41281695522469297, 0.4133193909748948, 0.17036098687523088, 0.6209038289403499, 0.16078742822309755, 0.16116949814760803, 0.3599314860767638, 0.3585582352907249, 0.0012640285386119278, 0.3595778521020448, 0.2199638349739281, 0.2400821098382711, 0.01632679360417469, 0.35019014704969437, 0.3379610626778066, 0.5011094155364154, 0.5101066880502616, 0.050477370079407544, 0.29990668078508503, 0.6729881850347594, 0.5142080174967206, 0.5238684254002413, 0.22787683857487429, 0.26709284599533833, 0.6416364080535009, 0.4725899341215919, 0.6148947807713906, 0.597192867504921, 0.06734250124066549, 0.619139654066124, 0.626778519812291, 0.5579961745207942, 0.43147461198709125, 0.5134667778868529, 0.3512368756486436, 0.30064169396320567, 0.5235272951782287, 0.39835165788715915, 0.642265953204858, 0.5302700220033919, 0.15272335794576739, 0.02397761852438188, 0.35566661134117217, 0.4051105882060578, 0.3261556364943399, 0.6930598851445299, 0.06578350666593981, 0.34180343375992206, 0.4575289403098609, 0.15680466470865698, 0.3371300709543181, 0.5332909376258389, 0.1855449718331214, 0.4391075848080089, 0.20586924675051912, 0.683085329731321, 0.06422154824716003, 0.49558463881956977, 0.2014966509645435, 0.3714141816281787, 0.6759816086501618, 0.3641273345096095, 0.6745362050757902, 0.3551930512524677, 0.6537245168709859, 0.11403852816980586, 0.17238587093992264, 0.2679560683070557, 0.3848569647897983, 0.40767250564295365, 0.29880868708612873, 0.4747100233453377, 0.020245299476125543, 0.5664071756196923, 0.331058950489636, 0.18812666129476302, 0.6353286922666176, 0.1016334165488638, 0.620622170863203, 0.42231875468139385, 0.5353577907246014, 0.4516242284806635, 0.6645290363168966, 0.08818562025803606, 0.5733834066204103, 0.6784931256470497, 0.29489143718595034, 0.17557459268801473, 0.5402566905084066, 0.1251860891098493, 0.45231214118860685, 0.2602660556320886, 0.5756857288398735, 0.22525193066189936, 0.05858700812723294, 0.09996312423827634, 0.637489980035394, 0.1497490273198006, 0.6803230684709779, 0.39403823012171313, 0.5388747876427495, 0.6323325546101368, 0.6879028421724839, 0.4158833264957487, 0.20236320104743757, 0.23417041430998112, 0.18162083362670645, 0.1760803803162485, 0.5683325086687652, 0.6374746639873187, 0.26015259119890277, 0.45148291061866036, 0.46577199725794827, 0.6329815586723496, 0.5255115626615804, 0.14217140657733696, 0.4766208473536378, 0.35594856813717446, 0.36610169891312305, 0.24801290358131495, 0.3854794051833877, 0.03971418805920924, 0.13838098181143257, 0.6275092455430903, 0.44729228665984533, 0.018859135283803796, 0.6511422432679206, 0.5101267459072324, 0.2334675023774964, 0.0717638535439358, 0.5353717381861999, 0.2953054885263655, 0.6661873554541142, 0.6431652482994622, 0.32400820115135365, 0.6520364358110771, 0.6265249764762766, 0.12888160565971388, 0.03896008023823649, 0.4228442995691392, 0.30084509747944765, 0.4036318591630545, 0.20537432819650217, 0.003700004409966095, 0.6855718075072882, 0.5683533842501964, 0.4111657055755353, 0.6867416490854775, 0.6690375073034749, 0.4166010792869106, 0.2128944363317382, 0.40980118038126423, 0.6499187405331959, 0.31993786126530205, 0.6085639434903856, 0.6575267844226078, 0.6122491290196456, 0.13864664729615206, 0.42671639550674134, 0.5038614218973384, 0.6067423276572373, 0.519826422207102, 0.4192966587442214, 0.03325258401375362, 0.02464894426665927, 0.5375911190469715, 0.5168571472564047, 0.36614885589860446, 0.6092066864244369, 0.34396846321053054, 0.2667702903181072, 0.14869913681105834, 0.2357732125962634, 0.1980732585347036, 0.4793566905303966, 0.06332125341719991, 0.5460859472490582, 0.48795954568752614, 0.47339837005392393, 0.47270421590127065, 0.027041927428300867, 0.5214706579416438, 0.4252404553408157, 0.2936413379095694, 0.24274509387620938, 0.5046155581410269, 0.6366113154892219, 0.6343986549046747, 0.38602694168214985, 0.5916708250555455, 0.2840094012702984, 0.2865158047051536, 0.16435843815395235, 0.6183139274766009, 0.5256452596175853, 0.31596898595163897, 0.6405555545417527, 0.37363419958461597, 0.5658831706752079, 0.6883023839947014, 0.38960573093324263, 0.5780809519784098, 0.11525924507732582, 0.027619273233703997, 0.5351828034278203, 0.1288835853777804, 0.1767162291568945, 0.6764858873996096, 0.6807288687562769, 0.32106929611215484, 0.5874274630020518, 0.6671281628168901, 0.2161986648448843, 0.10173040013655436, 0.3277969073758338, 0.4995091117968823, 0.5180903125158139, 0.17982801426121187, 0.5543878490777717, 0.659750817947371, 0.11321509788543715, 0.5675435172625276, 0.6216028225481762, 0.559495163706088, 0.14002570409005113, 0.3325313624495089, 0.3743266784130172, 0.578673010543469, 0.3766372913918979, 0.42414014098168096, 0.11329361240359179, 0.6011624390989508, 0.5099546286118589, 0.3678020575512218, 0.3027084536125541, 0.662508622463303, 0.623042795108007, 0.495591934433582, 0.2576068243387286, 0.6894214696247336, 0.0641863540570948, 0.6857293923180977, 0.3333138033955279, 0.42199797803465694, 0.59579307444448, 0.6908487366519418, 0.6376756294709767, 0.5556644971940953, 0.42201734008047825, 0.6016758229342263, 0.0444882710593377, 0.323148769302086, 0.2968056294391964, 0.26822359484996744, 0.5508763577384977, 0.26854459815788895, 0.17998031761440822, 0.2697183038257081, 0.6419898104795797, 0.10208600727873578, 0.29110838494338154, 0.18616620036153353, 0.4669117323230163, 0.5037352899847433, 0.39576784290320394, 0.43521474905072943, 0.37285140283418117, 0.5628241659410977, 0.14380576873921055, 0.4199654185434563, 0.28961310566284826, 0.024324798313777228, 0.4206505402618393, 0.582030507278941, 0.08554614126267926, 0.542043589124149, 0.4953213864279386, 0.6815963330559741, 0.6258456965825805, 0.035112483256692265, 0.45792757601943107, 0.3771932728120555, 0.12130381165851115, 0.15048999403760485, 0.29234922232494653, 0.3949195872414921, 0.6922624652496185, 0.647997505544495, 0.4485820125776238, 0.09677741520929237, 0.02188483934612615, 0.033793998978700834, 0.4991318611205647, 0.3500513503689121, 0.6005150701131914, 0.6610154077383559, 0.5658872576630287, 0.574843519061328, 0.6843671659416701, 0.2531069141477577, 0.3507093672427532, 0.45151427074085815, 0.39325336108431697, 0.423221094399448, 0.03588821245403447, 0.519982981607416, 0.25796546924075286, 0.6068132780981936, 0.4092462774477988, 0.013001482728387855, 0.6870091351982838, 0.5952146719625339, 0.3471657104267135, 0.6798098232632367, 0.34381275574175657, 0.6461150560835085, 0.6399022207011813, 0.5893207726413305, 0.055617228989451206, 0.32875041415178585, 0.6631839025786416, 0.6903064549159981, 0.40776372141731343, 0.2541732089800785, 0.6255065212353195, 0.49440131552733213, 0.066903626274482, 0.3251213689339038, 0.03277907384395321, 0.6191310846502809, 0.2203108934475545, 0.4393982115514061, 0.43949583770764994, 0.5571334786179292, 0.5269664007635402, 0.5188143509043072, 0.11836111325921873, 0.6196189694837025, 0.6344362455638597, 0.1450567671220831, 0.6587294512532689, 0.5282584487609646, 0.6188932605526796, 0.6642519068744687, 0.12593593941941872, 0.4689088233830953, 0.263968563603423, 0.5471449691947925, 0.32764327638290464, 0.48599746463228893, 0.3465075334511085, 0.1624942970836443, 0.3095455564209157, 0.07426777052651644, 0.5071390707353981, 0.47527628279498924, 0.45040580524356977, 0.5839347012937631, 0.630124129750263, 0.519888491871205, 0.16664004071551708, 0.49387345311271724, 0.5629217997695881, 0.5670756424165021, 0.5375431815043519, 0.24500341939470605, 0.4577712746987262, 0.5354068226944825, 0.6739806833220832, 0.14471405280635227, 0.23138576042743667, 0.5351007613260851, 0.12324412006678692, 0.6740523245138792, 0.02266370417900408, 0.6635286589604978, 0.16917607146754954, 0.266189729749205, 0.5939411943083029, 0.12580250407781254, 0.039065799043531656, 0.42417880203382075, 0.469755296959885, 0.5547709054360647, 0.20269077638348376, 0.35763119718833913, 0.022740642824575667, 0.08254308675682064, 0.04057667353865932, 0.23114987437530718, 0.06857909813213464, 0.692677042619295, 0.1318998096965526, 0.33618133595640615, 0.35706812242129793, 0.4924387941634581, 0.6301066675792054, 0.4894226909141101, 0.34860709585411687, 0.6919558530266579, 0.27388112239275664, 0.5636326597722413, 0.03882241868067114, 0.34996011360658197, 0.6465654187252154, 0.5134634589315809, 0.06351691649261046, 0.27854132408768456, 0.31848015399715207, 0.582488202476097, 0.3939720575260311, 0.6439770303640922, 0.3889827090939461, 0.532113958097888, 0.5528210436764801, 0.06124857620220453, 0.17936758668153574, 0.11004101434941699, 0.4941174874852413, 0.18616641441603757, 0.5014255043935196, 0.1375053360181766, 0.5148430540168872, 0.44643633770197094, 0.3097701211938949, 0.03277295614320872, 0.28426225704701347, 0.2850699600671418, 0.08030469781036387, 0.6073980421377781, 0.32662981904676885, 0.3605299262470059, 0.5967995515938446, 0.5984569504901908, 0.5631335014250108, 0.4713405983405846, 0.5872841773529655, 0.6212121805291098, 0.3766316214388087, 0.3149176573395277, 0.012553919509939459, 0.14567639443458993, 0.46729417559859887, 0.500226033143229, 0.5977792400966212, 0.6449899847995233, 0.07786368542563298, 0.38339653788687317, 0.5559134949655883, 0.0903658618396198, 0.16252123075145902, 0.5855020702869681, 0.16873187612700188, 0.6690412550474736, 0.29394088174679345, 0.5301659613493406, 0.11188102275639834, 0.580687154023136, 0.5243160730677496, 0.4717988603656726, 0.6637280960169162, 0.6260643456437099, 0.5911952123366493, 0.27999469561877877, 0.42865823900693767, 0.5604525601650518, 0.2856140328318242, 0.6453293687348581, 0.04721845194343469, 0.3084864351206802, 0.13171308707534252, 0.16505709724270992, 0.01313651660510986, 0.11313030687807864, 0.5985232888318279, 0.26048882310793786, 0.42477931495241267, 0.17236298517620602, 0.6723531836114885, 0.058847320521299165, 0.3958862029563624, 0.17300460951704588, 0.28652434645698377, 0.44662463130999763, 0.1918343343449023, 0.6508675217352636, 0.4879749123471566, 0.25304629004436124, 0.09217860660266157, 0.485268712778627, 0.6212281475964272, 0.2547968322208329, 0.4311218892373973, 0.4592644063050878, 0.0991397154818136, 0.4878085794929074, 0.3732182758339956, 0.49781883792425363, 0.5903800404037727, 0.17461433354025743, 0.5234924785414339, 0.5400565292250359, 0.25874244858237505, 0.46208618030179066, 0.6060419891967309, 0.38319280374148135, 0.6558442163184999, 0.05645047381571536, 0.503227307307105, 0.31499929546246086, 0.1202604059164806, 0.464095247224605, 0.07051847778513735, 0.6112944877029777, 0.36286047796116, 0.511031830603919, 0.6628506284663693, 0.44993711853501966, 0.6898163658956937, 0.012281639132452312, 0.6355966435776035, 0.14956488643755245, 0.10206143583591554, 0.25418268027199054, 0.22963501209676607, 0.022213484001004796, 0.025914385460006625, 0.3722566580958233, 0.6839529597112634, 0.31129593539156786, 0.03550003709701985, 0.310886563865503, 0.4630375594821671, 0.4328834486942436, 0.6789246061689042, 0.2765764322572692, 0.4414296129047633, 0.22731523863997824, 0.06426167981259717, 0.43773990676567476, 0.2845673782735032, 0.42310060507042185, 0.6737373521098714, 0.5287806029162603, 0.059092194029801634, 0.15630140452954294, 0.34685897656468706, 0.45292378933634, 0.4093900043399579, 0.46905113978326185, 0.13666733757998967, 0.3752540776943561, 0.3340356518355688, 0.6921974631900517, 0.5148901483161633, 0.6004792460447218, 0.12840808312123733, 0.4383215916883344, 0.5098801203767926, 0.03979747762488781, 0.11809174463205437, 0.4914628948004412, 0.1271209908506242, 0.408871597911003, 0.6230425948389344, 0.4540579384644828, 0.6461452400456992, 0.5286080319975182, 0.07968060106184587, 0.15413939066395344, 0.20651001788625095, 0.5310522745156959, 0.5753514467763324, 0.5567767623353093, 0.5146657036350474, 0.423189370553548, 0.6378446487510148, 0.6057877184747026, 0.43285331177562225, 0.28427151747004015, 0.5934106754956735, 0.5720123236500109, 0.46485289467612306, 0.26989110765881524, 0.08154921917155343, 0.2014324507596259, 0.410774093515339, 0.5845910906678853, 0.22320638560680414, 0.032268026660688925, 0.03545546313619607, 0.42098603190776096, 0.3698065533322139, 0.26922939930767326, 0.39957605717302225, 0.6616206028728658, 0.3369102910006382, 0.2616421798976522, 0.15254728909450602, 0.23228141191130244, 0.34176244392333216, 0.34376907722688876, 0.22141137269160668, 0.5209412188650342, 0.4822143915722476, 0.029500263518912273, 0.5872072300166836, 0.5446943851199592, 0.33666458860289983, 0.08280589486110708, 0.6439188370038581, 0.4503021469565371, 0.4948886126431783, 0.47241880339618414, 0.007700324166673993, 0.6742568151442444, 0.5068098321616601, 0.0009915730368323578, 0.4296681597383459, 0.40140570147958904, 0.47950571357650895, 0.3344639506363898, 0.3307642464832316, 0.5003385331675533, 0.25458460108184455, 0.11060063241466772, 0.4707068073869133, 0.42533641623902296, 0.388886238841208, 0.3697688125381293, 0.3072471946175858, 0.6672939526025057, 0.6562298371599281, 0.6464215457225326, 0.1686641496771892, 0.2974668387873928]\n"
     ]
    }
   ],
   "source": [
    "# Part 1\n",
    "import numpy as np\n",
    "import math\n",
    "# Write your code below\n",
    "n=1000\n",
    "numb = []\n",
    "for i in range(1000):\n",
    "    numb.append(np.random.uniform())\n",
    "x = [math.log(x+1) for x in numb]\n",
    "print(x)"
   ]
  },
  {
   "cell_type": "code",
   "execution_count": null,
   "id": "4f971b1e",
   "metadata": {
    "deletable": false,
    "lx_assignment_number": "vB",
    "lx_assignment_type": "EXAM",
    "lx_assignment_type2print": "Exam",
    "lx_problem_cell_type": "PROBLEM",
    "lx_problem_number": "3",
    "lx_problem_points": "13"
   },
   "outputs": [],
   "source": [
    "# Part 1\n",
    "\n",
    "# Put the resulting samples into the following variable\n",
    "\n",
    "problem3_samples = x"
   ]
  },
  {
   "cell_type": "code",
   "execution_count": null,
   "id": "06c98d26",
   "metadata": {
    "deletable": false,
    "lx_assignment_number": "vB",
    "lx_assignment_type": "EXAM",
    "lx_assignment_type2print": "Exam",
    "lx_problem_cell_type": "PROBLEM",
    "lx_problem_number": "3",
    "lx_problem_points": "13"
   },
   "outputs": [
    {
     "name": "stdout",
     "output_type": "stream",
     "text": [
      "0.3920656779322649\n",
      "0.038851374976018385\n"
     ]
    }
   ],
   "source": [
    "# Part 2\n",
    "\n",
    "problem3_mean = np.mean(problem3_samples)\n",
    "print(problem3_mean)\n",
    "problem3_variance = np.var(problem3_samples)\n",
    "print(problem3_variance)"
   ]
  },
  {
   "cell_type": "code",
   "execution_count": null,
   "id": "92aa6bd1",
   "metadata": {
    "deletable": false,
    "lx_assignment_number": "vB",
    "lx_assignment_type": "EXAM",
    "lx_assignment_type2print": "Exam",
    "lx_problem_cell_type": "PROBLEM",
    "lx_problem_number": "3",
    "lx_problem_points": "13"
   },
   "outputs": [
    {
     "name": "stdout",
     "output_type": "stream",
     "text": [
      "608\n"
     ]
    }
   ],
   "source": [
    "# Part 3\n",
    "\n",
    "# Write your code to solve the problem below\n",
    "\n",
    "import math\n",
    "# uniform distribution on [-1,1], since this covers points where F(x) is not continuous but it is still a uniform distribution\n",
    "# length of interval = 2\n",
    "u = np.random.uniform(size = 1000)\n",
    "samples = np.random.uniform(size = 1000)\n",
    "\n",
    "#define function F\n",
    "def F(x):\n",
    "    if x<= 0:\n",
    "        return 0\n",
    "    elif x>=math.log(2):\n",
    "        return 1\n",
    "    else:\n",
    "        return math.exp(x)-1\n",
    "    \n",
    "samp_accepted = []\n",
    "for i in range(n):\n",
    "    if u[i]<= F(samples[i]): \n",
    "        samp_accepted.append(samples[i])\n",
    "print(len(samp_accepted))"
   ]
  },
  {
   "cell_type": "code",
   "execution_count": null,
   "id": "32b39b22",
   "metadata": {
    "deletable": false,
    "lx_assignment_number": "vB",
    "lx_assignment_type": "EXAM",
    "lx_assignment_type2print": "Exam",
    "lx_problem_cell_type": "PROBLEM",
    "lx_problem_number": "3",
    "lx_problem_points": "13"
   },
   "outputs": [
    {
     "name": "stdout",
     "output_type": "stream",
     "text": [
      "[0.40769424220021255, 0.6935687436305298, 0.10387585358874663, 0.7459640766162734, 0.931155044362544, 0.7540472140331911, 0.7652106702015142, 0.6054530494180028, 0.10102777662579199, 0.8316382253746422, 0.5012313518975152, 0.6679709591970102, 0.06376156218776607, 0.7148895055764819, 0.8069264463794601, 0.8533272707167421, 0.7329271118801063, 0.6678633233048857, 0.81030443952773, 0.352509410631323, 0.8088751579110438, 0.9307831637814659, 0.2024986041525918, 0.6631590249090397, 0.702118367883988, 0.23900481727777234, 0.9471347211047669, 0.44413259008135053, 0.9390243146173203, 0.7521699767861706, 0.39702646986861245, 0.9832472829925482, 0.7406727781948851, 0.8719375025566026, 0.49469871895891393, 0.7956502158405588, 0.834685882009008, 0.9664024633230061, 0.9214710699577482, 0.5096682719001495, 0.5192792359539514, 0.8524200605857416, 0.8014284814575463, 0.7927237497716302, 0.8080682131059338, 0.5892879100416617, 0.6163422942448599, 0.19095677978116388, 0.05010476963655275, 0.7583424669038036, 0.7311133232577622, 0.5934208388146878, 0.3748273647252509, 0.8220784135828773, 0.7292017123042686, 0.3727349797888513, 0.777839151227869, 0.5350285317973563, 0.6091291681557003, 0.6638932180710878, 0.9285264278301599, 0.5718291901132103, 0.7790928254548118, 0.6696510940565081, 0.8478579942496495, 0.4299402595900711, 0.8731354412872615, 0.562738778708189, 0.3754528831268945, 0.7274757524536537, 0.8018421870890572, 0.9125139948405302, 0.9886348468150807, 0.4624928236584174, 0.4241571559988643, 0.2601104961277637, 0.433893045181324, 0.5562734477282809, 0.9336772492921559, 0.5152722845590623, 0.43502349584062006, 0.6749194533658465, 0.6231129860369227, 0.22599709577800375, 0.602668342378561, 0.5665345610394534, 0.6301175066562421, 0.7000197332184527, 0.6512511073104937, 0.6242867235777082, 0.5151554726850797, 0.9761258232092235, 0.23737880237568887, 0.5150123356694963, 0.972457062449176, 0.7624368909183963, 0.9876727746213237, 0.29087583161370334, 0.7513581218304103, 0.4553605816115176, 0.8661546523154573, 0.6631258186790778, 0.5575240070201217, 0.7970808911061746, 0.5969281754488772, 0.7350258401125669, 0.4100009858944289, 0.983294314669638, 0.6651134183874415, 0.9319067186277271, 0.8371976440501074, 0.9755254640388684, 0.07679164976864561, 0.11836891228079838, 0.8320872640319941, 0.6458043128500391, 0.5928536417588194, 0.706753171312482, 0.8475059795737612, 0.19941394176913796, 0.9239356883555023, 0.7895692280789836, 0.652289787654278, 0.8316747421071158, 0.5499722887575842, 0.8256783252958315, 0.7949015828363862, 0.872077855225886, 0.6221254158592853, 0.9888891011756922, 0.4875601712211022, 0.8618710408968917, 0.8242821770233888, 0.6445838166928924, 0.8524365175020484, 0.9150185494736341, 0.9191125637925582, 0.6286858644501309, 0.5451611106016215, 0.8973635889555602, 0.9986980902636315, 0.5623775588345113, 0.7013225730423098, 0.6185868059379027, 0.9219987981214431, 0.8728723926699384, 0.8700287680476778, 0.5530923602121287, 0.9452487980834376, 0.1781191328721906, 0.47815272834098455, 0.8260852846241583, 0.4831822098204134, 0.9206807950101826, 0.2836749264838665, 0.6365864135734377, 0.8884988409395355, 0.6175585745551893, 0.8582376637644353, 0.5714480224123126, 0.33303162678346476, 0.8692599150331796, 0.8504868248375692, 0.9288302249093948, 0.7582963088377259, 0.6029862598084325, 0.46680834073178734, 0.7498551635133588, 0.4272657246733249, 0.8931475459175504, 0.8795439844762747, 0.3169765246834806, 0.9435856937642851, 0.7509756135295091, 0.5124196855224923, 0.6873575216924589, 0.7605593715143806, 0.968987130154221, 0.9282008571056539, 0.8629420661696724, 0.36588775023720044, 0.5843981905077998, 0.8864200519518916, 0.9036586325476346, 0.7728577697077416, 0.9346192796543656, 0.20237293412500834, 0.6350569220775909, 0.8345865237059908, 0.18179725995975204, 0.54114809135807, 0.8515144311821377, 0.8503876124775123, 0.6879529250840642, 0.9532936914478863, 0.7678477110773422, 0.38566391898723207, 0.6607290425949857, 0.47229771512005714, 0.5552840730891085, 0.5631883625668158, 0.9077571715720013, 0.8026488980586037, 0.2895375680575576, 0.8007614278153676, 0.7163190147685496, 0.7557903903900928, 0.8077889621431282, 0.9821799813095444, 0.8146247241207752, 0.7960264441122219, 0.29251520739423653, 0.8460629031253579, 0.3012720341970535, 0.47712324839644404, 0.8653094324980063, 0.14408557564845248, 0.48607050393844875, 0.7751580664835108, 0.9944042131400851, 0.4430742633590843, 0.8284274928427795, 0.49119380664641543, 0.5080992654282296, 0.559963435149186, 0.3681411442520873, 0.5523805765418507, 0.36210264870036624, 0.7803006856292306, 0.9434140292901632, 0.5316148849495405, 0.45849147011572966, 0.7951720830251725, 0.43317247290015726, 0.39225144185206007, 0.84696124666498, 0.09747678987107833, 0.6122815376871066, 0.25620547238111757, 0.9133065372760075, 0.5307416025694448, 0.42403499193842276, 0.9642429545843016, 0.9424927559098335, 0.7031352121788095, 0.5975558061984179, 0.9859250925234175, 0.5996731421857301, 0.641944817847794, 0.8085220269324039, 0.704312575384532, 0.9605375148218372, 0.9044504356228376, 0.6735256130246148, 0.7754531711700301, 0.9446932162343684, 0.9018622053332473, 0.9780073089179122, 0.5488006171258448, 0.7844267298192306, 0.7371336501598866, 0.9532312331724913, 0.6596395536506707, 0.3847165956721501, 0.8312886016971044, 0.6856326477982768, 0.3072515066369631, 0.6204948286694795, 0.6785232890054709, 0.829023793127499, 0.6346019336928808, 0.5114340914107919, 0.5561685145803794, 0.7259175136734622, 0.6847132450863559, 0.6974353723387628, 0.6229094632652802, 0.5939595652052025, 0.8478121304714973, 0.8168503580941368, 0.6333496827916144, 0.7087910487433977, 0.6859559172800824, 0.2794952545865119, 0.6390443781497565, 0.9510645117011632, 0.8998760397344859, 0.37972463460745076, 0.702858757322581, 0.6849163064047241, 0.29941268839868695, 0.9183006701255023, 0.3708163798489319, 0.43520024130914026, 0.5307151054048365, 0.1591206428530395, 0.7922354466832648, 0.255468575505008, 0.258792357634695, 0.8947284468382728, 0.9017066182565913, 0.7603651779215074, 0.9568533990563795, 0.7392570762985757, 0.6217072828569613, 0.4635034126713268, 0.5785801150488005, 0.7455875380963521, 0.4711334948189285, 0.5120058299384168, 0.7932132805053224, 0.21739252663566455, 0.45054140750139837, 0.7837279030095599, 0.8661803362273658, 0.08077892523184405, 0.7391560072717147, 0.5200409396634603, 0.5327635098656569, 0.4936987951423394, 0.15972609151678852, 0.3674043305884045, 0.9309407207894993, 0.7562914138238666, 0.9245228187917235, 0.7897798263015928, 0.8883574175947754, 0.4295790139982165, 0.9418600444882439, 0.876466708331302, 0.268937582557196, 0.4586580543365951, 0.5091825057937838, 0.4013689040031677, 0.9649263452142592, 0.2798195339959405, 0.35111521581968563, 0.44698526007666095, 0.910679875486936, 0.7053937571975455, 0.8401928965848158, 0.48099423218897885, 0.43941690464672556, 0.9508211139491549, 0.7792514216638674, 0.877576233794885, 0.6315439942485868, 0.9903652995262567, 0.8835592345827236, 0.604628589442806, 0.8131804043333142, 0.9555939279982241, 0.714759580449653, 0.5339006946305191, 0.39932311988671565, 0.9467230397836879, 0.6305731257771198, 0.9199581527457095, 0.6865850912701265, 0.6734470628637039, 0.9171269982182577, 0.7300197128548608, 0.8431528228102009, 0.8094334607154331, 0.6911436183659015, 0.3521125134462134, 0.7234798156798079, 0.7866298467821042, 0.663874207168005, 0.8968930297202579, 0.35720358959056153, 0.8642541822936595, 0.44591149740715685, 0.734703751300972, 0.5482666095408085, 0.8135779951821839, 0.6834709765363575, 0.39841075330954223, 0.8713217455937378, 0.9505810262272858, 0.7540128402432187, 0.12689362553835337, 0.8802205859536892, 0.27364324362323256, 0.16736720258716153, 0.7120688024248129, 0.7765274029987402, 0.6580840208641024, 0.9447778096781984, 0.8845653983881286, 0.2559427750504023, 0.5420241612918671, 0.9646013834702151, 0.8951164954926373, 0.6389263316811004, 0.7964368130835042, 0.7437280140089937, 0.9675674978095344, 0.3990756159605958, 0.9304539475960689, 0.1976931408455942, 0.26835714231604846, 0.785252344729167, 0.9240256052016751, 0.96559157735972, 0.7090503910576195, 0.3482467945711668, 0.39553436808345754, 0.5830620008280653, 0.8323535540890556, 0.832918898949497, 0.9171677724429288, 0.6520445417882917, 0.9819073449706248, 0.7247740161463053, 0.8813931498877712, 0.56295965684887, 0.7010417826988695, 0.8982489246536339, 0.9533404206979005, 0.9677444178084659, 0.29635958525184636, 0.856119676777, 0.9986065363210429, 0.1555336463404885, 0.3769377519032343, 0.6232202837671532, 0.5662327523027352, 0.8887715347640017, 0.7516087198648139, 0.7816431374883257, 0.9857155276448994, 0.884096286202993, 0.573886760772538, 0.9331198130247464, 0.9690536816342172, 0.40643017797521164, 0.8537683227384858, 0.47684811275709904, 0.9944716670949355, 0.9933166928740752, 0.9183783363487821, 0.5059159517489039, 0.6087796075437509, 0.2367324685846277, 0.45932958828793335, 0.6824564726271315, 0.6754031562489898, 0.944406828223687, 0.49704127391706165, 0.7206112106759868, 0.954789681558867, 0.6245574552727385, 0.7997205947953944, 0.8535449005079264, 0.9407490534971356, 0.6979268692425162, 0.5080238841099081, 0.43240790113078387, 0.9561666120385177, 0.5117832136514163, 0.5533993748614126, 0.9154930419808199, 0.681819569611233, 0.9305164253562881, 0.602060598401433, 0.6988268893103072, 0.5824809356187256, 0.18953491549747425, 0.6470997122015056, 0.6527796428827579, 0.7922163423924404, 0.7493626318626996, 0.5047932881794837, 0.48811921736477615, 0.893460003697616, 0.9177230554409233, 0.5742651896044868, 0.8121809744226616, 0.9365395235079204, 0.4937602062252501, 0.804714794382366, 0.9192351788977491, 0.6533599291703581, 0.6326834774754811, 0.5882899233288706, 0.5518520009148253, 0.46327275255771694, 0.4885621115755704, 0.8918726642130945, 0.699060884819508, 0.28201606605483476, 0.9955037657165151, 0.20529300216793733, 0.41405240678766164, 0.599834571590647, 0.8262806917531031, 0.946906198895729, 0.6734520189759801, 0.5818981317831552, 0.7680273545871703, 0.22915329235012238, 0.7241330652958468, 0.6899989617962538, 0.9919398005970023, 0.6843859819081504, 0.6901706213201805, 0.42284719923323943, 0.48233892603125406, 0.7247928973773686, 0.6873679029498013, 0.8314089990943441, 0.4965682338336145, 0.6220481380538351, 0.5227985700398915, 0.7119360621004037, 0.766793470589382, 0.9516252310828136, 0.9803201704904383, 0.9570907288060077, 0.5299378328728231, 0.9373107105295974, 0.24628610987108135, 0.979846917933826, 0.9116456535921842, 0.3888410513934545, 0.4655557865783826, 0.9438460464856661, 0.25319290994298094, 0.6383484671839545, 0.7638171093293414, 0.6237627045233711, 0.3533635253730062, 0.3323553689260962, 0.9488206140054146, 0.8859532767189773, 0.7942813958565412, 0.5803838734442303, 0.5629764618713103, 0.8504802934025502, 0.8665895563430812, 0.5771103123347057, 0.9749417534263531, 0.7258342241076634, 0.7152958869850717, 0.38196951027783066, 0.937191915612144, 0.41566735985389713, 0.8406726487971451, 0.8208329498673284, 0.4892014476581168, 0.8471160440072634, 0.8876540093866828, 0.9485884340241837, 0.27269521633814475, 0.8275941156050867, 0.8873163731966193, 0.8341608287519606, 0.7654402978609745, 0.8646396251423836, 0.9618457519568177, 0.8729850304024733, 0.8127308840245917, 0.989220022537335, 0.0756721459248022, 0.9784793884114172, 0.9221472054344466, 0.8846358667187504, 0.748935419054731, 0.7093041300898033, 0.47875523496512074, 0.5215840016001385, 0.8993503791961885, 0.8446072079168353, 0.32001662924701557, 0.5256018775664475, 0.6322833883468681, 0.7092513084947352, 0.35058188752798647, 0.1550453093779114, 0.3737768687789209, 0.1379870322360448, 0.5666753283165644, 0.9199877619483537, 0.9086254064861877, 0.8684839685730715, 0.531957182163646, 0.9260073717427365, 0.835765603350207, 0.7424722150601688, 0.3600408800386329, 0.8600000671414146, 0.6359290518773895, 0.9356196397581187, 0.8993918046126803, 0.9148737258553659, 0.4164669757135633, 0.9253778437897094, 0.8630412344762071, 0.748530154561091, 0.43069530406028633, 0.6102512948453677, 0.602373123837235, 0.9624480317991367, 0.9780214821985811, 0.17879762236924468, 0.7328803008400308, 0.6794076382910503]\n",
      "0.608\n"
     ]
    }
   ],
   "source": [
    "# Part 3\n",
    "\n",
    "# Write your answer in this cell below\n",
    "\n",
    "problem3_samples_accept_reject = samp_accepted\n",
    "print(problem3_samples_accept_reject)\n",
    "# Put your answer for the proportion of samples accepted below\n",
    "\n",
    "problem3_acceptance_rate = len(samp_accepted)/len(samples)\n",
    "print(problem3_acceptance_rate)"
   ]
  },
  {
   "cell_type": "markdown",
   "id": "a48efb49",
   "metadata": {
    "deletable": false,
    "lx_assignment_number": "vB",
    "lx_assignment_type": "EXAM",
    "lx_assignment_type2print": "Exam",
    "lx_problem_cell_type": "PROBLEM",
    "lx_problem_number": "3",
    "lx_problem_points": "13"
   },
   "source": [
    "# Part 3\n",
    "\n",
    "Double click this cell and write you answer for part 3 below, explain what proposal distibution you chose and why you can choose it.\n"
   ]
  },
  {
   "cell_type": "markdown",
   "id": "24805e73",
   "metadata": {
    "deletable": false,
    "lx_assignment_number": "vB",
    "lx_assignment_type": "EXAM",
    "lx_assignment_type2print": "Exam",
    "lx_problem_cell_type": "PROBLEM",
    "lx_problem_number": "3",
    "lx_problem_points": "13"
   },
   "source": [
    "# Part 4\n",
    "\n",
    "Double click this cell and write you answer for part 4 below, explain if the Gaussian works as a proposal distribution for this density.\n",
    "\n",
    "Answer: Yes it is possible, by graphically plotting the Gaussian $\\mathcal{N}(0,1)*10$ it can be seen, that this distribution is always greater than $f(x)$. Therefore, $\\mathcal{N}(0,1)$ can be used for sampling and $M=10$."
   ]
  },
  {
   "cell_type": "markdown",
   "id": "8cdda032",
   "metadata": {},
   "source": []
  }
 ],
 "metadata": {
  "kernelspec": {
   "display_name": "Python 3 (ipykernel)",
   "language": "python",
   "name": "python3"
  },
  "language_info": {
   "codemirror_mode": {
    "name": "ipython",
    "version": 3
   },
   "file_extension": ".py",
   "mimetype": "text/x-python",
   "name": "python",
   "nbconvert_exporter": "python",
   "pygments_lexer": "ipython3",
   "version": "3.11.4"
  },
  "lx_assignment_number": "vB",
  "lx_course_instance": "2022",
  "lx_course_name": "Introduction to Data Science",
  "lx_course_number": "1MS041"
 },
 "nbformat": 4,
 "nbformat_minor": 5
}

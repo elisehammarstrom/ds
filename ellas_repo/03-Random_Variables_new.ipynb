{
 "cells": [
  {
   "cell_type": "markdown",
   "id": "6e2daa19",
   "metadata": {
    "deletable": false
   },
   "source": [
    "# [Introduction to Data Science](http://datascience-intro.github.io/1MS041-2023/)    \n",
    "## 1MS041, 2023 \n",
    "&copy;2023 Raazesh Sainudiin, Benny Avelin. [Attribution 4.0 International     (CC BY 4.0)](https://creativecommons.org/licenses/by/4.0/)"
   ]
  },
  {
   "cell_type": "markdown",
   "id": "642369fa",
   "metadata": {},
   "source": [
    "## Second notebook on Random variables\n",
    "\n",
    "Lets take a look again at the spam dataset and look at our concepts there"
   ]
  },
  {
   "cell_type": "code",
   "execution_count": 1,
   "id": "c233b9fb",
   "metadata": {},
   "outputs": [
    {
     "data": {
      "text/plain": [
       "[('Go until jurong point, crazy.. Available only in bugis n great world la e buffet... Cine there got amore wat...',\n",
       "  0),\n",
       " ('Ok lar... Joking wif u oni...', 0)]"
      ]
     },
     "execution_count": 1,
     "metadata": {},
     "output_type": "execute_result"
    }
   ],
   "source": [
    "from Utils import load_sms\n",
    "sms_data = load_sms()\n",
    "sms_data[:2]"
   ]
  },
  {
   "cell_type": "markdown",
   "id": "eca27550",
   "metadata": {},
   "source": [
    "Let X represents each SMS text (an entry in the list), and let $Y$ represent whether text is spam or not i.e. $Y \\in \\{0,1\\}$. Thus $\\mathbb{P}(Y = 1)$ is the probability that we get a spam. The goal is to estimate:\n",
    "$$\n",
    "    \\mathbb{P}(Y = 1 | \\text{\"free\" or \"prize\" is in } X) \\enspace .\n",
    "$$\n",
    "That is, the probability that the SMS is spam given that \"free\" or \"prize\" occurs in the SMS. \n",
    "Hint: it is good to remove the upper/lower case of words so that we can also find \"Free\" and \"Prize\"; this can be done with `text.lower()` if `text` a string.\n",
    "\n",
    "To do this we can create a new random variable $Z$ which is $1$ if \"free\" or \"prize\" appears in $X$."
   ]
  },
  {
   "cell_type": "code",
   "execution_count": 2,
   "id": "748a1ab7",
   "metadata": {},
   "outputs": [],
   "source": [
    "interesting_words=set(['free','prize'])\n",
    "TF10 = {True: 1, False: 0}\n",
    "Z_obs = [TF10[not interesting_words.isdisjoint([word.lower() for word in line[0].split(' ')])] for line in sms_data]"
   ]
  },
  {
   "cell_type": "code",
   "execution_count": 3,
   "id": "d46d418d",
   "metadata": {},
   "outputs": [
    {
     "data": {
      "text/plain": [
       "[0, 0, 1, 0, 0, 0, 0, 0, 1, 1]"
      ]
     },
     "execution_count": 3,
     "metadata": {},
     "output_type": "execute_result"
    }
   ],
   "source": [
    "Z_obs[:10]"
   ]
  },
  {
   "cell_type": "code",
   "execution_count": 4,
   "id": "849598c7",
   "metadata": {},
   "outputs": [
    {
     "data": {
      "text/plain": [
       "[0, 0, 1, 0, 0, 1, 0, 0, 1, 1]"
      ]
     },
     "execution_count": 4,
     "metadata": {},
     "output_type": "execute_result"
    }
   ],
   "source": [
    "Y_obs = [y for x,y in sms_data]\n",
    "Y_obs[:10]"
   ]
  },
  {
   "cell_type": "code",
   "execution_count": 5,
   "id": "643101d7",
   "metadata": {},
   "outputs": [],
   "source": [
    "import numpy as np\n",
    "def F_X_12(x):\n",
    "    TF10 = {True: 1, False: 0}\n",
    "    return np.mean([TF10[(y <= x[0]) and (z <= x[1])] for y,z in zip (Y_obs,Z_obs)]) "
   ]
  },
  {
   "cell_type": "code",
   "execution_count": 7,
   "id": "a30b6ad6",
   "metadata": {},
   "outputs": [
    {
     "data": {
      "text/plain": [
       "0.9551328068916008"
      ]
     },
     "execution_count": 7,
     "metadata": {},
     "output_type": "execute_result"
    }
   ],
   "source": [
    "F_X_12([1,0])    #all the sms and the words do not appear"
   ]
  },
  {
   "cell_type": "markdown",
   "id": "282dce22",
   "metadata": {},
   "source": [
    "This is the JDF for this problem"
   ]
  },
  {
   "cell_type": "code",
   "execution_count": 8,
   "id": "66fc1e76",
   "metadata": {},
   "outputs": [
    {
     "name": "stdout",
     "output_type": "stream",
     "text": [
      "\tz <= 0 \t\tz <= 1\n",
      "y <= 0 \t0.86\t\t0.87\t\t\n",
      "\n",
      "y <= 1 \t0.96\t\t1.00\t\t\n",
      "\n"
     ]
    }
   ],
   "source": [
    "print(\"\\tz <= 0 \\t\\tz <= 1\")\n",
    "for x1 in range(0,2):\n",
    "    print(\"y <= %d \\t\" % x1,end='')\n",
    "    for x2 in range(0,2):\n",
    "        print(\"%.2f\" % (F_X_12((x1,x2))),end='\\t\\t')\n",
    "    print('\\n')"
   ]
  },
  {
   "cell_type": "code",
   "execution_count": 9,
   "id": "13cf77ef",
   "metadata": {},
   "outputs": [
    {
     "data": {
      "text/plain": [
       "0.9551328068916008"
      ]
     },
     "execution_count": 9,
     "metadata": {},
     "output_type": "execute_result"
    }
   ],
   "source": [
    "F_X_12((1,0))"
   ]
  },
  {
   "cell_type": "code",
   "execution_count": 11,
   "id": "b8a505f8",
   "metadata": {},
   "outputs": [
    {
     "data": {
      "text/plain": [
       "False"
      ]
     },
     "execution_count": 11,
     "metadata": {},
     "output_type": "execute_result"
    }
   ],
   "source": [
    "F_X_12((0,0)) == F_X_12((0,1))*F_X_12((1,0))  #check if they are independent"
   ]
  },
  {
   "cell_type": "code",
   "execution_count": 12,
   "id": "62500fa3",
   "metadata": {},
   "outputs": [
    {
     "data": {
      "text/plain": [
       "0.8270846721557743"
      ]
     },
     "execution_count": 12,
     "metadata": {},
     "output_type": "execute_result"
    }
   ],
   "source": [
    "F_X_12((0,1))*F_X_12((1,0))"
   ]
  },
  {
   "cell_type": "code",
   "execution_count": 13,
   "id": "9bf605ec",
   "metadata": {},
   "outputs": [
    {
     "data": {
      "text/plain": [
       "0.827084672155774"
      ]
     },
     "execution_count": 13,
     "metadata": {},
     "output_type": "execute_result"
    }
   ],
   "source": [
    "# Are they indepdentent? If so, then the JDF is just the product of the \n",
    "# DFs for Y and Z, but\n",
    "0.865936826992103*0.955132806891601"
   ]
  },
  {
   "cell_type": "markdown",
   "id": "7ad99893",
   "metadata": {},
   "source": [
    "Which is not 0.858, so they are not independent. So lets try to estimate the probability that $Y=1$ given that $Z = 1$. Lets again do that by filtering"
   ]
  },
  {
   "cell_type": "code",
   "execution_count": 14,
   "id": "f7639b9f",
   "metadata": {},
   "outputs": [
    {
     "data": {
      "text/plain": [
       "0.812"
      ]
     },
     "execution_count": 14,
     "metadata": {},
     "output_type": "execute_result"
    }
   ],
   "source": [
    "np.mean([y for z,y in zip(Z_obs,Y_obs) if z == 1]) # if you know that the word \"free\" or \"prize\" appear, 81.2% of the sms are marked with spam"
   ]
  },
  {
   "cell_type": "markdown",
   "id": "983e6592",
   "metadata": {},
   "source": [
    "Compare that with the marginal probability of $Y = 1$, which is according to our JDF 1-0.866 = 0.134"
   ]
  },
  {
   "cell_type": "code",
   "execution_count": 17,
   "id": "aa217e81",
   "metadata": {},
   "outputs": [
    {
     "data": {
      "text/plain": [
       "0.13406317300789664"
      ]
     },
     "execution_count": 17,
     "metadata": {},
     "output_type": "execute_result"
    }
   ],
   "source": [
    "# Or we can just compute it directly\n",
    "np.mean(Y_obs)"
   ]
  },
  {
   "cell_type": "markdown",
   "id": "1a413e5c",
   "metadata": {},
   "source": [
    "What we see from this is that knowing that the words \"free\" or \"prize\" appeared in the sms text, we are much more certain that it is a spam. We also see that looking directly at the JDF this can be hard to see, although it is equivalent."
   ]
  },
  {
   "cell_type": "code",
   "execution_count": 18,
   "id": "e1965964",
   "metadata": {},
   "outputs": [],
   "source": [
    "x = np.random.normal(size=100)"
   ]
  },
  {
   "cell_type": "code",
   "execution_count": 19,
   "id": "b00222d5",
   "metadata": {},
   "outputs": [
    {
     "data": {
      "text/plain": [
       "-0.03588895465276748"
      ]
     },
     "execution_count": 19,
     "metadata": {},
     "output_type": "execute_result"
    }
   ],
   "source": [
    "np.mean(x)"
   ]
  },
  {
   "cell_type": "code",
   "execution_count": 20,
   "id": "1ed9e4a1",
   "metadata": {},
   "outputs": [],
   "source": [
    "g = lambda x: x**2"
   ]
  },
  {
   "cell_type": "code",
   "execution_count": 21,
   "id": "5153a6be",
   "metadata": {},
   "outputs": [
    {
     "data": {
      "text/plain": [
       "2.2705184113900505"
      ]
     },
     "execution_count": 21,
     "metadata": {},
     "output_type": "execute_result"
    }
   ],
   "source": [
    "mean = np.mean(x)\n",
    "y = x-mean\n",
    "np.mean(y**4)"
   ]
  },
  {
   "cell_type": "markdown",
   "id": "73f121b2",
   "metadata": {},
   "source": [
    "## Moments etc"
   ]
  },
  {
   "cell_type": "code",
   "execution_count": 22,
   "id": "89d43728",
   "metadata": {},
   "outputs": [],
   "source": [
    "import numpy as np\n",
    "x = np.random.normal(size=100)"
   ]
  },
  {
   "cell_type": "code",
   "execution_count": 23,
   "id": "7258956c",
   "metadata": {
    "scrolled": true
   },
   "outputs": [
    {
     "data": {
      "text/plain": [
       "array([-0.3096382 , -1.56017125,  1.25974056,  0.12351558, -0.97539725,\n",
       "        0.96887711,  1.57425445,  0.01876834,  2.13663956,  1.65921422,\n",
       "       -0.20000614,  0.45332731, -0.2598708 , -1.70728752,  1.55541259,\n",
       "       -1.73887747, -2.20111889,  0.25341811,  0.5473434 ,  0.91166609,\n",
       "       -1.10931892,  2.35160806, -0.81616774,  1.00379658,  0.03422411,\n",
       "        0.48835246,  0.71033275,  0.45996575, -1.14218813,  0.26275129,\n",
       "       -0.27245709, -0.22826163, -0.43639135,  0.60046088,  0.29886391,\n",
       "        0.69208724, -1.85093799, -1.5065883 ,  0.62201113, -1.49508418,\n",
       "       -0.75036105, -0.80984575, -0.50184606, -0.12247139,  0.61936569,\n",
       "        1.59942433, -0.84435722,  1.46979254, -0.15792482,  0.80051589,\n",
       "       -0.04599968, -1.47013669,  0.58158272,  2.73470807, -2.13360392,\n",
       "        1.27414944, -1.02787819,  0.69116623,  0.35743938, -0.33533963,\n",
       "        0.98711044,  2.1889438 ,  0.97342638,  1.10077606, -1.26461743,\n",
       "       -0.98146356, -0.12709888,  2.37561579,  0.21700843, -0.96418117,\n",
       "        1.90625996, -0.80894416,  1.76391224,  0.43359488,  0.3286872 ,\n",
       "       -0.52739035, -0.20719888, -0.05261396, -0.93329137,  0.34790304,\n",
       "       -0.493546  , -0.81080983, -0.40846773, -0.02105154, -0.44376335,\n",
       "       -1.89146179, -0.74120022,  1.01684723, -0.93508665, -0.57105648,\n",
       "       -0.25359889,  0.29640425, -0.08570359,  1.39326704, -1.87021948,\n",
       "       -1.34583399, -1.82039443, -0.94536605, -0.13070791,  0.78422602])"
      ]
     },
     "execution_count": 23,
     "metadata": {},
     "output_type": "execute_result"
    }
   ],
   "source": [
    "x"
   ]
  },
  {
   "cell_type": "markdown",
   "id": "fbfb7f92",
   "metadata": {},
   "source": [
    "## Sample mean"
   ]
  },
  {
   "cell_type": "code",
   "execution_count": 24,
   "id": "310e268a",
   "metadata": {},
   "outputs": [
    {
     "data": {
      "text/plain": [
       "0.005841635881240106"
      ]
     },
     "execution_count": 24,
     "metadata": {},
     "output_type": "execute_result"
    }
   ],
   "source": [
    "np.mean(x)"
   ]
  },
  {
   "cell_type": "markdown",
   "id": "2f77c418",
   "metadata": {},
   "source": [
    "## Sample variance"
   ]
  },
  {
   "cell_type": "code",
   "execution_count": 25,
   "id": "c410cc0c",
   "metadata": {},
   "outputs": [
    {
     "data": {
      "text/plain": [
       "1.2276257928723426"
      ]
     },
     "execution_count": 25,
     "metadata": {},
     "output_type": "execute_result"
    }
   ],
   "source": [
    "np.var(x)"
   ]
  },
  {
   "cell_type": "markdown",
   "id": "55bc85a6",
   "metadata": {},
   "source": [
    "Or by doing it yourself"
   ]
  },
  {
   "cell_type": "code",
   "execution_count": 26,
   "id": "66d916e4",
   "metadata": {},
   "outputs": [
    {
     "data": {
      "text/plain": [
       "1.2276257928723426"
      ]
     },
     "execution_count": 26,
     "metadata": {},
     "output_type": "execute_result"
    }
   ],
   "source": [
    "mu = np.mean(x)\n",
    "np.mean(np.power(x-mu,2))"
   ]
  },
  {
   "cell_type": "markdown",
   "id": "734444d5",
   "metadata": {},
   "source": [
    "Higher moments, we can use `scipy`"
   ]
  },
  {
   "cell_type": "code",
   "execution_count": 27,
   "id": "b411e8b0",
   "metadata": {},
   "outputs": [],
   "source": [
    "from scipy.stats import skew, kurtosis"
   ]
  },
  {
   "cell_type": "code",
   "execution_count": 28,
   "id": "3754281b",
   "metadata": {},
   "outputs": [
    {
     "data": {
      "text/plain": [
       "0.1914879847645642"
      ]
     },
     "execution_count": 28,
     "metadata": {},
     "output_type": "execute_result"
    }
   ],
   "source": [
    "skew(x)"
   ]
  },
  {
   "cell_type": "code",
   "execution_count": 29,
   "id": "47e3068e",
   "metadata": {},
   "outputs": [
    {
     "data": {
      "text/plain": [
       "2.536780784274444"
      ]
     },
     "execution_count": 29,
     "metadata": {},
     "output_type": "execute_result"
    }
   ],
   "source": [
    "kurtosis(x,fisher=False)"
   ]
  },
  {
   "cell_type": "markdown",
   "id": "8fbee45a",
   "metadata": {},
   "source": [
    "## Moments and tail behavior"
   ]
  },
  {
   "cell_type": "code",
   "execution_count": 30,
   "id": "054b1216",
   "metadata": {},
   "outputs": [],
   "source": [
    "def standardize(data):\n",
    "    mean = np.mean(data)\n",
    "    std = np.sqrt(np.var(data))\n",
    "    return (data-mean)/std"
   ]
  },
  {
   "cell_type": "code",
   "execution_count": 31,
   "id": "3c6bac39",
   "metadata": {},
   "outputs": [
    {
     "data": {
      "text/plain": [
       "(-3.0, 5.0)"
      ]
     },
     "execution_count": 31,
     "metadata": {},
     "output_type": "execute_result"
    },
    {
     "data": {
      "image/png": "[encoded data removed]",
      "text/plain": [
       "<Figure size 640x480 with 1 Axes>"
      ]
     },
     "metadata": {},
     "output_type": "display_data"
    }
   ],
   "source": [
    "import numpy as np\n",
    "chi2 = np.random.chisquare(4,size=10000)\n",
    "normal = np.random.normal(size=10000)\n",
    "import matplotlib.pyplot as plt\n",
    "_=plt.hist(standardize(chi2),bins=50,alpha=0.5)\n",
    "_=plt.hist(standardize(normal),bins=50,alpha=0.5)\n",
    "plt.xlim(-3,5)"
   ]
  },
  {
   "cell_type": "code",
   "execution_count": 32,
   "id": "418296c0",
   "metadata": {},
   "outputs": [],
   "source": [
    "from scipy.stats import skew, kurtosis\n",
    "def print_basic_stats(data):\n",
    "    print(\"mean: %.2f\\tstd: %.2f\\tskew: %.2f\\tkurtosis: %.2f\" % (np.mean(data),np.std(data),skew(data),kurtosis(data,fisher=False)))"
   ]
  },
  {
   "cell_type": "code",
   "execution_count": 33,
   "id": "c69ad130",
   "metadata": {},
   "outputs": [
    {
     "name": "stdout",
     "output_type": "stream",
     "text": [
      "mean: -0.00\tstd: 1.00\tskew: -0.01\tkurtosis: 2.98\n"
     ]
    }
   ],
   "source": [
    "print_basic_stats(standardize(normal))"
   ]
  },
  {
   "cell_type": "code",
   "execution_count": 34,
   "id": "4411edd2",
   "metadata": {},
   "outputs": [
    {
     "name": "stdout",
     "output_type": "stream",
     "text": [
      "mean: -0.00\tstd: 1.00\tskew: 1.40\tkurtosis: 5.95\n"
     ]
    }
   ],
   "source": [
    "print_basic_stats(standardize(chi2))"
   ]
  },
  {
   "cell_type": "code",
   "execution_count": 35,
   "id": "bc71ecc2",
   "metadata": {},
   "outputs": [
    {
     "name": "stdout",
     "output_type": "stream",
     "text": [
      "mean: 0.00\tstd: 1.00\tskew: 0.39\tkurtosis: 3.06\n"
     ]
    }
   ],
   "source": [
    "print_basic_stats(standardize(np.sqrt(chi2)))"
   ]
  },
  {
   "cell_type": "code",
   "execution_count": 36,
   "id": "66dfb92c",
   "metadata": {},
   "outputs": [
    {
     "data": {
      "text/plain": [
       "1.4040003207139704"
      ]
     },
     "execution_count": 36,
     "metadata": {},
     "output_type": "execute_result"
    }
   ],
   "source": [
    "np.mean(np.power(standardize(chi2),3)) # Skewness"
   ]
  },
  {
   "cell_type": "code",
   "execution_count": 37,
   "id": "7d937502",
   "metadata": {},
   "outputs": [
    {
     "data": {
      "text/plain": [
       "5.9488333419529775"
      ]
     },
     "execution_count": 37,
     "metadata": {},
     "output_type": "execute_result"
    }
   ],
   "source": [
    "np.mean(np.power(standardize(chi2),4)) # kurtosis"
   ]
  },
  {
   "cell_type": "markdown",
   "id": "f1925233",
   "metadata": {},
   "source": [
    "## Transformations of random variables"
   ]
  },
  {
   "cell_type": "markdown",
   "id": "b3c55f41",
   "metadata": {},
   "source": [
    "Consider a Binomial random variable"
   ]
  },
  {
   "cell_type": "code",
   "execution_count": 38,
   "id": "2b79a528",
   "metadata": {},
   "outputs": [],
   "source": [
    "n = 10\n",
    "p = 0.5\n",
    "x = np.random.binomial(n,p,size=1000)"
   ]
  },
  {
   "cell_type": "markdown",
   "id": "101db43d",
   "metadata": {},
   "source": [
    "Lets plot the empirical density"
   ]
  },
  {
   "cell_type": "code",
   "execution_count": 39,
   "id": "9b147af7",
   "metadata": {},
   "outputs": [
    {
     "data": {
      "image/png": "[encoded data removed]",
      "text/plain": [
       "<Figure size 640x480 with 1 Axes>"
      ]
     },
     "metadata": {},
     "output_type": "display_data"
    }
   ],
   "source": [
    "from Utils import makeEMF,makeEDF,plotEDF,plotEMF\n",
    "plotEMF(makeEMF(x))"
   ]
  },
  {
   "cell_type": "markdown",
   "id": "f55f6211",
   "metadata": {},
   "source": [
    "If we had the function $g(x) = \\sin(x/3)$"
   ]
  },
  {
   "cell_type": "code",
   "execution_count": 40,
   "id": "e19838c9",
   "metadata": {},
   "outputs": [
    {
     "data": {
      "image/png": "[encoded data removed]",
      "text/plain": [
       "<Figure size 640x480 with 1 Axes>"
      ]
     },
     "metadata": {},
     "output_type": "display_data"
    }
   ],
   "source": [
    "plotEMF(makeEMF(np.sin(x)))"
   ]
  },
  {
   "cell_type": "code",
   "execution_count": 41,
   "id": "f06beb03",
   "metadata": {},
   "outputs": [
    {
     "data": {
      "image/png": "[encoded data removed]",
      "text/plain": [
       "<Figure size 640x480 with 1 Axes>"
      ]
     },
     "metadata": {},
     "output_type": "display_data"
    }
   ],
   "source": [
    "plotEDF(makeEDF(np.sin(x)))"
   ]
  },
  {
   "cell_type": "markdown",
   "id": "62f39aa0",
   "metadata": {},
   "source": [
    "Can we compute this thing?\n",
    "What is $\\sin^{[-1]}$?\n",
    "\n",
    "Since $X$ is discrete, we can check what $\\mathbb{Y}$ is, since $\\mathbb{X}=\\{0,1,\\ldots,10\\}$."
   ]
  },
  {
   "cell_type": "code",
   "execution_count": 42,
   "id": "40ce7e68",
   "metadata": {},
   "outputs": [],
   "source": [
    "Y_space = np.sort(np.sin(np.arange(0,11)))\n",
    "sin_inv = dict(zip(np.sin(np.arange(0,11)),np.arange(0,11)))"
   ]
  },
  {
   "cell_type": "code",
   "execution_count": 43,
   "id": "fd68ac2a",
   "metadata": {},
   "outputs": [
    {
     "data": {
      "image/png": "[encoded data removed]",
      "text/plain": [
       "<Figure size 640x480 with 1 Axes>"
      ]
     },
     "metadata": {},
     "output_type": "display_data"
    }
   ],
   "source": [
    "from scipy.special import binom as binomial\n",
    "plotEMF([(y,binomial(n,sin_inv[y])*(p**sin_inv[y])*((1-p)**(n-sin_inv[y]))) for y in Y_space])"
   ]
  },
  {
   "cell_type": "code",
   "execution_count": 45,
   "id": "1e47687d",
   "metadata": {},
   "outputs": [
    {
     "data": {
      "image/png": "[encoded data removed]",
      "text/plain": [
       "<Figure size 640x480 with 1 Axes>"
      ]
     },
     "metadata": {},
     "output_type": "display_data"
    }
   ],
   "source": [
    "from Utils import plotEDF,emfToEdf\n",
    "plotEDF(emfToEdf([(y,binomial(n,sin_inv[y])*(p**sin_inv[y])*((1-p)**(n-sin_inv[y]))) for y in Y_space]))"
   ]
  },
  {
   "cell_type": "code",
   "execution_count": null,
   "id": "6166bfb8",
   "metadata": {},
   "outputs": [],
   "source": []
  }
 ],
 "metadata": {
  "kernelspec": {
   "display_name": "Python 3 (ipykernel)",
   "language": "python",
   "name": "python3"
  },
  "language_info": {
   "codemirror_mode": {
    "name": "ipython",
    "version": 3
   },
   "file_extension": ".py",
   "mimetype": "text/x-python",
   "name": "python",
   "nbconvert_exporter": "python",
   "pygments_lexer": "ipython3",
   "version": "3.11.4"
  },
  "lx_course_instance": "2023",
  "lx_course_name": "Introduction to Data Science",
  "lx_course_number": "1MS041"
 },
 "nbformat": 4,
 "nbformat_minor": 5
}

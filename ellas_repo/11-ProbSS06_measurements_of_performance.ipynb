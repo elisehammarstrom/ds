{
 "cells": [
  {
   "cell_type": "markdown",
   "metadata": {
    "deletable": false
   },
   "source": [
    "# [Introduction to Data Science](http://datascience-intro.github.io/1MS041-2023/)    \n",
    "## 1MS041, 2023 \n",
    "&copy;2023 Raazesh Sainudiin, Benny Avelin. [Attribution 4.0 International     (CC BY 4.0)](https://creativecommons.org/licenses/by/4.0/)"
   ]
  },
  {
   "cell_type": "markdown",
   "metadata": {},
   "source": [
    "## Other measurements of performance\n",
    "\n",
    "Recall that in the logistic regression case our function $G(x) \\in [0,1]$ and represents the probability of the label being $1$, we then used the following rule to construct a decision function from this $G$, i.e. \n",
    "$$\n",
    "    g(x) = \n",
    "    \\begin{cases}\n",
    "        1, & \\text{if } G(x) > 1/2 \\\\\n",
    "        0, & \\text{otherwise.}\n",
    "    \\end{cases}\n",
    "$$\n",
    "The parameter $1/2$ can be changed in order to create a trade-off between precision and recall.\n",
    "\n",
    "Lets consider the function\n",
    "$$\n",
    "    g_\\alpha(x) = \n",
    "    \\begin{cases}\n",
    "        1, & \\text{if } G(x) > \\alpha \\\\\n",
    "        0, & \\text{otherwise.}\n",
    "    \\end{cases}\n",
    "$$\n",
    "where $\\alpha \\in [0,1]$, then for each such $\\alpha$ we get a precision and recall, i.e.\n",
    "$$\n",
    "    \\begin{aligned}\n",
    "        \\text{Precision:} \\quad \\text{Pr}(\\alpha) =  P(Y = 1 \\mid g_\\alpha(X) = 1) \\\\\n",
    "        \\text{Recall:} \\quad \\text{Re} (\\alpha) = P(g_\\alpha(X) = 1 \\mid Y = 1).\n",
    "    \\end{aligned}\n",
    "$$\n",
    "\n",
    "These functions can be plotted as functions of $\\alpha$, we can see that below"
   ]
  },
  {
   "cell_type": "code",
   "execution_count": 1,
   "metadata": {},
   "outputs": [
    {
     "data": {
      "text/html": [
       "<style>#sk-container-id-1 {color: black;background-color: white;}#sk-container-id-1 pre{padding: 0;}#sk-container-id-1 div.sk-toggleable {background-color: white;}#sk-container-id-1 label.sk-toggleable__label {cursor: pointer;display: block;width: 100%;margin-bottom: 0;padding: 0.3em;box-sizing: border-box;text-align: center;}#sk-container-id-1 label.sk-toggleable__label-arrow:before {content: \"▸\";float: left;margin-right: 0.25em;color: #696969;}#sk-container-id-1 label.sk-toggleable__label-arrow:hover:before {color: black;}#sk-container-id-1 div.sk-estimator:hover label.sk-toggleable__label-arrow:before {color: black;}#sk-container-id-1 div.sk-toggleable__content {max-height: 0;max-width: 0;overflow: hidden;text-align: left;background-color: #f0f8ff;}#sk-container-id-1 div.sk-toggleable__content pre {margin: 0.2em;color: black;border-radius: 0.25em;background-color: #f0f8ff;}#sk-container-id-1 input.sk-toggleable__control:checked~div.sk-toggleable__content {max-height: 200px;max-width: 100%;overflow: auto;}#sk-container-id-1 input.sk-toggleable__control:checked~label.sk-toggleable__label-arrow:before {content: \"▾\";}#sk-container-id-1 div.sk-estimator input.sk-toggleable__control:checked~label.sk-toggleable__label {background-color: #d4ebff;}#sk-container-id-1 div.sk-label input.sk-toggleable__control:checked~label.sk-toggleable__label {background-color: #d4ebff;}#sk-container-id-1 input.sk-hidden--visually {border: 0;clip: rect(1px 1px 1px 1px);clip: rect(1px, 1px, 1px, 1px);height: 1px;margin: -1px;overflow: hidden;padding: 0;position: absolute;width: 1px;}#sk-container-id-1 div.sk-estimator {font-family: monospace;background-color: #f0f8ff;border: 1px dotted black;border-radius: 0.25em;box-sizing: border-box;margin-bottom: 0.5em;}#sk-container-id-1 div.sk-estimator:hover {background-color: #d4ebff;}#sk-container-id-1 div.sk-parallel-item::after {content: \"\";width: 100%;border-bottom: 1px solid gray;flex-grow: 1;}#sk-container-id-1 div.sk-label:hover label.sk-toggleable__label {background-color: #d4ebff;}#sk-container-id-1 div.sk-serial::before {content: \"\";position: absolute;border-left: 1px solid gray;box-sizing: border-box;top: 0;bottom: 0;left: 50%;z-index: 0;}#sk-container-id-1 div.sk-serial {display: flex;flex-direction: column;align-items: center;background-color: white;padding-right: 0.2em;padding-left: 0.2em;position: relative;}#sk-container-id-1 div.sk-item {position: relative;z-index: 1;}#sk-container-id-1 div.sk-parallel {display: flex;align-items: stretch;justify-content: center;background-color: white;position: relative;}#sk-container-id-1 div.sk-item::before, #sk-container-id-1 div.sk-parallel-item::before {content: \"\";position: absolute;border-left: 1px solid gray;box-sizing: border-box;top: 0;bottom: 0;left: 50%;z-index: -1;}#sk-container-id-1 div.sk-parallel-item {display: flex;flex-direction: column;z-index: 1;position: relative;background-color: white;}#sk-container-id-1 div.sk-parallel-item:first-child::after {align-self: flex-end;width: 50%;}#sk-container-id-1 div.sk-parallel-item:last-child::after {align-self: flex-start;width: 50%;}#sk-container-id-1 div.sk-parallel-item:only-child::after {width: 0;}#sk-container-id-1 div.sk-dashed-wrapped {border: 1px dashed gray;margin: 0 0.4em 0.5em 0.4em;box-sizing: border-box;padding-bottom: 0.4em;background-color: white;}#sk-container-id-1 div.sk-label label {font-family: monospace;font-weight: bold;display: inline-block;line-height: 1.2em;}#sk-container-id-1 div.sk-label-container {text-align: center;}#sk-container-id-1 div.sk-container {/* jupyter's `normalize.less` sets `[hidden] { display: none; }` but bootstrap.min.css set `[hidden] { display: none !important; }` so we also need the `!important` here to be able to override the default hidden behavior on the sphinx rendered scikit-learn.org. See: https://github.com/scikit-learn/scikit-learn/issues/21755 */display: inline-block !important;position: relative;}#sk-container-id-1 div.sk-text-repr-fallback {display: none;}</style><div id=\"sk-container-id-1\" class=\"sk-top-container\"><div class=\"sk-text-repr-fallback\"><pre>SVC(kernel=&#x27;linear&#x27;, probability=True)</pre><b>In a Jupyter environment, please rerun this cell to show the HTML representation or trust the notebook. <br />On GitHub, the HTML representation is unable to render, please try loading this page with nbviewer.org.</b></div><div class=\"sk-container\" hidden><div class=\"sk-item\"><div class=\"sk-estimator sk-toggleable\"><input class=\"sk-toggleable__control sk-hidden--visually\" id=\"sk-estimator-id-1\" type=\"checkbox\" checked><label for=\"sk-estimator-id-1\" class=\"sk-toggleable__label sk-toggleable__label-arrow\">SVC</label><div class=\"sk-toggleable__content\"><pre>SVC(kernel=&#x27;linear&#x27;, probability=True)</pre></div></div></div></div></div>"
      ],
      "text/plain": [
       "SVC(kernel='linear', probability=True)"
      ]
     },
     "execution_count": 1,
     "metadata": {},
     "output_type": "execute_result"
    }
   ],
   "source": [
    "from sklearn.datasets import load_digits\n",
    "import matplotlib.pyplot as plt\n",
    "from sklearn.datasets import load_digits\n",
    "digits = load_digits()\n",
    "\n",
    "from sklearn.svm import SVC\n",
    "\n",
    "labels = digits['target'] >= 5\n",
    "\n",
    "X = digits['data']\n",
    "\n",
    "from sklearn.model_selection import train_test_split\n",
    "X_train, X_test, Y_train, Y_test = train_test_split(X,labels)\n",
    "\n",
    "per = SVC(kernel='linear',probability=True)\n",
    "\n",
    "per.fit(X_train,Y_train)"
   ]
  },
  {
   "cell_type": "code",
   "execution_count": 2,
   "metadata": {},
   "outputs": [
    {
     "data": {
      "text/html": [
       "<style>#sk-container-id-2 {color: black;background-color: white;}#sk-container-id-2 pre{padding: 0;}#sk-container-id-2 div.sk-toggleable {background-color: white;}#sk-container-id-2 label.sk-toggleable__label {cursor: pointer;display: block;width: 100%;margin-bottom: 0;padding: 0.3em;box-sizing: border-box;text-align: center;}#sk-container-id-2 label.sk-toggleable__label-arrow:before {content: \"▸\";float: left;margin-right: 0.25em;color: #696969;}#sk-container-id-2 label.sk-toggleable__label-arrow:hover:before {color: black;}#sk-container-id-2 div.sk-estimator:hover label.sk-toggleable__label-arrow:before {color: black;}#sk-container-id-2 div.sk-toggleable__content {max-height: 0;max-width: 0;overflow: hidden;text-align: left;background-color: #f0f8ff;}#sk-container-id-2 div.sk-toggleable__content pre {margin: 0.2em;color: black;border-radius: 0.25em;background-color: #f0f8ff;}#sk-container-id-2 input.sk-toggleable__control:checked~div.sk-toggleable__content {max-height: 200px;max-width: 100%;overflow: auto;}#sk-container-id-2 input.sk-toggleable__control:checked~label.sk-toggleable__label-arrow:before {content: \"▾\";}#sk-container-id-2 div.sk-estimator input.sk-toggleable__control:checked~label.sk-toggleable__label {background-color: #d4ebff;}#sk-container-id-2 div.sk-label input.sk-toggleable__control:checked~label.sk-toggleable__label {background-color: #d4ebff;}#sk-container-id-2 input.sk-hidden--visually {border: 0;clip: rect(1px 1px 1px 1px);clip: rect(1px, 1px, 1px, 1px);height: 1px;margin: -1px;overflow: hidden;padding: 0;position: absolute;width: 1px;}#sk-container-id-2 div.sk-estimator {font-family: monospace;background-color: #f0f8ff;border: 1px dotted black;border-radius: 0.25em;box-sizing: border-box;margin-bottom: 0.5em;}#sk-container-id-2 div.sk-estimator:hover {background-color: #d4ebff;}#sk-container-id-2 div.sk-parallel-item::after {content: \"\";width: 100%;border-bottom: 1px solid gray;flex-grow: 1;}#sk-container-id-2 div.sk-label:hover label.sk-toggleable__label {background-color: #d4ebff;}#sk-container-id-2 div.sk-serial::before {content: \"\";position: absolute;border-left: 1px solid gray;box-sizing: border-box;top: 0;bottom: 0;left: 50%;z-index: 0;}#sk-container-id-2 div.sk-serial {display: flex;flex-direction: column;align-items: center;background-color: white;padding-right: 0.2em;padding-left: 0.2em;position: relative;}#sk-container-id-2 div.sk-item {position: relative;z-index: 1;}#sk-container-id-2 div.sk-parallel {display: flex;align-items: stretch;justify-content: center;background-color: white;position: relative;}#sk-container-id-2 div.sk-item::before, #sk-container-id-2 div.sk-parallel-item::before {content: \"\";position: absolute;border-left: 1px solid gray;box-sizing: border-box;top: 0;bottom: 0;left: 50%;z-index: -1;}#sk-container-id-2 div.sk-parallel-item {display: flex;flex-direction: column;z-index: 1;position: relative;background-color: white;}#sk-container-id-2 div.sk-parallel-item:first-child::after {align-self: flex-end;width: 50%;}#sk-container-id-2 div.sk-parallel-item:last-child::after {align-self: flex-start;width: 50%;}#sk-container-id-2 div.sk-parallel-item:only-child::after {width: 0;}#sk-container-id-2 div.sk-dashed-wrapped {border: 1px dashed gray;margin: 0 0.4em 0.5em 0.4em;box-sizing: border-box;padding-bottom: 0.4em;background-color: white;}#sk-container-id-2 div.sk-label label {font-family: monospace;font-weight: bold;display: inline-block;line-height: 1.2em;}#sk-container-id-2 div.sk-label-container {text-align: center;}#sk-container-id-2 div.sk-container {/* jupyter's `normalize.less` sets `[hidden] { display: none; }` but bootstrap.min.css set `[hidden] { display: none !important; }` so we also need the `!important` here to be able to override the default hidden behavior on the sphinx rendered scikit-learn.org. See: https://github.com/scikit-learn/scikit-learn/issues/21755 */display: inline-block !important;position: relative;}#sk-container-id-2 div.sk-text-repr-fallback {display: none;}</style><div id=\"sk-container-id-2\" class=\"sk-top-container\"><div class=\"sk-text-repr-fallback\"><pre>SVC(probability=True)</pre><b>In a Jupyter environment, please rerun this cell to show the HTML representation or trust the notebook. <br />On GitHub, the HTML representation is unable to render, please try loading this page with nbviewer.org.</b></div><div class=\"sk-container\" hidden><div class=\"sk-item\"><div class=\"sk-estimator sk-toggleable\"><input class=\"sk-toggleable__control sk-hidden--visually\" id=\"sk-estimator-id-2\" type=\"checkbox\" checked><label for=\"sk-estimator-id-2\" class=\"sk-toggleable__label sk-toggleable__label-arrow\">SVC</label><div class=\"sk-toggleable__content\"><pre>SVC(probability=True)</pre></div></div></div></div></div>"
      ],
      "text/plain": [
       "SVC(probability=True)"
      ]
     },
     "execution_count": 2,
     "metadata": {},
     "output_type": "execute_result"
    }
   ],
   "source": [
    "per_rbf = SVC(kernel='rbf',probability=True)\n",
    "\n",
    "per_rbf.fit(X_train,Y_train)"
   ]
  },
  {
   "cell_type": "code",
   "execution_count": 3,
   "metadata": {},
   "outputs": [],
   "source": [
    "from Utils import classification_report_interval"
   ]
  },
  {
   "cell_type": "code",
   "execution_count": 4,
   "metadata": {},
   "outputs": [
    {
     "name": "stdout",
     "output_type": "stream",
     "text": [
      "            labels           precision             recall\n",
      "\n",
      "             False  0.87 : [0.74,1.00] 0.89 : [0.76,1.00]\n",
      "              True  0.89 : [0.77,1.00] 0.88 : [0.75,1.00]\n",
      "\n",
      "          accuracy                                        0.88 : [0.79,0.97]\n",
      "\n"
     ]
    }
   ],
   "source": [
    "print(classification_report_interval(Y_test,per.predict(X_test)))"
   ]
  },
  {
   "cell_type": "code",
   "execution_count": 5,
   "metadata": {},
   "outputs": [
    {
     "data": {
      "text/plain": [
       "array([[4.24151478e-02, 9.57584852e-01],\n",
       "       [6.11843502e-01, 3.88156498e-01],\n",
       "       [2.90182833e-01, 7.09817167e-01],\n",
       "       [9.31982181e-01, 6.80178185e-02],\n",
       "       [9.27459692e-01, 7.25403082e-02],\n",
       "       [8.47943275e-01, 1.52056725e-01],\n",
       "       [7.30685188e-01, 2.69314812e-01],\n",
       "       [1.22497748e-02, 9.87750225e-01],\n",
       "       [9.95519215e-06, 9.99990045e-01],\n",
       "       [7.67628937e-03, 9.92323711e-01],\n",
       "       [2.47081244e-01, 7.52918756e-01],\n",
       "       [3.14396129e-02, 9.68560387e-01],\n",
       "       [4.57898137e-02, 9.54210186e-01],\n",
       "       [2.60098695e-01, 7.39901305e-01],\n",
       "       [5.87242647e-01, 4.12757353e-01],\n",
       "       [5.79119737e-01, 4.20880263e-01],\n",
       "       [2.78743616e-03, 9.97212564e-01],\n",
       "       [9.97527755e-01, 2.47224506e-03],\n",
       "       [5.76795244e-01, 4.23204756e-01],\n",
       "       [1.06977304e-01, 8.93022696e-01],\n",
       "       [2.99408161e-01, 7.00591839e-01],\n",
       "       [9.37732380e-01, 6.22676201e-02],\n",
       "       [1.24794876e-02, 9.87520512e-01],\n",
       "       [6.34600934e-01, 3.65399066e-01],\n",
       "       [1.05932309e-01, 8.94067691e-01],\n",
       "       [9.83156578e-01, 1.68434221e-02],\n",
       "       [2.81942261e-02, 9.71805774e-01],\n",
       "       [9.93834666e-01, 6.16533363e-03],\n",
       "       [4.74641995e-02, 9.52535801e-01],\n",
       "       [9.65659573e-01, 3.43404267e-02],\n",
       "       [2.05151206e-01, 7.94848794e-01],\n",
       "       [2.70945545e-01, 7.29054455e-01],\n",
       "       [9.61105169e-01, 3.88948311e-02],\n",
       "       [8.37512904e-01, 1.62487096e-01],\n",
       "       [8.49327229e-01, 1.50672771e-01],\n",
       "       [4.73641530e-02, 9.52635847e-01],\n",
       "       [9.99647330e-01, 3.52670372e-04],\n",
       "       [2.40252292e-02, 9.75974771e-01],\n",
       "       [9.91153273e-01, 8.84672678e-03],\n",
       "       [7.64782947e-01, 2.35217053e-01],\n",
       "       [9.85114498e-01, 1.48855021e-02],\n",
       "       [9.45083677e-01, 5.49163232e-02],\n",
       "       [1.19823956e-01, 8.80176044e-01],\n",
       "       [9.98797648e-01, 1.20235210e-03],\n",
       "       [3.90201748e-03, 9.96097983e-01],\n",
       "       [3.68445139e-02, 9.63155486e-01],\n",
       "       [2.21542759e-01, 7.78457241e-01],\n",
       "       [9.11938414e-07, 9.99999088e-01],\n",
       "       [4.48805664e-02, 9.55119434e-01],\n",
       "       [5.93587026e-01, 4.06412974e-01],\n",
       "       [9.69814756e-01, 3.01852441e-02],\n",
       "       [9.93622421e-01, 6.37757908e-03],\n",
       "       [9.92833806e-01, 7.16619396e-03],\n",
       "       [2.23224158e-02, 9.77677584e-01],\n",
       "       [9.92042398e-01, 7.95760231e-03],\n",
       "       [7.62625067e-02, 9.23737493e-01],\n",
       "       [9.84621690e-01, 1.53783098e-02],\n",
       "       [6.12608530e-01, 3.87391470e-01],\n",
       "       [9.84607134e-01, 1.53928658e-02],\n",
       "       [7.56973962e-01, 2.43026038e-01],\n",
       "       [8.92341832e-01, 1.07658168e-01],\n",
       "       [3.39462563e-02, 9.66053744e-01],\n",
       "       [1.41697615e-01, 8.58302385e-01],\n",
       "       [9.99239888e-01, 7.60111822e-04],\n",
       "       [2.35760213e-06, 9.99997642e-01],\n",
       "       [9.43143329e-01, 5.68566707e-02],\n",
       "       [8.18613210e-01, 1.81386790e-01],\n",
       "       [9.57261183e-01, 4.27388171e-02],\n",
       "       [2.11701729e-01, 7.88298271e-01],\n",
       "       [9.87951172e-01, 1.20488285e-02],\n",
       "       [1.27006764e-01, 8.72993236e-01],\n",
       "       [8.44502696e-01, 1.55497304e-01],\n",
       "       [9.70784325e-01, 2.92156749e-02],\n",
       "       [7.47537773e-01, 2.52462227e-01],\n",
       "       [6.09293247e-03, 9.93907068e-01],\n",
       "       [2.26811541e-01, 7.73188459e-01],\n",
       "       [5.72533234e-02, 9.42746677e-01],\n",
       "       [8.63512302e-01, 1.36487698e-01],\n",
       "       [9.98600817e-01, 1.39918293e-03],\n",
       "       [9.45387221e-01, 5.46127788e-02],\n",
       "       [9.98482574e-01, 1.51742577e-03],\n",
       "       [9.80409248e-01, 1.95907517e-02],\n",
       "       [4.87967426e-02, 9.51203257e-01],\n",
       "       [6.30918362e-07, 9.99999369e-01],\n",
       "       [5.22989515e-02, 9.47701048e-01],\n",
       "       [8.49616977e-01, 1.50383023e-01],\n",
       "       [4.52494404e-02, 9.54750560e-01],\n",
       "       [4.35512278e-01, 5.64487722e-01],\n",
       "       [3.22470346e-01, 6.77529654e-01],\n",
       "       [7.97525766e-01, 2.02474234e-01],\n",
       "       [9.55067905e-01, 4.49320946e-02],\n",
       "       [1.49905589e-01, 8.50094411e-01],\n",
       "       [5.11865958e-03, 9.94881340e-01],\n",
       "       [9.36891871e-01, 6.31081291e-02],\n",
       "       [6.24132524e-03, 9.93758675e-01],\n",
       "       [9.84516044e-01, 1.54839560e-02],\n",
       "       [6.96643125e-01, 3.03356875e-01],\n",
       "       [1.12156869e-02, 9.88784313e-01],\n",
       "       [5.57000010e-02, 9.44299999e-01],\n",
       "       [8.67820316e-01, 1.32179684e-01],\n",
       "       [1.40629078e-02, 9.85937092e-01],\n",
       "       [6.14152475e-02, 9.38584753e-01],\n",
       "       [2.94554116e-01, 7.05445884e-01],\n",
       "       [1.98552230e-01, 8.01447770e-01],\n",
       "       [9.15078684e-01, 8.49213164e-02],\n",
       "       [9.29155916e-01, 7.08440841e-02],\n",
       "       [3.02786585e-01, 6.97213415e-01],\n",
       "       [6.62379710e-01, 3.37620290e-01],\n",
       "       [8.13374220e-01, 1.86625780e-01],\n",
       "       [1.35432816e-01, 8.64567184e-01],\n",
       "       [2.96992685e-01, 7.03007315e-01],\n",
       "       [5.75782445e-03, 9.94242176e-01],\n",
       "       [4.11897036e-02, 9.58810296e-01],\n",
       "       [9.68755961e-01, 3.12440385e-02],\n",
       "       [7.80617309e-01, 2.19382691e-01],\n",
       "       [8.97339152e-01, 1.02660848e-01],\n",
       "       [1.88692924e-01, 8.11307076e-01],\n",
       "       [7.75036563e-02, 9.22496344e-01],\n",
       "       [9.93003522e-01, 6.99647846e-03],\n",
       "       [9.23835670e-02, 9.07616433e-01],\n",
       "       [3.89012273e-02, 9.61098773e-01],\n",
       "       [2.29363847e-01, 7.70636153e-01],\n",
       "       [9.83990911e-01, 1.60090888e-02],\n",
       "       [9.80687268e-01, 1.93127319e-02],\n",
       "       [1.43744348e-01, 8.56255652e-01],\n",
       "       [7.92037481e-03, 9.92079625e-01],\n",
       "       [9.41911615e-01, 5.80883850e-02],\n",
       "       [8.52095489e-03, 9.91479045e-01],\n",
       "       [9.99095880e-01, 9.04120216e-04],\n",
       "       [7.32723763e-01, 2.67276237e-01],\n",
       "       [9.83331712e-01, 1.66682878e-02],\n",
       "       [2.49534005e-02, 9.75046599e-01],\n",
       "       [2.53850427e-01, 7.46149573e-01],\n",
       "       [5.27841494e-03, 9.94721585e-01],\n",
       "       [8.63400081e-01, 1.36599919e-01],\n",
       "       [1.55038479e-02, 9.84496152e-01],\n",
       "       [1.59512576e-02, 9.84048742e-01],\n",
       "       [5.92731678e-01, 4.07268322e-01],\n",
       "       [7.76110593e-02, 9.22388941e-01],\n",
       "       [1.61208491e-05, 9.99983879e-01],\n",
       "       [2.53441526e-01, 7.46558474e-01],\n",
       "       [4.78396166e-01, 5.21603834e-01],\n",
       "       [7.18256375e-01, 2.81743625e-01],\n",
       "       [7.47601728e-03, 9.92523983e-01],\n",
       "       [1.19298582e-02, 9.88070142e-01],\n",
       "       [7.19080176e-01, 2.80919824e-01],\n",
       "       [1.53328824e-02, 9.84667118e-01],\n",
       "       [1.49281308e-05, 9.99985072e-01],\n",
       "       [9.06470849e-01, 9.35291514e-02],\n",
       "       [3.03489794e-03, 9.96965102e-01],\n",
       "       [2.96456898e-02, 9.70354310e-01],\n",
       "       [1.48642514e-02, 9.85135749e-01],\n",
       "       [9.80940934e-01, 1.90590655e-02],\n",
       "       [8.38101489e-01, 1.61898511e-01],\n",
       "       [9.72083078e-01, 2.79169220e-02],\n",
       "       [9.97638351e-01, 2.36164943e-03],\n",
       "       [7.55827115e-01, 2.44172885e-01],\n",
       "       [9.31844968e-01, 6.81550317e-02],\n",
       "       [2.10333718e-01, 7.89666282e-01],\n",
       "       [8.13165778e-01, 1.86834222e-01],\n",
       "       [1.54525396e-02, 9.84547460e-01],\n",
       "       [8.10345881e-02, 9.18965412e-01],\n",
       "       [6.73898074e-02, 9.32610193e-01],\n",
       "       [9.95682126e-01, 4.31787406e-03],\n",
       "       [8.10754545e-01, 1.89245455e-01],\n",
       "       [9.90756437e-02, 9.00924356e-01],\n",
       "       [1.42186381e-01, 8.57813619e-01],\n",
       "       [1.22154850e-05, 9.99987785e-01],\n",
       "       [9.58712212e-01, 4.12877880e-02],\n",
       "       [9.97315401e-01, 2.68459864e-03],\n",
       "       [7.21316092e-01, 2.78683908e-01],\n",
       "       [7.50294200e-01, 2.49705800e-01],\n",
       "       [5.99395755e-01, 4.00604245e-01],\n",
       "       [6.68262375e-02, 9.33173762e-01],\n",
       "       [3.43186787e-01, 6.56813213e-01],\n",
       "       [5.80228359e-06, 9.99994198e-01],\n",
       "       [8.89987502e-01, 1.10012498e-01],\n",
       "       [9.19024257e-01, 8.09757433e-02],\n",
       "       [9.95868601e-01, 4.13139888e-03],\n",
       "       [9.81558563e-01, 1.84414372e-02],\n",
       "       [7.31397797e-03, 9.92686022e-01],\n",
       "       [9.67480312e-01, 3.25196876e-02],\n",
       "       [9.96216159e-01, 3.78384068e-03],\n",
       "       [9.92126985e-01, 7.87301534e-03],\n",
       "       [1.15998883e-02, 9.88400112e-01],\n",
       "       [5.53233154e-02, 9.44676685e-01],\n",
       "       [9.49143103e-01, 5.08568965e-02],\n",
       "       [2.49318142e-01, 7.50681858e-01],\n",
       "       [9.99277814e-01, 7.22186007e-04],\n",
       "       [7.90239216e-01, 2.09760784e-01],\n",
       "       [5.99081812e-01, 4.00918188e-01],\n",
       "       [9.73515112e-01, 2.64848885e-02],\n",
       "       [1.69069787e-02, 9.83093021e-01],\n",
       "       [9.89428022e-01, 1.05719777e-02],\n",
       "       [4.50500448e-02, 9.54949955e-01],\n",
       "       [8.48834835e-01, 1.51165165e-01],\n",
       "       [9.56067548e-01, 4.39324522e-02],\n",
       "       [8.36287082e-01, 1.63712918e-01],\n",
       "       [2.62012528e-06, 9.99997380e-01],\n",
       "       [1.65222468e-02, 9.83477753e-01],\n",
       "       [9.93459288e-01, 6.54071180e-03],\n",
       "       [4.76776848e-01, 5.23223152e-01],\n",
       "       [4.18271456e-02, 9.58172854e-01],\n",
       "       [9.53890539e-01, 4.61094606e-02],\n",
       "       [9.19760341e-03, 9.90802397e-01],\n",
       "       [9.46118401e-02, 9.05388160e-01],\n",
       "       [3.79798325e-01, 6.20201675e-01],\n",
       "       [3.39088439e-03, 9.96609116e-01],\n",
       "       [7.96077946e-01, 2.03922054e-01],\n",
       "       [4.89328217e-01, 5.10671783e-01],\n",
       "       [6.71655275e-02, 9.32834472e-01],\n",
       "       [6.91757336e-01, 3.08242664e-01],\n",
       "       [3.70212262e-01, 6.29787738e-01],\n",
       "       [1.58554998e-01, 8.41445002e-01],\n",
       "       [2.77758702e-03, 9.97222413e-01],\n",
       "       [6.45683188e-01, 3.54316812e-01],\n",
       "       [1.71183472e-01, 8.28816528e-01],\n",
       "       [9.88153432e-01, 1.18465682e-02],\n",
       "       [2.42496837e-01, 7.57503163e-01],\n",
       "       [2.04587819e-02, 9.79541218e-01],\n",
       "       [9.97347173e-01, 2.65282744e-03],\n",
       "       [4.25758552e-01, 5.74241448e-01],\n",
       "       [9.38862191e-01, 6.11378089e-02],\n",
       "       [7.51405063e-01, 2.48594937e-01],\n",
       "       [2.63109018e-01, 7.36890982e-01],\n",
       "       [6.24627344e-01, 3.75372656e-01],\n",
       "       [4.78480942e-02, 9.52151906e-01],\n",
       "       [9.99752214e-01, 2.47785734e-04],\n",
       "       [7.99524417e-01, 2.00475583e-01],\n",
       "       [2.43973902e-02, 9.75602610e-01],\n",
       "       [9.59055142e-01, 4.09448576e-02],\n",
       "       [7.76728457e-02, 9.22327154e-01],\n",
       "       [4.41396450e-02, 9.55860355e-01],\n",
       "       [9.89363421e-01, 1.06365785e-02],\n",
       "       [9.99648186e-01, 3.51814108e-04],\n",
       "       [4.11889274e-01, 5.88110726e-01],\n",
       "       [9.86711153e-01, 1.32888474e-02],\n",
       "       [4.76951606e-03, 9.95230484e-01],\n",
       "       [2.54938793e-01, 7.45061207e-01],\n",
       "       [8.56443155e-01, 1.43556845e-01],\n",
       "       [9.87133873e-01, 1.28661272e-02],\n",
       "       [6.21796082e-03, 9.93782039e-01],\n",
       "       [2.01724997e-01, 7.98275003e-01],\n",
       "       [9.86081643e-01, 1.39183571e-02],\n",
       "       [1.61393358e-05, 9.99983861e-01],\n",
       "       [9.42108231e-01, 5.78917691e-02],\n",
       "       [9.90469087e-01, 9.53091277e-03],\n",
       "       [1.34412958e-01, 8.65587042e-01],\n",
       "       [7.71370187e-02, 9.22862981e-01],\n",
       "       [7.29719654e-02, 9.27028035e-01],\n",
       "       [1.41004766e-02, 9.85899523e-01],\n",
       "       [7.68140027e-01, 2.31859973e-01],\n",
       "       [9.17191641e-01, 8.28083589e-02],\n",
       "       [4.99750415e-02, 9.50024958e-01],\n",
       "       [6.77797436e-03, 9.93222026e-01],\n",
       "       [9.50364716e-01, 4.96352835e-02],\n",
       "       [2.68206030e-02, 9.73179397e-01],\n",
       "       [3.79932778e-02, 9.62006722e-01],\n",
       "       [7.43821175e-01, 2.56178825e-01],\n",
       "       [6.45772842e-02, 9.35422716e-01],\n",
       "       [9.99582189e-01, 4.17811457e-04],\n",
       "       [7.57374045e-01, 2.42625955e-01],\n",
       "       [1.16130554e-02, 9.88386945e-01],\n",
       "       [5.73360257e-01, 4.26639743e-01],\n",
       "       [9.96664539e-01, 3.33546073e-03],\n",
       "       [2.44293015e-02, 9.75570699e-01],\n",
       "       [9.71876126e-01, 2.81238741e-02],\n",
       "       [5.87989833e-02, 9.41201017e-01],\n",
       "       [6.18285491e-02, 9.38171451e-01],\n",
       "       [4.26751417e-02, 9.57324858e-01],\n",
       "       [9.55810540e-01, 4.41894596e-02],\n",
       "       [2.04086893e-02, 9.79591311e-01],\n",
       "       [9.67520312e-01, 3.24796877e-02],\n",
       "       [2.50431043e-01, 7.49568957e-01],\n",
       "       [6.17566386e-01, 3.82433614e-01],\n",
       "       [9.54245141e-01, 4.57548589e-02],\n",
       "       [7.81451549e-01, 2.18548451e-01],\n",
       "       [9.55291774e-01, 4.47082258e-02],\n",
       "       [5.66978453e-02, 9.43302155e-01],\n",
       "       [1.43412019e-02, 9.85658798e-01],\n",
       "       [2.15097003e-02, 9.78490300e-01],\n",
       "       [1.67782224e-01, 8.32217776e-01],\n",
       "       [9.38400474e-01, 6.15995261e-02],\n",
       "       [2.65240299e-02, 9.73475970e-01],\n",
       "       [9.96267150e-01, 3.73285019e-03],\n",
       "       [9.95358480e-01, 4.64151963e-03],\n",
       "       [4.30426356e-03, 9.95695736e-01],\n",
       "       [9.94315919e-01, 5.68408077e-03],\n",
       "       [3.15500129e-01, 6.84499871e-01],\n",
       "       [8.21118111e-01, 1.78881889e-01],\n",
       "       [8.38087099e-01, 1.61912901e-01],\n",
       "       [8.21653071e-01, 1.78346929e-01],\n",
       "       [2.82201956e-01, 7.17798044e-01],\n",
       "       [9.78625732e-01, 2.13742684e-02],\n",
       "       [7.11968670e-01, 2.88031330e-01],\n",
       "       [9.44986841e-01, 5.50131595e-02],\n",
       "       [5.02220120e-08, 9.99999950e-01],\n",
       "       [3.70728982e-01, 6.29271018e-01],\n",
       "       [6.89003020e-01, 3.10996980e-01],\n",
       "       [2.63955747e-02, 9.73604425e-01],\n",
       "       [5.61897260e-01, 4.38102740e-01],\n",
       "       [1.59327808e-01, 8.40672192e-01],\n",
       "       [9.84018678e-01, 1.59813218e-02],\n",
       "       [2.38039124e-01, 7.61960876e-01],\n",
       "       [1.07880789e-01, 8.92119211e-01],\n",
       "       [3.69384880e-03, 9.96306151e-01],\n",
       "       [1.79064215e-01, 8.20935785e-01],\n",
       "       [1.35057114e-01, 8.64942886e-01],\n",
       "       [9.50045633e-01, 4.99543666e-02],\n",
       "       [9.98080622e-01, 1.91937761e-03],\n",
       "       [4.56114668e-01, 5.43885332e-01],\n",
       "       [7.56840556e-01, 2.43159444e-01],\n",
       "       [6.43973914e-03, 9.93560261e-01],\n",
       "       [9.82801120e-01, 1.71988800e-02],\n",
       "       [7.65218440e-08, 9.99999923e-01],\n",
       "       [8.83910865e-01, 1.16089135e-01],\n",
       "       [1.75549166e-01, 8.24450834e-01],\n",
       "       [9.30841113e-01, 6.91588869e-02],\n",
       "       [9.98318064e-01, 1.68193581e-03],\n",
       "       [2.74725947e-01, 7.25274053e-01],\n",
       "       [9.34398546e-01, 6.56014536e-02],\n",
       "       [8.21989422e-01, 1.78010578e-01],\n",
       "       [9.53066189e-01, 4.69338107e-02],\n",
       "       [4.00405087e-03, 9.95995949e-01],\n",
       "       [4.32435473e-01, 5.67564527e-01],\n",
       "       [9.99826545e-01, 1.73455093e-04],\n",
       "       [1.75514684e-02, 9.82448532e-01],\n",
       "       [1.36794504e-01, 8.63205496e-01],\n",
       "       [2.01638812e-01, 7.98361188e-01],\n",
       "       [1.30139224e-02, 9.86986078e-01],\n",
       "       [2.78040474e-01, 7.21959526e-01],\n",
       "       [9.25540386e-01, 7.44596145e-02],\n",
       "       [2.40448647e-02, 9.75955135e-01],\n",
       "       [3.80119589e-01, 6.19880411e-01],\n",
       "       [8.19229961e-03, 9.91807700e-01],\n",
       "       [3.45308706e-02, 9.65469129e-01],\n",
       "       [3.49453304e-03, 9.96505467e-01],\n",
       "       [9.98173128e-01, 1.82687174e-03],\n",
       "       [8.19188722e-01, 1.80811278e-01],\n",
       "       [6.03428713e-01, 3.96571287e-01],\n",
       "       [9.27269899e-01, 7.27301013e-02],\n",
       "       [9.93789337e-01, 6.21066254e-03],\n",
       "       [5.40422735e-03, 9.94595773e-01],\n",
       "       [8.45051154e-01, 1.54948846e-01],\n",
       "       [9.95287473e-01, 4.71252720e-03],\n",
       "       [8.60059926e-01, 1.39940074e-01],\n",
       "       [9.93502496e-01, 6.49750432e-03],\n",
       "       [3.74135888e-01, 6.25864112e-01],\n",
       "       [9.84219324e-01, 1.57806759e-02],\n",
       "       [4.84132125e-01, 5.15867875e-01],\n",
       "       [5.70093200e-01, 4.29906800e-01],\n",
       "       [8.04503812e-01, 1.95496188e-01],\n",
       "       [2.52706552e-03, 9.97472934e-01],\n",
       "       [9.26578986e-01, 7.34210139e-02],\n",
       "       [9.80855718e-01, 1.91442823e-02],\n",
       "       [1.18515997e-01, 8.81484003e-01],\n",
       "       [8.21583788e-01, 1.78416212e-01],\n",
       "       [7.86021131e-03, 9.92139789e-01],\n",
       "       [9.98640509e-01, 1.35949123e-03],\n",
       "       [1.58435215e-05, 9.99984156e-01],\n",
       "       [8.55224730e-02, 9.14477527e-01],\n",
       "       [7.69916738e-01, 2.30083262e-01],\n",
       "       [2.19204861e-01, 7.80795139e-01],\n",
       "       [9.98893248e-01, 1.10675156e-03],\n",
       "       [3.84875072e-01, 6.15124928e-01],\n",
       "       [9.69032119e-01, 3.09678811e-02],\n",
       "       [1.08285434e-02, 9.89171457e-01],\n",
       "       [9.23993342e-01, 7.60066575e-02],\n",
       "       [2.78657423e-02, 9.72134258e-01],\n",
       "       [9.56326984e-01, 4.36730155e-02],\n",
       "       [1.97177743e-01, 8.02822257e-01],\n",
       "       [8.77379976e-01, 1.22620024e-01],\n",
       "       [2.70425692e-01, 7.29574308e-01],\n",
       "       [1.04073986e-02, 9.89592601e-01],\n",
       "       [7.78636005e-01, 2.21363995e-01],\n",
       "       [3.99739334e-02, 9.60026067e-01],\n",
       "       [2.89344112e-03, 9.97106559e-01],\n",
       "       [3.62428296e-02, 9.63757170e-01],\n",
       "       [7.08245915e-02, 9.29175409e-01],\n",
       "       [7.90251783e-02, 9.20974822e-01],\n",
       "       [3.74248247e-02, 9.62575175e-01],\n",
       "       [9.86761981e-02, 9.01323802e-01],\n",
       "       [2.03595709e-02, 9.79640429e-01],\n",
       "       [1.11732181e-01, 8.88267819e-01],\n",
       "       [9.31023103e-01, 6.89768969e-02],\n",
       "       [6.61755162e-01, 3.38244838e-01],\n",
       "       [9.92724187e-01, 7.27581336e-03],\n",
       "       [8.19431885e-01, 1.80568115e-01],\n",
       "       [9.00010150e-01, 9.99898503e-02],\n",
       "       [9.01517890e-01, 9.84821104e-02],\n",
       "       [9.97621232e-01, 2.37876789e-03],\n",
       "       [6.78803869e-01, 3.21196131e-01],\n",
       "       [8.75994979e-01, 1.24005021e-01],\n",
       "       [1.16148310e-02, 9.88385169e-01],\n",
       "       [9.69764885e-01, 3.02351145e-02],\n",
       "       [9.88990209e-01, 1.10097911e-02],\n",
       "       [3.59022029e-01, 6.40977971e-01],\n",
       "       [9.68047288e-01, 3.19527120e-02],\n",
       "       [9.96128115e-01, 3.87188534e-03],\n",
       "       [9.98994729e-01, 1.00527137e-03],\n",
       "       [3.90106098e-06, 9.99996099e-01],\n",
       "       [9.15099595e-01, 8.49004046e-02],\n",
       "       [8.28459853e-01, 1.71540147e-01],\n",
       "       [4.13990120e-01, 5.86009880e-01],\n",
       "       [4.79056711e-01, 5.20943289e-01],\n",
       "       [4.83272097e-02, 9.51672790e-01],\n",
       "       [7.40923658e-01, 2.59076342e-01],\n",
       "       [9.92003948e-01, 7.99605223e-03],\n",
       "       [8.82766781e-01, 1.17233219e-01],\n",
       "       [5.30724312e-02, 9.46927569e-01],\n",
       "       [3.31507970e-01, 6.68492030e-01],\n",
       "       [3.05726616e-01, 6.94273384e-01],\n",
       "       [9.80643732e-01, 1.93562683e-02],\n",
       "       [2.35192472e-02, 9.76480753e-01],\n",
       "       [7.25180989e-01, 2.74819011e-01],\n",
       "       [4.45866062e-01, 5.54133938e-01],\n",
       "       [1.59759737e-01, 8.40240263e-01],\n",
       "       [7.48250396e-01, 2.51749604e-01],\n",
       "       [8.33838804e-01, 1.66161196e-01],\n",
       "       [2.43072959e-01, 7.56927041e-01],\n",
       "       [6.85940350e-02, 9.31405965e-01],\n",
       "       [1.72311230e-02, 9.82768877e-01],\n",
       "       [5.74969061e-02, 9.42503094e-01],\n",
       "       [1.48788689e-06, 9.99998512e-01],\n",
       "       [7.75560456e-01, 2.24439544e-01],\n",
       "       [1.25268420e-01, 8.74731580e-01],\n",
       "       [6.44467682e-03, 9.93555323e-01],\n",
       "       [1.97165398e-01, 8.02834602e-01],\n",
       "       [9.68884896e-01, 3.11151037e-02],\n",
       "       [2.22160086e-02, 9.77783991e-01],\n",
       "       [1.08862429e-01, 8.91137571e-01],\n",
       "       [5.51457320e-01, 4.48542680e-01],\n",
       "       [1.23854392e-01, 8.76145608e-01],\n",
       "       [9.79865292e-01, 2.01347082e-02],\n",
       "       [8.61744032e-01, 1.38255968e-01],\n",
       "       [2.40649615e-01, 7.59350385e-01],\n",
       "       [4.39188120e-01, 5.60811880e-01],\n",
       "       [9.96857520e-01, 3.14247974e-03],\n",
       "       [8.89515181e-01, 1.10484819e-01],\n",
       "       [8.94290723e-01, 1.05709277e-01],\n",
       "       [6.76357191e-02, 9.32364281e-01],\n",
       "       [7.84129732e-01, 2.15870268e-01],\n",
       "       [7.11406310e-01, 2.88593690e-01],\n",
       "       [7.58080611e-01, 2.41919389e-01],\n",
       "       [8.19125820e-01, 1.80874180e-01],\n",
       "       [9.02329783e-01, 9.76702169e-02],\n",
       "       [4.06458634e-01, 5.93541366e-01],\n",
       "       [2.22052157e-02, 9.77794784e-01],\n",
       "       [2.54965063e-01, 7.45034937e-01],\n",
       "       [3.90455104e-03, 9.96095449e-01]])"
      ]
     },
     "execution_count": 5,
     "metadata": {},
     "output_type": "execute_result"
    }
   ],
   "source": [
    "per.predict_proba(X_test)"
   ]
  },
  {
   "cell_type": "code",
   "execution_count": 6,
   "metadata": {},
   "outputs": [],
   "source": [
    "from sklearn.metrics import precision_recall_curve\n",
    "prec,rec,thresh = precision_recall_curve(Y_test,per.predict_proba(X_test)[:,1])\n",
    "prec_rbf,rec_rbf,thresh_rbf = precision_recall_curve(Y_test,per_rbf.predict_proba(X_test)[:,1])"
   ]
  },
  {
   "cell_type": "markdown",
   "metadata": {},
   "source": [
    "### Tradeoff between precision and recall"
   ]
  },
  {
   "cell_type": "code",
   "execution_count": 7,
   "metadata": {},
   "outputs": [
    {
     "data": {
      "text/plain": [
       "[<matplotlib.lines.Line2D at 0x20a01c58910>]"
      ]
     },
     "execution_count": 7,
     "metadata": {},
     "output_type": "execute_result"
    },
    {
     "data": {
      "image/png": "[encoded data removed]",
      "text/plain": [
       "<Figure size 640x480 with 1 Axes>"
      ]
     },
     "metadata": {},
     "output_type": "display_data"
    }
   ],
   "source": [
    "import matplotlib.pyplot as plt\n",
    "plt.plot(thresh,prec[:-1])\n",
    "plt.plot(thresh,rec[:-1])"
   ]
  },
  {
   "cell_type": "markdown",
   "metadata": {},
   "source": [
    "### Precision and recall curve\n",
    "\n",
    "It is customary to plot the precision as a function of recall into the so called precision and recall curve"
   ]
  },
  {
   "cell_type": "code",
   "execution_count": 8,
   "metadata": {},
   "outputs": [
    {
     "data": {
      "text/plain": [
       "(0.0, 1.0)"
      ]
     },
     "execution_count": 8,
     "metadata": {},
     "output_type": "execute_result"
    },
    {
     "data": {
      "image/png": "[encoded data removed]",
      "text/plain": [
       "<Figure size 640x480 with 1 Axes>"
      ]
     },
     "metadata": {},
     "output_type": "display_data"
    }
   ],
   "source": [
    "plt.plot(rec,prec)\n",
    "plt.plot(rec_rbf,prec_rbf)\n",
    "plt.xlim(0,1)\n",
    "plt.ylim(0,1)"
   ]
  },
  {
   "cell_type": "markdown",
   "metadata": {},
   "source": [
    "### Average precision\n",
    "$$\n",
    "    p(r) = \\text{Pr}(\\text{Re}^{-1}(r))\n",
    "$$\n",
    "then $p(r)$ is the curve above where the $x$-axis is $r$ (recall) and the $y$ axis is precision.\n",
    "Average precision is thus just\n",
    "$$\n",
    "    \\text{AP} = \\int_0^1 p(r) dr\n",
    "$$\n",
    "or also called Area Under the Precision Recall Curve."
   ]
  },
  {
   "cell_type": "markdown",
   "metadata": {},
   "source": [
    "If we call $\\mathbb{P}(g_\\alpha(X) = 1) = t$, the detection level, where $t(1) = 0$ and $t(0) = 1$. Then\n",
    "$$\n",
    "    p(t) = \\text{Pr}(\\alpha) = \\mathbb{P}(Y=1 \\mid g_\\alpha(X)=1) = Re(\\alpha) \\frac{\\mathbb{P}(Y = 1)}{\\mathbb{P}(g_\\alpha(X) = 1)}\n",
    "$$\n",
    "and\n",
    "$$\n",
    "    r(t) = \\text{Re}(\\alpha)\n",
    "$$\n",
    "then we get\n",
    "$$\n",
    "    p(t) = \\frac{\\mathbb{P}(Y = 1) r(t)}{t}\n",
    "$$\n",
    "\n",
    "This equation captures the trade-off between precision and recall as functions of the detection level.\n",
    "\n",
    "It may look like average precision is a strange quantity, and indeed it is. See for instance the review paper on the course website."
   ]
  },
  {
   "cell_type": "code",
   "execution_count": 9,
   "metadata": {},
   "outputs": [
    {
     "data": {
      "text/plain": [
       "0.9599815439364194"
      ]
     },
     "execution_count": 9,
     "metadata": {},
     "output_type": "execute_result"
    }
   ],
   "source": [
    "from sklearn.metrics import average_precision_score\n",
    "average_precision_score(Y_test,per.predict_proba(X_test)[:,1])"
   ]
  },
  {
   "cell_type": "code",
   "execution_count": 10,
   "metadata": {},
   "outputs": [
    {
     "data": {
      "text/plain": [
       "0.9993318069802314"
      ]
     },
     "execution_count": 10,
     "metadata": {},
     "output_type": "execute_result"
    }
   ],
   "source": [
    "average_precision_score(Y_test,per_rbf.predict_proba(X_test)[:,1])"
   ]
  },
  {
   "cell_type": "markdown",
   "metadata": {},
   "source": [
    "### Reciever Operating Characteristic (ROC)"
   ]
  },
  {
   "cell_type": "markdown",
   "metadata": {},
   "source": [
    "Lets consider Recall for the $0$ class vs Recall for the $1$ class\n",
    "$$\n",
    "    \\text{FPR}(\\alpha) = \\mathbb{P}(g(X)=1 \\mid Y = 0) \\quad \\text{also goes by the name false positive rate}\n",
    "$$\n",
    "$$\n",
    "    \\text{Re}(\\alpha) = \\mathbb{P}(g(X)=1 \\mid Y = 1) \\quad \\text{also goes by the name true positive rate}\n",
    "$$\n",
    "\n",
    "We can plot these using sklearn as follows"
   ]
  },
  {
   "cell_type": "code",
   "execution_count": 11,
   "metadata": {},
   "outputs": [],
   "source": [
    "from sklearn.metrics import roc_curve\n",
    "fpr,tpr,thresholds = roc_curve(Y_test,per.predict_proba(X_test)[:,1])\n",
    "fpr_rbf,tpr_rbf,thresholds_rbf = roc_curve(Y_test,per_rbf.predict_proba(X_test)[:,1])"
   ]
  },
  {
   "cell_type": "code",
   "execution_count": 12,
   "metadata": {},
   "outputs": [
    {
     "data": {
      "text/plain": [
       "[<matplotlib.lines.Line2D at 0x20a03540490>]"
      ]
     },
     "execution_count": 12,
     "metadata": {},
     "output_type": "execute_result"
    },
    {
     "data": {
      "image/png": "[encoded data removed]",
      "text/plain": [
       "<Figure size 640x480 with 1 Axes>"
      ]
     },
     "metadata": {},
     "output_type": "display_data"
    }
   ],
   "source": [
    "plt.plot(thresholds,fpr)\n",
    "plt.plot(thresholds,tpr)"
   ]
  },
  {
   "cell_type": "markdown",
   "metadata": {},
   "source": [
    "However more common is to consider plotting them against eachother"
   ]
  },
  {
   "cell_type": "code",
   "execution_count": 13,
   "metadata": {},
   "outputs": [
    {
     "data": {
      "text/plain": [
       "[<matplotlib.lines.Line2D at 0x20a0359cf10>]"
      ]
     },
     "execution_count": 13,
     "metadata": {},
     "output_type": "execute_result"
    },
    {
     "data": {
      "image/png": "[encoded data removed]",
      "text/plain": [
       "<Figure size 640x480 with 1 Axes>"
      ]
     },
     "metadata": {},
     "output_type": "display_data"
    }
   ],
   "source": [
    "plt.plot(fpr,tpr)\n",
    "plt.plot(fpr_rbf,tpr_rbf)"
   ]
  },
  {
   "cell_type": "markdown",
   "metadata": {},
   "source": [
    "This is the plot of $\\text{Re}(\\text{FPR}^{-1}(r))$.\n",
    "\n",
    "There is also the AUC, which is Area Under the Curve, which is defined as\n",
    "$$\n",
    "    \\int_0^1 \\text{Re}(\\text{FPR}^{-1}(r)) dr = -\\int_0^1 \\text{Re}(\\alpha) \\text{FPR}'(\\alpha) d\\alpha\n",
    "$$"
   ]
  },
  {
   "cell_type": "markdown",
   "metadata": {},
   "source": [
    "Both the AP (Average Precision) and the (AUC) is used as a single performance metric of a classifier."
   ]
  },
  {
   "cell_type": "markdown",
   "metadata": {},
   "source": [
    "Let $Z = G(X)$, where $G$ is the predicted probability, then $Z$ has density $F_Z$. Let $F_{Z,Y}$ be the joint distribution of $Z$ and $Y$\n",
    "\n",
    "Let\n",
    "$$\n",
    "    \\begin{aligned}\n",
    "        f_1(z) &= f_{Z \\mid Y=1} \\\\\n",
    "        f_0(z) &= f_{Z \\mid Y=0}\n",
    "    \\end{aligned}\n",
    "$$\n",
    "thus we simply get\n",
    "$$\n",
    "    \\begin{aligned}\n",
    "        \\text{FPR}(\\alpha) = \\int_{\\alpha}^1 f_0(z)dz \\\\\n",
    "        \\text{Re}(\\alpha) = \\int_{\\alpha}^1 f_1(z)dz\n",
    "    \\end{aligned}\n",
    "$$\n",
    "As such \n",
    "$$\n",
    "    \\text{Re}'(\\alpha) = -f_1(\\alpha)\n",
    "$$\n",
    "and we can write\n",
    "$$\n",
    "    -\\int_0^1 \\text{Re}(\\alpha) \\text{FPR}'(\\alpha) d\\alpha = \\int_0^1 \\int_z^1 f_1(z') f_0(z) dz dz'\n",
    "$$\n",
    "Consider $Z_1$ be a random variable sampled from $f_1$ and $Z_0$ be sampled from $f_0$. Then we can write the above as\n",
    "$$\n",
    "    \\mathbb{P}(Z_1 > Z_0) = \\int_0^1 \\int_z^1 f_1(z') f_0(z) dz dz'\n",
    "$$\n",
    "It is useful to think about what this probability means. That is, if we take a randomly chosen sample from the positive class and call it $X_1$ and do the same with class $0$ and call that $X_0$, then the AUC is the probability that $G(X_1) > G(X_0)$."
   ]
  }
 ],
 "metadata": {
  "kernelspec": {
   "display_name": "Python 3 (ipykernel)",
   "language": "python",
   "name": "python3"
  },
  "language_info": {
   "codemirror_mode": {
    "name": "ipython",
    "version": 3
   },
   "file_extension": ".py",
   "mimetype": "text/x-python",
   "name": "python",
   "nbconvert_exporter": "python",
   "pygments_lexer": "ipython3",
   "version": "3.11.4"
  },
  "lx_course_instance": "2023",
  "lx_course_name": "Introduction to Data Science",
  "lx_course_number": "1MS041"
 },
 "nbformat": 4,
 "nbformat_minor": 5
}

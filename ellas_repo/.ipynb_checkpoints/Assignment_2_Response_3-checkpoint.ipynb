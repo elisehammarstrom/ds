{
 "cells": [
  {
   "cell_type": "markdown",
   "id": "3cd76a12",
   "metadata": {
    "deletable": false
   },
   "source": [
    "# Assignment 2 for Course 1MS041\n",
    "Make         sure you pass the `# ... Test` cells and\n",
    " submit your solution notebook in the corresponding assignment on the course website. You can submit multiple times before the deadline         and your highest score will be used."
   ]
  },
  {
   "cell_type": "markdown",
   "id": "0e3cf2ef",
   "metadata": {
    "deletable": false,
    "lx_assignment_number": "2",
    "lx_assignment_type": "ASSIGNMENT",
    "lx_assignment_type2print": "Assignment",
    "lx_problem_cell_type": "PROBLEM",
    "lx_problem_number": "1",
    "lx_problem_points": "8"
   },
   "source": [
    "---\n",
    "## Assignment 2, PROBLEM 1\n",
    "Maximum Points = 8"
   ]
  },
  {
   "cell_type": "markdown",
   "id": "b74bf102",
   "metadata": {
    "deletable": false,
    "lx_assignment_number": "2",
    "lx_assignment_type": "ASSIGNMENT",
    "lx_assignment_type2print": "Assignment",
    "lx_problem_cell_type": "PROBLEM",
    "lx_problem_number": "1",
    "lx_problem_points": "8"
   },
   "source": [
    "\n",
    "A courier company operates a fleet of delivery trucks that make deliveries to different parts of the city. The trucks are equipped with GPS tracking devices that record the location of each truck at regular intervals. The locations are divided into three regions: downtown, the suburbs, and the countryside. The following table shows the probabilities of a truck transitioning between these regions at each time step:\n",
    "\n",
    "| Current region | Probability of transitioning to downtown | Probability of transitioning to the suburbs | Probability of transitioning to the countryside |\n",
    "|----------------|--------------------------------------------|-----------------------------------------------|------------------------------------------------|\n",
    "| Downtown       | 0.3                                      | 0.4                                           | 0.3                                            |\n",
    "| Suburbs        | 0.2                                      | 0.5                                           | 0.3                                            |\n",
    "| Countryside    | 0.4                                      | 0.3                                           | 0.3                                            |\n",
    "\n",
    "1. If a truck is currently in the suburbs, what is the probability that it will be in the downtown region after two time steps? [1.5p]\n",
    "2. If a truck is currently in the suburbs, what is the probability that it will be in the downtown region **the first time** after two time steps? [1.5p]\n",
    "3. Is this Markov chain irreducible? [1.5p]\n",
    "4. What is the stationary distribution? [1.5p]\n",
    "5. Advanced question: What is the expected number of steps until the first time one enters the downtown region having started in the suburbs region. Hint: to get within 1 decimal point, it is enough to compute the probabilities for hitting times below 30. [2p]\n",
    "\n"
   ]
  },
  {
   "cell_type": "code",
   "execution_count": 1,
   "id": "723271c7",
   "metadata": {
    "deletable": false,
    "execution": {
     "iopub.execute_input": "2023-11-08T06:23:18.394065Z",
     "iopub.status.busy": "2023-11-08T06:23:18.393537Z",
     "iopub.status.idle": "2023-11-08T06:23:18.403231Z",
     "shell.execute_reply": "2023-11-08T06:23:18.402557Z"
    },
    "lx_assignment_number": "2",
    "lx_assignment_type": "ASSIGNMENT",
    "lx_assignment_type2print": "Assignment",
    "lx_problem_cell_type": "PROBLEM",
    "lx_problem_number": "1",
    "lx_problem_points": "14"
   },
   "outputs": [],
   "source": [
    "# Part 1\n",
    "\n",
    "# Fill in the answer to part 1 below as a decimal number\n",
    "# 0.2*0.3+0.5*0.2+0.3*0.4\n",
    "problem1_p1 = 0.28"
   ]
  },
  {
   "cell_type": "code",
   "execution_count": 2,
   "id": "5ca45804",
   "metadata": {
    "deletable": false,
    "execution": {
     "iopub.execute_input": "2023-11-08T06:23:18.407553Z",
     "iopub.status.busy": "2023-11-08T06:23:18.407177Z",
     "iopub.status.idle": "2023-11-08T06:23:18.410898Z",
     "shell.execute_reply": "2023-11-08T06:23:18.410228Z"
    },
    "lx_assignment_number": "2",
    "lx_assignment_type": "ASSIGNMENT",
    "lx_assignment_type2print": "Assignment",
    "lx_problem_cell_type": "PROBLEM",
    "lx_problem_number": "1",
    "lx_problem_points": "14"
   },
   "outputs": [],
   "source": [
    "# Part 2\n",
    "\n",
    "# Fill in the answer to part 2 below as a decimal number\n",
    "#0.5*0.2+0.3*0.4\n",
    "problem1_p2 = 0.22"
   ]
  },
  {
   "cell_type": "code",
   "execution_count": 3,
   "id": "59a8dc89",
   "metadata": {
    "deletable": false,
    "execution": {
     "iopub.execute_input": "2023-11-08T06:23:18.414526Z",
     "iopub.status.busy": "2023-11-08T06:23:18.413980Z",
     "iopub.status.idle": "2023-11-08T06:23:18.417836Z",
     "shell.execute_reply": "2023-11-08T06:23:18.417026Z"
    },
    "lx_assignment_number": "2",
    "lx_assignment_type": "ASSIGNMENT",
    "lx_assignment_type2print": "Assignment",
    "lx_problem_cell_type": "PROBLEM",
    "lx_problem_number": "1",
    "lx_problem_points": "14"
   },
   "outputs": [],
   "source": [
    "# Part 3\n",
    "\n",
    "# Fill in the answer to part 3 below as a boolean\n",
    "problem1_irreducible = True"
   ]
  },
  {
   "cell_type": "code",
   "execution_count": 4,
   "id": "3e5dcef0",
   "metadata": {
    "deletable": false,
    "execution": {
     "iopub.execute_input": "2023-11-08T06:23:18.421906Z",
     "iopub.status.busy": "2023-11-08T06:23:18.421522Z",
     "iopub.status.idle": "2023-11-08T06:23:18.571546Z",
     "shell.execute_reply": "2023-11-08T06:23:18.570659Z"
    },
    "lx_assignment_number": "2",
    "lx_assignment_type": "ASSIGNMENT",
    "lx_assignment_type2print": "Assignment",
    "lx_problem_cell_type": "PROBLEM",
    "lx_problem_number": "1",
    "lx_problem_points": "14"
   },
   "outputs": [
    {
     "name": "stdout",
     "output_type": "stream",
     "text": [
      "[0.28888889 0.41111111 0.3       ]\n"
     ]
    }
   ],
   "source": [
    "# Part 4\n",
    "import numpy as np\n",
    "P = np.array([[0.3,0.4,0.3],[0.2,0.5,0.3],[0.4,0.3,0.3]])\n",
    "res = np.linalg.matrix_power(P,1000)\n",
    "print(res[1,:])\n",
    "\n",
    "# Fill in the answer to part 4 below\n",
    "# the answer should be a numpy array of length 3\n",
    "# make sure that the entries sums to 1!\n",
    "problem1_stationary = res[1,:]"
   ]
  },
  {
   "cell_type": "code",
   "execution_count": 5,
   "id": "0998a471",
   "metadata": {
    "deletable": false,
    "execution": {
     "iopub.execute_input": "2023-11-08T06:23:18.575510Z",
     "iopub.status.busy": "2023-11-08T06:23:18.574944Z",
     "iopub.status.idle": "2023-11-08T06:23:18.582916Z",
     "shell.execute_reply": "2023-11-08T06:23:18.582019Z"
    },
    "lx_assignment_number": "2",
    "lx_assignment_type": "ASSIGNMENT",
    "lx_assignment_type2print": "Assignment",
    "lx_problem_cell_type": "PROBLEM",
    "lx_problem_number": "1",
    "lx_problem_points": "14"
   },
   "outputs": [],
   "source": [
    "# Part 5\n",
    "import numpy as np\n",
    "P = np.array([[0.3,0.4,0.3],[0.2,0.5,0.3],[0.4,0.3,0.3]])\n",
    "## Formula MFPT(i, j) = 1 + Σ[k ≠ j] P[i][k] * MFPT(k, j)\n",
    "MFPT = np.zeros((3,3))\n",
    "for i in range(3):\n",
    "    for j in range(3):\n",
    "        if i != j: # if i= j  you are already at the state and it takes you 0 steps to go there\n",
    "            MFPT[i][j] = 1.0  # Initialize MFPT to a non-zero value for the iterative process \n",
    "            for _ in range(30):\n",
    "                MFPT[i][j] = 1.0 + sum(P[i][k] * MFPT[k][j] for k in range(3) if k != j)\n",
    "# Fill in the answer to part 5 below\n",
    "# That is, the expected number of steps as a decimal number\n",
    "#MFPT[0][1]\n",
    "problem1_ET = 3.846"
   ]
  },
  {
   "cell_type": "code",
   "execution_count": 6,
   "id": "98bec2bc",
   "metadata": {
    "deletable": false,
    "execution": {
     "iopub.execute_input": "2023-11-08T06:23:18.587404Z",
     "iopub.status.busy": "2023-11-08T06:23:18.587009Z",
     "iopub.status.idle": "2023-11-08T06:23:18.600578Z",
     "shell.execute_reply": "2023-11-08T06:23:18.599754Z"
    },
    "lx_assignment_number": "2",
    "lx_assignment_type": "ASSIGNMENT",
    "lx_assignment_type2print": "Assignment",
    "lx_problem_cell_type": "TEST",
    "lx_problem_number": "1",
    "lx_problem_points": "14",
    "lx_test_only": "True"
   },
   "outputs": [
    {
     "name": "stdout",
     "output_type": "stream",
     "text": [
      "Beginning tests for PROBLEM 3\n",
      "\n",
      "---------------------------------\n",
      "Beginning test for part1\n",
      "---------------------------------\n",
      "\n",
      "-----Beginning test------\n",
      "Your probability is correct!\n",
      "-----Ending test---------\n",
      "\n",
      "---------------------------------\n",
      "Beginning test for part2\n",
      "---------------------------------\n",
      "\n",
      "-----Beginning test------\n",
      "Your probability is correct!\n",
      "-----Ending test---------\n",
      "\n",
      "---------------------------------\n",
      "Beginning test for part3\n",
      "---------------------------------\n",
      "\n",
      "-----Beginning test------\n",
      "Your answer is correct\n",
      "-----Ending test---------\n",
      "\n",
      "---------------------------------\n",
      "Beginning test for part4\n",
      "---------------------------------\n",
      "\n",
      "-----Beginning test------\n",
      "Your stationary distribution is within distance 0.01 from the true stationary distribution\n",
      "-----Ending test---------\n",
      "\n",
      "---------------------------------\n",
      "Beginning test for part5\n",
      "---------------------------------\n",
      "\n",
      "-----Beginning test------\n",
      "You are within 0.05 from the true answer, good!\n",
      "-----Ending test---------\n",
      "\n",
      "\n",
      "All tests complete, you got = 8 points\n",
      "The number of points you have scored for this problem is 8 out of 8\n",
      "The number of points you have accumulated thus far is   8 out of 8\n"
     ]
    }
   ],
   "source": []
  },
  {
   "cell_type": "markdown",
   "id": "6711e0db",
   "metadata": {
    "deletable": false,
    "lx_assignment_number": "2",
    "lx_assignment_type": "ASSIGNMENT",
    "lx_assignment_type2print": "Assignment",
    "lx_problem_cell_type": "PROBLEM",
    "lx_problem_number": "2",
    "lx_problem_points": "8"
   },
   "source": [
    "---\n",
    "## Assignment 2, PROBLEM 2\n",
    "Maximum Points = 8"
   ]
  },
  {
   "cell_type": "markdown",
   "id": "b33721eb",
   "metadata": {
    "deletable": false,
    "lx_assignment_number": "2",
    "lx_assignment_type": "ASSIGNMENT",
    "lx_assignment_type2print": "Assignment",
    "lx_problem_cell_type": "PROBLEM",
    "lx_problem_number": "2",
    "lx_problem_points": "8"
   },
   "source": [
    "\n",
    "A healthcare organization is interested in understanding the relationship between the number of visits to the doctors office and certain patient characteristics. \n",
    "They have collected data on the number of visits (for a year) for a sample of patients and have included the following variables\n",
    "\n",
    "* ofp : number of physician office visits\n",
    "* ofnp : number of nonphysician office visits\n",
    "* opp : number of physician outpatient visits\n",
    "* opnp : number of nonphysician outpatient visits\n",
    "* emr : number of emergency room visits\n",
    "* hosp : number of hospitalizations\n",
    "* exclhlth : the person is of excellent health (self-perceived)\n",
    "* poorhealth : the person is of poor health (self-perceived)\n",
    "* numchron : number of chronic conditions\n",
    "* adldiff : the person has a condition that limits activities of daily living ?\n",
    "* noreast : the person is from the north east region\n",
    "* midwest : the person is from the midwest region\n",
    "* west : the person is from the west region\n",
    "* age : age in years (divided by 10)\n",
    "* male : is the person male ?\n",
    "* married : is the person married ?\n",
    "* school : number of years of education\n",
    "* faminc : family income in 10000$\n",
    "* employed : is the person employed ?\n",
    "* privins : is the person covered by private health insurance?\n",
    "* medicaid : is the person covered by medicaid ?\n",
    "\n",
    "Decide which patient features are resonable to use to predict the target \"number of physician office visits\". Hint: should we really use the \"ofnp\" etc variables?\n",
    "\n",
    "Since the target variable is counts, a reasonable loss function is to consider the target variable as Poisson distributed where the parameter follows $\\lambda = \\exp(\\alpha \\cdot x + \\beta)$ where $\\alpha$ is a vector (slope) and $\\beta$ is a number (intercept). That is, the parameter is the exponential of a linear function. The reason we chose this as our parameter, is that it is always positive which is when the Poisson distribution is defined. To be specific we make the following assumption about our conditional density of $Y \\mid X$,\n",
    "$$\n",
    "    f_{Y \\mid X} (y,x) = \\frac{\\lambda^{y} e^{-\\lambda}}{y !}, \\quad \\lambda(x) = \\exp(\\alpha \\cdot x + \\beta).\n",
    "$$\n",
    "\n",
    "Recall from the lecture notes, (4.2) that in this case we should consider the log-loss (entropy) and that according to (4.2.1 Maximum Likelihood and regression) we can consider the conditional log-likelihood. Follow the steps of Example 1 and Example 2 in section (4.2) to derive the loss that needs to be minimized.\n",
    "\n",
    "Hint: when taking the log of the conditional density you will find that the term that contains the $y!$ does not depend on $\\lambda$ and as such does not depend on $\\alpha,\\beta$, it can thus be discarded. This will be essential due to numerical issues with factorials.\n",
    "\n",
    "Instructions:\n",
    "\n",
    "1. Load the file `data/visits_clean.csv`, follow the instructions in the code cell of how this should happen [1.5p]\n",
    "2. Create the `problem2_X` and the `problem2_y` as numpy arrays with `problem2_X` being the features and `problem2_y` being the target. Do the standard train-test split with 80% training data and 20% testing data. Store these in the variables defined in the cells. [1.5p]\n",
    "3. Implement $loss$ inside the class `PoissonRegression` by writing down the loss to be minimized, I have provided a formula for the $\\lambda$ that you can use. [1.5p]\n",
    "4. Now use the `PoissonRegression` class to train a Poisson regression model on the training data. [1.5p]\n",
    "5. Compute the mean absolute error of your prediction on the test set and use Hoeffdings inequality to produce a 95\\% confidence interval for the mean absolute error. We can make the assumption that the error is bounded by 70 for simplicity. [2p]\n"
   ]
  },
  {
   "cell_type": "code",
   "execution_count": 2,
   "id": "e241fcc5",
   "metadata": {
    "deletable": false,
    "execution": {
     "iopub.execute_input": "2023-11-08T06:23:18.605348Z",
     "iopub.status.busy": "2023-11-08T06:23:18.604962Z",
     "iopub.status.idle": "2023-11-08T06:23:18.657376Z",
     "shell.execute_reply": "2023-11-08T06:23:18.656532Z"
    },
    "lx_assignment_number": "2",
    "lx_assignment_type": "ASSIGNMENT",
    "lx_assignment_type2print": "Assignment",
    "lx_problem_cell_type": "PROBLEM",
    "lx_problem_number": "2",
    "lx_problem_points": "8"
   },
   "outputs": [],
   "source": [
    "# Part 1\n",
    "\n",
    "# As in assignment 1 we will load the header into header and data into data\n",
    "# this time you will have to parse the data such that each data entry is a float\n",
    "# and that the problem2_data is a numpy array of shape (n_samples,n_columns)\n",
    "# where n_columns is the number of columns and should have the same length as\n",
    "# the list of strings header. n_samples is how many rows of data we had.\n",
    "# If you cannot find the file, check the starting package as it should be updated\n",
    "# if not, go to the github repo and pull it\n",
    "import math\n",
    "import numpy as np\n",
    "import csv\n",
    "with open(\"data/visits_clean.csv\", 'r') as file_final:\n",
    "    reader = csv.reader(file_final)\n",
    "    header = next(reader)\n",
    "    header = [value.split(' ') for value in header]\n",
    "    header = header[0]\n",
    "    data = list(reader)\n",
    "data = [line[0].split(' ') for line in data]\n",
    "data = [[float(value) for value in line] for line in data]\n",
    "#data = np.array(data)\n",
    "\n",
    "# The autograder does not accept pandas as a solution to this problem.\n",
    "# data/visits_clean.csv\n",
    "# problem2_header = [\"\"] #List of strings\n",
    "problem2_header = header\n",
    "# problem2_data = np.array() #A numpy array of shape n_samples n_columns\n",
    "problem2_data = np.array(data)\n"
   ]
  },
  {
   "cell_type": "code",
   "execution_count": 3,
   "id": "f389a3fc",
   "metadata": {
    "deletable": false,
    "execution": {
     "iopub.execute_input": "2023-11-08T06:23:18.661701Z",
     "iopub.status.busy": "2023-11-08T06:23:18.661363Z",
     "iopub.status.idle": "2023-11-08T06:23:18.671456Z",
     "shell.execute_reply": "2023-11-08T06:23:18.670578Z"
    },
    "lx_assignment_number": "2",
    "lx_assignment_type": "ASSIGNMENT",
    "lx_assignment_type2print": "Assignment",
    "lx_problem_cell_type": "PROBLEM",
    "lx_problem_number": "2",
    "lx_problem_points": "8",
    "scrolled": true
   },
   "outputs": [],
   "source": [
    "# Part 2\n",
    "\n",
    "#reasonable patient features: see hint-> ofnp should not be included: hosp, numchron\n",
    "corr = np.corrcoef(problem2_data,rowvar = False)[0]\n",
    "ind = np.argwhere(abs(corr) > corr[1]).flatten()\n",
    "data_red = problem2_data[:,ind]\n",
    "\n",
    "X=data_red[:,1:]\n",
    "y=data_red[:,0]\n",
    "\n",
    "\n",
    "# Fill in your X and y below\n",
    "problem2_X = X\n",
    "problem2_y = y\n",
    "\n",
    "# Split the data into train and randomly using for instance\n",
    "# np.random.shuffle indices and indexing the first 80% as the train data\n",
    "# keep the train size as 0.8 rounded up to the nearest integer sample\n",
    "\n",
    "index = np.arange(data_red.shape[0])\n",
    "np.random.shuffle(index)\n",
    "data_shuffled = data_red[index]\n",
    "size_train = round(data_red.shape[0]*0.8)\n",
    "\n",
    "\n",
    "problem2_X_train, problem2_X_test, problem2_y_train, problem2_y_test = data_shuffled[:size_train,1:],data_shuffled[size_train:,1:],data_shuffled[:size_train,0],data_shuffled[size_train:,0]\n",
    "#print(problem2_X_train.shape, problem2_X_test.shape, problem2_y_train.shape, problem2_y_test.shape)\n"
   ]
  },
  {
   "cell_type": "code",
   "execution_count": 4,
   "id": "a62eeba5",
   "metadata": {
    "deletable": false,
    "execution": {
     "iopub.execute_input": "2023-11-08T06:23:18.675258Z",
     "iopub.status.busy": "2023-11-08T06:23:18.674825Z",
     "iopub.status.idle": "2023-11-08T06:23:18.684175Z",
     "shell.execute_reply": "2023-11-08T06:23:18.683265Z"
    },
    "lx_assignment_number": "2",
    "lx_assignment_type": "ASSIGNMENT",
    "lx_assignment_type2print": "Assignment",
    "lx_problem_cell_type": "PROBLEM",
    "lx_problem_number": "2",
    "lx_problem_points": "8"
   },
   "outputs": [],
   "source": [
    "# Part 3\n",
    "\n",
    "# Fill in the function loss below\n",
    "class PoissonRegression(object):\n",
    "    def __init__(self):\n",
    "        self.coeffs = None\n",
    "        self.result = None\n",
    "    \n",
    "    # define the objective/cost/loss function we want to minimise\n",
    "    def loss(self,X,Y,coeffs):\n",
    "        # The parameter lambda for the given X and the proposed values \n",
    "        # of the coefficients, here coeff[:-1] represent alpha \n",
    "        # and coeff[-1] represent beta\n",
    "        lam = np.exp(np.dot(X,coeffs[:-1])+coeffs[-1])\n",
    "        # function\n",
    "        summe = -np.sum(np.multiply(Y,np.log(lam))-lam)\n",
    "        \n",
    "        # use the Y variable that is available here to define \n",
    "        # the loss function, return the value of the loss for \n",
    "        # this Y and for this parameter lam defined above\n",
    "        return summe\n",
    "\n",
    "    def fit(self,X,Y):\n",
    "        import numpy as np\n",
    "        from scipy import optimize\n",
    "\n",
    "        #Use the loss above together with an optimization method from scipy\n",
    "        #to find the coefficients of the model\n",
    "        #this is prepared for you below\n",
    "        opt_loss = lambda coeffs: self.loss(X,Y,coeffs)\n",
    "        initial_arguments = np.zeros(shape=X.shape[1]+1) # initial guess as 0\n",
    "        self.result = optimize.minimize(opt_loss, initial_arguments,method='cg')\n",
    "        self.coeffs = self.result.x\n",
    "    \n",
    "    def predict(self,X):\n",
    "        #Use the trained model to predict Y\n",
    "        if (self.coeffs is not None):\n",
    "            return np.exp(np.dot(X,self.coeffs[:-1])+self.coeffs[-1])"
   ]
  },
  {
   "cell_type": "code",
   "execution_count": 5,
   "id": "b799b130",
   "metadata": {
    "deletable": false,
    "execution": {
     "iopub.execute_input": "2023-11-08T06:23:18.688688Z",
     "iopub.status.busy": "2023-11-08T06:23:18.688224Z",
     "iopub.status.idle": "2023-11-08T06:23:18.885007Z",
     "shell.execute_reply": "2023-11-08T06:23:18.884163Z"
    },
    "lx_assignment_number": "2",
    "lx_assignment_type": "ASSIGNMENT",
    "lx_assignment_type2print": "Assignment",
    "lx_problem_cell_type": "PROBLEM",
    "lx_problem_number": "2",
    "lx_problem_points": "8"
   },
   "outputs": [
    {
     "name": "stdout",
     "output_type": "stream",
     "text": [
      " message: Desired error not necessarily achieved due to precision loss.\n",
      " success: False\n",
      "  status: 2\n",
      "     fun: -17205.28703837392\n",
      "       x: [ 1.759e-01  1.713e-01  1.402e+00]\n",
      "     nit: 26\n",
      "     jac: [ 0.000e+00  2.441e-04  0.000e+00]\n",
      "    nfev: 225\n",
      "    njev: 56\n"
     ]
    }
   ],
   "source": [
    "# Part 4\n",
    "# Initialize your PoissonRegression model\n",
    "problem2_model = PoissonRegression()\n",
    "\n",
    "# Fit your initialized model on the training data\n",
    "problem2_model.fit(problem2_X_train,problem2_y_train)\n",
    "\n",
    "# This is to make sure that everything went well, \n",
    "# check that success is True\n",
    "print(problem2_model.result)"
   ]
  },
  {
   "cell_type": "code",
   "execution_count": 11,
   "id": "0aa2537d",
   "metadata": {
    "deletable": false,
    "execution": {
     "iopub.execute_input": "2023-11-08T06:23:18.889558Z",
     "iopub.status.busy": "2023-11-08T06:23:18.889151Z",
     "iopub.status.idle": "2023-11-08T06:23:18.899747Z",
     "shell.execute_reply": "2023-11-08T06:23:18.898877Z"
    },
    "lx_assignment_number": "2",
    "lx_assignment_type": "ASSIGNMENT",
    "lx_assignment_type2print": "Assignment",
    "lx_problem_cell_type": "PROBLEM",
    "lx_problem_number": "2",
    "lx_problem_points": "8",
    "scrolled": true
   },
   "outputs": [
    {
     "name": "stdout",
     "output_type": "stream",
     "text": [
      "3.78863616014782\n",
      "3.202892184529445\n",
      "(0.5857439756183749, 6.991528344677265)\n"
     ]
    }
   ],
   "source": [
    "# Part 5\n",
    "problem2_y_pedict = problem2_model.predict(problem2_X_test)\n",
    "MAE = np.mean(np.abs(problem2_y_test - problem2_y_pedict))\n",
    "\n",
    "# Put the computed mean absolute error in the variable below\n",
    "problem2_metric = MAE\n",
    "\n",
    "# Put a confidence interval in the variable below by using Hoeffdings inequality using the bounds\n",
    "# a = 0, b=70 (roughly 5 days between visits as minimum)\n",
    "# the variable should contain a tuple representing the confidence interval of the form (l_edge,r_edge)\n",
    "import math\n",
    "a=0\n",
    "b=70\n",
    "alpha = 0.05\n",
    "n = problem2_X_test.shape[0]\n",
    "epsilon = math.sqrt((1 / (2 * n)) * (b - a)**2 * math.log(2 / alpha))\n",
    "\n",
    "print(MAE)\n",
    "print(epsilon)\n",
    "\n",
    "\n",
    "problem2_interval = (MAE-epsilon,MAE+epsilon)\n",
    "print(problem2_interval)"
   ]
  },
  {
   "cell_type": "code",
   "execution_count": 9,
   "id": "4b54c3bc",
   "metadata": {},
   "outputs": [
    {
     "data": {
      "text/plain": [
       "3.202892184529445"
      ]
     },
     "execution_count": 9,
     "metadata": {},
     "output_type": "execute_result"
    }
   ],
   "source": [
    " math.sqrt((1 / (2 * n)) * (b - a)**2 * math.log(2 / alpha))"
   ]
  },
  {
   "cell_type": "code",
   "execution_count": 12,
   "id": "e6b5f6ea",
   "metadata": {
    "deletable": false,
    "execution": {
     "iopub.execute_input": "2023-11-08T06:23:18.903294Z",
     "iopub.status.busy": "2023-11-08T06:23:18.902949Z",
     "iopub.status.idle": "2023-11-08T06:23:19.219873Z",
     "shell.execute_reply": "2023-11-08T06:23:19.218900Z"
    },
    "lx_assignment_number": "2",
    "lx_assignment_type": "ASSIGNMENT",
    "lx_assignment_type2print": "Assignment",
    "lx_problem_cell_type": "TEST",
    "lx_problem_number": "2",
    "lx_problem_points": "8",
    "lx_test_only": "True"
   },
   "outputs": [
    {
     "name": "stdout",
     "output_type": "stream",
     "text": [
      "Beginning tests for problem 2\n",
      "\n",
      "---------------------------------\n",
      "Beginning test for part1\n",
      "---------------------------------\n",
      "\n",
      "-----Beginning test------\n",
      "You have not loaded pandas, good job!\n",
      "-----Ending test---------\n",
      "\n",
      "-----Beginning test------\n",
      "Your header is an iterable of strings\n",
      "-----Ending test---------\n",
      "\n",
      "-----Beginning test------\n",
      "Your problem2_data is a numpy array\n",
      "-----Ending test---------\n",
      "\n",
      "-----Beginning test------\n",
      "You have the correct header\n",
      "-----Ending test---------\n",
      "\n",
      "-----Beginning test------\n",
      "Your data has the correct shape\n",
      "-----Ending test---------\n",
      "\n",
      "-----Beginning test------\n",
      "Your problem2_data has the correct dtype\n",
      "-----Ending test---------\n",
      "\n",
      "---------------------------------\n",
      "Beginning test for part2\n",
      "---------------------------------\n",
      "\n",
      "-----Beginning test------\n",
      "Your X is a numpy array\n",
      "-----Ending test---------\n",
      "\n",
      "-----Beginning test------\n",
      "Your Xtrain is a numpy array\n",
      "-----Ending test---------\n",
      "\n",
      "-----Beginning test------\n",
      "Your problem2_X has the form (n_samples,n_features)\n",
      "-----Ending test---------\n",
      "\n",
      "-----Beginning test------\n",
      "Your problem2_X has the right shape\n",
      "-----Ending test---------\n",
      "\n",
      "-----Beginning test------\n",
      "Your problem2_y has the right shape\n",
      "-----Ending test---------\n",
      "\n",
      "-----Beginning test------\n",
      "Your problem2_X_train has the right shape\n",
      "-----Ending test---------\n",
      "\n",
      "-----Beginning test------\n",
      "Your problem2_X_test has the right shape\n",
      "-----Ending test---------\n",
      "\n",
      "-----Beginning test------\n",
      "Your problem2_y_train has the right shape\n",
      "-----Ending test---------\n",
      "\n",
      "-----Beginning test------\n",
      "Your problem2_y_test has the right shape\n",
      "-----Ending test---------\n",
      "\n",
      "---------------------------------\n",
      "Beginning test for part3\n",
      "---------------------------------\n",
      "\n",
      "-----Beginning test------\n",
      "\n",
      "Your loss does not return the correct value for a test case\n",
      "You got 1.5 points deduction \n",
      "-----Ending test---------\n",
      "\n",
      "---------------------------------\n",
      "Beginning test for part4\n",
      "---------------------------------\n",
      "\n",
      "-----Beginning test------\n",
      "Your coefficients are initialized\n",
      "-----Ending test---------\n",
      "\n",
      "-----Beginning test------\n",
      "\n",
      "The optimization step failed\n",
      "You got 0.5 points deduction \n",
      "-----Ending test---------\n",
      "\n",
      "-----Beginning test------\n",
      "The optimal value of the loss is close the the correct one\n",
      "-----Ending test---------\n",
      "\n",
      "---------------------------------\n",
      "Beginning test for part5\n",
      "---------------------------------\n",
      "\n",
      "-----Beginning test------\n",
      "Your MAE is correct by less than 10^(-4)\n",
      "-----Ending test---------\n",
      "\n",
      "-----Beginning test------\n",
      "\n",
      "At least one of your edges of the confidencen interval is off by more than 10^(-3), check that the left edge is non-negative and that the upper edge is less than the upper bound\n",
      "You got 0.5 points deduction \n",
      "-----Ending test---------\n",
      "\n",
      "-----Beginning test------\n",
      "\n",
      "At most one of your confidence interval is off by more than 10^(-3), check that the left edge is non-negative and that the upper edge is less than the upper bound\n",
      "You got 0.5 points deduction \n",
      "-----Ending test---------\n",
      "\n",
      "\n",
      "All tests complete, you got = 5 points\n",
      "The number of points you have scored for this problem is 5 out of 8\n",
      "The number of points you have accumulated thus far is   13 out of 16\n"
     ]
    }
   ],
   "source": []
  },
  {
   "cell_type": "markdown",
   "id": "26475d9c",
   "metadata": {
    "deletable": false,
    "lx_assignment_number": "2",
    "lx_assignment_type": "ASSIGNMENT",
    "lx_assignment_type2print": "Assignment",
    "lx_problem_cell_type": "PROBLEM",
    "lx_problem_number": "3",
    "lx_problem_points": "8"
   },
   "source": [
    "---\n",
    "## Assignment 2, PROBLEM 3\n",
    "Maximum Points = 8"
   ]
  },
  {
   "cell_type": "markdown",
   "id": "820be2c4",
   "metadata": {
    "deletable": false,
    "lx_assignment_number": "2",
    "lx_assignment_type": "ASSIGNMENT",
    "lx_assignment_type2print": "Assignment",
    "lx_problem_cell_type": "PROBLEM",
    "lx_problem_number": "3",
    "lx_problem_points": "8"
   },
   "source": [
    "\n",
    "## Random variable generation and transformation\n",
    "\n",
    "The purpose of this problem is to show that you can implement your own sampler, this will be built in the following three steps:\n",
    "\n",
    "1. [2p] Implement a Linear Congruential Generator where you tested out a good combination (a large $M$ with $a,b$ satisfying the Hull-Dobell (Thm 6.8)) of parameters. Follow the instructions in the code block.\n",
    "2. [2p] Using a generator construct random numbers from the uniform $[0,1]$ distribution.\n",
    "3. [4p] Using a uniform $[0,1]$ random generator, generate samples from \n",
    "\n",
    "$$p_0(x) = \\frac{\\pi}{2}|\\sin(2\\pi x)|, \\quad x \\in [0,1] \\enspace .$$\n",
    "\n",
    "Using the **Accept-Reject** sampler (**Algorithm 1** in TFDS notes) with sampling density given by the uniform $[0,1]$ distribution."
   ]
  },
  {
   "cell_type": "code",
   "execution_count": 13,
   "id": "c0359316",
   "metadata": {
    "deletable": false,
    "execution": {
     "iopub.execute_input": "2023-11-08T06:23:19.224240Z",
     "iopub.status.busy": "2023-11-08T06:23:19.223791Z",
     "iopub.status.idle": "2023-11-08T06:23:19.229843Z",
     "shell.execute_reply": "2023-11-08T06:23:19.228938Z"
    },
    "lx_assignment_number": "2",
    "lx_assignment_type": "ASSIGNMENT",
    "lx_assignment_type2print": "Assignment",
    "lx_problem_cell_type": "PROBLEM",
    "lx_problem_number": "3",
    "lx_problem_points": "8"
   },
   "outputs": [],
   "source": [
    "def problem3_LCG(size=None, seed = 0):\n",
    "    \"\"\"\n",
    "    A linear congruential generator that generates pseudo random numbers according to size.\n",
    "    \n",
    "    Parameters\n",
    "    -------------\n",
    "    size : an integer denoting how many samples should be produced\n",
    "    seed : the starting point of the LCG, i.e. u0 in the notes.\n",
    "    \n",
    "    Returns\n",
    "    -------------\n",
    "    out : a list of the pseudo random numbers\n",
    "    \"\"\"\n",
    "    m = 2**32\n",
    "    a = 1103515245\n",
    "    b = 12345\n",
    "    if size == None:\n",
    "        return None\n",
    "    x = seed # the seed\n",
    "    res =[]\n",
    "    for i in range(size):  \n",
    "        x = (a * x + b) % m \n",
    "        res.append(x)\n",
    "    return res"
   ]
  },
  {
   "cell_type": "code",
   "execution_count": 14,
   "id": "8b53488c",
   "metadata": {
    "deletable": false,
    "execution": {
     "iopub.execute_input": "2023-11-08T06:23:19.234245Z",
     "iopub.status.busy": "2023-11-08T06:23:19.233834Z",
     "iopub.status.idle": "2023-11-08T06:23:19.241433Z",
     "shell.execute_reply": "2023-11-08T06:23:19.240665Z"
    },
    "lx_assignment_number": "2",
    "lx_assignment_type": "ASSIGNMENT",
    "lx_assignment_type2print": "Assignment",
    "lx_problem_cell_type": "PROBLEM",
    "lx_problem_number": "3",
    "lx_problem_points": "8"
   },
   "outputs": [],
   "source": [
    "\n",
    "def problem3_uniform(generator=None, period = 1, size=None, seed=0):\n",
    "    \"\"\"\n",
    "    Takes a generator and produces samples from the uniform [0,1] distribution according\n",
    "    to size.\n",
    "    \n",
    "    Parameters\n",
    "    -------------\n",
    "    generator : a function of type generator(size,seed) and produces the same result as problem1_LCG, i.e. pseudo random numbers in the range {0,1,...,period-1}\n",
    "    period : the period of the generator\n",
    "    seed : the seed to be used in the generator provided\n",
    "    size : an integer denoting how many samples should be produced\n",
    "    \n",
    "    Returns\n",
    "    --------------\n",
    "    out : a list of the uniform pseudo random numbers\n",
    "    \"\"\"\n",
    "    \n",
    "    \"\"\"Producing random integers between 0 and 1 inclusive\"\"\"\n",
    "    gen = generator(size,seed)\n",
    "    rand_numb = [gen[i] / period for i in range(size)]\n",
    "\n",
    "\n",
    "    return rand_numb"
   ]
  },
  {
   "cell_type": "code",
   "execution_count": 15,
   "id": "4e4476f3",
   "metadata": {
    "deletable": false,
    "execution": {
     "iopub.execute_input": "2023-11-08T06:23:19.245564Z",
     "iopub.status.busy": "2023-11-08T06:23:19.245168Z",
     "iopub.status.idle": "2023-11-08T06:23:19.251922Z",
     "shell.execute_reply": "2023-11-08T06:23:19.251036Z"
    },
    "lx_assignment_number": "2",
    "lx_assignment_type": "ASSIGNMENT",
    "lx_assignment_type2print": "Assignment",
    "lx_problem_cell_type": "PROBLEM",
    "lx_problem_number": "3",
    "lx_problem_points": "8"
   },
   "outputs": [],
   "source": [
    "def problem3_accept_reject(uniformGenerator=None, n_iterations=None, seed=0):\n",
    "    \"\"\"\n",
    "    Takes a generator that produces uniform pseudo random [0,1] numbers \n",
    "    and produces samples from (pi/2)*abs(sin(x*2*pi)) using an Accept-Reject\n",
    "    sampler with the uniform distribution as the proposal distribution.\n",
    "    Runs n_iterations\n",
    "    \n",
    "    Parameters\n",
    "    -------------\n",
    "    generator : a function of the type generator(size,seed) that produces uniform pseudo random\n",
    "    numbers from [0,1]\n",
    "    seed : the seed to be used in the generator provided\n",
    "    n_iterations : an integer denoting how many attempts should be made in the accept-reject sampler\n",
    "    \n",
    "    Returns\n",
    "    --------------\n",
    "    out : a list of the pseudo random numbers with the specified distribution\n",
    "    \"\"\"\n",
    "    import math\n",
    "    \n",
    "    samples = uniformGenerator(n_iterations,seed)\n",
    "    x = uniformGenerator(n_iterations,seed)\n",
    "    \n",
    "    samp_accepted = []\n",
    "    rejections = 0\n",
    "    for i in range(n_iterations):\n",
    "        if x<= math.pi/2*abs(math.sin(2*math.pi*samples[i]))): # (samples[i]*math.pi/2 <= math.pi/2*abs(math.sin(2*math.pi*samples[i]))): \n",
    "            samp_accepted.append(samples[i])\n",
    "    \n",
    "    return samp_accepted"
   ]
  },
  {
   "cell_type": "markdown",
   "id": "c942588b",
   "metadata": {
    "deletable": false,
    "lx_assignment_number": "2",
    "lx_assignment_type": "ASSIGNMENT",
    "lx_assignment_type2print": "Assignment",
    "lx_problem_cell_type": "Test",
    "lx_problem_number": "3",
    "lx_problem_points": "8"
   },
   "source": [
    "---\n",
    "#### Local Test for Assignment 2, PROBLEM 3\n",
    "Evaluate cell below to make sure your answer is valid.                             You **should not** modify anything in the cell below when evaluating it to do a local test of                             your solution.\n",
    "You may need to include and evaluate code snippets from lecture notebooks in cells above to make the local test work correctly sometimes (see error messages for clues). This is meant to help you become efficient at recalling materials covered in lectures that relate to this problem. Such local tests will generally not be available in the exam."
   ]
  },
  {
   "cell_type": "code",
   "execution_count": 16,
   "id": "ec91f264",
   "metadata": {
    "deletable": false,
    "execution": {
     "iopub.execute_input": "2023-11-08T06:23:19.255558Z",
     "iopub.status.busy": "2023-11-08T06:23:19.255204Z",
     "iopub.status.idle": "2023-11-08T06:23:19.261931Z",
     "shell.execute_reply": "2023-11-08T06:23:19.261044Z"
    },
    "lx_assignment_number": "2",
    "lx_assignment_type": "ASSIGNMENT",
    "lx_assignment_type2print": "Assignment",
    "lx_problem_cell_type": "Test",
    "lx_problem_number": "3",
    "lx_problem_points": "8"
   },
   "outputs": [
    {
     "name": "stdout",
     "output_type": "stream",
     "text": [
      "LCG output: [1103527590, 2524885223, 662824084, 3295386429, 4182499122, 2516284547, 3655513600, 2633739833, 3210001534, 267834847]\n",
      "Uniform sampler [0.25693503906950355, 0.5878706516232342, 0.15432575810700655, 0.767266943352297, 0.9738139626570046, 0.5858681506942958, 0.8511155843734741, 0.6132153405342251, 0.7473867232911289, 0.06236015981994569]\n",
      "Accept-Reject sampler [0.25693503906950355, 0.15432575810700655, 0.767266943352297, 0.6132153405342251, 0.7473867232911289, 0.06236015981994569, 0.04194940160959959, 0.1948235605377704, 0.1386128985323012, 0.6840353596489877, 0.7676989699248224, 0.8232365751173347]\n"
     ]
    }
   ],
   "source": [
    "import math\n",
    "# If you managed to solve all three parts you can test the following code to see if it runs\n",
    "# you have to change the period to match your LCG though, this is marked as XXX.\n",
    "# It is a very good idea to check these things using the histogram function in sagemath\n",
    "# try with a larger number of samples, up to 10000 should run\n",
    "\n",
    "print(\"LCG output: %s\" % problem3_LCG(size=10, seed = 1))\n",
    "\n",
    "period = 2**32\n",
    "\n",
    "print(\"Uniform sampler %s\" % problem3_uniform(generator=problem3_LCG, period = period, size=10, seed=1))\n",
    "\n",
    "uniform_sampler = lambda size,seed: problem3_uniform(generator=problem3_LCG, period = period, size=size, seed=seed)\n",
    "\n",
    "print(\"Accept-Reject sampler %s\" % problem3_accept_reject(uniformGenerator = uniform_sampler,n_iterations=20,seed=1))"
   ]
  },
  {
   "cell_type": "code",
   "execution_count": 17,
   "id": "62a4f3c6",
   "metadata": {
    "deletable": false,
    "execution": {
     "iopub.execute_input": "2023-11-08T06:23:19.266986Z",
     "iopub.status.busy": "2023-11-08T06:23:19.266524Z",
     "iopub.status.idle": "2023-11-08T06:23:19.272683Z",
     "shell.execute_reply": "2023-11-08T06:23:19.271773Z"
    },
    "lx_assignment_number": "2",
    "lx_assignment_type": "ASSIGNMENT",
    "lx_assignment_type2print": "Assignment",
    "lx_problem_cell_type": "Test",
    "lx_problem_number": "3",
    "lx_problem_points": "8"
   },
   "outputs": [
    {
     "name": "stdout",
     "output_type": "stream",
     "text": [
      "Accept-Reject sampler [0.13436424411240122, 0.763774618976614, 0.2550690257394217, 0.651592972722763, 0.7887233511355132, 0.0938595867742349, 0.02834747652200631, 0.8357651039198697, 0.762280082457942, 0.0021060533511106927, 0.7215400323407826, 0.22876222127045265, 0.030589983033553536]\n"
     ]
    }
   ],
   "source": [
    "\n",
    "# If however you did not manage to implement either part 1 or part 2 but still want to check part 3, you can run the code below\n",
    "\n",
    "def testUniformGenerator(size,seed):\n",
    "    import random\n",
    "    random.seed(seed)\n",
    "    \n",
    "    return [random.uniform(0,1) for s in range(size)]\n",
    "\n",
    "print(\"Accept-Reject sampler %s\" % problem3_accept_reject(uniformGenerator=testUniformGenerator, n_iterations=20, seed=1))"
   ]
  },
  {
   "cell_type": "code",
   "execution_count": 18,
   "id": "274e274f",
   "metadata": {
    "deletable": false,
    "execution": {
     "iopub.execute_input": "2023-11-08T06:23:19.277657Z",
     "iopub.status.busy": "2023-11-08T06:23:19.277248Z",
     "iopub.status.idle": "2023-11-08T06:23:20.116229Z",
     "shell.execute_reply": "2023-11-08T06:23:20.115400Z"
    },
    "lx_assignment_number": "2",
    "lx_assignment_type": "ASSIGNMENT",
    "lx_assignment_type2print": "Assignment",
    "lx_problem_cell_type": "TEST",
    "lx_problem_number": "3",
    "lx_problem_points": "8",
    "lx_test_only": "True",
    "scrolled": true
   },
   "outputs": [
    {
     "name": "stdout",
     "output_type": "stream",
     "text": [
      "Beginning tests for problem 3\n",
      "\n",
      "---------------------------------\n",
      "Beginning test for part1\n",
      "---------------------------------\n",
      "\n",
      "-----Beginning test------\n",
      "LCG outputs correct size\n",
      "-----Ending test---------\n",
      "\n",
      "-----Beginning test------\n",
      "Your period is at least longer than 1000\n",
      "-----Ending test---------\n",
      "\n",
      "---------------------------------\n",
      "Beginning test for part2\n",
      "---------------------------------\n",
      "\n",
      "-----Beginning test------\n",
      "problem3_uniform outputs correct size\n",
      "-----Ending test---------\n",
      "\n",
      "-----Beginning test------\n",
      "The uniform sampler seems to produce the correct distribution, within tolerance!\n",
      "-----Ending test---------\n",
      "\n",
      "-----Beginning test------\n",
      "The output of problem3_uniform is greater than 0\n",
      "-----Ending test---------\n",
      "\n",
      "-----Beginning test------\n",
      "The output of problem3_uniform is less than 1\n",
      "-----Ending test---------\n",
      "\n",
      "---------------------------------\n",
      "Beginning test for part3\n",
      "---------------------------------\n",
      "\n",
      "-----Beginning test------\n",
      "The accept-reject sampler runs with your LCG sampler and produces unique results\n",
      "-----Ending test---------\n",
      "\n",
      "-----Beginning test------\n",
      "The accept-reject sampler runs with your LCG sampler and produces numbers between 0 and 1\n",
      "-----Ending test---------\n",
      "\n",
      "-----Beginning test------\n",
      "The accept-reject sampler runs with a plug in sampler and produces numbers between 0 and 1\n",
      "-----Ending test---------\n",
      "\n",
      "-----Beginning test------\n",
      "The accept-reject sampler produces unique results with the plug-in sampler\n",
      "-----Ending test---------\n",
      "\n",
      "-----Beginning test------\n",
      "\n",
      "Your sampler does not seem to produce the correct distribution\n",
      "You got 1.0 points deduction \n",
      "-----Ending test---------\n",
      "\n",
      "\n",
      "All tests complete, you got = 7 points\n",
      "The number of points you have scored for this problem is 7 out of 8\n",
      " \n",
      " \n",
      " \n",
      "The number of points you have scored in total for this entire set of Problems is 20 out of 24\n"
     ]
    }
   ],
   "source": []
  }
 ],
 "metadata": {
  "kernelspec": {
   "display_name": "Python 3 (ipykernel)",
   "language": "python",
   "name": "python3"
  },
  "language_info": {
   "codemirror_mode": {
    "name": "ipython",
    "version": 3
   },
   "file_extension": ".py",
   "mimetype": "text/x-python",
   "name": "python",
   "nbconvert_exporter": "python",
   "pygments_lexer": "ipython3",
   "version": "3.11.4"
  },
  "lx_assignment_number": 2,
  "lx_course_instance": "2023",
  "lx_course_name": "Introduction to Data Science",
  "lx_course_number": "1MS041"
 },
 "nbformat": 4,
 "nbformat_minor": 5
}

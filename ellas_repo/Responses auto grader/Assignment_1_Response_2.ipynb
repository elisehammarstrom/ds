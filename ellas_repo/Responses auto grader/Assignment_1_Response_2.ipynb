{
 "cells": [
  {
   "cell_type": "markdown",
   "id": "2607bcb3",
   "metadata": {
    "deletable": false
   },
   "source": [
    "# Assignment 1 for Course 1MS041\n",
    "Make         sure you pass the `# ... Test` cells and\n",
    " submit your solution notebook in the corresponding assignment on the course website. You can submit multiple times before the deadline         and your highest score will be used."
   ]
  },
  {
   "cell_type": "markdown",
   "id": "1bfca0cd",
   "metadata": {
    "deletable": false,
    "lx_assignment_number": "1",
    "lx_assignment_type": "ASSIGNMENT",
    "lx_assignment_type2print": "Assignment",
    "lx_problem_cell_type": "PROBLEM",
    "lx_problem_number": "1",
    "lx_problem_points": "3"
   },
   "source": [
    "---\n",
    "## Assignment 1, PROBLEM 1\n",
    "Maximum Points = 3"
   ]
  },
  {
   "cell_type": "markdown",
   "id": "0ad13fb8",
   "metadata": {
    "deletable": false,
    "lx_assignment_number": "1",
    "lx_assignment_type": "ASSIGNMENT",
    "lx_assignment_type2print": "Assignment",
    "lx_problem_cell_type": "PROBLEM",
    "lx_problem_number": "1",
    "lx_problem_points": "3"
   },
   "source": [
    "\n",
    "\n",
    "Given that you are being introduced to data science it is important to bear in mind the true costs of AI, a highly predictive family of algorithms used in data engineering sciences:\n",
    "\n",
    "Read the 16 pages of [ai-anatomy-publication.pdf](http://www.anatomyof.ai/img/ai-anatomy-publication.pdf) with the highly detailed [ai-anatomy-map.pdf](https://anatomyof.ai/img/ai-anatomy-map.pdf) of [https://anatomyof.ai/](https://anatomyof.ai/), \"Anatomy of an AI System\" By Kate Crawford and Vladan Joler (2018).  The first problem in ASSIGNMENT 1 is a trivial test of your reading comprehension.\n",
    "\n",
    "\n",
    "Answer whether each of the following statements is `True` or `False` *according to the authors* by appropriately replacing `Xxxxx` coresponding to `TruthValueOfStatement0a`, `TruthValueOfStatement0b` and `TruthValueOfStatement0c`, respectively, in the next cell to demonstrate your reading comprehension.\n",
    "\n",
    "1. `Statement0a =` *Each small moment of convenience (provided by Amazon's Echo) – be it answering a question, turning on a light, or playing a song – requires a vast planetary network, fueled by the extraction of non-renewable materials, labor, and data.*\n",
    "2. `Statement0b =` *The Echo user is simultaneously a consumer, a resource, a worker, and a product* \n",
    "3. `Statement0c =` *Many of the assumptions about human life made by machine learning systems are narrow, normative and laden with error. Yet they are inscribing and building those assumptions into a new world, and will increasingly play a role in how opportunities, wealth, and knowledge are distributed.*"
   ]
  },
  {
   "cell_type": "code",
   "execution_count": 1,
   "id": "60723950",
   "metadata": {
    "deletable": false,
    "execution": {
     "iopub.execute_input": "2023-09-28T07:42:06.043354Z",
     "iopub.status.busy": "2023-09-28T07:42:06.042004Z",
     "iopub.status.idle": "2023-09-28T07:42:06.066971Z",
     "shell.execute_reply": "2023-09-28T07:42:06.065557Z"
    },
    "lx_assignment_number": "1",
    "lx_assignment_type": "ASSIGNMENT",
    "lx_assignment_type2print": "Assignment",
    "lx_problem_cell_type": "PROBLEM",
    "lx_problem_number": "1",
    "lx_problem_points": "3"
   },
   "outputs": [],
   "source": [
    "\n",
    "# Replace Xxxxx with True or False; Don't modify anything else in this cell!\n",
    "\n",
    "TruthValueOfStatement0a = True\n",
    "\n",
    "TruthValueOfStatement0b = True\n",
    "\n",
    "TruthValueOfStatement0c = True\n"
   ]
  },
  {
   "cell_type": "markdown",
   "id": "97ee71c3",
   "metadata": {
    "deletable": false,
    "lx_assignment_number": "1",
    "lx_assignment_type": "ASSIGNMENT",
    "lx_assignment_type2print": "Assignment",
    "lx_problem_cell_type": "Test",
    "lx_problem_number": "1",
    "lx_problem_points": "3"
   },
   "source": [
    "---\n",
    "#### Local Test for Assignment 1, PROBLEM 1\n",
    "Evaluate cell below to make sure your answer is valid.                             You **should not** modify anything in the cell below when evaluating it to do a local test of                             your solution.\n",
    "You may need to include and evaluate code snippets from lecture notebooks in cells above to make the local test work correctly sometimes (see error messages for clues). This is meant to help you become efficient at recalling materials covered in lectures that relate to this problem. Such local tests will generally not be available in the exam."
   ]
  },
  {
   "cell_type": "code",
   "execution_count": 2,
   "id": "9694b7bd",
   "metadata": {
    "deletable": false,
    "execution": {
     "iopub.execute_input": "2023-09-28T07:42:06.072581Z",
     "iopub.status.busy": "2023-09-28T07:42:06.072233Z",
     "iopub.status.idle": "2023-09-28T07:42:06.078299Z",
     "shell.execute_reply": "2023-09-28T07:42:06.077399Z"
    },
    "lx_assignment_number": "1",
    "lx_assignment_type": "ASSIGNMENT",
    "lx_assignment_type2print": "Assignment",
    "lx_problem_cell_type": "Test",
    "lx_problem_number": "1",
    "lx_problem_points": "3"
   },
   "outputs": [
    {
     "name": "stdout",
     "output_type": "stream",
     "text": [
      "Good, you have answered either True or False. Hopefully they are the correct answers!\n"
     ]
    }
   ],
   "source": [
    "# Test locally to ensure an acceptable answer, True or False\n",
    "try:\n",
    "    assert(isinstance(TruthValueOfStatement0a, bool)) \n",
    "    assert(isinstance(TruthValueOfStatement0b, bool)) \n",
    "    assert(isinstance(TruthValueOfStatement0c, bool))\n",
    "except:\n",
    "    print(\"Try again. You are not writing True or False for your answers.\")\n",
    "else:\n",
    "    print(\"Good, you have answered either True or False. Hopefully they are the correct answers!\")"
   ]
  },
  {
   "cell_type": "code",
   "execution_count": 3,
   "id": "172fd629",
   "metadata": {
    "deletable": false,
    "execution": {
     "iopub.execute_input": "2023-09-28T07:42:06.084107Z",
     "iopub.status.busy": "2023-09-28T07:42:06.083784Z",
     "iopub.status.idle": "2023-09-28T07:42:06.093817Z",
     "shell.execute_reply": "2023-09-28T07:42:06.092982Z"
    },
    "lx_assignment_number": "1",
    "lx_assignment_type": "ASSIGNMENT",
    "lx_assignment_type2print": "Assignment",
    "lx_problem_cell_type": "TEST",
    "lx_problem_number": "1",
    "lx_problem_points": "3",
    "lx_test_only": "True"
   },
   "outputs": [
    {
     "name": "stdout",
     "output_type": "stream",
     "text": [
      "You have the correct answer for TruthValueOfStatement0a, congratulations!\n",
      "The number of points you have scored for this problem so far = 1\n",
      "You have the correct answer for TruthValueOfStatement0b, congratulations!\n",
      "The number of points you have scored for this problem so far = 2\n",
      "You have the correct answer for TruthValueOfStatement0c, congratulations!\n",
      "The number of points you have scored for this problem so far = 3\n",
      "The number of points you have scored for this problem is 3 out of 3\n",
      "The number of points you have accumulated thus far is   3 out of 3\n"
     ]
    }
   ],
   "source": []
  },
  {
   "cell_type": "markdown",
   "id": "35057b63",
   "metadata": {
    "deletable": false,
    "lx_assignment_number": "1",
    "lx_assignment_type": "ASSIGNMENT",
    "lx_assignment_type2print": "Assignment",
    "lx_problem_cell_type": "PROBLEM",
    "lx_problem_number": "2",
    "lx_problem_points": "2"
   },
   "source": [
    "---\n",
    "## Assignment 1, PROBLEM 2\n",
    "Maximum Points = 2"
   ]
  },
  {
   "cell_type": "markdown",
   "id": "29418f54",
   "metadata": {
    "deletable": false,
    "lx_assignment_number": "1",
    "lx_assignment_type": "ASSIGNMENT",
    "lx_assignment_type2print": "Assignment",
    "lx_problem_cell_type": "PROBLEM",
    "lx_problem_number": "2",
    "lx_problem_points": "2"
   },
   "source": [
    "\n",
    "Evaluate the following cells by replacing `X` with the right command-line option to `head` in order to find the first four lines of the csv file `data/final.csv`\n",
    "\n",
    "```\n",
    "%%sh\n",
    "man head\n",
    "\n",
    "HEAD(1)                   BSD General Commands Manual                  HEAD(1)\n",
    "\n",
    "NAME\n",
    "     head -- display first lines of a file\n",
    "\n",
    "SYNOPSIS\n",
    "     head [-n count | -c bytes] [file ...]\n",
    "\n",
    "DESCRIPTION\n",
    "     This filter displays the first count lines or bytes of each of the speci-\n",
    "     fied files, or of the standard input if no files are specified.  If count\n",
    "     is omitted it defaults to 10.\n",
    "\n",
    "     If more than a single file is specified, each file is preceded by a\n",
    "     header consisting of the string ``==> XXX <=='' where ``XXX'' is the name\n",
    "     of the file.\n",
    "\n",
    "EXIT STATUS\n",
    "     The head utility exits 0 on success, and >0 if an error occurs.\n",
    "\n",
    "SEE ALSO\n",
    "     tail(1)\n",
    "\n",
    "HISTORY\n",
    "     The head command appeared in PWB UNIX.\n",
    "\n",
    "BSD                              June 6, 1993                              BSD\n",
    "```"
   ]
  },
  {
   "cell_type": "code",
   "execution_count": 4,
   "id": "0aed462a",
   "metadata": {
    "deletable": false,
    "execution": {
     "iopub.execute_input": "2023-09-28T07:42:06.097545Z",
     "iopub.status.busy": "2023-09-28T07:42:06.097212Z",
     "iopub.status.idle": "2023-09-28T07:42:06.142059Z",
     "shell.execute_reply": "2023-09-28T07:42:06.140991Z"
    },
    "lx_assignment_number": "1",
    "lx_assignment_type": "ASSIGNMENT",
    "lx_assignment_type2print": "Assignment",
    "lx_problem_cell_type": "PROBLEM",
    "lx_problem_number": "2",
    "lx_problem_points": "2"
   },
   "outputs": [
    {
     "name": "stdout",
     "output_type": "stream",
     "text": [
      "region,municipality,district,party,votes\r\n",
      "Blekinge län,Karlshamn,0 - Centrala Asarum,S,519\r\n",
      "Blekinge län,Karlshamn,0 - Centrala Asarum,SD,311\r\n",
      "Blekinge län,Karlshamn,0 - Centrala Asarum,M,162\r\n"
     ]
    }
   ],
   "source": [
    "%%bash\n",
    "head -4 data/final.csv"
   ]
  },
  {
   "cell_type": "code",
   "execution_count": 5,
   "id": "6e5e6399",
   "metadata": {
    "deletable": false,
    "execution": {
     "iopub.execute_input": "2023-09-28T07:42:06.147046Z",
     "iopub.status.busy": "2023-09-28T07:42:06.146592Z",
     "iopub.status.idle": "2023-09-28T07:42:06.151805Z",
     "shell.execute_reply": "2023-09-28T07:42:06.150765Z"
    },
    "lx_assignment_number": "1",
    "lx_assignment_type": "ASSIGNMENT",
    "lx_assignment_type2print": "Assignment",
    "lx_problem_cell_type": "PROBLEM",
    "lx_problem_number": "2",
    "lx_problem_points": "2"
   },
   "outputs": [],
   "source": [
    "line_1_final = \"region,municipality,district,party,votes\"\n",
    "line_2_final = \"Blekinge län,Karlshamn,0 - Centrala Asarum,S,519\""
   ]
  },
  {
   "cell_type": "markdown",
   "id": "d9d7fa73",
   "metadata": {
    "deletable": false,
    "lx_assignment_number": "1",
    "lx_assignment_type": "ASSIGNMENT",
    "lx_assignment_type2print": "Assignment",
    "lx_problem_cell_type": "Test",
    "lx_problem_number": "2",
    "lx_problem_points": "2"
   },
   "source": [
    "---\n",
    "#### Local Test for Assignment 1, PROBLEM 2\n",
    "Evaluate cell below to make sure your answer is valid.                             You **should not** modify anything in the cell below when evaluating it to do a local test of                             your solution.\n",
    "You may need to include and evaluate code snippets from lecture notebooks in cells above to make the local test work correctly sometimes (see error messages for clues). This is meant to help you become efficient at recalling materials covered in lectures that relate to this problem. Such local tests will generally not be available in the exam."
   ]
  },
  {
   "cell_type": "code",
   "execution_count": 6,
   "id": "c4f216c4",
   "metadata": {
    "deletable": false,
    "execution": {
     "iopub.execute_input": "2023-09-28T07:42:06.157011Z",
     "iopub.status.busy": "2023-09-28T07:42:06.156500Z",
     "iopub.status.idle": "2023-09-28T07:42:06.164631Z",
     "shell.execute_reply": "2023-09-28T07:42:06.163620Z"
    },
    "lx_assignment_number": "1",
    "lx_assignment_type": "ASSIGNMENT",
    "lx_assignment_type2print": "Assignment",
    "lx_problem_cell_type": "Test",
    "lx_problem_number": "2",
    "lx_problem_points": "2"
   },
   "outputs": [
    {
     "name": "stdout",
     "output_type": "stream",
     "text": [
      "Good! You have answered as a string for line 1. Hopefully it is the correct!\n",
      "Good! You have answered as a string for line 2. Hopefully it is the correct!\n"
     ]
    }
   ],
   "source": [
    "# Evaluate this cell locally to make sure you have the answer as a string\n",
    "try:\n",
    "    assert(type(line_1_final) == str)\n",
    "    print(\"Good! You have answered as a string for line 1. Hopefully it is the correct!\")\n",
    "except AssertionError:\n",
    "    print(\"Try Again. You should answer with a string.\")\n",
    "try:\n",
    "    assert(type(line_2_final) == str)\n",
    "    print(\"Good! You have answered as a string for line 2. Hopefully it is the correct!\")\n",
    "except AssertionError:\n",
    "    print(\"Try Again. You should answer with a string.\")"
   ]
  },
  {
   "cell_type": "code",
   "execution_count": 7,
   "id": "58e94b4d",
   "metadata": {
    "deletable": false,
    "execution": {
     "iopub.execute_input": "2023-09-28T07:42:06.169951Z",
     "iopub.status.busy": "2023-09-28T07:42:06.169580Z",
     "iopub.status.idle": "2023-09-28T07:42:06.177438Z",
     "shell.execute_reply": "2023-09-28T07:42:06.176544Z"
    },
    "lx_assignment_number": "1",
    "lx_assignment_type": "ASSIGNMENT",
    "lx_assignment_type2print": "Assignment",
    "lx_problem_cell_type": "TEST",
    "lx_problem_number": "2",
    "lx_problem_points": "2",
    "lx_test_only": "True"
   },
   "outputs": [
    {
     "name": "stdout",
     "output_type": "stream",
     "text": [
      "You have the correct first line, congratulations!\n",
      "The number of points you have scored for this problem so far = 1\n",
      "You have the correct second line, congratulations!\n",
      "The number of points you have scored for this problem so far = 2\n",
      "The number of points you have scored for this problem is 2 out of 2\n",
      "The number of points you have accumulated thus far is   5 out of 5\n"
     ]
    }
   ],
   "source": []
  },
  {
   "cell_type": "markdown",
   "id": "2224de9a",
   "metadata": {
    "deletable": false,
    "lx_assignment_number": "1",
    "lx_assignment_type": "ASSIGNMENT",
    "lx_assignment_type2print": "Assignment",
    "lx_problem_cell_type": "PROBLEM",
    "lx_problem_number": "3",
    "lx_problem_points": "3"
   },
   "source": [
    "---\n",
    "## Assignment 1, PROBLEM 3\n",
    "Maximum Points = 3"
   ]
  },
  {
   "cell_type": "markdown",
   "id": "4401b4bc",
   "metadata": {
    "deletable": false,
    "lx_assignment_number": "1",
    "lx_assignment_type": "ASSIGNMENT",
    "lx_assignment_type2print": "Assignment",
    "lx_problem_cell_type": "PROBLEM",
    "lx_problem_number": "3",
    "lx_problem_points": "3"
   },
   "source": [
    "\n",
    "In this assignment the goal is to parse the `final.csv` file from the previous problem.\n",
    "\n",
    "1. Read the file `data/final.csv` and parse it using the `csv` package and store the result as follows\n",
    "\n",
    "the `header` variable contains a list of names all as strings\n",
    "\n",
    "the `data` variable should be a list of lists containing all the rows of the csv file"
   ]
  },
  {
   "cell_type": "code",
   "execution_count": 8,
   "id": "c18052b8",
   "metadata": {
    "deletable": false,
    "execution": {
     "iopub.execute_input": "2023-09-28T07:42:06.181951Z",
     "iopub.status.busy": "2023-09-28T07:42:06.181573Z",
     "iopub.status.idle": "2023-09-28T07:42:06.371079Z",
     "shell.execute_reply": "2023-09-28T07:42:06.370403Z"
    },
    "lx_assignment_number": "1",
    "lx_assignment_type": "ASSIGNMENT",
    "lx_assignment_type2print": "Assignment",
    "lx_problem_cell_type": "PROBLEM",
    "lx_problem_number": "3",
    "lx_problem_points": "3",
    "scrolled": false
   },
   "outputs": [],
   "source": [
    "import csv\n",
    "file_final = open(\"data/final.csv\", 'r')\n",
    "reader = csv.reader(file_final)\n",
    "#header = list(line_1_final.split(\",\"))\n",
    "header = next(reader)\n",
    "data = list(reader)"
   ]
  },
  {
   "cell_type": "markdown",
   "id": "c0ae081b",
   "metadata": {
    "deletable": false,
    "lx_assignment_number": "1",
    "lx_assignment_type": "ASSIGNMENT",
    "lx_assignment_type2print": "Assignment",
    "lx_problem_cell_type": "Test",
    "lx_problem_number": "3",
    "lx_problem_points": "3"
   },
   "source": [
    "---\n",
    "#### Local Test for Assignment 1, PROBLEM 3\n",
    "Evaluate cell below to make sure your answer is valid.                             You **should not** modify anything in the cell below when evaluating it to do a local test of                             your solution.\n",
    "You may need to include and evaluate code snippets from lecture notebooks in cells above to make the local test work correctly sometimes (see error messages for clues). This is meant to help you become efficient at recalling materials covered in lectures that relate to this problem. Such local tests will generally not be available in the exam."
   ]
  },
  {
   "cell_type": "code",
   "execution_count": 9,
   "id": "3eecdd07",
   "metadata": {
    "deletable": false,
    "execution": {
     "iopub.execute_input": "2023-09-28T07:42:06.375467Z",
     "iopub.status.busy": "2023-09-28T07:42:06.375127Z",
     "iopub.status.idle": "2023-09-28T07:42:06.398701Z",
     "shell.execute_reply": "2023-09-28T07:42:06.397790Z"
    },
    "lx_assignment_number": "1",
    "lx_assignment_type": "ASSIGNMENT",
    "lx_assignment_type2print": "Assignment",
    "lx_problem_cell_type": "Test",
    "lx_problem_number": "3",
    "lx_problem_points": "3"
   },
   "outputs": [
    {
     "name": "stdout",
     "output_type": "stream",
     "text": [
      "Good! You have the header as a list. Hopefully it is the correct!\n",
      "Good! You have the header as a list of strings. Hopefully it is the correct!\n",
      "Good! You have the data as a list. Hopefully it is the correct!\n",
      "Good! You have the data as a list of lists. Hopefully it is the correct!\n",
      "Good! You have the data as a list of lists of strings. Hopefully it is the correct!\n"
     ]
    }
   ],
   "source": [
    "\n",
    "# Evaluate this cell locally to make sure you have the answer in the right format\n",
    "try:\n",
    "    assert(type(header) == list)\n",
    "    print(\"Good! You have the header as a list. Hopefully it is the correct!\")\n",
    "except AssertionError:\n",
    "    print(\"Try Again. You should answer with a list.\")\n",
    "try:\n",
    "    types = set([type(a) for a in header])\n",
    "    assert((len(types) == 1) and (list(types)[0] == str))\n",
    "    print(\"Good! You have the header as a list of strings. Hopefully it is the correct!\")\n",
    "except AssertionError:\n",
    "    print(\"Try Again. You should answer with a list of strings.\")\n",
    "try:\n",
    "    assert(type(data) == list)\n",
    "    print(\"Good! You have the data as a list. Hopefully it is the correct!\")\n",
    "except AssertionError:\n",
    "    print(\"Try Again. You should answer with a list.\")\n",
    "try:\n",
    "    types = set([type(a) for a in data])\n",
    "    assert((len(types) == 1) and (list(types)[0] == list))\n",
    "    print(\"Good! You have the data as a list of lists. Hopefully it is the correct!\")\n",
    "except AssertionError:\n",
    "    print(\"Try Again. You should answer with a list of lists.\")\n",
    "try:\n",
    "    types = set(sum([[type(d) for d in t] for t in data[:1]],[]))\n",
    "    assert((len(types) == 1) and (list(types)[0] == str))\n",
    "    print(\"Good! You have the data as a list of lists of strings. Hopefully it is the correct!\")\n",
    "except AssertionError:\n",
    "    print(\"Try Again. You should answer with a list of lists of strings.\")"
   ]
  },
  {
   "cell_type": "code",
   "execution_count": 10,
   "id": "41f929d0",
   "metadata": {
    "deletable": false,
    "execution": {
     "iopub.execute_input": "2023-09-28T07:42:06.403311Z",
     "iopub.status.busy": "2023-09-28T07:42:06.402858Z",
     "iopub.status.idle": "2023-09-28T07:42:06.619440Z",
     "shell.execute_reply": "2023-09-28T07:42:06.618613Z"
    },
    "lx_assignment_number": "1",
    "lx_assignment_type": "ASSIGNMENT",
    "lx_assignment_type2print": "Assignment",
    "lx_problem_cell_type": "TEST",
    "lx_problem_number": "3",
    "lx_problem_points": "3",
    "lx_test_only": "True",
    "scrolled": true
   },
   "outputs": [
    {
     "name": "stdout",
     "output_type": "stream",
     "text": [
      "Good! Your header coincides with the reference\n",
      "The number of points you have scored for this problem so far = 1\n",
      "Good! Your data coincides with the reference on a test line\n",
      "The number of points you have scored for this problem so far = 3\n",
      "The number of points you have scored for this problem is 3 out of 3\n",
      "The number of points you have accumulated thus far is   8 out of 8\n"
     ]
    }
   ],
   "source": []
  },
  {
   "cell_type": "markdown",
   "id": "a90165d4",
   "metadata": {
    "deletable": false,
    "lx_assignment_number": "1",
    "lx_assignment_type": "ASSIGNMENT",
    "lx_assignment_type2print": "Assignment",
    "lx_problem_cell_type": "PROBLEM",
    "lx_problem_number": "4",
    "lx_problem_points": "8"
   },
   "source": [
    "---\n",
    "## Assignment 1, PROBLEM 4\n",
    "Maximum Points = 8"
   ]
  },
  {
   "cell_type": "markdown",
   "id": "70b9a580",
   "metadata": {
    "deletable": false,
    "lx_assignment_number": "1",
    "lx_assignment_type": "ASSIGNMENT",
    "lx_assignment_type2print": "Assignment",
    "lx_problem_cell_type": "PROBLEM",
    "lx_problem_number": "4",
    "lx_problem_points": "8"
   },
   "source": [
    "\n",
    "## Students passing exam (Sample exam problem)\n",
    "Let's say we have an exam question which consists of $10$ yes/no questions. \n",
    "From past performance of similar students, a randomly chosen student will know the correct answer to $N \\sim \\text{binom}(10,6/10)$ questions. Furthermore, we assume that the student will guess the answer with equal probability to each question they don't know the answer to, i.e. given $N$ we define $Z \\sim \\text{binom}(10-N,1/2)$ as the number of correctly guessed answers. Define $Y = N + Z$, i.e., $Y$ represents the number of total correct answers.\n",
    "\n",
    "We are interested in setting a deterministic threshold $T$, i.e., we would pass a student at threshold $T$ if $Y \\geq T$. Here $T \\in \\{0,1,2,\\ldots,10\\}$.\n",
    "\n",
    "1. [5p] For each threshold $T$, compute the probability that the student *knows* less than $5$ correct answers given that the student passed, i.e., $N < 5$. Put the answer in `problem11_probabilities` as a list.\n",
    "2. [3p] What is the smallest value of $T$ such that if $Y \\geq T$ then we are 90\\% certain that $N \\geq 5$?"
   ]
  },
  {
   "cell_type": "code",
   "execution_count": 11,
   "id": "e3e5bf65",
   "metadata": {
    "deletable": false,
    "execution": {
     "iopub.execute_input": "2023-09-28T07:42:06.623060Z",
     "iopub.status.busy": "2023-09-28T07:42:06.622729Z",
     "iopub.status.idle": "2023-09-28T07:42:06.830802Z",
     "shell.execute_reply": "2023-09-28T07:42:06.829932Z"
    },
    "lx_assignment_number": "1",
    "lx_assignment_type": "ASSIGNMENT",
    "lx_assignment_type2print": "Assignment",
    "lx_problem_cell_type": "PROBLEM",
    "lx_problem_number": "4",
    "lx_problem_points": "8"
   },
   "outputs": [
    {
     "name": "stdout",
     "output_type": "stream",
     "text": [
      "[0.16623861760000005, 0.16623853222282572, 0.16623511712151573, 0.16617364051358016, 0.1655173254906334, 0.16089403080809417, 0.1444527989145165, 0.11223025722358065, 0.07321212315323332, 0.04058456420898439, 0.0197277069091797]\n"
     ]
    }
   ],
   "source": [
    "# Hint the PMF of N is p_N(k) where p_N is\n",
    "from scipy.special import binom as binomial\n",
    "p_n = 6/10\n",
    "p_N = lambda k: binomial(10,k)*((1-p_n)**(10-k))*((p_n)**k)\n",
    "p_z = 1/2\n",
    "p_Z = lambda k,n: binomial(n,k)*((1-p_z)**(n-k))*((p_z)**k)\n",
    "\n",
    "def prob_Y_ge_T(t):   #Zähler: Y>=T\n",
    "    prob_Y_ge_T = 0\n",
    "    for n in range(0,11):\n",
    "        for z in range(11-n):\n",
    "            if n+z>=t:\n",
    "                prob_Y_ge_T = prob_Y_ge_T + (p_N(n)*p_Z(z,10-n))\n",
    "    return prob_Y_ge_T\n",
    "\n",
    "def prob_n_lt_5_given_Y_ge_T(t): #gesamte Formel für T fixed\n",
    "    prob_n_lt_5_and_Y_ge_T = 0\n",
    "    for n in range(0,5):\n",
    "        for z in range(11-n):\n",
    "            if n+z>=t:\n",
    "                prob_n_lt_5_and_Y_ge_T = prob_n_lt_5_and_Y_ge_T + (p_N(n)*p_Z(z,10-n))    #Nenner - N<5 AND Y>=T\n",
    "    return prob_n_lt_5_and_Y_ge_T / prob_Y_ge_T(t)   # Ergebnis = Nenner / Zähler mit Formel für bedingte Wahrscheinlichkeit\n",
    "\n",
    "#Iterate over every T in [0,10]\n",
    "T_result = []\n",
    "for t in range(11):\n",
    "    T_result.append(prob_n_lt_5_given_Y_ge_T(t))\n",
    "\n",
    "print(T_result)"
   ]
  },
  {
   "cell_type": "code",
   "execution_count": 12,
   "id": "5bd74d08",
   "metadata": {
    "deletable": false,
    "execution": {
     "iopub.execute_input": "2023-09-28T07:42:06.834359Z",
     "iopub.status.busy": "2023-09-28T07:42:06.833979Z",
     "iopub.status.idle": "2023-09-28T07:42:06.838133Z",
     "shell.execute_reply": "2023-09-28T07:42:06.837244Z"
    },
    "lx_assignment_number": "1",
    "lx_assignment_type": "ASSIGNMENT",
    "lx_assignment_type2print": "Assignment",
    "lx_problem_cell_type": "PROBLEM",
    "lx_problem_number": "4",
    "lx_problem_points": "8"
   },
   "outputs": [],
   "source": [
    "# Part 1: \n",
    "# replace XXX to represent P(N < 5) for T = [0,1,2,...,10], i.e. your answer should be a list\n",
    "# of length 11.\n",
    "problem11_probabilities = T_result"
   ]
  },
  {
   "cell_type": "code",
   "execution_count": 13,
   "id": "6a990fa1",
   "metadata": {
    "deletable": false,
    "execution": {
     "iopub.execute_input": "2023-09-28T07:42:06.842504Z",
     "iopub.status.busy": "2023-09-28T07:42:06.842008Z",
     "iopub.status.idle": "2023-09-28T07:42:07.516471Z",
     "shell.execute_reply": "2023-09-28T07:42:07.515555Z"
    },
    "lx_assignment_number": "1",
    "lx_assignment_type": "ASSIGNMENT",
    "lx_assignment_type2print": "Assignment",
    "lx_problem_cell_type": "PROBLEM",
    "lx_problem_number": "4",
    "lx_problem_points": "8"
   },
   "outputs": [
    {
     "ename": "NameError",
     "evalue": "name 'smallest_T' is not defined",
     "output_type": "error",
     "traceback": [
      "\u001b[0;31m---------------------------------------------------------------------------\u001b[0m",
      "\u001b[0;31mNameError\u001b[0m                                 Traceback (most recent call last)",
      "Input \u001b[0;32mIn [13]\u001b[0m, in \u001b[0;36m<cell line: 2>\u001b[0;34m()\u001b[0m\n\u001b[1;32m      1\u001b[0m \u001b[38;5;66;03m# Part 2: Give an integer between 0 and 10 which is the answer to 2.\u001b[39;00m\n\u001b[0;32m----> 2\u001b[0m problem12_T \u001b[38;5;241m=\u001b[39m \u001b[43msmallest_T\u001b[49m\n",
      "\u001b[0;31mNameError\u001b[0m: name 'smallest_T' is not defined"
     ]
    }
   ],
   "source": [
    "# Part 2: Give an integer between 0 and 10 which is the answer to 2.\n",
    "problem12_T = smallest_T"
   ]
  },
  {
   "cell_type": "code",
   "execution_count": 14,
   "id": "2da3cd05",
   "metadata": {
    "deletable": false,
    "execution": {
     "iopub.execute_input": "2023-09-28T07:42:07.520246Z",
     "iopub.status.busy": "2023-09-28T07:42:07.519838Z",
     "iopub.status.idle": "2023-09-28T07:42:07.533746Z",
     "shell.execute_reply": "2023-09-28T07:42:07.532834Z"
    },
    "lx_assignment_number": "1",
    "lx_assignment_type": "ASSIGNMENT",
    "lx_assignment_type2print": "Assignment",
    "lx_problem_cell_type": "TEST",
    "lx_problem_number": "4",
    "lx_problem_points": "8",
    "lx_test_only": "True"
   },
   "outputs": [
    {
     "name": "stdout",
     "output_type": "stream",
     "text": [
      "Beginning tests for PROBLEM 4\n",
      "\n",
      "Your answers for problem11_probabilities differed on 0 number of positions by more than 10^(-3)\n",
      "name 'problem12_T' is not defined\n",
      "name 'problem12_T' is not defined\n",
      "\n",
      "The number of points you have scored for this problem is 6 out of 8\n",
      "The number of points you have accumulated thus far is   14 out of 16\n"
     ]
    }
   ],
   "source": []
  },
  {
   "cell_type": "markdown",
   "id": "ef2cfe1f",
   "metadata": {
    "deletable": false,
    "lx_assignment_number": "1",
    "lx_assignment_type": "ASSIGNMENT",
    "lx_assignment_type2print": "Assignment",
    "lx_problem_cell_type": "PROBLEM",
    "lx_problem_number": "5",
    "lx_problem_points": "8"
   },
   "source": [
    "---\n",
    "## Assignment 1, PROBLEM 5\n",
    "Maximum Points = 8"
   ]
  },
  {
   "cell_type": "markdown",
   "id": "c88f47b7",
   "metadata": {
    "deletable": false,
    "lx_assignment_number": "1",
    "lx_assignment_type": "ASSIGNMENT",
    "lx_assignment_type2print": "Assignment",
    "lx_problem_cell_type": "PROBLEM",
    "lx_problem_number": "5",
    "lx_problem_points": "8"
   },
   "source": [
    "###### ## Concentration of measure (Sample exam problem)\n",
    "\n",
    "As you recall, we said that concentration of measure was simply the phenomenon where we expect that the probability of a large deviation of some quantity becoming smaller as we observe more samples: [0.4 points per correct answer]\n",
    "\n",
    "1. Which of the following will exponentially concentrate, i.e. for some $C_1,C_2,C_3,C_4 $ \n",
    "$$\n",
    "    P(Z - \\mathbb{E}[Z] \\geq \\epsilon) \\leq C_1 e^{-C_2 n \\epsilon^2} \\wedge C_3 e^{-C_4 n (\\epsilon+1)} \\enspace .\n",
    "$$\n",
    "\n",
    "    1. The empirical variance of i.i.d. random variables with finite mean?\n",
    "    2. The empirical variance of i.i.d. sub-Gaussian random variables?\n",
    "    3. The empirical variance of i.i.d. sub-Exponential random variables?\n",
    "    4. The empirical mean of i.i.d. sub-Gaussian random variables?\n",
    "    5. The empirical mean of i.i.d. sub-Exponential random variables?\n",
    "    6. The empirical mean of i.i.d. random variables with finite variance?\n",
    "    7. The empirical third moment of i.i.d. random variables with finite sixth moment?\n",
    "    8. The empirical fourth moment of i.i.d. sub-Gaussian random variables?\n",
    "    9. The empirical mean of i.i.d. deterministic random variables?\n",
    "    10. The empirical tenth moment of i.i.d. Bernoulli random variables?\n",
    "\n",
    "2. Which of the above will concentrate in the weaker sense, that for some $C_1$\n",
    "$$\n",
    "    P(Z - \\mathbb{E}[Z] \\geq \\epsilon) \\leq \\frac{C_1}{n \\epsilon^2}?\n",
    "$$"
   ]
  },
  {
   "cell_type": "code",
   "execution_count": 15,
   "id": "27e287a4",
   "metadata": {
    "deletable": false,
    "execution": {
     "iopub.execute_input": "2023-09-28T07:42:07.538903Z",
     "iopub.status.busy": "2023-09-28T07:42:07.538532Z",
     "iopub.status.idle": "2023-09-28T07:42:07.544846Z",
     "shell.execute_reply": "2023-09-28T07:42:07.543958Z"
    },
    "lx_assignment_number": "1",
    "lx_assignment_type": "ASSIGNMENT",
    "lx_assignment_type2print": "Assignment",
    "lx_problem_cell_type": "PROBLEM",
    "lx_problem_number": "5",
    "lx_problem_points": "8"
   },
   "outputs": [],
   "source": [
    "\n",
    "# Answers to part 1, which of the alternatives exponentially concentrate, answer as a list\n",
    "# i.e. [1,4,5] that is example 1, 4, and 5 concentrate\n",
    "problem3_answer_1 = [2,3,4,5,6,8,9,10]"
   ]
  },
  {
   "cell_type": "code",
   "execution_count": 16,
   "id": "747be6d0",
   "metadata": {
    "deletable": false,
    "execution": {
     "iopub.execute_input": "2023-09-28T07:42:07.549302Z",
     "iopub.status.busy": "2023-09-28T07:42:07.548894Z",
     "iopub.status.idle": "2023-09-28T07:42:07.553261Z",
     "shell.execute_reply": "2023-09-28T07:42:07.552499Z"
    },
    "lx_assignment_number": "1",
    "lx_assignment_type": "ASSIGNMENT",
    "lx_assignment_type2print": "Assignment",
    "lx_problem_cell_type": "PROBLEM",
    "lx_problem_number": "5",
    "lx_problem_points": "8"
   },
   "outputs": [],
   "source": [
    "\n",
    "# Answers to part 2, which of the alternatives concentrate in the weaker sense, answer as a list\n",
    "# i.e. [1,4,5] that is example 1, 4, and 5 concentrate\n",
    "problem3_answer_2 = [2,3,4,5,6,7,8,9,10]"
   ]
  },
  {
   "cell_type": "code",
   "execution_count": 17,
   "id": "e324a007",
   "metadata": {
    "deletable": false,
    "execution": {
     "iopub.execute_input": "2023-09-28T07:42:07.557526Z",
     "iopub.status.busy": "2023-09-28T07:42:07.557122Z",
     "iopub.status.idle": "2023-09-28T07:42:07.573158Z",
     "shell.execute_reply": "2023-09-28T07:42:07.572447Z"
    },
    "lx_assignment_number": "1",
    "lx_assignment_type": "ASSIGNMENT",
    "lx_assignment_type2print": "Assignment",
    "lx_problem_cell_type": "TEST",
    "lx_problem_number": "5",
    "lx_problem_points": "8",
    "lx_test_only": "True"
   },
   "outputs": [
    {
     "name": "stdout",
     "output_type": "stream",
     "text": [
      "Beginning tests for PROBLEM 5\n",
      "\n",
      "Correct answers for part1: 7\n",
      "Correct answers for part2: 10\n",
      "\n",
      "The number of points you have scored for this problem is 7 out of 8\n",
      " \n",
      " \n",
      " \n",
      "The number of points you have scored in total for this entire set of Problems is 21 out of 24\n"
     ]
    }
   ],
   "source": []
  }
 ],
 "metadata": {
  "kernelspec": {
   "display_name": "Python 3 (ipykernel)",
   "language": "python",
   "name": "python3"
  },
  "language_info": {
   "codemirror_mode": {
    "name": "ipython",
    "version": 3
   },
   "file_extension": ".py",
   "mimetype": "text/x-python",
   "name": "python",
   "nbconvert_exporter": "python",
   "pygments_lexer": "ipython3",
   "version": "3.11.4"
  },
  "lx_assignment_number": 1,
  "lx_course_instance": "2023",
  "lx_course_name": "Introduction to Data Science",
  "lx_course_number": "1MS041"
 },
 "nbformat": 4,
 "nbformat_minor": 5
}

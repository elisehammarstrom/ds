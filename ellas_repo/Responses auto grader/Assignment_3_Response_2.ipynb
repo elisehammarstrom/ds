{
 "cells": [
  {
   "cell_type": "markdown",
   "id": "7ce84160",
   "metadata": {
    "deletable": false
   },
   "source": [
    "# Assignment 3 for Course 1MS041\n",
    "Make         sure you pass the `# ... Test` cells and\n",
    " submit your solution notebook in the corresponding assignment on the course website. You can submit multiple times before the deadline         and your highest score will be used."
   ]
  },
  {
   "cell_type": "markdown",
   "id": "a7a95193",
   "metadata": {
    "deletable": false,
    "lx_assignment_number": "3",
    "lx_assignment_type": "ASSIGNMENT",
    "lx_assignment_type2print": "Assignment",
    "lx_problem_cell_type": "PROBLEM",
    "lx_problem_number": "1",
    "lx_problem_points": "8"
   },
   "source": [
    "---\n",
    "## Assignment 3, PROBLEM 1\n",
    "Maximum Points = 8"
   ]
  },
  {
   "cell_type": "markdown",
   "id": "163ca74a",
   "metadata": {
    "deletable": false,
    "lx_assignment_number": "3",
    "lx_assignment_type": "ASSIGNMENT",
    "lx_assignment_type2print": "Assignment",
    "lx_problem_cell_type": "PROBLEM",
    "lx_problem_number": "1",
    "lx_problem_points": "8"
   },
   "source": [
    "\n",
    "Consider the data `X` and `y`, in the cell below. `X` denotes $20$ points in $\\mathbb{R}^2$ and `y` corresponds to the labels for these points, i.e. it is a classification problem.\n",
    "\n",
    "1. [3p] Implement the function `perceptron` by filling in `XXX`.\n",
    "2. [2p] Use your implemented `perceptron` function to compute a vector (numpy array) $\\hat w$ with shape `(3,1)` such that \n",
    "$$\n",
    "    (\\hat w \\cdot \\hat x_i) l_i > 0, \\quad \\forall i=1,\\ldots,20\n",
    "$$\n",
    "put your answer in `hat_w` below (the last dimension is the bias dimension, i.e. the added dimension we used to derive the perceptron)\n",
    "\n",
    "3. [3p] Use the vector $\\hat w$ that you just found and compute $r = \\max_i |x_i|$ (put your result in `r`), finally use this to give an upper bound to the number of iterations needed for the perceptron algorithm to converge on this dataset, see chapter 8 in the ITDS notes. Put the result in `iteration_bound`."
   ]
  },
  {
   "cell_type": "code",
   "execution_count": 1,
   "id": "17e845aa",
   "metadata": {
    "deletable": false,
    "execution": {
     "iopub.execute_input": "2023-11-22T08:50:21.777639Z",
     "iopub.status.busy": "2023-11-22T08:50:21.776355Z",
     "iopub.status.idle": "2023-11-22T08:50:21.937267Z",
     "shell.execute_reply": "2023-11-22T08:50:21.936532Z"
    },
    "lx_assignment_number": "3",
    "lx_assignment_type": "ASSIGNMENT",
    "lx_assignment_type2print": "Assignment",
    "lx_problem_cell_type": "PROBLEM",
    "lx_problem_number": "1",
    "lx_problem_points": "8"
   },
   "outputs": [],
   "source": [
    "\n",
    "import numpy as np\n",
    "X = np.array([[0.14774693918368506,0.8537253157278155],[-0.1755517430286779,0.8979710703337818],[0.5227216475286975,0.7448281947022451],[-0.5071170511153492,0.8002027400836075],[-0.39436968212400453,1.0177689414422981],[-0.3983065780966649,1.0443663197782966],[-0.08652771617599643,0.48036820824519255],[0.15352541170101042,0.6820807981911706],[-0.3303348532791869,1.120673883903539],[-0.2656220857139274,0.8526638282828739],[0.7259603693529442,0.25428467532034965],[0.4577253912481767,-0.2358809079980879],[0.9722462145222105,0.13128550836973255],[0.4089349951770505,-0.09503914544452634],[0.9718156747909192,0.3524307824261209],[1.2009353774940565,-0.25004126389987974],[1.271791635779178,-0.07571928320750206],[0.36784476124502913,-0.23743021661715671],[0.8918396050420891,-0.1029336332277948],[0.4501578013678095,-0.13188266835015783]])+np.array([10,0]).reshape(1,-1)\n",
    "y = np.array([1.0,1.0,1.0,1.0,1.0,1.0,1.0,1.0,1.0,1.0,-1.0,-1.0,-1.0,-1.0,-1.0,-1.0,-1.0,-1.0,-1.0,-1.0])"
   ]
  },
  {
   "cell_type": "code",
   "execution_count": 2,
   "id": "5cf6d79e",
   "metadata": {
    "deletable": false,
    "execution": {
     "iopub.execute_input": "2023-11-22T08:50:21.941829Z",
     "iopub.status.busy": "2023-11-22T08:50:21.941440Z",
     "iopub.status.idle": "2023-11-22T08:50:21.948917Z",
     "shell.execute_reply": "2023-11-22T08:50:21.948091Z"
    },
    "lx_assignment_number": "3",
    "lx_assignment_type": "ASSIGNMENT",
    "lx_assignment_type2print": "Assignment",
    "lx_problem_cell_type": "PROBLEM",
    "lx_problem_number": "1",
    "lx_problem_points": "8"
   },
   "outputs": [],
   "source": [
    "# Part 1\n",
    "def perceptron(X_in,labels,max_iter=1000):\n",
    "    '''Runs the perceptron algorithm on X_in, labels, and does a maximum of max_iter iterations'''\n",
    "    # Dont forget the addition of the extra dimension to encode the\n",
    "    # bias in the perceptron, i.e. adding the extra dimension with value 1\n",
    "    n_samples, n_features = X_in.shape\n",
    "    X_bias = np.c_[X, np.ones(n_samples)]\n",
    "    w = np.zeros(n_features + 1)\n",
    "    converged = False\n",
    "    it = 0\n",
    "\n",
    "    while not converged and it < max_iter:\n",
    "        converged = True\n",
    "        for i in range(n_samples):\n",
    "            if np.dot(X_bias[i], w) * labels[i] <= 0:\n",
    "                w = w + labels[i] * X_bias[i]\n",
    "                converged = False\n",
    "        it = it + 1\n",
    "    \n",
    "    \n",
    "    return w.reshape(-1, 1) #Make sure that w has the shape described in the problem"
   ]
  },
  {
   "cell_type": "code",
   "execution_count": 3,
   "id": "b9d15bf2",
   "metadata": {
    "deletable": false,
    "execution": {
     "iopub.execute_input": "2023-11-22T08:50:21.953286Z",
     "iopub.status.busy": "2023-11-22T08:50:21.952894Z",
     "iopub.status.idle": "2023-11-22T08:50:21.962058Z",
     "shell.execute_reply": "2023-11-22T08:50:21.961363Z"
    },
    "lx_assignment_number": "3",
    "lx_assignment_type": "ASSIGNMENT",
    "lx_assignment_type2print": "Assignment",
    "lx_problem_cell_type": "PROBLEM",
    "lx_problem_number": "1",
    "lx_problem_points": "8"
   },
   "outputs": [],
   "source": [
    "# Part 1\n",
    "hat_w = perceptron(X,y)"
   ]
  },
  {
   "cell_type": "code",
   "execution_count": 4,
   "id": "ad030194",
   "metadata": {
    "deletable": false,
    "execution": {
     "iopub.execute_input": "2023-11-22T08:50:21.966255Z",
     "iopub.status.busy": "2023-11-22T08:50:21.965872Z",
     "iopub.status.idle": "2023-11-22T08:50:21.972699Z",
     "shell.execute_reply": "2023-11-22T08:50:21.971778Z"
    },
    "lx_assignment_number": "3",
    "lx_assignment_type": "ASSIGNMENT",
    "lx_assignment_type2print": "Assignment",
    "lx_problem_cell_type": "PROBLEM",
    "lx_problem_number": "1",
    "lx_problem_points": "8"
   },
   "outputs": [
    {
     "name": "stdout",
     "output_type": "stream",
     "text": [
      "150225.6528467784\n"
     ]
    }
   ],
   "source": [
    "# Part 2\n",
    "X_new = np.c_[X, np.ones(X.shape[0])]\n",
    "absolut = []\n",
    "for i in X_new:\n",
    "    absolut.append(np.sqrt(i[0]**2+i[1]**2+i[2]**2))\n",
    "r= max(absolut)\n",
    "\n",
    "w_norm = np.linalg.norm(hat_w)\n",
    "iteration_bound = (r**2 * w_norm**2)\n",
    "print(iteration_bound)"
   ]
  },
  {
   "cell_type": "code",
   "execution_count": 5,
   "id": "b2c68c17",
   "metadata": {
    "deletable": false,
    "execution": {
     "iopub.execute_input": "2023-11-22T08:50:21.978964Z",
     "iopub.status.busy": "2023-11-22T08:50:21.978501Z",
     "iopub.status.idle": "2023-11-22T08:50:22.043044Z",
     "shell.execute_reply": "2023-11-22T08:50:22.042172Z"
    },
    "lx_assignment_number": "3",
    "lx_assignment_type": "ASSIGNMENT",
    "lx_assignment_type2print": "Assignment",
    "lx_problem_cell_type": "TEST",
    "lx_problem_number": "1",
    "lx_problem_points": "8",
    "lx_test_only": "True",
    "scrolled": true
   },
   "outputs": [
    {
     "name": "stdout",
     "output_type": "stream",
     "text": [
      "Beginning tests for problem 1\n",
      "\n",
      "-----Beginning test------\n",
      "Your perceptron produces a vector of the correct shape!\n",
      "-----Ending test---------\n",
      "\n",
      "-----Beginning test------\n",
      "Your perceptron produces a separating vector, as expected!\n",
      "-----Ending test---------\n",
      "\n",
      "-----Beginning test------\n",
      "Your hat_w separates the set as expected!\n",
      "-----Ending test---------\n",
      "\n",
      "-----Beginning test------\n",
      "You computed the correct value of r\n",
      "-----Ending test---------\n",
      "\n",
      "-----Beginning test------\n",
      "\n",
      "Based on your hat_w you did not produce the correct iteration_bound\n",
      "You got 2.0 points deduction \n",
      "-----Ending test---------\n",
      "\n",
      "\n",
      "All tests complete, you got = 6 points\n",
      "The number of points you have scored for this problem is 6 out of 8\n",
      "The number of points you have accumulated thus far is   6 out of 8\n"
     ]
    }
   ],
   "source": []
  },
  {
   "cell_type": "markdown",
   "id": "396cd25b",
   "metadata": {
    "deletable": false,
    "lx_assignment_number": "3",
    "lx_assignment_type": "ASSIGNMENT",
    "lx_assignment_type2print": "Assignment",
    "lx_problem_cell_type": "PROBLEM",
    "lx_problem_number": "2",
    "lx_problem_points": "8"
   },
   "source": [
    "---\n",
    "## Assignment 3, PROBLEM 2\n",
    "Maximum Points = 8"
   ]
  },
  {
   "cell_type": "markdown",
   "id": "885fac39",
   "metadata": {
    "deletable": false,
    "lx_assignment_number": "3",
    "lx_assignment_type": "ASSIGNMENT",
    "lx_assignment_type2print": "Assignment",
    "lx_problem_cell_type": "PROBLEM",
    "lx_problem_number": "2",
    "lx_problem_points": "8"
   },
   "source": [
    "\n",
    "For this problem you will need the [pandas](https://pandas.pydata.org/) package and the [sklearn](https://scikit-learn.org/stable/) package. If you download the updated `data` folder from the course website you will find a file called `indoor_train.csv`, this file includes a bunch of positions in (X,Y,Z) and also a location number. The idea is to assign a room number (Location) to the coordinates (X,Y,Z).\n",
    "\n",
    "1. [2p] Take the data in the file `indoor_train.csv` and load it using pandas into a dataframe `df_train`\n",
    "2. [3p] From this dataframe `df_train`, create two numpy arrays, one `Xtrain` and `Ytrain`, they should have sizes `(1154,3)` and `(1154,)` respectively. Their `dtype` should be `float64` and `int64` respectively.\n",
    "3. [3p] Train a Support Vector Classifier, `sklearn.svc.SVC`, on `Xtrain, Ytrain` with `kernel='linear'` and name the trained model `svc_train`.\n",
    "\n",
    "To mimic how [kaggle](https://www.kaggle.com/) works, the Autograder has access to a hidden test-set and will test your fitted model."
   ]
  },
  {
   "cell_type": "code",
   "execution_count": 6,
   "id": "696fd4a6",
   "metadata": {
    "deletable": false,
    "execution": {
     "iopub.execute_input": "2023-11-22T08:50:22.046770Z",
     "iopub.status.busy": "2023-11-22T08:50:22.046415Z",
     "iopub.status.idle": "2023-11-22T08:50:22.777507Z",
     "shell.execute_reply": "2023-11-22T08:50:22.776820Z"
    },
    "lx_assignment_number": "3",
    "lx_assignment_type": "ASSIGNMENT",
    "lx_assignment_type2print": "Assignment",
    "lx_problem_cell_type": "PROBLEM",
    "lx_problem_number": "2",
    "lx_problem_points": "8"
   },
   "outputs": [],
   "source": [
    "import pandas as pd\n",
    "import sklearn.svm\n",
    "\n",
    "df_train = pd.read_csv(\"data/indoor_train.csv\")\n"
   ]
  },
  {
   "cell_type": "code",
   "execution_count": 7,
   "id": "c187c569",
   "metadata": {
    "deletable": false,
    "execution": {
     "iopub.execute_input": "2023-11-22T08:50:22.781634Z",
     "iopub.status.busy": "2023-11-22T08:50:22.781014Z",
     "iopub.status.idle": "2023-11-22T08:50:22.786994Z",
     "shell.execute_reply": "2023-11-22T08:50:22.786162Z"
    },
    "lx_assignment_number": "3",
    "lx_assignment_type": "ASSIGNMENT",
    "lx_assignment_type2print": "Assignment",
    "lx_problem_cell_type": "PROBLEM",
    "lx_problem_number": "2",
    "lx_problem_points": "8"
   },
   "outputs": [
    {
     "name": "stdout",
     "output_type": "stream",
     "text": [
      "(1154, 3)\n",
      "(1154,)\n"
     ]
    }
   ],
   "source": [
    "\n",
    "Xtrain = df_train.iloc[:,:-1]\n",
    "Ytrain = df_train.iloc[:,-1]\n",
    "\n",
    "print(Xtrain.shape)\n",
    "print(Ytrain.shape)"
   ]
  },
  {
   "cell_type": "code",
   "execution_count": 8,
   "id": "defdf088",
   "metadata": {
    "deletable": false,
    "execution": {
     "iopub.execute_input": "2023-11-22T08:50:22.791369Z",
     "iopub.status.busy": "2023-11-22T08:50:22.790997Z",
     "iopub.status.idle": "2023-11-22T08:50:22.807009Z",
     "shell.execute_reply": "2023-11-22T08:50:22.806150Z"
    },
    "lx_assignment_number": "3",
    "lx_assignment_type": "ASSIGNMENT",
    "lx_assignment_type2print": "Assignment",
    "lx_problem_cell_type": "PROBLEM",
    "lx_problem_number": "2",
    "lx_problem_points": "8"
   },
   "outputs": [],
   "source": [
    "\n",
    "svc_train = sklearn.svm.SVC(kernel='linear').fit(Xtrain,Ytrain)"
   ]
  },
  {
   "cell_type": "code",
   "execution_count": 9,
   "id": "91f6ea7b",
   "metadata": {
    "deletable": false,
    "execution": {
     "iopub.execute_input": "2023-11-22T08:50:22.811693Z",
     "iopub.status.busy": "2023-11-22T08:50:22.811274Z",
     "iopub.status.idle": "2023-11-22T08:50:22.837053Z",
     "shell.execute_reply": "2023-11-22T08:50:22.836163Z"
    },
    "lx_assignment_number": "3",
    "lx_assignment_type": "ASSIGNMENT",
    "lx_assignment_type2print": "Assignment",
    "lx_problem_cell_type": "TEST",
    "lx_problem_number": "2",
    "lx_problem_points": "8",
    "lx_test_only": "True"
   },
   "outputs": [
    {
     "name": "stdout",
     "output_type": "stream",
     "text": [
      "Beginning tests for problem 2\n",
      "\n",
      "-----Beginning test------\n",
      "Your dataframe has the correct length\n",
      "-----Ending test---------\n",
      "\n",
      "-----Beginning test------\n",
      "Your dataframe has the correct number of colums\n",
      "-----Ending test---------\n",
      "\n",
      "-----Beginning test------\n",
      "Your dataframe has the correct type\n",
      "-----Ending test---------\n",
      "\n",
      "-----Beginning test------\n",
      "Your Xtrain has the correct shape\n",
      "-----Ending test---------\n",
      "\n",
      "-----Beginning test------\n",
      "Your Ytrain has the correct shape\n",
      "-----Ending test---------\n",
      "\n",
      "-----Beginning test------\n",
      "\n",
      "Your Xtrain has the wrong type, should be np.ndarray\n",
      "You got 0.5 points deduction \n",
      "-----Ending test---------\n",
      "\n",
      "-----Beginning test------\n",
      "\n",
      "Your Ytrain has the wrong type, should be np.ndarray\n",
      "You got 0.5 points deduction \n",
      "-----Ending test---------\n",
      "\n",
      "-----Beginning test------\n",
      "'DataFrame' object has no attribute 'dtype'\n",
      "Your Xtrain has the wrong dtype, should be float, float64\n",
      "You got 0.5 points deduction \n",
      "-----Ending test---------\n",
      "\n",
      "-----Beginning test------\n",
      "Your Ytrain has the correct dtype\n",
      "-----Ending test---------\n",
      "\n",
      "-----Beginning test------\n",
      "Your svc_train has the correct type\n",
      "-----Ending test---------\n",
      "\n",
      "-----Beginning test------\n",
      "Your svc_train has been fitted\n",
      "-----Ending test---------\n",
      "\n",
      "-----Beginning test------\n",
      "You fitted the svc_train with the correct kernel\n",
      "-----Ending test---------\n",
      "\n",
      "-----Beginning test------\n",
      "You got a score of 1.00\n",
      "Your classifier passed the test, i.e. accuracy is better than 0.9\n",
      "-----Ending test---------\n",
      "\n",
      "\n",
      "All tests complete, you got = 6 points\n",
      "The number of points you have scored for this problem is 6 out of 8\n",
      "The number of points you have accumulated thus far is   12 out of 16\n"
     ]
    },
    {
     "name": "stderr",
     "output_type": "stream",
     "text": [
      "/opt/conda/lib/python3.9/site-packages/sklearn/base.py:450: UserWarning: X does not have valid feature names, but SVC was fitted with feature names\n",
      "  warnings.warn(\n"
     ]
    }
   ],
   "source": []
  },
  {
   "cell_type": "markdown",
   "id": "88d06846",
   "metadata": {
    "deletable": false,
    "lx_assignment_number": "3",
    "lx_assignment_type": "ASSIGNMENT",
    "lx_assignment_type2print": "Assignment",
    "lx_problem_cell_type": "PROBLEM",
    "lx_problem_number": "3",
    "lx_problem_points": "8"
   },
   "source": [
    "---\n",
    "## Assignment 3, PROBLEM 3\n",
    "Maximum Points = 8"
   ]
  },
  {
   "cell_type": "markdown",
   "id": "c5c93cf8",
   "metadata": {
    "deletable": false,
    "lx_assignment_number": "3",
    "lx_assignment_type": "ASSIGNMENT",
    "lx_assignment_type2print": "Assignment",
    "lx_problem_cell_type": "PROBLEM",
    "lx_problem_number": "3",
    "lx_problem_points": "8"
   },
   "source": [
    "\n",
    "## SMS spam filtering [8p]\n",
    "\n",
    "In the following problem we will explore SMS spam texts. The dataset is the `SMS Spam Collection Dataset` and we have provided for you a way to load the data. If you run the appropriate cell below, the result will be in the `spam_no_spam` variable. The result is a `list` of `tuples` with the first position in the tuple being the SMS text and the second being a flag `0 = not spam` and `1 = spam`.\n",
    "\n",
    "1. [3p] Let $X$ be the random variable that represents each SMS text (an entry in the list), and let $Y$ represent whether text is spam or not i.e. $Y \\in \\{0,1\\}$. Thus $\\mathbb{P}(Y = 1)$ is the probability that we get a spam. The goal is to estimate:\n",
    "$$\n",
    "    \\mathbb{P}(Y = 1 | \\text{\"free\" or \"prize\" is in } X) \\enspace .\n",
    "$$ \n",
    "That is, the probability that the SMS is spam given that \"free\" or \"prize\" occurs in the SMS. (This is precision). Hint: it is good to remove the upper/lower case of words so that we can also find \"Free\" and \"Prize\"; this can be done with `text.lower()` if `text` a string.\n",
    "\n",
    "2. [3p] Estimate the probability that the word \"free\" or \"prize\" is in the text given that it is spam. (This is recall) I.e. estimate\n",
    "$$\n",
    "    \\mathbb{P}(\\text{\"free\" or \"prize\" is in } X \\mid Y = 1) \\enspace .\n",
    "$$\n",
    "3. [2p] Provide a \"90\\%\" interval of confidence around the true probability from **part 1**. I.e. use the Hoeffding inequality to obtain for your estimate $\\hat P$. Find $l > 0$ such that the following holds:\n",
    "$$\n",
    "    \\mathbb{P}(\\hat P - l \\leq \\mathbb{E}[\\hat P] \\leq \\hat P + l) \\geq 0.9 \\enspace .\n",
    "$$"
   ]
  },
  {
   "cell_type": "code",
   "execution_count": 1,
   "id": "46727f04",
   "metadata": {
    "deletable": false,
    "execution": {
     "iopub.execute_input": "2023-11-22T08:50:22.841419Z",
     "iopub.status.busy": "2023-11-22T08:50:22.840492Z",
     "iopub.status.idle": "2023-11-22T08:50:22.860671Z",
     "shell.execute_reply": "2023-11-22T08:50:22.859840Z"
    },
    "lx_assignment_number": "3",
    "lx_assignment_type": "ASSIGNMENT",
    "lx_assignment_type2print": "Assignment",
    "lx_problem_cell_type": "PROBLEM",
    "lx_problem_number": "3",
    "lx_problem_points": "8"
   },
   "outputs": [],
   "source": [
    "\n",
    "# Run this cell to get the SMS text data\n",
    "def load_sms():\n",
    "    import csv\n",
    "    lines = []\n",
    "    hamspam = {'ham': 0, 'spam': 1}\n",
    "    with open('data/spam.csv', mode='r',encoding='latin-1') as f:\n",
    "        reader = csv.reader(f)\n",
    "        header = next(reader)\n",
    "        lines = [(line[1],hamspam[line[0]]) for line in reader]\n",
    "        \n",
    "    return lines\n",
    "spam_no_spam = load_sms()"
   ]
  },
  {
   "cell_type": "code",
   "execution_count": 2,
   "id": "ffd2a5fd",
   "metadata": {
    "deletable": false,
    "execution": {
     "iopub.execute_input": "2023-11-22T08:50:22.864403Z",
     "iopub.status.busy": "2023-11-22T08:50:22.864075Z",
     "iopub.status.idle": "2023-11-22T08:50:22.881533Z",
     "shell.execute_reply": "2023-11-22T08:50:22.880826Z"
    },
    "lx_assignment_number": "3",
    "lx_assignment_type": "ASSIGNMENT",
    "lx_assignment_type2print": "Assignment",
    "lx_problem_cell_type": "PROBLEM",
    "lx_problem_number": "3",
    "lx_problem_points": "8"
   },
   "outputs": [
    {
     "name": "stdout",
     "output_type": "stream",
     "text": [
      "0.8110599078341014\n"
     ]
    }
   ],
   "source": [
    "\n",
    "# fill in the estimate for part 1 here (should be a number between 0 and 1)\n",
    "\n",
    "check = lambda x: 1 if any(word in x.lower() for word in [\" free \", \" prize \"]) else 0\n",
    "count_contains_word = 0  \n",
    "count_intersection = 0  # number of sentences with free or prize and y ==1 \n",
    "for row in spam_no_spam:\n",
    "    res = check(row[0])\n",
    "    count_contains_word = count_contains_word + res\n",
    "    if res == 1 and row[1] == 1:\n",
    "        count_intersection = count_intersection + 1\n",
    "\n",
    "problem4_hatP = count_intersection/count_contains_word\n",
    "\n",
    "print(problem4_hatP)"
   ]
  },
  {
   "cell_type": "code",
   "execution_count": 12,
   "id": "6f59d3eb",
   "metadata": {
    "deletable": false,
    "execution": {
     "iopub.execute_input": "2023-11-22T08:50:22.885758Z",
     "iopub.status.busy": "2023-11-22T08:50:22.885433Z",
     "iopub.status.idle": "2023-11-22T08:50:22.902140Z",
     "shell.execute_reply": "2023-11-22T08:50:22.901307Z"
    },
    "lx_assignment_number": "3",
    "lx_assignment_type": "ASSIGNMENT",
    "lx_assignment_type2print": "Assignment",
    "lx_problem_cell_type": "PROBLEM",
    "lx_problem_number": "3",
    "lx_problem_points": "8"
   },
   "outputs": [
    {
     "name": "stdout",
     "output_type": "stream",
     "text": [
      "0.23560910307898258\n"
     ]
    }
   ],
   "source": [
    "\n",
    "# fill in the estimate for part 2 here (should be a number between 0 and 1)\n",
    "\n",
    "count_y_is_1 = 0 \n",
    "count_intersection = 0\n",
    "\n",
    "for row in spam_no_spam:\n",
    "    count_y_is_1 = count_y_is_1 + row[1]\n",
    "    if check(row[0]) == 1 and row[1] == 1:\n",
    "        count_intersection = count_intersection + 1\n",
    "\n",
    "problem4_hatP2 = count_intersection/count_y_is_1\n",
    "\n",
    "print(problem4_hatP2)"
   ]
  },
  {
   "cell_type": "code",
   "execution_count": 13,
   "id": "98212ddb",
   "metadata": {
    "deletable": false,
    "execution": {
     "iopub.execute_input": "2023-11-22T08:50:22.906173Z",
     "iopub.status.busy": "2023-11-22T08:50:22.905844Z",
     "iopub.status.idle": "2023-11-22T08:50:22.918356Z",
     "shell.execute_reply": "2023-11-22T08:50:22.917705Z"
    },
    "lx_assignment_number": "3",
    "lx_assignment_type": "ASSIGNMENT",
    "lx_assignment_type2print": "Assignment",
    "lx_problem_cell_type": "PROBLEM",
    "lx_problem_number": "3",
    "lx_problem_points": "8"
   },
   "outputs": [
    {
     "data": {
      "text/plain": [
       "0.08308194102956196"
      ]
     },
     "execution_count": 13,
     "metadata": {},
     "output_type": "execute_result"
    }
   ],
   "source": [
    "import math\n",
    "# fill in the calculated l from part 3 here\n",
    "problem4_l = math.sqrt((1/(2*count_contains_word))*math.log(2/0.1))\n",
    "problem4_l"
   ]
  },
  {
   "cell_type": "code",
   "execution_count": 14,
   "id": "37697c59",
   "metadata": {
    "deletable": false,
    "execution": {
     "iopub.execute_input": "2023-11-22T08:50:22.922788Z",
     "iopub.status.busy": "2023-11-22T08:50:22.922458Z",
     "iopub.status.idle": "2023-11-22T08:50:22.932701Z",
     "shell.execute_reply": "2023-11-22T08:50:22.931844Z"
    },
    "lx_assignment_number": "3",
    "lx_assignment_type": "ASSIGNMENT",
    "lx_assignment_type2print": "Assignment",
    "lx_problem_cell_type": "TEST",
    "lx_problem_number": "3",
    "lx_problem_points": "8",
    "lx_test_only": "True"
   },
   "outputs": [
    {
     "name": "stdout",
     "output_type": "stream",
     "text": [
      "Beginning tests for problem 3\n",
      "\n",
      "-----Beginning test------\n",
      "Your hatP is close enough\n",
      "-----Ending test---------\n",
      "\n",
      "-----Beginning test------\n",
      "\n",
      "You have the wrong value for hatP2\n",
      "You got 3.0 points deduction \n",
      "-----Ending test---------\n",
      "\n",
      "-----Beginning test------\n",
      "Your problem4_l is close enough\n",
      "-----Ending test---------\n",
      "\n",
      "\n",
      "All tests complete, you got = 5 points\n",
      "The number of points you have scored for this problem is 5 out of 8\n",
      " \n",
      " \n",
      " \n",
      "The number of points you have scored in total for this entire set of Problems is 17 out of 24\n"
     ]
    }
   ],
   "source": []
  }
 ],
 "metadata": {
  "kernelspec": {
   "display_name": "Python 3 (ipykernel)",
   "language": "python",
   "name": "python3"
  },
  "language_info": {
   "codemirror_mode": {
    "name": "ipython",
    "version": 3
   },
   "file_extension": ".py",
   "mimetype": "text/x-python",
   "name": "python",
   "nbconvert_exporter": "python",
   "pygments_lexer": "ipython3",
   "version": "3.11.5"
  },
  "lx_assignment_number": 3,
  "lx_course_instance": "2023",
  "lx_course_name": "Introduction to Data Science",
  "lx_course_number": "1MS041"
 },
 "nbformat": 4,
 "nbformat_minor": 5
}

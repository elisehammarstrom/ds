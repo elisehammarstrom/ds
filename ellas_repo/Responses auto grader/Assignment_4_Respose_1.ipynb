{
 "cells": [
  {
   "cell_type": "markdown",
   "id": "32ba7f92",
   "metadata": {
    "deletable": false
   },
   "source": [
    "# Assignment 4 for Course 1MS041\n",
    "Make         sure you pass the `# ... Test` cells and\n",
    " submit your solution notebook in the corresponding assignment on the course website. You can submit multiple times before the deadline         and your highest score will be used."
   ]
  },
  {
   "cell_type": "markdown",
   "id": "b5d40acd",
   "metadata": {
    "deletable": false,
    "lx_assignment_number": "4",
    "lx_assignment_type": "ASSIGNMENT",
    "lx_assignment_type2print": "Assignment",
    "lx_problem_cell_type": "PROBLEM",
    "lx_problem_number": "1",
    "lx_problem_points": "24"
   },
   "source": [
    "---\n",
    "## Assignment 4, PROBLEM 1\n",
    "Maximum Points = 24"
   ]
  },
  {
   "cell_type": "markdown",
   "id": "018e5a7d",
   "metadata": {
    "deletable": false,
    "lx_assignment_number": "4",
    "lx_assignment_type": "ASSIGNMENT",
    "lx_assignment_type2print": "Assignment",
    "lx_problem_cell_type": "PROBLEM",
    "lx_problem_number": "1",
    "lx_problem_points": "24"
   },
   "source": [
    "\n",
    "This time the assignment only consists of one problem, but we will do a more comprehensive analysis instead.\n",
    "\n",
    "Consider the dataset `mammography.mat` that you can download from [http://odds.cs.stonybrook.edu/mammography-dataset/](http://odds.cs.stonybrook.edu/mammography-dataset/). Below you can find the code to load this file into `X` and `Y`, you just need to put the file in your `data` folder. During mammography the doctor would be looking for something called `calcification`, which is calcium deposits in the breast tissue and is used as an indicator of cancer. In this dataset the `X` corresponds to some measurements, there are 6 features. The `Y` is a 0-1 label where 1 represents calcification and 0 does not.\n",
    "\n",
    "1. [3p] Split the data into three parts, train/test/validation where train is 60% of the data, test is 15% and validation is 25% of the data. Do not do this randomly, I have prepared a shuffling with a fixed seed, this way I can make sure that we all did the same splits. That is [train,test,validation] is the splitting layout.\n",
    "2. [4p] Train a machine learning model on the training data (you are free to choose it yourself). Hint: you could always try `LogisticRegression`, but for it to work well you would need `StandardScaler` and put everything in a `Pipeline`.\n",
    "3. [3p] Use the classification report from `Utils` and compute the intervals for precision-recall etc on the test set with `union_bound correction` with 95% confidence.\n",
    "4. [3p] You are interested in minimizing the average cost of your classifier, but first we must define it:\n",
    "    * If someone is calcified but classified as not, we say it costs 30 **(this is the worst scenario)** \n",
    "    * If someone is not calcified but classified as calcified, we say it costs 5 **(this probably only costs extra investigation)**\n",
    "    * If someone is calcified but classified as calcified, costs 0 **(We did the right thing, no cost)**\n",
    "    * If someone is not calcified but classified as not, costs 0 **(We did the right thing, no cost)**.\n",
    "\n",
    "complete filling the function `cost` to compute the cost of a prediction model under a certain prediction threshold (recall our precision recall lecture and the `predict_proba` function from trained models). What would be the cost of having a model that always classifies someone as not calcified on the test set?\n",
    "\n",
    "5. [4p] Now, we wish to select the threshold of our classifier that minimizes the cost, we do that by checking say 100 evenly spaced proposal thresholds between 0 and 1, and use our testing data to compute the cost.\n",
    "6. [4p] With your newly computed threshold value, compute the cost of putting this model in production by computing the cost using the validation data. Also provide a confidence interval of the cost using Hoeffdings inequality with a 95% confidence.\n",
    "7. [3p] Let $t$ be the threshold you found and $f$ the model you fitted, if we define the random variable\n",
    "$$\n",
    "    C = 30(1-1_{f(X)\\geq t})Y+5(1-Y)1_{f(X) \\geq t}\n",
    "$$\n",
    "then $C$ denotes the cost of a randomly chosen patient. In the above we are estimating $\\mathbb{E}[C]$ using the empirical mean. However, since the number of calcifications in the population is fairly small and our classifier probably has a fairly high precision for the $0$ class, then $C$ should have fairly small variance. Compute the empirical variance of $C$ on the validation set. What would be the confidence interval if we used Bennett's inequality instead of Hoeffding in point 6 but with the computed empirical variance as our guess for the variance?"
   ]
  },
  {
   "cell_type": "code",
   "execution_count": 1,
   "id": "4b0100d2",
   "metadata": {
    "deletable": false,
    "execution": {
     "iopub.execute_input": "2023-12-13T15:06:25.094426Z",
     "iopub.status.busy": "2023-12-13T15:06:25.092964Z",
     "iopub.status.idle": "2023-12-13T15:06:25.327809Z",
     "shell.execute_reply": "2023-12-13T15:06:25.326918Z"
    },
    "lx_assignment_number": "4",
    "lx_assignment_type": "ASSIGNMENT",
    "lx_assignment_type2print": "Assignment",
    "lx_problem_cell_type": "PROBLEM",
    "lx_problem_number": "1",
    "lx_problem_points": "24"
   },
   "outputs": [],
   "source": [
    "import scipy.io as so\n",
    "import numpy as np\n",
    "data = so.loadmat('data/mammography.mat')\n",
    "\n",
    "np.random.seed(0)\n",
    "shuffle_index = np.arange(0,len(data['X']))\n",
    "np.random.shuffle(shuffle_index)\n",
    "\n",
    "X = data['X'][shuffle_index,:]\n",
    "Y = data['y'][shuffle_index,:].flatten()"
   ]
  },
  {
   "cell_type": "code",
   "execution_count": 2,
   "id": "8dd5bc13",
   "metadata": {
    "deletable": false,
    "execution": {
     "iopub.execute_input": "2023-12-13T15:06:25.331939Z",
     "iopub.status.busy": "2023-12-13T15:06:25.331473Z",
     "iopub.status.idle": "2023-12-13T15:06:25.767205Z",
     "shell.execute_reply": "2023-12-13T15:06:25.766314Z"
    },
    "lx_assignment_number": "4",
    "lx_assignment_type": "ASSIGNMENT",
    "lx_assignment_type2print": "Assignment",
    "lx_problem_cell_type": "PROBLEM",
    "lx_problem_number": "1",
    "lx_problem_points": "24"
   },
   "outputs": [
    {
     "name": "stdout",
     "output_type": "stream",
     "text": [
      "(6709, 6) (1677, 6) (2797, 6) (6709,) (1677,) (2797,)\n"
     ]
    }
   ],
   "source": [
    "\n",
    "# Part 1\n",
    "\n",
    "# Split the X,Y into three parts, make sure that the sizes are\n",
    "# (6709, 6), (1677, 6), (2797, 6), (6709,), (1677,), (2797,)\n",
    "import sklearn.model_selection as skl_ms\n",
    "\n",
    "#X_train_test, X_valid, = skl_ms.train_test_split(X,train_size = 0.75 ,shuffle = False)\n",
    "#Y_train_test, Y_valid, = skl_ms.train_test_split(Y,train_size = 0.75 ,shuffle = False)\n",
    "\n",
    "#print(X_train_test.shape, X_valid.shape, Y_train_test.shape, Y_valid.shape)\n",
    "\n",
    "#X_train, X_test = skl_ms.train_test_split(X_train_test,test_size = 0.2 ,shuffle = False)\n",
    "#Y_train, Y_test = skl_ms.train_test_split(Y_train_test,test_size = 0.2 ,shuffle = False)\n",
    "\n",
    "X_train, X_test, X_valid, Y_train, Y_test, Y_valid = X[:6709],X[6709:6709+1677],X[6709+1677:],Y[:6709],Y[6709:6709+1677],Y[6709+1677:]\n",
    "print(X_train.shape, X_test.shape, X_valid.shape, Y_train.shape, Y_test.shape, Y_valid.shape)\n"
   ]
  },
  {
   "cell_type": "code",
   "execution_count": 3,
   "id": "3176eadf",
   "metadata": {
    "deletable": false,
    "execution": {
     "iopub.execute_input": "2023-12-13T15:06:25.771743Z",
     "iopub.status.busy": "2023-12-13T15:06:25.771276Z",
     "iopub.status.idle": "2023-12-13T15:06:25.859036Z",
     "shell.execute_reply": "2023-12-13T15:06:25.857937Z"
    },
    "lx_assignment_number": "4",
    "lx_assignment_type": "ASSIGNMENT",
    "lx_assignment_type2print": "Assignment",
    "lx_problem_cell_type": "PROBLEM",
    "lx_problem_number": "1",
    "lx_problem_points": "24"
   },
   "outputs": [
    {
     "name": "stdout",
     "output_type": "stream",
     "text": [
      "0.9815146094215862\n"
     ]
    }
   ],
   "source": [
    "\n",
    "# Part 2\n",
    "# Use X_train,Y_train to train a model from sklearn. Make sure it has the predict_proba function\n",
    "# for instance LogisticRegression\n",
    "from sklearn.linear_model import LogisticRegression\n",
    "from sklearn.preprocessing import StandardScaler\n",
    "from sklearn.pipeline import Pipeline\n",
    "model = Pipeline([('scaler', StandardScaler()), ('LogReg', LogisticRegression())])\n",
    "model.fit(X_train, Y_train)\n",
    "print(model.fit(X_train, Y_train).score(X_test, Y_test))\n",
    "Y_pred = model.predict(X_test)\n"
   ]
  },
  {
   "cell_type": "code",
   "execution_count": 4,
   "id": "939b5287",
   "metadata": {
    "deletable": false,
    "execution": {
     "iopub.execute_input": "2023-12-13T15:06:25.864424Z",
     "iopub.status.busy": "2023-12-13T15:06:25.863721Z",
     "iopub.status.idle": "2023-12-13T15:06:25.887929Z",
     "shell.execute_reply": "2023-12-13T15:06:25.886807Z"
    },
    "lx_assignment_number": "4",
    "lx_assignment_type": "ASSIGNMENT",
    "lx_assignment_type2print": "Assignment",
    "lx_problem_cell_type": "PROBLEM",
    "lx_problem_number": "1",
    "lx_problem_points": "24"
   },
   "outputs": [
    {
     "name": "stdout",
     "output_type": "stream",
     "text": [
      "            labels           precision             recall\n",
      "\n",
      "                 0  0.98 : [0.94,1.00] 1.00 : [0.96,1.00]\n",
      "                 1  0.70 : [0.33,1.00] 0.36 : [0.09,0.62]\n",
      "\n",
      "          accuracy                                        0.98 : [0.94,1.00]\n",
      "\n"
     ]
    }
   ],
   "source": [
    "\n",
    "# Part 3\n",
    "\n",
    "# Compute precision and recall on the test set using \n",
    "from Utils import classification_report_interval\n",
    "print(classification_report_interval(Y_test,Y_pred,alpha=0.05))\n",
    "# Each precision and recall should be a tuple, for instance you can write\n",
    "# precision0 = (0.9,0.95)\n",
    "\n",
    "precision0 = (0.94,1.00)\n",
    "recall0 = (0.96,1.00)\n",
    "precision1 = (0.33,1.00)\n",
    "recall1 = (0.09,0.62)\n",
    "\n",
    "#print(type(precision0),type(recall0),type(precision0),type(recall1))\n",
    "\n",
    "# The code below will check that you supply the proper type\n",
    "assert(type(precision0) == tuple)\n",
    "assert(len(precision0) == 2)\n",
    "assert(type(recall0) == tuple)\n",
    "assert(len(recall0) == 2)\n",
    "assert(type(precision1) == tuple)\n",
    "assert(len(precision1) == 2)\n",
    "assert(type(recall1) == tuple)\n",
    "assert(len(recall1) == 2)"
   ]
  },
  {
   "cell_type": "code",
   "execution_count": 5,
   "id": "2a363a90",
   "metadata": {
    "deletable": false,
    "execution": {
     "iopub.execute_input": "2023-12-13T15:06:25.893526Z",
     "iopub.status.busy": "2023-12-13T15:06:25.892357Z",
     "iopub.status.idle": "2023-12-13T15:06:25.906803Z",
     "shell.execute_reply": "2023-12-13T15:06:25.905587Z"
    },
    "lx_assignment_number": "4",
    "lx_assignment_type": "ASSIGNMENT",
    "lx_assignment_type2print": "Assignment",
    "lx_problem_cell_type": "PROBLEM",
    "lx_problem_number": "1",
    "lx_problem_points": "24"
   },
   "outputs": [],
   "source": [
    "\n",
    "# Part 4\n",
    "\"\"\"4. [3p] You are interested in minimizing the average cost of your classifier, but first we must define it:\n",
    "    * If someone is calcified but classified as not, we say it costs 30 **(this is the worst scenario)** \n",
    "    * If someone is not calcified but classified as calcified, we say it costs 5 **(this probably only costs extra investigation)**\n",
    "    * If someone is calcified but classified as calcified, costs 0 **(We did the right thing, no cost)**\n",
    "    * If someone is not calcified but classified as not, costs 0 **(We did the right thing, no cost)**.\n",
    "complete filling the function `cost` to compute the cost of a prediction model under a certain prediction threshold\n",
    "(recall our precision recall lecture and the `predict_proba` function from trained models).\n",
    "\"\"\"\n",
    "def cost(model,threshold,X,Y):\n",
    "    pred_proba = model.predict_proba(X)[:,1]\n",
    "    # true label = Y, predicted label = predictions\n",
    "    predictions = (pred_proba >= threshold)*1\n",
    "    cost_value = 0\n",
    "    for i in range(len(Y)):\n",
    "        if Y[i]==predictions[i]:\n",
    "            cost_value = cost_value + 0\n",
    "        elif Y[i] ==1 and predictions[i]==0:\n",
    "            cost_value = cost_value + 30\n",
    "        elif Y[i]==0 and predictions[i]==1:\n",
    "            cost_value = cost_value +5\n",
    "    cost_per_person = 1/len(Y)*cost_value\n",
    "    # Fill in what is missing to compute the cost and return it\n",
    "    # Note that we are interested in average cost (cost per person)\n",
    "    \n",
    "    return cost_per_person"
   ]
  },
  {
   "cell_type": "code",
   "execution_count": 6,
   "id": "2058fdae",
   "metadata": {
    "deletable": false,
    "execution": {
     "iopub.execute_input": "2023-12-13T15:06:25.912491Z",
     "iopub.status.busy": "2023-12-13T15:06:25.911595Z",
     "iopub.status.idle": "2023-12-13T15:06:25.976494Z",
     "shell.execute_reply": "2023-12-13T15:06:25.975556Z"
    },
    "lx_assignment_number": "4",
    "lx_assignment_type": "ASSIGNMENT",
    "lx_assignment_type2print": "Assignment",
    "lx_problem_cell_type": "PROBLEM",
    "lx_problem_number": "1",
    "lx_problem_points": "24"
   },
   "outputs": [
    {
     "name": "stdout",
     "output_type": "stream",
     "text": [
      "0.6974872574443352\n"
     ]
    }
   ],
   "source": [
    "\n",
    "# Part 4\n",
    "\"\"\"What would be the cost of having a model that always classifies someone as not calcified on the test set?\"\"\"\n",
    "# Fill in the naive cost of the model that would classify all as non-calcified on the test set\n",
    "\n",
    "# true label = Y, predicted label = predictions\n",
    "naive_predictions = [0]*len(Y)\n",
    "cost_value = 0\n",
    "for i in range(len(Y)):\n",
    "    if Y[i]!=naive_predictions[i]:\n",
    "        cost_value = cost_value + 30\n",
    "naive_cost = 1/len(Y)*cost_value\n",
    "print(naive_cost)"
   ]
  },
  {
   "cell_type": "code",
   "execution_count": 7,
   "id": "656365f4",
   "metadata": {
    "deletable": false,
    "execution": {
     "iopub.execute_input": "2023-12-13T15:06:25.980028Z",
     "iopub.status.busy": "2023-12-13T15:06:25.979628Z",
     "iopub.status.idle": "2023-12-13T15:06:27.367639Z",
     "shell.execute_reply": "2023-12-13T15:06:27.366399Z"
    },
    "lx_assignment_number": "4",
    "lx_assignment_type": "ASSIGNMENT",
    "lx_assignment_type2print": "Assignment",
    "lx_problem_cell_type": "PROBLEM",
    "lx_problem_number": "1",
    "lx_problem_points": "24"
   },
   "outputs": [
    {
     "name": "stdout",
     "output_type": "stream",
     "text": [
      "0.11111111111111112\n",
      "0.3518187239117471 0.11111111111111112\n"
     ]
    }
   ],
   "source": [
    "\n",
    "# Part 5\n",
    "\"\"\"Now, we wish to select the threshold of our classifier that minimizes the cost,\n",
    "we do that by checking say 100 evenly spaced proposal thresholds between 0 and 1,\n",
    "and use our testing data to compute the cost.\n",
    "\"\"\"\n",
    "import numpy as np\n",
    "threshold = np.linspace(0,1,100)\n",
    "save_cost = []\n",
    "for i in range(len(threshold)):\n",
    "    save_cost.append(cost(model,threshold[i],X_test,Y_test))\n",
    "\n",
    "optimal_threshold = threshold[np.argmin(save_cost)]\n",
    "cost_at_optimal_threshold = np.min(save_cost)\n",
    "\n",
    "print(optimal_threshold)\n",
    "print(cost_at_optimal_threshold,optimal_threshold)"
   ]
  },
  {
   "cell_type": "code",
   "execution_count": 8,
   "id": "78e69c34",
   "metadata": {
    "deletable": false,
    "execution": {
     "iopub.execute_input": "2023-12-13T15:06:27.376691Z",
     "iopub.status.busy": "2023-12-13T15:06:27.373827Z",
     "iopub.status.idle": "2023-12-13T15:06:27.414408Z",
     "shell.execute_reply": "2023-12-13T15:06:27.413171Z"
    },
    "lx_assignment_number": "4",
    "lx_assignment_type": "ASSIGNMENT",
    "lx_assignment_type2print": "Assignment",
    "lx_problem_cell_type": "PROBLEM",
    "lx_problem_number": "1",
    "lx_problem_points": "24"
   },
   "outputs": [
    {
     "name": "stdout",
     "output_type": "stream",
     "text": [
      "[0.27,0.32]\n"
     ]
    }
   ],
   "source": [
    "\n",
    "# Part 6\n",
    "\"\"\"With your newly computed threshold value, compute the cost of putting this model in production\n",
    "by computing the cost using the validation data. Also provide a confidence interval of the cost\n",
    "using Hoeffdings inequality with a 95% confidence.\n",
    "\"\"\"\n",
    "cost_at_optimal_threshold_validation = cost(model,optimal_threshold,X_valid,Y_valid)\n",
    "\n",
    "# Report the cost interval as a tuple cost_interval = (a,b)\n",
    "from Utils import epsilon_bounded, print_confidence_interval\n",
    "eps1 = epsilon_bounded(len(Y_valid),1,0.05)\n",
    "print_confidence_interval(cost_at_optimal_threshold_validation,eps1)\n",
    "\n",
    "cost_interval = (0.68,0.73)\n",
    "\n",
    "# The code below will tell you if you filled in the intervals correctly\n",
    "assert(type(cost_interval) == tuple)\n",
    "assert(len(cost_interval) == 2)"
   ]
  },
  {
   "cell_type": "code",
   "execution_count": 9,
   "id": "75c6e6b9",
   "metadata": {
    "deletable": false,
    "execution": {
     "iopub.execute_input": "2023-12-13T15:06:27.424039Z",
     "iopub.status.busy": "2023-12-13T15:06:27.421134Z",
     "iopub.status.idle": "2023-12-13T15:06:27.468809Z",
     "shell.execute_reply": "2023-12-13T15:06:27.467586Z"
    },
    "lx_assignment_number": "4",
    "lx_assignment_type": "ASSIGNMENT",
    "lx_assignment_type2print": "Assignment",
    "lx_problem_cell_type": "PROBLEM",
    "lx_problem_number": "1",
    "lx_problem_points": "24"
   },
   "outputs": [
    {
     "name": "stdout",
     "output_type": "stream",
     "text": [
      "6.198613637958718\n"
     ]
    }
   ],
   "source": [
    "\n",
    "# Part 7\n",
    "\"\"\"Let t be the threshold you found and f the model you fitted, if we define the random variable\n",
    "$$\n",
    "    C = 30(1-1_{f(X)\\geq t})Y+5(1-Y)1_{f(X) \\geq t}\n",
    "$$\n",
    "then C denotes the cost of a randomly chosen patient.\n",
    "In the above we are estimating $\\mathbb{E}[C]$ using the empirical mean.\n",
    "However, since the number of calcifications in the population is fairly small and\n",
    "our classifier probably has a fairly high precision for the 0 class, then C should have fairly small variance.\n",
    "Compute the empirical variance of C on the validation set.\n",
    "\"\"\"\n",
    "variance = 0\n",
    "pred_proba = model.predict_proba(X_valid)[:,1]\n",
    "Y_pred = (pred_proba >= optimal_threshold)*1\n",
    "costs = 30*(1-Y_pred)*Y_valid+5*(1-Y_valid)*Y_pred\n",
    "\n",
    "for i in range(len(Y_valid)):\n",
    "    variance = variance + (costs[i]-cost_at_optimal_threshold_validation)**2\n",
    "variance_of_C = 1/len(Y_valid)*variance\n",
    "\n",
    "print(variance_of_C)\n"
   ]
  },
  {
   "cell_type": "code",
   "execution_count": 10,
   "id": "6b7e933c",
   "metadata": {
    "deletable": false,
    "execution": {
     "iopub.execute_input": "2023-12-13T15:06:27.478241Z",
     "iopub.status.busy": "2023-12-13T15:06:27.475340Z",
     "iopub.status.idle": "2023-12-13T15:06:27.493248Z",
     "shell.execute_reply": "2023-12-13T15:06:27.492022Z"
    },
    "lx_assignment_number": "4",
    "lx_assignment_type": "ASSIGNMENT",
    "lx_assignment_type2print": "Assignment",
    "lx_problem_cell_type": "PROBLEM",
    "lx_problem_number": "1",
    "lx_problem_points": "24"
   },
   "outputs": [
    {
     "name": "stdout",
     "output_type": "stream",
     "text": [
      "Numerical error -4.009466370025194e-13\n",
      "[-0.03,0.61]\n"
     ]
    }
   ],
   "source": [
    "\n",
    "# Part 7\n",
    "\"\"\"What would be the confidence interval if we used Bennett's inequality instead of Hoeffding\n",
    "in point 6 but with the computed empirical variance as our guess for the variance?\"\"\"\n",
    "# A 95% confidence interval of the random variable C using Bennett's inequality\n",
    "from Utils import bennett_epsilon\n",
    "eps2 = bennett_epsilon(len(Y_valid),1,variance_of_C,0.05)\n",
    "print_confidence_interval(cost_at_optimal_threshold_validation,eps2)\n",
    "\n",
    "interval_of_C = (-0.03,0.61)\n",
    "\n",
    "assert(type(interval_of_C) == tuple)\n",
    "assert(len(interval_of_C) == 2)"
   ]
  },
  {
   "cell_type": "code",
   "execution_count": 11,
   "id": "928955ed",
   "metadata": {
    "deletable": false,
    "execution": {
     "iopub.execute_input": "2023-12-13T15:06:27.503115Z",
     "iopub.status.busy": "2023-12-13T15:06:27.500496Z",
     "iopub.status.idle": "2023-12-13T15:06:30.075355Z",
     "shell.execute_reply": "2023-12-13T15:06:30.074104Z"
    },
    "lx_assignment_number": "4",
    "lx_assignment_type": "ASSIGNMENT",
    "lx_assignment_type2print": "Assignment",
    "lx_problem_cell_type": "TEST",
    "lx_problem_number": "1",
    "lx_problem_points": "24",
    "lx_test_only": "True",
    "scrolled": false
   },
   "outputs": [
    {
     "name": "stdout",
     "output_type": "stream",
     "text": [
      "Numerical error -2.3245294578089215e-16\n",
      "Numerical error -2.3245294578089215e-16\n",
      "Beginning tests for problem 1\n",
      "\n",
      "---------------------------------\n",
      "Beginning test for part1\n",
      "---------------------------------\n",
      "\n",
      "-----Beginning test------\n",
      "Shape of X_train correct it is (6709,6)\n",
      "-----Ending test---------\n",
      "\n",
      "-----Beginning test------\n",
      "Shape of X_test correct it is (1677,6)\n",
      "-----Ending test---------\n",
      "\n",
      "-----Beginning test------\n",
      "Shape of X_valid correct it is (2797,6)\n",
      "-----Ending test---------\n",
      "\n",
      "-----Beginning test------\n",
      "Shape of Y_train correct it is (6709,)\n",
      "-----Ending test---------\n",
      "\n",
      "-----Beginning test------\n",
      "Shape of Y_test correct it is (1677,)\n",
      "-----Ending test---------\n",
      "\n",
      "-----Beginning test------\n",
      "Shape of Y_valid correct it is (2797,)\n",
      "-----Ending test---------\n",
      "\n",
      "---------------------------------\n",
      "Beginning test for part2\n",
      "---------------------------------\n",
      "\n",
      "-----Beginning test------\n",
      "Your model does produce the correct output shape when predict_proba is called on X_train\n",
      "-----Ending test---------\n",
      "\n",
      "-----Beginning test------\n",
      "Your model outperforms the naive classifier (always 0) on the trainig data, at least we learned something\n",
      "-----Ending test---------\n",
      "\n",
      "---------------------------------\n",
      "Beginning test for part3\n",
      "---------------------------------\n",
      "\n",
      "-----Beginning test------\n",
      "Setup for part 3 ran without issues\n",
      "-----Ending test---------\n",
      "\n",
      "-----Beginning test------\n",
      "precision0 lower edge correct\n",
      "-----Ending test---------\n",
      "\n",
      "-----Beginning test------\n",
      "precision0 upper edge correct\n",
      "-----Ending test---------\n",
      "\n",
      "-----Beginning test------\n",
      "precision1 lower edge correct\n",
      "-----Ending test---------\n",
      "\n",
      "-----Beginning test------\n",
      "precision1 upper edge correct\n",
      "-----Ending test---------\n",
      "\n",
      "-----Beginning test------\n",
      "recall0 lower edge correct\n",
      "-----Ending test---------\n",
      "\n",
      "-----Beginning test------\n",
      "recall0 upper edge correct\n",
      "-----Ending test---------\n",
      "\n",
      "-----Beginning test------\n",
      "recall1 lower edge correct\n",
      "-----Ending test---------\n",
      "\n",
      "-----Beginning test------\n",
      "recall1 upper edge correct\n",
      "-----Ending test---------\n",
      "\n",
      "---------------------------------\n",
      "Beginning test for part4\n",
      "---------------------------------\n",
      "\n",
      "-----Beginning test------\n",
      "Your cost function deviates less that 0.01 from a reference cost function on a test model at threshold 0.5\n",
      "-----Ending test---------\n",
      "\n",
      "-----Beginning test------\n",
      "Your naive cost is within 0.01 of 0.6976744186046512\n",
      "-----Ending test---------\n",
      "\n",
      "---------------------------------\n",
      "Beginning test for part5\n",
      "---------------------------------\n",
      "\n",
      "-----Beginning test------\n",
      "The cost at your optimal threshold is close enough to the minimum cost.\n",
      "-----Ending test---------\n",
      "\n",
      "-----Beginning test------\n",
      "Your cost at the optimal threshold was computed using your optimal threshold and your cost function and it agreed with your answer\n",
      "-----Ending test---------\n",
      "\n",
      "---------------------------------\n",
      "Beginning test for part6\n",
      "---------------------------------\n",
      "\n",
      "-----Beginning test------\n",
      "The cost at the optimal threshold validation agreed with the one computed using your model and cost function\n",
      "-----Ending test---------\n",
      "\n",
      "-----Beginning test------\n",
      "\n",
      "The lower edge of the cost_interval did not agree with one computed on your cost_at_optimal_threshold_validation\n",
      "You got 1.0 points deduction \n",
      "-----Ending test---------\n",
      "\n",
      "-----Beginning test------\n",
      "\n",
      "The upper edge of the cost_interval did not agree with one computed on your cost_at_optimal_threshold_validation\n",
      "You got 1.0 points deduction \n",
      "-----Ending test---------\n",
      "\n",
      "---------------------------------\n",
      "Beginning test for part7\n",
      "---------------------------------\n",
      "\n",
      "-----Beginning test------\n",
      "Your variance of C agreed with the reference within an error of 0.01\n",
      "-----Ending test---------\n",
      "\n",
      "-----Beginning test------\n",
      "\n",
      "The lower edge of the C interval did not agree with reference within an error of 0.01\n",
      "You got 1.0 points deduction \n",
      "-----Ending test---------\n",
      "\n",
      "-----Beginning test------\n",
      "\n",
      "The upper edge of the C interval did not agree with reference within an error of 0.01\n",
      "You got 1.0 points deduction \n",
      "-----Ending test---------\n",
      "\n",
      "\n",
      "All tests complete, you got = 20 points\n",
      "The number of points you have scored for this problem is 20 out of 24\n",
      " \n",
      " \n",
      " \n",
      "The number of points you have scored in total for this entire set of Problems is 20 out of 24\n"
     ]
    }
   ],
   "source": []
  }
 ],
 "metadata": {
  "kernelspec": {
   "display_name": "ds",
   "language": "python",
   "name": "python3"
  },
  "language_info": {
   "codemirror_mode": {
    "name": "ipython",
    "version": 3
   },
   "file_extension": ".py",
   "mimetype": "text/x-python",
   "name": "python",
   "nbconvert_exporter": "python",
   "pygments_lexer": "ipython3",
   "version": "3.11.4"
  },
  "lx_assignment_number": 4,
  "lx_course_instance": "2023",
  "lx_course_name": "Introduction to Data Science",
  "lx_course_number": "1MS041"
 },
 "nbformat": 4,
 "nbformat_minor": 5
}

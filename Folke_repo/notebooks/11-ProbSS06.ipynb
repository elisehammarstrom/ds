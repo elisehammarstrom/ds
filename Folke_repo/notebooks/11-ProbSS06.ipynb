{
 "cells": [
  {
   "cell_type": "markdown",
   "metadata": {
    "deletable": false
   },
   "source": [
    "# [Introduction to Data Science](http://datascience-intro.github.io/1MS041-2023/)    \n",
    "## 1MS041, 2023 \n",
    "&copy;2023 Raazesh Sainudiin, Benny Avelin. [Attribution 4.0 International     (CC BY 4.0)](https://creativecommons.org/licenses/by/4.0/)"
   ]
  },
  {
   "cell_type": "markdown",
   "metadata": {},
   "source": [
    "## Other measurements of performance\n",
    "\n",
    "Recall that in the logistic regression case our function $G(x) \\in [0,1]$ and represents the probability of the label being $1$, we then used the following rule to construct a decision function from this $G$, i.e. \n",
    "$$\n",
    "    g(x) = \n",
    "    \\begin{cases}\n",
    "        1, & \\text{if } G(x) > 1/2 \\\\\n",
    "        0, & \\text{otherwise.}\n",
    "    \\end{cases}\n",
    "$$\n",
    "The parameter $1/2$ can be changed in order to create a trade-off between precision and recall.\n",
    "\n",
    "Lets consider the function\n",
    "$$\n",
    "    g_\\alpha(x) = \n",
    "    \\begin{cases}\n",
    "        1, & \\text{if } G(x) > \\alpha \\\\\n",
    "        0, & \\text{otherwise.}\n",
    "    \\end{cases}\n",
    "$$\n",
    "where $\\alpha \\in [0,1]$, then for each such $\\alpha$ we get a precision and recall, i.e.\n",
    "$$\n",
    "    \\begin{aligned}\n",
    "        \\text{Precision:} \\quad \\text{Pr}(\\alpha) =  P(Y = 1 \\mid g_\\alpha(X) = 1) \\\\\n",
    "        \\text{Recall:} \\quad \\text{Re} (\\alpha) = P(g_\\alpha(X) = 1 \\mid Y = 1).\n",
    "    \\end{aligned}\n",
    "$$\n",
    "\n",
    "These functions can be plotted as functions of $\\alpha$, we can see that below"
   ]
  },
  {
   "cell_type": "code",
   "execution_count": 1,
   "metadata": {},
   "outputs": [
    {
     "data": {
      "text/html": [
       "<style>#sk-container-id-1 {color: black;}#sk-container-id-1 pre{padding: 0;}#sk-container-id-1 div.sk-toggleable {background-color: white;}#sk-container-id-1 label.sk-toggleable__label {cursor: pointer;display: block;width: 100%;margin-bottom: 0;padding: 0.3em;box-sizing: border-box;text-align: center;}#sk-container-id-1 label.sk-toggleable__label-arrow:before {content: \"▸\";float: left;margin-right: 0.25em;color: #696969;}#sk-container-id-1 label.sk-toggleable__label-arrow:hover:before {color: black;}#sk-container-id-1 div.sk-estimator:hover label.sk-toggleable__label-arrow:before {color: black;}#sk-container-id-1 div.sk-toggleable__content {max-height: 0;max-width: 0;overflow: hidden;text-align: left;background-color: #f0f8ff;}#sk-container-id-1 div.sk-toggleable__content pre {margin: 0.2em;color: black;border-radius: 0.25em;background-color: #f0f8ff;}#sk-container-id-1 input.sk-toggleable__control:checked~div.sk-toggleable__content {max-height: 200px;max-width: 100%;overflow: auto;}#sk-container-id-1 input.sk-toggleable__control:checked~label.sk-toggleable__label-arrow:before {content: \"▾\";}#sk-container-id-1 div.sk-estimator input.sk-toggleable__control:checked~label.sk-toggleable__label {background-color: #d4ebff;}#sk-container-id-1 div.sk-label input.sk-toggleable__control:checked~label.sk-toggleable__label {background-color: #d4ebff;}#sk-container-id-1 input.sk-hidden--visually {border: 0;clip: rect(1px 1px 1px 1px);clip: rect(1px, 1px, 1px, 1px);height: 1px;margin: -1px;overflow: hidden;padding: 0;position: absolute;width: 1px;}#sk-container-id-1 div.sk-estimator {font-family: monospace;background-color: #f0f8ff;border: 1px dotted black;border-radius: 0.25em;box-sizing: border-box;margin-bottom: 0.5em;}#sk-container-id-1 div.sk-estimator:hover {background-color: #d4ebff;}#sk-container-id-1 div.sk-parallel-item::after {content: \"\";width: 100%;border-bottom: 1px solid gray;flex-grow: 1;}#sk-container-id-1 div.sk-label:hover label.sk-toggleable__label {background-color: #d4ebff;}#sk-container-id-1 div.sk-serial::before {content: \"\";position: absolute;border-left: 1px solid gray;box-sizing: border-box;top: 0;bottom: 0;left: 50%;z-index: 0;}#sk-container-id-1 div.sk-serial {display: flex;flex-direction: column;align-items: center;background-color: white;padding-right: 0.2em;padding-left: 0.2em;position: relative;}#sk-container-id-1 div.sk-item {position: relative;z-index: 1;}#sk-container-id-1 div.sk-parallel {display: flex;align-items: stretch;justify-content: center;background-color: white;position: relative;}#sk-container-id-1 div.sk-item::before, #sk-container-id-1 div.sk-parallel-item::before {content: \"\";position: absolute;border-left: 1px solid gray;box-sizing: border-box;top: 0;bottom: 0;left: 50%;z-index: -1;}#sk-container-id-1 div.sk-parallel-item {display: flex;flex-direction: column;z-index: 1;position: relative;background-color: white;}#sk-container-id-1 div.sk-parallel-item:first-child::after {align-self: flex-end;width: 50%;}#sk-container-id-1 div.sk-parallel-item:last-child::after {align-self: flex-start;width: 50%;}#sk-container-id-1 div.sk-parallel-item:only-child::after {width: 0;}#sk-container-id-1 div.sk-dashed-wrapped {border: 1px dashed gray;margin: 0 0.4em 0.5em 0.4em;box-sizing: border-box;padding-bottom: 0.4em;background-color: white;}#sk-container-id-1 div.sk-label label {font-family: monospace;font-weight: bold;display: inline-block;line-height: 1.2em;}#sk-container-id-1 div.sk-label-container {text-align: center;}#sk-container-id-1 div.sk-container {/* jupyter's `normalize.less` sets `[hidden] { display: none; }` but bootstrap.min.css set `[hidden] { display: none !important; }` so we also need the `!important` here to be able to override the default hidden behavior on the sphinx rendered scikit-learn.org. See: https://github.com/scikit-learn/scikit-learn/issues/21755 */display: inline-block !important;position: relative;}#sk-container-id-1 div.sk-text-repr-fallback {display: none;}</style><div id=\"sk-container-id-1\" class=\"sk-top-container\"><div class=\"sk-text-repr-fallback\"><pre>SVC(kernel=&#x27;linear&#x27;, probability=True)</pre><b>In a Jupyter environment, please rerun this cell to show the HTML representation or trust the notebook. <br />On GitHub, the HTML representation is unable to render, please try loading this page with nbviewer.org.</b></div><div class=\"sk-container\" hidden><div class=\"sk-item\"><div class=\"sk-estimator sk-toggleable\"><input class=\"sk-toggleable__control sk-hidden--visually\" id=\"sk-estimator-id-1\" type=\"checkbox\" checked><label for=\"sk-estimator-id-1\" class=\"sk-toggleable__label sk-toggleable__label-arrow\">SVC</label><div class=\"sk-toggleable__content\"><pre>SVC(kernel=&#x27;linear&#x27;, probability=True)</pre></div></div></div></div></div>"
      ],
      "text/plain": [
       "SVC(kernel='linear', probability=True)"
      ]
     },
     "execution_count": 1,
     "metadata": {},
     "output_type": "execute_result"
    }
   ],
   "source": [
    "from sklearn.datasets import load_digits\n",
    "import matplotlib.pyplot as plt\n",
    "from sklearn.datasets import load_digits\n",
    "digits = load_digits()\n",
    "\n",
    "from sklearn.svm import SVC\n",
    "\n",
    "labels = digits['target'] >= 5\n",
    "\n",
    "X = digits['data']\n",
    "\n",
    "from sklearn.model_selection import train_test_split\n",
    "X_train, X_test, Y_train, Y_test = train_test_split(X,labels)\n",
    "\n",
    "per = SVC(kernel='linear',probability=True)\n",
    "\n",
    "per.fit(X_train,Y_train)"
   ]
  },
  {
   "cell_type": "code",
   "execution_count": 2,
   "metadata": {},
   "outputs": [
    {
     "data": {
      "text/html": [
       "<style>#sk-container-id-2 {color: black;}#sk-container-id-2 pre{padding: 0;}#sk-container-id-2 div.sk-toggleable {background-color: white;}#sk-container-id-2 label.sk-toggleable__label {cursor: pointer;display: block;width: 100%;margin-bottom: 0;padding: 0.3em;box-sizing: border-box;text-align: center;}#sk-container-id-2 label.sk-toggleable__label-arrow:before {content: \"▸\";float: left;margin-right: 0.25em;color: #696969;}#sk-container-id-2 label.sk-toggleable__label-arrow:hover:before {color: black;}#sk-container-id-2 div.sk-estimator:hover label.sk-toggleable__label-arrow:before {color: black;}#sk-container-id-2 div.sk-toggleable__content {max-height: 0;max-width: 0;overflow: hidden;text-align: left;background-color: #f0f8ff;}#sk-container-id-2 div.sk-toggleable__content pre {margin: 0.2em;color: black;border-radius: 0.25em;background-color: #f0f8ff;}#sk-container-id-2 input.sk-toggleable__control:checked~div.sk-toggleable__content {max-height: 200px;max-width: 100%;overflow: auto;}#sk-container-id-2 input.sk-toggleable__control:checked~label.sk-toggleable__label-arrow:before {content: \"▾\";}#sk-container-id-2 div.sk-estimator input.sk-toggleable__control:checked~label.sk-toggleable__label {background-color: #d4ebff;}#sk-container-id-2 div.sk-label input.sk-toggleable__control:checked~label.sk-toggleable__label {background-color: #d4ebff;}#sk-container-id-2 input.sk-hidden--visually {border: 0;clip: rect(1px 1px 1px 1px);clip: rect(1px, 1px, 1px, 1px);height: 1px;margin: -1px;overflow: hidden;padding: 0;position: absolute;width: 1px;}#sk-container-id-2 div.sk-estimator {font-family: monospace;background-color: #f0f8ff;border: 1px dotted black;border-radius: 0.25em;box-sizing: border-box;margin-bottom: 0.5em;}#sk-container-id-2 div.sk-estimator:hover {background-color: #d4ebff;}#sk-container-id-2 div.sk-parallel-item::after {content: \"\";width: 100%;border-bottom: 1px solid gray;flex-grow: 1;}#sk-container-id-2 div.sk-label:hover label.sk-toggleable__label {background-color: #d4ebff;}#sk-container-id-2 div.sk-serial::before {content: \"\";position: absolute;border-left: 1px solid gray;box-sizing: border-box;top: 0;bottom: 0;left: 50%;z-index: 0;}#sk-container-id-2 div.sk-serial {display: flex;flex-direction: column;align-items: center;background-color: white;padding-right: 0.2em;padding-left: 0.2em;position: relative;}#sk-container-id-2 div.sk-item {position: relative;z-index: 1;}#sk-container-id-2 div.sk-parallel {display: flex;align-items: stretch;justify-content: center;background-color: white;position: relative;}#sk-container-id-2 div.sk-item::before, #sk-container-id-2 div.sk-parallel-item::before {content: \"\";position: absolute;border-left: 1px solid gray;box-sizing: border-box;top: 0;bottom: 0;left: 50%;z-index: -1;}#sk-container-id-2 div.sk-parallel-item {display: flex;flex-direction: column;z-index: 1;position: relative;background-color: white;}#sk-container-id-2 div.sk-parallel-item:first-child::after {align-self: flex-end;width: 50%;}#sk-container-id-2 div.sk-parallel-item:last-child::after {align-self: flex-start;width: 50%;}#sk-container-id-2 div.sk-parallel-item:only-child::after {width: 0;}#sk-container-id-2 div.sk-dashed-wrapped {border: 1px dashed gray;margin: 0 0.4em 0.5em 0.4em;box-sizing: border-box;padding-bottom: 0.4em;background-color: white;}#sk-container-id-2 div.sk-label label {font-family: monospace;font-weight: bold;display: inline-block;line-height: 1.2em;}#sk-container-id-2 div.sk-label-container {text-align: center;}#sk-container-id-2 div.sk-container {/* jupyter's `normalize.less` sets `[hidden] { display: none; }` but bootstrap.min.css set `[hidden] { display: none !important; }` so we also need the `!important` here to be able to override the default hidden behavior on the sphinx rendered scikit-learn.org. See: https://github.com/scikit-learn/scikit-learn/issues/21755 */display: inline-block !important;position: relative;}#sk-container-id-2 div.sk-text-repr-fallback {display: none;}</style><div id=\"sk-container-id-2\" class=\"sk-top-container\"><div class=\"sk-text-repr-fallback\"><pre>SVC(probability=True)</pre><b>In a Jupyter environment, please rerun this cell to show the HTML representation or trust the notebook. <br />On GitHub, the HTML representation is unable to render, please try loading this page with nbviewer.org.</b></div><div class=\"sk-container\" hidden><div class=\"sk-item\"><div class=\"sk-estimator sk-toggleable\"><input class=\"sk-toggleable__control sk-hidden--visually\" id=\"sk-estimator-id-2\" type=\"checkbox\" checked><label for=\"sk-estimator-id-2\" class=\"sk-toggleable__label sk-toggleable__label-arrow\">SVC</label><div class=\"sk-toggleable__content\"><pre>SVC(probability=True)</pre></div></div></div></div></div>"
      ],
      "text/plain": [
       "SVC(probability=True)"
      ]
     },
     "execution_count": 2,
     "metadata": {},
     "output_type": "execute_result"
    }
   ],
   "source": [
    "per_rbf = SVC(kernel='rbf',probability=True)\n",
    "\n",
    "per_rbf.fit(X_train,Y_train)"
   ]
  },
  {
   "cell_type": "code",
   "execution_count": 3,
   "metadata": {},
   "outputs": [],
   "source": [
    "from Utils import classification_report_interval"
   ]
  },
  {
   "cell_type": "code",
   "execution_count": 5,
   "metadata": {},
   "outputs": [
    {
     "name": "stdout",
     "output_type": "stream",
     "text": [
      "            labels           precision             recall\n",
      "\n",
      "             False  0.90 : [0.78,1.00] 0.89 : [0.77,1.00]\n",
      "              True  0.89 : [0.76,1.00] 0.90 : [0.77,1.00]\n",
      "\n",
      "          accuracy                                        0.90 : [0.81,0.98]\n",
      "\n"
     ]
    }
   ],
   "source": [
    "print(classification_report_interval(Y_test,per.predict(X_test)))"
   ]
  },
  {
   "cell_type": "code",
   "execution_count": 6,
   "metadata": {},
   "outputs": [
    {
     "data": {
      "text/plain": [
       "array([[9.90051687e-01, 9.94831301e-03],\n",
       "       [3.01809476e-01, 6.98190524e-01],\n",
       "       [5.76679256e-07, 9.99999423e-01],\n",
       "       [9.82515321e-01, 1.74846788e-02],\n",
       "       [9.30072077e-01, 6.99279230e-02],\n",
       "       [9.83040043e-01, 1.69599573e-02],\n",
       "       [7.49735222e-01, 2.50264778e-01],\n",
       "       [8.94943603e-03, 9.91050564e-01],\n",
       "       [1.36280074e-01, 8.63719926e-01],\n",
       "       [9.59489216e-01, 4.05107838e-02],\n",
       "       [5.00000000e-01, 5.00000000e-01],\n",
       "       [7.77211274e-01, 2.22788726e-01],\n",
       "       [4.76101829e-01, 5.23898171e-01],\n",
       "       [8.02243638e-03, 9.91977564e-01],\n",
       "       [1.65191348e-01, 8.34808652e-01],\n",
       "       [9.99631349e-01, 3.68650998e-04],\n",
       "       [9.64877116e-01, 3.51228835e-02],\n",
       "       [6.61411737e-01, 3.38588263e-01],\n",
       "       [9.96350212e-01, 3.64978753e-03],\n",
       "       [1.24637803e-02, 9.87536220e-01],\n",
       "       [1.91119875e-01, 8.08880125e-01],\n",
       "       [9.94925608e-01, 5.07439173e-03],\n",
       "       [9.71384669e-01, 2.86153314e-02],\n",
       "       [9.95178976e-01, 4.82102400e-03],\n",
       "       [1.07689461e-02, 9.89231054e-01],\n",
       "       [8.80315964e-01, 1.19684036e-01],\n",
       "       [1.56230756e-01, 8.43769244e-01],\n",
       "       [5.21535369e-03, 9.94784646e-01],\n",
       "       [1.09468536e-01, 8.90531464e-01],\n",
       "       [1.36802171e-01, 8.63197829e-01],\n",
       "       [6.96427994e-01, 3.03572006e-01],\n",
       "       [7.46585491e-02, 9.25341451e-01],\n",
       "       [2.50621324e-01, 7.49378676e-01],\n",
       "       [6.13052623e-01, 3.86947377e-01],\n",
       "       [7.41787849e-02, 9.25821215e-01],\n",
       "       [2.39295935e-01, 7.60704065e-01],\n",
       "       [3.05751344e-01, 6.94248656e-01],\n",
       "       [9.37522580e-01, 6.24774202e-02],\n",
       "       [3.50160829e-01, 6.49839171e-01],\n",
       "       [2.12349335e-01, 7.87650665e-01],\n",
       "       [8.41835673e-01, 1.58164327e-01],\n",
       "       [8.75104717e-02, 9.12489528e-01],\n",
       "       [9.92630035e-01, 7.36996491e-03],\n",
       "       [8.17460459e-02, 9.18253954e-01],\n",
       "       [2.37814359e-01, 7.62185641e-01],\n",
       "       [8.31239996e-02, 9.16876000e-01],\n",
       "       [1.01017081e-02, 9.89898292e-01],\n",
       "       [9.32755148e-06, 9.99990672e-01],\n",
       "       [8.26180727e-01, 1.73819273e-01],\n",
       "       [7.23810773e-01, 2.76189227e-01],\n",
       "       [8.24835464e-01, 1.75164536e-01],\n",
       "       [7.35149002e-01, 2.64850998e-01],\n",
       "       [9.23414244e-01, 7.65857562e-02],\n",
       "       [9.84673717e-01, 1.53262827e-02],\n",
       "       [8.45493211e-01, 1.54506789e-01],\n",
       "       [9.98552372e-01, 1.44762837e-03],\n",
       "       [9.94209797e-01, 5.79020272e-03],\n",
       "       [4.71063081e-01, 5.28936919e-01],\n",
       "       [9.99446721e-01, 5.53279424e-04],\n",
       "       [9.73511768e-01, 2.64882321e-02],\n",
       "       [8.07443236e-02, 9.19255676e-01],\n",
       "       [9.58800624e-01, 4.11993764e-02],\n",
       "       [1.00923297e-01, 8.99076703e-01],\n",
       "       [3.64917279e-02, 9.63508272e-01],\n",
       "       [9.33946220e-01, 6.60537801e-02],\n",
       "       [8.85081521e-03, 9.91149185e-01],\n",
       "       [6.21181722e-01, 3.78818278e-01],\n",
       "       [9.72136513e-01, 2.78634866e-02],\n",
       "       [9.51978102e-01, 4.80218980e-02],\n",
       "       [9.83123369e-01, 1.68766315e-02],\n",
       "       [3.58503024e-02, 9.64149698e-01],\n",
       "       [9.92260565e-01, 7.73943474e-03],\n",
       "       [9.11264775e-01, 8.87352247e-02],\n",
       "       [6.32420200e-02, 9.36757980e-01],\n",
       "       [7.81336061e-01, 2.18663939e-01],\n",
       "       [9.16941779e-01, 8.30582207e-02],\n",
       "       [8.21083037e-01, 1.78916963e-01],\n",
       "       [9.73573860e-02, 9.02642614e-01],\n",
       "       [1.24215121e-02, 9.87578488e-01],\n",
       "       [7.89756793e-01, 2.10243207e-01],\n",
       "       [3.50523460e-02, 9.64947654e-01],\n",
       "       [6.09702855e-03, 9.93902971e-01],\n",
       "       [2.51932512e-01, 7.48067488e-01],\n",
       "       [8.08549263e-01, 1.91450737e-01],\n",
       "       [2.21722855e-02, 9.77827715e-01],\n",
       "       [2.36989993e-01, 7.63010007e-01],\n",
       "       [2.52778922e-01, 7.47221078e-01],\n",
       "       [9.11845230e-01, 8.81547700e-02],\n",
       "       [9.96098575e-01, 3.90142477e-03],\n",
       "       [9.87897198e-01, 1.21028018e-02],\n",
       "       [9.27151856e-01, 7.28481443e-02],\n",
       "       [9.23217461e-03, 9.90767825e-01],\n",
       "       [9.34014346e-02, 9.06598565e-01],\n",
       "       [6.49365202e-02, 9.35063480e-01],\n",
       "       [9.56233544e-02, 9.04376646e-01],\n",
       "       [9.87987591e-01, 1.20124093e-02],\n",
       "       [7.47032835e-02, 9.25296717e-01],\n",
       "       [1.23808291e-01, 8.76191709e-01],\n",
       "       [9.74579212e-01, 2.54207877e-02],\n",
       "       [9.81441707e-02, 9.01855829e-01],\n",
       "       [9.55982967e-01, 4.40170332e-02],\n",
       "       [8.50537066e-01, 1.49462934e-01],\n",
       "       [4.84759986e-01, 5.15240014e-01],\n",
       "       [9.69564898e-01, 3.04351020e-02],\n",
       "       [9.17371171e-01, 8.26288286e-02],\n",
       "       [1.94401159e-01, 8.05598841e-01],\n",
       "       [9.88493613e-02, 9.01150639e-01],\n",
       "       [9.91899021e-01, 8.10097923e-03],\n",
       "       [6.88180186e-01, 3.11819814e-01],\n",
       "       [1.04028336e-02, 9.89597166e-01],\n",
       "       [6.99225302e-01, 3.00774698e-01],\n",
       "       [2.28181694e-01, 7.71818306e-01],\n",
       "       [5.98784821e-01, 4.01215179e-01],\n",
       "       [8.56535492e-01, 1.43464508e-01],\n",
       "       [5.45362679e-01, 4.54637321e-01],\n",
       "       [4.31347621e-02, 9.56865238e-01],\n",
       "       [1.10434923e-01, 8.89565077e-01],\n",
       "       [2.12155510e-01, 7.87844490e-01],\n",
       "       [9.80329170e-01, 1.96708301e-02],\n",
       "       [5.02810397e-03, 9.94971896e-01],\n",
       "       [5.03781199e-02, 9.49621880e-01],\n",
       "       [9.94829101e-01, 5.17089889e-03],\n",
       "       [1.11855923e-02, 9.88814408e-01],\n",
       "       [1.76178848e-02, 9.82382115e-01],\n",
       "       [1.24290846e-01, 8.75709154e-01],\n",
       "       [8.73195573e-01, 1.26804427e-01],\n",
       "       [6.80978841e-01, 3.19021159e-01],\n",
       "       [1.47140329e-01, 8.52859671e-01],\n",
       "       [1.60659619e-01, 8.39340381e-01],\n",
       "       [4.26146291e-01, 5.73853709e-01],\n",
       "       [9.14717727e-01, 8.52822733e-02],\n",
       "       [1.63269629e-01, 8.36730371e-01],\n",
       "       [3.50833864e-01, 6.49166136e-01],\n",
       "       [9.42042733e-01, 5.79572668e-02],\n",
       "       [8.40414365e-01, 1.59585635e-01],\n",
       "       [2.97493353e-01, 7.02506647e-01],\n",
       "       [8.74077487e-02, 9.12592251e-01],\n",
       "       [3.37782454e-01, 6.62217546e-01],\n",
       "       [1.52259652e-01, 8.47740348e-01],\n",
       "       [9.97228022e-01, 2.77197836e-03],\n",
       "       [3.36757885e-01, 6.63242115e-01],\n",
       "       [8.48493559e-02, 9.15150644e-01],\n",
       "       [9.92952244e-02, 9.00704776e-01],\n",
       "       [9.55555680e-01, 4.44443201e-02],\n",
       "       [9.47000531e-01, 5.29994688e-02],\n",
       "       [5.95018152e-01, 4.04981848e-01],\n",
       "       [1.89012515e-01, 8.10987485e-01],\n",
       "       [9.53396729e-01, 4.66032713e-02],\n",
       "       [1.51329854e-02, 9.84867015e-01],\n",
       "       [5.45214175e-03, 9.94547858e-01],\n",
       "       [2.12856109e-01, 7.87143891e-01],\n",
       "       [2.73967869e-01, 7.26032131e-01],\n",
       "       [6.46947402e-02, 9.35305260e-01],\n",
       "       [2.40541197e-01, 7.59458803e-01],\n",
       "       [8.97529543e-02, 9.10247046e-01],\n",
       "       [6.78122725e-01, 3.21877275e-01],\n",
       "       [7.45388151e-02, 9.25461185e-01],\n",
       "       [1.33704068e-01, 8.66295932e-01],\n",
       "       [4.33280592e-02, 9.56671941e-01],\n",
       "       [9.37269053e-01, 6.27309473e-02],\n",
       "       [3.12697078e-01, 6.87302922e-01],\n",
       "       [4.10529680e-02, 9.58947032e-01],\n",
       "       [2.26915608e-01, 7.73084392e-01],\n",
       "       [8.56563895e-01, 1.43436105e-01],\n",
       "       [9.95363421e-01, 4.63657906e-03],\n",
       "       [9.65483209e-01, 3.45167908e-02],\n",
       "       [1.25091309e-01, 8.74908691e-01],\n",
       "       [2.18155826e-02, 9.78184417e-01],\n",
       "       [4.08051665e-06, 9.99995919e-01],\n",
       "       [2.74842661e-02, 9.72515734e-01],\n",
       "       [9.59001065e-01, 4.09989349e-02],\n",
       "       [7.11224437e-01, 2.88775563e-01],\n",
       "       [4.36765312e-01, 5.63234688e-01],\n",
       "       [9.65136917e-01, 3.48630826e-02],\n",
       "       [1.66833759e-02, 9.83316624e-01],\n",
       "       [9.69705276e-01, 3.02947236e-02],\n",
       "       [9.82526798e-01, 1.74732025e-02],\n",
       "       [6.90852269e-03, 9.93091477e-01],\n",
       "       [1.97455933e-02, 9.80254407e-01],\n",
       "       [6.58570120e-01, 3.41429880e-01],\n",
       "       [9.94370061e-01, 5.62993926e-03],\n",
       "       [9.96970662e-01, 3.02933819e-03],\n",
       "       [4.31755144e-02, 9.56824486e-01],\n",
       "       [6.49542585e-01, 3.50457415e-01],\n",
       "       [2.47449489e-01, 7.52550511e-01],\n",
       "       [3.22848377e-01, 6.77151623e-01],\n",
       "       [9.76735737e-01, 2.32642635e-02],\n",
       "       [5.71504272e-02, 9.42849573e-01],\n",
       "       [9.90242299e-01, 9.75770132e-03],\n",
       "       [1.06461202e-02, 9.89353880e-01],\n",
       "       [8.85759798e-01, 1.14240202e-01],\n",
       "       [9.57688579e-01, 4.23114212e-02],\n",
       "       [2.83476467e-01, 7.16523533e-01],\n",
       "       [2.08882983e-01, 7.91117017e-01],\n",
       "       [2.49485161e-02, 9.75051484e-01],\n",
       "       [2.51882223e-02, 9.74811778e-01],\n",
       "       [2.16005159e-01, 7.83994841e-01],\n",
       "       [5.87705600e-01, 4.12294400e-01],\n",
       "       [5.68142400e-01, 4.31857600e-01],\n",
       "       [2.49531982e-01, 7.50468018e-01],\n",
       "       [9.82713819e-01, 1.72861812e-02],\n",
       "       [9.90814842e-01, 9.18515820e-03],\n",
       "       [5.55899812e-03, 9.94441002e-01],\n",
       "       [9.28938232e-01, 7.10617678e-02],\n",
       "       [9.76378498e-02, 9.02362150e-01],\n",
       "       [4.06824856e-03, 9.95931751e-01],\n",
       "       [3.42787591e-02, 9.65721241e-01],\n",
       "       [1.01822844e-02, 9.89817716e-01],\n",
       "       [6.69552829e-01, 3.30447171e-01],\n",
       "       [1.92799941e-01, 8.07200059e-01],\n",
       "       [9.94169573e-01, 5.83042670e-03],\n",
       "       [8.24319024e-02, 9.17568098e-01],\n",
       "       [1.31560081e-01, 8.68439919e-01],\n",
       "       [3.43261660e-01, 6.56738340e-01],\n",
       "       [5.03751874e-02, 9.49624813e-01],\n",
       "       [3.40002852e-01, 6.59997148e-01],\n",
       "       [8.61963035e-02, 9.13803697e-01],\n",
       "       [9.59996391e-01, 4.00036095e-02],\n",
       "       [8.01081137e-01, 1.98918863e-01],\n",
       "       [2.10738633e-02, 9.78926137e-01],\n",
       "       [5.46961006e-01, 4.53038994e-01],\n",
       "       [1.96699950e-01, 8.03300050e-01],\n",
       "       [9.11384922e-01, 8.86150782e-02],\n",
       "       [3.23921130e-02, 9.67607887e-01],\n",
       "       [8.88943988e-01, 1.11056012e-01],\n",
       "       [9.15244481e-01, 8.47555192e-02],\n",
       "       [9.81745606e-01, 1.82543943e-02],\n",
       "       [1.90953924e-01, 8.09046076e-01],\n",
       "       [1.42135429e-02, 9.85786457e-01],\n",
       "       [9.07319275e-01, 9.26807249e-02],\n",
       "       [9.87774402e-01, 1.22255978e-02],\n",
       "       [5.94374563e-01, 4.05625437e-01],\n",
       "       [5.79975827e-01, 4.20024173e-01],\n",
       "       [3.88565770e-02, 9.61143423e-01],\n",
       "       [8.40882084e-01, 1.59117916e-01],\n",
       "       [6.52484671e-01, 3.47515329e-01],\n",
       "       [9.75802782e-01, 2.41972180e-02],\n",
       "       [9.86866032e-01, 1.31339683e-02],\n",
       "       [1.39551557e-01, 8.60448443e-01],\n",
       "       [5.90556140e-03, 9.94094439e-01],\n",
       "       [1.16917511e-01, 8.83082489e-01],\n",
       "       [9.98279759e-01, 1.72024106e-03],\n",
       "       [1.46250743e-01, 8.53749257e-01],\n",
       "       [2.49112419e-01, 7.50887581e-01],\n",
       "       [9.98744620e-01, 1.25538028e-03],\n",
       "       [9.80186315e-01, 1.98136845e-02],\n",
       "       [9.12534995e-01, 8.74650048e-02],\n",
       "       [7.44235432e-03, 9.92557646e-01],\n",
       "       [9.59709417e-01, 4.02905833e-02],\n",
       "       [9.88967543e-01, 1.10324573e-02],\n",
       "       [9.68030995e-01, 3.19690052e-02],\n",
       "       [3.12651324e-01, 6.87348676e-01],\n",
       "       [5.76762446e-02, 9.42323755e-01],\n",
       "       [5.34488905e-01, 4.65511095e-01],\n",
       "       [3.63923997e-01, 6.36076003e-01],\n",
       "       [8.62541567e-01, 1.37458433e-01],\n",
       "       [9.99816130e-01, 1.83870324e-04],\n",
       "       [8.01878653e-01, 1.98121347e-01],\n",
       "       [9.99686270e-01, 3.13729928e-04],\n",
       "       [9.32178872e-01, 6.78211277e-02],\n",
       "       [1.90245607e-01, 8.09754393e-01],\n",
       "       [9.28870472e-01, 7.11295278e-02],\n",
       "       [9.56833009e-01, 4.31669911e-02],\n",
       "       [3.82641496e-03, 9.96173585e-01],\n",
       "       [9.98556878e-01, 1.44312236e-03],\n",
       "       [8.45946861e-01, 1.54053139e-01],\n",
       "       [9.18676065e-01, 8.13239349e-02],\n",
       "       [1.04583940e-05, 9.99989542e-01],\n",
       "       [1.18906683e-01, 8.81093317e-01],\n",
       "       [6.12137309e-01, 3.87862691e-01],\n",
       "       [8.36889480e-02, 9.16311052e-01],\n",
       "       [9.39058431e-01, 6.09415692e-02],\n",
       "       [5.00000000e-01, 5.00000000e-01],\n",
       "       [9.04702809e-01, 9.52971912e-02],\n",
       "       [9.23158960e-01, 7.68410403e-02],\n",
       "       [8.15950947e-01, 1.84049053e-01],\n",
       "       [7.99494974e-01, 2.00505026e-01],\n",
       "       [9.55023810e-01, 4.49761902e-02],\n",
       "       [1.86007054e-02, 9.81399295e-01],\n",
       "       [4.06919750e-01, 5.93080250e-01],\n",
       "       [4.42112508e-02, 9.55788749e-01],\n",
       "       [9.91269725e-01, 8.73027494e-03],\n",
       "       [9.49063738e-01, 5.09362617e-02],\n",
       "       [4.69549563e-07, 9.99999530e-01],\n",
       "       [1.07024597e-05, 9.99989298e-01],\n",
       "       [9.26206887e-03, 9.90737931e-01],\n",
       "       [5.88351644e-01, 4.11648356e-01],\n",
       "       [6.78736091e-01, 3.21263909e-01],\n",
       "       [9.06832079e-01, 9.31679211e-02],\n",
       "       [7.56974317e-01, 2.43025683e-01],\n",
       "       [9.38268419e-01, 6.17315806e-02],\n",
       "       [9.89211106e-01, 1.07888943e-02],\n",
       "       [4.31948744e-01, 5.68051256e-01],\n",
       "       [1.29978050e-01, 8.70021950e-01],\n",
       "       [9.88708658e-01, 1.12913422e-02],\n",
       "       [1.03501308e-05, 9.99989650e-01],\n",
       "       [9.84066275e-01, 1.59337251e-02],\n",
       "       [9.98971465e-01, 1.02853514e-03],\n",
       "       [2.18712509e-02, 9.78128749e-01],\n",
       "       [7.02548555e-01, 2.97451445e-01],\n",
       "       [6.95011888e-02, 9.30498811e-01],\n",
       "       [1.90582837e-01, 8.09417163e-01],\n",
       "       [9.18178248e-01, 8.18217518e-02],\n",
       "       [8.88178350e-01, 1.11821650e-01],\n",
       "       [9.63363544e-01, 3.66364556e-02],\n",
       "       [9.39340336e-01, 6.06596644e-02],\n",
       "       [6.82822868e-02, 9.31717713e-01],\n",
       "       [5.29725172e-01, 4.70274828e-01],\n",
       "       [2.94695800e-02, 9.70530420e-01],\n",
       "       [2.64590041e-01, 7.35409959e-01],\n",
       "       [6.58343525e-01, 3.41656475e-01],\n",
       "       [2.44228335e-01, 7.55771665e-01],\n",
       "       [9.59200621e-01, 4.07993788e-02],\n",
       "       [3.17326120e-01, 6.82673880e-01],\n",
       "       [9.03683870e-01, 9.63161300e-02],\n",
       "       [3.73935920e-01, 6.26064080e-01],\n",
       "       [4.82972510e-03, 9.95170275e-01],\n",
       "       [1.30939727e-02, 9.86906027e-01],\n",
       "       [8.03344663e-01, 1.96655337e-01],\n",
       "       [7.88010930e-01, 2.11989070e-01],\n",
       "       [8.20359084e-01, 1.79640916e-01],\n",
       "       [4.43352736e-01, 5.56647264e-01],\n",
       "       [9.18451542e-01, 8.15484580e-02],\n",
       "       [7.60942406e-01, 2.39057594e-01],\n",
       "       [7.85928237e-01, 2.14071763e-01],\n",
       "       [4.06688237e-02, 9.59331176e-01],\n",
       "       [2.00049593e-02, 9.79995041e-01],\n",
       "       [7.19124809e-02, 9.28087519e-01],\n",
       "       [7.47968000e-01, 2.52032000e-01],\n",
       "       [9.99659301e-01, 3.40698557e-04],\n",
       "       [7.47785027e-02, 9.25221497e-01],\n",
       "       [8.38786755e-01, 1.61213245e-01],\n",
       "       [9.96062748e-01, 3.93725238e-03],\n",
       "       [9.06627727e-01, 9.33722731e-02],\n",
       "       [8.46739678e-01, 1.53260322e-01],\n",
       "       [9.86617079e-01, 1.33829213e-02],\n",
       "       [4.84635561e-01, 5.15364439e-01],\n",
       "       [1.10342111e-01, 8.89657889e-01],\n",
       "       [8.91397336e-02, 9.10860266e-01],\n",
       "       [7.87426360e-01, 2.12573640e-01],\n",
       "       [6.47507698e-01, 3.52492302e-01],\n",
       "       [8.84676630e-01, 1.15323370e-01],\n",
       "       [8.68531231e-02, 9.13146877e-01],\n",
       "       [5.56419311e-02, 9.44358069e-01],\n",
       "       [6.47529587e-01, 3.52470413e-01],\n",
       "       [9.62188510e-01, 3.78114901e-02],\n",
       "       [1.67003692e-02, 9.83299631e-01],\n",
       "       [3.44809892e-01, 6.55190108e-01],\n",
       "       [9.39538875e-01, 6.04611246e-02],\n",
       "       [3.36081051e-02, 9.66391895e-01],\n",
       "       [2.12075940e-07, 9.99999788e-01],\n",
       "       [8.92328758e-01, 1.07671242e-01],\n",
       "       [1.57620280e-02, 9.84237972e-01],\n",
       "       [1.29213419e-01, 8.70786581e-01],\n",
       "       [9.82834226e-01, 1.71657740e-02],\n",
       "       [7.39591727e-02, 9.26040827e-01],\n",
       "       [3.95208739e-02, 9.60479126e-01],\n",
       "       [7.34194647e-03, 9.92658054e-01],\n",
       "       [1.00846064e-07, 9.99999899e-01],\n",
       "       [1.15426873e-01, 8.84573127e-01],\n",
       "       [9.99629569e-01, 3.70431132e-04],\n",
       "       [3.05910322e-02, 9.69408968e-01],\n",
       "       [8.85918738e-06, 9.99991141e-01],\n",
       "       [5.32859687e-01, 4.67140313e-01],\n",
       "       [1.80603645e-01, 8.19396355e-01],\n",
       "       [1.08040510e-02, 9.89195949e-01],\n",
       "       [5.64509330e-01, 4.35490670e-01],\n",
       "       [8.31320810e-02, 9.16867919e-01],\n",
       "       [6.34144247e-01, 3.65855753e-01],\n",
       "       [9.22718403e-01, 7.72815967e-02],\n",
       "       [9.84984949e-01, 1.50150508e-02],\n",
       "       [5.17985467e-02, 9.48201453e-01],\n",
       "       [8.57876488e-01, 1.42123512e-01],\n",
       "       [9.88792817e-01, 1.12071830e-02],\n",
       "       [9.94098897e-01, 5.90110269e-03],\n",
       "       [3.18640169e-01, 6.81359831e-01],\n",
       "       [9.93204889e-01, 6.79511102e-03],\n",
       "       [4.15440080e-01, 5.84559920e-01],\n",
       "       [1.26821496e-01, 8.73178504e-01],\n",
       "       [9.78342617e-01, 2.16573830e-02],\n",
       "       [6.28491736e-01, 3.71508264e-01],\n",
       "       [8.68993035e-03, 9.91310070e-01],\n",
       "       [9.98259592e-02, 9.00174041e-01],\n",
       "       [9.91918760e-01, 8.08124030e-03],\n",
       "       [7.79950350e-01, 2.20049650e-01],\n",
       "       [8.90712371e-01, 1.09287629e-01],\n",
       "       [7.07343591e-03, 9.92926564e-01],\n",
       "       [6.50982357e-01, 3.49017643e-01],\n",
       "       [2.61965761e-02, 9.73803424e-01],\n",
       "       [9.82198869e-01, 1.78011312e-02],\n",
       "       [1.69426688e-02, 9.83057331e-01],\n",
       "       [8.34066644e-01, 1.65933356e-01],\n",
       "       [9.96192362e-01, 3.80763822e-03],\n",
       "       [9.81218402e-01, 1.87815976e-02],\n",
       "       [9.19432156e-01, 8.05678436e-02],\n",
       "       [1.78987237e-01, 8.21012763e-01],\n",
       "       [9.26336076e-02, 9.07366392e-01],\n",
       "       [1.86503820e-01, 8.13496180e-01],\n",
       "       [1.67424987e-02, 9.83257501e-01],\n",
       "       [4.40238358e-01, 5.59761642e-01],\n",
       "       [7.43727695e-06, 9.99992563e-01],\n",
       "       [9.15908036e-01, 8.40919635e-02],\n",
       "       [6.64632752e-01, 3.35367248e-01],\n",
       "       [6.16520336e-02, 9.38347966e-01],\n",
       "       [3.55213513e-01, 6.44786487e-01],\n",
       "       [9.36881874e-01, 6.31181265e-02],\n",
       "       [1.98613883e-01, 8.01386117e-01],\n",
       "       [5.16553433e-01, 4.83446567e-01],\n",
       "       [7.64029907e-01, 2.35970093e-01],\n",
       "       [5.00000000e-01, 5.00000000e-01],\n",
       "       [2.93212158e-03, 9.97067878e-01],\n",
       "       [8.72815242e-02, 9.12718476e-01],\n",
       "       [4.69835087e-01, 5.30164913e-01],\n",
       "       [4.20553046e-02, 9.57944695e-01],\n",
       "       [9.52227095e-01, 4.77729049e-02],\n",
       "       [9.61294497e-01, 3.87055030e-02],\n",
       "       [9.74581747e-01, 2.54182534e-02],\n",
       "       [8.22668277e-01, 1.77331723e-01],\n",
       "       [9.75849490e-01, 2.41505100e-02],\n",
       "       [9.89582091e-01, 1.04179087e-02],\n",
       "       [8.10578090e-01, 1.89421910e-01],\n",
       "       [1.58046678e-01, 8.41953322e-01],\n",
       "       [9.87289193e-01, 1.27108068e-02],\n",
       "       [5.71519608e-03, 9.94284804e-01],\n",
       "       [9.95079320e-01, 4.92068036e-03],\n",
       "       [9.98198758e-01, 1.80124237e-03],\n",
       "       [9.80729240e-01, 1.92707597e-02],\n",
       "       [3.64197187e-03, 9.96358028e-01],\n",
       "       [9.24809953e-01, 7.51900467e-02],\n",
       "       [7.10078541e-03, 9.92899215e-01],\n",
       "       [4.27325070e-02, 9.57267493e-01],\n",
       "       [3.21508648e-01, 6.78491352e-01],\n",
       "       [7.15471624e-02, 9.28452838e-01],\n",
       "       [1.58858708e-02, 9.84114129e-01],\n",
       "       [8.51203960e-01, 1.48796040e-01],\n",
       "       [4.05670076e-02, 9.59432992e-01],\n",
       "       [8.84529130e-01, 1.15470870e-01],\n",
       "       [2.26509198e-01, 7.73490802e-01],\n",
       "       [7.55801875e-01, 2.44198125e-01],\n",
       "       [9.70611976e-01, 2.93880242e-02],\n",
       "       [1.66418881e-01, 8.33581119e-01],\n",
       "       [6.06757508e-02, 9.39324249e-01],\n",
       "       [7.52463392e-01, 2.47536608e-01],\n",
       "       [9.80585068e-01, 1.94149318e-02],\n",
       "       [5.12966677e-01, 4.87033323e-01],\n",
       "       [1.82067659e-01, 8.17932341e-01],\n",
       "       [9.50572392e-02, 9.04942761e-01],\n",
       "       [1.77619221e-01, 8.22380779e-01],\n",
       "       [2.51981898e-01, 7.48018102e-01],\n",
       "       [1.68355394e-01, 8.31644606e-01]])"
      ]
     },
     "execution_count": 6,
     "metadata": {},
     "output_type": "execute_result"
    }
   ],
   "source": [
    "per.predict_proba(X_test)"
   ]
  },
  {
   "cell_type": "code",
   "execution_count": 7,
   "metadata": {},
   "outputs": [],
   "source": [
    "from sklearn.metrics import precision_recall_curve\n",
    "prec,rec,thresh = precision_recall_curve(Y_test,per.predict_proba(X_test)[:,1])\n",
    "prec_rbf,rec_rbf,thresh_rbf = precision_recall_curve(Y_test,per_rbf.predict_proba(X_test)[:,1])"
   ]
  },
  {
   "cell_type": "markdown",
   "metadata": {},
   "source": [
    "### Tradeoff between precision and recall"
   ]
  },
  {
   "cell_type": "code",
   "execution_count": 8,
   "metadata": {},
   "outputs": [
    {
     "data": {
      "text/plain": [
       "[<matplotlib.lines.Line2D at 0x1eb56526950>]"
      ]
     },
     "execution_count": 8,
     "metadata": {},
     "output_type": "execute_result"
    },
    {
     "data": {
      "image/png": "[encoded data removed]",
      "text/plain": [
       "<Figure size 640x480 with 1 Axes>"
      ]
     },
     "metadata": {},
     "output_type": "display_data"
    }
   ],
   "source": [
    "import matplotlib.pyplot as plt\n",
    "plt.plot(thresh,prec[:-1])\n",
    "plt.plot(thresh,rec[:-1])"
   ]
  },
  {
   "cell_type": "markdown",
   "metadata": {},
   "source": [
    "### Precision and recall curve\n",
    "\n",
    "It is customary to plot the precision as a function of recall into the so called precision and recall curve"
   ]
  },
  {
   "cell_type": "code",
   "execution_count": 9,
   "metadata": {},
   "outputs": [
    {
     "data": {
      "text/plain": [
       "(0.0, 1.0)"
      ]
     },
     "execution_count": 9,
     "metadata": {},
     "output_type": "execute_result"
    },
    {
     "data": {
      "image/png": "[encoded data removed]",
      "text/plain": [
       "<Figure size 640x480 with 1 Axes>"
      ]
     },
     "metadata": {},
     "output_type": "display_data"
    }
   ],
   "source": [
    "plt.plot(rec,prec)\n",
    "plt.plot(rec_rbf,prec_rbf)\n",
    "plt.xlim(0,1)\n",
    "plt.ylim(0,1)"
   ]
  },
  {
   "cell_type": "markdown",
   "metadata": {},
   "source": [
    "### Average precision\n",
    "$$\n",
    "    p(r) = \\text{Pr}(\\text{Re}^{-1}(r))\n",
    "$$\n",
    "then $p(r)$ is the curve above where the $x$-axis is $r$ (recall) and the $y$ axis is precision.\n",
    "Average precision is thus just\n",
    "$$\n",
    "    \\text{AP} = \\int_0^1 p(r) dr\n",
    "$$\n",
    "or also called Area Under the Precision Recall Curve."
   ]
  },
  {
   "cell_type": "markdown",
   "metadata": {},
   "source": [
    "If we call $\\mathbb{P}(g_\\alpha(X) = 1) = t$, the detection level, where $t(1) = 0$ and $t(0) = 1$. Then\n",
    "$$\n",
    "    p(t) = \\text{Pr}(\\alpha) = \\mathbb{P}(Y=1 \\mid g_\\alpha(X)=1) = Re(\\alpha) \\frac{\\mathbb{P}(Y = 1)}{\\mathbb{P}(g_\\alpha(X) = 1)}\n",
    "$$\n",
    "and\n",
    "$$\n",
    "    r(t) = \\text{Re}(\\alpha)\n",
    "$$\n",
    "then we get\n",
    "$$\n",
    "    p(t) = \\frac{\\mathbb{P}(Y = 1) r(t)}{t}\n",
    "$$\n",
    "\n",
    "This equation captures the trade-off between precision and recall as functions of the detection level.\n",
    "\n",
    "It may look like average precision is a strange quantity, and indeed it is. See for instance the review paper on the course website."
   ]
  },
  {
   "cell_type": "code",
   "execution_count": 10,
   "metadata": {},
   "outputs": [
    {
     "data": {
      "text/plain": [
       "0.9558927361886067"
      ]
     },
     "execution_count": 10,
     "metadata": {},
     "output_type": "execute_result"
    }
   ],
   "source": [
    "from sklearn.metrics import average_precision_score\n",
    "average_precision_score(Y_test,per.predict_proba(X_test)[:,1])"
   ]
  },
  {
   "cell_type": "code",
   "execution_count": 11,
   "metadata": {},
   "outputs": [
    {
     "data": {
      "text/plain": [
       "0.9979075740393013"
      ]
     },
     "execution_count": 11,
     "metadata": {},
     "output_type": "execute_result"
    }
   ],
   "source": [
    "average_precision_score(Y_test,per_rbf.predict_proba(X_test)[:,1])"
   ]
  },
  {
   "cell_type": "markdown",
   "metadata": {},
   "source": [
    "### Reciever Operating Characteristic (ROC)"
   ]
  },
  {
   "cell_type": "markdown",
   "metadata": {},
   "source": [
    "Lets consider Recall for the $0$ class vs Recall for the $1$ class\n",
    "$$\n",
    "    \\text{FPR}(\\alpha) = \\mathbb{P}(g(X)=1 \\mid Y = 0) \\quad \\text{also goes by the name false positive rate}\n",
    "$$\n",
    "$$\n",
    "    \\text{Re}(\\alpha) = \\mathbb{P}(g(X)=1 \\mid Y = 1) \\quad \\text{also goes by the name true positive rate}\n",
    "$$\n",
    "\n",
    "We can plot these using sklearn as follows"
   ]
  },
  {
   "cell_type": "code",
   "execution_count": 12,
   "metadata": {},
   "outputs": [],
   "source": [
    "from sklearn.metrics import roc_curve\n",
    "fpr,tpr,thresholds = roc_curve(Y_test,per.predict_proba(X_test)[:,1])\n",
    "fpr_rbf,tpr_rbf,thresholds_rbf = roc_curve(Y_test,per_rbf.predict_proba(X_test)[:,1])"
   ]
  },
  {
   "cell_type": "code",
   "execution_count": 13,
   "metadata": {},
   "outputs": [
    {
     "data": {
      "text/plain": [
       "[<matplotlib.lines.Line2D at 0x1eb587b0430>]"
      ]
     },
     "execution_count": 13,
     "metadata": {},
     "output_type": "execute_result"
    },
    {
     "data": {
      "image/png": "[encoded data removed]",
      "text/plain": [
       "<Figure size 640x480 with 1 Axes>"
      ]
     },
     "metadata": {},
     "output_type": "display_data"
    }
   ],
   "source": [
    "plt.plot(thresholds,fpr)\n",
    "plt.plot(thresholds,tpr)"
   ]
  },
  {
   "cell_type": "markdown",
   "metadata": {},
   "source": [
    "However more common is to consider plotting them against eachother"
   ]
  },
  {
   "cell_type": "code",
   "execution_count": 14,
   "metadata": {},
   "outputs": [
    {
     "data": {
      "text/plain": [
       "[<matplotlib.lines.Line2D at 0x1eb5881ce80>]"
      ]
     },
     "execution_count": 14,
     "metadata": {},
     "output_type": "execute_result"
    },
    {
     "data": {
      "image/png": "[encoded data removed]",
      "text/plain": [
       "<Figure size 640x480 with 1 Axes>"
      ]
     },
     "metadata": {},
     "output_type": "display_data"
    }
   ],
   "source": [
    "plt.plot(fpr,tpr)\n",
    "plt.plot(fpr_rbf,tpr_rbf)"
   ]
  },
  {
   "cell_type": "markdown",
   "metadata": {},
   "source": [
    "This is the plot of $\\text{Re}(\\text{FPR}^{-1}(r))$.\n",
    "\n",
    "There is also the AUC, which is Area Under the Curve, which is defined as\n",
    "$$\n",
    "    \\int_0^1 \\text{Re}(\\text{FPR}^{-1}(r)) dr = -\\int_0^1 \\text{Re}(\\alpha) \\text{FPR}'(\\alpha) d\\alpha\n",
    "$$"
   ]
  },
  {
   "cell_type": "markdown",
   "metadata": {},
   "source": [
    "Both the AP (Average Precision) and the (AUC) is used as a single performance metric of a classifier."
   ]
  },
  {
   "cell_type": "markdown",
   "metadata": {},
   "source": [
    "Let $Z = G(X)$, where $G$ is the predicted probability, then $Z$ has density $F_Z$. Let $F_{Z,Y}$ be the joint distribution of $Z$ and $Y$\n",
    "\n",
    "Let\n",
    "$$\n",
    "    \\begin{aligned}\n",
    "        f_1(z) &= f_{Z \\mid Y=1} \\\\\n",
    "        f_0(z) &= f_{Z \\mid Y=0}\n",
    "    \\end{aligned}\n",
    "$$\n",
    "thus we simply get\n",
    "$$\n",
    "    \\begin{aligned}\n",
    "        \\text{FPR}(\\alpha) = \\int_{\\alpha}^1 f_0(z)dz \\\\\n",
    "        \\text{Re}(\\alpha) = \\int_{\\alpha}^1 f_1(z)dz\n",
    "    \\end{aligned}\n",
    "$$\n",
    "As such \n",
    "$$\n",
    "    \\text{Re}'(\\alpha) = -f_1(\\alpha)\n",
    "$$\n",
    "and we can write\n",
    "$$\n",
    "    -\\int_0^1 \\text{Re}(\\alpha) \\text{FPR}'(\\alpha) d\\alpha = \\int_0^1 \\int_z^1 f_1(z') f_0(z) dz dz'\n",
    "$$\n",
    "Consider $Z_1$ be a random variable sampled from $f_1$ and $Z_0$ be sampled from $f_0$. Then we can write the above as\n",
    "$$\n",
    "    \\mathbb{P}(Z_1 > Z_0) = \\int_0^1 \\int_z^1 f_1(z') f_0(z) dz dz'\n",
    "$$\n",
    "It is useful to think about what this probability means. That is, if we take a randomly chosen sample from the positive class and call it $X_1$ and do the same with class $0$ and call that $X_0$, then the AUC is the probability that $G(X_1) > G(X_0)$."
   ]
  },
  {
   "cell_type": "markdown",
   "id": "01e3b7bc",
   "metadata": {},
   "source": []
  },
  {
   "cell_type": "markdown",
   "id": "d13ce4c7",
   "metadata": {},
   "source": []
  },
  {
   "cell_type": "markdown",
   "id": "94a0c6c1",
   "metadata": {},
   "source": []
  }
 ],
 "metadata": {
  "kernelspec": {
   "display_name": "Python 3 (ipykernel)",
   "language": "python",
   "name": "python3"
  },
  "language_info": {
   "codemirror_mode": {
    "name": "ipython",
    "version": 3
   },
   "file_extension": ".py",
   "mimetype": "text/x-python",
   "name": "python",
   "nbconvert_exporter": "python",
   "pygments_lexer": "ipython3",
   "version": "3.10.8"
  },
  "lx_course_instance": "2023",
  "lx_course_name": "Introduction to Data Science",
  "lx_course_number": "1MS041"
 },
 "nbformat": 4,
 "nbformat_minor": 5
}

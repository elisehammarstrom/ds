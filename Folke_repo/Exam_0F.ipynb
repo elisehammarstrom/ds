{
 "cells": [
  {
   "cell_type": "markdown",
   "metadata": {
    "deletable": false
   },
   "source": [
    "# Exam 14th of January 2020 for the course 1MS041 (Introduction to Data Science)\n",
    "1. Fill in your anonymous exam code in the cell below.\n",
    "2. Complete the Problems by following instructions.\n",
    "3. When done, submit this file with your solutions saved, as instructed on Studium.\n",
    "\n",
    "Any questions regarding the exam can be asked by sending a message through Studium to the teacher. When asking a question about a specific problem, be sure to explain the problem clearly as all exams are shuffled in order."
   ]
  },
  {
   "cell_type": "code",
   "execution_count": null,
   "metadata": {
    "deletable": false
   },
   "outputs": [],
   "source": [
    "# Enter your anonymous exam id by replacing XXXX in this cell below\n",
    "# do NOT delete this cell\n",
    "MyAnonymousExamID = 'XXX'"
   ]
  },
  {
   "cell_type": "markdown",
   "metadata": {
    "deletable": false,
    "lx_assignment_number": "0",
    "lx_assignment_type": "EXAM",
    "lx_assignment_type2print": "Exam",
    "lx_problem_cell_type": "PROBLEM",
    "lx_problem_number": "1",
    "lx_problem_points": "5"
   },
   "source": [
    "---\n",
    "## PROBLEM 1\n",
    "Maximum Points = 5"
   ]
  },
  {
   "cell_type": "markdown",
   "metadata": {
    "deletable": false,
    "lx_assignment_number": "0",
    "lx_assignment_type": "EXAM",
    "lx_assignment_type2print": "Exam",
    "lx_problem_cell_type": "PROBLEM",
    "lx_problem_number": "1",
    "lx_problem_points": "5"
   },
   "source": [
    "\n",
    "Consider the following matrix\n",
    "$$\n",
    "    M = \n",
    "    \\begin{bmatrix}\n",
    "        1 & 1 \\\\\n",
    "        0 & 3 \\\\\n",
    "        3 & 0\n",
    "    \\end{bmatrix}\n",
    "$$\n",
    "Manually, by hand, produce the\n",
    "* [1p] Rank: `rank`\n",
    "* [1p] Left singular vectors in matrix form: `V`\n",
    "* [1p] Singular values in matrix form: `D`\n",
    "* [1p] Right singular vectors in matrix form: `U`\n",
    "\n",
    "If $UDV^T = M$ then [1p].\n",
    "\n",
    "When answering these questions, use the sagemath `matrix` format as the example below. Use exact answers, i.e. use `sqrt(3)` if that appears in the calculation.\n",
    "\n",
    "> To make sure that we all agree on signs, make sure that the sign of the first component of each singular vector is positive."
   ]
  },
  {
   "cell_type": "code",
   "execution_count": 36,
   "metadata": {
    "deletable": false,
    "lx_assignment_number": "0",
    "lx_assignment_type": "EXAM",
    "lx_assignment_type2print": "Exam",
    "lx_problem_cell_type": "PROBLEM",
    "lx_problem_number": "1",
    "lx_problem_points": "5"
   },
   "outputs": [],
   "source": [
    "M = matrix([[1,1],[0,3],[3,0]])"
   ]
  },
  {
   "cell_type": "code",
   "execution_count": 37,
   "metadata": {
    "deletable": false,
    "lx_assignment_number": "0",
    "lx_assignment_type": "EXAM",
    "lx_assignment_type2print": "Exam",
    "lx_problem_cell_type": "PROBLEM",
    "lx_problem_number": "1",
    "lx_problem_points": "5"
   },
   "outputs": [
    {
     "ename": "NameError",
     "evalue": "name 'XXX' is not defined",
     "output_type": "error",
     "traceback": [
      "\u001b[0;31m---------------------------------------------------------------------------\u001b[0m",
      "\u001b[0;31mNameError\u001b[0m                                 Traceback (most recent call last)",
      "\u001b[0;32m<ipython-input-37-cac0252d77c7>\u001b[0m in \u001b[0;36m<module>\u001b[0;34m()\u001b[0m\n\u001b[1;32m      1\u001b[0m \u001b[0;31m# EXAM vB, PROBLEM 8, POINTS 5\u001b[0m\u001b[0;34m\u001b[0m\u001b[0;34m\u001b[0m\u001b[0;34m\u001b[0m\u001b[0m\n\u001b[0;32m----> 2\u001b[0;31m \u001b[0mrank\u001b[0m \u001b[0;34m=\u001b[0m \u001b[0mXXX\u001b[0m \u001b[0;31m# [1p] The rank of the matrix M\u001b[0m\u001b[0;34m\u001b[0m\u001b[0;34m\u001b[0m\u001b[0m\n\u001b[0m\u001b[1;32m      3\u001b[0m \u001b[0mV\u001b[0m \u001b[0;34m=\u001b[0m \u001b[0mXXX\u001b[0m \u001b[0;31m# [1p] Matrix of singular vectors, each vector is a column of V\u001b[0m\u001b[0;34m\u001b[0m\u001b[0;34m\u001b[0m\u001b[0m\n\u001b[1;32m      4\u001b[0m \u001b[0mD\u001b[0m \u001b[0;34m=\u001b[0m \u001b[0mXXX\u001b[0m \u001b[0;31m# [1p] The square matrix with the singular values on the diagonal\u001b[0m\u001b[0;34m\u001b[0m\u001b[0;34m\u001b[0m\u001b[0m\n\u001b[1;32m      5\u001b[0m \u001b[0mU\u001b[0m \u001b[0;34m=\u001b[0m \u001b[0mXXX\u001b[0m \u001b[0;31m# [1p] The matrix of right singular vectors (each vector is a column of U)\u001b[0m\u001b[0;34m\u001b[0m\u001b[0;34m\u001b[0m\u001b[0m\n",
      "\u001b[0;31mNameError\u001b[0m: name 'XXX' is not defined"
     ]
    }
   ],
   "source": [
    "rank = XXX # [1p] The rank of the matrix M\n",
    "V = XXX # [1p] Matrix of singular vectors, each vector is a column of V\n",
    "D = XXX # [1p] The square matrix with the singular values on the diagonal\n",
    "U = XXX # [1p] The matrix of right singular vectors (each vector is a column of U)\n",
    "\n",
    "## Hint, use V.nrows() and V.ncols() etc. to make sure that you got the dimensions as you\n",
    "## expect. If nrows does not work, then you should make sure you are using `matrix()` from sagemath\n",
    "\n",
    "## [1p] Hint: Check that U*D*V.transpose() == M"
   ]
  },
  {
   "cell_type": "markdown",
   "metadata": {
    "deletable": false,
    "lx_assignment_number": "0",
    "lx_assignment_type": "EXAM",
    "lx_assignment_type2print": "Exam",
    "lx_problem_cell_type": "PROBLEM",
    "lx_problem_number": "2",
    "lx_problem_points": "5"
   },
   "source": [
    "---\n",
    "## PROBLEM 2\n",
    "Maximum Points = 5"
   ]
  },
  {
   "cell_type": "markdown",
   "metadata": {
    "deletable": false,
    "lx_assignment_number": "0",
    "lx_assignment_type": "EXAM",
    "lx_assignment_type2print": "Exam",
    "lx_problem_cell_type": "PROBLEM",
    "lx_problem_number": "2",
    "lx_problem_points": "5"
   },
   "source": [
    "\n",
    "Consider the $n$ IID $\\theta$-parametric family of rescaled Rademacher random variables with the following probability mass function:\n",
    "\n",
    "$$\n",
    "f(x; \\theta) = \n",
    "\\begin{cases} \n",
    "\\theta & \\text{ if } x=+10\\\\\n",
    "1-\\theta & \\text{ if } x=-10\\\\\n",
    "0 & \\text{ otherwise}.\n",
    "\\end{cases}\n",
    "$$\n",
    "\n",
    "Your task now is to perform a Wald Test of size $\\alpha=0.05$ to try to reject the null hypothesis that the chance of seeing a $+10$ is exactly $1/2$, i.e.,\n",
    "$$\\displaystyle{H_0: \\theta^*=\\theta_0 \\quad \\text{ versus } \\quad H_1: \\theta^* \\neq \\theta_0, \\qquad \\text{ with }\\theta_0=0.5}$$\n",
    "Show you work by replacing `XXX`s with the right expressions in the cell below."
   ]
  },
  {
   "cell_type": "code",
   "execution_count": 5,
   "metadata": {
    "deletable": false,
    "lx_assignment_number": "0",
    "lx_assignment_type": "EXAM",
    "lx_assignment_type2print": "Exam",
    "lx_problem_cell_type": "PROBLEM",
    "lx_problem_number": "2",
    "lx_problem_points": "5"
   },
   "outputs": [
    {
     "name": "stdout",
     "output_type": "stream",
     "text": [
      "8\n",
      "9\n"
     ]
    }
   ],
   "source": [
    "dataSamples2 = np.array([-10,+10,+10,-10,-10,-10,+10,+10,-10,-10,-10,+10,+10,-10,+10,+10,+10])\n",
    "# HINT: to get the counts of +10s and -10s, perhaps a useful statistic for the likelihood\n",
    "print (sum(dataSamples2==-10)) # number of -10s\n",
    "print (sum(dataSamples2==+10)) # number of +10s"
   ]
  },
  {
   "cell_type": "code",
   "execution_count": 6,
   "metadata": {
    "deletable": false,
    "lx_assignment_number": "0",
    "lx_assignment_type": "EXAM",
    "lx_assignment_type2print": "Exam",
    "lx_problem_cell_type": "PROBLEM",
    "lx_problem_number": "2",
    "lx_problem_points": "5"
   },
   "outputs": [
    {
     "ename": "NameError",
     "evalue": "name 'XXX' is not defined",
     "output_type": "error",
     "traceback": [
      "\u001b[0;31m---------------------------------------------------------------------------\u001b[0m",
      "\u001b[0;31mNameError\u001b[0m                                 Traceback (most recent call last)",
      "\u001b[0;32m<ipython-input-6-d3eab33ab44d>\u001b[0m in \u001b[0;36m<module>\u001b[0;34m()\u001b[0m\n\u001b[1;32m      5\u001b[0m \u001b[0;31m## STEP 1: get the MLE thetaHat,\u001b[0m\u001b[0;34m\u001b[0m\u001b[0;34m\u001b[0m\u001b[0;34m\u001b[0m\u001b[0m\n\u001b[1;32m      6\u001b[0m \u001b[0;31m### either by hand or numerically\u001b[0m\u001b[0;34m\u001b[0m\u001b[0;34m\u001b[0m\u001b[0;34m\u001b[0m\u001b[0m\n\u001b[0;32m----> 7\u001b[0;31m \u001b[0mthetaHat\u001b[0m\u001b[0;34m=\u001b[0m\u001b[0mXXX\u001b[0m\u001b[0;34m\u001b[0m\u001b[0;34m\u001b[0m\u001b[0m\n\u001b[0m\u001b[1;32m      8\u001b[0m \u001b[0mprint\u001b[0m \u001b[0;34m(\u001b[0m\u001b[0;34m\"mle thetaHat = \"\u001b[0m\u001b[0;34m,\u001b[0m\u001b[0mthetaHat\u001b[0m\u001b[0;34m)\u001b[0m\u001b[0;34m\u001b[0m\u001b[0;34m\u001b[0m\u001b[0m\n\u001b[1;32m      9\u001b[0m \u001b[0;34m\u001b[0m\u001b[0m\n",
      "\u001b[0;31mNameError\u001b[0m: name 'XXX' is not defined"
     ]
    }
   ],
   "source": [
    "## HINT: Think how the likelihood here is related to that for Bernoulli trials\n",
    "\n",
    "## STEP 1: get the MLE thetaHat, \n",
    "### either by hand or numerically\n",
    "thetaHat=XXX \n",
    "print (\"mle thetaHat = \",thetaHat)\n",
    "\n",
    "## STEP 2: get the NullTheta or theta0\n",
    "NullTheta=XXX\n",
    "print (\"Null value of theta under H0 = \", NullTheta)\n",
    "\n",
    "## STEP 3: get estimated standard error\n",
    "seTheta=XXX # recall standard error comes from Fisher Information\n",
    "print (\"estimated standard error\",seTheta)\n",
    "\n",
    "# STEP 4: get Wald Statistic\n",
    "W=XXX\n",
    "print (\"Wald statistic = \",W)\n",
    "\n",
    "# STEP 5: conduct the size alpha=0.05 Wald test\n",
    "# do NOT change anything below\n",
    "rejectNull1 = abs(W) > 2.0 # alpha=0.05, so z_{alpha/2} =1.96 approx=2.0\n",
    "if (rejectNull1):\n",
    "    print (\"we reject the null hypothesis that theta_0=0.5\")\n",
    "else:\n",
    "    print (\"we fail to reject the null hypothesis that theta_0=0.5\")"
   ]
  },
  {
   "cell_type": "markdown",
   "metadata": {
    "deletable": false,
    "lx_assignment_number": "0",
    "lx_assignment_type": "EXAM",
    "lx_assignment_type2print": "Exam",
    "lx_problem_cell_type": "PROBLEM",
    "lx_problem_number": "3",
    "lx_problem_points": "5"
   },
   "source": [
    "---\n",
    "## PROBLEM 3\n",
    "Maximum Points = 5"
   ]
  },
  {
   "cell_type": "markdown",
   "metadata": {
    "deletable": false,
    "lx_assignment_number": "0",
    "lx_assignment_type": "EXAM",
    "lx_assignment_type2print": "Exam",
    "lx_problem_cell_type": "PROBLEM",
    "lx_problem_number": "3",
    "lx_problem_points": "5"
   },
   "source": [
    "\n",
    "In the next cells the earthquake data is analyzed further, specifically depth and magnitude.\n",
    "\n",
    "Your task is to understand the analysis and continue with the following:\n",
    "\n",
    "1. Make a residual plot for the fit and discuss briefly the scatter of residuals. Explain what values that are farthest from the x-axis (both below and above) mean here.\n",
    "2. Conduct a Wald test with alpha at 5% of the null hypothesis that $\\beta_1=0$. State your conclusion by setting the Boolean variable `RejectNullHypothesisForProblem4` to `True` if you reject and `False` if you do not."
   ]
  },
  {
   "cell_type": "code",
   "execution_count": 6,
   "metadata": {
    "deletable": false,
    "lx_assignment_number": "0",
    "lx_assignment_type": "EXAM",
    "lx_assignment_type2print": "Exam",
    "lx_problem_cell_type": "PROBLEM",
    "lx_problem_number": "3",
    "lx_problem_points": "5"
   },
   "outputs": [
    {
     "ename": "AttributeError",
     "evalue": "'DataFrame' object has no attribute 'dropstr'",
     "output_type": "error",
     "traceback": [
      "\u001b[1;31m---------------------------------------------------------------------------\u001b[0m",
      "\u001b[1;31mAttributeError\u001b[0m                            Traceback (most recent call last)",
      "Cell \u001b[1;32mIn[6], line 6\u001b[0m\n\u001b[0;32m      4\u001b[0m df \u001b[38;5;241m=\u001b[39m pd\u001b[38;5;241m.\u001b[39mread_csv(\u001b[38;5;124m'\u001b[39m\u001b[38;5;124mdata/earthquakes.csv\u001b[39m\u001b[38;5;124m'\u001b[39m)\n\u001b[0;32m      5\u001b[0m df \u001b[38;5;241m=\u001b[39m df\u001b[38;5;241m.\u001b[39mdropna()\n\u001b[1;32m----> 6\u001b[0m df \u001b[38;5;241m=\u001b[39m \u001b[43mdf\u001b[49m\u001b[38;5;241;43m.\u001b[39;49m\u001b[43mdropstr\u001b[49m()\n\u001b[0;32m      7\u001b[0m \u001b[38;5;66;03m#eqData = np.array(myProcessedList)[:,[3,2]]\u001b[39;00m\n\u001b[0;32m      8\u001b[0m \u001b[38;5;66;03m#eqDepth = eqData[:,0]\u001b[39;00m\n\u001b[0;32m      9\u001b[0m \u001b[38;5;66;03m#eqMagnitude = eqData[:,1]\u001b[39;00m\n",
      "File \u001b[1;32m~\\AppData\\Local\\Packages\\PythonSoftwareFoundation.Python.3.10_qbz5n2kfra8p0\\LocalCache\\local-packages\\Python310\\site-packages\\pandas\\core\\generic.py:5902\u001b[0m, in \u001b[0;36mNDFrame.__getattr__\u001b[1;34m(self, name)\u001b[0m\n\u001b[0;32m   5895\u001b[0m \u001b[38;5;28;01mif\u001b[39;00m (\n\u001b[0;32m   5896\u001b[0m     name \u001b[38;5;129;01mnot\u001b[39;00m \u001b[38;5;129;01min\u001b[39;00m \u001b[38;5;28mself\u001b[39m\u001b[38;5;241m.\u001b[39m_internal_names_set\n\u001b[0;32m   5897\u001b[0m     \u001b[38;5;129;01mand\u001b[39;00m name \u001b[38;5;129;01mnot\u001b[39;00m \u001b[38;5;129;01min\u001b[39;00m \u001b[38;5;28mself\u001b[39m\u001b[38;5;241m.\u001b[39m_metadata\n\u001b[0;32m   5898\u001b[0m     \u001b[38;5;129;01mand\u001b[39;00m name \u001b[38;5;129;01mnot\u001b[39;00m \u001b[38;5;129;01min\u001b[39;00m \u001b[38;5;28mself\u001b[39m\u001b[38;5;241m.\u001b[39m_accessors\n\u001b[0;32m   5899\u001b[0m     \u001b[38;5;129;01mand\u001b[39;00m \u001b[38;5;28mself\u001b[39m\u001b[38;5;241m.\u001b[39m_info_axis\u001b[38;5;241m.\u001b[39m_can_hold_identifiers_and_holds_name(name)\n\u001b[0;32m   5900\u001b[0m ):\n\u001b[0;32m   5901\u001b[0m     \u001b[38;5;28;01mreturn\u001b[39;00m \u001b[38;5;28mself\u001b[39m[name]\n\u001b[1;32m-> 5902\u001b[0m \u001b[38;5;28;01mreturn\u001b[39;00m \u001b[38;5;28;43mobject\u001b[39;49m\u001b[38;5;241;43m.\u001b[39;49m\u001b[38;5;21;43m__getattribute__\u001b[39;49m\u001b[43m(\u001b[49m\u001b[38;5;28;43mself\u001b[39;49m\u001b[43m,\u001b[49m\u001b[43m \u001b[49m\u001b[43mname\u001b[49m\u001b[43m)\u001b[49m\n",
      "\u001b[1;31mAttributeError\u001b[0m: 'DataFrame' object has no attribute 'dropstr'"
     ]
    }
   ],
   "source": [
    "# Lets extract the depth and magnitude from myProcessedList \n",
    "# (which contains: longitude, latitude, magnitude, depth and the origin time)\n",
    "import pandas as pd\n",
    "df = pd.read_csv('data/earthquakes.csv')\n",
    "df = df.dropna()\n",
    "#eqData = np.array(myProcessedList)[:,[3,2]]\n",
    "#eqDepth = eqData[:,0]\n",
    "#eqMagnitude = eqData[:,1]"
   ]
  },
  {
   "cell_type": "code",
   "execution_count": 5,
   "metadata": {
    "deletable": false,
    "lx_assignment_number": "0",
    "lx_assignment_type": "EXAM",
    "lx_assignment_type2print": "Exam",
    "lx_problem_cell_type": "PROBLEM",
    "lx_problem_number": "3",
    "lx_problem_points": "5"
   },
   "outputs": [
    {
     "ename": "ValueError",
     "evalue": "could not convert string to float: '2017p819892'",
     "output_type": "error",
     "traceback": [
      "\u001b[1;31m---------------------------------------------------------------------------\u001b[0m",
      "\u001b[1;31mValueError\u001b[0m                                Traceback (most recent call last)",
      "Cell \u001b[1;32mIn[5], line 10\u001b[0m\n\u001b[0;32m      8\u001b[0m \u001b[38;5;28;01mfrom\u001b[39;00m \u001b[38;5;21;01msklearn\u001b[39;00m\u001b[38;5;21;01m.\u001b[39;00m\u001b[38;5;21;01mlinear_model\u001b[39;00m \u001b[38;5;28;01mimport\u001b[39;00m LinearRegression\n\u001b[0;32m      9\u001b[0m problem2_model \u001b[38;5;241m=\u001b[39m LinearRegression()\n\u001b[1;32m---> 10\u001b[0m \u001b[43mproblem2_model\u001b[49m\u001b[38;5;241;43m.\u001b[39;49m\u001b[43mfit\u001b[49m\u001b[43m(\u001b[49m\u001b[43mproblem2_X_train\u001b[49m\u001b[43m,\u001b[49m\u001b[43m \u001b[49m\u001b[43mproblem2_y_train\u001b[49m\u001b[43m)\u001b[49m\n\u001b[0;32m     12\u001b[0m \u001b[38;5;28;01mfrom\u001b[39;00m \u001b[38;5;21;01msklearn\u001b[39;00m\u001b[38;5;21;01m.\u001b[39;00m\u001b[38;5;21;01mmetrics\u001b[39;00m \u001b[38;5;28;01mimport\u001b[39;00m mean_absolute_error\n\u001b[0;32m     13\u001b[0m y_pred \u001b[38;5;241m=\u001b[39m problem2_model\u001b[38;5;241m.\u001b[39mpredict(problem2_X_test)\n",
      "File \u001b[1;32m~\\AppData\\Local\\Packages\\PythonSoftwareFoundation.Python.3.10_qbz5n2kfra8p0\\LocalCache\\local-packages\\Python310\\site-packages\\sklearn\\linear_model\\_base.py:648\u001b[0m, in \u001b[0;36mLinearRegression.fit\u001b[1;34m(self, X, y, sample_weight)\u001b[0m\n\u001b[0;32m    644\u001b[0m n_jobs_ \u001b[38;5;241m=\u001b[39m \u001b[38;5;28mself\u001b[39m\u001b[38;5;241m.\u001b[39mn_jobs\n\u001b[0;32m    646\u001b[0m accept_sparse \u001b[38;5;241m=\u001b[39m \u001b[38;5;28;01mFalse\u001b[39;00m \u001b[38;5;28;01mif\u001b[39;00m \u001b[38;5;28mself\u001b[39m\u001b[38;5;241m.\u001b[39mpositive \u001b[38;5;28;01melse\u001b[39;00m [\u001b[38;5;124m\"\u001b[39m\u001b[38;5;124mcsr\u001b[39m\u001b[38;5;124m\"\u001b[39m, \u001b[38;5;124m\"\u001b[39m\u001b[38;5;124mcsc\u001b[39m\u001b[38;5;124m\"\u001b[39m, \u001b[38;5;124m\"\u001b[39m\u001b[38;5;124mcoo\u001b[39m\u001b[38;5;124m\"\u001b[39m]\n\u001b[1;32m--> 648\u001b[0m X, y \u001b[38;5;241m=\u001b[39m \u001b[38;5;28;43mself\u001b[39;49m\u001b[38;5;241;43m.\u001b[39;49m\u001b[43m_validate_data\u001b[49m\u001b[43m(\u001b[49m\n\u001b[0;32m    649\u001b[0m \u001b[43m    \u001b[49m\u001b[43mX\u001b[49m\u001b[43m,\u001b[49m\u001b[43m \u001b[49m\u001b[43my\u001b[49m\u001b[43m,\u001b[49m\u001b[43m \u001b[49m\u001b[43maccept_sparse\u001b[49m\u001b[38;5;241;43m=\u001b[39;49m\u001b[43maccept_sparse\u001b[49m\u001b[43m,\u001b[49m\u001b[43m \u001b[49m\u001b[43my_numeric\u001b[49m\u001b[38;5;241;43m=\u001b[39;49m\u001b[38;5;28;43;01mTrue\u001b[39;49;00m\u001b[43m,\u001b[49m\u001b[43m \u001b[49m\u001b[43mmulti_output\u001b[49m\u001b[38;5;241;43m=\u001b[39;49m\u001b[38;5;28;43;01mTrue\u001b[39;49;00m\n\u001b[0;32m    650\u001b[0m \u001b[43m\u001b[49m\u001b[43m)\u001b[49m\n\u001b[0;32m    652\u001b[0m sample_weight \u001b[38;5;241m=\u001b[39m _check_sample_weight(\n\u001b[0;32m    653\u001b[0m     sample_weight, X, dtype\u001b[38;5;241m=\u001b[39mX\u001b[38;5;241m.\u001b[39mdtype, only_non_negative\u001b[38;5;241m=\u001b[39m\u001b[38;5;28;01mTrue\u001b[39;00m\n\u001b[0;32m    654\u001b[0m )\n\u001b[0;32m    656\u001b[0m X, y, X_offset, y_offset, X_scale \u001b[38;5;241m=\u001b[39m _preprocess_data(\n\u001b[0;32m    657\u001b[0m     X,\n\u001b[0;32m    658\u001b[0m     y,\n\u001b[1;32m   (...)\u001b[0m\n\u001b[0;32m    661\u001b[0m     sample_weight\u001b[38;5;241m=\u001b[39msample_weight,\n\u001b[0;32m    662\u001b[0m )\n",
      "File \u001b[1;32m~\\AppData\\Local\\Packages\\PythonSoftwareFoundation.Python.3.10_qbz5n2kfra8p0\\LocalCache\\local-packages\\Python310\\site-packages\\sklearn\\base.py:565\u001b[0m, in \u001b[0;36mBaseEstimator._validate_data\u001b[1;34m(self, X, y, reset, validate_separately, **check_params)\u001b[0m\n\u001b[0;32m    563\u001b[0m         y \u001b[38;5;241m=\u001b[39m check_array(y, input_name\u001b[38;5;241m=\u001b[39m\u001b[38;5;124m\"\u001b[39m\u001b[38;5;124my\u001b[39m\u001b[38;5;124m\"\u001b[39m, \u001b[38;5;241m*\u001b[39m\u001b[38;5;241m*\u001b[39mcheck_y_params)\n\u001b[0;32m    564\u001b[0m     \u001b[38;5;28;01melse\u001b[39;00m:\n\u001b[1;32m--> 565\u001b[0m         X, y \u001b[38;5;241m=\u001b[39m check_X_y(X, y, \u001b[38;5;241m*\u001b[39m\u001b[38;5;241m*\u001b[39mcheck_params)\n\u001b[0;32m    566\u001b[0m     out \u001b[38;5;241m=\u001b[39m X, y\n\u001b[0;32m    568\u001b[0m \u001b[38;5;28;01mif\u001b[39;00m \u001b[38;5;129;01mnot\u001b[39;00m no_val_X \u001b[38;5;129;01mand\u001b[39;00m check_params\u001b[38;5;241m.\u001b[39mget(\u001b[38;5;124m\"\u001b[39m\u001b[38;5;124mensure_2d\u001b[39m\u001b[38;5;124m\"\u001b[39m, \u001b[38;5;28;01mTrue\u001b[39;00m):\n",
      "File \u001b[1;32m~\\AppData\\Local\\Packages\\PythonSoftwareFoundation.Python.3.10_qbz5n2kfra8p0\\LocalCache\\local-packages\\Python310\\site-packages\\sklearn\\utils\\validation.py:1106\u001b[0m, in \u001b[0;36mcheck_X_y\u001b[1;34m(X, y, accept_sparse, accept_large_sparse, dtype, order, copy, force_all_finite, ensure_2d, allow_nd, multi_output, ensure_min_samples, ensure_min_features, y_numeric, estimator)\u001b[0m\n\u001b[0;32m   1101\u001b[0m         estimator_name \u001b[38;5;241m=\u001b[39m _check_estimator_name(estimator)\n\u001b[0;32m   1102\u001b[0m     \u001b[38;5;28;01mraise\u001b[39;00m \u001b[38;5;167;01mValueError\u001b[39;00m(\n\u001b[0;32m   1103\u001b[0m         \u001b[38;5;124mf\u001b[39m\u001b[38;5;124m\"\u001b[39m\u001b[38;5;132;01m{\u001b[39;00mestimator_name\u001b[38;5;132;01m}\u001b[39;00m\u001b[38;5;124m requires y to be passed, but the target y is None\u001b[39m\u001b[38;5;124m\"\u001b[39m\n\u001b[0;32m   1104\u001b[0m     )\n\u001b[1;32m-> 1106\u001b[0m X \u001b[38;5;241m=\u001b[39m \u001b[43mcheck_array\u001b[49m\u001b[43m(\u001b[49m\n\u001b[0;32m   1107\u001b[0m \u001b[43m    \u001b[49m\u001b[43mX\u001b[49m\u001b[43m,\u001b[49m\n\u001b[0;32m   1108\u001b[0m \u001b[43m    \u001b[49m\u001b[43maccept_sparse\u001b[49m\u001b[38;5;241;43m=\u001b[39;49m\u001b[43maccept_sparse\u001b[49m\u001b[43m,\u001b[49m\n\u001b[0;32m   1109\u001b[0m \u001b[43m    \u001b[49m\u001b[43maccept_large_sparse\u001b[49m\u001b[38;5;241;43m=\u001b[39;49m\u001b[43maccept_large_sparse\u001b[49m\u001b[43m,\u001b[49m\n\u001b[0;32m   1110\u001b[0m \u001b[43m    \u001b[49m\u001b[43mdtype\u001b[49m\u001b[38;5;241;43m=\u001b[39;49m\u001b[43mdtype\u001b[49m\u001b[43m,\u001b[49m\n\u001b[0;32m   1111\u001b[0m \u001b[43m    \u001b[49m\u001b[43morder\u001b[49m\u001b[38;5;241;43m=\u001b[39;49m\u001b[43morder\u001b[49m\u001b[43m,\u001b[49m\n\u001b[0;32m   1112\u001b[0m \u001b[43m    \u001b[49m\u001b[43mcopy\u001b[49m\u001b[38;5;241;43m=\u001b[39;49m\u001b[43mcopy\u001b[49m\u001b[43m,\u001b[49m\n\u001b[0;32m   1113\u001b[0m \u001b[43m    \u001b[49m\u001b[43mforce_all_finite\u001b[49m\u001b[38;5;241;43m=\u001b[39;49m\u001b[43mforce_all_finite\u001b[49m\u001b[43m,\u001b[49m\n\u001b[0;32m   1114\u001b[0m \u001b[43m    \u001b[49m\u001b[43mensure_2d\u001b[49m\u001b[38;5;241;43m=\u001b[39;49m\u001b[43mensure_2d\u001b[49m\u001b[43m,\u001b[49m\n\u001b[0;32m   1115\u001b[0m \u001b[43m    \u001b[49m\u001b[43mallow_nd\u001b[49m\u001b[38;5;241;43m=\u001b[39;49m\u001b[43mallow_nd\u001b[49m\u001b[43m,\u001b[49m\n\u001b[0;32m   1116\u001b[0m \u001b[43m    \u001b[49m\u001b[43mensure_min_samples\u001b[49m\u001b[38;5;241;43m=\u001b[39;49m\u001b[43mensure_min_samples\u001b[49m\u001b[43m,\u001b[49m\n\u001b[0;32m   1117\u001b[0m \u001b[43m    \u001b[49m\u001b[43mensure_min_features\u001b[49m\u001b[38;5;241;43m=\u001b[39;49m\u001b[43mensure_min_features\u001b[49m\u001b[43m,\u001b[49m\n\u001b[0;32m   1118\u001b[0m \u001b[43m    \u001b[49m\u001b[43mestimator\u001b[49m\u001b[38;5;241;43m=\u001b[39;49m\u001b[43mestimator\u001b[49m\u001b[43m,\u001b[49m\n\u001b[0;32m   1119\u001b[0m \u001b[43m    \u001b[49m\u001b[43minput_name\u001b[49m\u001b[38;5;241;43m=\u001b[39;49m\u001b[38;5;124;43m\"\u001b[39;49m\u001b[38;5;124;43mX\u001b[39;49m\u001b[38;5;124;43m\"\u001b[39;49m\u001b[43m,\u001b[49m\n\u001b[0;32m   1120\u001b[0m \u001b[43m\u001b[49m\u001b[43m)\u001b[49m\n\u001b[0;32m   1122\u001b[0m y \u001b[38;5;241m=\u001b[39m _check_y(y, multi_output\u001b[38;5;241m=\u001b[39mmulti_output, y_numeric\u001b[38;5;241m=\u001b[39my_numeric, estimator\u001b[38;5;241m=\u001b[39mestimator)\n\u001b[0;32m   1124\u001b[0m check_consistent_length(X, y)\n",
      "File \u001b[1;32m~\\AppData\\Local\\Packages\\PythonSoftwareFoundation.Python.3.10_qbz5n2kfra8p0\\LocalCache\\local-packages\\Python310\\site-packages\\sklearn\\utils\\validation.py:879\u001b[0m, in \u001b[0;36mcheck_array\u001b[1;34m(array, accept_sparse, accept_large_sparse, dtype, order, copy, force_all_finite, ensure_2d, allow_nd, ensure_min_samples, ensure_min_features, estimator, input_name)\u001b[0m\n\u001b[0;32m    877\u001b[0m         array \u001b[38;5;241m=\u001b[39m xp\u001b[38;5;241m.\u001b[39mastype(array, dtype, copy\u001b[38;5;241m=\u001b[39m\u001b[38;5;28;01mFalse\u001b[39;00m)\n\u001b[0;32m    878\u001b[0m     \u001b[38;5;28;01melse\u001b[39;00m:\n\u001b[1;32m--> 879\u001b[0m         array \u001b[38;5;241m=\u001b[39m \u001b[43m_asarray_with_order\u001b[49m\u001b[43m(\u001b[49m\u001b[43marray\u001b[49m\u001b[43m,\u001b[49m\u001b[43m \u001b[49m\u001b[43morder\u001b[49m\u001b[38;5;241;43m=\u001b[39;49m\u001b[43morder\u001b[49m\u001b[43m,\u001b[49m\u001b[43m \u001b[49m\u001b[43mdtype\u001b[49m\u001b[38;5;241;43m=\u001b[39;49m\u001b[43mdtype\u001b[49m\u001b[43m,\u001b[49m\u001b[43m \u001b[49m\u001b[43mxp\u001b[49m\u001b[38;5;241;43m=\u001b[39;49m\u001b[43mxp\u001b[49m\u001b[43m)\u001b[49m\n\u001b[0;32m    880\u001b[0m \u001b[38;5;28;01mexcept\u001b[39;00m ComplexWarning \u001b[38;5;28;01mas\u001b[39;00m complex_warning:\n\u001b[0;32m    881\u001b[0m     \u001b[38;5;28;01mraise\u001b[39;00m \u001b[38;5;167;01mValueError\u001b[39;00m(\n\u001b[0;32m    882\u001b[0m         \u001b[38;5;124m\"\u001b[39m\u001b[38;5;124mComplex data not supported\u001b[39m\u001b[38;5;130;01m\\n\u001b[39;00m\u001b[38;5;132;01m{}\u001b[39;00m\u001b[38;5;130;01m\\n\u001b[39;00m\u001b[38;5;124m\"\u001b[39m\u001b[38;5;241m.\u001b[39mformat(array)\n\u001b[0;32m    883\u001b[0m     ) \u001b[38;5;28;01mfrom\u001b[39;00m \u001b[38;5;21;01mcomplex_warning\u001b[39;00m\n",
      "File \u001b[1;32m~\\AppData\\Local\\Packages\\PythonSoftwareFoundation.Python.3.10_qbz5n2kfra8p0\\LocalCache\\local-packages\\Python310\\site-packages\\sklearn\\utils\\_array_api.py:185\u001b[0m, in \u001b[0;36m_asarray_with_order\u001b[1;34m(array, dtype, order, copy, xp)\u001b[0m\n\u001b[0;32m    182\u001b[0m     xp, _ \u001b[38;5;241m=\u001b[39m get_namespace(array)\n\u001b[0;32m    183\u001b[0m \u001b[38;5;28;01mif\u001b[39;00m xp\u001b[38;5;241m.\u001b[39m\u001b[38;5;18m__name__\u001b[39m \u001b[38;5;129;01min\u001b[39;00m {\u001b[38;5;124m\"\u001b[39m\u001b[38;5;124mnumpy\u001b[39m\u001b[38;5;124m\"\u001b[39m, \u001b[38;5;124m\"\u001b[39m\u001b[38;5;124mnumpy.array_api\u001b[39m\u001b[38;5;124m\"\u001b[39m}:\n\u001b[0;32m    184\u001b[0m     \u001b[38;5;66;03m# Use NumPy API to support order\u001b[39;00m\n\u001b[1;32m--> 185\u001b[0m     array \u001b[38;5;241m=\u001b[39m \u001b[43mnumpy\u001b[49m\u001b[38;5;241;43m.\u001b[39;49m\u001b[43masarray\u001b[49m\u001b[43m(\u001b[49m\u001b[43marray\u001b[49m\u001b[43m,\u001b[49m\u001b[43m \u001b[49m\u001b[43morder\u001b[49m\u001b[38;5;241;43m=\u001b[39;49m\u001b[43morder\u001b[49m\u001b[43m,\u001b[49m\u001b[43m \u001b[49m\u001b[43mdtype\u001b[49m\u001b[38;5;241;43m=\u001b[39;49m\u001b[43mdtype\u001b[49m\u001b[43m)\u001b[49m\n\u001b[0;32m    186\u001b[0m     \u001b[38;5;28;01mreturn\u001b[39;00m xp\u001b[38;5;241m.\u001b[39masarray(array, copy\u001b[38;5;241m=\u001b[39mcopy)\n\u001b[0;32m    187\u001b[0m \u001b[38;5;28;01melse\u001b[39;00m:\n",
      "File \u001b[1;32m~\\AppData\\Local\\Packages\\PythonSoftwareFoundation.Python.3.10_qbz5n2kfra8p0\\LocalCache\\local-packages\\Python310\\site-packages\\pandas\\core\\generic.py:2070\u001b[0m, in \u001b[0;36mNDFrame.__array__\u001b[1;34m(self, dtype)\u001b[0m\n\u001b[0;32m   2069\u001b[0m \u001b[38;5;28;01mdef\u001b[39;00m \u001b[38;5;21m__array__\u001b[39m(\u001b[38;5;28mself\u001b[39m, dtype: npt\u001b[38;5;241m.\u001b[39mDTypeLike \u001b[38;5;241m|\u001b[39m \u001b[38;5;28;01mNone\u001b[39;00m \u001b[38;5;241m=\u001b[39m \u001b[38;5;28;01mNone\u001b[39;00m) \u001b[38;5;241m-\u001b[39m\u001b[38;5;241m>\u001b[39m np\u001b[38;5;241m.\u001b[39mndarray:\n\u001b[1;32m-> 2070\u001b[0m     \u001b[38;5;28;01mreturn\u001b[39;00m \u001b[43mnp\u001b[49m\u001b[38;5;241;43m.\u001b[39;49m\u001b[43masarray\u001b[49m\u001b[43m(\u001b[49m\u001b[38;5;28;43mself\u001b[39;49m\u001b[38;5;241;43m.\u001b[39;49m\u001b[43m_values\u001b[49m\u001b[43m,\u001b[49m\u001b[43m \u001b[49m\u001b[43mdtype\u001b[49m\u001b[38;5;241;43m=\u001b[39;49m\u001b[43mdtype\u001b[49m\u001b[43m)\u001b[49m\n",
      "\u001b[1;31mValueError\u001b[0m: could not convert string to float: '2017p819892'"
     ]
    }
   ],
   "source": [
    "from scipy.linalg import lstsq\n",
    "import matplotlib.pyplot as plt\n",
    "import numpy as np\n",
    "from sklearn.model_selection import train_test_split\n",
    "X = df.loc[:, ~df.columns.isin(['magnitudeuncertainty'])]\n",
    "y = df[['magnitudeuncertainty']].values.flatten()\n",
    "problem2_X_train,problem2_X_test,problem2_y_train,problem2_y_test = train_test_split(X, y, train_size=0.8, shuffle=True)\n",
    "from sklearn.linear_model import LinearRegression\n",
    "problem2_model = LinearRegression()\n",
    "problem2_model.fit(problem2_X_train, problem2_y_train)\n",
    "\n",
    "from sklearn.metrics import mean_absolute_error\n",
    "y_pred = problem2_model.predict(problem2_X_test)\n",
    "problem2_mae = mean_absolute_error(problem2_y_test, y_pred)\n",
    "print(problem2_mae)\n",
    "import matplotlib.pyplot as plt\n",
    "import Utils\n",
    "\n",
    "residual = problem2_y_test - y_pred\n",
    "\n",
    "fig, ax = plt.subplots(figsize=(8, 6))\n",
    "Utils.plotEDF(Utils.makeEDF(residual), confidence_band=True, alpha=0.95)\n",
    "plt.scatter(y_pred, problem2_y_test)\n",
    "plt.show()"
   ]
  },
  {
   "cell_type": "markdown",
   "metadata": {
    "deletable": false,
    "lx_assignment_number": "0",
    "lx_assignment_type": "EXAM",
    "lx_assignment_type2print": "Exam",
    "lx_problem_cell_type": "PROBLEM",
    "lx_problem_number": "3",
    "lx_problem_points": "3"
   },
   "source": [
    "\n",
    "### Part 1. Do a residual analysis by creating a cell below \n",
    "\n",
    "You should make a plot of the residuals from the fitted model above and explain your findings between the two `---` lines in this cell.\n",
    "\n",
    "---\n",
    "\n",
    "Write your answers here...\n",
    "\n",
    "---"
   ]
  },
  {
   "cell_type": "code",
   "execution_count": 16,
   "metadata": {
    "deletable": false,
    "lx_assignment_number": "0",
    "lx_assignment_type": "EXAM",
    "lx_assignment_type2print": "Exam",
    "lx_problem_cell_type": "PROBLEM",
    "lx_problem_number": "3",
    "lx_problem_points": "2"
   },
   "outputs": [
    {
     "ename": "NameError",
     "evalue": "name 'XXX' is not defined",
     "output_type": "error",
     "traceback": [
      "\u001b[0;31m---------------------------------------------------------------------------\u001b[0m",
      "\u001b[0;31mNameError\u001b[0m                                 Traceback (most recent call last)",
      "\u001b[0;32m<ipython-input-16-80bc78b2b7b9>\u001b[0m in \u001b[0;36m<module>\u001b[0;34m()\u001b[0m\n\u001b[1;32m      5\u001b[0m \u001b[0;31m# show your working here\u001b[0m\u001b[0;34m\u001b[0m\u001b[0;34m\u001b[0m\u001b[0;34m\u001b[0m\u001b[0m\n\u001b[1;32m      6\u001b[0m \u001b[0;34m\u001b[0m\u001b[0m\n\u001b[0;32m----> 7\u001b[0;31m \u001b[0mXXX\u001b[0m\u001b[0;34m\u001b[0m\u001b[0;34m\u001b[0m\u001b[0m\n\u001b[0m\u001b[1;32m      8\u001b[0m \u001b[0mXXX\u001b[0m\u001b[0;34m\u001b[0m\u001b[0;34m\u001b[0m\u001b[0m\n\u001b[1;32m      9\u001b[0m \u001b[0mXXX\u001b[0m\u001b[0;34m\u001b[0m\u001b[0;34m\u001b[0m\u001b[0m\n",
      "\u001b[0;31mNameError\u001b[0m: name 'XXX' is not defined"
     ]
    }
   ],
   "source": [
    "### Part 2. Do a Wald Test of H0: beta_1 = 0\n",
    "\n",
    "# show your working here\n",
    "\n",
    "XXX\n",
    "XXX\n",
    "XXX\n",
    "\n",
    "# write down your conclusion by replacing XXX in next line\n",
    "# You will not get points for randomly guessing True/False\n",
    "RejectNullHypothesisForProblem4 = XXX"
   ]
  },
  {
   "cell_type": "markdown",
   "metadata": {
    "deletable": false,
    "lx_assignment_number": "0",
    "lx_assignment_type": "EXAM",
    "lx_assignment_type2print": "Exam",
    "lx_problem_cell_type": "PROBLEM",
    "lx_problem_number": "4",
    "lx_problem_points": "5"
   },
   "source": [
    "---\n",
    "## PROBLEM 4\n",
    "Maximum Points = 5"
   ]
  },
  {
   "cell_type": "markdown",
   "metadata": {
    "deletable": false,
    "lx_assignment_number": "0",
    "lx_assignment_type": "EXAM",
    "lx_assignment_type2print": "Exam",
    "lx_problem_cell_type": "PROBLEM",
    "lx_problem_number": "4",
    "lx_problem_points": "5"
   },
   "source": [
    "1. Take the string `prideAndPrejudiceFirstChapter` and split it by `' '` into a list of \"words\" and put this in `words`.\n",
    "2. Consider the list of words as a list of states, precisely as in the `wet` - `dry` Markov chain that we studied. We model this list of states using a Markov chain, as such there is an associated transition matrix $P$. The first four words are `['it', 'is', 'a', 'truth']`, if we think of this as a Markov chain  we will have transitions from `'it'` to `'is'` for instance, as such there is a $p_{\\textrm{'it','is'}}$, i.e. a transition probability from `'it'` to `'is'`.\n",
    "3. Your goal is to find the maximum likelihood estimate of $P$, recall from notebook 13 that for two states we have\n",
    "$$\n",
    "    \\widehat{p}_{0,0} = \\frac{n_{0,0}}{n_{0,0}+n_{0,1}} \n",
    "    \\quad \\text{and} \\quad \n",
    "    \\widehat{p}_{1,1} = \\frac{n_{1,1}}{n_{1,0}+n_{1,1}}\n",
    "$$ \n",
    "there is nothing special about two states, so for arbitrary number of states $i=1,\\ldots,N$ we have\n",
    "$$\n",
    "    \\widehat{p}_{i,j} = \\frac{n_{i,j}}{\\sum_{k=1}^N n_{i,k}} \n",
    "$$\n",
    "4. The order of the indices should be the same as the list `unique_words` i.e. the first word in that list corresponds to $i=0$, the second $i=1$ etc."
   ]
  },
  {
   "cell_type": "code",
   "execution_count": 8,
   "metadata": {
    "deletable": false,
    "lx_assignment_number": "0",
    "lx_assignment_type": "EXAM",
    "lx_assignment_type2print": "Exam",
    "lx_problem_cell_type": "PROBLEM",
    "lx_problem_number": "4",
    "lx_problem_points": "5"
   },
   "outputs": [],
   "source": [
    "# REQUIRED-CELL\n",
    "# DO NOT MODIFY this cell\n",
    "# Evaluate this cell before trying this PROBLEM so that the required functions and variables are loaded\n",
    "def makeFreqDict(myDataList):\n",
    "    '''Make a frequency mapping out of a list of data.\n",
    "    \n",
    "    Param myDataList, a list of data.\n",
    "    Return a dictionary mapping each unique data value to its frequency count.'''\n",
    "       \n",
    "    freqDict = {} # start with an empty dictionary\n",
    "        \n",
    "    for res in myDataList:\n",
    "        \n",
    "        if res in freqDict: # the data value already exists as a key\n",
    "                freqDict[res] = freqDict[res] + 1 # add 1 to the count using sage integers\n",
    "        else: # the data value does not exist as a key value\n",
    "            freqDict[res] = 1 # add a new key-value pair for this new data value, frequency 1\n",
    "        \n",
    "    return freqDict # return the dictionary created\n",
    "\n",
    "# end of makeFreqDict(...)\n",
    "\n",
    "prideAndPrejudiceFirstChapter = '''It is a truth universally acknowledged, that a single man in\n",
    "      possession of a good fortune, must be in want of a wife.\n",
    "\n",
    "      However little known the feelings or views of such a man may be\n",
    "      on his first entering a neighbourhood, this truth is so well\n",
    "      fixed in the minds of the surrounding families, that he is\n",
    "      considered the rightful property of some one or other of their\n",
    "      daughters.\n",
    "\n",
    "      “My dear Mr. Bennet,” said his lady to him one day, “have you\n",
    "      heard that Netherfield Park is let at last?”\n",
    "\n",
    "      Mr. Bennet replied that he had not.\n",
    "\n",
    "      “But it is,” returned she; “for Mrs. Long has just been here, and\n",
    "      she told me all about it.”\n",
    "\n",
    "      Mr. Bennet made no answer.\n",
    "\n",
    "      “Do you not want to know who has taken it?” cried his wife\n",
    "      impatiently.\n",
    "\n",
    "      “_You_ want to tell me, and I have no objection to hearing it.”\n",
    "\n",
    "      This was invitation enough.\n",
    "\n",
    "      “Why, my dear, you must know, Mrs. Long says that Netherfield is\n",
    "      taken by a young man of large fortune from the north of England;\n",
    "      that he came down on Monday in a chaise and four to see the\n",
    "      place, and was so much delighted with it, that he agreed with Mr.\n",
    "      Morris immediately; that he is to take possession before\n",
    "      Michaelmas, and some of his servants are to be in the house by\n",
    "      the end of next week.”\n",
    "\n",
    "      “What is his name?”\n",
    "\n",
    "      “Bingley.”\n",
    "\n",
    "      “Is he married or single?”\n",
    "\n",
    "      “Oh! Single, my dear, to be sure! A single man of large fortune;\n",
    "      four or five thousand a year. What a fine thing for our girls!”\n",
    "\n",
    "      “How so? How can it affect them?”\n",
    "\n",
    "      “My dear Mr. Bennet,” replied his wife, “how can you be so\n",
    "      tiresome! You must know that I am thinking of his marrying one of\n",
    "      them.”\n",
    "\n",
    "      “Is that his design in settling here?”\n",
    "\n",
    "      “Design! Nonsense, how can you talk so! But it is very likely\n",
    "      that he _may_ fall in love with one of them, and therefore you\n",
    "      must visit him as soon as he comes.”\n",
    "\n",
    "      “I see no occasion for that. You and the girls may go, or you may\n",
    "      send them by themselves, which perhaps will be still better, for\n",
    "      as you are as handsome as any of them, Mr. Bingley may like you\n",
    "      the best of the party.”\n",
    "\n",
    "      “My dear, you flatter me. I certainly _have_ had my share of\n",
    "      beauty, but I do not pretend to be anything extraordinary now.\n",
    "      When a woman has five grown-up daughters, she ought to give over\n",
    "      thinking of her own beauty.”\n",
    "\n",
    "      “In such cases, a woman has not often much beauty to think of.”\n",
    "\n",
    "      “But, my dear, you must indeed go and see Mr. Bingley when he\n",
    "      comes into the neighbourhood.”\n",
    "\n",
    "      “It is more than I engage for, I assure you.”\n",
    "\n",
    "      “But consider your daughters. Only think what an establishment it\n",
    "      would be for one of them. Sir William and Lady Lucas are\n",
    "      determined to go, merely on that account, for in general, you\n",
    "      know, they visit no newcomers. Indeed you must go, for it will be\n",
    "      impossible for _us_ to visit him if you do not.”\n",
    "\n",
    "      “You are over-scrupulous, surely. I dare say Mr. Bingley will be\n",
    "      very glad to see you; and I will send a few lines by you to\n",
    "      assure him of my hearty consent to his marrying whichever he\n",
    "      chooses of the girls; though I must throw in a good word for my\n",
    "      little Lizzy.”\n",
    "\n",
    "      “I desire you will do no such thing. Lizzy is not a bit better\n",
    "      than the others; and I am sure she is not half so handsome as\n",
    "      Jane, nor half so good-humoured as Lydia. But you are always\n",
    "      giving _her_ the preference.”\n",
    "\n",
    "      “They have none of them much to recommend them,” replied he;\n",
    "      “they are all silly and ignorant like other girls; but Lizzy has\n",
    "      something more of quickness than her sisters.”\n",
    "\n",
    "      “Mr. Bennet, how can you abuse your own children in such a way?\n",
    "      You take delight in vexing me. You have no compassion for my poor\n",
    "      nerves.”\n",
    "\n",
    "      “You mistake me, my dear. I have a high respect for your nerves.\n",
    "      They are my old friends. I have heard you mention them with\n",
    "      consideration these last twenty years at least.”\n",
    "\n",
    "      “Ah, you do not know what I suffer.”\n",
    "\n",
    "      “But I hope you will get over it, and live to see many young men\n",
    "      of four thousand a year come into the neighbourhood.”\n",
    "\n",
    "      “It will be no use to us, if twenty such should come, since you\n",
    "      will not visit them.”\n",
    "\n",
    "      “Depend upon it, my dear, that when there are twenty, I will\n",
    "      visit them all.”\n",
    "\n",
    "      Mr. Bennet was so odd a mixture of quick parts, sarcastic humour,\n",
    "      reserve, and caprice, that the experience of three-and-twenty\n",
    "      years had been insufficient to make his wife understand his\n",
    "      character. _Her_ mind was less difficult to develop. She was a\n",
    "      woman of mean understanding, little information, and uncertain\n",
    "      temper. When she was discontented, she fancied herself nervous.\n",
    "      The business of her life was to get her daughters married; its\n",
    "      solace was visiting and news.'''.lower()\n",
    "\n",
    "import re\n",
    "subs = '''_;.,”“?!'''\n",
    "for sub in subs:\n",
    "    prideAndPrejudiceFirstChapter = prideAndPrejudiceFirstChapter.replace(sub,' ')\n",
    "prideAndPrejudiceFirstChapter = re.sub('\\\\s+', ' ',prideAndPrejudiceFirstChapter).strip()"
   ]
  },
  {
   "cell_type": "code",
   "execution_count": 10,
   "metadata": {
    "deletable": false,
    "lx_assignment_number": "0",
    "lx_assignment_type": "EXAM",
    "lx_assignment_type2print": "Exam",
    "lx_problem_cell_type": "PROBLEM",
    "lx_problem_number": "4",
    "lx_problem_points": "5"
   },
   "outputs": [
    {
     "name": "stdout",
     "output_type": "stream",
     "text": [
      "['it', 'is', 'a', 'truth', 'universally', 'acknowledged', 'that', 'a', 'single', 'man', 'in', 'possession', 'of', 'a', 'good', 'fortune', 'must', 'be', 'in', 'want', 'of', 'a', 'wife', 'however', 'little', 'known', 'the', 'feelings', 'or', 'views', 'of', 'such', 'a', 'man', 'may', 'be', 'on', 'his', 'first', 'entering', 'a', 'neighbourhood', 'this', 'truth', 'is', 'so', 'well', 'fixed', 'in', 'the', 'minds', 'of', 'the', 'surrounding', 'families', 'that', 'he', 'is', 'considered', 'the', 'rightful', 'property', 'of', 'some', 'one', 'or', 'other', 'of', 'their', 'daughters', 'my', 'dear', 'mr', 'bennet', 'said', 'his', 'lady', 'to', 'him', 'one', 'day', 'have', 'you', 'heard', 'that', 'netherfield', 'park', 'is', 'let', 'at', 'last', 'mr', 'bennet', 'replied', 'that', 'he', 'had', 'not', 'but', 'it', 'is', 'returned', 'she', 'for', 'mrs', 'long', 'has', 'just', 'been', 'here', 'and', 'she', 'told', 'me', 'all', 'about', 'it', 'mr', 'bennet', 'made', 'no', 'answer', 'do', 'you', 'not', 'want', 'to', 'know', 'who', 'has', 'taken', 'it', 'cried', 'his', 'wife', 'impatiently', 'you', 'want', 'to', 'tell', 'me', 'and', 'i', 'have', 'no', 'objection', 'to', 'hearing', 'it', 'this', 'was', 'invitation', 'enough', 'why', 'my', 'dear', 'you', 'must', 'know', 'mrs', 'long', 'says', 'that', 'netherfield', 'is', 'taken', 'by', 'a', 'young', 'man', 'of', 'large', 'fortune', 'from', 'the', 'north', 'of', 'england', 'that', 'he', 'came', 'down', 'on', 'monday', 'in', 'a', 'chaise', 'and', 'four', 'to', 'see', 'the', 'place', 'and', 'was', 'so', 'much', 'delighted', 'with', 'it', 'that', 'he', 'agreed', 'with', 'mr', 'morris', 'immediately', 'that', 'he', 'is', 'to', 'take', 'possession', 'before', 'michaelmas', 'and', 'some', 'of', 'his', 'servants', 'are', 'to', 'be', 'in', 'the', 'house', 'by', 'the', 'end', 'of', 'next', 'week', 'what', 'is', 'his', 'name', 'bingley', 'is', 'he', 'married', 'or', 'single', 'oh', 'single', 'my', 'dear', 'to', 'be', 'sure', 'a', 'single', 'man', 'of', 'large', 'fortune', 'four', 'or', 'five', 'thousand', 'a', 'year', 'what', 'a', 'fine', 'thing', 'for', 'our', 'girls', 'how', 'so', 'how', 'can', 'it', 'affect', 'them', 'my', 'dear', 'mr', 'bennet', 'replied', 'his', 'wife', 'how', 'can', 'you', 'be', 'so', 'tiresome', 'you', 'must', 'know', 'that', 'i', 'am', 'thinking', 'of', 'his', 'marrying', 'one', 'of', 'them', 'is', 'that', 'his', 'design', 'in', 'settling', 'here', 'design', 'nonsense', 'how', 'can', 'you', 'talk', 'so', 'but', 'it', 'is', 'very', 'likely', 'that', 'he', 'may', 'fall', 'in', 'love', 'with', 'one', 'of', 'them', 'and', 'therefore', 'you', 'must', 'visit', 'him', 'as', 'soon', 'as', 'he', 'comes', 'i', 'see', 'no', 'occasion', 'for', 'that', 'you', 'and', 'the', 'girls', 'may', 'go', 'or', 'you', 'may', 'send', 'them', 'by', 'themselves', 'which', 'perhaps', 'will', 'be', 'still', 'better', 'for', 'as', 'you', 'are', 'as', 'handsome', 'as', 'any', 'of', 'them', 'mr', 'bingley', 'may', 'like', 'you', 'the', 'best', 'of', 'the', 'party', 'my', 'dear', 'you', 'flatter', 'me', 'i', 'certainly', 'have', 'had', 'my', 'share', 'of', 'beauty', 'but', 'i', 'do', 'not', 'pretend', 'to', 'be', 'anything', 'extraordinary', 'now', 'when', 'a', 'woman', 'has', 'five', 'grown-up', 'daughters', 'she', 'ought', 'to', 'give', 'over', 'thinking', 'of', 'her', 'own', 'beauty', 'in', 'such', 'cases', 'a', 'woman', 'has', 'not', 'often', 'much', 'beauty', 'to', 'think', 'of', 'but', 'my', 'dear', 'you', 'must', 'indeed', 'go', 'and', 'see', 'mr', 'bingley', 'when', 'he', 'comes', 'into', 'the', 'neighbourhood', 'it', 'is', 'more', 'than', 'i', 'engage', 'for', 'i', 'assure', 'you', 'but', 'consider', 'your', 'daughters', 'only', 'think', 'what', 'an', 'establishment', 'it', 'would', 'be', 'for', 'one', 'of', 'them', 'sir', 'william', 'and', 'lady', 'lucas', 'are', 'determined', 'to', 'go', 'merely', 'on', 'that', 'account', 'for', 'in', 'general', 'you', 'know', 'they', 'visit', 'no', 'newcomers', 'indeed', 'you', 'must', 'go', 'for', 'it', 'will', 'be', 'impossible', 'for', 'us', 'to', 'visit', 'him', 'if', 'you', 'do', 'not', 'you', 'are', 'over-scrupulous', 'surely', 'i', 'dare', 'say', 'mr', 'bingley', 'will', 'be', 'very', 'glad', 'to', 'see', 'you', 'and', 'i', 'will', 'send', 'a', 'few', 'lines', 'by', 'you', 'to', 'assure', 'him', 'of', 'my', 'hearty', 'consent', 'to', 'his', 'marrying', 'whichever', 'he', 'chooses', 'of', 'the', 'girls', 'though', 'i', 'must', 'throw', 'in', 'a', 'good', 'word', 'for', 'my', 'little', 'lizzy', 'i', 'desire', 'you', 'will', 'do', 'no', 'such', 'thing', 'lizzy', 'is', 'not', 'a', 'bit', 'better', 'than', 'the', 'others', 'and', 'i', 'am', 'sure', 'she', 'is', 'not', 'half', 'so', 'handsome', 'as', 'jane', 'nor', 'half', 'so', 'good-humoured', 'as', 'lydia', 'but', 'you', 'are', 'always', 'giving', 'her', 'the', 'preference', 'they', 'have', 'none', 'of', 'them', 'much', 'to', 'recommend', 'them', 'replied', 'he', 'they', 'are', 'all', 'silly', 'and', 'ignorant', 'like', 'other', 'girls', 'but', 'lizzy', 'has', 'something', 'more', 'of', 'quickness', 'than', 'her', 'sisters', 'mr', 'bennet', 'how', 'can', 'you', 'abuse', 'your', 'own', 'children', 'in', 'such', 'a', 'way', 'you', 'take', 'delight', 'in', 'vexing', 'me', 'you', 'have', 'no', 'compassion', 'for', 'my', 'poor', 'nerves', 'you', 'mistake', 'me', 'my', 'dear', 'i', 'have', 'a', 'high', 'respect', 'for', 'your', 'nerves', 'they', 'are', 'my', 'old', 'friends', 'i', 'have', 'heard', 'you', 'mention', 'them', 'with', 'consideration', 'these', 'last', 'twenty', 'years', 'at', 'least', 'ah', 'you', 'do', 'not', 'know', 'what', 'i', 'suffer', 'but', 'i', 'hope', 'you', 'will', 'get', 'over', 'it', 'and', 'live', 'to', 'see', 'many', 'young', 'men', 'of', 'four', 'thousand', 'a', 'year', 'come', 'into', 'the', 'neighbourhood', 'it', 'will', 'be', 'no', 'use', 'to', 'us', 'if', 'twenty', 'such', 'should', 'come', 'since', 'you', 'will', 'not', 'visit', 'them', 'depend', 'upon', 'it', 'my', 'dear', 'that', 'when', 'there', 'are', 'twenty', 'i', 'will', 'visit', 'them', 'all', 'mr', 'bennet', 'was', 'so', 'odd', 'a', 'mixture', 'of', 'quick', 'parts', 'sarcastic', 'humour', 'reserve', 'and', 'caprice', 'that', 'the', 'experience', 'of', 'three-and-twenty', 'years', 'had', 'been', 'insufficient', 'to', 'make', 'his', 'wife', 'understand', 'his', 'character', 'her', 'mind', 'was', 'less', 'difficult', 'to', 'develop', 'she', 'was', 'a', 'woman', 'of', 'mean', 'understanding', 'little', 'information', 'and', 'uncertain', 'temper', 'when', 'she', 'was', 'discontented', 'she', 'fancied', 'herself', 'nervous', 'the', 'business', 'of', 'her', 'life', 'was', 'to', 'get', 'her', 'daughters', 'married', 'its', 'solace', 'was', 'visiting', 'and', 'news']\n"
     ]
    }
   ],
   "source": [
    "# Part 1, find the words by splitting prideAndPrejudiceFirstChapter on ' ',\n",
    "# Make sure you ran the cell above before you try this\n",
    "words = prideAndPrejudiceFirstChapter.split(' ')\n",
    "unique_words = sorted(set(words)) # The unique words\n",
    "n_words = len(unique_words) # The number of unique words"
   ]
  },
  {
   "cell_type": "code",
   "execution_count": 19,
   "metadata": {
    "deletable": false,
    "lx_assignment_number": "0",
    "lx_assignment_type": "EXAM",
    "lx_assignment_type2print": "Exam",
    "lx_problem_cell_type": "PROBLEM",
    "lx_problem_number": "4",
    "lx_problem_points": "5"
   },
   "outputs": [
    {
     "name": "stdout",
     "output_type": "stream",
     "text": [
      "{'a': 0, 'about': 1, 'abuse': 2, 'account': 3, 'acknowledged': 4, 'affect': 5, 'agreed': 6, 'ah': 7, 'all': 8, 'always': 9, 'am': 10, 'an': 11, 'and': 12, 'answer': 13, 'any': 14, 'anything': 15, 'are': 16, 'as': 17, 'assure': 18, 'at': 19, 'be': 20, 'beauty': 21, 'been': 22, 'before': 23, 'bennet': 24, 'best': 25, 'better': 26, 'bingley': 27, 'bit': 28, 'business': 29, 'but': 30, 'by': 31, 'came': 32, 'can': 33, 'caprice': 34, 'cases': 35, 'certainly': 36, 'chaise': 37, 'character': 38, 'children': 39, 'chooses': 40, 'come': 41, 'comes': 42, 'compassion': 43, 'consent': 44, 'consider': 45, 'consideration': 46, 'considered': 47, 'cried': 48, 'dare': 49, 'daughters': 50, 'day': 51, 'dear': 52, 'delight': 53, 'delighted': 54, 'depend': 55, 'design': 56, 'desire': 57, 'determined': 58, 'develop': 59, 'difficult': 60, 'discontented': 61, 'do': 62, 'down': 63, 'end': 64, 'engage': 65, 'england': 66, 'enough': 67, 'entering': 68, 'establishment': 69, 'experience': 70, 'extraordinary': 71, 'fall': 72, 'families': 73, 'fancied': 74, 'feelings': 75, 'few': 76, 'fine': 77, 'first': 78, 'five': 79, 'fixed': 80, 'flatter': 81, 'for': 82, 'fortune': 83, 'four': 84, 'friends': 85, 'from': 86, 'general': 87, 'get': 88, 'girls': 89, 'give': 90, 'giving': 91, 'glad': 92, 'go': 93, 'good': 94, 'good-humoured': 95, 'grown-up': 96, 'had': 97, 'half': 98, 'handsome': 99, 'has': 100, 'have': 101, 'he': 102, 'heard': 103, 'hearing': 104, 'hearty': 105, 'her': 106, 'here': 107, 'herself': 108, 'high': 109, 'him': 110, 'his': 111, 'hope': 112, 'house': 113, 'how': 114, 'however': 115, 'humour': 116, 'i': 117, 'if': 118, 'ignorant': 119, 'immediately': 120, 'impatiently': 121, 'impossible': 122, 'in': 123, 'indeed': 124, 'information': 125, 'insufficient': 126, 'into': 127, 'invitation': 128, 'is': 129, 'it': 130, 'its': 131, 'jane': 132, 'just': 133, 'know': 134, 'known': 135, 'lady': 136, 'large': 137, 'last': 138, 'least': 139, 'less': 140, 'let': 141, 'life': 142, 'like': 143, 'likely': 144, 'lines': 145, 'little': 146, 'live': 147, 'lizzy': 148, 'long': 149, 'love': 150, 'lucas': 151, 'lydia': 152, 'made': 153, 'make': 154, 'man': 155, 'many': 156, 'married': 157, 'marrying': 158, 'may': 159, 'me': 160, 'mean': 161, 'men': 162, 'mention': 163, 'merely': 164, 'michaelmas': 165, 'mind': 166, 'minds': 167, 'mistake': 168, 'mixture': 169, 'monday': 170, 'more': 171, 'morris': 172, 'mr': 173, 'mrs': 174, 'much': 175, 'must': 176, 'my': 177, 'name': 178, 'neighbourhood': 179, 'nerves': 180, 'nervous': 181, 'netherfield': 182, 'newcomers': 183, 'news': 184, 'next': 185, 'no': 186, 'none': 187, 'nonsense': 188, 'nor': 189, 'north': 190, 'not': 191, 'now': 192, 'objection': 193, 'occasion': 194, 'odd': 195, 'of': 196, 'often': 197, 'oh': 198, 'old': 199, 'on': 200, 'one': 201, 'only': 202, 'or': 203, 'other': 204, 'others': 205, 'ought': 206, 'our': 207, 'over': 208, 'over-scrupulous': 209, 'own': 210, 'park': 211, 'parts': 212, 'party': 213, 'perhaps': 214, 'place': 215, 'poor': 216, 'possession': 217, 'preference': 218, 'pretend': 219, 'property': 220, 'quick': 221, 'quickness': 222, 'recommend': 223, 'replied': 224, 'reserve': 225, 'respect': 226, 'returned': 227, 'rightful': 228, 'said': 229, 'sarcastic': 230, 'say': 231, 'says': 232, 'see': 233, 'send': 234, 'servants': 235, 'settling': 236, 'share': 237, 'she': 238, 'should': 239, 'silly': 240, 'since': 241, 'single': 242, 'sir': 243, 'sisters': 244, 'so': 245, 'solace': 246, 'some': 247, 'something': 248, 'soon': 249, 'still': 250, 'such': 251, 'suffer': 252, 'sure': 253, 'surely': 254, 'surrounding': 255, 'take': 256, 'taken': 257, 'talk': 258, 'tell': 259, 'temper': 260, 'than': 261, 'that': 262, 'the': 263, 'their': 264, 'them': 265, 'themselves': 266, 'there': 267, 'therefore': 268, 'these': 269, 'they': 270, 'thing': 271, 'think': 272, 'thinking': 273, 'this': 274, 'though': 275, 'thousand': 276, 'three-and-twenty': 277, 'throw': 278, 'tiresome': 279, 'to': 280, 'told': 281, 'truth': 282, 'twenty': 283, 'uncertain': 284, 'understand': 285, 'understanding': 286, 'universally': 287, 'upon': 288, 'us': 289, 'use': 290, 'very': 291, 'vexing': 292, 'views': 293, 'visit': 294, 'visiting': 295, 'want': 296, 'was': 297, 'way': 298, 'week': 299, 'well': 300, 'what': 301, 'when': 302, 'which': 303, 'whichever': 304, 'who': 305, 'why': 306, 'wife': 307, 'will': 308, 'william': 309, 'with': 310, 'woman': 311, 'word': 312, 'would': 313, 'year': 314, 'years': 315, 'you': 316, 'young': 317}\n"
     ]
    }
   ],
   "source": [
    "# Part 2, count the different transitions\n",
    "transitions = []\n",
    "for i in range(len(words)):\n",
    "    if i != len(words) - 1:\n",
    "        transitions.append((words[i], words[i+1])) # A list containing tuples ex: ('it','is') of all transitions in the text\n",
    "\n",
    "transition_counts = makeFreqDict(transitions) # A dictionary that counts the number of each transition \n",
    "\n",
    "# ex: ('it','is'):4\n",
    "indexToWord = {}\n",
    "for n in range(len(unique_words)):\n",
    "    if n != len(unique_words) - 1:\n",
    "        indexToWord[n] = unique_words[n] # A dictionary that maps the n-1 number to the n:th unique_word, ex: 0:'a'\n",
    "\n",
    "wordToIndex = {}\n",
    "for n in range(len(unique_words)):\n",
    "    if n != len(unique_words) - 1:\n",
    "        wordToIndex[unique_words[n]] = n # The inverse function of indexToWord, "
   ]
  },
  {
   "cell_type": "code",
   "execution_count": 42,
   "metadata": {
    "deletable": false,
    "lx_assignment_number": "0",
    "lx_assignment_type": "EXAM",
    "lx_assignment_type2print": "Exam",
    "lx_problem_cell_type": "PROBLEM",
    "lx_problem_number": "4",
    "lx_problem_points": "5"
   },
   "outputs": [
    {
     "name": "stdout",
     "output_type": "stream",
     "text": [
      "[[0.         0.         0.         ... 0.         0.04761905 0.        ]\n",
      " [0.         0.         0.         ... 0.         0.         0.        ]\n",
      " [0.         0.         0.         ... 0.         0.         0.        ]\n",
      " ...\n",
      " [0.         0.         0.03225806 ... 0.         0.         0.        ]\n",
      " [0.         0.         0.         ... 0.         0.         0.        ]\n",
      " [0.         0.         0.         ... 0.         0.         0.        ]]\n",
      "0.0\n"
     ]
    }
   ],
   "source": [
    "# Part 3, finding the maximum likelihood estimate of the transition matrix\n",
    "import numpy as np\n",
    "\n",
    "transition_matrix = np.zeros(shape=(n_words, n_words)) # a numpy array of size (n_words,n_words)\n",
    "\n",
    "for i in range(len(indexToWord)):\n",
    "    trans_count = 0\n",
    "    for j in transition_counts.items():\n",
    "        if indexToWord[i] == j[0][0]:\n",
    "            trans_count += j[1]\n",
    "    for j in range(len(indexToWord)):\n",
    "        tmp = (indexToWord[i], indexToWord[j])\n",
    "        if transition_counts.get(tmp):\n",
    "            transition_matrix[i][j] = transition_counts[tmp] / trans_count\n",
    "        \n",
    "\n",
    "print(transition_matrix)\n",
    "\n",
    "# The transition matrix should be ordered in such a way that\n",
    "print(transition_matrix[wordToIndex['is'],wordToIndex['always']])\n",
    "\n",
    "# Make sure that the transition_matrix does not contain np.nan from division by zero for instance"
   ]
  },
  {
   "cell_type": "markdown",
   "metadata": {
    "deletable": false,
    "lx_assignment_number": "0",
    "lx_assignment_type": "EXAM",
    "lx_assignment_type2print": "Exam",
    "lx_problem_cell_type": "Test",
    "lx_problem_number": "4",
    "lx_problem_points": "5"
   },
   "source": [
    "---\n",
    "#### Local Test for PROBLEM 4\n",
    "Use the cell below to evaluate the feasibility of your answer."
   ]
  },
  {
   "cell_type": "code",
   "execution_count": 34,
   "metadata": {
    "deletable": false,
    "lx_assignment_number": "0",
    "lx_assignment_type": "EXAM",
    "lx_assignment_type2print": "Exam",
    "lx_problem_cell_type": "Test",
    "lx_problem_number": "4",
    "lx_problem_points": "5"
   },
   "outputs": [
    {
     "name": "stdout",
     "output_type": "stream",
     "text": [
      "a way you must be in the preference they are twenty such a truth is his marrying one day have you do not but it affect them depend upon it will do no such cases a good word for "
     ]
    },
    {
     "ename": "ValueError",
     "evalue": "probabilities do not sum to 1",
     "output_type": "error",
     "traceback": [
      "\u001b[1;31m---------------------------------------------------------------------------\u001b[0m",
      "\u001b[1;31mValueError\u001b[0m                                Traceback (most recent call last)",
      "Cell \u001b[1;32mIn[34], line 9\u001b[0m\n\u001b[0;32m      7\u001b[0m current_pos \u001b[38;5;241m=\u001b[39m start\n\u001b[0;32m      8\u001b[0m \u001b[38;5;28;01mfor\u001b[39;00m i \u001b[38;5;129;01min\u001b[39;00m \u001b[38;5;28mrange\u001b[39m(\u001b[38;5;241m100\u001b[39m):\n\u001b[1;32m----> 9\u001b[0m     random_word_index \u001b[38;5;241m=\u001b[39m \u001b[43mnp\u001b[49m\u001b[38;5;241;43m.\u001b[39;49m\u001b[43mrandom\u001b[49m\u001b[38;5;241;43m.\u001b[39;49m\u001b[43mchoice\u001b[49m\u001b[43m(\u001b[49m\u001b[38;5;28;43mrange\u001b[39;49m\u001b[43m(\u001b[49m\u001b[43mn_words\u001b[49m\u001b[43m)\u001b[49m\u001b[43m,\u001b[49m\u001b[43mp\u001b[49m\u001b[38;5;241;43m=\u001b[39;49m\u001b[43mcurrent_pos\u001b[49m\u001b[38;5;241;43m.\u001b[39;49m\u001b[43mreshape\u001b[49m\u001b[43m(\u001b[49m\u001b[38;5;241;43m-\u001b[39;49m\u001b[38;5;241;43m1\u001b[39;49m\u001b[43m)\u001b[49m\u001b[43m)\u001b[49m\n\u001b[0;32m     10\u001b[0m     current_pos \u001b[38;5;241m=\u001b[39m np\u001b[38;5;241m.\u001b[39mzeros_like(start)\n\u001b[0;32m     11\u001b[0m     current_pos[random_word_index] \u001b[38;5;241m=\u001b[39m \u001b[38;5;241m1\u001b[39m\n",
      "File \u001b[1;32mmtrand.pyx:958\u001b[0m, in \u001b[0;36mnumpy.random.mtrand.RandomState.choice\u001b[1;34m()\u001b[0m\n",
      "\u001b[1;31mValueError\u001b[0m: probabilities do not sum to 1"
     ]
    }
   ],
   "source": [
    "# Once you have created all your functions, you can make a small test here to see\n",
    "# what would be generated from your model.\n",
    "\n",
    "start = np.zeros(shape=(n_words,1))\n",
    "start[0,0] = 1\n",
    "\n",
    "current_pos = start\n",
    "for i in range(100):\n",
    "    random_word_index = np.random.choice(range(n_words),p=current_pos.reshape(-1))\n",
    "    current_pos = np.zeros_like(start)\n",
    "    current_pos[random_word_index] = 1\n",
    "    print(indexToWord[random_word_index],end=' ')\n",
    "    current_pos = (current_pos.T@transition_matrix).T"
   ]
  },
  {
   "cell_type": "markdown",
   "metadata": {
    "deletable": false,
    "lx_assignment_number": "0",
    "lx_assignment_type": "EXAM",
    "lx_assignment_type2print": "Exam",
    "lx_problem_cell_type": "PROBLEM",
    "lx_problem_number": "5",
    "lx_problem_points": "5"
   },
   "source": [
    "---\n",
    "## PROBLEM 5\n",
    "Maximum Points = 5"
   ]
  },
  {
   "cell_type": "markdown",
   "metadata": {
    "deletable": false,
    "lx_assignment_number": "0",
    "lx_assignment_type": "EXAM",
    "lx_assignment_type2print": "Exam",
    "lx_problem_cell_type": "PROBLEM",
    "lx_problem_number": "5",
    "lx_problem_points": "5"
   },
   "source": [
    "\n",
    "1. [1p] Draw a uniform random point $X$ on the surface of the unit sphere in $\\mathbb{R}^d$. What is the variance of $X_1$ (the first coordinate)? Solve this using pen and paper, then fill in the answer below in `variance_x1_problem7`.\n",
    "2. [1p] How large must $\\epsilon$ be for $99\\%$ of the volume of a $d$-dimensional unit-radius ball to lie in the shell of $\\epsilon$-thickness at the surface of the ball?\n",
    "3. [3p] The volume of the unit ball is given by\n",
    "$$\n",
    "    V(d) = \\frac{2 \\pi^{\\frac{d}{2}}}{d \\Gamma(\\frac{d}{2})} = \\frac{ \\pi^{\\frac{d}{2}}}{ (\\frac{d}{2})!}\n",
    "$$\n",
    "What function of $d$ would the radius need to be for a ball or radius $r$ to have approximately constant volume as a function of $d$? Hint use Stirlings formula $n! \\approx (n/e)^n$."
   ]
  },
  {
   "cell_type": "code",
   "execution_count": 30,
   "metadata": {
    "deletable": false,
    "lx_assignment_number": "0",
    "lx_assignment_type": "EXAM",
    "lx_assignment_type2print": "Exam",
    "lx_problem_cell_type": "PROBLEM",
    "lx_problem_number": "5",
    "lx_problem_points": "1"
   },
   "outputs": [
    {
     "ename": "NameError",
     "evalue": "name 'XXX' is not defined",
     "output_type": "error",
     "traceback": [
      "\u001b[0;31m---------------------------------------------------------------------------\u001b[0m",
      "\u001b[0;31mNameError\u001b[0m                                 Traceback (most recent call last)",
      "\u001b[0;32m<ipython-input-30-6f2e8632b5a4>\u001b[0m in \u001b[0;36m<module>\u001b[0;34m()\u001b[0m\n\u001b[1;32m      3\u001b[0m \u001b[0md\u001b[0m \u001b[0;34m=\u001b[0m \u001b[0mvar\u001b[0m\u001b[0;34m(\u001b[0m\u001b[0;34m'd'\u001b[0m\u001b[0;34m)\u001b[0m\u001b[0;34m\u001b[0m\u001b[0;34m\u001b[0m\u001b[0m\n\u001b[1;32m      4\u001b[0m \u001b[0;31m# Use exact expression, use rationals and not 1.0\u001b[0m\u001b[0;34m\u001b[0m\u001b[0;34m\u001b[0m\u001b[0;34m\u001b[0m\u001b[0m\n\u001b[0;32m----> 5\u001b[0;31m \u001b[0mvariance_x1_problem7\u001b[0m \u001b[0;34m=\u001b[0m \u001b[0mXXX\u001b[0m \u001b[0;31m# Fill this as a function of d (sagemath symbolic expression)\u001b[0m\u001b[0;34m\u001b[0m\u001b[0;34m\u001b[0m\u001b[0m\n\u001b[0m",
      "\u001b[0;31mNameError\u001b[0m: name 'XXX' is not defined"
     ]
    }
   ],
   "source": [
    "# Part1, what is the value of the variance for problem 1\n",
    "d = var('d')\n",
    "# Use exact expression, use rationals and not 1.0\n",
    "variance_x1_problem7 = 1/3 # Fill this as a function of d (sagemath symbolic expression)"
   ]
  },
  {
   "cell_type": "code",
   "execution_count": 32,
   "metadata": {
    "deletable": false,
    "lx_assignment_number": "0",
    "lx_assignment_type": "EXAM",
    "lx_assignment_type2print": "Exam",
    "lx_problem_cell_type": "PROBLEM",
    "lx_problem_number": "5",
    "lx_problem_points": "1"
   },
   "outputs": [
    {
     "ename": "NameError",
     "evalue": "name 'XXX' is not defined",
     "output_type": "error",
     "traceback": [
      "\u001b[0;31m---------------------------------------------------------------------------\u001b[0m",
      "\u001b[0;31mNameError\u001b[0m                                 Traceback (most recent call last)",
      "\u001b[0;32m<ipython-input-32-6d06378c32d6>\u001b[0m in \u001b[0;36m<module>\u001b[0;34m()\u001b[0m\n\u001b[1;32m      3\u001b[0m \u001b[0md\u001b[0m \u001b[0;34m=\u001b[0m \u001b[0mvar\u001b[0m\u001b[0;34m(\u001b[0m\u001b[0;34m'd'\u001b[0m\u001b[0;34m)\u001b[0m\u001b[0;34m\u001b[0m\u001b[0;34m\u001b[0m\u001b[0m\n\u001b[1;32m      4\u001b[0m \u001b[0;31m# Use exact expression, use rationals and not 1.0\u001b[0m\u001b[0;34m\u001b[0m\u001b[0;34m\u001b[0m\u001b[0;34m\u001b[0m\u001b[0m\n\u001b[0;32m----> 5\u001b[0;31m \u001b[0mepsilon\u001b[0m \u001b[0;34m=\u001b[0m \u001b[0mXXX\u001b[0m \u001b[0;31m# Fill this as a function of d (sagemath symbolic expression)\u001b[0m\u001b[0;34m\u001b[0m\u001b[0;34m\u001b[0m\u001b[0m\n\u001b[0m",
      "\u001b[0;31mNameError\u001b[0m: name 'XXX' is not defined"
     ]
    }
   ],
   "source": [
    "# Part 2, what is the value of epsilon for question 2\n",
    "d = var('d')\n",
    "# Use exact expression, use rationals and not 1.0\n",
    "epsilon = XXX # Fill this as a function of d (sagemath symbolic expression)"
   ]
  },
  {
   "cell_type": "code",
   "execution_count": 34,
   "metadata": {
    "deletable": false,
    "lx_assignment_number": "0",
    "lx_assignment_type": "EXAM",
    "lx_assignment_type2print": "Exam",
    "lx_problem_cell_type": "PROBLEM",
    "lx_problem_number": "5",
    "lx_problem_points": "3"
   },
   "outputs": [
    {
     "ename": "NameError",
     "evalue": "name 'XXX' is not defined",
     "output_type": "error",
     "traceback": [
      "\u001b[0;31m---------------------------------------------------------------------------\u001b[0m",
      "\u001b[0;31mNameError\u001b[0m                                 Traceback (most recent call last)",
      "\u001b[0;32m<ipython-input-34-7bdcff384dfb>\u001b[0m in \u001b[0;36m<module>\u001b[0;34m()\u001b[0m\n\u001b[1;32m      3\u001b[0m \u001b[0md\u001b[0m \u001b[0;34m=\u001b[0m \u001b[0mvar\u001b[0m\u001b[0;34m(\u001b[0m\u001b[0;34m'd'\u001b[0m\u001b[0;34m)\u001b[0m\u001b[0;34m\u001b[0m\u001b[0;34m\u001b[0m\u001b[0m\n\u001b[1;32m      4\u001b[0m \u001b[0;31m# Use exact expression, use rationals and not 1.0.\u001b[0m\u001b[0;34m\u001b[0m\u001b[0;34m\u001b[0m\u001b[0;34m\u001b[0m\u001b[0m\n\u001b[0;32m----> 5\u001b[0;31m \u001b[0mr\u001b[0m \u001b[0;34m=\u001b[0m \u001b[0mXXX\u001b[0m\u001b[0;34m\u001b[0m\u001b[0;34m\u001b[0m\u001b[0m\n\u001b[0m",
      "\u001b[0;31mNameError\u001b[0m: name 'XXX' is not defined"
     ]
    }
   ],
   "source": [
    "# Part 3, what is the radius from problem 3\n",
    "d = var('d')\n",
    "# Use exact expression, use rationals and not 1.0.\n",
    "r = XXX"
   ]
  },
  {
   "cell_type": "markdown",
   "metadata": {
    "deletable": false,
    "lx_assignment_number": "0",
    "lx_assignment_type": "EXAM",
    "lx_assignment_type2print": "Exam",
    "lx_problem_cell_type": "PROBLEM",
    "lx_problem_number": "6",
    "lx_problem_points": "5"
   },
   "source": [
    "---\n",
    "## PROBLEM 6\n",
    "Maximum Points = 5"
   ]
  },
  {
   "cell_type": "markdown",
   "metadata": {
    "deletable": false,
    "lx_assignment_number": "0",
    "lx_assignment_type": "EXAM",
    "lx_assignment_type2print": "Exam",
    "lx_problem_cell_type": "PROBLEM",
    "lx_problem_number": "6",
    "lx_problem_points": "5"
   },
   "source": [
    "\n",
    "Consider the data `X` and `y`, in the cell below. `X` denotes $20$ points in $\\mathbb{R}^2$ and `y` corresponds to the labels for these points, i.e. it is a classification problem.\n",
    "\n",
    "1. Implement the function `perceptron` by filling in `XXX`.\n",
    "2. Use your implemented `perceptron` function to compute a vector (numpy array) $\\hat w$ with shape `(3,1)` such that \n",
    "$$\n",
    "    (\\hat w \\cdot \\hat x_i) l_i > 0, \\quad \\forall i=1,\\ldots,20\n",
    "$$\n",
    "put your answer in `hat_w` below\n",
    "3. Use the vector $\\hat w$ that you just found and compute $r$ (put your result in `r`), finally use this to give an upper bound to the number of iterations needed for the perceptron algorithm to converge on this dataset, see the Theorem in notebook 15. Put the result in `iteration_bound`."
   ]
  },
  {
   "cell_type": "code",
   "execution_count": 26,
   "metadata": {
    "deletable": false,
    "lx_assignment_number": "0",
    "lx_assignment_type": "EXAM",
    "lx_assignment_type2print": "Exam",
    "lx_problem_cell_type": "PROBLEM",
    "lx_problem_number": "6",
    "lx_problem_points": "5"
   },
   "outputs": [],
   "source": [
    "\n",
    "X = np.array([[0.14774693918368506,0.8537253157278155],[-0.1755517430286779,0.8979710703337818],[0.5227216475286975,0.7448281947022451],[-0.5071170511153492,0.8002027400836075],[-0.39436968212400453,1.0177689414422981],[-0.3983065780966649,1.0443663197782966],[-0.08652771617599643,0.48036820824519255],[0.15352541170101042,0.6820807981911706],[-0.3303348532791869,1.120673883903539],[-0.2656220857139274,0.8526638282828739],[0.7259603693529442,0.25428467532034965],[0.4577253912481767,-0.2358809079980879],[0.9722462145222105,0.13128550836973255],[0.4089349951770505,-0.09503914544452634],[0.9718156747909192,0.3524307824261209],[1.2009353774940565,-0.25004126389987974],[1.271791635779178,-0.07571928320750206],[0.36784476124502913,-0.23743021661715671],[0.8918396050420891,-0.1029336332277948],[0.4501578013678095,-0.13188266835015783]])+np.array([10,0]).reshape(1,-1)\n",
    "y = np.array([1.0,1.0,1.0,1.0,1.0,1.0,1.0,1.0,1.0,1.0,-1.0,-1.0,-1.0,-1.0,-1.0,-1.0,-1.0,-1.0,-1.0,-1.0])"
   ]
  },
  {
   "cell_type": "code",
   "execution_count": 27,
   "metadata": {
    "deletable": false,
    "lx_assignment_number": "0",
    "lx_assignment_type": "EXAM",
    "lx_assignment_type2print": "Exam",
    "lx_problem_cell_type": "PROBLEM",
    "lx_problem_number": "6",
    "lx_problem_points": "3"
   },
   "outputs": [
    {
     "ename": "NameError",
     "evalue": "name 'XXX' is not defined",
     "output_type": "error",
     "traceback": [
      "\u001b[0;31m---------------------------------------------------------------------------\u001b[0m",
      "\u001b[0;31mNameError\u001b[0m                                 Traceback (most recent call last)",
      "\u001b[0;32m<ipython-input-27-af3724f5ebf0>\u001b[0m in \u001b[0;36m<module>\u001b[0;34m()\u001b[0m\n\u001b[1;32m      7\u001b[0m     \u001b[0;32mreturn\u001b[0m \u001b[0mw\u001b[0m \u001b[0;31m#Make sure that w has the shape described in the problem\u001b[0m\u001b[0;34m\u001b[0m\u001b[0;34m\u001b[0m\u001b[0m\n\u001b[1;32m      8\u001b[0m \u001b[0;34m\u001b[0m\u001b[0m\n\u001b[0;32m----> 9\u001b[0;31m \u001b[0mhat_w\u001b[0m \u001b[0;34m=\u001b[0m \u001b[0mXXX\u001b[0m\u001b[0;34m\u001b[0m\u001b[0;34m\u001b[0m\u001b[0m\n\u001b[0m",
      "\u001b[0;31mNameError\u001b[0m: name 'XXX' is not defined"
     ]
    }
   ],
   "source": [
    "# Part 1\n",
    "def perceptron(X_in,labels,max_iter=1000):\n",
    "    '''Runs the perceptron algorithm on X_in, labels, and does a maximum of max_iter updates'''\n",
    "    w = XXX\n",
    "    \n",
    "    return w #Make sure that w has the shape described in the problem\n",
    "\n",
    "hat_w = XXX"
   ]
  },
  {
   "cell_type": "code",
   "execution_count": 28,
   "metadata": {
    "deletable": false,
    "lx_assignment_number": "0",
    "lx_assignment_type": "EXAM",
    "lx_assignment_type2print": "Exam",
    "lx_problem_cell_type": "PROBLEM",
    "lx_problem_number": "6",
    "lx_problem_points": "2"
   },
   "outputs": [
    {
     "ename": "NameError",
     "evalue": "name 'XXX' is not defined",
     "output_type": "error",
     "traceback": [
      "\u001b[0;31m---------------------------------------------------------------------------\u001b[0m",
      "\u001b[0;31mNameError\u001b[0m                                 Traceback (most recent call last)",
      "\u001b[0;32m<ipython-input-28-e3abeb95c125>\u001b[0m in \u001b[0;36m<module>\u001b[0;34m()\u001b[0m\n\u001b[1;32m      2\u001b[0m \u001b[0;31m# Part 2\u001b[0m\u001b[0;34m\u001b[0m\u001b[0;34m\u001b[0m\u001b[0;34m\u001b[0m\u001b[0m\n\u001b[1;32m      3\u001b[0m \u001b[0;34m\u001b[0m\u001b[0m\n\u001b[0;32m----> 4\u001b[0;31m \u001b[0mr\u001b[0m \u001b[0;34m=\u001b[0m \u001b[0mXXX\u001b[0m\u001b[0;34m\u001b[0m\u001b[0;34m\u001b[0m\u001b[0m\n\u001b[0m\u001b[1;32m      5\u001b[0m \u001b[0;34m\u001b[0m\u001b[0m\n\u001b[1;32m      6\u001b[0m \u001b[0miteration_bound\u001b[0m \u001b[0;34m=\u001b[0m \u001b[0mXXX\u001b[0m\u001b[0;34m\u001b[0m\u001b[0;34m\u001b[0m\u001b[0m\n",
      "\u001b[0;31mNameError\u001b[0m: name 'XXX' is not defined"
     ]
    }
   ],
   "source": [
    "# Part 2\n",
    "\n",
    "r = XXX\n",
    "\n",
    "iteration_bound = XXX"
   ]
  },
  {
   "cell_type": "markdown",
   "metadata": {
    "deletable": false,
    "lx_assignment_number": "0",
    "lx_assignment_type": "EXAM",
    "lx_assignment_type2print": "Exam",
    "lx_problem_cell_type": "PROBLEM",
    "lx_problem_number": "7",
    "lx_problem_points": "5"
   },
   "source": [
    "---\n",
    "## PROBLEM 7\n",
    "Maximum Points = 5"
   ]
  },
  {
   "cell_type": "markdown",
   "metadata": {
    "deletable": false,
    "lx_assignment_number": "0",
    "lx_assignment_type": "EXAM",
    "lx_assignment_type2print": "Exam",
    "lx_problem_cell_type": "PROBLEM",
    "lx_problem_number": "7",
    "lx_problem_points": "5"
   },
   "source": [
    "\n",
    "Perform a bootstrap to find the plug-in estimate and 99% CI for the 95-th Percentile of the inter-EQ time in minutes.\n",
    "\n",
    "You just need to evaluate the next `REQUIRED-CELL` and replace `XXX` with the right expressions in the following cell.\n",
    "\n",
    "NOTE: If `data/earthquakes.csv` is not available and you get a file not found when evaluating the next `REQUIRED-CELL`, you can get the csv by `unzip` as follows:\n",
    "\n",
    "```\n",
    "%%sh\n",
    "cd data\n",
    "unzip earthquakes.csv.zip\n",
    "```"
   ]
  },
  {
   "cell_type": "code",
   "execution_count": 7,
   "metadata": {
    "deletable": false,
    "lx_assignment_number": "0",
    "lx_assignment_type": "EXAM",
    "lx_assignment_type2print": "Exam",
    "lx_problem_cell_type": "PROBLEM",
    "lx_problem_number": "7",
    "lx_problem_points": "5"
   },
   "outputs": [],
   "source": [
    "# REQUIRED-CELL\n",
    "# DO NOT MODIFY this cell \n",
    "# Evaluate this cell before trying this PROBLEM so that the required functions and variables are loaded\n",
    "\n",
    "import numpy as np\n",
    "from random import randint\n",
    "## Be Patient! - This will take more time, about a minute or so\n",
    "###############################################################################################\n",
    "def getLonLatMagDepTimes(NZEQCsvFileName):\n",
    "    '''returns longitude, latitude, magnitude, depth and the origin time as unix time\n",
    "    for each observed earthquake in the csv filr named NZEQCsvFileName'''\n",
    "    from datetime import datetime\n",
    "    import time\n",
    "    from dateutil.parser import parse\n",
    "    import numpy as np\n",
    "    \n",
    "    with open(NZEQCsvFileName) as f:\n",
    "        reader = f.read() \n",
    "        dataList = reader.split('\\n')\n",
    "        \n",
    "    myDataAccumulatorList =[]\n",
    "    for data in dataList[1:-1]:\n",
    "        dataRow = data.split(',')\n",
    "        myTimeString = dataRow[2] # origintime\n",
    "        # let's also grab longitude, latitude, magnitude, depth\n",
    "        myDataString = [dataRow[4],dataRow[5],dataRow[6],dataRow[7]]\n",
    "        try: \n",
    "            myTypedTime = time.mktime(parse(myTimeString).timetuple())\n",
    "            myFloatData = [float(x) for x in myDataString]\n",
    "            myFloatData.append(myTypedTime) # append the processed timestamp\n",
    "            myDataAccumulatorList.append(myFloatData)\n",
    "        except TypeError as e: # error handling for type incompatibilities\n",
    "            print ('Error:  Error is ', e)\n",
    "    #return np.array(myDataAccumulatorList)\n",
    "    return myDataAccumulatorList\n",
    "\n",
    "myProcessedList = getLonLatMagDepTimes('data/earthquakes.csv')\n",
    "\n",
    "def interQuakeTimes(quakeTimes):\n",
    "    '''Return a list inter-earthquake times in seconds from earthquake origin times\n",
    "    Date and time elements are expected to be in the 5th column of the array\n",
    "    Return a list of inter-quake times in seconds. NEEDS sorted quakeTimes Data'''\n",
    "    import numpy as np\n",
    "    retList = []\n",
    "    if len(quakeTimes) > 1:\n",
    "        retList = [quakeTimes[i]-quakeTimes[i-1] for i in range(1,len(quakeTimes))]\n",
    "    #return np.array(retList)\n",
    "    return retList\n",
    "\n",
    "def makeBootstrappedConfidenceIntervalOfStatisticT(dataset, statT, alpha, B=100):\n",
    "    '''make a bootstrapped 1-alpha confidence interval for ANY given statistic statT \n",
    "    from the dataset with B Bootstrap replications for 0 < alpha < 1, and \n",
    "    return lower CI, upper CI, bootstrapped_samples '''\n",
    "    n = len(dataset) # sample size of the original dataset\n",
    "    bootstrappedStatisticTs=[] # list to store the statistic T from each bootstrapped data\n",
    "    for b in range(B):\n",
    "        #sample indices at random between 0 and len(iQMinutes)-1 to make the bootstrapped dataset\n",
    "        randIndices=[randint(0,n-1) for i in range(n)] \n",
    "        bootstrappedDataset = dataset[randIndices] # resample with replacement from original dataset\n",
    "        bootstrappedStatisticT = statT(bootstrappedDataset)\n",
    "        bootstrappedStatisticTs.append(bootstrappedStatisticT)\n",
    "    # noe get the [2.5%, 97.5%] percentile-based CI\n",
    "    alpaAsPercentage=alpha*100.0\n",
    "    lowerBootstrap1MinusAlphaCIForStatisticT = np.percentile(bootstrappedStatisticTs,alpaAsPercentage/2)\n",
    "    upperBootstrap1MinusAlphaCIForStatisticT = np.percentile(bootstrappedStatisticTs,100-alpaAsPercentage/2)\n",
    "    return (lowerBootstrap1MinusAlphaCIForStatisticT,upperBootstrap1MinusAlphaCIForStatisticT,\\\n",
    "            np.array(bootstrappedStatisticTs))\n",
    "\n",
    "interQuakesSecs = interQuakeTimes(sorted([x[4] for x in myProcessedList]))\n",
    "iQMinutes = np.array(interQuakesSecs)/60.0\n",
    "###############################################################################################"
   ]
  },
  {
   "cell_type": "code",
   "execution_count": 9,
   "metadata": {
    "deletable": false,
    "lx_assignment_number": "0",
    "lx_assignment_type": "EXAM",
    "lx_assignment_type2print": "Exam",
    "lx_problem_cell_type": "PROBLEM",
    "lx_problem_number": "7",
    "lx_problem_points": "5"
   },
   "outputs": [
    {
     "name": "stdout",
     "output_type": "stream",
     "text": [
      "[ 8.85        9.18333333 12.73333333 ... 45.         51.63333333\n",
      " 41.18333333]\n",
      "The Plug-in Point Estimate of the 95th-Percentile of inter-EQ Times =  75.25499999999998\n",
      "1-alpha Bootstrapped CI for the 95th-Percentile of inter-EQ Times =  (73.25480833333332, 77.38989166666666)\n",
      "         for alpha =  0.01  and bootstrap replicates =  1000\n"
     ]
    }
   ],
   "source": [
    "# replace XXX with the right expressions\n",
    "print(iQMinutes)\n",
    "statT95thPercentile = lambda dataset : np.percentile(dataset, 95) #statistic of interest (dataset is an np.array)\n",
    "alpha=0.01\n",
    "B=1000 # number of bootstrap samples, reduce this to 100 while debuging and back to 1000 when done\n",
    "# plug-in point estimate of the 75th-Percentile of inter-EQ Times\n",
    "plugInEstimateOf95thPercentile = statT95thPercentile(iQMinutes)\n",
    "# get the bootstrapped samples and build 1-alpha confidence interval\n",
    "# do NOT change anything below\n",
    "lowerCIT95P,upperCIT95P,bootValuesT95P = \\\n",
    "                      makeBootstrappedConfidenceIntervalOfStatisticT(iQMinutes, statT95thPercentile, alpha, B)\n",
    "print (\"The Plug-in Point Estimate of the 95th-Percentile of inter-EQ Times = \", plugInEstimateOf95thPercentile)\n",
    "print (\"1-alpha Bootstrapped CI for the 95th-Percentile of inter-EQ Times = \",(lowerCIT95P,upperCIT95P))\n",
    "print (\"         for alpha = \",alpha,\" and bootstrap replicates = \",B)\n"
   ]
  },
  {
   "cell_type": "markdown",
   "metadata": {
    "deletable": false,
    "lx_assignment_number": "0",
    "lx_assignment_type": "EXAM",
    "lx_assignment_type2print": "Exam",
    "lx_problem_cell_type": "PROBLEM",
    "lx_problem_number": "8",
    "lx_problem_points": "5"
   },
   "source": [
    "---\n",
    "## PROBLEM 8\n",
    "Maximum Points = 5"
   ]
  },
  {
   "cell_type": "markdown",
   "metadata": {
    "deletable": false,
    "lx_assignment_number": "0",
    "lx_assignment_type": "EXAM",
    "lx_assignment_type2print": "Exam",
    "lx_problem_cell_type": "PROBLEM",
    "lx_problem_number": "8",
    "lx_problem_points": "5"
   },
   "source": [
    "\n",
    "Consider $n$ IID samples from a continuous random variable with the following probability density function:\n",
    "$$\n",
    "f(x; \\beta) = \\frac{x}{\\beta^2} \\exp\\left(-\\frac{1}{2}(x/\\beta)^2\\right), \\qquad \\text{ where, } \\beta>0, x \\geq 0\n",
    "$$\n",
    "Use Bounded 1D Optimisation to find the maximum likelihood estimate for the IID experiment above using the dataset which is given in the numpy array `dataSamplesForProblem1` below. "
   ]
  },
  {
   "cell_type": "code",
   "execution_count": 13,
   "metadata": {
    "deletable": false,
    "lx_assignment_number": "0",
    "lx_assignment_type": "EXAM",
    "lx_assignment_type2print": "Exam",
    "lx_problem_cell_type": "PROBLEM",
    "lx_problem_number": "8",
    "lx_problem_points": "5"
   },
   "outputs": [
    {
     "name": "stdout",
     "output_type": "stream",
     "text": [
      "     fun: 1.4213874201885164\n",
      " message: 'Solution found.'\n",
      "    nfev: 13\n",
      "     nit: 13\n",
      "  status: 0\n",
      " success: True\n",
      "       x: 2.0052438564110706\n"
     ]
    }
   ],
   "source": [
    "import numpy as np\n",
    "from scipy import optimize\n",
    "\n",
    "dataSamples1 = np.array([2.30, 4.10, 3.60, 2.50, 3.20, 1.90, 2.60, 1.50, 2.80, 2.90])\n",
    "\n",
    "def negLogLklOfIID1(paramBeta):\n",
    "    '''Negative log likelihood function for IID trials in Problem 1 or 2'''\n",
    "    # Calculating the negative log likelihood\n",
    "    log_likelihood = -np.mean(np.log(paramBeta**(-2) * dataSamples1 * np.exp(-0.5 * (dataSamples1 / paramBeta)**2)))\n",
    "    return log_likelihood\n",
    "\n",
    "# Now, let's find the MLE for beta using bounded optimization\n",
    "# We will use bounds based on the characteristics of the problem\n",
    "# You should replace the XXX with appropriate values based on your understanding of the problem\n",
    "lower_bound = 0  # Replace XXX with the lower bound for beta\n",
    "upper_bound = 5  # Replace XXX with the upper bound for beta\n",
    "\n",
    "boundedResult1 = optimize.minimize_scalar(negLogLklOfIID1, bounds=(lower_bound, upper_bound), method='bounded')\n",
    "\n",
    "# The result will be stored in boundedResult1\n",
    "print(boundedResult1)\n"
   ]
  },
  {
   "cell_type": "code",
   "execution_count": null,
   "metadata": {},
   "outputs": [],
   "source": []
  }
 ],
 "metadata": {
  "kernelspec": {
   "display_name": "Python 3",
   "language": "python",
   "name": "python3"
  },
  "language_info": {
   "codemirror_mode": {
    "name": "ipython",
    "version": 3
   },
   "file_extension": ".py",
   "mimetype": "text/x-python",
   "name": "python",
   "nbconvert_exporter": "python",
   "pygments_lexer": "ipython3",
   "version": "3.10.11"
  },
  "lx_assignment_number": "[8,2,7,3,4,6,5,1]",
  "lx_course_instance": "2020",
  "lx_course_name": "Introduction to Data Science: A Comp-Math-Stat Approach",
  "lx_course_number": "1MS041"
 },
 "nbformat": 4,
 "nbformat_minor": 4
}

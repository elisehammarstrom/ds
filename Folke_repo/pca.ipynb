{
 "cells": [
  {
   "cell_type": "code",
   "execution_count": 12,
   "metadata": {},
   "outputs": [
    {
     "name": "stdout",
     "output_type": "stream",
     "text": [
      "[array([-0.60989611, -0.66774685,  0.42677967])]\n"
     ]
    }
   ],
   "source": [
    "import numpy as np\n",
    "\n",
    "# Sample dataset\n",
    "data = np.array([\n",
    "    [1.5, 2.5, 3.5],\n",
    "    [2.0, 3.0, 4.0],\n",
    "    [1.2, 2.0, 3.8],\n",
    "    [3.5, 4.5, 5.5],\n",
    "    [2.8, 3.8, 4.8]\n",
    "])\n",
    "\n",
    "# Add some randomness for variety\n",
    "random_noise = np.random.normal(scale=0.2, size=data.shape)\n",
    "noisy_data = data + random_noise\n",
    "\n",
    "#print(\"Original Data:\")\n",
    "#print(data)\n",
    "#print(\"\\nNoisy Data:\")\n",
    "#print(noisy_data)\n",
    "\n",
    "def pca(data, num_components):\n",
    "    # Your code here\n",
    "    mean = np.mean(data, axis=0)\n",
    "    centerd_data = data - mean\n",
    "    \n",
    "    covar_data = np.cov(centerd_data, rowvar=False)\n",
    "    eigvals, eigvecs = np.linalg.eig(covar_data)\n",
    "    eig = {}\n",
    "\n",
    "    for i in range(len(eigvals)):\n",
    "        eig[eigvals[i]] = eigvecs[i]\n",
    "\n",
    "    tmp = sorted(eig, reverse = True)\n",
    "\n",
    "    principal_components = []\n",
    "    for i in range(num_components):\n",
    "        principal_components.append(eig[tmp[i]])\n",
    "\n",
    "    return principal_components\n",
    "\n",
    "print(pca(noisy_data, 1))"
   ]
  },
  {
   "cell_type": "code",
   "execution_count": null,
   "metadata": {},
   "outputs": [],
   "source": []
  }
 ],
 "metadata": {
  "kernelspec": {
   "display_name": "Python 3",
   "language": "python",
   "name": "python3"
  },
  "language_info": {
   "codemirror_mode": {
    "name": "ipython",
    "version": 3
   },
   "file_extension": ".py",
   "mimetype": "text/x-python",
   "name": "python",
   "nbconvert_exporter": "python",
   "pygments_lexer": "ipython3",
   "version": "3.10.11"
  }
 },
 "nbformat": 4,
 "nbformat_minor": 2
}

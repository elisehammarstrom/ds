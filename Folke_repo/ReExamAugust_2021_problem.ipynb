{
 "cells": [
  {
   "cell_type": "markdown",
   "id": "0ec93b82",
   "metadata": {
    "deletable": false
   },
   "source": [
    "# ReExam 24th of August 2022, 8.00-13.00 for the course 1MS041 (Introduction to Data Science / Introduktion till dataanalys)\n",
    "\n",
    "## Instructions:\n",
    "1. Complete the problems by following instructions.\n",
    "2. When done, submit this file with your solutions saved, following the instruction sheet.\n",
    "\n",
    "This exam has 5 problems each worth 8 points for a total of 40 points, to pass you need\n",
    "15 points.\n",
    "\n",
    "## Some general hints and information:\n",
    "* Some problems are similar to the exam in January but changed.\n",
    "* Try to answer all questions even if you are uncertain.\n",
    "* Comment your code, so that if you get the wrong answer I can understand how you thought\n",
    "this can give you some points even though the code does not run.\n",
    "* Follow the instruction sheet rigorously.\n",
    "* This exam has no anonymous exam ID due to a technical issue, however this does not mean\n",
    "that the exam is not anonymous. The grading system will automatically download all the exams from Studium\n",
    "and it is at this stage that they are anonymized by a randomized ID.\n",
    "* If there are any questions, please ask the exam guards, they will escalate it to me if necessary.\n",
    "* I (Benny) will visit the exam room at around 10:30 to see if there are any questions.\n",
    "\n",
    "## Finally some rules:\n",
    "* You may not communicate with others during the exam, for example:\n",
    "    * You cannot ask for help in Stack-Overflow or other such help forums during the Exam.\n",
    "    * You may not use encrypted communications\n",
    "    * Your on-line and off-line activity is being monitored according to the examination rules.\n",
    "\n",
    "## Good luck!\n"
   ]
  },
  {
   "cell_type": "markdown",
   "id": "d0eb64bc",
   "metadata": {
    "deletable": false,
    "lx_assignment_number": "vB",
    "lx_assignment_type": "EXAM",
    "lx_assignment_type2print": "Exam",
    "lx_problem_cell_type": "PROBLEM",
    "lx_problem_number": "1",
    "lx_problem_points": "8"
   },
   "source": [
    "---\n",
    "## Exam vB, PROBLEM 1\n",
    "Maximum Points = 8"
   ]
  },
  {
   "cell_type": "markdown",
   "id": "7aec718c",
   "metadata": {
    "deletable": false,
    "lx_assignment_number": "vB",
    "lx_assignment_type": "EXAM",
    "lx_assignment_type2print": "Exam",
    "lx_problem_cell_type": "PROBLEM",
    "lx_problem_number": "1",
    "lx_problem_points": "8"
   },
   "source": [
    "\n",
    "## Probability warmup\n",
    "Let's say we have an exam question which consists of $50$ yes/no questions. \n",
    "From past performance of similar students, a randomly chosen student will know the correct answer to $N \\sim \\text{binom}(50,0.8)$ questions. Furthermore, we assume that the student will guess the answer with equal probability to each question they don't know the answer to, i.e. given $N$ we define $Z \\sim \\text{binom}(50-N,1/2)$ as the number of correctly guessed answers. Define $Y = N + Z$, i.e., $Y$ represents the number of total correct answers.\n",
    "\n",
    "We are interested in setting a deterministic threshold $T$, i.e., we would pass a student at threshold $T$ if $Y \\geq T$. Here $T \\in \\{0,1,2,\\ldots,50\\}$.\n",
    "\n",
    "1. [3p] Produce a simulation of $1000$ students. Hint: Simulate $N$ first then simulate $Y \\mid N$ and add the results. Numpy has `numpy.random.binomial` which you can simulate from.\n",
    "2. [3p] For each threshold $T$, produce a simulation as above and estimate the probability that the student *knows* less than $40$ correct answers given that the student passed, i.e., $N < 40$. Put the answer in `problem11_probabilities` as a list.\n",
    "3. [2p] What is the smallest value of $T$ such that if $Y \\geq T$ then we are 90\\% certain that $N \\geq 40$?"
   ]
  },
  {
   "cell_type": "code",
   "execution_count": 14,
   "id": "872084e8",
   "metadata": {
    "deletable": false,
    "lx_assignment_number": "vB",
    "lx_assignment_type": "EXAM",
    "lx_assignment_type2print": "Exam",
    "lx_problem_cell_type": "PROBLEM",
    "lx_problem_number": "1",
    "lx_problem_points": "8"
   },
   "outputs": [
    {
     "data": {
      "text/plain": [
       "array([46, 45, 48, 43, 42, 48, 47, 43, 45, 48, 48, 44, 48, 44, 44, 46, 43,\n",
       "       41, 44, 44, 42, 45, 46, 46, 48, 45, 45, 42, 45, 43, 47, 48, 43, 42,\n",
       "       48, 43, 44, 46, 47, 45, 48, 47, 44, 42, 46, 46, 46, 42, 47, 47, 45,\n",
       "       48, 45, 44, 42, 45, 41, 45, 46, 44, 45, 46, 42, 46, 49, 45, 48, 44,\n",
       "       46, 39, 39, 45, 43, 47, 44, 44, 45, 44, 47, 45, 44, 41, 45, 48, 44,\n",
       "       49, 45, 47, 44, 46, 46, 46, 49, 42, 46, 47, 49, 45, 38, 46, 46, 43,\n",
       "       44, 46, 47, 45, 46, 44, 42, 46, 46, 44, 48, 46, 46, 40, 47, 48, 41,\n",
       "       48, 46, 44, 42, 45, 42, 44, 42, 48, 41, 41, 44, 43, 40, 49, 46, 47,\n",
       "       45, 44, 48, 45, 43, 45, 41, 43, 44, 45, 47, 44, 45, 42, 48, 46, 45,\n",
       "       46, 44, 45, 38, 47, 50, 49, 43, 42, 47, 43, 42, 45, 47, 48, 48, 46,\n",
       "       48, 42, 42, 46, 44, 43, 45, 46, 44, 46, 48, 42, 46, 45, 41, 45, 43,\n",
       "       45, 46, 46, 45, 45, 49, 47, 47, 43, 45, 44, 47, 45, 46, 43, 45, 44,\n",
       "       46, 43, 43, 44, 47, 47, 45, 45, 45, 43, 43, 46, 42, 42, 41, 44, 42,\n",
       "       42, 47, 47, 47, 45, 45, 47, 47, 47, 43, 48, 47, 44, 48, 45, 47, 46,\n",
       "       47, 46, 46, 43, 47, 44, 41, 46, 44, 47, 44, 47, 48, 45, 45, 48, 48,\n",
       "       41, 45, 43, 47, 47, 47, 47, 47, 45, 45, 47, 41, 40, 48, 45, 45, 43,\n",
       "       46, 44, 46, 46, 45, 46, 44, 43, 44, 45, 44, 45, 44, 42, 46, 48, 47,\n",
       "       44, 44, 47, 47, 44, 46, 44, 47, 47, 45, 42, 45, 42, 46, 45, 46, 45,\n",
       "       44, 44, 44, 42, 44, 47, 45, 48, 48, 47, 48, 44, 45, 46, 45, 43, 45,\n",
       "       43, 46, 45, 48, 48, 44, 45, 44, 49, 41, 41, 46, 40, 45, 44, 43, 45,\n",
       "       47, 47, 44, 44, 44, 39, 45, 41, 42, 44, 46, 42, 45, 45, 46, 45, 46,\n",
       "       43, 47, 49, 48, 44, 43, 46, 47, 47, 48, 46, 42, 45, 47, 46, 45, 43,\n",
       "       45, 40, 43, 45, 46, 45, 42, 46, 43, 48, 43, 47, 46, 46, 47, 38, 44,\n",
       "       45, 47, 46, 44, 46, 43, 42, 44, 46, 42, 46, 47, 38, 45, 45, 46, 47,\n",
       "       46, 47, 43, 45, 44, 48, 47, 46, 44, 47, 42, 42, 47, 49, 42, 47, 47,\n",
       "       43, 46, 43, 44, 46, 45, 47, 43, 47, 47, 46, 43, 45, 42, 44, 45, 50,\n",
       "       44, 40, 45, 46, 46, 43, 44, 44, 43, 48, 44, 44, 46, 42, 47, 44, 43,\n",
       "       41, 44, 47, 46, 45, 42, 47, 45, 41, 43, 41, 43, 46, 43, 45, 45, 48,\n",
       "       41, 45, 43, 43, 45, 47, 38, 45, 45, 44, 45, 48, 46, 43, 45, 45, 44,\n",
       "       47, 45, 42, 44, 45, 47, 48, 48, 46, 46, 48, 47, 43, 45, 46, 45, 44,\n",
       "       46, 47, 42, 46, 45, 46, 42, 46, 48, 46, 45, 44, 45, 44, 42, 45, 44,\n",
       "       43, 44, 48, 46, 48, 43, 45, 50, 42, 47, 47, 44, 41, 42, 45, 44, 45,\n",
       "       48, 47, 47, 43, 45, 43, 50, 41, 40, 43, 44, 46, 42, 44, 43, 47, 45,\n",
       "       45, 45, 44, 47, 46, 41, 44, 44, 50, 43, 46, 46, 45, 49, 40, 44, 45,\n",
       "       46, 45, 44, 43, 45, 44, 45, 45, 47, 45, 48, 43, 45, 47, 47, 46, 45,\n",
       "       48, 43, 44, 48, 48, 44, 43, 43, 44, 43, 47, 43, 42, 42, 44, 47, 47,\n",
       "       45, 47, 47, 45, 47, 49, 48, 46, 47, 46, 46, 43, 46, 43, 47, 46, 44,\n",
       "       48, 39, 47, 44, 44, 50, 45, 42, 45, 46, 41, 43, 46, 47, 48, 43, 39,\n",
       "       47, 41, 44, 46, 46, 46, 46, 44, 42, 44, 48, 46, 50, 44, 41, 48, 45,\n",
       "       40, 42, 43, 46, 44, 45, 46, 44, 43, 47, 45, 39, 46, 40, 46, 46, 47,\n",
       "       43, 45, 44, 45, 40, 47, 46, 48, 45, 44, 41, 46, 48, 43, 46, 46, 45,\n",
       "       49, 46, 45, 43, 45, 45, 43, 44, 44, 46, 49, 47, 40, 47, 49, 46, 43,\n",
       "       45, 47, 43, 42, 46, 48, 49, 48, 50, 46, 45, 42, 45, 42, 48, 45, 46,\n",
       "       39, 47, 44, 43, 47, 46, 44, 42, 45, 44, 49, 44, 46, 42, 45, 42, 47,\n",
       "       48, 46, 45, 42, 47, 46, 45, 45, 45, 45, 41, 47, 44, 45, 45, 46, 45,\n",
       "       44, 46, 44, 45, 44, 41, 45, 45, 45, 45, 43, 42, 46, 46, 44, 43, 46,\n",
       "       48, 47, 47, 50, 45, 41, 47, 43, 44, 45, 47, 46, 45, 43, 45, 43, 45,\n",
       "       47, 44, 45, 46, 44, 43, 46, 46, 45, 43, 48, 46, 46, 45, 45, 43, 47,\n",
       "       45, 48, 46, 47, 43, 47, 41, 43, 47, 43, 47, 40, 43, 44, 42, 43, 45,\n",
       "       44, 47, 45, 45, 45, 47, 47, 42, 45, 46, 45, 46, 48, 48, 43, 43, 41,\n",
       "       43, 47, 47, 49, 45, 45, 43, 45, 48, 45, 41, 46, 46, 46, 47, 47, 47,\n",
       "       44, 48, 47, 46, 47, 47, 46, 42, 44, 40, 43, 43, 45, 44, 44, 44, 44,\n",
       "       43, 40, 45, 42, 47, 42, 41, 44, 45, 48, 45, 45, 45, 47, 42, 47, 40,\n",
       "       43, 44, 46, 43, 48, 46, 45, 44, 42, 49, 45, 42, 43, 43, 45, 46, 47,\n",
       "       46, 46, 42, 40, 43, 49, 48, 45, 48, 45, 47, 42, 46, 43, 42, 46, 44,\n",
       "       45, 45, 45, 44, 49, 48, 41, 44, 46, 45, 44, 47, 47, 45, 44, 47, 47,\n",
       "       38, 48, 47, 44, 45, 46, 49, 42, 47, 47, 45, 45, 46, 43, 46, 44, 39,\n",
       "       48, 48, 46, 48, 46, 45, 43, 44, 45, 44, 48, 43, 46, 45, 44, 47, 47,\n",
       "       42, 43, 45, 46, 43, 43, 45, 46, 42, 43, 47, 47, 46, 44])"
      ]
     },
     "execution_count": 14,
     "metadata": {},
     "output_type": "execute_result"
    }
   ],
   "source": [
    "# Part 1:\n",
    "import numpy as np\n",
    "N = np.random.binomial(50, 0.8, size=1000)\n",
    "Z = np.random.binomial(50-N, 1/2)\n",
    "problem1_1000_samples = N + Z\n",
    "problem1_1000_samples"
   ]
  },
  {
   "cell_type": "code",
   "execution_count": 35,
   "id": "83fc1ba0",
   "metadata": {
    "deletable": false,
    "lx_assignment_number": "vB",
    "lx_assignment_type": "EXAM",
    "lx_assignment_type2print": "Exam",
    "lx_problem_cell_type": "PROBLEM",
    "lx_problem_number": "1",
    "lx_problem_points": "8"
   },
   "outputs": [
    {
     "data": {
      "text/plain": [
       "[0.426,\n",
       " 0.414,\n",
       " 0.434,\n",
       " 0.414,\n",
       " 0.427,\n",
       " 0.412,\n",
       " 0.423,\n",
       " 0.431,\n",
       " 0.39,\n",
       " 0.414,\n",
       " 0.393,\n",
       " 0.378,\n",
       " 0.402,\n",
       " 0.41,\n",
       " 0.432,\n",
       " 0.403,\n",
       " 0.427,\n",
       " 0.433,\n",
       " 0.424,\n",
       " 0.388,\n",
       " 0.38,\n",
       " 0.405,\n",
       " 0.408,\n",
       " 0.417,\n",
       " 0.433,\n",
       " 0.406,\n",
       " 0.418,\n",
       " 0.416,\n",
       " 0.408,\n",
       " 0.443,\n",
       " 0.419,\n",
       " 0.379,\n",
       " 0.4,\n",
       " 0.425,\n",
       " 0.4,\n",
       " 0.41,\n",
       " 0.41,\n",
       " 0.419,\n",
       " 0.402,\n",
       " 0.417,\n",
       " 0.431,\n",
       " 0.391,\n",
       " 0.377,\n",
       " 0.313,\n",
       " 0.205,\n",
       " 0.153,\n",
       " 0.064,\n",
       " 0.025,\n",
       " 0.01,\n",
       " 0.001,\n",
       " 0.0]"
      ]
     },
     "execution_count": 35,
     "metadata": {},
     "output_type": "execute_result"
    }
   ],
   "source": [
    "\n",
    "# Part 2: \n",
    "# replace XXX to represent P(N < 40) for T = [0,1,2,...,50], i.e. your answer should be a list\n",
    "# of length 51.\n",
    "\n",
    "T = np.arange(51)\n",
    "\n",
    "def sample():\n",
    "    N = np.random.binomial(50, 0.8, size=1000)\n",
    "    Z = np.random.binomial(50-N, 1/2)\n",
    "    problem1_1000_samples = N + Z\n",
    "    return problem1_1000_samples, N, Z\n",
    "\n",
    "def compute_prob_for_threshold(t):\n",
    "    y, n, z = sample()\n",
    "    mask = (y >= t) & (n < 40)\n",
    "    ratio = sum(mask)/len(y)\n",
    "    return ratio\n",
    "\n",
    "problem1_probabilities = [compute_prob_for_threshold(t) for t in T]\n",
    "problem1_probabilities"
   ]
  },
  {
   "cell_type": "code",
   "execution_count": 50,
   "id": "bbd49def",
   "metadata": {
    "deletable": false,
    "lx_assignment_number": "vB",
    "lx_assignment_type": "EXAM",
    "lx_assignment_type2print": "Exam",
    "lx_problem_cell_type": "PROBLEM",
    "lx_problem_number": "1",
    "lx_problem_points": "8"
   },
   "outputs": [
    {
     "data": {
      "text/plain": [
       "46"
      ]
     },
     "execution_count": 50,
     "metadata": {},
     "output_type": "execute_result"
    }
   ],
   "source": [
    "\n",
    "# Part 3: Give an integer between 0 and 50 which is the answer to 2.\n",
    "y = np.ones(51)-problem1_probabilities\n",
    "problem1_T = np.argmax(y>=0.9)\n",
    "problem1_T"
   ]
  },
  {
   "cell_type": "markdown",
   "id": "259626d8",
   "metadata": {
    "deletable": false,
    "lx_assignment_number": "vB",
    "lx_assignment_type": "EXAM",
    "lx_assignment_type2print": "Exam",
    "lx_problem_cell_type": "PROBLEM",
    "lx_problem_number": "2",
    "lx_problem_points": "8"
   },
   "source": [
    "---\n",
    "## Exam vB, PROBLEM 2\n",
    "Maximum Points = 8"
   ]
  },
  {
   "cell_type": "markdown",
   "id": "a642f6a6",
   "metadata": {
    "deletable": false,
    "lx_assignment_number": "vB",
    "lx_assignment_type": "EXAM",
    "lx_assignment_type2print": "Exam",
    "lx_problem_cell_type": "PROBLEM",
    "lx_problem_number": "2",
    "lx_problem_points": "8"
   },
   "source": [
    "\n",
    "In many areas of data science and machine learning we need to produce random samples in different ways. This can be done to compute difficult integrals or validate algorithms. \n",
    "\n",
    "1. [2p] Produce 1000 samples from the distribution below using inversion sampling\n",
    "$$\n",
    "    F[x] = \n",
    "    \\begin{cases}\n",
    "        0, & x \\leq 0 \\\\\n",
    "        \\sin(x), & 0 < x < \\pi/2 \\\\\n",
    "        1, & x \\geq \\pi/2\n",
    "    \\end{cases}\n",
    "$$\n",
    "and show your result with a histogram \"You can use sagemath function `histogram`, or `matplotlib.pyplot` `hist`\". Also what is the true density? Provide a plot of the true density between 0 and $\\pi/2$.\n",
    "2. [3p] Consider a random variable $X \\sim F$ sampled from distribution $F$. Your goal is to estimate $E[X]$. Do this by producing 1000 different experiments, each sampling 1000 samples from $X$ and compute the empirical mean. Provide the $0.025$ and the $0.975$ quantile of the experiments.\n",
    "3. [3p] Use Hoeffdings inequality to produce a 95% confidence interval for the estimated mean above?"
   ]
  },
  {
   "cell_type": "code",
   "execution_count": 117,
   "id": "ed289d6c",
   "metadata": {
    "deletable": false,
    "lx_assignment_number": "vB",
    "lx_assignment_type": "EXAM",
    "lx_assignment_type2print": "Exam",
    "lx_problem_cell_type": "PROBLEM",
    "lx_problem_number": "2",
    "lx_problem_points": "8"
   },
   "outputs": [
    {
     "data": {
      "image/png": "[encoded data removed]",
      "text/plain": [
       "<Figure size 640x480 with 1 Axes>"
      ]
     },
     "metadata": {},
     "output_type": "display_data"
    },
    {
     "data": {
      "image/png": "[encoded data removed]",
      "text/plain": [
       "<Figure size 640x480 with 1 Axes>"
      ]
     },
     "metadata": {},
     "output_type": "display_data"
    }
   ],
   "source": [
    "# put your samples in the variable samples\n",
    "import matplotlib.pyplot as plt\n",
    "\n",
    "def F_inverse(y):\n",
    "    if y <= 0:\n",
    "        return 0\n",
    "    if y < np.sin(np.pi/2):\n",
    "        return np.arcsin(y)\n",
    "    return 1\n",
    "\n",
    "F_inv = np.vectorize(F_inverse)\n",
    "x = np.random.uniform(0, 1, size=1000)\n",
    "samples = F_inv(x)\n",
    "plt.hist(samples, density=True, bins=20)\n",
    "plt.show()\n",
    "\n",
    "def f(x):\n",
    "    if x > np.pi/2:\n",
    "        return 0\n",
    "    if x <= 0:\n",
    "        return 0\n",
    "    return np.cos(x)\n",
    "\n",
    "x = np.linspace(0, np.pi/2, 100)\n",
    "plt.bar(x, [f(i)for i in x])\n",
    "plt.xlim(0, np.pi/2)\n",
    "plt.show()\n"
   ]
  },
  {
   "cell_type": "code",
   "execution_count": 124,
   "id": "474d50da",
   "metadata": {
    "deletable": false,
    "lx_assignment_number": "vB",
    "lx_assignment_type": "EXAM",
    "lx_assignment_type2print": "Exam",
    "lx_problem_cell_type": "PROBLEM",
    "lx_problem_number": "2",
    "lx_problem_points": "8"
   },
   "outputs": [
    {
     "name": "stdout",
     "output_type": "stream",
     "text": [
      "[0.5865674790576075, 0.5779248083626222, 0.5666802386178408, 0.5888358762788735, 0.5630301535620802, 0.5687334766825124, 0.5788551711583723, 0.5703813968971749, 0.567038877761336, 0.5938590410888678, 0.5753109084812524, 0.5651340196544562, 0.5612364838631909, 0.583309469322517, 0.5782953870221036, 0.5485965896062538, 0.5632779547843895, 0.5808403584853122, 0.5859558416315269, 0.5596039566500762, 0.579678174381882, 0.5356540866743519, 0.5744184939785182, 0.5828610584877529, 0.5486793023251589, 0.5765582366112346, 0.557531863872824, 0.5858932315037828, 0.5809688716840856, 0.5790135101860374, 0.5640209905106756, 0.5661866450711052, 0.575600361987113, 0.5722194573649005, 0.5766814187477127, 0.5781236389326977, 0.5639800092752844, 0.5835214569921008, 0.5536460789111026, 0.5656827869531521, 0.5647597932972681, 0.574433397210534, 0.591996486194321, 0.5747788783720881, 0.5667166098822368, 0.5652908823589847, 0.5568430976968677, 0.5685074277038374, 0.5703954100372721, 0.5511739419390536, 0.5614662938118303, 0.5759008118461915, 0.5915215073906948, 0.5774517884035977, 0.5534260020190848, 0.576602066945122, 0.5843606845371471, 0.5675856326473355, 0.5691166035961996, 0.5633562971445524, 0.5566230843186833, 0.5743970972610267, 0.5825579597216787, 0.5592275457527949, 0.5714494793292175, 0.5535310822488589, 0.5537232635725793, 0.5719508523132734, 0.5599224503377167, 0.576806966237254, 0.5644499719775814, 0.5633711388569123, 0.5693740952706976, 0.5704645023101862, 0.5933488892488212, 0.5755399939534568, 0.5687791000613024, 0.5709736119730008, 0.5479885129971827, 0.5653423489437509, 0.566964316261566, 0.5520231517839569, 0.5795182434044807, 0.5637326692337808, 0.5855040083245012, 0.5705847962797369, 0.5734504044727919, 0.5623383399253711, 0.5654877374864049, 0.5703445204307277, 0.5982048709135613, 0.5712415171945056, 0.5649815584701483, 0.5693782467326444, 0.5706220797323579, 0.5751046518043581, 0.5849857685261036, 0.577461007483179, 0.5750184998909197, 0.5575519819965532, 0.5758502574363685, 0.5644386204645813, 0.5562637312868797, 0.5695490586640012, 0.5632672103028833, 0.5653218776858389, 0.5875293651840653, 0.5773306389286548, 0.561309007436651, 0.5834438731418194, 0.5725344704670904, 0.5635040333432906, 0.5631698395080181, 0.5658001672184736, 0.5976410705991996, 0.5657547614400625, 0.5651458978777004, 0.5570128044555863, 0.557521972720815, 0.5631887987000572, 0.5562196179082206, 0.5686716298043234, 0.5575234909191041, 0.5633420868851645, 0.5503342768405041, 0.5823387363908155, 0.5622171785194208, 0.5636395705626144, 0.5778754947850336, 0.5333514525922157, 0.5818239625290241, 0.5567311210314853, 0.5548368371795398, 0.5595487458576993, 0.5783778812025671, 0.5694622713314713, 0.5812374132954329, 0.5739119630521601, 0.5706372527837125, 0.5887383494394643, 0.5571527465100988, 0.5741902311318564, 0.5617026554746096, 0.5696429320835211, 0.578605086403587, 0.5719570171984912, 0.5666338112841836, 0.5685845416586313, 0.5652698480753879, 0.5748450967853319, 0.5625723451737965, 0.563086168564418, 0.5876205611111829, 0.5674893439695357, 0.5645962633798012, 0.5658675379138745, 0.5565227363897315, 0.5611782772014886, 0.5873957863508656, 0.5855748912354861, 0.5867370488480144, 0.5884865762236359, 0.5857378299914577, 0.5659807192221133, 0.5683016681833823, 0.5540057431922815, 0.5871595311460148, 0.5845575430542985, 0.5597514605165256, 0.5603328784160176, 0.5604904458887074, 0.5722649341542936, 0.5633132819298221, 0.5871494455508653, 0.5645653812006736, 0.5671836742159865, 0.5695221801455762, 0.5708532110497999, 0.5870858103852636, 0.5873262696247079, 0.5575736735066109, 0.5539528536832782, 0.5810061417343166, 0.5744010115592233, 0.5609030309311663, 0.5633719029873273, 0.5741820223965188, 0.5744120607810066, 0.5935265567842268, 0.5849746821692885, 0.5637792937198126, 0.5587515681017206, 0.5704988085207612, 0.5697372578553214, 0.5816025757396235, 0.5634052015811345, 0.559154762165401, 0.5831003209840483, 0.5960042649667245, 0.5767113682414483, 0.5658160876872762, 0.5598756064885856, 0.5876271694295828, 0.5802506759170142, 0.5806838602662762, 0.5695737601482843, 0.5566375904592399, 0.5628940524328201, 0.5712431246747699, 0.5695262434320274, 0.5545802949651488, 0.5818375846571613, 0.5685053312480411, 0.5863787693893089, 0.5605739940414064, 0.5545903704841295, 0.5909815460787832, 0.570332503695786, 0.5662804641234299, 0.5690350414565591, 0.5819712909291402, 0.5580312456711605, 0.57723942165907, 0.5869592040263152, 0.5806492655326517, 0.5492442254718283, 0.5552406326362539, 0.609311715675646, 0.5574768214477807, 0.5861693891166483, 0.5863764986135018, 0.5658638972928796, 0.5776262859768845, 0.5718336067121556, 0.5612212983425945, 0.5628188814825985, 0.5662749028452873, 0.5760631392283231, 0.5742122791053311, 0.5785623261664974, 0.5826499014832132, 0.5594457452294246, 0.5834676729911425, 0.5975900251659048, 0.5718987392867403, 0.5516200975529073, 0.5634631479767837, 0.5743638976494461, 0.5669918807415267, 0.5857477622739365, 0.5457094061199307, 0.5672110411684289, 0.5881725253917369, 0.5893938533204935, 0.5725582730000058, 0.5852407963830724, 0.5788021393974645, 0.5553607542537891, 0.574823425523719, 0.5883070658469541, 0.5794034900314627, 0.5800647641888331, 0.5641846768128422, 0.5853333948823054, 0.5679397014016182, 0.5660082934805103, 0.5662244659853495, 0.5716720055424623, 0.5742806304735273, 0.5662470368247927, 0.5654695365678886, 0.563303567725304, 0.5520669393158628, 0.5796295095061997, 0.5628046659659668, 0.56235615076064, 0.5685925755022934, 0.56349493086486, 0.582743639157743, 0.5595451005755357, 0.561021929590218, 0.5681442994954179, 0.5602534877855706, 0.5919185129835539, 0.5737049856115962, 0.5651699493248075, 0.5690887910038098, 0.5849690200117884, 0.5744987656731485, 0.5656228770859609, 0.5627557763677139, 0.5646610641997645, 0.5761945638776547, 0.5970382886423301, 0.5823057697796892, 0.5676173700107404, 0.5703256308461154, 0.5551431550615072, 0.5734680263467458, 0.5710272036902058, 0.574566049631007, 0.5726152454820679, 0.5823024475054469, 0.5926830564623771, 0.5562376676035039, 0.5753957109139376, 0.5961533423792539, 0.5509524235394279, 0.5694239918064653, 0.5739745259394722, 0.5733228508966188, 0.5721239566902989, 0.5762346459449947, 0.5852892234460196, 0.5600311359383419, 0.5538387080677891, 0.577483055354727, 0.5506405646841054, 0.5674020488017871, 0.5756718634689, 0.5939682876772271, 0.5866460627966479, 0.5907449236955633, 0.5509182404042225, 0.5606956309459415, 0.5702298074339733, 0.5578820538465463, 0.5619131669609158, 0.5725623291555665, 0.5638719577456446, 0.5604478519940568, 0.5693946460703433, 0.557863436425843, 0.5628514726392972, 0.5712191322899991, 0.5359204639668874, 0.5809706120612732, 0.5657032950959808, 0.5723213060288608, 0.5536594287997004, 0.5737633566297372, 0.5858274895424972, 0.5648450720245471, 0.5721687028565151, 0.5685557272219471, 0.5643075980413719, 0.5650849721331386, 0.5799646428086281, 0.5732842127303809, 0.5801529098674724, 0.5801834247335117, 0.5848214121088373, 0.5790579816082929, 0.5879190453158788, 0.5643984964027765, 0.5737736229784078, 0.5721551177548999, 0.5740988238519622, 0.5671302024970637, 0.5668705487172688, 0.5827595384965587, 0.5480804490285197, 0.580512594065018, 0.580279086974585, 0.5976485062667893, 0.569437442613827, 0.5828735923995579, 0.5502709770900259, 0.5530028255102071, 0.574922382500712, 0.540284102238421, 0.5888306096296364, 0.5999468000598412, 0.5845275251061459, 0.5653221846883941, 0.5653320548072267, 0.5692207131729445, 0.5546812146014907, 0.564708514247927, 0.5716187160132, 0.571754076506797, 0.5670623258799697, 0.5742561839437588, 0.5749864101128929, 0.5635445617726399, 0.5818097615125719, 0.561606415834708, 0.5684994847102365, 0.579287087395922, 0.5781192724793052, 0.5715877398353237, 0.5737243683094528, 0.5763484828487255, 0.5632313911151092, 0.5560380905299923, 0.5546061706003256, 0.566449476028494, 0.5810900861099324, 0.581298559054954, 0.5907830560047558, 0.5711649745088145, 0.5542435764202477, 0.5734087924317662, 0.5849905691459569, 0.5700449547835369, 0.5594498198202964, 0.5736003742457889, 0.5762461843273311, 0.5751814228924705, 0.5671348043551756, 0.5607944169684702, 0.5779577964179219, 0.5518170260627622, 0.5658949054146998, 0.5944541108655774, 0.582208060920709, 0.5627898231088619, 0.5770369576928058, 0.5699099062307215, 0.5555779920301788, 0.5812180963640674, 0.6051284442208055, 0.5652646563503194, 0.5525252435390718, 0.5751833667068789, 0.5790057213604661, 0.5749449317291331, 0.5593030177107287, 0.5797974524131835, 0.5748200605255072, 0.5880259996352749, 0.5624531895488031, 0.5786509966981538, 0.5818673157272128, 0.5725333988078308, 0.5791341341059849, 0.5822616753541566, 0.5847270470811993, 0.5683837968125788, 0.597413977086368, 0.5557788642079075, 0.5687688136050496, 0.5676083079457415, 0.572280485201564, 0.5759900402025167, 0.5609870190024671, 0.5634336009108367, 0.567816934172449, 0.5935623806859699, 0.5751838589372701, 0.5765402985707496, 0.5925051370787258, 0.5875549889206745, 0.5914773571152316, 0.5789491564156554, 0.5672913959588822, 0.5750666870926912, 0.5770662929724022, 0.5641806397070932, 0.5686279346885801, 0.5676368119386045, 0.5932687135729103, 0.5883999697001666, 0.5771962269697372, 0.5806566931628895, 0.5825944169399804, 0.554393962181486, 0.5599127883221711, 0.5580026684019409, 0.548820239288462, 0.5980363304239456, 0.5942678998983586, 0.5758143645075173, 0.5776295846375924, 0.5754697222741925, 0.5797157997821167, 0.5689175836986433, 0.5756419687877875, 0.5540803479363918, 0.599359359748358, 0.5637071506721959, 0.5790149453179431, 0.5402951730072427, 0.5719973877403499, 0.588936631608823, 0.5751458816930051, 0.5712224301551232, 0.5648114254304982, 0.5685711113880878, 0.584460125571846, 0.5803803272126922, 0.5788001123596849, 0.566066628872697, 0.5564983305578532, 0.5825169672174516, 0.5628280290590371, 0.584637189003626, 0.5737812723625436, 0.5747291218090111, 0.5778080129989197, 0.5736281165606901, 0.5626732851314094, 0.5650603716367318, 0.573911387058939, 0.5661161609854862, 0.571960791419088, 0.5831056945825189, 0.5635720793270237, 0.585763504759365, 0.5765290751054595, 0.5606598673249272, 0.6070871029559158, 0.5735744691485347, 0.5775792002588757, 0.5824048283647022, 0.5707023319213654, 0.566017265349368, 0.5646097533894127, 0.5725527607916396, 0.5723651050514307, 0.5918359285113082, 0.5711785412885416, 0.5922920288254316, 0.5589846549979302, 0.5708821153566541, 0.5663632446671131, 0.5742334289219928, 0.5942142165564992, 0.5635881228415853, 0.5840051471386662, 0.5692196622133631, 0.5560468371831421, 0.5692295773695392, 0.5730000596426496, 0.5588849431193745, 0.5546545034198964, 0.5617819134984882, 0.5712302963600485, 0.5763506204763064, 0.5863790485754783, 0.5747126142304635, 0.5703047573669158, 0.5935209262109366, 0.5759749962736894, 0.5560348878093349, 0.5575483549122439, 0.5827927235298244, 0.5704889042312439, 0.5694219316532684, 0.5668475359702374, 0.5783257212355299, 0.6039287875424866, 0.569409437984293, 0.5835953601546273, 0.569463939688799, 0.5728227232179554, 0.5623983609139441, 0.5405176343686535, 0.5777781180367965, 0.5870383048935577, 0.5649999352228611, 0.5537754276223613, 0.5822918311609194, 0.5855930773634825, 0.5653424524856399, 0.5588569592677574, 0.5678173327170486, 0.5771877308196347, 0.5905798326799873, 0.596326019365754, 0.5722629300695564, 0.5675952503626325, 0.5575088429208447, 0.5589456702087652, 0.5758806760631942, 0.5603822225883799, 0.5709394550547645, 0.5733034070504607, 0.5961795298991128, 0.5602375772443433, 0.5754783459106577, 0.5582428350873212, 0.5720195788102107, 0.5749046100856058, 0.5692336082861166, 0.579233744572697, 0.5750133355981535, 0.5489012990861948, 0.5551065278948007, 0.5483600414010189, 0.5649058225037271, 0.5817521433916757, 0.5884361538511509, 0.5854780631511521, 0.5633199452801818, 0.5637338005052003, 0.5754771620853223, 0.5767484835503215, 0.5547263145127956, 0.5666012952964261, 0.5905333844151947, 0.5783751985371053, 0.5795968643398811, 0.5735780751733511, 0.5726427305500217, 0.5672155316250821, 0.5884129888968218, 0.5593897387716618, 0.5724134483111154, 0.5809903114768004, 0.5672767552265682, 0.5872594713426912, 0.5646526003206614, 0.5792023092412448, 0.5485681063650939, 0.5633439637375852, 0.5800765445428538, 0.5666180547277329, 0.5814354069491954, 0.5597257540037914, 0.577725524917647, 0.5621315034542893, 0.5759262115302105, 0.5586838363301422, 0.5642472149137018, 0.5734069986242559, 0.5575541862792648, 0.5719477934022077, 0.5586775197290735, 0.5742224655789626, 0.573576390861912, 0.5715744028685741, 0.5925457001577374, 0.5707274368016595, 0.5556576234977865, 0.5539807631694839, 0.5408402340170281, 0.5790916306806179, 0.5798928671386313, 0.5796313120261724, 0.561620741887102, 0.5699714193664449, 0.5669861369731073, 0.5634932858504655, 0.5615318594457723, 0.569643227531617, 0.5696092066757703, 0.582446313685506, 0.56262907877619, 0.5780936672564364, 0.5646382768805375, 0.5754978448628496, 0.5777880620055835, 0.5675126031003189, 0.5678090386115152, 0.566455924606121, 0.5757261706558686, 0.5640911716818373, 0.5700984709507334, 0.5658122504074904, 0.562455792352404, 0.579049432231194, 0.5768406255497834, 0.5830204196380809, 0.5767224803092739, 0.5779902054790552, 0.5483918588930302, 0.5900103626853062, 0.5832895466080515, 0.58098660117688, 0.5774543064553609, 0.5853018175898946, 0.5824835584394052, 0.5642048094541482, 0.5840540491422728, 0.5789953646147286, 0.5612743333638353, 0.5891194069681104, 0.5505072035450207, 0.5731039254363878, 0.5805376596386636, 0.5606675507201216, 0.5744026581854235, 0.5727605406334475, 0.5658947529091464, 0.5672194267791278, 0.5632124384046923, 0.5531809327627223, 0.5551139185359609, 0.5723390022171493, 0.5733946466811817, 0.5824245267559731, 0.5719899826923512, 0.5719900575853002, 0.5363458947348367, 0.5700579770460595, 0.5739872778249885, 0.5626829944196626, 0.5770473303681586, 0.5658082165228048, 0.577509954298506, 0.5730131159683451, 0.5667474445576097, 0.5809470972908285, 0.563482609325744, 0.5611764314984946, 0.5806204828695645, 0.5778149747618206, 0.5875540300941868, 0.5451019892877264, 0.5521204231938167, 0.562178636914201, 0.5449576967005819, 0.5756629669091863, 0.5821013571329084, 0.5545965084323857, 0.571907801797659, 0.5748539274600765, 0.5804216382867219, 0.5695836076000107, 0.5597072622126823, 0.5580850680370802, 0.5539476257081146, 0.5719215188125077, 0.5797615623926731, 0.553306917753482, 0.5805237726903884, 0.5514741314004487, 0.5658608057490433, 0.5736603091797996, 0.574617442052583, 0.5769599794270875, 0.5867437655227747, 0.5726511111197436, 0.5630475592145235, 0.5781531412955385, 0.5673014450908868, 0.5724349815524528, 0.5638188072262482, 0.5862299234198232, 0.5674072517288814, 0.5763103437922655, 0.5729997069050514, 0.5734121242646313, 0.5781193101361084, 0.5679247101153524, 0.5659493806828367, 0.5476712778061508, 0.5748374288188102, 0.5633061077960149, 0.5569162258607939, 0.5852875249792517, 0.5840739207285207, 0.5594530117344425, 0.5759400401175001, 0.5400506624148254, 0.5603749487311558, 0.5885981785751528, 0.590620499137445, 0.5802476775424489, 0.5523982736782146, 0.5895375553517722, 0.5802404925609029, 0.5629045913719837, 0.5734486165687372, 0.5663896632991665, 0.5535778714332525, 0.5917607568414692, 0.5670742884774468, 0.5708822764366729, 0.5691209487113533, 0.5683708338984171, 0.5685785426608704, 0.5606930372496164, 0.5582524730724198, 0.5820869508164564, 0.5704495972196499, 0.5685449006706479, 0.5650801836072894, 0.5660398521834205, 0.5466500925020849, 0.5797040894475879, 0.5629415912264095, 0.5725831423378426, 0.583936813246433, 0.5673759859398918, 0.574483059622217, 0.5783992696279939, 0.5647121824372542, 0.5865591773989707, 0.5890369295071604, 0.57958605436329, 0.578561341381561, 0.5844920790451731, 0.5734994250815902, 0.585375406825686, 0.5690891341966594, 0.5706103776322435, 0.584232624603235, 0.5582558891398104, 0.5781362933973695, 0.555076358318561, 0.5744370486996158, 0.5671959102945233, 0.5726787854285085, 0.5735338861333806, 0.5644631447709582, 0.5763030264834518, 0.5598508658866519, 0.569141020148955, 0.5611602228977342, 0.5886954024422772, 0.5477489768931735, 0.5558653180467543, 0.5918529248691328, 0.5916179450022905, 0.5816607582337426, 0.5670632527852707, 0.5551416122846945, 0.5695561100383411, 0.5542080821739653, 0.5740551722144348, 0.5696669412626043, 0.5780046191534044, 0.5751871280597964, 0.5777714838608972, 0.5649100680279994, 0.5771046401045958, 0.5757563253921968, 0.5765498301408344, 0.5652725513228913, 0.561042158070733, 0.5850930166180669, 0.5782434661665333, 0.5755591900454854, 0.5826753253199792, 0.5818844641356112, 0.5822194574723553, 0.5644188759268679, 0.5753900202523416, 0.5601205991101558, 0.5558792590361908, 0.5866427435054973, 0.5893807039807732, 0.5598422795631702, 0.5695599958568698, 0.5841275489468649, 0.5825213610988372, 0.5935927089793358, 0.5666875245476001, 0.5988462011581228, 0.5582608329889256, 0.576243952944362, 0.5851640370154334, 0.5689212049159307, 0.5710594898465852, 0.5696291268359248, 0.5677100279952472, 0.5608442884134558, 0.5696494822321376, 0.558740907843232, 0.5658334868164762, 0.5508002118516355, 0.5673364746347757, 0.5697622692703457, 0.5470208046216509, 0.5768962809906972, 0.5546719331166198, 0.5485133225436625, 0.5695938454338775, 0.5842252251565276, 0.5620038447472577, 0.5779558958711559, 0.5729711175719425, 0.5644822383247604, 0.5669941063177443, 0.5755870825579461, 0.5894481538712414, 0.5589004950592725, 0.5404513709170861, 0.5753630735828121, 0.5539783560087885, 0.5714257973648185, 0.5510933594946091, 0.5773664247392327, 0.576948796381607, 0.5765699451019365, 0.5740202250235478, 0.5886508097557838, 0.5706257533464574, 0.5625250090811675, 0.5563224204338726, 0.5557712089487348, 0.5723818572056416, 0.5950881967201365, 0.5654233680526151, 0.5745657850537215, 0.5650522187078891, 0.597393800149512, 0.5537897619452696, 0.5642235940689508, 0.5679193850025418, 0.5685834455338156, 0.5761745006133271, 0.5547386456534411, 0.5658902418666389, 0.5643356037666546, 0.5605334964292464, 0.5645092918014594, 0.5782761567300241, 0.5750259418701856, 0.5580486537056311, 0.5793749072778355, 0.571229135765477, 0.5890673477823336, 0.5670636322235589, 0.569729950113731, 0.5693139988423487, 0.5909046135697062, 0.5767873132458455, 0.5399842865382115, 0.5663390850151336, 0.5710216129039529, 0.5736296255283367, 0.5597798716703039, 0.5787223271715293, 0.5814811074164127, 0.5615392068856367, 0.5886478345602795, 0.5748300288782273, 0.5759912920851548, 0.5919717331251272, 0.5587580190617807, 0.5823731050204841, 0.5527053171992611, 0.5606135864909413, 0.5591631164188023, 0.5903647116978259, 0.5804624944601737, 0.5680011926737751, 0.5894325948358584, 0.5693245043702445, 0.5723617540942793, 0.5695242343641911, 0.5792864203509144, 0.5789616744729701, 0.5757915490166747, 0.5493202987166788, 0.576635400318969, 0.5747532474588974, 0.5785963742739345, 0.5805932742803964, 0.5879017300997008, 0.5485372195150958, 0.569532354182805, 0.5587572862135296, 0.5597808287765536, 0.5707214846637897, 0.5882745030767265, 0.5716782904446072, 0.5902753645814709, 0.5662895669852446, 0.5771242527571041, 0.5769499399323269, 0.5737072847175494, 0.5872261113569309, 0.5599193671081205, 0.5698018379681346, 0.5596695974597535, 0.574065500711024, 0.5792073068922373, 0.5581736603139568, 0.5481432935564453, 0.5680614147055467, 0.5758521400386175, 0.576477593701469, 0.5826994338253036, 0.5590799428437451, 0.5695781283729562, 0.5797508985853731, 0.5957466032152431, 0.5763760192227696, 0.5746728558218847, 0.577810839669562, 0.5757564777464449, 0.5794529753391625, 0.5668149798742838, 0.5914010160547732, 0.5606685226590368, 0.5865721214070028, 0.5518371899979511, 0.552112086521126, 0.5577625669058859, 0.58086858048356, 0.5593838995480191, 0.5852210430874784, 0.5674422414919286, 0.5655995496792691, 0.559227743450956, 0.5772527235542709]\n",
      "0.548567334193844\n",
      "0.5938617722535767\n"
     ]
    }
   ],
   "source": [
    "# Produce 1000 experiments, in which each experiment you draw\n",
    "# 1000 samples from F. Store the value of the empirical mean of each\n",
    "# experiment and compute the 0.025 and the 0.975 quantiles\n",
    "def inverse_sampling(F_inv):\n",
    "    x = np.random.uniform(0, 1, size=1000)\n",
    "    return F_inv(x)\n",
    "\n",
    "means = [np.mean(inverse_sampling(F_inv)) for _ in range(1000)] # the computed empirical means, should be a list of length 1000\n",
    "quantile_0025 = np.quantile(means, 0.025) # the 0.025 quantile\n",
    "quantile_0975 = np.quantile(means, 0.975) # the 0.975 quantile\n",
    "print(means)\n",
    "print(quantile_0025)\n",
    "print(quantile_0975)"
   ]
  },
  {
   "cell_type": "code",
   "execution_count": 125,
   "id": "38f061fa",
   "metadata": {
    "deletable": false,
    "lx_assignment_number": "vB",
    "lx_assignment_type": "EXAM",
    "lx_assignment_type2print": "Exam",
    "lx_problem_cell_type": "PROBLEM",
    "lx_problem_number": "2",
    "lx_problem_points": "8"
   },
   "outputs": [
    {
     "name": "stdout",
     "output_type": "stream",
     "text": [
      "Confidence interval around the mean is [0.53,0.61]\n"
     ]
    }
   ],
   "source": [
    "# Put your interval in the form\n",
    "def epsilon_bernoulli(n, alpha):\n",
    "    return np.sqrt(1/(2*n)*np.log(1/alpha))\n",
    "\n",
    "epsilon = epsilon_bernoulli(len(means), alpha=0.05)\n",
    "l_edge = np.max([0, np.mean(means)-epsilon]) # The left edge of the interval\n",
    "r_edge = np.min([1, np.mean(means)+epsilon]) # The right edge of the interval\n",
    "print(\"Confidence interval around the mean is [%.2f,%.2f]\" % (l_edge,r_edge))"
   ]
  },
  {
   "cell_type": "markdown",
   "id": "d7a07409",
   "metadata": {
    "deletable": false,
    "lx_assignment_number": "vB",
    "lx_assignment_type": "EXAM",
    "lx_assignment_type2print": "Exam",
    "lx_problem_cell_type": "PROBLEM",
    "lx_problem_number": "3",
    "lx_problem_points": "8"
   },
   "source": [
    "---\n",
    "## Exam vB, PROBLEM 3\n",
    "Maximum Points = 8"
   ]
  },
  {
   "cell_type": "markdown",
   "id": "5bad853a",
   "metadata": {
    "deletable": false,
    "lx_assignment_number": "vB",
    "lx_assignment_type": "EXAM",
    "lx_assignment_type2print": "Exam",
    "lx_problem_cell_type": "PROBLEM",
    "lx_problem_number": "3",
    "lx_problem_points": "8"
   },
   "source": [
    "\n",
    "## Concentration of measure\n",
    "\n",
    "As you recall, we said that concentration of measure was simply the phenomenon where we expect that the probability of a large deviation of some quantity becoming smaller as we observe more samples: [8/22 points per correct answer]\n",
    "\n",
    "1. Which of the following will exponentially concentrate, i.e. for some $C_1,C_2,C_3,C_4 $ \n",
    "$$\n",
    "    P(Z - \\mathbb{E}[Z] \\geq \\epsilon) \\leq C_1 e^{-C_2 n \\epsilon^2} \\wedge C_3 e^{-C_4 n (\\epsilon+1)} \\enspace .\n",
    "$$\n",
    "\n",
    "    1. The empirical mean of i.i.d. sub-Gaussian random variables?\n",
    "    2. The empirical mean of i.i.d. sub-Exponential random variables?\n",
    "    3. The empirical mean of i.i.d. bounded random variables?\n",
    "    4. The empirical variance of i.i.d. bounded random variables?\n",
    "    5. The empirical mean of i.i.d. random variables with finite variance?\n",
    "    6. The empirical variance of i.i.d. random variables with finite variance?\n",
    "    7. The empirical variance of i.i.d. sub-Gaussian random variables?\n",
    "    8. The empirical third moment of i.i.d. bounded random variables?\n",
    "    9. The empirical fourth moment of i.i.d. sub-Gaussian random variables?\n",
    "    10. The empirical mean of i.i.d. deterministic random variables?\n",
    "    11. The empirical tenth moment of i.i.d. Bernoulli random variables?\n",
    "\n",
    "2. Which of the above will concentrate in the weaker sense, that for some $C_1$\n",
    "$$\n",
    "    P(Z - \\mathbb{E}[Z] \\geq \\epsilon) \\leq \\frac{C_1}{n \\epsilon^2}?\n",
    "$$"
   ]
  },
  {
   "cell_type": "code",
   "execution_count": null,
   "id": "fc4d7066",
   "metadata": {
    "deletable": false,
    "lx_assignment_number": "vB",
    "lx_assignment_type": "EXAM",
    "lx_assignment_type2print": "Exam",
    "lx_problem_cell_type": "PROBLEM",
    "lx_problem_number": "3",
    "lx_problem_points": "8"
   },
   "outputs": [],
   "source": [
    "\n",
    "# Answers to part 1, which of the alternatives exponentially concentrate, answer as a list\n",
    "# i.e. [1,4,5] that is example 1, 4, and 5 concentrate\n",
    "problem3_answer_1 = [XXX]"
   ]
  },
  {
   "cell_type": "code",
   "execution_count": null,
   "id": "a7ba25d1",
   "metadata": {
    "deletable": false,
    "lx_assignment_number": "vB",
    "lx_assignment_type": "EXAM",
    "lx_assignment_type2print": "Exam",
    "lx_problem_cell_type": "PROBLEM",
    "lx_problem_number": "3",
    "lx_problem_points": "8"
   },
   "outputs": [],
   "source": [
    "\n",
    "# Answers to part 2, which of the alternatives concentrate in the weaker sense, answer as a list\n",
    "# i.e. [1,4,5] that is example 1, 4, and 5 concentrate\n",
    "problem3_answer_2 = [XXX]"
   ]
  },
  {
   "cell_type": "markdown",
   "id": "3bd58e84",
   "metadata": {
    "deletable": false,
    "lx_assignment_number": "vB",
    "lx_assignment_type": "EXAM",
    "lx_assignment_type2print": "Exam",
    "lx_problem_cell_type": "PROBLEM",
    "lx_problem_number": "4",
    "lx_problem_points": "8"
   },
   "source": [
    "---\n",
    "## Exam vB, PROBLEM 4\n",
    "Maximum Points = 8"
   ]
  },
  {
   "cell_type": "markdown",
   "id": "395b774f",
   "metadata": {
    "deletable": false,
    "lx_assignment_number": "vB",
    "lx_assignment_type": "EXAM",
    "lx_assignment_type2print": "Exam",
    "lx_problem_cell_type": "PROBLEM",
    "lx_problem_number": "4",
    "lx_problem_points": "8"
   },
   "source": [
    "\n",
    "In this problem you will be working with a text file `a_sequence.txt`, found in the `data` folder. This contains a sequence of numbers that are observations of a Markov chain. The goal of this exercise is to analyze this sequence in different ways.\n",
    "\n",
    "1. [2p] Take the file `a_sequence.txt` and load it as a list of integers. Use bash or something to figure out how to parse the file.\n",
    "2. [2p] Define a Markov chain from this list of integers\n",
    "    1. What are the states?\n",
    "    2. How many states are there?\n",
    "3. [2p] Estimate the transition probability of going from state 42 to state 16?\n",
    "4. [2p] Find the transition matrix $P$ and compute the matrix power $P^{10} v$ where $v = (1,0,\\ldots,0)$."
   ]
  },
  {
   "cell_type": "code",
   "execution_count": null,
   "id": "6153c828",
   "metadata": {
    "deletable": false,
    "lx_assignment_number": "vB",
    "lx_assignment_type": "EXAM",
    "lx_assignment_type2print": "Exam",
    "lx_problem_cell_type": "PROBLEM",
    "lx_problem_number": "4",
    "lx_problem_points": "8"
   },
   "outputs": [],
   "source": [
    "\n",
    "# Read the file a_sequence.txt and load it as a list of integers. \n",
    "# Put your result in the variable \"numbers\"\n",
    "\n",
    "numbers = XXX"
   ]
  },
  {
   "cell_type": "code",
   "execution_count": null,
   "id": "df7724d4",
   "metadata": {
    "deletable": false,
    "lx_assignment_number": "vB",
    "lx_assignment_type": "EXAM",
    "lx_assignment_type2print": "Exam",
    "lx_problem_cell_type": "PROBLEM",
    "lx_problem_number": "4",
    "lx_problem_points": "8"
   },
   "outputs": [],
   "source": [
    "\n",
    "# Construct a Markov chain of this list of integers, that is. \n",
    "# EXPLAIN in text what are the states are and what \n",
    "# the transition probabilities mean.\n",
    "\n",
    "#---------Put your explanation between the lines-------------\n",
    "\n",
    "#------------------------------------------------------------"
   ]
  },
  {
   "cell_type": "code",
   "execution_count": null,
   "id": "4c06adc8",
   "metadata": {
    "deletable": false,
    "lx_assignment_number": "vB",
    "lx_assignment_type": "EXAM",
    "lx_assignment_type2print": "Exam",
    "lx_problem_cell_type": "PROBLEM",
    "lx_problem_number": "4",
    "lx_problem_points": "8"
   },
   "outputs": [],
   "source": [
    "# put the number of states in the variable n_states\n",
    "\n",
    "n_states = XXX\n",
    "\n",
    "# Now fill in the states, stored as a sorted list of integers\n",
    "states = XXX"
   ]
  },
  {
   "cell_type": "code",
   "execution_count": null,
   "id": "bdff38d7",
   "metadata": {
    "deletable": false,
    "lx_assignment_number": "vB",
    "lx_assignment_type": "EXAM",
    "lx_assignment_type2print": "Exam",
    "lx_problem_cell_type": "PROBLEM",
    "lx_problem_number": "4",
    "lx_problem_points": "8"
   },
   "outputs": [],
   "source": [
    "# Estimate the transition probability of going from $42$ to $16$. \n",
    "# You can use the below function if you want"
   ]
  },
  {
   "cell_type": "code",
   "execution_count": null,
   "id": "cb2729a1",
   "metadata": {
    "deletable": false,
    "lx_assignment_number": "vB",
    "lx_assignment_type": "EXAM",
    "lx_assignment_type2print": "Exam",
    "lx_problem_cell_type": "PROBLEM",
    "lx_problem_number": "4",
    "lx_problem_points": "8"
   },
   "outputs": [],
   "source": [
    "def makeFreqDict(myDataSeq, one = int(1)):\n",
    "    '''Make a frequency mapping out of a sequence of data - list, array, str.\n",
    "\n",
    "    Param myDataList, a list of data.\n",
    "    Return a dictionary mapping each unique data value to its frequency count.'''\n",
    "\n",
    "    freqDict = {} # start with an empty dictionary\n",
    "\n",
    "    for res in myDataSeq:\n",
    "\n",
    "        if res in freqDict: # the data value already exists as a key\n",
    "                freqDict[res] = freqDict[res] + one #int(1) # add 1 to the count\n",
    "        else: # the data value does not exist as a key value\n",
    "            # add a new key-value pair for this new data value, frequency 1\n",
    "            freqDict[res] = one\n",
    "\n",
    "    return freqDict # return the dictionary created"
   ]
  },
  {
   "cell_type": "code",
   "execution_count": null,
   "id": "f16b876f",
   "metadata": {
    "deletable": false,
    "lx_assignment_number": "vB",
    "lx_assignment_type": "EXAM",
    "lx_assignment_type2print": "Exam",
    "lx_problem_cell_type": "PROBLEM",
    "lx_problem_number": "4",
    "lx_problem_points": "8"
   },
   "outputs": [],
   "source": [
    "# Put your answer here for the transition probability\n",
    "\n",
    "transition_probability = XXX"
   ]
  },
  {
   "cell_type": "code",
   "execution_count": null,
   "id": "8e025a19",
   "metadata": {
    "deletable": false,
    "lx_assignment_number": "vB",
    "lx_assignment_type": "EXAM",
    "lx_assignment_type2print": "Exam",
    "lx_problem_cell_type": "PROBLEM",
    "lx_problem_number": "4",
    "lx_problem_points": "8"
   },
   "outputs": [],
   "source": [
    "# Fill in the transition matrix P as a numpy array of \n",
    "# shape (n_states x n_states)\n",
    "# Make sure it is a transition matrix by checking the column sum\n",
    "P =XXX\n",
    "\n",
    "# If our initial vector is\n",
    "v = np.zeros(n_states)\n",
    "v[0] = 1\n",
    "\n",
    "# What is P^10 v\n",
    "steady_state_v = XXX"
   ]
  },
  {
   "cell_type": "markdown",
   "id": "ac798d80",
   "metadata": {
    "deletable": false,
    "lx_assignment_number": "vB",
    "lx_assignment_type": "EXAM",
    "lx_assignment_type2print": "Exam",
    "lx_problem_cell_type": "PROBLEM",
    "lx_problem_number": "5",
    "lx_problem_points": "8"
   },
   "source": [
    "---\n",
    "## Exam vB, PROBLEM 5\n",
    "Maximum Points = 8"
   ]
  },
  {
   "cell_type": "markdown",
   "id": "15411b17",
   "metadata": {
    "deletable": false,
    "lx_assignment_number": "vB",
    "lx_assignment_type": "EXAM",
    "lx_assignment_type2print": "Exam",
    "lx_problem_cell_type": "PROBLEM",
    "lx_problem_number": "5",
    "lx_problem_points": "8"
   },
   "source": [
    "\n",
    "## SMS spam filtering [8p]\n",
    "\n",
    "In the following problem we will explore SMS spam texts. The dataset is the `SMS Spam Collection Dataset` and we have provided for you a way to load the data. If you run the appropriate cell below, the result will be in the `spam_no_spam` variable. The result is a `list` of `tuples` with the first position in the tuple being the SMS text and the second being a flag `0 = not spam` and `1 = spam`.\n",
    "\n",
    "1. [3p] Let $X$ be the random variable that represents each SMS text (an entry in the list), and let $Y$ represent whether text is spam or not i.e. $Y \\in \\{0,1\\}$. Thus $\\mathbb{P}(Y = 1)$ is the probability that we get a spam. The goal is to estimate:\n",
    "$$\n",
    "    \\mathbb{P}(Y = 1 | \\text{\"free\" or \"prize\" is in } X) \\enspace .\n",
    "$$\n",
    "That is, the probability that the SMS is spam given that \"free\" or \"prize\" occurs in the SMS. (This is precision)\n",
    "Hint: it is good to remove the upper/lower case of words so that we can also find \"Free\" and \"Prize\"; this can be done with `text.lower()` if `text` a string.\n",
    "2. [3p] Estimate the probability that the word \"free\" or \"prize\" is in the text given that it is spam. (This is recall) I.e. estimate\n",
    "$$\n",
    "    \\mathbb{P}(\\text{\"free\" or \"prize\" is in } X \\mid Y = 1) \\enspace .\n",
    "$$\n",
    "3. [2p] Provide a \"90\\%\" interval of confidence around the true probability from **part 1**. I.e. use the Hoeffding inequality to obtain for your estimate $\\hat P$. Find $l > 0$ such that the following holds:\n",
    "$$\n",
    "    \\mathbb{P}(\\hat P - l \\leq \\mathbb{E}[\\hat P] \\leq \\hat P + l) \\geq 0.9 \\enspace .\n",
    "$$"
   ]
  },
  {
   "cell_type": "code",
   "execution_count": null,
   "id": "3ad16ee3",
   "metadata": {
    "deletable": false,
    "lx_assignment_number": "vB",
    "lx_assignment_type": "EXAM",
    "lx_assignment_type2print": "Exam",
    "lx_problem_cell_type": "PROBLEM",
    "lx_problem_number": "5",
    "lx_problem_points": "8"
   },
   "outputs": [],
   "source": [
    "\n",
    "# Run this cell to get the SMS text data\n",
    "from exam_extras import load_sms\n",
    "spam_no_spam = load_sms()"
   ]
  },
  {
   "cell_type": "code",
   "execution_count": null,
   "id": "25454a40",
   "metadata": {
    "deletable": false,
    "lx_assignment_number": "vB",
    "lx_assignment_type": "EXAM",
    "lx_assignment_type2print": "Exam",
    "lx_problem_cell_type": "PROBLEM",
    "lx_problem_number": "5",
    "lx_problem_points": "8"
   },
   "outputs": [],
   "source": [
    "\n",
    "# fill in the estimate for part 1 here (should be a number between 0 and 1)\n",
    "problem5_hatP = XXX"
   ]
  },
  {
   "cell_type": "code",
   "execution_count": null,
   "id": "e9b2aa45",
   "metadata": {
    "deletable": false,
    "lx_assignment_number": "vB",
    "lx_assignment_type": "EXAM",
    "lx_assignment_type2print": "Exam",
    "lx_problem_cell_type": "PROBLEM",
    "lx_problem_number": "5",
    "lx_problem_points": "8"
   },
   "outputs": [],
   "source": [
    "\n",
    "# fill in the estimate for hatP for the double free question in part 2 here (should be a number between 0 and 1)\n",
    "problem5_hatP2 = XXX"
   ]
  },
  {
   "cell_type": "code",
   "execution_count": null,
   "id": "7b097607",
   "metadata": {
    "deletable": false,
    "lx_assignment_number": "vB",
    "lx_assignment_type": "EXAM",
    "lx_assignment_type2print": "Exam",
    "lx_problem_cell_type": "PROBLEM",
    "lx_problem_number": "5",
    "lx_problem_points": "8"
   },
   "outputs": [],
   "source": [
    "\n",
    "# fill in the calculated l from part 3 here\n",
    "problem5_l = XXX"
   ]
  }
 ],
 "metadata": {
  "kernelspec": {
   "display_name": "DS",
   "language": "python",
   "name": "python3"
  },
  "language_info": {
   "codemirror_mode": {
    "name": "ipython",
    "version": 3
   },
   "file_extension": ".py",
   "mimetype": "text/x-python",
   "name": "python",
   "nbconvert_exporter": "python",
   "pygments_lexer": "ipython3",
   "version": "3.10.8"
  },
  "lx_assignment_number": "vB",
  "lx_course_instance": "2021",
  "lx_course_name": "Introduction to Data Science: A Comp-Math-Stat Approach",
  "lx_course_number": "1MS041"
 },
 "nbformat": 4,
 "nbformat_minor": 5
}

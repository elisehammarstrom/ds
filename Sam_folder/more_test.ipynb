{
 "cells": [
  {
   "cell_type": "code",
   "execution_count": 2,
   "id": "abb6af2a",
   "metadata": {},
   "outputs": [],
   "source": [
    "import numpy as np\n",
    "\n",
    "def last_digits(x, digits = 1, mod=32):\n",
    "    x = bin(x%mod)\n",
    "    x = (x[2:]).zfill(int(np.ceil(np.log2(mod))))\n",
    "    return x[-digits:]"
   ]
  },
  {
   "cell_type": "code",
   "execution_count": 39,
   "id": "536305b0",
   "metadata": {
    "scrolled": true
   },
   "outputs": [
    {
     "name": "stdout",
     "output_type": "stream",
     "text": [
      "Step 1 (insert 2369):\n",
      "{'1': [2369]}\n",
      "global depth: 1\n",
      "\n",
      "Step 2 (insert 3760):\n",
      "{'0': [3760], '1': [2369]}\n",
      "global depth: 1\n",
      "\n",
      "Step 3 (insert 4692):\n",
      "{'0': [3760, 4692], '1': [2369]}\n",
      "global depth: 1\n",
      "\n",
      "Step 4 (insert 4871):\n",
      "{'0': [3760, 4692], '1': [2369, 4871]}\n",
      "global depth: 1\n",
      "\n",
      "Step 5 (insert 5659):\n",
      "{'00': [3760, 4692], '01': [2369], '11': [4871, 5659]}\n",
      "global depth: 2\n",
      "\n",
      "Step 6 (insert 1821):\n",
      "{'00': [3760, 4692], '01': [2369, 1821], '11': [4871, 5659]}\n",
      "global depth: 2\n",
      "\n",
      "Step 7 (insert 1074):\n",
      "{'00': [3760, 4692], '01': [2369, 1821], '10': [1074], '11': [4871, 5659]}\n",
      "global depth: 2\n",
      "\n",
      "\n",
      "\n",
      "\n",
      "\n",
      "\n",
      "\n",
      "Step 8 (insert 7115):\n",
      "{'00': [3760, 4692], '01': [2369, 1821], '010': [1074], '011': [5659, 7115], '111': [4871]}\n",
      "global depth: 3\n",
      "\n",
      "Step 9 (insert 1620):\n",
      "{'00': [3760, 4692], '01': [2369, 1821], '010': [1074], '011': [5659, 7115], '100': [1620], '111': [4871]}\n",
      "global depth: 3\n",
      "\n",
      "Step 10 (insert 2428):\n",
      "{'00': [3760, 4692], '01': [2369, 1821], '010': [1074], '011': [5659, 7115], '100': [1620, 2428], '111': [4871]}\n",
      "global depth: 3\n",
      "\n",
      "Step 11 (insert 3943):\n",
      "{'00': [3760, 4692], '01': [2369, 1821], '010': [1074], '011': [5659, 7115], '100': [1620, 2428], '111': [4871, 3943]}\n",
      "global depth: 3\n",
      "\n",
      "Step 12 (insert 4750):\n",
      "{'00': [3760, 4692], '01': [2369, 1821], '010': [1074], '011': [5659, 7115], '100': [1620, 2428], '110': [4750], '111': [4871, 3943]}\n",
      "global depth: 3\n",
      "\n",
      "\n",
      "\n",
      "\n",
      "Step 13 (insert 6975):\n",
      "{'00': [3760, 4692], '0010': [1074], '01': [2369, 1821], '0111': [4871, 3943], '100': [1620, 2428], '1011': [5659, 7115], '1110': [4750], '1111': [6975]}\n",
      "global depth: 4\n",
      "\n",
      "Step 14 (insert 4981):\n",
      "{'00': [3760, 4692], '0010': [1074], '01': [2369, 1821], '0101': [4981], '0111': [4871, 3943], '100': [1620, 2428], '1011': [5659, 7115], '1110': [4750], '1111': [6975]}\n",
      "global depth: 4\n",
      "\n",
      "Step 15 (insert 9208):\n",
      "{'00': [3760, 4692], '0010': [1074], '01': [2369, 1821], '0101': [4981], '0111': [4871, 3943], '100': [1620, 2428], '1000': [9208], '1011': [5659, 7115], '1110': [4750], '1111': [6975]}\n",
      "global depth: 4\n",
      "\n"
     ]
    }
   ],
   "source": [
    "L = [2369, 3760, 4692, 4871, 5659, 1821, 1074, 7115, 1620, 2428, 3943, 4750, 6975, 4981, 9208]\n",
    "D = {}\n",
    "global_depth = 1\n",
    "for i in L:\n",
    "    for x in L[:L.index(i)+1]:\n",
    "        if True not in [x in i for i in D.values()]:\n",
    "            if last_digits(x, global_depth) not in D:\n",
    "                D[last_digits(x, global_depth)] = [x]\n",
    "            elif x not in D[last_digits(x, global_depth)] and len(D[last_digits(x, global_depth)]) < 2:\n",
    "                D[last_digits(x, global_depth)].append(x)\n",
    "\n",
    "            elif x not in D[last_digits(x, global_depth)]: \n",
    "                global_depth += 1\n",
    "                D[last_digits(x, global_depth)] = []\n",
    "                for y in L[:L.index(i)+1]:\n",
    "                    if last_digits(y, global_depth-1) in D:\n",
    "                        D[last_digits(y, global_depth)] = D.pop(last_digits(y, global_depth-1))\n",
    "\n",
    "                    if last_digits(y, global_depth-1) == last_digits(x, global_depth-1):\n",
    "                        for key in D[last_digits(y, global_depth)]:\n",
    "                            if last_digits(key, global_depth) != last_digits(y, global_depth):\n",
    "                                D[last_digits(x, global_depth)].append(key)\n",
    "                                D[last_digits(y, global_depth)].remove(key)\n",
    "                D[last_digits(x, global_depth)].append(x)\n",
    "                    \n",
    "    l = list(D.keys())\n",
    "    for key in l:\n",
    "        length = len(key)\n",
    "        if last_digits(D[key][0], length) != last_digits(D[key][-1], length):\n",
    "            D[key[1:]] = D.pop(key)\n",
    "            \n",
    "    D = dict(sorted(D.items()))\n",
    "    print(f'Step {L.index(i)+1} (insert {i}):\\n{D}')\n",
    "    print(f'global depth: {global_depth}')\n",
    "    print()"
   ]
  },
  {
   "cell_type": "code",
   "execution_count": 38,
   "id": "4befa5fb",
   "metadata": {},
   "outputs": [
    {
     "data": {
      "text/plain": [
       "'0b10100'"
      ]
     },
     "execution_count": 38,
     "metadata": {},
     "output_type": "execute_result"
    }
   ],
   "source": [
    "x = 4692\n",
    "x %= 32\n",
    "bin(x)"
   ]
  },
  {
   "cell_type": "code",
   "execution_count": 20,
   "id": "07c2b4f6",
   "metadata": {},
   "outputs": [
    {
     "name": "stdout",
     "output_type": "stream",
     "text": [
      "2\n",
      "8\n"
     ]
    }
   ],
   "source": [
    "D = {'1': 2, '4': 8}\n",
    "for keys in D.keys():\n",
    "    print(D[keys])"
   ]
  }
 ],
 "metadata": {
  "kernelspec": {
   "display_name": "Python 3 (ipykernel)",
   "language": "python",
   "name": "python3"
  },
  "language_info": {
   "codemirror_mode": {
    "name": "ipython",
    "version": 3
   },
   "file_extension": ".py",
   "mimetype": "text/x-python",
   "name": "python",
   "nbconvert_exporter": "python",
   "pygments_lexer": "ipython3",
   "version": "3.9.13"
  }
 },
 "nbformat": 4,
 "nbformat_minor": 5
}
